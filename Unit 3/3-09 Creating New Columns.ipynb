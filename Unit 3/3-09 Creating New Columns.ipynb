{
 "cells": [
  {
   "cell_type": "markdown",
   "metadata": {},
   "source": [
    "# Creating New Columns"
   ]
  },
  {
   "cell_type": "markdown",
   "metadata": {},
   "source": [
    "## Learning Objectives"
   ]
  },
  {
   "cell_type": "markdown",
   "metadata": {},
   "source": [
    "<div style=\"border: 1px solid black; padding: 10px; background-color: #EDEDED;\">\n",
    "    <ul>\n",
    "        <li>Create a new column in a Pandas DataFrame that contains the same value in every row.</li>\n",
    "        <li>Create a new column in a Pandas DataFrame from a list of values.</li>\n",
    "        <li>Recognize that, when creating a column from a list, the list length must exactly equal the number of rows in the DataFrame.</li>\n",
    "        <li>Create a new column in a Pandas DataFrame that is a transformation of an existing column.</li>\n",
    "            <ul>\n",
    "                <li>Do this \"in place\", where you replace an existing column with new values.</li>\n",
    "                <li>Create a new column while preserving the original column.</li>\n",
    "                <li>Use Pandas built-in string methods.</li>\n",
    "                <li>Use arithmetic.</li>\n",
    "            </ul>\n",
    "        <li>Create a column as a combination of multiple existing columns. The existing columns can be numeric or string.</li>\n",
    "        <li>Use numpy.where to create a new column using if-then-else logic.</li>\n",
    "    </ul>\n",
    "</div>"
   ]
  },
  {
   "cell_type": "markdown",
   "metadata": {},
   "source": [
    "## Overview"
   ]
  },
  {
   "cell_type": "markdown",
   "metadata": {},
   "source": [
    "In this chapter, you will learn how to create new columns in a Pandas DataFrame. After you load, clean, and explore your data, creating new columns is typically the next step as it is a prerequisite for analysis. We will show you how to create a column from a single value (i.e. you want every value in the column to be the same thing). We will show you how to create a column from a list. We will then show you how to combine existing columns to create a new column. Sometimes, the combinations are mathematical. For example, you can compute return on assets as net income divided by total assets; you would want to do this for each row of the data. Sometimes, the combinations involve strings.\n",
    "\n",
    "The key idea in this chapter is that Pandas works with Series. Each column of a DataFrame is a series, so when you create a new column, you are creating a Series. Pandas makes it very easy to work with Series objects. That, in turn, makes it easy to create new columns."
   ]
  },
  {
   "cell_type": "markdown",
   "metadata": {},
   "source": [
    "## Imports and Loading the Data"
   ]
  },
  {
   "cell_type": "code",
   "execution_count": 1,
   "metadata": {},
   "outputs": [],
   "source": [
    "import numpy as np\n",
    "import pandas as pd"
   ]
  },
  {
   "cell_type": "markdown",
   "metadata": {},
   "source": [
    "In this chapter, we will work with accounting (balance sheet and income statement) and finance (stock price) data for Microsoft Corporation (NASDAQ: MSFT). The cell below loads the dataset that we have already cleaned for you. In the dataset there is one row per fiscal year. The data go back to 1986, the first year for which data is available for Microsoft. Following is a description of the columns in the data set.\n",
    "\n",
    "| Column | Meaning |\n",
    "|:---|---|\n",
    "| Fiscal Year | The fiscal year for the row of data. |\n",
    "| Assets - Total | Total assets as reported on Microsoft's balance sheet at the close of the fiscal year. In millions. |\n",
    "| Common Equity | Common stockholders' equity as reported on Microsoft's balance sheet at the close of the fiscal year. In millions. |\n",
    "| Income Before Extraordinary Items | Income before extraordinary items as reported on Microsoft's income statement at the close of the fiscal year. In millions. |\n",
    "| Net Income | Net Income as reported on Microsoft's income statement at the close of the fiscal year. In millions. |\n",
    "| Adjusted Price Close - Fiscal | The stock price as reported on Yahoo! Finance. The price is adjusted for stock splits. |\n",
    "| Address | Microsoft's street address |\n",
    "| ZIP Code | Microsoft's ZIP (postal) code |\n",
    "| City | The city in which Microsoft's headquarters is located. |\n",
    "| State | The state in which Microsoft's headquarters is located. |"
   ]
  },
  {
   "cell_type": "code",
   "execution_count": 2,
   "metadata": {},
   "outputs": [
    {
     "data": {
      "text/html": [
       "<div>\n",
       "<style scoped>\n",
       "    .dataframe tbody tr th:only-of-type {\n",
       "        vertical-align: middle;\n",
       "    }\n",
       "\n",
       "    .dataframe tbody tr th {\n",
       "        vertical-align: top;\n",
       "    }\n",
       "\n",
       "    .dataframe thead th {\n",
       "        text-align: right;\n",
       "    }\n",
       "</style>\n",
       "<table border=\"1\" class=\"dataframe\">\n",
       "  <thead>\n",
       "    <tr style=\"text-align: right;\">\n",
       "      <th></th>\n",
       "      <th>Fiscal Year</th>\n",
       "      <th>Assets - Total</th>\n",
       "      <th>Common Equity</th>\n",
       "      <th>Net Income</th>\n",
       "      <th>Adjusted Price Close - Fiscal</th>\n",
       "      <th>Address</th>\n",
       "      <th>ZIP Code</th>\n",
       "      <th>City</th>\n",
       "      <th>State</th>\n",
       "    </tr>\n",
       "  </thead>\n",
       "  <tbody>\n",
       "    <tr>\n",
       "      <th>0</th>\n",
       "      <td>1986</td>\n",
       "      <td>170.739</td>\n",
       "      <td>139.332</td>\n",
       "      <td>39.254</td>\n",
       "      <td>0.068926</td>\n",
       "      <td>One Microsoft Way</td>\n",
       "      <td>98052</td>\n",
       "      <td>Redmond</td>\n",
       "      <td>wa</td>\n",
       "    </tr>\n",
       "    <tr>\n",
       "      <th>1</th>\n",
       "      <td>1987</td>\n",
       "      <td>287.754</td>\n",
       "      <td>239.105</td>\n",
       "      <td>71.878</td>\n",
       "      <td>0.228631</td>\n",
       "      <td>One Microsoft Way</td>\n",
       "      <td>98052</td>\n",
       "      <td>Redmond</td>\n",
       "      <td>wa</td>\n",
       "    </tr>\n",
       "    <tr>\n",
       "      <th>2</th>\n",
       "      <td>1988</td>\n",
       "      <td>493.019</td>\n",
       "      <td>375.498</td>\n",
       "      <td>123.908</td>\n",
       "      <td>0.300359</td>\n",
       "      <td>One Microsoft Way</td>\n",
       "      <td>98052</td>\n",
       "      <td>Redmond</td>\n",
       "      <td>wa</td>\n",
       "    </tr>\n",
       "    <tr>\n",
       "      <th>3</th>\n",
       "      <td>1989</td>\n",
       "      <td>720.598</td>\n",
       "      <td>561.780</td>\n",
       "      <td>170.538</td>\n",
       "      <td>0.237597</td>\n",
       "      <td>One Microsoft Way</td>\n",
       "      <td>98052</td>\n",
       "      <td>Redmond</td>\n",
       "      <td>wa</td>\n",
       "    </tr>\n",
       "    <tr>\n",
       "      <th>4</th>\n",
       "      <td>1990</td>\n",
       "      <td>1105.349</td>\n",
       "      <td>918.563</td>\n",
       "      <td>279.186</td>\n",
       "      <td>0.681410</td>\n",
       "      <td>One Microsoft Way</td>\n",
       "      <td>98052</td>\n",
       "      <td>Redmond</td>\n",
       "      <td>wa</td>\n",
       "    </tr>\n",
       "  </tbody>\n",
       "</table>\n",
       "</div>"
      ],
      "text/plain": [
       "   Fiscal Year  Assets - Total  Common Equity  Net Income  \\\n",
       "0         1986         170.739        139.332      39.254   \n",
       "1         1987         287.754        239.105      71.878   \n",
       "2         1988         493.019        375.498     123.908   \n",
       "3         1989         720.598        561.780     170.538   \n",
       "4         1990        1105.349        918.563     279.186   \n",
       "\n",
       "   Adjusted Price Close - Fiscal            Address  ZIP Code        City  \\\n",
       "0                       0.068926  One Microsoft Way     98052    Redmond    \n",
       "1                       0.228631  One Microsoft Way     98052    Redmond    \n",
       "2                       0.300359  One Microsoft Way     98052    Redmond    \n",
       "3                       0.237597  One Microsoft Way     98052    Redmond    \n",
       "4                       0.681410  One Microsoft Way     98052    Redmond    \n",
       "\n",
       "  State  \n",
       "0    wa  \n",
       "1    wa  \n",
       "2    wa  \n",
       "3    wa  \n",
       "4    wa  "
      ]
     },
     "execution_count": 2,
     "metadata": {},
     "output_type": "execute_result"
    }
   ],
   "source": [
    "dfMSFT = pd.read_csv('data/MSFT.csv')\n",
    "dfMSFT.head()"
   ]
  },
  {
   "cell_type": "code",
   "execution_count": 3,
   "metadata": {},
   "outputs": [
    {
     "data": {
      "text/plain": [
       "(34, 9)"
      ]
     },
     "execution_count": 3,
     "metadata": {},
     "output_type": "execute_result"
    }
   ],
   "source": [
    "dfMSFT.shape"
   ]
  },
  {
   "cell_type": "markdown",
   "metadata": {},
   "source": [
    "### A Little Data Exploration (I couldn't resist)"
   ]
  },
  {
   "cell_type": "markdown",
   "metadata": {},
   "source": [
    "Run the cells below. They will generate graphs of Microsoft's net income and stock price over time. As you can see, Microsoft has done really well, especially in the last few years! "
   ]
  },
  {
   "cell_type": "code",
   "execution_count": 4,
   "metadata": {},
   "outputs": [
    {
     "data": {
      "text/html": [
       "    <style>\n",
       "        .bk-notebook-logo {\n",
       "            display: block;\n",
       "            width: 20px;\n",
       "            height: 20px;\n",
       "            background-image: url(data:image/png;base64,iVBORw0KGgoAAAANSUhEUgAAABQAAAAUCAYAAACNiR0NAAAABHNCSVQICAgIfAhkiAAAAAlwSFlzAAALEgAACxIB0t1+/AAAABx0RVh0U29mdHdhcmUAQWRvYmUgRmlyZXdvcmtzIENTNui8sowAAAOkSURBVDiNjZRtaJVlGMd/1/08zzln5zjP1LWcU9N0NkN8m2CYjpgQYQXqSs0I84OLIC0hkEKoPtiH3gmKoiJDU7QpLgoLjLIQCpEsNJ1vqUOdO7ppbuec5+V+rj4ctwzd8IIbbi6u+8f1539dt3A78eXC7QizUF7gyV1fD1Yqg4JWz84yffhm0qkFqBogB9rM8tZdtwVsPUhWhGcFJngGeWrPzHm5oaMmkfEg1usvLFyc8jLRqDOMru7AyC8saQr7GG7f5fvDeH7Ej8CM66nIF+8yngt6HWaKh7k49Soy9nXurCi1o3qUbS3zWfrYeQDTB/Qj6kX6Ybhw4B+bOYoLKCC9H3Nu/leUTZ1JdRWkkn2ldcCamzrcf47KKXdAJllSlxAOkRgyHsGC/zRday5Qld9DyoM4/q/rUoy/CXh3jzOu3bHUVZeU+DEn8FInkPBFlu3+nW3Nw0mk6vCDiWg8CeJaxEwuHS3+z5RgY+YBR6V1Z1nxSOfoaPa4LASWxxdNp+VWTk7+4vzaou8v8PN+xo+KY2xsw6une2frhw05CTYOmQvsEhjhWjn0bmXPjpE1+kplmmkP3suftwTubK9Vq22qKmrBhpY4jvd5afdRA3wGjFAgcnTK2s4hY0/GPNIb0nErGMCRxWOOX64Z8RAC4oCXdklmEvcL8o0BfkNK4lUg9HTl+oPlQxdNo3Mg4Nv175e/1LDGzZen30MEjRUtmXSfiTVu1kK8W4txyV6BMKlbgk3lMwYCiusNy9fVfvvwMxv8Ynl6vxoByANLTWplvuj/nF9m2+PDtt1eiHPBr1oIfhCChQMBw6Aw0UulqTKZdfVvfG7VcfIqLG9bcldL/+pdWTLxLUy8Qq38heUIjh4XlzZxzQm19lLFlr8vdQ97rjZVOLf8nclzckbcD4wxXMidpX30sFd37Fv/GtwwhzhxGVAprjbg0gCAEeIgwCZyTV2Z1REEW8O4py0wsjeloKoMr6iCY6dP92H6Vw/oTyICIthibxjm/DfN9lVz8IqtqKYLUXfoKVMVQVVJOElGjrnnUt9T9wbgp8AyYKaGlqingHZU/uG2NTZSVqwHQTWkx9hxjkpWDaCg6Ckj5qebgBVbT3V3NNXMSiWSDdGV3hrtzla7J+duwPOToIg42ChPQOQjspnSlp1V+Gjdged7+8UN5CRAV7a5EdFNwCjEaBR27b3W890TE7g24NAP/mMDXRWrGoFPQI9ls/MWO2dWFAar/xcOIImbbpA3zgAAAABJRU5ErkJggg==);\n",
       "        }\n",
       "    </style>\n",
       "    <div>\n",
       "        <a href=\"https://bokeh.org\" target=\"_blank\" class=\"bk-notebook-logo\"></a>\n",
       "        <span id=\"a823c4e9-cd84-4703-9804-908a0f93c731\">Loading BokehJS ...</span>\n",
       "    </div>\n"
      ]
     },
     "metadata": {},
     "output_type": "display_data"
    },
    {
     "data": {
      "application/javascript": "'use strict';\n(function(root) {\n  function now() {\n    return new Date();\n  }\n\n  const force = true;\n\n  if (typeof root._bokeh_onload_callbacks === \"undefined\" || force === true) {\n    root._bokeh_onload_callbacks = [];\n    root._bokeh_is_loading = undefined;\n  }\n\nconst JS_MIME_TYPE = 'application/javascript';\n  const HTML_MIME_TYPE = 'text/html';\n  const EXEC_MIME_TYPE = 'application/vnd.bokehjs_exec.v0+json';\n  const CLASS_NAME = 'output_bokeh rendered_html';\n\n  /**\n   * Render data to the DOM node\n   */\n  function render(props, node) {\n    const script = document.createElement(\"script\");\n    node.appendChild(script);\n  }\n\n  /**\n   * Handle when an output is cleared or removed\n   */\n  function handleClearOutput(event, handle) {\n    function drop(id) {\n      const view = Bokeh.index.get_by_id(id)\n      if (view != null) {\n        view.model.document.clear()\n        Bokeh.index.delete(view)\n      }\n    }\n\n    const cell = handle.cell;\n\n    const id = cell.output_area._bokeh_element_id;\n    const server_id = cell.output_area._bokeh_server_id;\n\n    // Clean up Bokeh references\n    if (id != null) {\n      drop(id)\n    }\n\n    if (server_id !== undefined) {\n      // Clean up Bokeh references\n      const cmd_clean = \"from bokeh.io.state import curstate; print(curstate().uuid_to_server['\" + server_id + \"'].get_sessions()[0].document.roots[0]._id)\";\n      cell.notebook.kernel.execute(cmd_clean, {\n        iopub: {\n          output: function(msg) {\n            const id = msg.content.text.trim()\n            drop(id)\n          }\n        }\n      });\n      // Destroy server and session\n      const cmd_destroy = \"import bokeh.io.notebook as ion; ion.destroy_server('\" + server_id + \"')\";\n      cell.notebook.kernel.execute(cmd_destroy);\n    }\n  }\n\n  /**\n   * Handle when a new output is added\n   */\n  function handleAddOutput(event, handle) {\n    const output_area = handle.output_area;\n    const output = handle.output;\n\n    // limit handleAddOutput to display_data with EXEC_MIME_TYPE content only\n    if ((output.output_type != \"display_data\") || (!Object.prototype.hasOwnProperty.call(output.data, EXEC_MIME_TYPE))) {\n      return\n    }\n\n    const toinsert = output_area.element.find(\".\" + CLASS_NAME.split(' ')[0]);\n\n    if (output.metadata[EXEC_MIME_TYPE][\"id\"] !== undefined) {\n      toinsert[toinsert.length - 1].firstChild.textContent = output.data[JS_MIME_TYPE];\n      // store reference to embed id on output_area\n      output_area._bokeh_element_id = output.metadata[EXEC_MIME_TYPE][\"id\"];\n    }\n    if (output.metadata[EXEC_MIME_TYPE][\"server_id\"] !== undefined) {\n      const bk_div = document.createElement(\"div\");\n      bk_div.innerHTML = output.data[HTML_MIME_TYPE];\n      const script_attrs = bk_div.children[0].attributes;\n      for (let i = 0; i < script_attrs.length; i++) {\n        toinsert[toinsert.length - 1].firstChild.setAttribute(script_attrs[i].name, script_attrs[i].value);\n        toinsert[toinsert.length - 1].firstChild.textContent = bk_div.children[0].textContent\n      }\n      // store reference to server id on output_area\n      output_area._bokeh_server_id = output.metadata[EXEC_MIME_TYPE][\"server_id\"];\n    }\n  }\n\n  function register_renderer(events, OutputArea) {\n\n    function append_mime(data, metadata, element) {\n      // create a DOM node to render to\n      const toinsert = this.create_output_subarea(\n        metadata,\n        CLASS_NAME,\n        EXEC_MIME_TYPE\n      );\n      this.keyboard_manager.register_events(toinsert);\n      // Render to node\n      const props = {data: data, metadata: metadata[EXEC_MIME_TYPE]};\n      render(props, toinsert[toinsert.length - 1]);\n      element.append(toinsert);\n      return toinsert\n    }\n\n    /* Handle when an output is cleared or removed */\n    events.on('clear_output.CodeCell', handleClearOutput);\n    events.on('delete.Cell', handleClearOutput);\n\n    /* Handle when a new output is added */\n    events.on('output_added.OutputArea', handleAddOutput);\n\n    /**\n     * Register the mime type and append_mime function with output_area\n     */\n    OutputArea.prototype.register_mime_type(EXEC_MIME_TYPE, append_mime, {\n      /* Is output safe? */\n      safe: true,\n      /* Index of renderer in `output_area.display_order` */\n      index: 0\n    });\n  }\n\n  // register the mime type if in Jupyter Notebook environment and previously unregistered\n  if (root.Jupyter !== undefined) {\n    const events = require('base/js/events');\n    const OutputArea = require('notebook/js/outputarea').OutputArea;\n\n    if (OutputArea.prototype.mime_types().indexOf(EXEC_MIME_TYPE) == -1) {\n      register_renderer(events, OutputArea);\n    }\n  }\n  if (typeof (root._bokeh_timeout) === \"undefined\" || force === true) {\n    root._bokeh_timeout = Date.now() + 5000;\n    root._bokeh_failed_load = false;\n  }\n\n  const NB_LOAD_WARNING = {'data': {'text/html':\n     \"<div style='background-color: #fdd'>\\n\"+\n     \"<p>\\n\"+\n     \"BokehJS does not appear to have successfully loaded. If loading BokehJS from CDN, this \\n\"+\n     \"may be due to a slow or bad network connection. Possible fixes:\\n\"+\n     \"</p>\\n\"+\n     \"<ul>\\n\"+\n     \"<li>re-rerun `output_notebook()` to attempt to load from CDN again, or</li>\\n\"+\n     \"<li>use INLINE resources instead, as so:</li>\\n\"+\n     \"</ul>\\n\"+\n     \"<code>\\n\"+\n     \"from bokeh.resources import INLINE\\n\"+\n     \"output_notebook(resources=INLINE)\\n\"+\n     \"</code>\\n\"+\n     \"</div>\"}};\n\n  function display_loaded(error = null) {\n    const el = document.getElementById(\"a823c4e9-cd84-4703-9804-908a0f93c731\");\n    if (el != null) {\n      const html = (() => {\n        if (typeof root.Bokeh === \"undefined\") {\n          if (error == null) {\n            return \"BokehJS is loading ...\";\n          } else {\n            return \"BokehJS failed to load.\";\n          }\n        } else {\n          const prefix = `BokehJS ${root.Bokeh.version}`;\n          if (error == null) {\n            return `${prefix} successfully loaded.`;\n          } else {\n            return `${prefix} <b>encountered errors</b> while loading and may not function as expected.`;\n          }\n        }\n      })();\n      el.innerHTML = html;\n\n      if (error != null) {\n        const wrapper = document.createElement(\"div\");\n        wrapper.style.overflow = \"auto\";\n        wrapper.style.height = \"5em\";\n        wrapper.style.resize = \"vertical\";\n        const content = document.createElement(\"div\");\n        content.style.fontFamily = \"monospace\";\n        content.style.whiteSpace = \"pre-wrap\";\n        content.style.backgroundColor = \"rgb(255, 221, 221)\";\n        content.textContent = error.stack ?? error.toString();\n        wrapper.append(content);\n        el.append(wrapper);\n      }\n    } else if (Date.now() < root._bokeh_timeout) {\n      setTimeout(() => display_loaded(error), 100);\n    }\n  }\n\n  function run_callbacks() {\n    try {\n      root._bokeh_onload_callbacks.forEach(function(callback) {\n        if (callback != null)\n          callback();\n      });\n    } finally {\n      delete root._bokeh_onload_callbacks\n    }\n    console.debug(\"Bokeh: all callbacks have finished\");\n  }\n\n  function load_libs(css_urls, js_urls, callback) {\n    if (css_urls == null) css_urls = [];\n    if (js_urls == null) js_urls = [];\n\n    root._bokeh_onload_callbacks.push(callback);\n    if (root._bokeh_is_loading > 0) {\n      console.debug(\"Bokeh: BokehJS is being loaded, scheduling callback at\", now());\n      return null;\n    }\n    if (js_urls == null || js_urls.length === 0) {\n      run_callbacks();\n      return null;\n    }\n    console.debug(\"Bokeh: BokehJS not loaded, scheduling load and callback at\", now());\n    root._bokeh_is_loading = css_urls.length + js_urls.length;\n\n    function on_load() {\n      root._bokeh_is_loading--;\n      if (root._bokeh_is_loading === 0) {\n        console.debug(\"Bokeh: all BokehJS libraries/stylesheets loaded\");\n        run_callbacks()\n      }\n    }\n\n    function on_error(url) {\n      console.error(\"failed to load \" + url);\n    }\n\n    for (let i = 0; i < css_urls.length; i++) {\n      const url = css_urls[i];\n      const element = document.createElement(\"link\");\n      element.onload = on_load;\n      element.onerror = on_error.bind(null, url);\n      element.rel = \"stylesheet\";\n      element.type = \"text/css\";\n      element.href = url;\n      console.debug(\"Bokeh: injecting link tag for BokehJS stylesheet: \", url);\n      document.body.appendChild(element);\n    }\n\n    for (let i = 0; i < js_urls.length; i++) {\n      const url = js_urls[i];\n      const element = document.createElement('script');\n      element.onload = on_load;\n      element.onerror = on_error.bind(null, url);\n      element.async = false;\n      element.src = url;\n      console.debug(\"Bokeh: injecting script tag for BokehJS library: \", url);\n      document.head.appendChild(element);\n    }\n  };\n\n  function inject_raw_css(css) {\n    const element = document.createElement(\"style\");\n    element.appendChild(document.createTextNode(css));\n    document.body.appendChild(element);\n  }\n\n  const js_urls = [\"https://cdn.bokeh.org/bokeh/release/bokeh-3.4.2.min.js\", \"https://cdn.bokeh.org/bokeh/release/bokeh-gl-3.4.2.min.js\", \"https://cdn.bokeh.org/bokeh/release/bokeh-widgets-3.4.2.min.js\", \"https://cdn.bokeh.org/bokeh/release/bokeh-tables-3.4.2.min.js\", \"https://cdn.bokeh.org/bokeh/release/bokeh-mathjax-3.4.2.min.js\"];\n  const css_urls = [];\n\n  const inline_js = [    function(Bokeh) {\n      Bokeh.set_log_level(\"info\");\n    },\nfunction(Bokeh) {\n    }\n  ];\n\n  function run_inline_js() {\n    if (root.Bokeh !== undefined || force === true) {\n      try {\n            for (let i = 0; i < inline_js.length; i++) {\n      inline_js[i].call(root, root.Bokeh);\n    }\n\n      } catch (error) {display_loaded(error);throw error;\n      }if (force === true) {\n        display_loaded();\n      }} else if (Date.now() < root._bokeh_timeout) {\n      setTimeout(run_inline_js, 100);\n    } else if (!root._bokeh_failed_load) {\n      console.log(\"Bokeh: BokehJS failed to load within specified timeout.\");\n      root._bokeh_failed_load = true;\n    } else if (force !== true) {\n      const cell = $(document.getElementById(\"a823c4e9-cd84-4703-9804-908a0f93c731\")).parents('.cell').data().cell;\n      cell.output_area.append_execute_result(NB_LOAD_WARNING)\n    }\n  }\n\n  if (root._bokeh_is_loading === 0) {\n    console.debug(\"Bokeh: BokehJS loaded, going straight to plotting\");\n    run_inline_js();\n  } else {\n    load_libs(css_urls, js_urls, function() {\n      console.debug(\"Bokeh: BokehJS plotting callback run at\", now());\n      run_inline_js();\n    });\n  }\n}(window));",
      "application/vnd.bokehjs_load.v0+json": ""
     },
     "metadata": {},
     "output_type": "display_data"
    }
   ],
   "source": [
    "from bokeh.plotting import figure, show\n",
    "from bokeh.models import ColumnDataSource\n",
    "from bokeh.layouts import row\n",
    "from bokeh.io import output_notebook\n",
    "output_notebook()"
   ]
  },
  {
   "cell_type": "code",
   "execution_count": 5,
   "metadata": {},
   "outputs": [
    {
     "data": {
      "text/html": [
       "\n",
       "  <div id=\"e192d964-cca5-498d-bfee-f6df4cef60dc\" data-root-id=\"p1088\" style=\"display: contents;\"></div>\n"
      ]
     },
     "metadata": {},
     "output_type": "display_data"
    },
    {
     "data": {
      "application/javascript": "(function(root) {\n  function embed_document(root) {\n  const docs_json = {\"00894bc5-5f85-4793-a57e-1f727b6643f1\":{\"version\":\"3.4.2\",\"title\":\"Bokeh Application\",\"roots\":[{\"type\":\"object\",\"name\":\"Row\",\"id\":\"p1088\",\"attributes\":{\"children\":[{\"type\":\"object\",\"name\":\"Figure\",\"id\":\"p1004\",\"attributes\":{\"width\":400,\"height\":400,\"x_range\":{\"type\":\"object\",\"name\":\"DataRange1d\",\"id\":\"p1005\"},\"y_range\":{\"type\":\"object\",\"name\":\"DataRange1d\",\"id\":\"p1006\"},\"x_scale\":{\"type\":\"object\",\"name\":\"LinearScale\",\"id\":\"p1014\"},\"y_scale\":{\"type\":\"object\",\"name\":\"LinearScale\",\"id\":\"p1015\"},\"title\":{\"type\":\"object\",\"name\":\"Title\",\"id\":\"p1007\",\"attributes\":{\"text\":\"Net Income\"}},\"renderers\":[{\"type\":\"object\",\"name\":\"GlyphRenderer\",\"id\":\"p1043\",\"attributes\":{\"data_source\":{\"type\":\"object\",\"name\":\"ColumnDataSource\",\"id\":\"p1001\",\"attributes\":{\"selected\":{\"type\":\"object\",\"name\":\"Selection\",\"id\":\"p1002\",\"attributes\":{\"indices\":[],\"line_indices\":[]}},\"selection_policy\":{\"type\":\"object\",\"name\":\"UnionRenderers\",\"id\":\"p1003\"},\"data\":{\"type\":\"map\",\"entries\":[[\"index\",{\"type\":\"ndarray\",\"array\":{\"type\":\"bytes\",\"data\":\"AAAAAAEAAAACAAAAAwAAAAQAAAAFAAAABgAAAAcAAAAIAAAACQAAAAoAAAALAAAADAAAAA0AAAAOAAAADwAAABAAAAARAAAAEgAAABMAAAAUAAAAFQAAABYAAAAXAAAAGAAAABkAAAAaAAAAGwAAABwAAAAdAAAAHgAAAB8AAAAgAAAAIQAAAA==\"},\"shape\":[34],\"dtype\":\"int32\",\"order\":\"little\"}],[\"Fiscal Year\",{\"type\":\"ndarray\",\"array\":{\"type\":\"bytes\",\"data\":\"wgcAAMMHAADEBwAAxQcAAMYHAADHBwAAyAcAAMkHAADKBwAAywcAAMwHAADNBwAAzgcAAM8HAADQBwAA0QcAANIHAADTBwAA1AcAANUHAADWBwAA1wcAANgHAADZBwAA2gcAANsHAADcBwAA3QcAAN4HAADfBwAA4AcAAOEHAADiBwAA4wcAAA==\"},\"shape\":[34],\"dtype\":\"int32\",\"order\":\"little\"}],[\"Assets - Total\",{\"type\":\"ndarray\",\"array\":{\"type\":\"bytes\",\"data\":\"z/dT46VXZUDy0k1iEPxxQPyp8dJN0H5AEFg5tMiEhkA3iUFgZUWRQNv5fmq8sJlAkxgEVs6fpEAAAAAAALqtQAAAAAAA87RAAAAAAAAqvEAAAAAAgLbDQAAAAACAGcxAAAAAAEDV1UAAAAAAgCTiQAAAAADAdulAAAAAACDv7EAAAAAA4IPwQAAAAAAwbfNAAAAAAFCO9kAAAAAA8EnxQAAAAADQ/fBAAAAAAGDY7kAAAAAAkMXxQAAAAAAABPNAAAAAABAG9UAAAAAAAIr6QAAAAABwm/1AAAAAAPhiAUEAAAAAAAsFQQAAAAD4ggVBAAAAAPCkB0EAAAAA8G0NQQAAAAAAmQ9BAAAAAHB9EUE=\"},\"shape\":[34],\"dtype\":\"float64\",\"order\":\"little\"}],[\"Common Equity\",{\"type\":\"ndarray\",\"array\":{\"type\":\"bytes\",\"data\":\"tMh2vp9qYUCPwvUoXONtQIcW2c73d3dACtejcD2OgUAv3SQGgbSMQOf7qfFSG5VAI9v5fuohoUAAAAAAAFSpQAAAAAAAYrFAAAAAAADVtEAAAAAAAPy6QAAAAACAIsNAAAAAAICPzkAAAAAAgNDaQAAAAAAAM+RAAAAAACAX50AAAAAAgHrpQAAAAACAy+1AAAAAAJBE8kAAAAAAYH7nQAAAAAAAleNAAAAAAEBe3kAAAAAAwLfhQAAAAADAUONAAAAAAOCL5kAAAAAAYN/rQAAAAACwM/BAAAAAAABG80AAAAAAgOv1QAAAAAAwjfNAAAAAANCT8UAAAAAAoKzxQAAAAADgMfRAAAAAAKD7+EA=\"},\"shape\":[34],\"dtype\":\"float64\",\"order\":\"little\"}],[\"Net Income\",{\"type\":\"ndarray\",\"array\":{\"type\":\"bytes\",\"data\":\"jZduEoOgQ0DVeOkmMfhRQCcxCKwc+l5A8KfGSzdRZUDl0CLb+XJxQNnO91Pj63xAFK5H4XoghkAAAAAAAMiNQAAAAAAA6JFAAAAAAAC0lkAAAAAAACahQAAAAAAA/KpAAAAAAACKsUAAAAAAAGm+QAAAAACAZsJAAAAAAACyvEAAAAAAAJW+QAAAAACAhMNAAAAAAADov0AAAAAAAO/HQAAAAACAm8hAAAAAAIB4y0AAAAAAQETRQAAAAACAdMxAAAAAAABS0kAAAAAAgJvWQAAAAACAlNBAAAAAAMBZ1UAAAAAAgI7VQAAAAACA0MdAAAAAAIBn0EAAAAAAALXUQAAAAADALtBAAAAAAAAp40A=\"},\"shape\":[34],\"dtype\":\"float64\",\"order\":\"little\"}],[\"Adjusted Price Close - Fiscal\",{\"type\":\"ndarray\",\"array\":{\"type\":\"bytes\",\"data\":\"rRbYYyKlsT//Bu3Vx0PNP/vKg/QUOdM/3lhQGJRpzj8DWyVYHM7lP2nEzD6PUe0/TaPJxRiY9j+jA5Kwb2f8P/p9/+bFqQBAvt2SHLArDUClSSno9mITQK0zvi8uZSRAjX3JxoN9MUC3Xz5ZMRw9QElNu5hm0jlAH4E//PyPN0B9yjFZ3KcxQPyKNVzkmjBAVyWRfZCZMkAnwoanVzIyQDFcHQBxSzFA6dK/JJUtNkBrY+yElwA1QDHsMCb9lTJAYcQ+ARRXMkAyVpv/Vzk1QCAnTBjNpjlAxm00gLfYPUBE+BdBY4xCQGDNAYI5KERA3lomw/ECSEBaoN0hxZNQQDZWYp6VLVhA9Z81P36wYEA=\"},\"shape\":[34],\"dtype\":\"float64\",\"order\":\"little\"}],[\"Address\",{\"type\":\"ndarray\",\"array\":[\"One Microsoft Way\",\"One Microsoft Way\",\"One Microsoft Way\",\"One Microsoft Way\",\"One Microsoft Way\",\"One Microsoft Way\",\"One Microsoft Way\",\"One Microsoft Way\",\"One Microsoft Way\",\"One Microsoft Way\",\"One Microsoft Way\",\"One Microsoft Way\",\"One Microsoft Way\",\"One Microsoft Way\",\"One Microsoft Way\",\"One Microsoft Way\",\"One Microsoft Way\",\"One Microsoft Way\",\"One Microsoft Way\",\"One Microsoft Way\",\"One Microsoft Way\",\"One Microsoft Way\",\"One Microsoft Way\",\"One Microsoft Way\",\"One Microsoft Way\",\"One Microsoft Way\",\"One Microsoft Way\",\"One Microsoft Way\",\"One Microsoft Way\",\"One Microsoft Way\",\"One Microsoft Way\",\"One Microsoft Way\",\"One Microsoft Way\",\"One Microsoft Way\"],\"shape\":[34],\"dtype\":\"object\",\"order\":\"little\"}],[\"ZIP Code\",{\"type\":\"ndarray\",\"array\":{\"type\":\"bytes\",\"data\":\"BH8BAAR/AQAEfwEABH8BAAR/AQAEfwEABH8BAAR/AQAEfwEABH8BAAR/AQAEfwEABH8BAAR/AQAEfwEABH8BAAR/AQAEfwEABH8BAAR/AQAEfwEABH8BAAR/AQAEfwEABH8BAAR/AQAEfwEABH8BAAR/AQAEfwEABH8BAAR/AQAEfwEABH8BAA==\"},\"shape\":[34],\"dtype\":\"int32\",\"order\":\"little\"}],[\"City\",{\"type\":\"ndarray\",\"array\":[\"  Redmond \",\"  Redmond \",\"  Redmond \",\"  Redmond \",\"  Redmond \",\"  Redmond \",\"  Redmond \",\"  Redmond \",\"  Redmond \",\"  Redmond \",\"  Redmond \",\"  Redmond \",\"  Redmond \",\"  Redmond \",\"  Redmond \",\"  Redmond \",\"  Redmond \",\"  Redmond \",\"  Redmond \",\"  Redmond \",\"  Redmond \",\"  Redmond \",\"  Redmond \",\"  Redmond \",\"  Redmond \",\"  Redmond \",\"  Redmond \",\"  Redmond \",\"  Redmond \",\"  Redmond \",\"  Redmond \",\"  Redmond \",\"  Redmond \",\"  Redmond \"],\"shape\":[34],\"dtype\":\"object\",\"order\":\"little\"}],[\"State\",{\"type\":\"ndarray\",\"array\":[\"wa\",\"wa\",\"wa\",\"wa\",\"wa\",\"wa\",\"wa\",\"wa\",\"wa\",\"wa\",\"wa\",\"wa\",\"wa\",\"wa\",\"wa\",\"wa\",\"wa\",\"wa\",\"wa\",\"wa\",\"wa\",\"wa\",\"wa\",\"wa\",\"wa\",\"wa\",\"wa\",\"wa\",\"wa\",\"wa\",\"wa\",\"wa\",\"wa\",\"wa\"],\"shape\":[34],\"dtype\":\"object\",\"order\":\"little\"}]]}}},\"view\":{\"type\":\"object\",\"name\":\"CDSView\",\"id\":\"p1044\",\"attributes\":{\"filter\":{\"type\":\"object\",\"name\":\"AllIndices\",\"id\":\"p1045\"}}},\"glyph\":{\"type\":\"object\",\"name\":\"Line\",\"id\":\"p1040\",\"attributes\":{\"x\":{\"type\":\"field\",\"field\":\"Fiscal Year\"},\"y\":{\"type\":\"field\",\"field\":\"Net Income\"},\"line_color\":\"#1f77b4\"}},\"nonselection_glyph\":{\"type\":\"object\",\"name\":\"Line\",\"id\":\"p1041\",\"attributes\":{\"x\":{\"type\":\"field\",\"field\":\"Fiscal Year\"},\"y\":{\"type\":\"field\",\"field\":\"Net Income\"},\"line_color\":\"#1f77b4\",\"line_alpha\":0.1}},\"muted_glyph\":{\"type\":\"object\",\"name\":\"Line\",\"id\":\"p1042\",\"attributes\":{\"x\":{\"type\":\"field\",\"field\":\"Fiscal Year\"},\"y\":{\"type\":\"field\",\"field\":\"Net Income\"},\"line_color\":\"#1f77b4\",\"line_alpha\":0.2}}}}],\"toolbar\":{\"type\":\"object\",\"name\":\"Toolbar\",\"id\":\"p1013\",\"attributes\":{\"tools\":[{\"type\":\"object\",\"name\":\"PanTool\",\"id\":\"p1026\"},{\"type\":\"object\",\"name\":\"WheelZoomTool\",\"id\":\"p1027\",\"attributes\":{\"renderers\":\"auto\"}},{\"type\":\"object\",\"name\":\"BoxZoomTool\",\"id\":\"p1028\",\"attributes\":{\"overlay\":{\"type\":\"object\",\"name\":\"BoxAnnotation\",\"id\":\"p1029\",\"attributes\":{\"syncable\":false,\"level\":\"overlay\",\"visible\":false,\"left\":{\"type\":\"number\",\"value\":\"nan\"},\"right\":{\"type\":\"number\",\"value\":\"nan\"},\"top\":{\"type\":\"number\",\"value\":\"nan\"},\"bottom\":{\"type\":\"number\",\"value\":\"nan\"},\"left_units\":\"canvas\",\"right_units\":\"canvas\",\"top_units\":\"canvas\",\"bottom_units\":\"canvas\",\"line_color\":\"black\",\"line_alpha\":1.0,\"line_width\":2,\"line_dash\":[4,4],\"fill_color\":\"lightgrey\",\"fill_alpha\":0.5}}}},{\"type\":\"object\",\"name\":\"SaveTool\",\"id\":\"p1034\"},{\"type\":\"object\",\"name\":\"ResetTool\",\"id\":\"p1035\"},{\"type\":\"object\",\"name\":\"HelpTool\",\"id\":\"p1036\"}]}},\"left\":[{\"type\":\"object\",\"name\":\"LinearAxis\",\"id\":\"p1021\",\"attributes\":{\"ticker\":{\"type\":\"object\",\"name\":\"BasicTicker\",\"id\":\"p1022\",\"attributes\":{\"mantissas\":[1,2,5]}},\"formatter\":{\"type\":\"object\",\"name\":\"BasicTickFormatter\",\"id\":\"p1023\"},\"axis_label\":\"$ millions\",\"major_label_policy\":{\"type\":\"object\",\"name\":\"AllLabels\",\"id\":\"p1024\"}}}],\"below\":[{\"type\":\"object\",\"name\":\"LinearAxis\",\"id\":\"p1016\",\"attributes\":{\"ticker\":{\"type\":\"object\",\"name\":\"BasicTicker\",\"id\":\"p1017\",\"attributes\":{\"mantissas\":[1,2,5]}},\"formatter\":{\"type\":\"object\",\"name\":\"BasicTickFormatter\",\"id\":\"p1018\"},\"axis_label\":\"Fiscal Year\",\"major_label_policy\":{\"type\":\"object\",\"name\":\"AllLabels\",\"id\":\"p1019\"}}}],\"center\":[{\"type\":\"object\",\"name\":\"Grid\",\"id\":\"p1020\",\"attributes\":{\"axis\":{\"id\":\"p1016\"}}},{\"type\":\"object\",\"name\":\"Grid\",\"id\":\"p1025\",\"attributes\":{\"dimension\":1,\"axis\":{\"id\":\"p1021\"}}}]}},{\"type\":\"object\",\"name\":\"Figure\",\"id\":\"p1046\",\"attributes\":{\"width\":400,\"height\":400,\"x_range\":{\"type\":\"object\",\"name\":\"DataRange1d\",\"id\":\"p1047\"},\"y_range\":{\"type\":\"object\",\"name\":\"DataRange1d\",\"id\":\"p1048\"},\"x_scale\":{\"type\":\"object\",\"name\":\"LinearScale\",\"id\":\"p1056\"},\"y_scale\":{\"type\":\"object\",\"name\":\"LinearScale\",\"id\":\"p1057\"},\"title\":{\"type\":\"object\",\"name\":\"Title\",\"id\":\"p1049\",\"attributes\":{\"text\":\"Stock Price (Adj.)\"}},\"renderers\":[{\"type\":\"object\",\"name\":\"GlyphRenderer\",\"id\":\"p1085\",\"attributes\":{\"data_source\":{\"id\":\"p1001\"},\"view\":{\"type\":\"object\",\"name\":\"CDSView\",\"id\":\"p1086\",\"attributes\":{\"filter\":{\"type\":\"object\",\"name\":\"AllIndices\",\"id\":\"p1087\"}}},\"glyph\":{\"type\":\"object\",\"name\":\"Line\",\"id\":\"p1082\",\"attributes\":{\"x\":{\"type\":\"field\",\"field\":\"Fiscal Year\"},\"y\":{\"type\":\"field\",\"field\":\"Adjusted Price Close - Fiscal\"},\"line_color\":\"#1f77b4\"}},\"nonselection_glyph\":{\"type\":\"object\",\"name\":\"Line\",\"id\":\"p1083\",\"attributes\":{\"x\":{\"type\":\"field\",\"field\":\"Fiscal Year\"},\"y\":{\"type\":\"field\",\"field\":\"Adjusted Price Close - Fiscal\"},\"line_color\":\"#1f77b4\",\"line_alpha\":0.1}},\"muted_glyph\":{\"type\":\"object\",\"name\":\"Line\",\"id\":\"p1084\",\"attributes\":{\"x\":{\"type\":\"field\",\"field\":\"Fiscal Year\"},\"y\":{\"type\":\"field\",\"field\":\"Adjusted Price Close - Fiscal\"},\"line_color\":\"#1f77b4\",\"line_alpha\":0.2}}}}],\"toolbar\":{\"type\":\"object\",\"name\":\"Toolbar\",\"id\":\"p1055\",\"attributes\":{\"tools\":[{\"type\":\"object\",\"name\":\"PanTool\",\"id\":\"p1068\"},{\"type\":\"object\",\"name\":\"WheelZoomTool\",\"id\":\"p1069\",\"attributes\":{\"renderers\":\"auto\"}},{\"type\":\"object\",\"name\":\"BoxZoomTool\",\"id\":\"p1070\",\"attributes\":{\"overlay\":{\"type\":\"object\",\"name\":\"BoxAnnotation\",\"id\":\"p1071\",\"attributes\":{\"syncable\":false,\"level\":\"overlay\",\"visible\":false,\"left\":{\"type\":\"number\",\"value\":\"nan\"},\"right\":{\"type\":\"number\",\"value\":\"nan\"},\"top\":{\"type\":\"number\",\"value\":\"nan\"},\"bottom\":{\"type\":\"number\",\"value\":\"nan\"},\"left_units\":\"canvas\",\"right_units\":\"canvas\",\"top_units\":\"canvas\",\"bottom_units\":\"canvas\",\"line_color\":\"black\",\"line_alpha\":1.0,\"line_width\":2,\"line_dash\":[4,4],\"fill_color\":\"lightgrey\",\"fill_alpha\":0.5}}}},{\"type\":\"object\",\"name\":\"SaveTool\",\"id\":\"p1076\"},{\"type\":\"object\",\"name\":\"ResetTool\",\"id\":\"p1077\"},{\"type\":\"object\",\"name\":\"HelpTool\",\"id\":\"p1078\"}]}},\"left\":[{\"type\":\"object\",\"name\":\"LinearAxis\",\"id\":\"p1063\",\"attributes\":{\"ticker\":{\"type\":\"object\",\"name\":\"BasicTicker\",\"id\":\"p1064\",\"attributes\":{\"mantissas\":[1,2,5]}},\"formatter\":{\"type\":\"object\",\"name\":\"BasicTickFormatter\",\"id\":\"p1065\"},\"axis_label\":\"Stock Price, adjusted for splits\",\"major_label_policy\":{\"type\":\"object\",\"name\":\"AllLabels\",\"id\":\"p1066\"}}}],\"below\":[{\"type\":\"object\",\"name\":\"LinearAxis\",\"id\":\"p1058\",\"attributes\":{\"ticker\":{\"type\":\"object\",\"name\":\"BasicTicker\",\"id\":\"p1059\",\"attributes\":{\"mantissas\":[1,2,5]}},\"formatter\":{\"type\":\"object\",\"name\":\"BasicTickFormatter\",\"id\":\"p1060\"},\"axis_label\":\"Fiscal Year\",\"major_label_policy\":{\"type\":\"object\",\"name\":\"AllLabels\",\"id\":\"p1061\"}}}],\"center\":[{\"type\":\"object\",\"name\":\"Grid\",\"id\":\"p1062\",\"attributes\":{\"axis\":{\"id\":\"p1058\"}}},{\"type\":\"object\",\"name\":\"Grid\",\"id\":\"p1067\",\"attributes\":{\"dimension\":1,\"axis\":{\"id\":\"p1063\"}}}]}}]}}]}};\n  const render_items = [{\"docid\":\"00894bc5-5f85-4793-a57e-1f727b6643f1\",\"roots\":{\"p1088\":\"e192d964-cca5-498d-bfee-f6df4cef60dc\"},\"root_ids\":[\"p1088\"]}];\n  void root.Bokeh.embed.embed_items_notebook(docs_json, render_items);\n  }\n  if (root.Bokeh !== undefined) {\n    embed_document(root);\n  } else {\n    let attempts = 0;\n    const timer = setInterval(function(root) {\n      if (root.Bokeh !== undefined) {\n        clearInterval(timer);\n        embed_document(root);\n      } else {\n        attempts++;\n        if (attempts > 100) {\n          clearInterval(timer);\n          console.log(\"Bokeh: ERROR: Unable to run BokehJS code because BokehJS library is missing\");\n        }\n      }\n    }, 10, root)\n  }\n})(window);",
      "application/vnd.bokehjs_exec.v0+json": ""
     },
     "metadata": {
      "application/vnd.bokehjs_exec.v0+json": {
       "id": "p1088"
      }
     },
     "output_type": "display_data"
    }
   ],
   "source": [
    "source = ColumnDataSource(dfMSFT)\n",
    "\n",
    "p1 = figure(width=400, height=400, \n",
    "            x_axis_label='Fiscal Year', y_axis_label='$ millions',\n",
    "            title='Net Income')\n",
    "p1.line(x='Fiscal Year', y='Net Income', source=source)\n",
    "\n",
    "p2 = figure(width=400, height=400,\n",
    "            x_axis_label='Fiscal Year', y_axis_label='Stock Price, adjusted for splits',\n",
    "            title='Stock Price (Adj.)')\n",
    "p2.line(x='Fiscal Year', y='Adjusted Price Close - Fiscal', source=source)\n",
    "\n",
    "show(row(p1, p2))"
   ]
  },
  {
   "cell_type": "markdown",
   "metadata": {},
   "source": [
    "## Creating a Column from a Scalar"
   ]
  },
  {
   "cell_type": "markdown",
   "metadata": {},
   "source": [
    "Look at the cell below, which shows the first few rows of the data."
   ]
  },
  {
   "cell_type": "code",
   "execution_count": 6,
   "metadata": {},
   "outputs": [
    {
     "data": {
      "text/html": [
       "<div>\n",
       "<style scoped>\n",
       "    .dataframe tbody tr th:only-of-type {\n",
       "        vertical-align: middle;\n",
       "    }\n",
       "\n",
       "    .dataframe tbody tr th {\n",
       "        vertical-align: top;\n",
       "    }\n",
       "\n",
       "    .dataframe thead th {\n",
       "        text-align: right;\n",
       "    }\n",
       "</style>\n",
       "<table border=\"1\" class=\"dataframe\">\n",
       "  <thead>\n",
       "    <tr style=\"text-align: right;\">\n",
       "      <th></th>\n",
       "      <th>Fiscal Year</th>\n",
       "      <th>Assets - Total</th>\n",
       "      <th>Common Equity</th>\n",
       "      <th>Net Income</th>\n",
       "      <th>Adjusted Price Close - Fiscal</th>\n",
       "      <th>Address</th>\n",
       "      <th>ZIP Code</th>\n",
       "      <th>City</th>\n",
       "      <th>State</th>\n",
       "    </tr>\n",
       "  </thead>\n",
       "  <tbody>\n",
       "    <tr>\n",
       "      <th>0</th>\n",
       "      <td>1986</td>\n",
       "      <td>170.739</td>\n",
       "      <td>139.332</td>\n",
       "      <td>39.254</td>\n",
       "      <td>0.068926</td>\n",
       "      <td>One Microsoft Way</td>\n",
       "      <td>98052</td>\n",
       "      <td>Redmond</td>\n",
       "      <td>wa</td>\n",
       "    </tr>\n",
       "    <tr>\n",
       "      <th>1</th>\n",
       "      <td>1987</td>\n",
       "      <td>287.754</td>\n",
       "      <td>239.105</td>\n",
       "      <td>71.878</td>\n",
       "      <td>0.228631</td>\n",
       "      <td>One Microsoft Way</td>\n",
       "      <td>98052</td>\n",
       "      <td>Redmond</td>\n",
       "      <td>wa</td>\n",
       "    </tr>\n",
       "    <tr>\n",
       "      <th>2</th>\n",
       "      <td>1988</td>\n",
       "      <td>493.019</td>\n",
       "      <td>375.498</td>\n",
       "      <td>123.908</td>\n",
       "      <td>0.300359</td>\n",
       "      <td>One Microsoft Way</td>\n",
       "      <td>98052</td>\n",
       "      <td>Redmond</td>\n",
       "      <td>wa</td>\n",
       "    </tr>\n",
       "    <tr>\n",
       "      <th>3</th>\n",
       "      <td>1989</td>\n",
       "      <td>720.598</td>\n",
       "      <td>561.780</td>\n",
       "      <td>170.538</td>\n",
       "      <td>0.237597</td>\n",
       "      <td>One Microsoft Way</td>\n",
       "      <td>98052</td>\n",
       "      <td>Redmond</td>\n",
       "      <td>wa</td>\n",
       "    </tr>\n",
       "    <tr>\n",
       "      <th>4</th>\n",
       "      <td>1990</td>\n",
       "      <td>1105.349</td>\n",
       "      <td>918.563</td>\n",
       "      <td>279.186</td>\n",
       "      <td>0.681410</td>\n",
       "      <td>One Microsoft Way</td>\n",
       "      <td>98052</td>\n",
       "      <td>Redmond</td>\n",
       "      <td>wa</td>\n",
       "    </tr>\n",
       "  </tbody>\n",
       "</table>\n",
       "</div>"
      ],
      "text/plain": [
       "   Fiscal Year  Assets - Total  Common Equity  Net Income  \\\n",
       "0         1986         170.739        139.332      39.254   \n",
       "1         1987         287.754        239.105      71.878   \n",
       "2         1988         493.019        375.498     123.908   \n",
       "3         1989         720.598        561.780     170.538   \n",
       "4         1990        1105.349        918.563     279.186   \n",
       "\n",
       "   Adjusted Price Close - Fiscal            Address  ZIP Code        City  \\\n",
       "0                       0.068926  One Microsoft Way     98052    Redmond    \n",
       "1                       0.228631  One Microsoft Way     98052    Redmond    \n",
       "2                       0.300359  One Microsoft Way     98052    Redmond    \n",
       "3                       0.237597  One Microsoft Way     98052    Redmond    \n",
       "4                       0.681410  One Microsoft Way     98052    Redmond    \n",
       "\n",
       "  State  \n",
       "0    wa  \n",
       "1    wa  \n",
       "2    wa  \n",
       "3    wa  \n",
       "4    wa  "
      ]
     },
     "execution_count": 6,
     "metadata": {},
     "output_type": "execute_result"
    }
   ],
   "source": [
    "dfMSFT.head()"
   ]
  },
  {
   "cell_type": "markdown",
   "metadata": {},
   "source": [
    "Notice that the data is missing Microsoft's stock ticker symbol, MSFT. Let's add that as a new column. Run the cell below."
   ]
  },
  {
   "cell_type": "code",
   "execution_count": 7,
   "metadata": {},
   "outputs": [
    {
     "data": {
      "text/html": [
       "<div>\n",
       "<style scoped>\n",
       "    .dataframe tbody tr th:only-of-type {\n",
       "        vertical-align: middle;\n",
       "    }\n",
       "\n",
       "    .dataframe tbody tr th {\n",
       "        vertical-align: top;\n",
       "    }\n",
       "\n",
       "    .dataframe thead th {\n",
       "        text-align: right;\n",
       "    }\n",
       "</style>\n",
       "<table border=\"1\" class=\"dataframe\">\n",
       "  <thead>\n",
       "    <tr style=\"text-align: right;\">\n",
       "      <th></th>\n",
       "      <th>Fiscal Year</th>\n",
       "      <th>Assets - Total</th>\n",
       "      <th>Common Equity</th>\n",
       "      <th>Net Income</th>\n",
       "      <th>Adjusted Price Close - Fiscal</th>\n",
       "      <th>Address</th>\n",
       "      <th>ZIP Code</th>\n",
       "      <th>City</th>\n",
       "      <th>State</th>\n",
       "      <th>Ticker</th>\n",
       "    </tr>\n",
       "  </thead>\n",
       "  <tbody>\n",
       "    <tr>\n",
       "      <th>0</th>\n",
       "      <td>1986</td>\n",
       "      <td>170.739</td>\n",
       "      <td>139.332</td>\n",
       "      <td>39.254</td>\n",
       "      <td>0.068926</td>\n",
       "      <td>One Microsoft Way</td>\n",
       "      <td>98052</td>\n",
       "      <td>Redmond</td>\n",
       "      <td>wa</td>\n",
       "      <td>MSFT</td>\n",
       "    </tr>\n",
       "    <tr>\n",
       "      <th>1</th>\n",
       "      <td>1987</td>\n",
       "      <td>287.754</td>\n",
       "      <td>239.105</td>\n",
       "      <td>71.878</td>\n",
       "      <td>0.228631</td>\n",
       "      <td>One Microsoft Way</td>\n",
       "      <td>98052</td>\n",
       "      <td>Redmond</td>\n",
       "      <td>wa</td>\n",
       "      <td>MSFT</td>\n",
       "    </tr>\n",
       "    <tr>\n",
       "      <th>2</th>\n",
       "      <td>1988</td>\n",
       "      <td>493.019</td>\n",
       "      <td>375.498</td>\n",
       "      <td>123.908</td>\n",
       "      <td>0.300359</td>\n",
       "      <td>One Microsoft Way</td>\n",
       "      <td>98052</td>\n",
       "      <td>Redmond</td>\n",
       "      <td>wa</td>\n",
       "      <td>MSFT</td>\n",
       "    </tr>\n",
       "    <tr>\n",
       "      <th>3</th>\n",
       "      <td>1989</td>\n",
       "      <td>720.598</td>\n",
       "      <td>561.780</td>\n",
       "      <td>170.538</td>\n",
       "      <td>0.237597</td>\n",
       "      <td>One Microsoft Way</td>\n",
       "      <td>98052</td>\n",
       "      <td>Redmond</td>\n",
       "      <td>wa</td>\n",
       "      <td>MSFT</td>\n",
       "    </tr>\n",
       "    <tr>\n",
       "      <th>4</th>\n",
       "      <td>1990</td>\n",
       "      <td>1105.349</td>\n",
       "      <td>918.563</td>\n",
       "      <td>279.186</td>\n",
       "      <td>0.681410</td>\n",
       "      <td>One Microsoft Way</td>\n",
       "      <td>98052</td>\n",
       "      <td>Redmond</td>\n",
       "      <td>wa</td>\n",
       "      <td>MSFT</td>\n",
       "    </tr>\n",
       "  </tbody>\n",
       "</table>\n",
       "</div>"
      ],
      "text/plain": [
       "   Fiscal Year  Assets - Total  Common Equity  Net Income  \\\n",
       "0         1986         170.739        139.332      39.254   \n",
       "1         1987         287.754        239.105      71.878   \n",
       "2         1988         493.019        375.498     123.908   \n",
       "3         1989         720.598        561.780     170.538   \n",
       "4         1990        1105.349        918.563     279.186   \n",
       "\n",
       "   Adjusted Price Close - Fiscal            Address  ZIP Code        City  \\\n",
       "0                       0.068926  One Microsoft Way     98052    Redmond    \n",
       "1                       0.228631  One Microsoft Way     98052    Redmond    \n",
       "2                       0.300359  One Microsoft Way     98052    Redmond    \n",
       "3                       0.237597  One Microsoft Way     98052    Redmond    \n",
       "4                       0.681410  One Microsoft Way     98052    Redmond    \n",
       "\n",
       "  State Ticker  \n",
       "0    wa   MSFT  \n",
       "1    wa   MSFT  \n",
       "2    wa   MSFT  \n",
       "3    wa   MSFT  \n",
       "4    wa   MSFT  "
      ]
     },
     "execution_count": 7,
     "metadata": {},
     "output_type": "execute_result"
    }
   ],
   "source": [
    "dfMSFT['Ticker'] = 'MSFT'\n",
    "dfMSFT.head()"
   ]
  },
  {
   "cell_type": "markdown",
   "metadata": {},
   "source": [
    "Look at the rightmost column, _Ticker_. Notice that it has the string 'MSFT' in every row. It's that simple! That's all that's needed to create a new column with a single value.\n",
    "\n",
    "Even though the above line of code, `dfMSFT['Ticker'] = 'MSFT'` appears really simple, there's a lot going on behind the scenes. You need to understand a little of that before we proceed. When you wrote `dfMSFT['Ticker']`, that refers to a Series. Remember that single brackets means Series. So Pandas looked into the DataFrame `dfMSFT` and discovered that there is no existing column with the name _Ticker_. Pandas then inferred that you want to create that column. Now the DataFrame `dfMSFT` has 34 rows, but you gave Pandas only one value. Pandas therefore inferred that you want that same value in every row. It therefore created a Series for you, and repeated the string value 'MSFT' 34 times (the language R calls this \"recycling\").\n",
    "\n",
    "So to summarize, to create a new column from a single value:\n",
    "* Type the DataFrame name followed by single brackets\n",
    "* Inside the single brackets, type the name of the new column as a string\n",
    "* After the brackets, type an equals sign, and then the value you want.\n",
    "* This value will be repeated in every row. It can be numeric or string."
   ]
  },
  {
   "cell_type": "markdown",
   "metadata": {},
   "source": [
    "## Creating a Column from a List"
   ]
  },
  {
   "cell_type": "markdown",
   "metadata": {},
   "source": [
    "It is possible to create a new column from a list. That is because Pandas can easily convert a list to a Series. The only catch is that the list must have the same length as the DataFrame! If the DataFrame has _n_ rows, the list length must be exactly _n_.\n",
    "\n",
    "When might you want to do this? Here's a silly example. Many years ago, I read that Bill Gates used to eat M&M's and drink Diet Coke. I think I heard that when Bill Gates was a guest on the Tonight Show with Jay Leno. But eventually he got married and his wife likely put a stop to that. Let's say that for the first 10 years, Bill liked Diet Coke and M&M's, but afterwards, he liked rice cakes. Let's create a new column in the dataset called _Bill Gates likes_. We'll populate that column using a list.\n",
    "\n",
    "Take a look at the code cells below."
   ]
  },
  {
   "cell_type": "code",
   "execution_count": 8,
   "metadata": {},
   "outputs": [
    {
     "name": "stdout",
     "output_type": "stream",
     "text": [
      "['Diet Coke and M&Ms', 'Diet Coke and M&Ms', 'Diet Coke and M&Ms', 'Diet Coke and M&Ms', 'Diet Coke and M&Ms', 'Diet Coke and M&Ms', 'Diet Coke and M&Ms', 'Diet Coke and M&Ms', 'Diet Coke and M&Ms', 'Diet Coke and M&Ms', 'Rice cakes', 'Rice cakes', 'Rice cakes', 'Rice cakes', 'Rice cakes', 'Rice cakes', 'Rice cakes', 'Rice cakes', 'Rice cakes', 'Rice cakes', 'Rice cakes', 'Rice cakes', 'Rice cakes', 'Rice cakes', 'Rice cakes', 'Rice cakes', 'Rice cakes', 'Rice cakes', 'Rice cakes', 'Rice cakes', 'Rice cakes', 'Rice cakes', 'Rice cakes', 'Rice cakes']\n",
      "\n",
      "The list length is: 34\n"
     ]
    }
   ],
   "source": [
    "# Create a list of length 10\n",
    "bill_likes = ['Diet Coke and M&Ms'] * 10\n",
    "# Add 24 values to the list\n",
    "bill_likes += ['Rice cakes'] * 24\n",
    "\n",
    "print(bill_likes)\n",
    "print()\n",
    "print(f'The list length is: {len(bill_likes)}')"
   ]
  },
  {
   "cell_type": "markdown",
   "metadata": {},
   "source": [
    "Now let's create a new column in our dataset and populate it with our list. Look at the code cell below:"
   ]
  },
  {
   "cell_type": "code",
   "execution_count": 9,
   "metadata": {},
   "outputs": [
    {
     "data": {
      "text/html": [
       "<div>\n",
       "<style scoped>\n",
       "    .dataframe tbody tr th:only-of-type {\n",
       "        vertical-align: middle;\n",
       "    }\n",
       "\n",
       "    .dataframe tbody tr th {\n",
       "        vertical-align: top;\n",
       "    }\n",
       "\n",
       "    .dataframe thead th {\n",
       "        text-align: right;\n",
       "    }\n",
       "</style>\n",
       "<table border=\"1\" class=\"dataframe\">\n",
       "  <thead>\n",
       "    <tr style=\"text-align: right;\">\n",
       "      <th></th>\n",
       "      <th>Fiscal Year</th>\n",
       "      <th>Assets - Total</th>\n",
       "      <th>Common Equity</th>\n",
       "      <th>Net Income</th>\n",
       "      <th>Adjusted Price Close - Fiscal</th>\n",
       "      <th>Address</th>\n",
       "      <th>ZIP Code</th>\n",
       "      <th>City</th>\n",
       "      <th>State</th>\n",
       "      <th>Ticker</th>\n",
       "      <th>Bill Gates likes</th>\n",
       "    </tr>\n",
       "  </thead>\n",
       "  <tbody>\n",
       "    <tr>\n",
       "      <th>0</th>\n",
       "      <td>1986</td>\n",
       "      <td>170.739</td>\n",
       "      <td>139.332</td>\n",
       "      <td>39.254</td>\n",
       "      <td>0.068926</td>\n",
       "      <td>One Microsoft Way</td>\n",
       "      <td>98052</td>\n",
       "      <td>Redmond</td>\n",
       "      <td>wa</td>\n",
       "      <td>MSFT</td>\n",
       "      <td>Diet Coke and M&amp;Ms</td>\n",
       "    </tr>\n",
       "    <tr>\n",
       "      <th>1</th>\n",
       "      <td>1987</td>\n",
       "      <td>287.754</td>\n",
       "      <td>239.105</td>\n",
       "      <td>71.878</td>\n",
       "      <td>0.228631</td>\n",
       "      <td>One Microsoft Way</td>\n",
       "      <td>98052</td>\n",
       "      <td>Redmond</td>\n",
       "      <td>wa</td>\n",
       "      <td>MSFT</td>\n",
       "      <td>Diet Coke and M&amp;Ms</td>\n",
       "    </tr>\n",
       "    <tr>\n",
       "      <th>2</th>\n",
       "      <td>1988</td>\n",
       "      <td>493.019</td>\n",
       "      <td>375.498</td>\n",
       "      <td>123.908</td>\n",
       "      <td>0.300359</td>\n",
       "      <td>One Microsoft Way</td>\n",
       "      <td>98052</td>\n",
       "      <td>Redmond</td>\n",
       "      <td>wa</td>\n",
       "      <td>MSFT</td>\n",
       "      <td>Diet Coke and M&amp;Ms</td>\n",
       "    </tr>\n",
       "    <tr>\n",
       "      <th>3</th>\n",
       "      <td>1989</td>\n",
       "      <td>720.598</td>\n",
       "      <td>561.780</td>\n",
       "      <td>170.538</td>\n",
       "      <td>0.237597</td>\n",
       "      <td>One Microsoft Way</td>\n",
       "      <td>98052</td>\n",
       "      <td>Redmond</td>\n",
       "      <td>wa</td>\n",
       "      <td>MSFT</td>\n",
       "      <td>Diet Coke and M&amp;Ms</td>\n",
       "    </tr>\n",
       "    <tr>\n",
       "      <th>4</th>\n",
       "      <td>1990</td>\n",
       "      <td>1105.349</td>\n",
       "      <td>918.563</td>\n",
       "      <td>279.186</td>\n",
       "      <td>0.681410</td>\n",
       "      <td>One Microsoft Way</td>\n",
       "      <td>98052</td>\n",
       "      <td>Redmond</td>\n",
       "      <td>wa</td>\n",
       "      <td>MSFT</td>\n",
       "      <td>Diet Coke and M&amp;Ms</td>\n",
       "    </tr>\n",
       "    <tr>\n",
       "      <th>5</th>\n",
       "      <td>1991</td>\n",
       "      <td>1644.184</td>\n",
       "      <td>1350.831</td>\n",
       "      <td>462.743</td>\n",
       "      <td>0.916206</td>\n",
       "      <td>One Microsoft Way</td>\n",
       "      <td>98052</td>\n",
       "      <td>Redmond</td>\n",
       "      <td>wa</td>\n",
       "      <td>MSFT</td>\n",
       "      <td>Diet Coke and M&amp;Ms</td>\n",
       "    </tr>\n",
       "    <tr>\n",
       "      <th>6</th>\n",
       "      <td>1992</td>\n",
       "      <td>2639.903</td>\n",
       "      <td>2192.958</td>\n",
       "      <td>708.060</td>\n",
       "      <td>1.412133</td>\n",
       "      <td>One Microsoft Way</td>\n",
       "      <td>98052</td>\n",
       "      <td>Redmond</td>\n",
       "      <td>wa</td>\n",
       "      <td>MSFT</td>\n",
       "      <td>Diet Coke and M&amp;Ms</td>\n",
       "    </tr>\n",
       "    <tr>\n",
       "      <th>7</th>\n",
       "      <td>1993</td>\n",
       "      <td>3805.000</td>\n",
       "      <td>3242.000</td>\n",
       "      <td>953.000</td>\n",
       "      <td>1.775253</td>\n",
       "      <td>One Microsoft Way</td>\n",
       "      <td>98052</td>\n",
       "      <td>Redmond</td>\n",
       "      <td>wa</td>\n",
       "      <td>MSFT</td>\n",
       "      <td>Diet Coke and M&amp;Ms</td>\n",
       "    </tr>\n",
       "    <tr>\n",
       "      <th>8</th>\n",
       "      <td>1994</td>\n",
       "      <td>5363.000</td>\n",
       "      <td>4450.000</td>\n",
       "      <td>1146.000</td>\n",
       "      <td>2.082897</td>\n",
       "      <td>One Microsoft Way</td>\n",
       "      <td>98052</td>\n",
       "      <td>Redmond</td>\n",
       "      <td>wa</td>\n",
       "      <td>MSFT</td>\n",
       "      <td>Diet Coke and M&amp;Ms</td>\n",
       "    </tr>\n",
       "    <tr>\n",
       "      <th>9</th>\n",
       "      <td>1995</td>\n",
       "      <td>7210.000</td>\n",
       "      <td>5333.000</td>\n",
       "      <td>1453.000</td>\n",
       "      <td>3.646332</td>\n",
       "      <td>One Microsoft Way</td>\n",
       "      <td>98052</td>\n",
       "      <td>Redmond</td>\n",
       "      <td>wa</td>\n",
       "      <td>MSFT</td>\n",
       "      <td>Diet Coke and M&amp;Ms</td>\n",
       "    </tr>\n",
       "    <tr>\n",
       "      <th>10</th>\n",
       "      <td>1996</td>\n",
       "      <td>10093.000</td>\n",
       "      <td>6908.000</td>\n",
       "      <td>2195.000</td>\n",
       "      <td>4.846645</td>\n",
       "      <td>One Microsoft Way</td>\n",
       "      <td>98052</td>\n",
       "      <td>Redmond</td>\n",
       "      <td>wa</td>\n",
       "      <td>MSFT</td>\n",
       "      <td>Rice cakes</td>\n",
       "    </tr>\n",
       "    <tr>\n",
       "      <th>11</th>\n",
       "      <td>1997</td>\n",
       "      <td>14387.000</td>\n",
       "      <td>9797.000</td>\n",
       "      <td>3454.000</td>\n",
       "      <td>10.197618</td>\n",
       "      <td>One Microsoft Way</td>\n",
       "      <td>98052</td>\n",
       "      <td>Redmond</td>\n",
       "      <td>wa</td>\n",
       "      <td>MSFT</td>\n",
       "      <td>Rice cakes</td>\n",
       "    </tr>\n",
       "    <tr>\n",
       "      <th>12</th>\n",
       "      <td>1998</td>\n",
       "      <td>22357.000</td>\n",
       "      <td>15647.000</td>\n",
       "      <td>4490.000</td>\n",
       "      <td>17.490292</td>\n",
       "      <td>One Microsoft Way</td>\n",
       "      <td>98052</td>\n",
       "      <td>Redmond</td>\n",
       "      <td>wa</td>\n",
       "      <td>MSFT</td>\n",
       "      <td>Rice cakes</td>\n",
       "    </tr>\n",
       "    <tr>\n",
       "      <th>13</th>\n",
       "      <td>1999</td>\n",
       "      <td>37156.000</td>\n",
       "      <td>27458.000</td>\n",
       "      <td>7785.000</td>\n",
       "      <td>29.110128</td>\n",
       "      <td>One Microsoft Way</td>\n",
       "      <td>98052</td>\n",
       "      <td>Redmond</td>\n",
       "      <td>wa</td>\n",
       "      <td>MSFT</td>\n",
       "      <td>Rice cakes</td>\n",
       "    </tr>\n",
       "    <tr>\n",
       "      <th>14</th>\n",
       "      <td>2000</td>\n",
       "      <td>52150.000</td>\n",
       "      <td>41368.000</td>\n",
       "      <td>9421.000</td>\n",
       "      <td>25.821878</td>\n",
       "      <td>One Microsoft Way</td>\n",
       "      <td>98052</td>\n",
       "      <td>Redmond</td>\n",
       "      <td>wa</td>\n",
       "      <td>MSFT</td>\n",
       "      <td>Rice cakes</td>\n",
       "    </tr>\n",
       "    <tr>\n",
       "      <th>15</th>\n",
       "      <td>2001</td>\n",
       "      <td>59257.000</td>\n",
       "      <td>47289.000</td>\n",
       "      <td>7346.000</td>\n",
       "      <td>23.562454</td>\n",
       "      <td>One Microsoft Way</td>\n",
       "      <td>98052</td>\n",
       "      <td>Redmond</td>\n",
       "      <td>wa</td>\n",
       "      <td>MSFT</td>\n",
       "      <td>Rice cakes</td>\n",
       "    </tr>\n",
       "    <tr>\n",
       "      <th>16</th>\n",
       "      <td>2002</td>\n",
       "      <td>67646.000</td>\n",
       "      <td>52180.000</td>\n",
       "      <td>7829.000</td>\n",
       "      <td>17.655706</td>\n",
       "      <td>One Microsoft Way</td>\n",
       "      <td>98052</td>\n",
       "      <td>Redmond</td>\n",
       "      <td>wa</td>\n",
       "      <td>MSFT</td>\n",
       "      <td>Rice cakes</td>\n",
       "    </tr>\n",
       "    <tr>\n",
       "      <th>17</th>\n",
       "      <td>2003</td>\n",
       "      <td>79571.000</td>\n",
       "      <td>61020.000</td>\n",
       "      <td>9993.000</td>\n",
       "      <td>16.605047</td>\n",
       "      <td>One Microsoft Way</td>\n",
       "      <td>98052</td>\n",
       "      <td>Redmond</td>\n",
       "      <td>wa</td>\n",
       "      <td>MSFT</td>\n",
       "      <td>Rice cakes</td>\n",
       "    </tr>\n",
       "    <tr>\n",
       "      <th>18</th>\n",
       "      <td>2004</td>\n",
       "      <td>92389.000</td>\n",
       "      <td>74825.000</td>\n",
       "      <td>8168.000</td>\n",
       "      <td>18.599861</td>\n",
       "      <td>One Microsoft Way</td>\n",
       "      <td>98052</td>\n",
       "      <td>Redmond</td>\n",
       "      <td>wa</td>\n",
       "      <td>MSFT</td>\n",
       "      <td>Rice cakes</td>\n",
       "    </tr>\n",
       "    <tr>\n",
       "      <th>19</th>\n",
       "      <td>2005</td>\n",
       "      <td>70815.000</td>\n",
       "      <td>48115.000</td>\n",
       "      <td>12254.000</td>\n",
       "      <td>18.196650</td>\n",
       "      <td>One Microsoft Way</td>\n",
       "      <td>98052</td>\n",
       "      <td>Redmond</td>\n",
       "      <td>wa</td>\n",
       "      <td>MSFT</td>\n",
       "      <td>Rice cakes</td>\n",
       "    </tr>\n",
       "    <tr>\n",
       "      <th>20</th>\n",
       "      <td>2006</td>\n",
       "      <td>69597.000</td>\n",
       "      <td>40104.000</td>\n",
       "      <td>12599.000</td>\n",
       "      <td>17.294693</td>\n",
       "      <td>One Microsoft Way</td>\n",
       "      <td>98052</td>\n",
       "      <td>Redmond</td>\n",
       "      <td>wa</td>\n",
       "      <td>MSFT</td>\n",
       "      <td>Rice cakes</td>\n",
       "    </tr>\n",
       "    <tr>\n",
       "      <th>21</th>\n",
       "      <td>2007</td>\n",
       "      <td>63171.000</td>\n",
       "      <td>31097.000</td>\n",
       "      <td>14065.000</td>\n",
       "      <td>22.178057</td>\n",
       "      <td>One Microsoft Way</td>\n",
       "      <td>98052</td>\n",
       "      <td>Redmond</td>\n",
       "      <td>wa</td>\n",
       "      <td>MSFT</td>\n",
       "      <td>Rice cakes</td>\n",
       "    </tr>\n",
       "    <tr>\n",
       "      <th>22</th>\n",
       "      <td>2008</td>\n",
       "      <td>72793.000</td>\n",
       "      <td>36286.000</td>\n",
       "      <td>17681.000</td>\n",
       "      <td>21.002312</td>\n",
       "      <td>One Microsoft Way</td>\n",
       "      <td>98052</td>\n",
       "      <td>Redmond</td>\n",
       "      <td>wa</td>\n",
       "      <td>MSFT</td>\n",
       "      <td>Rice cakes</td>\n",
       "    </tr>\n",
       "    <tr>\n",
       "      <th>23</th>\n",
       "      <td>2009</td>\n",
       "      <td>77888.000</td>\n",
       "      <td>39558.000</td>\n",
       "      <td>14569.000</td>\n",
       "      <td>18.585894</td>\n",
       "      <td>One Microsoft Way</td>\n",
       "      <td>98052</td>\n",
       "      <td>Redmond</td>\n",
       "      <td>wa</td>\n",
       "      <td>MSFT</td>\n",
       "      <td>Rice cakes</td>\n",
       "    </tr>\n",
       "    <tr>\n",
       "      <th>24</th>\n",
       "      <td>2010</td>\n",
       "      <td>86113.000</td>\n",
       "      <td>46175.000</td>\n",
       "      <td>18760.000</td>\n",
       "      <td>18.340149</td>\n",
       "      <td>One Microsoft Way</td>\n",
       "      <td>98052</td>\n",
       "      <td>Redmond</td>\n",
       "      <td>wa</td>\n",
       "      <td>MSFT</td>\n",
       "      <td>Rice cakes</td>\n",
       "    </tr>\n",
       "    <tr>\n",
       "      <th>25</th>\n",
       "      <td>2011</td>\n",
       "      <td>108704.000</td>\n",
       "      <td>57083.000</td>\n",
       "      <td>23150.000</td>\n",
       "      <td>21.223999</td>\n",
       "      <td>One Microsoft Way</td>\n",
       "      <td>98052</td>\n",
       "      <td>Redmond</td>\n",
       "      <td>wa</td>\n",
       "      <td>MSFT</td>\n",
       "      <td>Rice cakes</td>\n",
       "    </tr>\n",
       "    <tr>\n",
       "      <th>26</th>\n",
       "      <td>2012</td>\n",
       "      <td>121271.000</td>\n",
       "      <td>66363.000</td>\n",
       "      <td>16978.000</td>\n",
       "      <td>25.651567</td>\n",
       "      <td>One Microsoft Way</td>\n",
       "      <td>98052</td>\n",
       "      <td>Redmond</td>\n",
       "      <td>wa</td>\n",
       "      <td>MSFT</td>\n",
       "      <td>Rice cakes</td>\n",
       "    </tr>\n",
       "    <tr>\n",
       "      <th>27</th>\n",
       "      <td>2013</td>\n",
       "      <td>142431.000</td>\n",
       "      <td>78944.000</td>\n",
       "      <td>21863.000</td>\n",
       "      <td>29.846550</td>\n",
       "      <td>One Microsoft Way</td>\n",
       "      <td>98052</td>\n",
       "      <td>Redmond</td>\n",
       "      <td>wa</td>\n",
       "      <td>MSFT</td>\n",
       "      <td>Rice cakes</td>\n",
       "    </tr>\n",
       "    <tr>\n",
       "      <th>28</th>\n",
       "      <td>2014</td>\n",
       "      <td>172384.000</td>\n",
       "      <td>89784.000</td>\n",
       "      <td>22074.000</td>\n",
       "      <td>37.096779</td>\n",
       "      <td>One Microsoft Way</td>\n",
       "      <td>98052</td>\n",
       "      <td>Redmond</td>\n",
       "      <td>wa</td>\n",
       "      <td>MSFT</td>\n",
       "      <td>Rice cakes</td>\n",
       "    </tr>\n",
       "    <tr>\n",
       "      <th>29</th>\n",
       "      <td>2015</td>\n",
       "      <td>176223.000</td>\n",
       "      <td>80083.000</td>\n",
       "      <td>12193.000</td>\n",
       "      <td>40.314255</td>\n",
       "      <td>One Microsoft Way</td>\n",
       "      <td>98052</td>\n",
       "      <td>Redmond</td>\n",
       "      <td>wa</td>\n",
       "      <td>MSFT</td>\n",
       "      <td>Rice cakes</td>\n",
       "    </tr>\n",
       "    <tr>\n",
       "      <th>30</th>\n",
       "      <td>2016</td>\n",
       "      <td>193694.000</td>\n",
       "      <td>71997.000</td>\n",
       "      <td>16798.000</td>\n",
       "      <td>48.023003</td>\n",
       "      <td>One Microsoft Way</td>\n",
       "      <td>98052</td>\n",
       "      <td>Redmond</td>\n",
       "      <td>wa</td>\n",
       "      <td>MSFT</td>\n",
       "      <td>Rice cakes</td>\n",
       "    </tr>\n",
       "    <tr>\n",
       "      <th>31</th>\n",
       "      <td>2017</td>\n",
       "      <td>241086.000</td>\n",
       "      <td>72394.000</td>\n",
       "      <td>21204.000</td>\n",
       "      <td>66.308907</td>\n",
       "      <td>One Microsoft Way</td>\n",
       "      <td>98052</td>\n",
       "      <td>Redmond</td>\n",
       "      <td>wa</td>\n",
       "      <td>MSFT</td>\n",
       "      <td>Rice cakes</td>\n",
       "    </tr>\n",
       "    <tr>\n",
       "      <th>32</th>\n",
       "      <td>2018</td>\n",
       "      <td>258848.000</td>\n",
       "      <td>82718.000</td>\n",
       "      <td>16571.000</td>\n",
       "      <td>96.712257</td>\n",
       "      <td>One Microsoft Way</td>\n",
       "      <td>98052</td>\n",
       "      <td>Redmond</td>\n",
       "      <td>wa</td>\n",
       "      <td>MSFT</td>\n",
       "      <td>Rice cakes</td>\n",
       "    </tr>\n",
       "    <tr>\n",
       "      <th>33</th>\n",
       "      <td>2019</td>\n",
       "      <td>286556.000</td>\n",
       "      <td>102330.000</td>\n",
       "      <td>39240.000</td>\n",
       "      <td>133.515411</td>\n",
       "      <td>One Microsoft Way</td>\n",
       "      <td>98052</td>\n",
       "      <td>Redmond</td>\n",
       "      <td>wa</td>\n",
       "      <td>MSFT</td>\n",
       "      <td>Rice cakes</td>\n",
       "    </tr>\n",
       "  </tbody>\n",
       "</table>\n",
       "</div>"
      ],
      "text/plain": [
       "    Fiscal Year  Assets - Total  Common Equity  Net Income  \\\n",
       "0          1986         170.739        139.332      39.254   \n",
       "1          1987         287.754        239.105      71.878   \n",
       "2          1988         493.019        375.498     123.908   \n",
       "3          1989         720.598        561.780     170.538   \n",
       "4          1990        1105.349        918.563     279.186   \n",
       "5          1991        1644.184       1350.831     462.743   \n",
       "6          1992        2639.903       2192.958     708.060   \n",
       "7          1993        3805.000       3242.000     953.000   \n",
       "8          1994        5363.000       4450.000    1146.000   \n",
       "9          1995        7210.000       5333.000    1453.000   \n",
       "10         1996       10093.000       6908.000    2195.000   \n",
       "11         1997       14387.000       9797.000    3454.000   \n",
       "12         1998       22357.000      15647.000    4490.000   \n",
       "13         1999       37156.000      27458.000    7785.000   \n",
       "14         2000       52150.000      41368.000    9421.000   \n",
       "15         2001       59257.000      47289.000    7346.000   \n",
       "16         2002       67646.000      52180.000    7829.000   \n",
       "17         2003       79571.000      61020.000    9993.000   \n",
       "18         2004       92389.000      74825.000    8168.000   \n",
       "19         2005       70815.000      48115.000   12254.000   \n",
       "20         2006       69597.000      40104.000   12599.000   \n",
       "21         2007       63171.000      31097.000   14065.000   \n",
       "22         2008       72793.000      36286.000   17681.000   \n",
       "23         2009       77888.000      39558.000   14569.000   \n",
       "24         2010       86113.000      46175.000   18760.000   \n",
       "25         2011      108704.000      57083.000   23150.000   \n",
       "26         2012      121271.000      66363.000   16978.000   \n",
       "27         2013      142431.000      78944.000   21863.000   \n",
       "28         2014      172384.000      89784.000   22074.000   \n",
       "29         2015      176223.000      80083.000   12193.000   \n",
       "30         2016      193694.000      71997.000   16798.000   \n",
       "31         2017      241086.000      72394.000   21204.000   \n",
       "32         2018      258848.000      82718.000   16571.000   \n",
       "33         2019      286556.000     102330.000   39240.000   \n",
       "\n",
       "    Adjusted Price Close - Fiscal            Address  ZIP Code        City  \\\n",
       "0                        0.068926  One Microsoft Way     98052    Redmond    \n",
       "1                        0.228631  One Microsoft Way     98052    Redmond    \n",
       "2                        0.300359  One Microsoft Way     98052    Redmond    \n",
       "3                        0.237597  One Microsoft Way     98052    Redmond    \n",
       "4                        0.681410  One Microsoft Way     98052    Redmond    \n",
       "5                        0.916206  One Microsoft Way     98052    Redmond    \n",
       "6                        1.412133  One Microsoft Way     98052    Redmond    \n",
       "7                        1.775253  One Microsoft Way     98052    Redmond    \n",
       "8                        2.082897  One Microsoft Way     98052    Redmond    \n",
       "9                        3.646332  One Microsoft Way     98052    Redmond    \n",
       "10                       4.846645  One Microsoft Way     98052    Redmond    \n",
       "11                      10.197618  One Microsoft Way     98052    Redmond    \n",
       "12                      17.490292  One Microsoft Way     98052    Redmond    \n",
       "13                      29.110128  One Microsoft Way     98052    Redmond    \n",
       "14                      25.821878  One Microsoft Way     98052    Redmond    \n",
       "15                      23.562454  One Microsoft Way     98052    Redmond    \n",
       "16                      17.655706  One Microsoft Way     98052    Redmond    \n",
       "17                      16.605047  One Microsoft Way     98052    Redmond    \n",
       "18                      18.599861  One Microsoft Way     98052    Redmond    \n",
       "19                      18.196650  One Microsoft Way     98052    Redmond    \n",
       "20                      17.294693  One Microsoft Way     98052    Redmond    \n",
       "21                      22.178057  One Microsoft Way     98052    Redmond    \n",
       "22                      21.002312  One Microsoft Way     98052    Redmond    \n",
       "23                      18.585894  One Microsoft Way     98052    Redmond    \n",
       "24                      18.340149  One Microsoft Way     98052    Redmond    \n",
       "25                      21.223999  One Microsoft Way     98052    Redmond    \n",
       "26                      25.651567  One Microsoft Way     98052    Redmond    \n",
       "27                      29.846550  One Microsoft Way     98052    Redmond    \n",
       "28                      37.096779  One Microsoft Way     98052    Redmond    \n",
       "29                      40.314255  One Microsoft Way     98052    Redmond    \n",
       "30                      48.023003  One Microsoft Way     98052    Redmond    \n",
       "31                      66.308907  One Microsoft Way     98052    Redmond    \n",
       "32                      96.712257  One Microsoft Way     98052    Redmond    \n",
       "33                     133.515411  One Microsoft Way     98052    Redmond    \n",
       "\n",
       "   State Ticker    Bill Gates likes  \n",
       "0     wa   MSFT  Diet Coke and M&Ms  \n",
       "1     wa   MSFT  Diet Coke and M&Ms  \n",
       "2     wa   MSFT  Diet Coke and M&Ms  \n",
       "3     wa   MSFT  Diet Coke and M&Ms  \n",
       "4     wa   MSFT  Diet Coke and M&Ms  \n",
       "5     wa   MSFT  Diet Coke and M&Ms  \n",
       "6     wa   MSFT  Diet Coke and M&Ms  \n",
       "7     wa   MSFT  Diet Coke and M&Ms  \n",
       "8     wa   MSFT  Diet Coke and M&Ms  \n",
       "9     wa   MSFT  Diet Coke and M&Ms  \n",
       "10    wa   MSFT          Rice cakes  \n",
       "11    wa   MSFT          Rice cakes  \n",
       "12    wa   MSFT          Rice cakes  \n",
       "13    wa   MSFT          Rice cakes  \n",
       "14    wa   MSFT          Rice cakes  \n",
       "15    wa   MSFT          Rice cakes  \n",
       "16    wa   MSFT          Rice cakes  \n",
       "17    wa   MSFT          Rice cakes  \n",
       "18    wa   MSFT          Rice cakes  \n",
       "19    wa   MSFT          Rice cakes  \n",
       "20    wa   MSFT          Rice cakes  \n",
       "21    wa   MSFT          Rice cakes  \n",
       "22    wa   MSFT          Rice cakes  \n",
       "23    wa   MSFT          Rice cakes  \n",
       "24    wa   MSFT          Rice cakes  \n",
       "25    wa   MSFT          Rice cakes  \n",
       "26    wa   MSFT          Rice cakes  \n",
       "27    wa   MSFT          Rice cakes  \n",
       "28    wa   MSFT          Rice cakes  \n",
       "29    wa   MSFT          Rice cakes  \n",
       "30    wa   MSFT          Rice cakes  \n",
       "31    wa   MSFT          Rice cakes  \n",
       "32    wa   MSFT          Rice cakes  \n",
       "33    wa   MSFT          Rice cakes  "
      ]
     },
     "execution_count": 9,
     "metadata": {},
     "output_type": "execute_result"
    }
   ],
   "source": [
    "dfMSFT['Bill Gates likes'] = bill_likes\n",
    "dfMSFT"
   ]
  },
  {
   "cell_type": "markdown",
   "metadata": {},
   "source": [
    "If you look at the entire DataFrame, you will notice that the last column contains our list. Under the hood, Pandas took our list, created a new Series (using the constructor `pd.Series`), and added that Series as a new column of the DataFrame.\n",
    "\n",
    "As we mentioned before, the list length must be exactly equal to the number of rows of the DataFrame. If it differs, you will get an error. To see this, look at the code below."
   ]
  },
  {
   "cell_type": "code",
   "execution_count": 10,
   "metadata": {},
   "outputs": [
    {
     "ename": "ValueError",
     "evalue": "Length of values (2) does not match length of index (34)",
     "output_type": "error",
     "traceback": [
      "\u001b[1;31m---------------------------------------------------------------------------\u001b[0m",
      "\u001b[1;31mValueError\u001b[0m                                Traceback (most recent call last)",
      "Cell \u001b[1;32mIn[10], line 1\u001b[0m\n\u001b[1;32m----> 1\u001b[0m \u001b[43mdfMSFT\u001b[49m\u001b[43m[\u001b[49m\u001b[38;5;124;43m'\u001b[39;49m\u001b[38;5;124;43mBill Gates likes\u001b[39;49m\u001b[38;5;124;43m'\u001b[39;49m\u001b[43m]\u001b[49m \u001b[38;5;241m=\u001b[39m [\u001b[38;5;124m'\u001b[39m\u001b[38;5;124mDiet Coke and M&Ms\u001b[39m\u001b[38;5;124m'\u001b[39m, \u001b[38;5;124m'\u001b[39m\u001b[38;5;124mRice cakes\u001b[39m\u001b[38;5;124m'\u001b[39m]\n",
      "File \u001b[1;32m~\\miniconda3\\Lib\\site-packages\\pandas\\core\\frame.py:4311\u001b[0m, in \u001b[0;36mDataFrame.__setitem__\u001b[1;34m(self, key, value)\u001b[0m\n\u001b[0;32m   4308\u001b[0m     \u001b[38;5;28mself\u001b[39m\u001b[38;5;241m.\u001b[39m_setitem_array([key], value)\n\u001b[0;32m   4309\u001b[0m \u001b[38;5;28;01melse\u001b[39;00m:\n\u001b[0;32m   4310\u001b[0m     \u001b[38;5;66;03m# set column\u001b[39;00m\n\u001b[1;32m-> 4311\u001b[0m     \u001b[38;5;28;43mself\u001b[39;49m\u001b[38;5;241;43m.\u001b[39;49m\u001b[43m_set_item\u001b[49m\u001b[43m(\u001b[49m\u001b[43mkey\u001b[49m\u001b[43m,\u001b[49m\u001b[43m \u001b[49m\u001b[43mvalue\u001b[49m\u001b[43m)\u001b[49m\n",
      "File \u001b[1;32m~\\miniconda3\\Lib\\site-packages\\pandas\\core\\frame.py:4524\u001b[0m, in \u001b[0;36mDataFrame._set_item\u001b[1;34m(self, key, value)\u001b[0m\n\u001b[0;32m   4514\u001b[0m \u001b[38;5;28;01mdef\u001b[39;00m \u001b[38;5;21m_set_item\u001b[39m(\u001b[38;5;28mself\u001b[39m, key, value) \u001b[38;5;241m-\u001b[39m\u001b[38;5;241m>\u001b[39m \u001b[38;5;28;01mNone\u001b[39;00m:\n\u001b[0;32m   4515\u001b[0m \u001b[38;5;250m    \u001b[39m\u001b[38;5;124;03m\"\"\"\u001b[39;00m\n\u001b[0;32m   4516\u001b[0m \u001b[38;5;124;03m    Add series to DataFrame in specified column.\u001b[39;00m\n\u001b[0;32m   4517\u001b[0m \n\u001b[1;32m   (...)\u001b[0m\n\u001b[0;32m   4522\u001b[0m \u001b[38;5;124;03m    ensure homogeneity.\u001b[39;00m\n\u001b[0;32m   4523\u001b[0m \u001b[38;5;124;03m    \"\"\"\u001b[39;00m\n\u001b[1;32m-> 4524\u001b[0m     value, refs \u001b[38;5;241m=\u001b[39m \u001b[38;5;28;43mself\u001b[39;49m\u001b[38;5;241;43m.\u001b[39;49m\u001b[43m_sanitize_column\u001b[49m\u001b[43m(\u001b[49m\u001b[43mvalue\u001b[49m\u001b[43m)\u001b[49m\n\u001b[0;32m   4526\u001b[0m     \u001b[38;5;28;01mif\u001b[39;00m (\n\u001b[0;32m   4527\u001b[0m         key \u001b[38;5;129;01min\u001b[39;00m \u001b[38;5;28mself\u001b[39m\u001b[38;5;241m.\u001b[39mcolumns\n\u001b[0;32m   4528\u001b[0m         \u001b[38;5;129;01mand\u001b[39;00m value\u001b[38;5;241m.\u001b[39mndim \u001b[38;5;241m==\u001b[39m \u001b[38;5;241m1\u001b[39m\n\u001b[0;32m   4529\u001b[0m         \u001b[38;5;129;01mand\u001b[39;00m \u001b[38;5;129;01mnot\u001b[39;00m \u001b[38;5;28misinstance\u001b[39m(value\u001b[38;5;241m.\u001b[39mdtype, ExtensionDtype)\n\u001b[0;32m   4530\u001b[0m     ):\n\u001b[0;32m   4531\u001b[0m         \u001b[38;5;66;03m# broadcast across multiple columns if necessary\u001b[39;00m\n\u001b[0;32m   4532\u001b[0m         \u001b[38;5;28;01mif\u001b[39;00m \u001b[38;5;129;01mnot\u001b[39;00m \u001b[38;5;28mself\u001b[39m\u001b[38;5;241m.\u001b[39mcolumns\u001b[38;5;241m.\u001b[39mis_unique \u001b[38;5;129;01mor\u001b[39;00m \u001b[38;5;28misinstance\u001b[39m(\u001b[38;5;28mself\u001b[39m\u001b[38;5;241m.\u001b[39mcolumns, MultiIndex):\n",
      "File \u001b[1;32m~\\miniconda3\\Lib\\site-packages\\pandas\\core\\frame.py:5266\u001b[0m, in \u001b[0;36mDataFrame._sanitize_column\u001b[1;34m(self, value)\u001b[0m\n\u001b[0;32m   5263\u001b[0m     \u001b[38;5;28;01mreturn\u001b[39;00m _reindex_for_setitem(value, \u001b[38;5;28mself\u001b[39m\u001b[38;5;241m.\u001b[39mindex)\n\u001b[0;32m   5265\u001b[0m \u001b[38;5;28;01mif\u001b[39;00m is_list_like(value):\n\u001b[1;32m-> 5266\u001b[0m     \u001b[43mcom\u001b[49m\u001b[38;5;241;43m.\u001b[39;49m\u001b[43mrequire_length_match\u001b[49m\u001b[43m(\u001b[49m\u001b[43mvalue\u001b[49m\u001b[43m,\u001b[49m\u001b[43m \u001b[49m\u001b[38;5;28;43mself\u001b[39;49m\u001b[38;5;241;43m.\u001b[39;49m\u001b[43mindex\u001b[49m\u001b[43m)\u001b[49m\n\u001b[0;32m   5267\u001b[0m arr \u001b[38;5;241m=\u001b[39m sanitize_array(value, \u001b[38;5;28mself\u001b[39m\u001b[38;5;241m.\u001b[39mindex, copy\u001b[38;5;241m=\u001b[39m\u001b[38;5;28;01mTrue\u001b[39;00m, allow_2d\u001b[38;5;241m=\u001b[39m\u001b[38;5;28;01mTrue\u001b[39;00m)\n\u001b[0;32m   5268\u001b[0m \u001b[38;5;28;01mif\u001b[39;00m (\n\u001b[0;32m   5269\u001b[0m     \u001b[38;5;28misinstance\u001b[39m(value, Index)\n\u001b[0;32m   5270\u001b[0m     \u001b[38;5;129;01mand\u001b[39;00m value\u001b[38;5;241m.\u001b[39mdtype \u001b[38;5;241m==\u001b[39m \u001b[38;5;124m\"\u001b[39m\u001b[38;5;124mobject\u001b[39m\u001b[38;5;124m\"\u001b[39m\n\u001b[1;32m   (...)\u001b[0m\n\u001b[0;32m   5273\u001b[0m     \u001b[38;5;66;03m# TODO: Remove kludge in sanitize_array for string mode when enforcing\u001b[39;00m\n\u001b[0;32m   5274\u001b[0m     \u001b[38;5;66;03m# this deprecation\u001b[39;00m\n",
      "File \u001b[1;32m~\\miniconda3\\Lib\\site-packages\\pandas\\core\\common.py:573\u001b[0m, in \u001b[0;36mrequire_length_match\u001b[1;34m(data, index)\u001b[0m\n\u001b[0;32m    569\u001b[0m \u001b[38;5;250m\u001b[39m\u001b[38;5;124;03m\"\"\"\u001b[39;00m\n\u001b[0;32m    570\u001b[0m \u001b[38;5;124;03mCheck the length of data matches the length of the index.\u001b[39;00m\n\u001b[0;32m    571\u001b[0m \u001b[38;5;124;03m\"\"\"\u001b[39;00m\n\u001b[0;32m    572\u001b[0m \u001b[38;5;28;01mif\u001b[39;00m \u001b[38;5;28mlen\u001b[39m(data) \u001b[38;5;241m!=\u001b[39m \u001b[38;5;28mlen\u001b[39m(index):\n\u001b[1;32m--> 573\u001b[0m     \u001b[38;5;28;01mraise\u001b[39;00m \u001b[38;5;167;01mValueError\u001b[39;00m(\n\u001b[0;32m    574\u001b[0m         \u001b[38;5;124m\"\u001b[39m\u001b[38;5;124mLength of values \u001b[39m\u001b[38;5;124m\"\u001b[39m\n\u001b[0;32m    575\u001b[0m         \u001b[38;5;124mf\u001b[39m\u001b[38;5;124m\"\u001b[39m\u001b[38;5;124m(\u001b[39m\u001b[38;5;132;01m{\u001b[39;00m\u001b[38;5;28mlen\u001b[39m(data)\u001b[38;5;132;01m}\u001b[39;00m\u001b[38;5;124m) \u001b[39m\u001b[38;5;124m\"\u001b[39m\n\u001b[0;32m    576\u001b[0m         \u001b[38;5;124m\"\u001b[39m\u001b[38;5;124mdoes not match length of index \u001b[39m\u001b[38;5;124m\"\u001b[39m\n\u001b[0;32m    577\u001b[0m         \u001b[38;5;124mf\u001b[39m\u001b[38;5;124m\"\u001b[39m\u001b[38;5;124m(\u001b[39m\u001b[38;5;132;01m{\u001b[39;00m\u001b[38;5;28mlen\u001b[39m(index)\u001b[38;5;132;01m}\u001b[39;00m\u001b[38;5;124m)\u001b[39m\u001b[38;5;124m\"\u001b[39m\n\u001b[0;32m    578\u001b[0m     )\n",
      "\u001b[1;31mValueError\u001b[0m: Length of values (2) does not match length of index (34)"
     ]
    }
   ],
   "source": [
    "dfMSFT['Bill Gates likes'] = ['Diet Coke and M&Ms', 'Rice cakes']"
   ]
  },
  {
   "cell_type": "markdown",
   "metadata": {},
   "source": [
    "Look at the last line of the error message. It tells you that the list length does not equal the number of rows."
   ]
  },
  {
   "cell_type": "markdown",
   "metadata": {},
   "source": [
    "## Creating a Column as a Transformation of an Existing Column"
   ]
  },
  {
   "cell_type": "markdown",
   "metadata": {},
   "source": [
    "It is very common to transform a column. By transform, we mean do something to it, like strip out white space, or perform a mathematical transformation. In this section, we will provide some examples that show you how to do it. We will:\n",
    "\n",
    "* Strip whitespace from all string columns.\n",
    "* Convert state abbreviations to uppercase.\n",
    "* Convert all balance sheet and income statement columns from millions of dollars to actual dollars.\n",
    "\n",
    "Often, when cleaning data like this, you want to clean the data \"in place\". That means that you don't want to create new columns. You want to transform the data and store it in the existing columns. We'll show you how to do that with the string columns. For the numeric columns, we'll create new columns."
   ]
  },
  {
   "cell_type": "markdown",
   "metadata": {},
   "source": [
    "### Example: Strip whitespace from string columns; do it \"in place\""
   ]
  },
  {
   "cell_type": "markdown",
   "metadata": {},
   "source": [
    "Let's take a look at the values in the _City_ column. If you look closely, you'll find that there are unneeded whitespace characters. We put those there to dirty the data. See the next cell:"
   ]
  },
  {
   "cell_type": "code",
   "execution_count": 11,
   "metadata": {},
   "outputs": [
    {
     "data": {
      "text/plain": [
       "'  Redmond '"
      ]
     },
     "execution_count": 11,
     "metadata": {},
     "output_type": "execute_result"
    }
   ],
   "source": [
    "dfMSFT.at[0, 'City']"
   ]
  },
  {
   "cell_type": "markdown",
   "metadata": {},
   "source": [
    "The following code cell strips whitespace from the _City_ column and saves the result in the same column:"
   ]
  },
  {
   "cell_type": "code",
   "execution_count": 12,
   "metadata": {},
   "outputs": [],
   "source": [
    "dfMSFT['City'] = dfMSFT['City'].str.strip()"
   ]
  },
  {
   "cell_type": "markdown",
   "metadata": {},
   "source": [
    "Let's analyze the previous code, specifically the right-hand side of the equals sign. There, we wrote `dfMSFT['City'].str.strip()`. That tells Pandas to take the column _City_ as a Series and run the string method `strip`. With no arguments, that method removes leading and trailing whitespace characters from every value in the Series and returns a new Series. We then save that new Series in the existing column `dfMSFT['City']`. Let's check whether it worked by running the code below:"
   ]
  },
  {
   "cell_type": "code",
   "execution_count": 13,
   "metadata": {},
   "outputs": [
    {
     "data": {
      "text/plain": [
       "'Redmond'"
      ]
     },
     "execution_count": 13,
     "metadata": {},
     "output_type": "execute_result"
    }
   ],
   "source": [
    "dfMSFT.at[0, 'City']"
   ]
  },
  {
   "cell_type": "markdown",
   "metadata": {},
   "source": [
    "Now let's repeat this for all string columns. The easiest way to do that is with a for loop. Notice that we are using the for loop to iterate over columns. That's fine. Do not iterate over rows with a for loop unless absolutely necessary! Iterating over rows is very slow. It's literally thousands of times faster to use Pandas methods to iterate over rows."
   ]
  },
  {
   "cell_type": "code",
   "execution_count": 14,
   "metadata": {},
   "outputs": [],
   "source": [
    "for col in ['Address', 'City', 'State', 'Ticker', 'Bill Gates likes']:\n",
    "    dfMSFT[col] = dfMSFT[col].str.strip()"
   ]
  },
  {
   "cell_type": "markdown",
   "metadata": {},
   "source": [
    "Notice how compact the code is! For each column, it strips the whitespace and saves the new, cleaned column in its original location."
   ]
  },
  {
   "cell_type": "markdown",
   "metadata": {},
   "source": [
    "### Example: Convert a string column to uppercase; do it \"in place\""
   ]
  },
  {
   "cell_type": "markdown",
   "metadata": {},
   "source": [
    "Notice that the _State_ column contains the string 'wa'. In the U.S., we typically write state abbreviations using uppercase. Let's convert that column. The code is very similar to what we did in the previous section."
   ]
  },
  {
   "cell_type": "code",
   "execution_count": 15,
   "metadata": {},
   "outputs": [
    {
     "data": {
      "text/html": [
       "<div>\n",
       "<style scoped>\n",
       "    .dataframe tbody tr th:only-of-type {\n",
       "        vertical-align: middle;\n",
       "    }\n",
       "\n",
       "    .dataframe tbody tr th {\n",
       "        vertical-align: top;\n",
       "    }\n",
       "\n",
       "    .dataframe thead th {\n",
       "        text-align: right;\n",
       "    }\n",
       "</style>\n",
       "<table border=\"1\" class=\"dataframe\">\n",
       "  <thead>\n",
       "    <tr style=\"text-align: right;\">\n",
       "      <th></th>\n",
       "      <th>Fiscal Year</th>\n",
       "      <th>Assets - Total</th>\n",
       "      <th>Common Equity</th>\n",
       "      <th>Net Income</th>\n",
       "      <th>Adjusted Price Close - Fiscal</th>\n",
       "      <th>Address</th>\n",
       "      <th>ZIP Code</th>\n",
       "      <th>City</th>\n",
       "      <th>State</th>\n",
       "      <th>Ticker</th>\n",
       "      <th>Bill Gates likes</th>\n",
       "    </tr>\n",
       "  </thead>\n",
       "  <tbody>\n",
       "    <tr>\n",
       "      <th>0</th>\n",
       "      <td>1986</td>\n",
       "      <td>170.739</td>\n",
       "      <td>139.332</td>\n",
       "      <td>39.254</td>\n",
       "      <td>0.068926</td>\n",
       "      <td>One Microsoft Way</td>\n",
       "      <td>98052</td>\n",
       "      <td>Redmond</td>\n",
       "      <td>WA</td>\n",
       "      <td>MSFT</td>\n",
       "      <td>Diet Coke and M&amp;Ms</td>\n",
       "    </tr>\n",
       "    <tr>\n",
       "      <th>1</th>\n",
       "      <td>1987</td>\n",
       "      <td>287.754</td>\n",
       "      <td>239.105</td>\n",
       "      <td>71.878</td>\n",
       "      <td>0.228631</td>\n",
       "      <td>One Microsoft Way</td>\n",
       "      <td>98052</td>\n",
       "      <td>Redmond</td>\n",
       "      <td>WA</td>\n",
       "      <td>MSFT</td>\n",
       "      <td>Diet Coke and M&amp;Ms</td>\n",
       "    </tr>\n",
       "    <tr>\n",
       "      <th>2</th>\n",
       "      <td>1988</td>\n",
       "      <td>493.019</td>\n",
       "      <td>375.498</td>\n",
       "      <td>123.908</td>\n",
       "      <td>0.300359</td>\n",
       "      <td>One Microsoft Way</td>\n",
       "      <td>98052</td>\n",
       "      <td>Redmond</td>\n",
       "      <td>WA</td>\n",
       "      <td>MSFT</td>\n",
       "      <td>Diet Coke and M&amp;Ms</td>\n",
       "    </tr>\n",
       "  </tbody>\n",
       "</table>\n",
       "</div>"
      ],
      "text/plain": [
       "   Fiscal Year  Assets - Total  Common Equity  Net Income  \\\n",
       "0         1986         170.739        139.332      39.254   \n",
       "1         1987         287.754        239.105      71.878   \n",
       "2         1988         493.019        375.498     123.908   \n",
       "\n",
       "   Adjusted Price Close - Fiscal            Address  ZIP Code     City State  \\\n",
       "0                       0.068926  One Microsoft Way     98052  Redmond    WA   \n",
       "1                       0.228631  One Microsoft Way     98052  Redmond    WA   \n",
       "2                       0.300359  One Microsoft Way     98052  Redmond    WA   \n",
       "\n",
       "  Ticker    Bill Gates likes  \n",
       "0   MSFT  Diet Coke and M&Ms  \n",
       "1   MSFT  Diet Coke and M&Ms  \n",
       "2   MSFT  Diet Coke and M&Ms  "
      ]
     },
     "execution_count": 15,
     "metadata": {},
     "output_type": "execute_result"
    }
   ],
   "source": [
    "dfMSFT['State'] = dfMSFT['State'].str.upper()\n",
    "dfMSFT.head(3)"
   ]
  },
  {
   "cell_type": "markdown",
   "metadata": {},
   "source": [
    "Notice that we called the built-in string method `upper` on the column and saved the result in the column _State_. The code took the column _State_, which is a Series, and ran a string method on it. That method returned a new Series, which we saved as the column _State_. Thus, the new Series overwrote the existing Series."
   ]
  },
  {
   "cell_type": "markdown",
   "metadata": {},
   "source": [
    "### Link to Documentation for Pandas Built-In String Methods"
   ]
  },
  {
   "cell_type": "markdown",
   "metadata": {},
   "source": [
    "Pandas provides many useful methods for working with columns of strings. Here's [a link to the documentation](https://pandas.pydata.org/pandas-docs/stable/user_guide/text.html#method-summary). Check it out! We usually learn something new every time we visit this page."
   ]
  },
  {
   "cell_type": "markdown",
   "metadata": {},
   "source": [
    "### Example: Convert numeric columns from millions to actual; create new columns"
   ]
  },
  {
   "cell_type": "markdown",
   "metadata": {},
   "source": [
    "Sometimes, you wish to transform your data but preserve the existing data. Let's say we want to convert the balance sheet and income statement amounts from millions of dollars to actual dollars. We can do this by multiplying each value by one million. Here's some code to do it:"
   ]
  },
  {
   "cell_type": "code",
   "execution_count": 16,
   "metadata": {},
   "outputs": [],
   "source": [
    "for col in ['Assets - Total', 'Common Equity', 'Net Income']:\n",
    "    dfMSFT[f\"{col} ACTUAL\"] = dfMSFT[col] * 1000000"
   ]
  },
  {
   "cell_type": "markdown",
   "metadata": {},
   "source": [
    "Let's walk through that code for the first column, 'Assets - Total'. When the for loop executed for this value, the variable `col` was set to `'Assets - Total'`. The code that was executed was:\n",
    "```python\n",
    "dfMSFT[f\"{col} ACTUAL\"] = dfMSFT[col] * 1000000\n",
    "```\n",
    "\n",
    "The right-hand side took the Series `dfMSFT['Assets - Total']` and multiplied each value by one million. It saved the result in a new Series. Notice that we didn't have to write a for loop. Pandas automatically did the multiplication for every value in the series. We then stored the result in a new column 'Assets - Total ACTUAL'. Notice we used an f-string to create the new column name.\n",
    "\n",
    "Let's take a look at the first few rows of the data, for only the Assets columns:"
   ]
  },
  {
   "cell_type": "code",
   "execution_count": 17,
   "metadata": {},
   "outputs": [
    {
     "data": {
      "text/html": [
       "<div>\n",
       "<style scoped>\n",
       "    .dataframe tbody tr th:only-of-type {\n",
       "        vertical-align: middle;\n",
       "    }\n",
       "\n",
       "    .dataframe tbody tr th {\n",
       "        vertical-align: top;\n",
       "    }\n",
       "\n",
       "    .dataframe thead th {\n",
       "        text-align: right;\n",
       "    }\n",
       "</style>\n",
       "<table border=\"1\" class=\"dataframe\">\n",
       "  <thead>\n",
       "    <tr style=\"text-align: right;\">\n",
       "      <th></th>\n",
       "      <th>Assets - Total</th>\n",
       "      <th>Assets - Total ACTUAL</th>\n",
       "    </tr>\n",
       "  </thead>\n",
       "  <tbody>\n",
       "    <tr>\n",
       "      <th>0</th>\n",
       "      <td>170.739</td>\n",
       "      <td>1.707390e+08</td>\n",
       "    </tr>\n",
       "    <tr>\n",
       "      <th>1</th>\n",
       "      <td>287.754</td>\n",
       "      <td>2.877540e+08</td>\n",
       "    </tr>\n",
       "    <tr>\n",
       "      <th>2</th>\n",
       "      <td>493.019</td>\n",
       "      <td>4.930190e+08</td>\n",
       "    </tr>\n",
       "    <tr>\n",
       "      <th>3</th>\n",
       "      <td>720.598</td>\n",
       "      <td>7.205980e+08</td>\n",
       "    </tr>\n",
       "    <tr>\n",
       "      <th>4</th>\n",
       "      <td>1105.349</td>\n",
       "      <td>1.105349e+09</td>\n",
       "    </tr>\n",
       "  </tbody>\n",
       "</table>\n",
       "</div>"
      ],
      "text/plain": [
       "   Assets - Total  Assets - Total ACTUAL\n",
       "0         170.739           1.707390e+08\n",
       "1         287.754           2.877540e+08\n",
       "2         493.019           4.930190e+08\n",
       "3         720.598           7.205980e+08\n",
       "4        1105.349           1.105349e+09"
      ]
     },
     "execution_count": 17,
     "metadata": {},
     "output_type": "execute_result"
    }
   ],
   "source": [
    "dfMSFT[['Assets - Total', 'Assets - Total ACTUAL']].head()"
   ]
  },
  {
   "cell_type": "markdown",
   "metadata": {},
   "source": [
    "Notice that, in each row, the amount in the 'Assets - Total ACTUAL' column is exactly one million times the value in the 'Assets - Total' column."
   ]
  },
  {
   "cell_type": "markdown",
   "metadata": {},
   "source": [
    "## Creating a Column as a Combination of Multiple Columns"
   ]
  },
  {
   "cell_type": "markdown",
   "metadata": {},
   "source": [
    "Often, you want to create a column that is a combination of multiple columns. Sometimes, you want to combine the columns using math. In other situations, you want to combine strings. In this section, we'll show you examples of both."
   ]
  },
  {
   "cell_type": "markdown",
   "metadata": {},
   "source": [
    "### Combining Numeric Columns Using Math"
   ]
  },
  {
   "cell_type": "markdown",
   "metadata": {},
   "source": [
    "Let's compute return on assets (ROA) in each year. ROA is defined as net income divided by average total assets during the year. For simplicity, let's just use total assets at the end of the year. Thus, ROA in year t will be computed as net income for year t divided by assets at the end of year t.\n",
    "\n",
    "The code is really simple:"
   ]
  },
  {
   "cell_type": "code",
   "execution_count": 18,
   "metadata": {},
   "outputs": [
    {
     "data": {
      "text/html": [
       "<div>\n",
       "<style scoped>\n",
       "    .dataframe tbody tr th:only-of-type {\n",
       "        vertical-align: middle;\n",
       "    }\n",
       "\n",
       "    .dataframe tbody tr th {\n",
       "        vertical-align: top;\n",
       "    }\n",
       "\n",
       "    .dataframe thead th {\n",
       "        text-align: right;\n",
       "    }\n",
       "</style>\n",
       "<table border=\"1\" class=\"dataframe\">\n",
       "  <thead>\n",
       "    <tr style=\"text-align: right;\">\n",
       "      <th></th>\n",
       "      <th>Net Income</th>\n",
       "      <th>Assets - Total</th>\n",
       "      <th>ROA</th>\n",
       "    </tr>\n",
       "  </thead>\n",
       "  <tbody>\n",
       "    <tr>\n",
       "      <th>0</th>\n",
       "      <td>39.254</td>\n",
       "      <td>170.739</td>\n",
       "      <td>0.229906</td>\n",
       "    </tr>\n",
       "    <tr>\n",
       "      <th>1</th>\n",
       "      <td>71.878</td>\n",
       "      <td>287.754</td>\n",
       "      <td>0.249790</td>\n",
       "    </tr>\n",
       "    <tr>\n",
       "      <th>2</th>\n",
       "      <td>123.908</td>\n",
       "      <td>493.019</td>\n",
       "      <td>0.251325</td>\n",
       "    </tr>\n",
       "    <tr>\n",
       "      <th>3</th>\n",
       "      <td>170.538</td>\n",
       "      <td>720.598</td>\n",
       "      <td>0.236662</td>\n",
       "    </tr>\n",
       "    <tr>\n",
       "      <th>4</th>\n",
       "      <td>279.186</td>\n",
       "      <td>1105.349</td>\n",
       "      <td>0.252577</td>\n",
       "    </tr>\n",
       "  </tbody>\n",
       "</table>\n",
       "</div>"
      ],
      "text/plain": [
       "   Net Income  Assets - Total       ROA\n",
       "0      39.254         170.739  0.229906\n",
       "1      71.878         287.754  0.249790\n",
       "2     123.908         493.019  0.251325\n",
       "3     170.538         720.598  0.236662\n",
       "4     279.186        1105.349  0.252577"
      ]
     },
     "execution_count": 18,
     "metadata": {},
     "output_type": "execute_result"
    }
   ],
   "source": [
    "dfMSFT['ROA'] = dfMSFT['Net Income'] / dfMSFT['Assets - Total']\n",
    "dfMSFT[['Net Income', 'Assets - Total', 'ROA']].head()"
   ]
  },
  {
   "cell_type": "markdown",
   "metadata": {},
   "source": [
    "First, notice that we do not need to adjust for millions. Both net income and total assets are denominated in millions, so we can simply divide the two.\n",
    "\n",
    "Second, look at the line of code:\n",
    "```python\n",
    "dfMSFT['ROA'] = dfMSFT['Net Income'] / dfMSFT['Assets - Total']\n",
    "```\n",
    "\n",
    "We divided a Series by a Series. When we do that, Pandas assumes you want to perform division row-by-row. And since both Series are columns in the same DataFrame, we don't have to worry about length. Since they are columns of the same DataFrame, they have the exact same length."
   ]
  },
  {
   "cell_type": "markdown",
   "metadata": {},
   "source": [
    "### Combining String Columns"
   ]
  },
  {
   "cell_type": "markdown",
   "metadata": {},
   "source": [
    "Our data has separate columns for the street address, city, state, and ZIP code. Let's combine them into a complete postal address. Take a look at the code below. The string `'\\n'` means \"newline character\"."
   ]
  },
  {
   "cell_type": "code",
   "execution_count": 19,
   "metadata": {},
   "outputs": [],
   "source": [
    "dfMSFT['Full Address'] = dfMSFT['Address'] + '\\n' + dfMSFT['City'] + ', ' + dfMSFT['State'] + ' ' + dfMSFT['ZIP Code'].astype(str)"
   ]
  },
  {
   "cell_type": "markdown",
   "metadata": {},
   "source": [
    "The above code adds multiple Series together. As with numeric columns, Pandas assumes you want to combine values in each row. Also notice that we can add a single string value to a Series and Pandas figures out you want to add that value to every row.\n",
    "\n",
    "Finally, notice that we had to convert the _ZIP Code_ column to string before we could add it to the other string columns.\n",
    "\n",
    "Let's take a look at one of the final address values:"
   ]
  },
  {
   "cell_type": "code",
   "execution_count": 20,
   "metadata": {},
   "outputs": [
    {
     "name": "stdout",
     "output_type": "stream",
     "text": [
      "One Microsoft Way\n",
      "Redmond, WA 98052\n"
     ]
    }
   ],
   "source": [
    "print(dfMSFT.at[0, 'Full Address'])"
   ]
  },
  {
   "cell_type": "markdown",
   "metadata": {},
   "source": [
    "You might think this is a trivial example because the address is the same in every year. However, companies sometimes move their headquarters. For example, a few years ago, Boeing Corp. moved their headquarters from Seattle to Chicago."
   ]
  },
  {
   "cell_type": "markdown",
   "metadata": {},
   "source": [
    "## Conditionals: Creating a Column Using an if-statement"
   ]
  },
  {
   "cell_type": "markdown",
   "metadata": {},
   "source": [
    "Say you want to create a column whose values are based on a condition. Let's say that in years where Microsoft's ROA exceeds 20%, you were impressed. In other years, you were underwhelmed. You want a new column called _Impression_ that contains the string \"Wow!\" or \"Meh\", based on the ROA in that year.\n",
    "\n",
    "There are many ways to do this. We recommend you use the NumPy function `numpy.where`. Here's a link to [the official documentation for that function](https://docs.scipy.org/doc/numpy/reference/generated/numpy.where.html).\n",
    "\n",
    "Take a look at the code cell below:"
   ]
  },
  {
   "cell_type": "code",
   "execution_count": 21,
   "metadata": {},
   "outputs": [],
   "source": [
    "dfMSFT['Performance'] = np.where(dfMSFT['ROA'] > 0.2, \"Wow!\", \"Meh\")"
   ]
  },
  {
   "cell_type": "markdown",
   "metadata": {},
   "source": [
    "The [documentation for numpy.where](https://docs.scipy.org/doc/numpy/reference/generated/numpy.where.html) tells us that the first argument is a condition that can be \"array like\". That means we can pass it a Series of True/False values, which we did. We passed it a Series that contains True for values that exceed 20%, and False otherwise. The next argument is \"x\", which is the value returned for True values. The final argument is \"y\", the value returned for False values.\n",
    "\n",
    "Numpy.where created an \"array\", which is like a list. Since Pandas is built on top of NumPy, Pandas converted that array to a Series and then created a new column called 'Performance'.\n",
    "\n",
    "Let's take a look at 5 randomly chosen rows below. Notice that those rows that contain ROA greater (fiscal years 1990 and 2008) than 20% have \"Wow!\" in the new column. Rows that don't meet that condition have \"Meh\" in the new column (fiscal years 2017, 2004, and 2003)."
   ]
  },
  {
   "cell_type": "code",
   "execution_count": 22,
   "metadata": {},
   "outputs": [
    {
     "data": {
      "text/html": [
       "<div>\n",
       "<style scoped>\n",
       "    .dataframe tbody tr th:only-of-type {\n",
       "        vertical-align: middle;\n",
       "    }\n",
       "\n",
       "    .dataframe tbody tr th {\n",
       "        vertical-align: top;\n",
       "    }\n",
       "\n",
       "    .dataframe thead th {\n",
       "        text-align: right;\n",
       "    }\n",
       "</style>\n",
       "<table border=\"1\" class=\"dataframe\">\n",
       "  <thead>\n",
       "    <tr style=\"text-align: right;\">\n",
       "      <th></th>\n",
       "      <th>Fiscal Year</th>\n",
       "      <th>ROA</th>\n",
       "      <th>Performance</th>\n",
       "    </tr>\n",
       "  </thead>\n",
       "  <tbody>\n",
       "    <tr>\n",
       "      <th>4</th>\n",
       "      <td>1990</td>\n",
       "      <td>0.252577</td>\n",
       "      <td>Wow!</td>\n",
       "    </tr>\n",
       "    <tr>\n",
       "      <th>31</th>\n",
       "      <td>2017</td>\n",
       "      <td>0.087952</td>\n",
       "      <td>Meh</td>\n",
       "    </tr>\n",
       "    <tr>\n",
       "      <th>18</th>\n",
       "      <td>2004</td>\n",
       "      <td>0.088409</td>\n",
       "      <td>Meh</td>\n",
       "    </tr>\n",
       "    <tr>\n",
       "      <th>22</th>\n",
       "      <td>2008</td>\n",
       "      <td>0.242894</td>\n",
       "      <td>Wow!</td>\n",
       "    </tr>\n",
       "    <tr>\n",
       "      <th>17</th>\n",
       "      <td>2003</td>\n",
       "      <td>0.125586</td>\n",
       "      <td>Meh</td>\n",
       "    </tr>\n",
       "  </tbody>\n",
       "</table>\n",
       "</div>"
      ],
      "text/plain": [
       "    Fiscal Year       ROA Performance\n",
       "4          1990  0.252577        Wow!\n",
       "31         2017  0.087952         Meh\n",
       "18         2004  0.088409         Meh\n",
       "22         2008  0.242894        Wow!\n",
       "17         2003  0.125586         Meh"
      ]
     },
     "execution_count": 22,
     "metadata": {},
     "output_type": "execute_result"
    }
   ],
   "source": [
    "dfMSFT[['Fiscal Year', 'ROA', 'Performance']].sample(n=5, random_state=3)"
   ]
  }
 ],
 "metadata": {
  "kernelspec": {
   "display_name": "Python 3 (ipykernel)",
   "language": "python",
   "name": "python3"
  },
  "language_info": {
   "codemirror_mode": {
    "name": "ipython",
    "version": 3
   },
   "file_extension": ".py",
   "mimetype": "text/x-python",
   "name": "python",
   "nbconvert_exporter": "python",
   "pygments_lexer": "ipython3",
   "version": "3.11.9"
  }
 },
 "nbformat": 4,
 "nbformat_minor": 4
}
