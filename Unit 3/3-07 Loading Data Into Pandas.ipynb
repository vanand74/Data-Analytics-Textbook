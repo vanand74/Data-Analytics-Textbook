{
 "cells": [
  {
   "cell_type": "markdown",
   "metadata": {},
   "source": [
    "# Loading Data Into Pandas"
   ]
  },
  {
   "cell_type": "markdown",
   "metadata": {},
   "source": [
    "## Learning Objectives"
   ]
  },
  {
   "cell_type": "markdown",
   "metadata": {},
   "source": [
    "<div style=\"border: 1px solid black; padding: 10px; background-color: #EDEDED;\">\n",
    "    <ul>\n",
    "        <li>Use the pd.read_excel function to:</li>\n",
    "        <ul>\n",
    "            <li>Create a DataFrame from a simple, properly formatted Excel file with a single sheet.</li>\n",
    "            <li>Import data from a specific worksheet.</li>\n",
    "            <li>Import data that is missing a header row.</li>\n",
    "            <li>Skip rows in an Excel worksheet</li>\n",
    "        </ul>\n",
    "        <li>Use the pd.read_csv function to:</li>\n",
    "        <ul>\n",
    "            <li>Create a DataFrame from a clean CSV file.</li>\n",
    "            <li>Import CSV data that lacks a header row.</li>\n",
    "            <li>Skip rows in a CSV file.</li>\n",
    "            <li>Predict when numbers in CSV files will be imported as strings.</li>\n",
    "        </ul>\n",
    "        <li>Clean a column of strings by removing unwanted characters, including leading and trailing spaces.</li>\n",
    "        <li>Working with Dates:</li>\n",
    "        <ul>\n",
    "            <li>Understand that dates in CSV files will be imported as strings.</li>\n",
    "            <li>Use the parse_dates argument to tell Pandas to parse dates in specific columns.</li>\n",
    "            <li>Predict when parse_dates will not perform a desired conversion.</li>\n",
    "            <li>Use pd.to_datetime to convert a column of dates.</li>\n",
    "            <li>Be aware of the standard date format strings at <a href=\"http://strftime.org/\">strftime.org</a></li>\n",
    "        </ul>\n",
    "    </ul>\n",
    "</div>"
   ]
  },
  {
   "cell_type": "markdown",
   "metadata": {},
   "source": [
    "## Overview"
   ]
  },
  {
   "cell_type": "markdown",
   "metadata": {},
   "source": [
    "In this chapter, you will learn how to load data into a Pandas DataFrame. Remember that loading is the process of reading data from its source format into a software package. \n",
    "\n",
    "While there are many different source formats for data, we will focus on only two in this chapter, Excel files and CSV files. As an accountant, you are very likely to encounter these. We will not show you how to load data from a database at this time."
   ]
  },
  {
   "cell_type": "markdown",
   "metadata": {},
   "source": [
    "## Imports"
   ]
  },
  {
   "cell_type": "code",
   "execution_count": 1,
   "metadata": {},
   "outputs": [],
   "source": [
    "import numpy as np\n",
    "import pandas as pd"
   ]
  },
  {
   "cell_type": "markdown",
   "metadata": {},
   "source": [
    "## The `read_excel` Function"
   ]
  },
  {
   "cell_type": "markdown",
   "metadata": {},
   "source": [
    "Pandas provides a really nice function called `read_excel` for reading data from an Excel file. This function is very powerful and flexible, but for teaching purposes, we'll start with a really simple example of its use."
   ]
  },
  {
   "cell_type": "markdown",
   "metadata": {},
   "source": [
    "### Using `read_excel` with a Simple Excel Workbook (1 sheet, properly formatted data)"
   ]
  },
  {
   "cell_type": "markdown",
   "metadata": {},
   "source": [
    "Pandas provides a really nice function called `read_excel` for reading data from an Excel file. This function is very powerful and flexible, but for teaching purposes, we'll start with a really simple example of its use.\n",
    "\n",
    "When you downloaded these course notes, you should have also downloaded two subfolders, _data_ and _imgs_. Inside the _data_ subfolder, there should be an Excel file named _Stocks1.xlsx_. Open that file in Excel so you can see its contents. For convenience, we include a snapshot of its contents below. Notice that the file contains a single worksheet named _Sheet1_.\n",
    "\n",
    "![alt text](imgs/stocks1.png \"Snapshot of Stocks1.xlsx\")"
   ]
  },
  {
   "cell_type": "markdown",
   "metadata": {},
   "source": [
    "To read this Excel sheet into a DataFrame, we will call the function `pd.read_excel`. We will pass a single argument, a path to the file. Notice that, in the code below, I used what's called a \"relative path\". Instead of specifying the full path to the file, I told Python to look in the current folder for a subfolder called _data_. Within that subfolder, look for a file _Stocks1.xlsx_. I could have also used the full path, which on my computer is _C:\\Users\\vanand\\Box Sync\\ACCY 570 Fall 2019\\Common\\Course notes\\Unit 3 - Working with datasets\\data\\Stocks1.xlsx_."
   ]
  },
  {
   "cell_type": "code",
   "execution_count": 2,
   "metadata": {},
   "outputs": [
    {
     "data": {
      "text/html": [
       "<div>\n",
       "<style scoped>\n",
       "    .dataframe tbody tr th:only-of-type {\n",
       "        vertical-align: middle;\n",
       "    }\n",
       "\n",
       "    .dataframe tbody tr th {\n",
       "        vertical-align: top;\n",
       "    }\n",
       "\n",
       "    .dataframe thead th {\n",
       "        text-align: right;\n",
       "    }\n",
       "</style>\n",
       "<table border=\"1\" class=\"dataframe\">\n",
       "  <thead>\n",
       "    <tr style=\"text-align: right;\">\n",
       "      <th></th>\n",
       "      <th>Company Name</th>\n",
       "      <th>Ticker</th>\n",
       "      <th>Closing Price</th>\n",
       "    </tr>\n",
       "  </thead>\n",
       "  <tbody>\n",
       "    <tr>\n",
       "      <th>0</th>\n",
       "      <td>Walmart</td>\n",
       "      <td>WMT</td>\n",
       "      <td>119.14</td>\n",
       "    </tr>\n",
       "    <tr>\n",
       "      <th>1</th>\n",
       "      <td>Target Corporation</td>\n",
       "      <td>TGT</td>\n",
       "      <td>112.81</td>\n",
       "    </tr>\n",
       "    <tr>\n",
       "      <th>2</th>\n",
       "      <td>Best Buy Co.</td>\n",
       "      <td>BBY</td>\n",
       "      <td>70.52</td>\n",
       "    </tr>\n",
       "  </tbody>\n",
       "</table>\n",
       "</div>"
      ],
      "text/plain": [
       "         Company Name Ticker  Closing Price\n",
       "0             Walmart    WMT         119.14\n",
       "1  Target Corporation    TGT         112.81\n",
       "2        Best Buy Co.    BBY          70.52"
      ]
     },
     "execution_count": 2,
     "metadata": {},
     "output_type": "execute_result"
    }
   ],
   "source": [
    "dfStocks = pd.read_excel('data/Stocks1.xlsx')\n",
    "dfStocks"
   ]
  },
  {
   "cell_type": "markdown",
   "metadata": {},
   "source": [
    "That's it! It's that simple. If we check the type of the variable `dfStocks` by typing `type(dfStocks)`, the output will be `pandas.core.frame.DataFrame`."
   ]
  },
  {
   "cell_type": "markdown",
   "metadata": {},
   "source": [
    "Notice that the `read_excel` function assumed that the first row contained column names and automatically used them as column labels in the DataFrame. Also notice that, even though column C of the Excel file contains dollar signs, `read_excel` figured out that we wanted floats and automatically converted the values to float. To see this, run the following code. The code uses some functionality you haven't learned yet, so don't worry if you don't understand why it works."
   ]
  },
  {
   "cell_type": "code",
   "execution_count": 3,
   "metadata": {},
   "outputs": [
    {
     "data": {
      "text/plain": [
       "dtype('float64')"
      ]
     },
     "execution_count": 3,
     "metadata": {},
     "output_type": "execute_result"
    }
   ],
   "source": [
    "dfStocks['Closing Price'].dtype"
   ]
  },
  {
   "cell_type": "markdown",
   "metadata": {},
   "source": [
    "### Using `read_excel` with an Excel Workbook with Multiple Sheets of properly formatted data"
   ]
  },
  {
   "cell_type": "markdown",
   "metadata": {},
   "source": [
    "Often your Excel workbooks will have multiple worksheets. By default, `read_excel` will read data from the first worksheet in the workbook. If you want to read a different worksheet, use the optional keyword argument *sheet_name*. The *sheet_name* argument accepts the following values:\n",
    "* A string containing the name of the worksheet\n",
    "* A zero-based integer index of the worksheet. 0 means the first worksheet, 1 means the second worksheet, and so on.\n",
    "\n",
    "To see the *sheet_name* argument in action, let's work with a second Excel file, _stocks2.xlsx_. This file should be located in the subfolder _data_ that resides in the same folder as this notebook. Open the Excel file in Excel and take a look. Notice there are two worksheets, _10-18 Data_ and _10-21 Data_. Let's load only the second worksheet."
   ]
  },
  {
   "cell_type": "code",
   "execution_count": 4,
   "metadata": {},
   "outputs": [
    {
     "data": {
      "text/html": [
       "<div>\n",
       "<style scoped>\n",
       "    .dataframe tbody tr th:only-of-type {\n",
       "        vertical-align: middle;\n",
       "    }\n",
       "\n",
       "    .dataframe tbody tr th {\n",
       "        vertical-align: top;\n",
       "    }\n",
       "\n",
       "    .dataframe thead th {\n",
       "        text-align: right;\n",
       "    }\n",
       "</style>\n",
       "<table border=\"1\" class=\"dataframe\">\n",
       "  <thead>\n",
       "    <tr style=\"text-align: right;\">\n",
       "      <th></th>\n",
       "      <th>Company Name</th>\n",
       "      <th>Ticker</th>\n",
       "      <th>Closing Price</th>\n",
       "    </tr>\n",
       "  </thead>\n",
       "  <tbody>\n",
       "    <tr>\n",
       "      <th>0</th>\n",
       "      <td>Microsoft</td>\n",
       "      <td>MSFT</td>\n",
       "      <td>138.43</td>\n",
       "    </tr>\n",
       "    <tr>\n",
       "      <th>1</th>\n",
       "      <td>Apple</td>\n",
       "      <td>AAPL</td>\n",
       "      <td>240.51</td>\n",
       "    </tr>\n",
       "    <tr>\n",
       "      <th>2</th>\n",
       "      <td>Google</td>\n",
       "      <td>GOOG</td>\n",
       "      <td>1246.15</td>\n",
       "    </tr>\n",
       "    <tr>\n",
       "      <th>3</th>\n",
       "      <td>Oracle</td>\n",
       "      <td>ORCL</td>\n",
       "      <td>55.13</td>\n",
       "    </tr>\n",
       "    <tr>\n",
       "      <th>4</th>\n",
       "      <td>SAP</td>\n",
       "      <td>SAP</td>\n",
       "      <td>132.71</td>\n",
       "    </tr>\n",
       "  </tbody>\n",
       "</table>\n",
       "</div>"
      ],
      "text/plain": [
       "  Company Name Ticker  Closing Price\n",
       "0    Microsoft   MSFT         138.43\n",
       "1        Apple   AAPL         240.51\n",
       "2       Google   GOOG        1246.15\n",
       "3       Oracle   ORCL          55.13\n",
       "4          SAP    SAP         132.71"
      ]
     },
     "execution_count": 4,
     "metadata": {},
     "output_type": "execute_result"
    }
   ],
   "source": [
    "# Read the second worksheet\n",
    "# We could also have used the argument sheet_name=1\n",
    "dfSheet2 = pd.read_excel('data/stocks2.xlsx', sheet_name=\"10-21 Data\")\n",
    "dfSheet2"
   ]
  },
  {
   "cell_type": "markdown",
   "metadata": {},
   "source": [
    "Notice that we passed the argument `sheet_name=\"10-21 Data\"` to `read_excel`. That told `read_excel` to read the contents of the worksheet named \"10-21 Data\". Since that worksheet was the second worksheet in the workbook, we could also have passed the argument `sheet_name=1`.\n",
    "\n",
    "Also, notice that in Excel, Google's stock price is shown as \"\\\\$1,245.15\". There's a dollar sign and a comma. However, internally Excel represents that as a float and `read_excel` automatically gets that float."
   ]
  },
  {
   "cell_type": "markdown",
   "metadata": {},
   "source": [
    "### Using `read_excel` When the Header Row is Missing"
   ]
  },
  {
   "cell_type": "markdown",
   "metadata": {},
   "source": [
    "Real-world data is often messy. In this section, we'll show you how to handle a situation where the header row is missing from your data.\n",
    "\n",
    "Open the file _Stocks DIRTY.xlsx_ in the data subfolder. That workbook has two worksheets. We show you a snapshot of the first worksheet, _No header_, below.  \n",
    "![alt text](imgs/Stocks_dirty_missing_header.png \"Snapshot of data with missing header\")"
   ]
  },
  {
   "cell_type": "markdown",
   "metadata": {},
   "source": [
    "Let's see what happens when we try to load this data without telling `read_excel` that the header is missing:"
   ]
  },
  {
   "cell_type": "code",
   "execution_count": 5,
   "metadata": {},
   "outputs": [
    {
     "data": {
      "text/html": [
       "<div>\n",
       "<style scoped>\n",
       "    .dataframe tbody tr th:only-of-type {\n",
       "        vertical-align: middle;\n",
       "    }\n",
       "\n",
       "    .dataframe tbody tr th {\n",
       "        vertical-align: top;\n",
       "    }\n",
       "\n",
       "    .dataframe thead th {\n",
       "        text-align: right;\n",
       "    }\n",
       "</style>\n",
       "<table border=\"1\" class=\"dataframe\">\n",
       "  <thead>\n",
       "    <tr style=\"text-align: right;\">\n",
       "      <th></th>\n",
       "      <th>Walmart</th>\n",
       "      <th>WMT</th>\n",
       "      <th>119.14</th>\n",
       "    </tr>\n",
       "  </thead>\n",
       "  <tbody>\n",
       "    <tr>\n",
       "      <th>0</th>\n",
       "      <td>Target Corporation</td>\n",
       "      <td>TGT</td>\n",
       "      <td>112.81</td>\n",
       "    </tr>\n",
       "    <tr>\n",
       "      <th>1</th>\n",
       "      <td>Best Buy Co.</td>\n",
       "      <td>BBY</td>\n",
       "      <td>70.52</td>\n",
       "    </tr>\n",
       "  </tbody>\n",
       "</table>\n",
       "</div>"
      ],
      "text/plain": [
       "              Walmart  WMT  119.14\n",
       "0  Target Corporation  TGT  112.81\n",
       "1        Best Buy Co.  BBY   70.52"
      ]
     },
     "execution_count": 5,
     "metadata": {},
     "output_type": "execute_result"
    }
   ],
   "source": [
    "dfStocks = pd.read_excel('data/Stocks DIRTY.xlsx', sheet_name=\"No header\")\n",
    "dfStocks"
   ]
  },
  {
   "cell_type": "markdown",
   "metadata": {},
   "source": [
    "Ick. That's not good! It looks like `read_excel` assumed that the first row contained header information. It used the values in the first row as column labels. \n",
    "\n",
    "Let's try again. This time, we will use the _header_ keyword argument. If we pass that argument with the Python value `None`, that tells `read_excel` that there's no header:"
   ]
  },
  {
   "cell_type": "code",
   "execution_count": 6,
   "metadata": {},
   "outputs": [
    {
     "data": {
      "text/html": [
       "<div>\n",
       "<style scoped>\n",
       "    .dataframe tbody tr th:only-of-type {\n",
       "        vertical-align: middle;\n",
       "    }\n",
       "\n",
       "    .dataframe tbody tr th {\n",
       "        vertical-align: top;\n",
       "    }\n",
       "\n",
       "    .dataframe thead th {\n",
       "        text-align: right;\n",
       "    }\n",
       "</style>\n",
       "<table border=\"1\" class=\"dataframe\">\n",
       "  <thead>\n",
       "    <tr style=\"text-align: right;\">\n",
       "      <th></th>\n",
       "      <th>0</th>\n",
       "      <th>1</th>\n",
       "      <th>2</th>\n",
       "    </tr>\n",
       "  </thead>\n",
       "  <tbody>\n",
       "    <tr>\n",
       "      <th>0</th>\n",
       "      <td>Walmart</td>\n",
       "      <td>WMT</td>\n",
       "      <td>119.14</td>\n",
       "    </tr>\n",
       "    <tr>\n",
       "      <th>1</th>\n",
       "      <td>Target Corporation</td>\n",
       "      <td>TGT</td>\n",
       "      <td>112.81</td>\n",
       "    </tr>\n",
       "    <tr>\n",
       "      <th>2</th>\n",
       "      <td>Best Buy Co.</td>\n",
       "      <td>BBY</td>\n",
       "      <td>70.52</td>\n",
       "    </tr>\n",
       "  </tbody>\n",
       "</table>\n",
       "</div>"
      ],
      "text/plain": [
       "                    0    1       2\n",
       "0             Walmart  WMT  119.14\n",
       "1  Target Corporation  TGT  112.81\n",
       "2        Best Buy Co.  BBY   70.52"
      ]
     },
     "execution_count": 6,
     "metadata": {},
     "output_type": "execute_result"
    }
   ],
   "source": [
    "dfStocks = pd.read_excel('data/Stocks DIRTY.xlsx', \n",
    "                         sheet_name=\"No header\", \n",
    "                         header=None)\n",
    "dfStocks"
   ]
  },
  {
   "cell_type": "markdown",
   "metadata": {},
   "source": [
    "Okay, that's better. Now it put all the data in its proper place. But we still don't have meaningful column names. We could assign those after the fact, like this:\n",
    "```python\n",
    "dfStocks.columns = ['Company Name', 'Ticker', 'Price']\n",
    "```\n",
    "Or... We can use the keyword argument _names_ when we call `read_excel`! Let's do that."
   ]
  },
  {
   "cell_type": "code",
   "execution_count": 7,
   "metadata": {},
   "outputs": [
    {
     "data": {
      "text/html": [
       "<div>\n",
       "<style scoped>\n",
       "    .dataframe tbody tr th:only-of-type {\n",
       "        vertical-align: middle;\n",
       "    }\n",
       "\n",
       "    .dataframe tbody tr th {\n",
       "        vertical-align: top;\n",
       "    }\n",
       "\n",
       "    .dataframe thead th {\n",
       "        text-align: right;\n",
       "    }\n",
       "</style>\n",
       "<table border=\"1\" class=\"dataframe\">\n",
       "  <thead>\n",
       "    <tr style=\"text-align: right;\">\n",
       "      <th></th>\n",
       "      <th>Company Name</th>\n",
       "      <th>Ticker</th>\n",
       "      <th>Price</th>\n",
       "    </tr>\n",
       "  </thead>\n",
       "  <tbody>\n",
       "    <tr>\n",
       "      <th>0</th>\n",
       "      <td>Walmart</td>\n",
       "      <td>WMT</td>\n",
       "      <td>119.14</td>\n",
       "    </tr>\n",
       "    <tr>\n",
       "      <th>1</th>\n",
       "      <td>Target Corporation</td>\n",
       "      <td>TGT</td>\n",
       "      <td>112.81</td>\n",
       "    </tr>\n",
       "    <tr>\n",
       "      <th>2</th>\n",
       "      <td>Best Buy Co.</td>\n",
       "      <td>BBY</td>\n",
       "      <td>70.52</td>\n",
       "    </tr>\n",
       "  </tbody>\n",
       "</table>\n",
       "</div>"
      ],
      "text/plain": [
       "         Company Name Ticker   Price\n",
       "0             Walmart    WMT  119.14\n",
       "1  Target Corporation    TGT  112.81\n",
       "2        Best Buy Co.    BBY   70.52"
      ]
     },
     "execution_count": 7,
     "metadata": {},
     "output_type": "execute_result"
    }
   ],
   "source": [
    "dfStocks = pd.read_excel('data/Stocks DIRTY.xlsx', \n",
    "                         sheet_name=\"No header\", \n",
    "                         header=None,\n",
    "                         names=['Company Name', 'Ticker', 'Price'])\n",
    "dfStocks"
   ]
  },
  {
   "cell_type": "markdown",
   "metadata": {},
   "source": [
    "It's completely up to you whether, in a situation like this, you want to load the data and then assign column names, or use the _names_ argument. Either works. You could also add a header row to the Excel file."
   ]
  },
  {
   "cell_type": "markdown",
   "metadata": {},
   "source": [
    "### Skipping rows with `read_excel`"
   ]
  },
  {
   "cell_type": "markdown",
   "metadata": {},
   "source": [
    "Real-world data is often messy. In this section, we'll show you how to handle a situation where the data does not begin in the first row. This situation is common. Often, the creator of the Excel file will add comments or a description of the above data.\n",
    "\n",
    "As an example of this, open the file _Stocks DIRTY.xlsx_ in the data subfolder. That workbook has two worksheets. We show you a snapshot of the second worksheet, _Skip rows_, below.  \n",
    "![alt text](imgs/Stocks_dirty_skip_rows.png \"Snapshot of data with unneeded rows above the data\")"
   ]
  },
  {
   "cell_type": "markdown",
   "metadata": {},
   "source": [
    "Let's see what happens when we try to load this data without telling `read_excel` that the real data begins in row 4:"
   ]
  },
  {
   "cell_type": "code",
   "execution_count": 8,
   "metadata": {},
   "outputs": [
    {
     "data": {
      "text/html": [
       "<div>\n",
       "<style scoped>\n",
       "    .dataframe tbody tr th:only-of-type {\n",
       "        vertical-align: middle;\n",
       "    }\n",
       "\n",
       "    .dataframe tbody tr th {\n",
       "        vertical-align: top;\n",
       "    }\n",
       "\n",
       "    .dataframe thead th {\n",
       "        text-align: right;\n",
       "    }\n",
       "</style>\n",
       "<table border=\"1\" class=\"dataframe\">\n",
       "  <thead>\n",
       "    <tr style=\"text-align: right;\">\n",
       "      <th></th>\n",
       "      <th>This is my data file.</th>\n",
       "      <th>Unnamed: 1</th>\n",
       "      <th>Unnamed: 2</th>\n",
       "    </tr>\n",
       "  </thead>\n",
       "  <tbody>\n",
       "    <tr>\n",
       "      <th>0</th>\n",
       "      <td>Bla bla bla</td>\n",
       "      <td>NaN</td>\n",
       "      <td>NaN</td>\n",
       "    </tr>\n",
       "    <tr>\n",
       "      <th>1</th>\n",
       "      <td>Data starts below.</td>\n",
       "      <td>NaN</td>\n",
       "      <td>NaN</td>\n",
       "    </tr>\n",
       "    <tr>\n",
       "      <th>2</th>\n",
       "      <td>Company Name</td>\n",
       "      <td>Ticker</td>\n",
       "      <td>Closing Price</td>\n",
       "    </tr>\n",
       "    <tr>\n",
       "      <th>3</th>\n",
       "      <td>Walmart</td>\n",
       "      <td>WMT</td>\n",
       "      <td>119.14</td>\n",
       "    </tr>\n",
       "    <tr>\n",
       "      <th>4</th>\n",
       "      <td>Target Corporation</td>\n",
       "      <td>TGT</td>\n",
       "      <td>112.81</td>\n",
       "    </tr>\n",
       "    <tr>\n",
       "      <th>5</th>\n",
       "      <td>Best Buy Co.</td>\n",
       "      <td>BBY</td>\n",
       "      <td>70.52</td>\n",
       "    </tr>\n",
       "  </tbody>\n",
       "</table>\n",
       "</div>"
      ],
      "text/plain": [
       "  This is my data file. Unnamed: 1     Unnamed: 2\n",
       "0           Bla bla bla        NaN            NaN\n",
       "1    Data starts below.        NaN            NaN\n",
       "2          Company Name     Ticker  Closing Price\n",
       "3               Walmart        WMT         119.14\n",
       "4    Target Corporation        TGT         112.81\n",
       "5          Best Buy Co.        BBY          70.52"
      ]
     },
     "execution_count": 8,
     "metadata": {},
     "output_type": "execute_result"
    }
   ],
   "source": [
    "dfStocks = pd.read_excel('data/Stocks DIRTY.xlsx', sheet_name=\"Skip rows\")\n",
    "dfStocks"
   ]
  },
  {
   "cell_type": "markdown",
   "metadata": {},
   "source": [
    "Yikes!!! That's a mess! It figured out that there are 3 columns of data and it used the first row as headings. Since the data appear to have 3 columns, and there was nothing in cells B1 and C1, it had to make up names for the first two columns. Also, since there were no values in cells B2, C2, B3, and D3, it inferred missing values (`NaN` stands for \"not a number\" and is the symbol for missing data in Pandas).\n",
    "\n",
    "We could clean this up in Pandas by deleting the first 3 rows and assigning column names manually. But in a case like this, it's usually better to import the data correctly the first time. You can avoid issues like this by telling `read_excel` to simply skip the first 3 rows. There's a keyword argument _skiprows_ in `read_excel`. To use this argument, pass _skiprows_ a list. To skip the first 3 rows, the list should be `[0,1,2]`. That tells `read_excel` to skip rows 0, 1, and 2.\n",
    "\n",
    "Let's see it in action."
   ]
  },
  {
   "cell_type": "code",
   "execution_count": 9,
   "metadata": {},
   "outputs": [
    {
     "data": {
      "text/html": [
       "<div>\n",
       "<style scoped>\n",
       "    .dataframe tbody tr th:only-of-type {\n",
       "        vertical-align: middle;\n",
       "    }\n",
       "\n",
       "    .dataframe tbody tr th {\n",
       "        vertical-align: top;\n",
       "    }\n",
       "\n",
       "    .dataframe thead th {\n",
       "        text-align: right;\n",
       "    }\n",
       "</style>\n",
       "<table border=\"1\" class=\"dataframe\">\n",
       "  <thead>\n",
       "    <tr style=\"text-align: right;\">\n",
       "      <th></th>\n",
       "      <th>Company Name</th>\n",
       "      <th>Ticker</th>\n",
       "      <th>Closing Price</th>\n",
       "    </tr>\n",
       "  </thead>\n",
       "  <tbody>\n",
       "    <tr>\n",
       "      <th>0</th>\n",
       "      <td>Walmart</td>\n",
       "      <td>WMT</td>\n",
       "      <td>119.14</td>\n",
       "    </tr>\n",
       "    <tr>\n",
       "      <th>1</th>\n",
       "      <td>Target Corporation</td>\n",
       "      <td>TGT</td>\n",
       "      <td>112.81</td>\n",
       "    </tr>\n",
       "    <tr>\n",
       "      <th>2</th>\n",
       "      <td>Best Buy Co.</td>\n",
       "      <td>BBY</td>\n",
       "      <td>70.52</td>\n",
       "    </tr>\n",
       "  </tbody>\n",
       "</table>\n",
       "</div>"
      ],
      "text/plain": [
       "         Company Name Ticker  Closing Price\n",
       "0             Walmart    WMT         119.14\n",
       "1  Target Corporation    TGT         112.81\n",
       "2        Best Buy Co.    BBY          70.52"
      ]
     },
     "execution_count": 9,
     "metadata": {},
     "output_type": "execute_result"
    }
   ],
   "source": [
    "dfStocks = pd.read_excel('data/Stocks DIRTY.xlsx', \n",
    "                         sheet_name=\"Skip rows\", \n",
    "                         skiprows=[0,1,2])\n",
    "dfStocks"
   ]
  },
  {
   "cell_type": "markdown",
   "metadata": {},
   "source": [
    "Much better! And surprisingly easy."
   ]
  },
  {
   "cell_type": "markdown",
   "metadata": {},
   "source": [
    "### Getting help with `read_excel`"
   ]
  },
  {
   "cell_type": "markdown",
   "metadata": {},
   "source": [
    "How did we know about the available keyword arguments for `read_excel`? We read the documentation! The official documentation for the Pandas `read_excel` function is [here](https://pandas.pydata.org/pandas-docs/stable/reference/api/pandas.read_excel.html). You can also do a Google search for \"Pandas read excel\" and the first link will be to the same page. Take a look at that page and browse the available arguments. You'll see that `read_excel` offers a lot of features, especially for dealing with dates, missing data, and Excel error values.\n",
    "\n",
    "Fun fact: a long time ago, an obnoxious programmer coined the abbreviation RTFM. It stands for _\"read the f\\*\\*\\*ing manual.\"_ :) It's typically used in response to a question whose answer is clearly available in the documentation. "
   ]
  },
  {
   "cell_type": "markdown",
   "metadata": {},
   "source": [
    "## The `read_csv` Function"
   ]
  },
  {
   "cell_type": "markdown",
   "metadata": {},
   "source": [
    "Pandas provides a really nice function called `read_csv` for reading data from a CSV file. It can also be used to read tab-delimited data, and data from other delimited text files. This function is extremely powerful and flexible, and behaves very similarly to the `read_excel` function."
   ]
  },
  {
   "cell_type": "markdown",
   "metadata": {},
   "source": [
    "### Using `read_csv` with a \"clean\" CSV file"
   ]
  },
  {
   "cell_type": "markdown",
   "metadata": {},
   "source": [
    "When you downloaded these course notes, you should have also downloaded two subfolders, _data_ and _imgs_. Inside the _data_ subfolder, there should be a CSV file named _Stocks1.csv_. If you open that file in a text editor, you will see the following data:\n",
    "```\n",
    "Company Name,Ticker,Closing Price\n",
    "Walmart,WMT, $119.14 \n",
    "Target Corporation,TGT, $112.81 \n",
    "Best Buy Co.,BBY, $70.52 \n",
    "```"
   ]
  },
  {
   "cell_type": "markdown",
   "metadata": {},
   "source": [
    "To read this data into a DataFrame, we will call the function `pd.read_csv`. We will pass a single argument, a path to the file. Notice that, in the code below, I used what's called a \"relative path\". Instead of specifying the full path to the file, I told Python to look in the current folder for a subfolder called _data_. Within that subfolder, look for a file _Stocks.csv_. I could have also used the full path, which on my computer is _C:\\Users\\vanand\\Box Sync\\ACCY 570 Fall 2019\\Common\\Course notes\\Unit 3 - Working with datasets\\data\\Stocks.csv_."
   ]
  },
  {
   "cell_type": "code",
   "execution_count": 10,
   "metadata": {},
   "outputs": [
    {
     "data": {
      "text/html": [
       "<div>\n",
       "<style scoped>\n",
       "    .dataframe tbody tr th:only-of-type {\n",
       "        vertical-align: middle;\n",
       "    }\n",
       "\n",
       "    .dataframe tbody tr th {\n",
       "        vertical-align: top;\n",
       "    }\n",
       "\n",
       "    .dataframe thead th {\n",
       "        text-align: right;\n",
       "    }\n",
       "</style>\n",
       "<table border=\"1\" class=\"dataframe\">\n",
       "  <thead>\n",
       "    <tr style=\"text-align: right;\">\n",
       "      <th></th>\n",
       "      <th>Company Name</th>\n",
       "      <th>Ticker</th>\n",
       "      <th>Closing Price</th>\n",
       "    </tr>\n",
       "  </thead>\n",
       "  <tbody>\n",
       "    <tr>\n",
       "      <th>0</th>\n",
       "      <td>Walmart</td>\n",
       "      <td>WMT</td>\n",
       "      <td>119.14</td>\n",
       "    </tr>\n",
       "    <tr>\n",
       "      <th>1</th>\n",
       "      <td>Target Corporation</td>\n",
       "      <td>TGT</td>\n",
       "      <td>112.81</td>\n",
       "    </tr>\n",
       "    <tr>\n",
       "      <th>2</th>\n",
       "      <td>Best Buy Co.</td>\n",
       "      <td>BBY</td>\n",
       "      <td>70.52</td>\n",
       "    </tr>\n",
       "  </tbody>\n",
       "</table>\n",
       "</div>"
      ],
      "text/plain": [
       "         Company Name Ticker  Closing Price\n",
       "0             Walmart    WMT         119.14\n",
       "1  Target Corporation    TGT         112.81\n",
       "2        Best Buy Co.    BBY          70.52"
      ]
     },
     "execution_count": 10,
     "metadata": {},
     "output_type": "execute_result"
    }
   ],
   "source": [
    "dfStocks = pd.read_csv('data/Stocks.csv')\n",
    "dfStocks"
   ]
  },
  {
   "cell_type": "markdown",
   "metadata": {},
   "source": [
    "Notice that the `read_csv` function assumed that the first row contained column names and automatically used them as column labels in the DataFrame. Also notice that, the data in the third column was automatically converted to float. `read_csv` attempts to infer the type of each column by looking at the values in the first 100 rows. In this case, it found that it could convert every value in the third column to a float, so it did.\n",
    "\n",
    "To verify that the values are floats, run the following code. Don't worry if you don't understand why it works."
   ]
  },
  {
   "cell_type": "code",
   "execution_count": 11,
   "metadata": {},
   "outputs": [
    {
     "data": {
      "text/plain": [
       "dtype('float64')"
      ]
     },
     "execution_count": 11,
     "metadata": {},
     "output_type": "execute_result"
    }
   ],
   "source": [
    "dfStocks['Closing Price'].dtype"
   ]
  },
  {
   "cell_type": "markdown",
   "metadata": {},
   "source": [
    "### Using `read_csv` When the Header Row is Missing"
   ]
  },
  {
   "cell_type": "markdown",
   "metadata": {},
   "source": [
    "Real-world data is often messy. In this section, we'll show you how to handle a situation where the header row is missing from your data.\n",
    "\n",
    "If you open the file _Stocks1 NO HEADER.CSV_ in the data subfolder, you will see the following contents:\n",
    "```\n",
    "Walmart,WMT,119.14\n",
    "Target Corporation,TGT,112.81\n",
    "Best Buy Co.,BBY,70.52\n",
    "```\n",
    "The data is the same as before, but there's no header."
   ]
  },
  {
   "cell_type": "markdown",
   "metadata": {},
   "source": [
    "Let's see what happens when we try to load this data without telling `read_csv` that the header is missing:"
   ]
  },
  {
   "cell_type": "code",
   "execution_count": 12,
   "metadata": {},
   "outputs": [
    {
     "data": {
      "text/html": [
       "<div>\n",
       "<style scoped>\n",
       "    .dataframe tbody tr th:only-of-type {\n",
       "        vertical-align: middle;\n",
       "    }\n",
       "\n",
       "    .dataframe tbody tr th {\n",
       "        vertical-align: top;\n",
       "    }\n",
       "\n",
       "    .dataframe thead th {\n",
       "        text-align: right;\n",
       "    }\n",
       "</style>\n",
       "<table border=\"1\" class=\"dataframe\">\n",
       "  <thead>\n",
       "    <tr style=\"text-align: right;\">\n",
       "      <th></th>\n",
       "      <th>Walmart</th>\n",
       "      <th>WMT</th>\n",
       "      <th>119.14</th>\n",
       "    </tr>\n",
       "  </thead>\n",
       "  <tbody>\n",
       "    <tr>\n",
       "      <th>0</th>\n",
       "      <td>Target Corporation</td>\n",
       "      <td>TGT</td>\n",
       "      <td>112.81</td>\n",
       "    </tr>\n",
       "    <tr>\n",
       "      <th>1</th>\n",
       "      <td>Best Buy Co.</td>\n",
       "      <td>BBY</td>\n",
       "      <td>70.52</td>\n",
       "    </tr>\n",
       "  </tbody>\n",
       "</table>\n",
       "</div>"
      ],
      "text/plain": [
       "              Walmart  WMT  119.14\n",
       "0  Target Corporation  TGT  112.81\n",
       "1        Best Buy Co.  BBY   70.52"
      ]
     },
     "execution_count": 12,
     "metadata": {},
     "output_type": "execute_result"
    }
   ],
   "source": [
    "dfStocks = pd.read_csv('data/Stocks NO HEADER.csv')\n",
    "dfStocks"
   ]
  },
  {
   "cell_type": "markdown",
   "metadata": {},
   "source": [
    "Ick. That's not good! It looks like `read_csv` assumed that the first row contained header information. It used the values in the first row as column labels. \n",
    "\n",
    "Let's try again. This time, we will use the _header_ keyword argument. If we pass that argument with the Python value `None`, that tells `read_csv` that there's no header:"
   ]
  },
  {
   "cell_type": "code",
   "execution_count": 13,
   "metadata": {},
   "outputs": [
    {
     "data": {
      "text/html": [
       "<div>\n",
       "<style scoped>\n",
       "    .dataframe tbody tr th:only-of-type {\n",
       "        vertical-align: middle;\n",
       "    }\n",
       "\n",
       "    .dataframe tbody tr th {\n",
       "        vertical-align: top;\n",
       "    }\n",
       "\n",
       "    .dataframe thead th {\n",
       "        text-align: right;\n",
       "    }\n",
       "</style>\n",
       "<table border=\"1\" class=\"dataframe\">\n",
       "  <thead>\n",
       "    <tr style=\"text-align: right;\">\n",
       "      <th></th>\n",
       "      <th>0</th>\n",
       "      <th>1</th>\n",
       "      <th>2</th>\n",
       "    </tr>\n",
       "  </thead>\n",
       "  <tbody>\n",
       "    <tr>\n",
       "      <th>0</th>\n",
       "      <td>Walmart</td>\n",
       "      <td>WMT</td>\n",
       "      <td>119.14</td>\n",
       "    </tr>\n",
       "    <tr>\n",
       "      <th>1</th>\n",
       "      <td>Target Corporation</td>\n",
       "      <td>TGT</td>\n",
       "      <td>112.81</td>\n",
       "    </tr>\n",
       "    <tr>\n",
       "      <th>2</th>\n",
       "      <td>Best Buy Co.</td>\n",
       "      <td>BBY</td>\n",
       "      <td>70.52</td>\n",
       "    </tr>\n",
       "  </tbody>\n",
       "</table>\n",
       "</div>"
      ],
      "text/plain": [
       "                    0    1       2\n",
       "0             Walmart  WMT  119.14\n",
       "1  Target Corporation  TGT  112.81\n",
       "2        Best Buy Co.  BBY   70.52"
      ]
     },
     "execution_count": 13,
     "metadata": {},
     "output_type": "execute_result"
    }
   ],
   "source": [
    "dfStocks = pd.read_csv('data/Stocks NO HEADER.csv', header=None)\n",
    "dfStocks"
   ]
  },
  {
   "cell_type": "markdown",
   "metadata": {},
   "source": [
    "Okay, that's better. Now it put all the data in its proper place. But we still don't have meaningful column names. We could assign those after the fact, like this:\n",
    "```python\n",
    "dfStocks.columns = ['Company Name', 'Ticker', 'Price']\n",
    "```\n",
    "Or... We can use the keyword argument _names_ when we call `read_csv`. Let's do that."
   ]
  },
  {
   "cell_type": "code",
   "execution_count": 14,
   "metadata": {},
   "outputs": [
    {
     "data": {
      "text/html": [
       "<div>\n",
       "<style scoped>\n",
       "    .dataframe tbody tr th:only-of-type {\n",
       "        vertical-align: middle;\n",
       "    }\n",
       "\n",
       "    .dataframe tbody tr th {\n",
       "        vertical-align: top;\n",
       "    }\n",
       "\n",
       "    .dataframe thead th {\n",
       "        text-align: right;\n",
       "    }\n",
       "</style>\n",
       "<table border=\"1\" class=\"dataframe\">\n",
       "  <thead>\n",
       "    <tr style=\"text-align: right;\">\n",
       "      <th></th>\n",
       "      <th>Company Name</th>\n",
       "      <th>Ticker</th>\n",
       "      <th>Price</th>\n",
       "    </tr>\n",
       "  </thead>\n",
       "  <tbody>\n",
       "    <tr>\n",
       "      <th>0</th>\n",
       "      <td>Walmart</td>\n",
       "      <td>WMT</td>\n",
       "      <td>119.14</td>\n",
       "    </tr>\n",
       "    <tr>\n",
       "      <th>1</th>\n",
       "      <td>Target Corporation</td>\n",
       "      <td>TGT</td>\n",
       "      <td>112.81</td>\n",
       "    </tr>\n",
       "    <tr>\n",
       "      <th>2</th>\n",
       "      <td>Best Buy Co.</td>\n",
       "      <td>BBY</td>\n",
       "      <td>70.52</td>\n",
       "    </tr>\n",
       "  </tbody>\n",
       "</table>\n",
       "</div>"
      ],
      "text/plain": [
       "         Company Name Ticker   Price\n",
       "0             Walmart    WMT  119.14\n",
       "1  Target Corporation    TGT  112.81\n",
       "2        Best Buy Co.    BBY   70.52"
      ]
     },
     "execution_count": 14,
     "metadata": {},
     "output_type": "execute_result"
    }
   ],
   "source": [
    "dfStocks = pd.read_csv('data/Stocks NO HEADER.csv', \n",
    "                       header=None,\n",
    "                       names=['Company Name', 'Ticker', 'Price'])\n",
    "dfStocks"
   ]
  },
  {
   "cell_type": "markdown",
   "metadata": {},
   "source": [
    "It's completely up to you whether, in a situation like this, you want to load the data and then assign column names, or use the _names_ argument. Either works. You could also add a header row to the CSV file."
   ]
  },
  {
   "cell_type": "markdown",
   "metadata": {},
   "source": [
    "### Skipping rows with `read_csv`"
   ]
  },
  {
   "cell_type": "markdown",
   "metadata": {},
   "source": [
    "Real-world data is often messy. In this section, we'll show you how to handle a situation where the data does not begin in the first row. This situation is common and can manifest itself in two ways:\n",
    "1. There are blank lines at the beginning of the file\n",
    "2. The creator of the CSV file added comments or a description of the above data.\n",
    "\n",
    "Below we show you how to handle these two cases."
   ]
  },
  {
   "cell_type": "markdown",
   "metadata": {},
   "source": [
    "#### Handling blank lines at the beginning of the CSV file"
   ]
  },
  {
   "cell_type": "markdown",
   "metadata": {},
   "source": [
    "Consider the following data, which is also in the file _Stocks BLANK LINES.csv_.\n",
    "```\n",
    "\n",
    "\n",
    "\n",
    "Company Name,Ticker,Closing Price\n",
    "Walmart,WMT,119.14\n",
    "Target Corporation,TGT,112.81\n",
    "Best Buy Co.,BBY,70.52\n",
    "```\n",
    "\n",
    "`read_csv` makes it really easy to handle this. Simply set the optional keyword argument *skip_blank_lines* to True. Actually, you don't even have to bother since by default this is set to True! But let's play with it anyways."
   ]
  },
  {
   "cell_type": "code",
   "execution_count": 15,
   "metadata": {},
   "outputs": [
    {
     "data": {
      "text/html": [
       "<div>\n",
       "<style scoped>\n",
       "    .dataframe tbody tr th:only-of-type {\n",
       "        vertical-align: middle;\n",
       "    }\n",
       "\n",
       "    .dataframe tbody tr th {\n",
       "        vertical-align: top;\n",
       "    }\n",
       "\n",
       "    .dataframe thead th {\n",
       "        text-align: right;\n",
       "    }\n",
       "</style>\n",
       "<table border=\"1\" class=\"dataframe\">\n",
       "  <thead>\n",
       "    <tr style=\"text-align: right;\">\n",
       "      <th></th>\n",
       "      <th>Company Name</th>\n",
       "      <th>Ticker</th>\n",
       "      <th>Closing Price</th>\n",
       "    </tr>\n",
       "  </thead>\n",
       "  <tbody>\n",
       "    <tr>\n",
       "      <th>0</th>\n",
       "      <td>Walmart</td>\n",
       "      <td>WMT</td>\n",
       "      <td>119.14</td>\n",
       "    </tr>\n",
       "    <tr>\n",
       "      <th>1</th>\n",
       "      <td>Target Corporation</td>\n",
       "      <td>TGT</td>\n",
       "      <td>112.81</td>\n",
       "    </tr>\n",
       "    <tr>\n",
       "      <th>2</th>\n",
       "      <td>Best Buy Co.</td>\n",
       "      <td>BBY</td>\n",
       "      <td>70.52</td>\n",
       "    </tr>\n",
       "  </tbody>\n",
       "</table>\n",
       "</div>"
      ],
      "text/plain": [
       "         Company Name Ticker  Closing Price\n",
       "0             Walmart    WMT         119.14\n",
       "1  Target Corporation    TGT         112.81\n",
       "2        Best Buy Co.    BBY          70.52"
      ]
     },
     "execution_count": 15,
     "metadata": {},
     "output_type": "execute_result"
    }
   ],
   "source": [
    "dfStocks = pd.read_csv('data/Stocks BLANK LINES.csv', \n",
    "                       skip_blank_lines=True)\n",
    "dfStocks"
   ]
  },
  {
   "cell_type": "markdown",
   "metadata": {},
   "source": [
    "We could also call `read_csv` without explicitly setting *skip_blank_lines* since its default value is True."
   ]
  },
  {
   "cell_type": "code",
   "execution_count": 16,
   "metadata": {},
   "outputs": [
    {
     "data": {
      "text/html": [
       "<div>\n",
       "<style scoped>\n",
       "    .dataframe tbody tr th:only-of-type {\n",
       "        vertical-align: middle;\n",
       "    }\n",
       "\n",
       "    .dataframe tbody tr th {\n",
       "        vertical-align: top;\n",
       "    }\n",
       "\n",
       "    .dataframe thead th {\n",
       "        text-align: right;\n",
       "    }\n",
       "</style>\n",
       "<table border=\"1\" class=\"dataframe\">\n",
       "  <thead>\n",
       "    <tr style=\"text-align: right;\">\n",
       "      <th></th>\n",
       "      <th>Company Name</th>\n",
       "      <th>Ticker</th>\n",
       "      <th>Closing Price</th>\n",
       "    </tr>\n",
       "  </thead>\n",
       "  <tbody>\n",
       "    <tr>\n",
       "      <th>0</th>\n",
       "      <td>Walmart</td>\n",
       "      <td>WMT</td>\n",
       "      <td>119.14</td>\n",
       "    </tr>\n",
       "    <tr>\n",
       "      <th>1</th>\n",
       "      <td>Target Corporation</td>\n",
       "      <td>TGT</td>\n",
       "      <td>112.81</td>\n",
       "    </tr>\n",
       "    <tr>\n",
       "      <th>2</th>\n",
       "      <td>Best Buy Co.</td>\n",
       "      <td>BBY</td>\n",
       "      <td>70.52</td>\n",
       "    </tr>\n",
       "  </tbody>\n",
       "</table>\n",
       "</div>"
      ],
      "text/plain": [
       "         Company Name Ticker  Closing Price\n",
       "0             Walmart    WMT         119.14\n",
       "1  Target Corporation    TGT         112.81\n",
       "2        Best Buy Co.    BBY          70.52"
      ]
     },
     "execution_count": 16,
     "metadata": {},
     "output_type": "execute_result"
    }
   ],
   "source": [
    "dfStocks = pd.read_csv('data/Stocks BLANK LINES.csv')\n",
    "dfStocks"
   ]
  },
  {
   "cell_type": "markdown",
   "metadata": {},
   "source": [
    "#### Handling non-data lines at the beginning of the CSV file"
   ]
  },
  {
   "cell_type": "markdown",
   "metadata": {},
   "source": [
    "Consider the CSV file _Stocks UNNEEDED LINES.csv_  included with this notebook. Say your data looks like this:\n",
    "```\n",
    "Look at me! I'm a description.\n",
    "Bla bla bla\n",
    "Don't put stupid lines like this in your CSV files.\n",
    "\n",
    "Company Name,Ticker,Closing Price\n",
    "Walmart,WMT,119.14\n",
    "Target Corporation,TGT,112.81\n",
    "Best Buy Co.,BBY,70.52\n",
    "```\n",
    "\n",
    "To skip the first lines of that file, use the _skiprows_ argument. Just as with the `read_excel` function, you need to pass _skiprows_ a list of the rows you want to skip. Remember that the line numbers are zero-based.\n",
    "\n",
    "Here's the code to skip the first 4 rows in _Stocks UNNEEDED LINES.csv_:"
   ]
  },
  {
   "cell_type": "code",
   "execution_count": 17,
   "metadata": {},
   "outputs": [
    {
     "data": {
      "text/html": [
       "<div>\n",
       "<style scoped>\n",
       "    .dataframe tbody tr th:only-of-type {\n",
       "        vertical-align: middle;\n",
       "    }\n",
       "\n",
       "    .dataframe tbody tr th {\n",
       "        vertical-align: top;\n",
       "    }\n",
       "\n",
       "    .dataframe thead th {\n",
       "        text-align: right;\n",
       "    }\n",
       "</style>\n",
       "<table border=\"1\" class=\"dataframe\">\n",
       "  <thead>\n",
       "    <tr style=\"text-align: right;\">\n",
       "      <th></th>\n",
       "      <th>Company Name</th>\n",
       "      <th>Ticker</th>\n",
       "      <th>Closing Price</th>\n",
       "    </tr>\n",
       "  </thead>\n",
       "  <tbody>\n",
       "    <tr>\n",
       "      <th>0</th>\n",
       "      <td>Walmart</td>\n",
       "      <td>WMT</td>\n",
       "      <td>119.14</td>\n",
       "    </tr>\n",
       "    <tr>\n",
       "      <th>1</th>\n",
       "      <td>Target Corporation</td>\n",
       "      <td>TGT</td>\n",
       "      <td>112.81</td>\n",
       "    </tr>\n",
       "    <tr>\n",
       "      <th>2</th>\n",
       "      <td>Best Buy Co.</td>\n",
       "      <td>BBY</td>\n",
       "      <td>70.52</td>\n",
       "    </tr>\n",
       "  </tbody>\n",
       "</table>\n",
       "</div>"
      ],
      "text/plain": [
       "         Company Name Ticker  Closing Price\n",
       "0             Walmart    WMT         119.14\n",
       "1  Target Corporation    TGT         112.81\n",
       "2        Best Buy Co.    BBY          70.52"
      ]
     },
     "execution_count": 17,
     "metadata": {},
     "output_type": "execute_result"
    }
   ],
   "source": [
    "dfStocks = pd.read_csv('data/Stocks UNNEEDED LINES.csv',\n",
    "                       skiprows=[0,1,2,3])\n",
    "dfStocks"
   ]
  },
  {
   "cell_type": "markdown",
   "metadata": {},
   "source": [
    "### Converting Accounting Strings to Floats"
   ]
  },
  {
   "cell_type": "markdown",
   "metadata": {},
   "source": [
    "In an earlier example, you worked with Excel data in accounting format. Excel stores values and number formats separately and that helps functions like `read_excel`; functions that read Excel data are able to read the value and its data type and ignore the formatting if they choose.\n",
    "\n",
    "CSV is a text format. When a CSV file contains numbers formatted as text in an accounting format, such as \\\\$136.72, it becomes difficult for Python functions to read the true value. You may think this is trivial -- it's just dollar signs, commas, and parentheses, right? But remember that other countries have their own accounting formats and so the number of possible formats is large.\n",
    "\n",
    "When you try to read a CSV file that contains a number formatted as an accounting string, Python will read that number in as text. You will need to clean it and then manually convert it. In this section, we will walk you through that process."
   ]
  },
  {
   "cell_type": "markdown",
   "metadata": {},
   "source": [
    "Consider the file _Stocks ACCTG FORMAT.csv_. This file is simply the worksheet 10-21 Data from the file _Stocks2.xlsx_ saved as CSV. In other words, we used Excel to save to CSV and this is what we got. Here's the contents:\n",
    "```\n",
    "Company Name,Ticker,Closing Price\n",
    "Microsoft,MSFT, $138.43 \n",
    "Apple,AAPL, $240.51 \n",
    "Google,GOOG,\" $1,246.15 \"\n",
    "Oracle,ORCL, $55.13 \n",
    "SAP,SAP, $132.71 \n",
    "```\n",
    "First, notice that the price for Google, which has a comma in it, is stored in quotes. You can use quotes to enclose values with commas. Also notice that the closing prices have dollar signs and leading spaces. Let's see what happens when we import this file using `read_csv`:"
   ]
  },
  {
   "cell_type": "code",
   "execution_count": 18,
   "metadata": {},
   "outputs": [
    {
     "data": {
      "text/html": [
       "<div>\n",
       "<style scoped>\n",
       "    .dataframe tbody tr th:only-of-type {\n",
       "        vertical-align: middle;\n",
       "    }\n",
       "\n",
       "    .dataframe tbody tr th {\n",
       "        vertical-align: top;\n",
       "    }\n",
       "\n",
       "    .dataframe thead th {\n",
       "        text-align: right;\n",
       "    }\n",
       "</style>\n",
       "<table border=\"1\" class=\"dataframe\">\n",
       "  <thead>\n",
       "    <tr style=\"text-align: right;\">\n",
       "      <th></th>\n",
       "      <th>Company Name</th>\n",
       "      <th>Ticker</th>\n",
       "      <th>Closing Price</th>\n",
       "    </tr>\n",
       "  </thead>\n",
       "  <tbody>\n",
       "    <tr>\n",
       "      <th>0</th>\n",
       "      <td>Microsoft</td>\n",
       "      <td>MSFT</td>\n",
       "      <td>$138.43</td>\n",
       "    </tr>\n",
       "    <tr>\n",
       "      <th>1</th>\n",
       "      <td>Apple</td>\n",
       "      <td>AAPL</td>\n",
       "      <td>$240.51</td>\n",
       "    </tr>\n",
       "    <tr>\n",
       "      <th>2</th>\n",
       "      <td>Google</td>\n",
       "      <td>GOOG</td>\n",
       "      <td>$1,246.15</td>\n",
       "    </tr>\n",
       "    <tr>\n",
       "      <th>3</th>\n",
       "      <td>Oracle</td>\n",
       "      <td>ORCL</td>\n",
       "      <td>$55.13</td>\n",
       "    </tr>\n",
       "    <tr>\n",
       "      <th>4</th>\n",
       "      <td>SAP</td>\n",
       "      <td>SAP</td>\n",
       "      <td>$132.71</td>\n",
       "    </tr>\n",
       "  </tbody>\n",
       "</table>\n",
       "</div>"
      ],
      "text/plain": [
       "  Company Name Ticker Closing Price\n",
       "0    Microsoft   MSFT      $138.43 \n",
       "1        Apple   AAPL      $240.51 \n",
       "2       Google   GOOG    $1,246.15 \n",
       "3       Oracle   ORCL       $55.13 \n",
       "4          SAP    SAP      $132.71 "
      ]
     },
     "execution_count": 18,
     "metadata": {},
     "output_type": "execute_result"
    }
   ],
   "source": [
    "dfStocks = pd.read_csv('data/Stocks ACCTG FORMAT.csv')\n",
    "dfStocks"
   ]
  },
  {
   "cell_type": "markdown",
   "metadata": {},
   "source": [
    "That doesn't look too bad, right? It actually looks just you might like! So should we just move on to the next section? No problem, right?\n",
    "\n",
    "Not so fast. Let's look at that first stock price:"
   ]
  },
  {
   "cell_type": "code",
   "execution_count": 19,
   "metadata": {},
   "outputs": [
    {
     "data": {
      "text/plain": [
       "' $138.43 '"
      ]
     },
     "execution_count": 19,
     "metadata": {},
     "output_type": "execute_result"
    }
   ],
   "source": [
    "dfStocks.at[0, 'Closing Price']"
   ]
  },
  {
   "cell_type": "markdown",
   "metadata": {},
   "source": [
    "Hmm. That's not good. It stored the number as a string. And it's not clean. There are leading _and_ trailing spaces, and there's that dollar sign. If you check the other values, you'll find that all of them are strings. That will make it hard to work with them in Python. We need to convert them to numbers.\n",
    "\n",
    "The process for converting a string to a number in Python is:\n",
    "1. Remove all characters other than digits, dots, and negative signs. The number MUST be in the format -dddd.ddd, where d is a digit 0-9, and the negative sign and decimal are optional.\n",
    "2. Run the appropriate function to convert a string to a float."
   ]
  },
  {
   "cell_type": "markdown",
   "metadata": {},
   "source": [
    "Following is the code to remove the unwanted characters. Look at the code first and then we'll explain how it works."
   ]
  },
  {
   "cell_type": "code",
   "execution_count": 20,
   "metadata": {},
   "outputs": [],
   "source": [
    "dfStocks['Closing Price'] = dfStocks['Closing Price'].str.replace('$', '')\n",
    "dfStocks['Closing Price'] = dfStocks['Closing Price'].str.replace(',', '')\n",
    "dfStocks['Closing Price'] = dfStocks['Closing Price'].str.strip()"
   ]
  },
  {
   "cell_type": "markdown",
   "metadata": {},
   "source": [
    "In the above cell, the right-hand-side of first line of code says, _\"Take the closing price column and call the Pandas string replace function. Replace all dollar signs with nothing.\"_ This creates a new column of data. We assign the new column to the existing column to save it. The second line of code is similar; it replaces any commas with nothing. \n",
    "\n",
    "The third line of code strips the strings. That means it removes any leading and trailing whitespace characters.\n",
    "\n",
    "Notice that the methods we used were `.str.replace` and `.str.strip`. These are string methods of the Pandas Series class. The choice of names (replace, strip) and the arguments are identical to Python's built-in string functions. This is not a coincidence. Where possible, the creators of Pandas tried to follow similar syntax as used in Python's built-in string functions. For documentation on the Pandas string functions, click [here](https://pandas.pydata.org/pandas-docs/stable/user_guide/text.html).\n",
    "\n",
    "Let's look at our partially cleaned DataFrame:"
   ]
  },
  {
   "cell_type": "code",
   "execution_count": 21,
   "metadata": {},
   "outputs": [
    {
     "data": {
      "text/html": [
       "<div>\n",
       "<style scoped>\n",
       "    .dataframe tbody tr th:only-of-type {\n",
       "        vertical-align: middle;\n",
       "    }\n",
       "\n",
       "    .dataframe tbody tr th {\n",
       "        vertical-align: top;\n",
       "    }\n",
       "\n",
       "    .dataframe thead th {\n",
       "        text-align: right;\n",
       "    }\n",
       "</style>\n",
       "<table border=\"1\" class=\"dataframe\">\n",
       "  <thead>\n",
       "    <tr style=\"text-align: right;\">\n",
       "      <th></th>\n",
       "      <th>Company Name</th>\n",
       "      <th>Ticker</th>\n",
       "      <th>Closing Price</th>\n",
       "    </tr>\n",
       "  </thead>\n",
       "  <tbody>\n",
       "    <tr>\n",
       "      <th>0</th>\n",
       "      <td>Microsoft</td>\n",
       "      <td>MSFT</td>\n",
       "      <td>138.43</td>\n",
       "    </tr>\n",
       "    <tr>\n",
       "      <th>1</th>\n",
       "      <td>Apple</td>\n",
       "      <td>AAPL</td>\n",
       "      <td>240.51</td>\n",
       "    </tr>\n",
       "    <tr>\n",
       "      <th>2</th>\n",
       "      <td>Google</td>\n",
       "      <td>GOOG</td>\n",
       "      <td>1246.15</td>\n",
       "    </tr>\n",
       "    <tr>\n",
       "      <th>3</th>\n",
       "      <td>Oracle</td>\n",
       "      <td>ORCL</td>\n",
       "      <td>55.13</td>\n",
       "    </tr>\n",
       "    <tr>\n",
       "      <th>4</th>\n",
       "      <td>SAP</td>\n",
       "      <td>SAP</td>\n",
       "      <td>132.71</td>\n",
       "    </tr>\n",
       "  </tbody>\n",
       "</table>\n",
       "</div>"
      ],
      "text/plain": [
       "  Company Name Ticker Closing Price\n",
       "0    Microsoft   MSFT        138.43\n",
       "1        Apple   AAPL        240.51\n",
       "2       Google   GOOG       1246.15\n",
       "3       Oracle   ORCL         55.13\n",
       "4          SAP    SAP        132.71"
      ]
     },
     "execution_count": 21,
     "metadata": {},
     "output_type": "execute_result"
    }
   ],
   "source": [
    "dfStocks"
   ]
  },
  {
   "cell_type": "markdown",
   "metadata": {},
   "source": [
    "And let's take a look at one of the prices:"
   ]
  },
  {
   "cell_type": "code",
   "execution_count": 22,
   "metadata": {},
   "outputs": [
    {
     "data": {
      "text/plain": [
       "'1246.15'"
      ]
     },
     "execution_count": 22,
     "metadata": {},
     "output_type": "execute_result"
    }
   ],
   "source": [
    "dfStocks.at[2, 'Closing Price']"
   ]
  },
  {
   "cell_type": "markdown",
   "metadata": {},
   "source": [
    "This is better. The numbers are still stored as strings, but at least they are properly formatted. Now, let's convert them to float."
   ]
  },
  {
   "cell_type": "code",
   "execution_count": 23,
   "metadata": {},
   "outputs": [
    {
     "data": {
      "text/html": [
       "<div>\n",
       "<style scoped>\n",
       "    .dataframe tbody tr th:only-of-type {\n",
       "        vertical-align: middle;\n",
       "    }\n",
       "\n",
       "    .dataframe tbody tr th {\n",
       "        vertical-align: top;\n",
       "    }\n",
       "\n",
       "    .dataframe thead th {\n",
       "        text-align: right;\n",
       "    }\n",
       "</style>\n",
       "<table border=\"1\" class=\"dataframe\">\n",
       "  <thead>\n",
       "    <tr style=\"text-align: right;\">\n",
       "      <th></th>\n",
       "      <th>Company Name</th>\n",
       "      <th>Ticker</th>\n",
       "      <th>Closing Price</th>\n",
       "    </tr>\n",
       "  </thead>\n",
       "  <tbody>\n",
       "    <tr>\n",
       "      <th>0</th>\n",
       "      <td>Microsoft</td>\n",
       "      <td>MSFT</td>\n",
       "      <td>138.43</td>\n",
       "    </tr>\n",
       "    <tr>\n",
       "      <th>1</th>\n",
       "      <td>Apple</td>\n",
       "      <td>AAPL</td>\n",
       "      <td>240.51</td>\n",
       "    </tr>\n",
       "    <tr>\n",
       "      <th>2</th>\n",
       "      <td>Google</td>\n",
       "      <td>GOOG</td>\n",
       "      <td>1246.15</td>\n",
       "    </tr>\n",
       "    <tr>\n",
       "      <th>3</th>\n",
       "      <td>Oracle</td>\n",
       "      <td>ORCL</td>\n",
       "      <td>55.13</td>\n",
       "    </tr>\n",
       "    <tr>\n",
       "      <th>4</th>\n",
       "      <td>SAP</td>\n",
       "      <td>SAP</td>\n",
       "      <td>132.71</td>\n",
       "    </tr>\n",
       "  </tbody>\n",
       "</table>\n",
       "</div>"
      ],
      "text/plain": [
       "  Company Name Ticker  Closing Price\n",
       "0    Microsoft   MSFT         138.43\n",
       "1        Apple   AAPL         240.51\n",
       "2       Google   GOOG        1246.15\n",
       "3       Oracle   ORCL          55.13\n",
       "4          SAP    SAP         132.71"
      ]
     },
     "execution_count": 23,
     "metadata": {},
     "output_type": "execute_result"
    }
   ],
   "source": [
    "dfStocks['Closing Price'] = dfStocks['Closing Price'].astype(float)\n",
    "dfStocks"
   ]
  },
  {
   "cell_type": "markdown",
   "metadata": {},
   "source": [
    "The above code took the closing price column and converted it to float. The `astype` function returned a whole new column. We assigned this to the existing column and now we're good. Let's take a look at one of the closing prices and make sure it's a float:"
   ]
  },
  {
   "cell_type": "code",
   "execution_count": 24,
   "metadata": {},
   "outputs": [
    {
     "name": "stdout",
     "output_type": "stream",
     "text": [
      "Apple's closing price was 240.51 and the data type is <class 'numpy.float64'>.\n"
     ]
    }
   ],
   "source": [
    "x = dfStocks.at[1,'Closing Price']\n",
    "print(f\"Apple's closing price was {x} and the data type is {type(x)}.\")"
   ]
  },
  {
   "cell_type": "markdown",
   "metadata": {},
   "source": [
    "### Parsing Dates"
   ]
  },
  {
   "cell_type": "markdown",
   "metadata": {},
   "source": [
    "Working with dates is a giant pain in the _you-know-what_. The reason is that there are so many different ways to write and store dates, and there are so many intricacies, such as leap years and daylight savings time. All of that means that you're probably going to have to deal with dates at some point when you work with data.\n",
    "\n",
    "Pandas (and Excel) provides a lot of useful functions for working with dates. If you know what you want, it's usually fairly easy to get it. In this section, we'll show you that when you import a date from a CSV file, it will be stored as a string. We'll also show you how to handle different date formats."
   ]
  },
  {
   "cell_type": "markdown",
   "metadata": {},
   "source": [
    "Let's begin by taking a look at the file _GM.csv_ that contains stock data for General Motors Corporation in April 2019. If you open the file in a text editor, here's what you will see:\n",
    "```\n",
    "Date1,Date2,Date3,Company Name,Ticker,Closing Price\n",
    "4-1-2019,1/4/2019,01 Apr 19,General Motors,GM,37.76\n",
    "4-2-2019,2/4/2019,02 Apr 19,General Motors,GM,37.81\n",
    "4-3-2019,3/4/2019,03 Apr 19,General Motors,GM,38.39\n",
    "4-4-2019,4/4/2019,04 Apr 19,General Motors,GM,38.79\n",
    "4-5-2019,5/4/2019,05 Apr 19,General Motors,GM,38.94\n",
    "4-8-2019,8/4/2019,08 Apr 19,General Motors,GM,39.06\n",
    "4-9-2019,9/4/2019,09 Apr 19,General Motors,GM,38.86\n",
    "4-10-2019,10/4/2019,10 Apr 19,General Motors,GM,39.25\n",
    "```\n",
    "Notice that we stored each date in three formats. Let's see what happens when we import it using `read_csv` without telling it anything about dates:"
   ]
  },
  {
   "cell_type": "code",
   "execution_count": 25,
   "metadata": {},
   "outputs": [
    {
     "data": {
      "text/html": [
       "<div>\n",
       "<style scoped>\n",
       "    .dataframe tbody tr th:only-of-type {\n",
       "        vertical-align: middle;\n",
       "    }\n",
       "\n",
       "    .dataframe tbody tr th {\n",
       "        vertical-align: top;\n",
       "    }\n",
       "\n",
       "    .dataframe thead th {\n",
       "        text-align: right;\n",
       "    }\n",
       "</style>\n",
       "<table border=\"1\" class=\"dataframe\">\n",
       "  <thead>\n",
       "    <tr style=\"text-align: right;\">\n",
       "      <th></th>\n",
       "      <th>Date1</th>\n",
       "      <th>Date2</th>\n",
       "      <th>Date3</th>\n",
       "      <th>Company Name</th>\n",
       "      <th>Ticker</th>\n",
       "      <th>Closing Price</th>\n",
       "    </tr>\n",
       "  </thead>\n",
       "  <tbody>\n",
       "    <tr>\n",
       "      <th>0</th>\n",
       "      <td>4-1-2019</td>\n",
       "      <td>1/4/2019</td>\n",
       "      <td>01 Apr 19</td>\n",
       "      <td>General Motors</td>\n",
       "      <td>GM</td>\n",
       "      <td>37.76</td>\n",
       "    </tr>\n",
       "    <tr>\n",
       "      <th>1</th>\n",
       "      <td>4-2-2019</td>\n",
       "      <td>2/4/2019</td>\n",
       "      <td>02 Apr 19</td>\n",
       "      <td>General Motors</td>\n",
       "      <td>GM</td>\n",
       "      <td>37.81</td>\n",
       "    </tr>\n",
       "    <tr>\n",
       "      <th>2</th>\n",
       "      <td>4-3-2019</td>\n",
       "      <td>3/4/2019</td>\n",
       "      <td>03 Apr 19</td>\n",
       "      <td>General Motors</td>\n",
       "      <td>GM</td>\n",
       "      <td>38.39</td>\n",
       "    </tr>\n",
       "    <tr>\n",
       "      <th>3</th>\n",
       "      <td>4-4-2019</td>\n",
       "      <td>4/4/2019</td>\n",
       "      <td>04 Apr 19</td>\n",
       "      <td>General Motors</td>\n",
       "      <td>GM</td>\n",
       "      <td>38.79</td>\n",
       "    </tr>\n",
       "    <tr>\n",
       "      <th>4</th>\n",
       "      <td>4-5-2019</td>\n",
       "      <td>5/4/2019</td>\n",
       "      <td>05 Apr 19</td>\n",
       "      <td>General Motors</td>\n",
       "      <td>GM</td>\n",
       "      <td>38.94</td>\n",
       "    </tr>\n",
       "    <tr>\n",
       "      <th>5</th>\n",
       "      <td>4-8-2019</td>\n",
       "      <td>8/4/2019</td>\n",
       "      <td>08 Apr 19</td>\n",
       "      <td>General Motors</td>\n",
       "      <td>GM</td>\n",
       "      <td>39.06</td>\n",
       "    </tr>\n",
       "    <tr>\n",
       "      <th>6</th>\n",
       "      <td>4-9-2019</td>\n",
       "      <td>9/4/2019</td>\n",
       "      <td>09 Apr 19</td>\n",
       "      <td>General Motors</td>\n",
       "      <td>GM</td>\n",
       "      <td>38.86</td>\n",
       "    </tr>\n",
       "    <tr>\n",
       "      <th>7</th>\n",
       "      <td>4-10-2019</td>\n",
       "      <td>10/4/2019</td>\n",
       "      <td>10 Apr 19</td>\n",
       "      <td>General Motors</td>\n",
       "      <td>GM</td>\n",
       "      <td>39.25</td>\n",
       "    </tr>\n",
       "  </tbody>\n",
       "</table>\n",
       "</div>"
      ],
      "text/plain": [
       "       Date1      Date2      Date3    Company Name Ticker  Closing Price\n",
       "0   4-1-2019   1/4/2019  01 Apr 19  General Motors     GM          37.76\n",
       "1   4-2-2019   2/4/2019  02 Apr 19  General Motors     GM          37.81\n",
       "2   4-3-2019   3/4/2019  03 Apr 19  General Motors     GM          38.39\n",
       "3   4-4-2019   4/4/2019  04 Apr 19  General Motors     GM          38.79\n",
       "4   4-5-2019   5/4/2019  05 Apr 19  General Motors     GM          38.94\n",
       "5   4-8-2019   8/4/2019  08 Apr 19  General Motors     GM          39.06\n",
       "6   4-9-2019   9/4/2019  09 Apr 19  General Motors     GM          38.86\n",
       "7  4-10-2019  10/4/2019  10 Apr 19  General Motors     GM          39.25"
      ]
     },
     "execution_count": 25,
     "metadata": {},
     "output_type": "execute_result"
    }
   ],
   "source": [
    "dfGM = pd.read_csv('data/GM.csv')\n",
    "dfGM"
   ]
  },
  {
   "cell_type": "markdown",
   "metadata": {},
   "source": [
    "If you check the types of the date values, you will see they are all stored as strings. That's not what we want.\n",
    "\n",
    "You can tell Pandas which columns contain dates and it will try to convert them from strings. It recognizes many date formats and can often get it right. To use this functionality, use the *parse_dates* keyword argument and pass it a list of columns that contain dates. Let's see what happens when we use that argument:"
   ]
  },
  {
   "cell_type": "code",
   "execution_count": 26,
   "metadata": {},
   "outputs": [
    {
     "name": "stderr",
     "output_type": "stream",
     "text": [
      "C:\\Users\\vican\\AppData\\Local\\Temp\\ipykernel_14020\\290965092.py:1: UserWarning: Could not infer format, so each element will be parsed individually, falling back to `dateutil`. To ensure parsing is consistent and as-expected, please specify a format.\n",
      "  dfGM = pd.read_csv('data/GM.csv', parse_dates=['Date1', 'Date2', 'Date3'])\n"
     ]
    },
    {
     "data": {
      "text/html": [
       "<div>\n",
       "<style scoped>\n",
       "    .dataframe tbody tr th:only-of-type {\n",
       "        vertical-align: middle;\n",
       "    }\n",
       "\n",
       "    .dataframe tbody tr th {\n",
       "        vertical-align: top;\n",
       "    }\n",
       "\n",
       "    .dataframe thead th {\n",
       "        text-align: right;\n",
       "    }\n",
       "</style>\n",
       "<table border=\"1\" class=\"dataframe\">\n",
       "  <thead>\n",
       "    <tr style=\"text-align: right;\">\n",
       "      <th></th>\n",
       "      <th>Date1</th>\n",
       "      <th>Date2</th>\n",
       "      <th>Date3</th>\n",
       "      <th>Company Name</th>\n",
       "      <th>Ticker</th>\n",
       "      <th>Closing Price</th>\n",
       "    </tr>\n",
       "  </thead>\n",
       "  <tbody>\n",
       "    <tr>\n",
       "      <th>0</th>\n",
       "      <td>2019-04-01</td>\n",
       "      <td>2019-01-04</td>\n",
       "      <td>2019-04-01</td>\n",
       "      <td>General Motors</td>\n",
       "      <td>GM</td>\n",
       "      <td>37.76</td>\n",
       "    </tr>\n",
       "    <tr>\n",
       "      <th>1</th>\n",
       "      <td>2019-04-02</td>\n",
       "      <td>2019-02-04</td>\n",
       "      <td>2019-04-02</td>\n",
       "      <td>General Motors</td>\n",
       "      <td>GM</td>\n",
       "      <td>37.81</td>\n",
       "    </tr>\n",
       "    <tr>\n",
       "      <th>2</th>\n",
       "      <td>2019-04-03</td>\n",
       "      <td>2019-03-04</td>\n",
       "      <td>2019-04-03</td>\n",
       "      <td>General Motors</td>\n",
       "      <td>GM</td>\n",
       "      <td>38.39</td>\n",
       "    </tr>\n",
       "    <tr>\n",
       "      <th>3</th>\n",
       "      <td>2019-04-04</td>\n",
       "      <td>2019-04-04</td>\n",
       "      <td>2019-04-04</td>\n",
       "      <td>General Motors</td>\n",
       "      <td>GM</td>\n",
       "      <td>38.79</td>\n",
       "    </tr>\n",
       "    <tr>\n",
       "      <th>4</th>\n",
       "      <td>2019-04-05</td>\n",
       "      <td>2019-05-04</td>\n",
       "      <td>2019-04-05</td>\n",
       "      <td>General Motors</td>\n",
       "      <td>GM</td>\n",
       "      <td>38.94</td>\n",
       "    </tr>\n",
       "    <tr>\n",
       "      <th>5</th>\n",
       "      <td>2019-04-08</td>\n",
       "      <td>2019-08-04</td>\n",
       "      <td>2019-04-08</td>\n",
       "      <td>General Motors</td>\n",
       "      <td>GM</td>\n",
       "      <td>39.06</td>\n",
       "    </tr>\n",
       "    <tr>\n",
       "      <th>6</th>\n",
       "      <td>2019-04-09</td>\n",
       "      <td>2019-09-04</td>\n",
       "      <td>2019-04-09</td>\n",
       "      <td>General Motors</td>\n",
       "      <td>GM</td>\n",
       "      <td>38.86</td>\n",
       "    </tr>\n",
       "    <tr>\n",
       "      <th>7</th>\n",
       "      <td>2019-04-10</td>\n",
       "      <td>2019-10-04</td>\n",
       "      <td>2019-04-10</td>\n",
       "      <td>General Motors</td>\n",
       "      <td>GM</td>\n",
       "      <td>39.25</td>\n",
       "    </tr>\n",
       "  </tbody>\n",
       "</table>\n",
       "</div>"
      ],
      "text/plain": [
       "       Date1      Date2      Date3    Company Name Ticker  Closing Price\n",
       "0 2019-04-01 2019-01-04 2019-04-01  General Motors     GM          37.76\n",
       "1 2019-04-02 2019-02-04 2019-04-02  General Motors     GM          37.81\n",
       "2 2019-04-03 2019-03-04 2019-04-03  General Motors     GM          38.39\n",
       "3 2019-04-04 2019-04-04 2019-04-04  General Motors     GM          38.79\n",
       "4 2019-04-05 2019-05-04 2019-04-05  General Motors     GM          38.94\n",
       "5 2019-04-08 2019-08-04 2019-04-08  General Motors     GM          39.06\n",
       "6 2019-04-09 2019-09-04 2019-04-09  General Motors     GM          38.86\n",
       "7 2019-04-10 2019-10-04 2019-04-10  General Motors     GM          39.25"
      ]
     },
     "execution_count": 26,
     "metadata": {},
     "output_type": "execute_result"
    }
   ],
   "source": [
    "dfGM = pd.read_csv('data/GM.csv', parse_dates=['Date1', 'Date2', 'Date3'])\n",
    "dfGM"
   ]
  },
  {
   "cell_type": "markdown",
   "metadata": {},
   "source": [
    "Ignore the warning for a moment and take a look at the data frame. First, notice that the dates in the three columns are formatted differently than in the CSV file. That is how Pandas formats dates by default. We can check whether those values are dates. Let's perform a spot check:"
   ]
  },
  {
   "cell_type": "code",
   "execution_count": 27,
   "metadata": {},
   "outputs": [
    {
     "data": {
      "text/plain": [
       "pandas._libs.tslibs.timestamps.Timestamp"
      ]
     },
     "execution_count": 27,
     "metadata": {},
     "output_type": "execute_result"
    }
   ],
   "source": [
    "type(dfGM.at[3, 'Date2'])"
   ]
  },
  {
   "cell_type": "markdown",
   "metadata": {},
   "source": [
    "The \"Timestamp\" class is a Pandas class for storing datetime values. Thus, all the date strings were converted to dates.\n",
    "\n",
    "But... were they converted correctly? **Take a look at the column _Date2_. It got the day and month backwards!!!** Oops. In the CSV file, the day and month are reverse in the column _Date2_. Pandas warned us about that. It said that it was unsure about the date format. It converted the dates from strings, but notified us that it might have been wrong. How can we fix this?\n",
    "\n",
    "If the day and month are reversed in _all_ columns, you can pass the keyword argument _dayfirst_ and set its value to True. But if you do that, Pandas will assume that for every date, even those in the first and third columns. Here are some other options:\n",
    "1. Do not tell Pandas to parse the date for _Date2_ and _Date3_. Then convert those date manually in Pandas.\n",
    "2. Pass a conversion function to Pandas using the _converters_ keyword argument.\n",
    "3. Do not import the _Date2_ and _Date3_ columns. Import those into separate DataFrames and set _dayfirst_ to true. Then merge this second DataFrame with the DataFrame that contains all the other columns.\n",
    "\n",
    "None of these options is simple even though all will work. Let's go with option 1 for now. Run the following code. It will import the entire CSV file but will not parse the dates in the _Date2_ and _Date3_ columns."
   ]
  },
  {
   "cell_type": "code",
   "execution_count": 28,
   "metadata": {},
   "outputs": [
    {
     "data": {
      "text/html": [
       "<div>\n",
       "<style scoped>\n",
       "    .dataframe tbody tr th:only-of-type {\n",
       "        vertical-align: middle;\n",
       "    }\n",
       "\n",
       "    .dataframe tbody tr th {\n",
       "        vertical-align: top;\n",
       "    }\n",
       "\n",
       "    .dataframe thead th {\n",
       "        text-align: right;\n",
       "    }\n",
       "</style>\n",
       "<table border=\"1\" class=\"dataframe\">\n",
       "  <thead>\n",
       "    <tr style=\"text-align: right;\">\n",
       "      <th></th>\n",
       "      <th>Date1</th>\n",
       "      <th>Date2</th>\n",
       "      <th>Date3</th>\n",
       "      <th>Company Name</th>\n",
       "      <th>Ticker</th>\n",
       "      <th>Closing Price</th>\n",
       "    </tr>\n",
       "  </thead>\n",
       "  <tbody>\n",
       "    <tr>\n",
       "      <th>0</th>\n",
       "      <td>2019-04-01</td>\n",
       "      <td>1/4/2019</td>\n",
       "      <td>01 Apr 19</td>\n",
       "      <td>General Motors</td>\n",
       "      <td>GM</td>\n",
       "      <td>37.76</td>\n",
       "    </tr>\n",
       "    <tr>\n",
       "      <th>1</th>\n",
       "      <td>2019-04-02</td>\n",
       "      <td>2/4/2019</td>\n",
       "      <td>02 Apr 19</td>\n",
       "      <td>General Motors</td>\n",
       "      <td>GM</td>\n",
       "      <td>37.81</td>\n",
       "    </tr>\n",
       "    <tr>\n",
       "      <th>2</th>\n",
       "      <td>2019-04-03</td>\n",
       "      <td>3/4/2019</td>\n",
       "      <td>03 Apr 19</td>\n",
       "      <td>General Motors</td>\n",
       "      <td>GM</td>\n",
       "      <td>38.39</td>\n",
       "    </tr>\n",
       "    <tr>\n",
       "      <th>3</th>\n",
       "      <td>2019-04-04</td>\n",
       "      <td>4/4/2019</td>\n",
       "      <td>04 Apr 19</td>\n",
       "      <td>General Motors</td>\n",
       "      <td>GM</td>\n",
       "      <td>38.79</td>\n",
       "    </tr>\n",
       "    <tr>\n",
       "      <th>4</th>\n",
       "      <td>2019-04-05</td>\n",
       "      <td>5/4/2019</td>\n",
       "      <td>05 Apr 19</td>\n",
       "      <td>General Motors</td>\n",
       "      <td>GM</td>\n",
       "      <td>38.94</td>\n",
       "    </tr>\n",
       "    <tr>\n",
       "      <th>5</th>\n",
       "      <td>2019-04-08</td>\n",
       "      <td>8/4/2019</td>\n",
       "      <td>08 Apr 19</td>\n",
       "      <td>General Motors</td>\n",
       "      <td>GM</td>\n",
       "      <td>39.06</td>\n",
       "    </tr>\n",
       "    <tr>\n",
       "      <th>6</th>\n",
       "      <td>2019-04-09</td>\n",
       "      <td>9/4/2019</td>\n",
       "      <td>09 Apr 19</td>\n",
       "      <td>General Motors</td>\n",
       "      <td>GM</td>\n",
       "      <td>38.86</td>\n",
       "    </tr>\n",
       "    <tr>\n",
       "      <th>7</th>\n",
       "      <td>2019-04-10</td>\n",
       "      <td>10/4/2019</td>\n",
       "      <td>10 Apr 19</td>\n",
       "      <td>General Motors</td>\n",
       "      <td>GM</td>\n",
       "      <td>39.25</td>\n",
       "    </tr>\n",
       "  </tbody>\n",
       "</table>\n",
       "</div>"
      ],
      "text/plain": [
       "       Date1      Date2      Date3    Company Name Ticker  Closing Price\n",
       "0 2019-04-01   1/4/2019  01 Apr 19  General Motors     GM          37.76\n",
       "1 2019-04-02   2/4/2019  02 Apr 19  General Motors     GM          37.81\n",
       "2 2019-04-03   3/4/2019  03 Apr 19  General Motors     GM          38.39\n",
       "3 2019-04-04   4/4/2019  04 Apr 19  General Motors     GM          38.79\n",
       "4 2019-04-05   5/4/2019  05 Apr 19  General Motors     GM          38.94\n",
       "5 2019-04-08   8/4/2019  08 Apr 19  General Motors     GM          39.06\n",
       "6 2019-04-09   9/4/2019  09 Apr 19  General Motors     GM          38.86\n",
       "7 2019-04-10  10/4/2019  10 Apr 19  General Motors     GM          39.25"
      ]
     },
     "execution_count": 28,
     "metadata": {},
     "output_type": "execute_result"
    }
   ],
   "source": [
    "# Notice that we are not parsing the Date2 column\n",
    "dfGM = pd.read_csv('data/GM.csv', parse_dates=['Date1'], dayfirst=False)\n",
    "dfGM"
   ]
  },
  {
   "cell_type": "markdown",
   "metadata": {},
   "source": [
    "If you check, you will see that the values in the _Date2_ and _Date3_ columns are still strings. Following is the code to convert _Date2_ to a date. We will use the function `pd.to_datetime`. This function allows us to give it a format string that tells it the exact format to use. If you want a reference for the formatting codes, which are used in other programming languages too, see [here](http://strftime.org/)."
   ]
  },
  {
   "cell_type": "code",
   "execution_count": 29,
   "metadata": {},
   "outputs": [
    {
     "data": {
      "text/html": [
       "<div>\n",
       "<style scoped>\n",
       "    .dataframe tbody tr th:only-of-type {\n",
       "        vertical-align: middle;\n",
       "    }\n",
       "\n",
       "    .dataframe tbody tr th {\n",
       "        vertical-align: top;\n",
       "    }\n",
       "\n",
       "    .dataframe thead th {\n",
       "        text-align: right;\n",
       "    }\n",
       "</style>\n",
       "<table border=\"1\" class=\"dataframe\">\n",
       "  <thead>\n",
       "    <tr style=\"text-align: right;\">\n",
       "      <th></th>\n",
       "      <th>Date1</th>\n",
       "      <th>Date2</th>\n",
       "      <th>Date3</th>\n",
       "      <th>Company Name</th>\n",
       "      <th>Ticker</th>\n",
       "      <th>Closing Price</th>\n",
       "    </tr>\n",
       "  </thead>\n",
       "  <tbody>\n",
       "    <tr>\n",
       "      <th>0</th>\n",
       "      <td>2019-04-01</td>\n",
       "      <td>2019-04-01</td>\n",
       "      <td>01 Apr 19</td>\n",
       "      <td>General Motors</td>\n",
       "      <td>GM</td>\n",
       "      <td>37.76</td>\n",
       "    </tr>\n",
       "    <tr>\n",
       "      <th>1</th>\n",
       "      <td>2019-04-02</td>\n",
       "      <td>2019-04-02</td>\n",
       "      <td>02 Apr 19</td>\n",
       "      <td>General Motors</td>\n",
       "      <td>GM</td>\n",
       "      <td>37.81</td>\n",
       "    </tr>\n",
       "    <tr>\n",
       "      <th>2</th>\n",
       "      <td>2019-04-03</td>\n",
       "      <td>2019-04-03</td>\n",
       "      <td>03 Apr 19</td>\n",
       "      <td>General Motors</td>\n",
       "      <td>GM</td>\n",
       "      <td>38.39</td>\n",
       "    </tr>\n",
       "    <tr>\n",
       "      <th>3</th>\n",
       "      <td>2019-04-04</td>\n",
       "      <td>2019-04-04</td>\n",
       "      <td>04 Apr 19</td>\n",
       "      <td>General Motors</td>\n",
       "      <td>GM</td>\n",
       "      <td>38.79</td>\n",
       "    </tr>\n",
       "    <tr>\n",
       "      <th>4</th>\n",
       "      <td>2019-04-05</td>\n",
       "      <td>2019-04-05</td>\n",
       "      <td>05 Apr 19</td>\n",
       "      <td>General Motors</td>\n",
       "      <td>GM</td>\n",
       "      <td>38.94</td>\n",
       "    </tr>\n",
       "    <tr>\n",
       "      <th>5</th>\n",
       "      <td>2019-04-08</td>\n",
       "      <td>2019-04-08</td>\n",
       "      <td>08 Apr 19</td>\n",
       "      <td>General Motors</td>\n",
       "      <td>GM</td>\n",
       "      <td>39.06</td>\n",
       "    </tr>\n",
       "    <tr>\n",
       "      <th>6</th>\n",
       "      <td>2019-04-09</td>\n",
       "      <td>2019-04-09</td>\n",
       "      <td>09 Apr 19</td>\n",
       "      <td>General Motors</td>\n",
       "      <td>GM</td>\n",
       "      <td>38.86</td>\n",
       "    </tr>\n",
       "    <tr>\n",
       "      <th>7</th>\n",
       "      <td>2019-04-10</td>\n",
       "      <td>2019-04-10</td>\n",
       "      <td>10 Apr 19</td>\n",
       "      <td>General Motors</td>\n",
       "      <td>GM</td>\n",
       "      <td>39.25</td>\n",
       "    </tr>\n",
       "  </tbody>\n",
       "</table>\n",
       "</div>"
      ],
      "text/plain": [
       "       Date1      Date2      Date3    Company Name Ticker  Closing Price\n",
       "0 2019-04-01 2019-04-01  01 Apr 19  General Motors     GM          37.76\n",
       "1 2019-04-02 2019-04-02  02 Apr 19  General Motors     GM          37.81\n",
       "2 2019-04-03 2019-04-03  03 Apr 19  General Motors     GM          38.39\n",
       "3 2019-04-04 2019-04-04  04 Apr 19  General Motors     GM          38.79\n",
       "4 2019-04-05 2019-04-05  05 Apr 19  General Motors     GM          38.94\n",
       "5 2019-04-08 2019-04-08  08 Apr 19  General Motors     GM          39.06\n",
       "6 2019-04-09 2019-04-09  09 Apr 19  General Motors     GM          38.86\n",
       "7 2019-04-10 2019-04-10  10 Apr 19  General Motors     GM          39.25"
      ]
     },
     "execution_count": 29,
     "metadata": {},
     "output_type": "execute_result"
    }
   ],
   "source": [
    "dfGM['Date2'] = pd.to_datetime(dfGM['Date2'], format='%d/%m/%Y')\n",
    "dfGM"
   ]
  },
  {
   "cell_type": "markdown",
   "metadata": {},
   "source": [
    "How did that function work? `pd.to_datetime` takes a single value or a column of values and attemps to convert each value to a valid Pandas date. The _format_ argument is optional. However, if you do not give it a format string, it will assume month comes first. You can pass it an explicit format string, and the one we used was `'%d/%m/%Y'`. If you check out the reference we gave you (see [here](http://strftime.org/)), you will see that `%d` means a day as expressed by 2 digits, %m means a month as expressed by 2 digits, and %Y means a 4-digit year."
   ]
  },
  {
   "cell_type": "markdown",
   "metadata": {},
   "source": [
    "Let's do that again for the _Date3_ column. Here, we use the format string `'%d %b %y'`. This tells Pandas that the two-digit day (`'%d'`) is followed by a space, then the 3-letter month abbreviation (`'%b'`) and a space, then the 2-digit year (`'%y'`)."
   ]
  },
  {
   "cell_type": "code",
   "execution_count": 30,
   "metadata": {},
   "outputs": [
    {
     "data": {
      "text/html": [
       "<div>\n",
       "<style scoped>\n",
       "    .dataframe tbody tr th:only-of-type {\n",
       "        vertical-align: middle;\n",
       "    }\n",
       "\n",
       "    .dataframe tbody tr th {\n",
       "        vertical-align: top;\n",
       "    }\n",
       "\n",
       "    .dataframe thead th {\n",
       "        text-align: right;\n",
       "    }\n",
       "</style>\n",
       "<table border=\"1\" class=\"dataframe\">\n",
       "  <thead>\n",
       "    <tr style=\"text-align: right;\">\n",
       "      <th></th>\n",
       "      <th>Date1</th>\n",
       "      <th>Date2</th>\n",
       "      <th>Date3</th>\n",
       "      <th>Company Name</th>\n",
       "      <th>Ticker</th>\n",
       "      <th>Closing Price</th>\n",
       "    </tr>\n",
       "  </thead>\n",
       "  <tbody>\n",
       "    <tr>\n",
       "      <th>0</th>\n",
       "      <td>2019-04-01</td>\n",
       "      <td>2019-04-01</td>\n",
       "      <td>2019-04-01</td>\n",
       "      <td>General Motors</td>\n",
       "      <td>GM</td>\n",
       "      <td>37.76</td>\n",
       "    </tr>\n",
       "    <tr>\n",
       "      <th>1</th>\n",
       "      <td>2019-04-02</td>\n",
       "      <td>2019-04-02</td>\n",
       "      <td>2019-04-02</td>\n",
       "      <td>General Motors</td>\n",
       "      <td>GM</td>\n",
       "      <td>37.81</td>\n",
       "    </tr>\n",
       "    <tr>\n",
       "      <th>2</th>\n",
       "      <td>2019-04-03</td>\n",
       "      <td>2019-04-03</td>\n",
       "      <td>2019-04-03</td>\n",
       "      <td>General Motors</td>\n",
       "      <td>GM</td>\n",
       "      <td>38.39</td>\n",
       "    </tr>\n",
       "    <tr>\n",
       "      <th>3</th>\n",
       "      <td>2019-04-04</td>\n",
       "      <td>2019-04-04</td>\n",
       "      <td>2019-04-04</td>\n",
       "      <td>General Motors</td>\n",
       "      <td>GM</td>\n",
       "      <td>38.79</td>\n",
       "    </tr>\n",
       "    <tr>\n",
       "      <th>4</th>\n",
       "      <td>2019-04-05</td>\n",
       "      <td>2019-04-05</td>\n",
       "      <td>2019-04-05</td>\n",
       "      <td>General Motors</td>\n",
       "      <td>GM</td>\n",
       "      <td>38.94</td>\n",
       "    </tr>\n",
       "    <tr>\n",
       "      <th>5</th>\n",
       "      <td>2019-04-08</td>\n",
       "      <td>2019-04-08</td>\n",
       "      <td>2019-04-08</td>\n",
       "      <td>General Motors</td>\n",
       "      <td>GM</td>\n",
       "      <td>39.06</td>\n",
       "    </tr>\n",
       "    <tr>\n",
       "      <th>6</th>\n",
       "      <td>2019-04-09</td>\n",
       "      <td>2019-04-09</td>\n",
       "      <td>2019-04-09</td>\n",
       "      <td>General Motors</td>\n",
       "      <td>GM</td>\n",
       "      <td>38.86</td>\n",
       "    </tr>\n",
       "    <tr>\n",
       "      <th>7</th>\n",
       "      <td>2019-04-10</td>\n",
       "      <td>2019-04-10</td>\n",
       "      <td>2019-04-10</td>\n",
       "      <td>General Motors</td>\n",
       "      <td>GM</td>\n",
       "      <td>39.25</td>\n",
       "    </tr>\n",
       "  </tbody>\n",
       "</table>\n",
       "</div>"
      ],
      "text/plain": [
       "       Date1      Date2      Date3    Company Name Ticker  Closing Price\n",
       "0 2019-04-01 2019-04-01 2019-04-01  General Motors     GM          37.76\n",
       "1 2019-04-02 2019-04-02 2019-04-02  General Motors     GM          37.81\n",
       "2 2019-04-03 2019-04-03 2019-04-03  General Motors     GM          38.39\n",
       "3 2019-04-04 2019-04-04 2019-04-04  General Motors     GM          38.79\n",
       "4 2019-04-05 2019-04-05 2019-04-05  General Motors     GM          38.94\n",
       "5 2019-04-08 2019-04-08 2019-04-08  General Motors     GM          39.06\n",
       "6 2019-04-09 2019-04-09 2019-04-09  General Motors     GM          38.86\n",
       "7 2019-04-10 2019-04-10 2019-04-10  General Motors     GM          39.25"
      ]
     },
     "execution_count": 30,
     "metadata": {},
     "output_type": "execute_result"
    }
   ],
   "source": [
    "dfGM['Date3'] = pd.to_datetime(dfGM['Date3'], format='%d %b %y')\n",
    "dfGM"
   ]
  },
  {
   "cell_type": "markdown",
   "metadata": {},
   "source": [
    "### Getting help with `read_csv`"
   ]
  },
  {
   "cell_type": "markdown",
   "metadata": {},
   "source": [
    "How did we know about the available keyword arguments for `read_csv`? We read the documentation! The official documentation for the Pandas `read_excel` function is [here](https://pandas.pydata.org/pandas-docs/stable/reference/api/pandas.read_csv.html). You can also do a Google search for \"Pandas read csv\" and the first link will be to the same page. Take a look at that page and browse the available arguments. You'll see that `read_csv` offers a lot of features, especially for dealing with dates, missing data, and Excel error values."
   ]
  }
 ],
 "metadata": {
  "kernelspec": {
   "display_name": "Python 3 (ipykernel)",
   "language": "python",
   "name": "python3"
  },
  "language_info": {
   "codemirror_mode": {
    "name": "ipython",
    "version": 3
   },
   "file_extension": ".py",
   "mimetype": "text/x-python",
   "name": "python",
   "nbconvert_exporter": "python",
   "pygments_lexer": "ipython3",
   "version": "3.11.9"
  }
 },
 "nbformat": 4,
 "nbformat_minor": 4
}
