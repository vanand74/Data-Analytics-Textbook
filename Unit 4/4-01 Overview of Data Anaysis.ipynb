{
 "cells": [
  {
   "cell_type": "markdown",
   "metadata": {},
   "source": [
    "# Overview of Analyzing Data"
   ]
  },
  {
   "cell_type": "markdown",
   "metadata": {},
   "source": [
    "In this unit, we will teach you the basics of data analysis. It all starts with your business question. You need to perform some computations on your data that provide some insight into your question. In the past units, you prepared the data for this analysis. In this unit, you will perform computations, some of which will be statistical in nature, that provide some insight into your business question.\n",
    "\n",
    "As an example, consider a product profitability analysis. You want to compute the profitability of the products that your company produces. Depending on the available data, this might be simple or complicated. At a minimum, you will need to _sum_ the revenues and costs for each product. The difference is the profitability of the product. Your final output might be a table (like a pivot table) or a graph (like a bar chart).\n",
    "\n",
    "As another example, imagine estimating a demand curve. Say that you varied the price of a product and observed the demand at different prices (airlines do this all the time). You might want to fit a line or a curve to your data (this is the famous demand curve from microeconomics), and you could use a regression to do this.\n",
    "\n",
    "There are many, many ways to analyze data. In the remainder of this course, we only have time to cover a few. We'll show you how to provide some summary statistics for your data (called descriptive statistics, because they describe your data). We'll show you how to create pivot tables, both in Python and in Excel. Pivot tables are incredibly useful, and worth investing in. And finally, we'll cover some regression analysis. Unlike in your statistics courses, we will not go into the technical details of regression. Instead, we will focus on when regression is appropriate and how to interpret regression output.\n",
    "\n",
    "We will only scratch the surface of data analysis. If you want to learn more, consider taking some applied statistics or machine learning courses. Also, as you work on business problems in the real world, pay attention to the analyses that others do. You will learn much from your colleagues on the job."
   ]
  },
  {
   "cell_type": "markdown",
   "metadata": {},
   "source": [
    "## Topics in Unit 4"
   ]
  },
  {
   "cell_type": "markdown",
   "metadata": {},
   "source": [
    "In this unit, we will cover these topics in approximately this order:\n",
    "\n",
    "1. Descriptive Statistics\n",
    "2. Pivot Tables\n",
    "    - Pandas / Python\n",
    "    - Excel\n",
    "3. Linear Regression"
   ]
  }
 ],
 "metadata": {
  "kernelspec": {
   "display_name": "Python 3 (ipykernel)",
   "language": "python",
   "name": "python3"
  },
  "language_info": {
   "codemirror_mode": {
    "name": "ipython",
    "version": 3
   },
   "file_extension": ".py",
   "mimetype": "text/x-python",
   "name": "python",
   "nbconvert_exporter": "python",
   "pygments_lexer": "ipython3",
   "version": "3.11.9"
  }
 },
 "nbformat": 4,
 "nbformat_minor": 4
}
