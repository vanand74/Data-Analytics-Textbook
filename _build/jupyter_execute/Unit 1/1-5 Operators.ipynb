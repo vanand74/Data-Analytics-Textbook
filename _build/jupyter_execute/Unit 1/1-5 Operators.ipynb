{
 "cells": [
  {
   "cell_type": "markdown",
   "metadata": {},
   "source": [
    "# Operators"
   ]
  },
  {
   "cell_type": "markdown",
   "metadata": {},
   "source": [
    "##  Learning Objectives"
   ]
  },
  {
   "cell_type": "markdown",
   "metadata": {},
   "source": [
    "<div style=\"border: 1px solid black; padding: 10px; background-color: #EDEDED;\">\n",
    "    <b>Overall</b>\n",
    "    <ul>\n",
    "        <li>Explain conceptually what an operator is and what it does.</li>\n",
    "    </ul>\n",
    "    <b>Arithmetic Operators</b>\n",
    "    <ul>\n",
    "        <li>List each arithmetic operator and explain what it does.</li>\n",
    "        <li>Given an expression containing an arithmetic operator and two values, e.g. 5 / 3, predict the type of the computed value.</li>\n",
    "    </ul>\n",
    "    <b>Comparison Operators</b>\n",
    "    <ul>\n",
    "        <li>List each comparison operator and explain what it does.</li>\n",
    "        <li>Explain why = and == are different in Python.</li>\n",
    "        <li>State that the return type of any comparison is always <i>bool</i>.</li>\n",
    "    </ul>\n",
    "    <b>Logical Operators</b>\n",
    "    <ul>\n",
    "        <li>List each logical operator and explain what it does.</li>\n",
    "        <li>Write the truth table for each logical operator.</li>\n",
    "    </ul>\n",
    "    <b>Membership Operators</b>\n",
    "    <ul>\n",
    "        <li>List the membership operators.</li>\n",
    "    </ul>\n",
    "    <b>Operator Precedence / Order of Operations</b>\n",
    "    <ul>\n",
    "        <li>Understand that Python evaluates operators in order of precedence. Understand that if two operators have the same precedence, then Python goes from left to right.</li>\n",
    "        <li>Given an expression with multiple operators of different precendence, compute the resulting value (on paper, without a computer).</li>\n",
    "        <li>Use parentheses to modify an expression to force a particular order of evaluation.</li>\n",
    "    </ul>\n",
    "</div>"
   ]
  },
  {
   "cell_type": "markdown",
   "metadata": {},
   "source": [
    "## Overview of Operators"
   ]
  },
  {
   "cell_type": "markdown",
   "metadata": {},
   "source": [
    "When we use the term operator, we are not referring to surgeons. We are not referring to people who operate machinery. And we are definitely not referring to [smooth operators](https://www.youtube.com/watch?time_continue=2&v=4TYv2PhG89A). \n",
    "\n",
    "All joking aside, in programming operators are symbols that act on values. There are four types of operators you need to know about to work with data:\n",
    "* Arithmetic operators (for doing simple math)\n",
    "* Comparison operators (for comparing values)\n",
    "* Logical operators (for working with Boolean values)\n",
    "* Membership operators (for checking whether something is part of a collection)"
   ]
  },
  {
   "cell_type": "markdown",
   "metadata": {},
   "source": [
    "## Arithmetic operators"
   ]
  },
  {
   "cell_type": "markdown",
   "metadata": {},
   "source": [
    "When we say arithmetic, we are referring to simple math that you learned as a child. Python (and all programming languages) support simple math. The following table shows Python's arithmetic operators.\n",
    "\n",
    "| Operator | What it does | Example | Result |\n",
    "|:-----:|:----- |:-----:|:-----:|\n",
    "| + | Addition | 5 + 3 | 8 |\n",
    "| - | Subtraction | 4.0 - 19.3 | -15.3 |\n",
    "| * | Multiplication | 2 * 3 | 6 |\n",
    "| / | Division | 3.1415 / 2 | 1.57075 |\n",
    "| // | Floor division | 7 // 2 |  3 |\n",
    "| % | Mod (remainder) | 14 % 3 | 2 |\n",
    "| ** | Exponentiation | 3 ** 4 | 81 |\n",
    "\n",
    "Many of these operators are simple and do not require explanation. Instead, we will explain a few subtleties that arise when working with mixed data types. We will also describe the operators that may be unfamiliar."
   ]
  },
  {
   "cell_type": "markdown",
   "metadata": {},
   "source": [
    "### Working with mixed data types"
   ]
  },
  {
   "cell_type": "markdown",
   "metadata": {},
   "source": [
    "#### Addition, subtraction, and multiplication"
   ]
  },
  {
   "cell_type": "markdown",
   "metadata": {},
   "source": [
    "When working with the addition (+), subtraction (+), and multiplication (\\*) operators, if both values are integer, the result will be an integer. However, if either value is a float, the result will be a float. So:\n",
    "```python\n",
    "3 + 2     # Evaluates to 5, an int.\n",
    "3 - 2.0   # Evaluates to 1.0, a float.\n",
    "```"
   ]
  },
  {
   "cell_type": "markdown",
   "metadata": {},
   "source": [
    "#### Division and \"Floor Division\""
   ]
  },
  {
   "cell_type": "markdown",
   "metadata": {},
   "source": [
    "When working with the division operator (/), _Python always returns a float_, even if both values are integers."
   ]
  },
  {
   "cell_type": "code",
   "execution_count": 1,
   "metadata": {},
   "outputs": [
    {
     "name": "stdout",
     "output_type": "stream",
     "text": [
      "3.0\n"
     ]
    }
   ],
   "source": [
    "print(6 / 2)"
   ]
  },
  {
   "cell_type": "markdown",
   "metadata": {},
   "source": [
    "Sometimes, you may want to divide integers and return an integer. Or you may wish to divide two floats and discard the fractional portion. Python provides the \"floor division\" operator for this purpose. If you execute `x // y`, Python divides `x` by `y` and _rounds down to the nearest integer_. If both values are integers, it returns an integer. If one or both is a float, it returns a float.\n",
    "\n",
    "Examples:\n",
    "```python\n",
    "6 // 2   # Evaluates to 3\n",
    "7.5 // 2 # Evaluates to 3.0\n",
    "```"
   ]
  },
  {
   "cell_type": "markdown",
   "metadata": {},
   "source": [
    "### The mod operator (%) for remainders"
   ]
  },
  {
   "cell_type": "markdown",
   "metadata": {},
   "source": [
    "The mod operator is super useful. It returns the remainder from division. Remember when you first learned division as a kid? Before you learned about decimals, they had you use remainders. If you had to divide 93 by 10, your answer would be 9, Remainder 3. The mod operator computes the remainder."
   ]
  },
  {
   "cell_type": "code",
   "execution_count": 2,
   "metadata": {},
   "outputs": [
    {
     "data": {
      "text/plain": [
       "3"
      ]
     },
     "execution_count": 2,
     "metadata": {},
     "output_type": "execute_result"
    }
   ],
   "source": [
    "93 % 10"
   ]
  },
  {
   "cell_type": "markdown",
   "metadata": {},
   "source": [
    "Why is this useful, you ask? It comes in handy more often than you would think. In ACCY 575, students had a fraud case where they looked for \"round number transactions\". The easiest way to do that was with the mod operator. We told them that suspiscious amounts end in 000. Let's say I have the following financial statement line items:\n",
    "\n",
    "| Item  | Amount  |\n",
    "|:--- | ---:|\n",
    "|Revenue| $1,000,000  |\n",
    "|COGS|       351,035  |\n",
    "|SG&A|51,234|\n",
    "\n",
    "To select items that end in 000, you would use the mod operator and 1000. `1000000 % 1000` would give you 0, `351035 % 1000` would give you 35, and `51234 % 1000` would give you 234. Then you might investigate any item that had an ouput of 0 after using the mod operator. \n",
    "\n",
    "Here's some code to do that:"
   ]
  },
  {
   "cell_type": "code",
   "execution_count": 3,
   "metadata": {},
   "outputs": [
    {
     "name": "stdout",
     "output_type": "stream",
     "text": [
      "The remainder for Revenue after dividing by 1000 is 0\n",
      "The remainder for COGS after dividing by 1000 is 35\n",
      "The remainder for SG&A after dividing by 1000 is 234\n"
     ]
    }
   ],
   "source": [
    "revenue = 1000000\n",
    "COGS = 351035\n",
    "SGA = 51234\n",
    "\n",
    "print(f'The remainder for Revenue after dividing by 1000 is {revenue % 1000}')\n",
    "print(f'The remainder for COGS after dividing by 1000 is {COGS % 1000}')\n",
    "print(f'The remainder for SG&A after dividing by 1000 is {SGA % 1000}')"
   ]
  },
  {
   "cell_type": "markdown",
   "metadata": {},
   "source": [
    "### Exponentiation"
   ]
  },
  {
   "cell_type": "markdown",
   "metadata": {},
   "source": [
    "`x ** y` raises x to the power y (i.e. $x^y$). x and y can be integers or floats. If both are integers, the result is an integer. Otherwise the result is a float."
   ]
  },
  {
   "cell_type": "markdown",
   "metadata": {},
   "source": [
    "## Comparison operators"
   ]
  },
  {
   "cell_type": "markdown",
   "metadata": {},
   "source": [
    "Comparison operators are used to ... wait for it ... compare two values. We bet you never would have guessed. Some of these operators are straightforward while others will appear strange. We will briefly discuss the strange ones. _Importantly, all of these operators compare two values and return a Boolean (True or False)_.\n",
    "\n",
    "| Operator | What it does | Example |\n",
    "|:-----:|:----- |:-----:|\n",
    "| > | Greater than | x > y |\n",
    "| >= | Greater than or equal to | x >= y |\n",
    "| < | Less than | x < y |\n",
    "| <= | Less than or equal to | x <= y |\n",
    "| == | Equal to | x == y |\n",
    "| != | Not equal to | x != y |\n",
    "\n",
    "The first four operators (>, >=, <, <=) are probably obvious (if not, please ask us about them!)."
   ]
  },
  {
   "cell_type": "markdown",
   "metadata": {},
   "source": [
    "### The Equal to (`==`) and Not Equal To (`!=`) operators"
   ]
  },
  {
   "cell_type": "markdown",
   "metadata": {},
   "source": [
    "You are probably wondering why comparing two numbers for equality requires _two_ equals signs. The reason is so that Python can distinguish between assigning a value to a variable and comparing two values.\n",
    "```python\n",
    "x = 5  # Create x if it doesn't exist. Set the value of x to 5.\n",
    "x == 5 # Compare x to 5. If x equals 5, return True. Otherwise return False.\n",
    "```\n",
    "\n",
    "You will use the `==` and `!=` operators _very often_ when we start working with real datasets, so memorize them now!"
   ]
  },
  {
   "cell_type": "markdown",
   "metadata": {},
   "source": [
    "## Logical operators"
   ]
  },
  {
   "cell_type": "markdown",
   "metadata": {},
   "source": [
    "You will use logical operators very frequently when working with data. Logical operators are needed when you have more than one condition to test. For example, say you have a dataset of company financial statements and you want to filter it so you only have financial statements after 2010, and only for companies with revenue in excess of \\$1 billion. You would create two conditions and join them with an `and` operator. \n",
    "\n",
    "Python's logical operators are:\n",
    "\n",
    "| Operator | What it does | Example |\n",
    "|:-----:|:----- |:-----:|\n",
    "| and | Returns True if both conditions are true | x and y |\n",
    "| or | Returns True if either or both conditions are true | x or y |\n",
    "| not | Reverse the value. | not x |"
   ]
  },
  {
   "cell_type": "markdown",
   "metadata": {},
   "source": [
    "### Logical `and` operator"
   ]
  },
  {
   "cell_type": "markdown",
   "metadata": {},
   "source": [
    "As its name suggests, `x and y` will only return True if both x and y are true. We can write out all the possibilities using what's called a \"truth table.\"\n",
    "\n",
    "| x | y | x and y |\n",
    "|:---:|:---:|:---:|\n",
    "| False | False | False |\n",
    "| False | True | False |\n",
    "| True | False | False |\n",
    "| True | True | True |"
   ]
  },
  {
   "cell_type": "markdown",
   "metadata": {},
   "source": [
    "#### Example using `and` operator"
   ]
  },
  {
   "cell_type": "markdown",
   "metadata": {},
   "source": [
    "Let's revisit the raspberry example from above. We only want to buy raspberries that are attractive (condition 1) and cheap (condition 2). In the code below, the first condition is represented as a Boolean variable; we set its value to `True`. The second condition is also represented as a Boolean variable, but its value is based on a test of whether the spot price for raspberries, 3.99, is less than our threshold. This second condition will evaluate to false.\n",
    "\n",
    "Since the first condition is true and the second is false, according to the truth table, the `and` will evaluate to False and we will not buy raspberries. :-("
   ]
  },
  {
   "cell_type": "code",
   "execution_count": 4,
   "metadata": {},
   "outputs": [
    {
     "name": "stdout",
     "output_type": "stream",
     "text": [
      "No raspberries today.\n"
     ]
    }
   ],
   "source": [
    "raspberries_look_good = True\n",
    "\n",
    "raspberry_price = 3.99\n",
    "raspberries_are_cheap = raspberry_price < 2.99\n",
    "\n",
    "if raspberries_look_good and raspberries_are_cheap:\n",
    "    print(\"I'm buying raspberries.\")\n",
    "else:\n",
    "    print('No raspberries today.')"
   ]
  },
  {
   "cell_type": "markdown",
   "metadata": {},
   "source": [
    "### Logical `or` operator"
   ]
  },
  {
   "cell_type": "markdown",
   "metadata": {},
   "source": [
    "As its name suggests, `x or y` will only return True if either x is true, y is true, or both x and y are true. The truth table for `or` is:\n",
    "\n",
    "| x | y | x or y |\n",
    "|:---:|:---:|:---:|\n",
    "| False | False | False |\n",
    "| False | True | True |\n",
    "| True | False | True |\n",
    "| True | True | True |"
   ]
  },
  {
   "cell_type": "markdown",
   "metadata": {},
   "source": [
    "#### Example using `or` operator"
   ]
  },
  {
   "cell_type": "markdown",
   "metadata": {},
   "source": [
    "Let's repeat the raspberry example. We will change the `and` to `or`. Since the first condition is true, the `or` will evaluate to true and we will buy raspberries. :-)"
   ]
  },
  {
   "cell_type": "code",
   "execution_count": 5,
   "metadata": {},
   "outputs": [
    {
     "name": "stdout",
     "output_type": "stream",
     "text": [
      "I'm buying raspberries.\n"
     ]
    }
   ],
   "source": [
    "raspberries_look_good = True\n",
    "\n",
    "raspberry_price = 3.99\n",
    "raspberries_are_cheap = raspberry_price < 2.99\n",
    "\n",
    "# On the next line, we changed \"and\" to \"or\".\n",
    "if raspberries_look_good or raspberries_are_cheap:\n",
    "    print(\"I'm buying raspberries.\")\n",
    "else:\n",
    "    print('No raspberries today.')"
   ]
  },
  {
   "cell_type": "markdown",
   "metadata": {},
   "source": [
    "### Logical `not` operator"
   ]
  },
  {
   "cell_type": "markdown",
   "metadata": {},
   "source": [
    "The `not` operator reverses the value you give it. The truth table for `not` is:\n",
    "\n",
    "| x | not x |\n",
    "|:---:|:---:|\n",
    "| False | True |\n",
    "| False | True |"
   ]
  },
  {
   "cell_type": "markdown",
   "metadata": {},
   "source": [
    "The `not` operator is typically used when you have a variable and you want to reverse it. You can often write your logic without using the `not` operator, but sometimes it makes your code easier to understand. Here's an example:"
   ]
  },
  {
   "cell_type": "code",
   "execution_count": 6,
   "metadata": {},
   "outputs": [
    {
     "name": "stdout",
     "output_type": "stream",
     "text": [
      "Complain to manager!\n"
     ]
    }
   ],
   "source": [
    "raspberries_look_good = False\n",
    "\n",
    "if not raspberries_look_good:\n",
    "    print(\"Complain to manager!\")"
   ]
  },
  {
   "cell_type": "markdown",
   "metadata": {},
   "source": [
    "In this example, we want to test whether the variable is false, and the `not` operator makes that very easy.\n",
    "\n",
    "We could rewrite the above code without using `not`, but it's ugly and confusing."
   ]
  },
  {
   "cell_type": "code",
   "execution_count": 7,
   "metadata": {},
   "outputs": [
    {
     "name": "stdout",
     "output_type": "stream",
     "text": [
      "Complain to manager!\n"
     ]
    }
   ],
   "source": [
    "raspberries_look_good = False\n",
    "\n",
    "if raspberries_look_good:\n",
    "    pass # This command tells Python to do nothing. You do not need to know it for this class.\n",
    "else:\n",
    "    print(\"Complain to manager!\")"
   ]
  },
  {
   "cell_type": "markdown",
   "metadata": {},
   "source": [
    "We could also explicitly test whether the condition is false. This isn't as complicated as the previous example, but we still maintain that using the `not` operator is the simplest way to write this code."
   ]
  },
  {
   "cell_type": "code",
   "execution_count": 8,
   "metadata": {},
   "outputs": [
    {
     "name": "stdout",
     "output_type": "stream",
     "text": [
      "Complain to manager!\n"
     ]
    }
   ],
   "source": [
    "raspberries_look_good = False\n",
    "\n",
    "if raspberries_look_good == False:\n",
    "    print(\"Complain to manager!\")"
   ]
  },
  {
   "cell_type": "markdown",
   "metadata": {},
   "source": [
    "## Membership operators"
   ]
  },
  {
   "cell_type": "markdown",
   "metadata": {},
   "source": [
    "Membership operators test whether something is part of a collection, such as a list. We will learn about lists and other collections later in this unit.\n",
    "\n",
    "| Operator | What it does | Example |\n",
    "|:-----:|:----- |:-----:|\n",
    "| in | Returns true if x is in the collection y | x in y |\n",
    "| not in | Returns true if x is not in the collection y | x not in y |\n",
    "\n",
    "Some sample code:"
   ]
  },
  {
   "cell_type": "code",
   "execution_count": 9,
   "metadata": {},
   "outputs": [
    {
     "name": "stdout",
     "output_type": "stream",
     "text": [
      "5 is not in the list.\n"
     ]
    }
   ],
   "source": [
    "myList = [1,2,3]\n",
    "\n",
    "if 5 in myList:\n",
    "    print('5 is in the list.')\n",
    "else:\n",
    "    print('5 is not in the list.')"
   ]
  },
  {
   "cell_type": "code",
   "execution_count": 10,
   "metadata": {},
   "outputs": [
    {
     "name": "stdout",
     "output_type": "stream",
     "text": [
      "1\n",
      "2\n",
      "3\n"
     ]
    }
   ],
   "source": [
    "myList = [1,2,3]\n",
    "\n",
    "for x in myList:\n",
    "    print(x)"
   ]
  },
  {
   "cell_type": "markdown",
   "metadata": {},
   "source": [
    "## Operator Precedence / Order of Operations"
   ]
  },
  {
   "cell_type": "markdown",
   "metadata": {},
   "source": [
    "Consider an expression such as this:\n",
    "```python\n",
    "not -5 + 3 * 1 * 2 == 1\n",
    "```\n",
    "How will Python evaluate this expression? There are six operators (not, -, +, \\*, \\*, ==). Will Python assign them equal priority or will it evaluate some operators before others?\n",
    "\n",
    "The answer is that Python, like most programming languages, has rules for operator precedence. These rules are similar to what you learned in algebra. The following table shows Python's operator precedence:\n",
    "\n",
    "| Precedence | Operator | Description |\n",
    "|:----------:|:--------:|:----------- |\n",
    "| Highest | ** | Exponentiation |\n",
    "| &nbsp;   | - | Negative sign, e.g. -3 |\n",
    "| &nbsp; | \\*, /, //, % | Multiplication, division, remainder |\n",
    "| &nbsp; | +, - | Addition and subtraction |\n",
    "| &nbsp; | in, not in, <, <=, >, >=, !=, == | Comparisons and membership operators |\n",
    "| &nbsp; | not | Boolean NOT |\n",
    "| &nbsp; | and | Boolean AND |\n",
    "| Lowest | or | Boolean OR |\n",
    "\n",
    "**When Python sees any expression, it evaluates the expression using the table above. If it sees two operators of equal precedence, it goes from left-to-right.**\n",
    "\n",
    "Let's work through the above expression, `not -5 + 3 * 1 * 2 == 1`. According to the table, the operator with the highest precedence in the expression is the negative sign next to the 5. Python evaluates that and gets -5. The operator with the next highest precedence is \\*; there are two of them so Python goes from left-to-right. When it wants to evaluate an operator like \\*, it takes the two values next to the operator. In this case, those values are 3 and 1.\n",
    "\n",
    "Under the hood, Python makes one evaluation at a time. This continues until the expression is reduced to a single value. So inside Python, it reduces the expression as follows:\n",
    "```python\n",
    "not -5 + 3 * 1 * 2 == 1   #Starting expression\n",
    "not -5 + 3 * 1 * 2 == 1   #The - is applied to the 5 to get -5.\n",
    "not -5 + 3 * 2 == 1   #Python multiplied 3 * 1 to get 3.\n",
    "not -5 + 6 == 1   #Python multiplied 3 * 2 to get 6.\n",
    "not 1 == 1   #The + was the next highest precedence, so -5+6 reduces to 1.\n",
    "not True #== has higher precedence than not\n",
    "False # not is then applied to the true boolean\n",
    "```"
   ]
  },
  {
   "cell_type": "markdown",
   "metadata": {},
   "source": [
    "### Summary of operator predence"
   ]
  },
  {
   "cell_type": "markdown",
   "metadata": {},
   "source": [
    "1. Python has rules for operator precedence. When it sees an expression, it evaluates the operators in order of precedence by grabbing the closest values to an operator. \n",
    "2. When there are two or more operators with the same precedence, Python evaluates the leftmost one first.\n",
    "\n",
    "To see the official rules for operator precedence, click [here](https://docs.python.org/3/reference/expressions.html#operator-precedence). If you do, you will also see some operators we haven't taught you."
   ]
  },
  {
   "cell_type": "markdown",
   "metadata": {},
   "source": [
    "### Use Parentheses to Get What You Want"
   ]
  },
  {
   "cell_type": "markdown",
   "metadata": {},
   "source": [
    "The above expression, `not -5 + 3 * 1 * 2 == 1` is ugly and confusing. Never write something like that! Instead, _use parentheses to clarify your meaning_.\n",
    "\n",
    "_Parentheses can also be used to override the default operator precedence._ So if you rewrote the above expression as:\n",
    "```python\n",
    "not (-5 + 3) * 1 * 2 == 1\n",
    "```\n",
    "you would get a different result because Python would evaluate (-5 + 3) first."
   ]
  }
 ],
 "metadata": {
  "kernelspec": {
   "display_name": "Python 3 (ipykernel)",
   "language": "python",
   "name": "python3"
  },
  "language_info": {
   "codemirror_mode": {
    "name": "ipython",
    "version": 3
   },
   "file_extension": ".py",
   "mimetype": "text/x-python",
   "name": "python",
   "nbconvert_exporter": "python",
   "pygments_lexer": "ipython3",
   "version": "3.11.9"
  }
 },
 "nbformat": 4,
 "nbformat_minor": 4
}