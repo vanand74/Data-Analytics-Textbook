{
 "cells": [
  {
   "cell_type": "markdown",
   "metadata": {},
   "source": [
    "# Control Flow"
   ]
  },
  {
   "cell_type": "markdown",
   "metadata": {},
   "source": [
    "## Learning Objectives"
   ]
  },
  {
   "cell_type": "markdown",
   "metadata": {},
   "source": [
    "<div style=\"border: 1px solid black; padding: 10px; background-color: #EDEDED;\">\n",
    "    <b>Development Environment</b>\n",
    "    <ul>\n",
    "        <li>Execute code in a Jupyter notebook running in JupyterLab.</li>\n",
    "    </ul>\n",
    "    <b>Control Flow</b>\n",
    "    <ul>\n",
    "        <li>Define control flow and explain why a computer program is similar to a cooking recipe.</li>\n",
    "    </ul>\n",
    "    <b>While loops</b>\n",
    "    <ul>\n",
    "        <li>Explain what a <i>while</i> loop is and how it works.</li>\n",
    "        <li>Given an objective, write logic in pseudocode that can be implemented with a <i>while</i> loop.</li>\n",
    "        <li>Write a <i>while</i> loop in Python, with correct syntax, that that implements some given logic.</li>\n",
    "    </ul>\n",
    "    <b>For loops</b>\n",
    "    <ul>\n",
    "        <li>Explain what a <i>for</i> loop is and how it works.</li>\n",
    "        <li>Given an objective, write logic in pseudocode that can be implemented with a <i>for</i> loop.</li>\n",
    "        <li>Write a <i>for</i> loop in Python, with correct syntax, that implements some given logic.</li>\n",
    "        <li>Use a <i>range</i> object in a <i>for</i> loop.</li>\n",
    "    </ul>\n",
    "    <b>While vs. For loops</b>\n",
    "    <ul>\n",
    "        <li>Explain the difference between <i>while</i> and <i>for</i> loops, and explain when one is more appropriate than the other.</li>\n",
    "    </ul>\n",
    "    <b>if-else statements</b>\n",
    "    <ul>\n",
    "        <li>Explain what an <i>if</i> statement is and how it works.</li>\n",
    "        <li>Given an objective, write logic in pseudocode that can be implemented with an <i>if</i>-<i>elif</i>-<i>else</i> statement.</li>\n",
    "        <li>Given an objective, write logic in pseudocode that can be implemented with nested <i>if</i> statements.</li>\n",
    "        <li>Write Python code, with correct syntax, that contains <i>if</i>, <i>elif</i>, and <i>else</i> clauses that implements some given logic.</li>\n",
    "    </ul>\n",
    "</div>"
   ]
  },
  {
   "cell_type": "markdown",
   "metadata": {},
   "source": [
    "## What is Control Flow?"
   ]
  },
  {
   "cell_type": "markdown",
   "metadata": {},
   "source": [
    "Control flow is the order in which statements are executed in a program. In this section, you will learn about basic control flow, which consists of loops (`while` and `for`) and `if-else` statements. Let's begin with loops."
   ]
  },
  {
   "cell_type": "markdown",
   "metadata": {},
   "source": [
    "### Loops"
   ]
  },
  {
   "cell_type": "markdown",
   "metadata": {},
   "source": [
    "A loop is a way of telling the computer to execute an action while a condition is met, then terminate. In this section, you will learn about `while` loops and `for` loops."
   ]
  },
  {
   "cell_type": "markdown",
   "metadata": {},
   "source": [
    "#### `while` loops"
   ]
  },
  {
   "cell_type": "markdown",
   "metadata": {},
   "source": [
    "As its name suggests, a `while` loop executes while a condition is true. In Python the loop first checks whether a condition is true. If yes, it takes some actions and then checks the condition again. If the condition is false, the loop terminates. If the condition is true, the loop takes the actions again. This repeats until the condition is false. The \"actions\" are called the body of the loop.\n",
    "\n",
    "Following is an example of a simple `while` loop in Python. The following code will compute the sum of the numbers from 1 to n, i.e. $1+2+3 + \\ldots + n$. Or if you want to get fancy, $\\sum_{i=1}^{n} i$."
   ]
  },
  {
   "cell_type": "markdown",
   "metadata": {},
   "source": [
    "> Note: the following is a \"code cell\". Below the code is the output that would result if you ran this code."
   ]
  },
  {
   "cell_type": "markdown",
   "metadata": {},
   "source": [
    "> Note: This textbook is static: you cannot run the code. If you wish to run the code, copy and paste it into a Jupyter notebook on your computer. Alternatively, you can download this entire notebook and open that on your computer."
   ]
  },
  {
   "cell_type": "code",
   "execution_count": 1,
   "metadata": {},
   "outputs": [
    {
     "name": "stdout",
     "output_type": "stream",
     "text": [
      "The sum is 15.\n"
     ]
    }
   ],
   "source": [
    "n = 5\n",
    "result = 0\n",
    "\n",
    "while (n > 0):\n",
    "    result = result + n\n",
    "    n = n - 1\n",
    "    \n",
    "print(f'The sum is {result}.')"
   ]
  },
  {
   "cell_type": "markdown",
   "metadata": {},
   "source": [
    "There is a lot going on in the above code cell.  \n",
    "* First, we created two variables, `n` and `result`, and initialized them to 5 and 0, respectively. We will teach you more about variables in a later notebook.  \n",
    "* Then we ran a `while` loop, which did the following:\n",
    "    - Checked whether $n$ was greater than zero.\n",
    "        * If yes, run the body of the loop and then check the condition again.\n",
    "        * If no, terminate the loop.\n",
    "    - The body of the loop consisted of two statements:\n",
    "        - add the current value of $n$ to the current value of `result`. \n",
    "        - decrease $n$ by 1.\n",
    "    - Checked the condition again. If true, repeat the body of the loop and check the condition again. If false, terminate the loop.\n",
    "* Notice that the final print statement is not executed until the loop has terminated."
   ]
  },
  {
   "cell_type": "markdown",
   "metadata": {},
   "source": [
    "##### Syntax of a `while` loop"
   ]
  },
  {
   "cell_type": "markdown",
   "metadata": {},
   "source": [
    "In programming, syntax means the rules that the programming language follows. In Python, the syntax of a `while` loop is:\n",
    "```python\n",
    "while condition:\n",
    "    statement 1\n",
    "    statement 2\n",
    "    ...\n",
    "```\n",
    "\n",
    "When you write a `while` loop, it will _always_ look like the above. If you deviate from the above, you will get an error. You must first type the word `while` and then a condition (in the example above, the condition was `n > 0`). _The condition must be followed by a colon._ The lines that follow the colon constitute the body of the while loop. _These lines must be indented._ The indentation tells Python which statements are part of the while loop. You can indent by using the `TAB` key on your keyboard."
   ]
  },
  {
   "cell_type": "markdown",
   "metadata": {},
   "source": [
    "##### Some common errors when using `while` loops"
   ]
  },
  {
   "cell_type": "markdown",
   "metadata": {},
   "source": [
    "###### The loop runs forever"
   ]
  },
  {
   "cell_type": "markdown",
   "metadata": {},
   "source": [
    "If you try to execute the following code, you will have a problem:\n",
    "```python\n",
    "x = 7\n",
    "\n",
    "while x > 5:\n",
    "    print('hello')\n",
    "```\n",
    "\n",
    "This loop will run forever! Since `x` is 7, Python will run the body of the loop and print \"hello\". It will then check `x` again, find that it's greater than 5, and print \"hello\" again. This will continue forever!\n",
    "\n",
    "When writing a loop, you need to think about whether the loop will ever terminate."
   ]
  },
  {
   "cell_type": "markdown",
   "metadata": {},
   "source": [
    "###### You forget the colon"
   ]
  },
  {
   "cell_type": "markdown",
   "metadata": {},
   "source": [
    "In the following code cell, notice the missing colon after the condition `(x > 0)`. Because the colon is missing, Python complains that the syntax is invalid."
   ]
  },
  {
   "cell_type": "code",
   "execution_count": 2,
   "metadata": {},
   "outputs": [
    {
     "ename": "SyntaxError",
     "evalue": "expected ':' (270679014.py, line 3)",
     "output_type": "error",
     "traceback": [
      "\u001b[1;36m  Cell \u001b[1;32mIn[2], line 3\u001b[1;36m\u001b[0m\n\u001b[1;33m    while (x > 0)\u001b[0m\n\u001b[1;37m                 ^\u001b[0m\n\u001b[1;31mSyntaxError\u001b[0m\u001b[1;31m:\u001b[0m expected ':'\n"
     ]
    }
   ],
   "source": [
    "x = 7\n",
    "\n",
    "while (x > 0)\n",
    "    print(f'x is {x}')\n",
    "    x = x - 1"
   ]
  },
  {
   "cell_type": "markdown",
   "metadata": {},
   "source": [
    "###### You forget to indent the body of the loop"
   ]
  },
  {
   "cell_type": "markdown",
   "metadata": {},
   "source": [
    "In the following code cell, notice the two statements in the body of the loop are not indented. When we executed this code, we received an  indentation error. Python expects the line following a colon to be indented. Since it isn't, an error results."
   ]
  },
  {
   "cell_type": "code",
   "execution_count": 3,
   "metadata": {},
   "outputs": [
    {
     "ename": "IndentationError",
     "evalue": "expected an indented block after 'while' statement on line 3 (2771527421.py, line 4)",
     "output_type": "error",
     "traceback": [
      "\u001b[1;36m  Cell \u001b[1;32mIn[3], line 4\u001b[1;36m\u001b[0m\n\u001b[1;33m    print(f'x is {x}')\u001b[0m\n\u001b[1;37m    ^\u001b[0m\n\u001b[1;31mIndentationError\u001b[0m\u001b[1;31m:\u001b[0m expected an indented block after 'while' statement on line 3\n"
     ]
    }
   ],
   "source": [
    "x = 7\n",
    "\n",
    "while (x > 0):\n",
    "print(f'x is {x}')\n",
    "x = x - 1"
   ]
  },
  {
   "cell_type": "markdown",
   "metadata": {},
   "source": [
    "##### SUMMARY OF WHILE LOOPS"
   ]
  },
  {
   "cell_type": "markdown",
   "metadata": {},
   "source": [
    "* A while loop tests for a condition. If the condition is true, the body of the loop executes and the condition is tested again. This continues until the condition is false.\n",
    "* The syntax of a while loop is shown below. The colon and the indentation are mandatory.\n",
    "```python\n",
    "while condition:\n",
    "    statement 1\n",
    "    statement 2\n",
    "    ...\n",
    "```"
   ]
  },
  {
   "cell_type": "markdown",
   "metadata": {},
   "source": [
    "#### `for` loops"
   ]
  },
  {
   "cell_type": "markdown",
   "metadata": {},
   "source": [
    "A `for` loop is very similar to a while loop. It will test for a condition and execute the body of the loop if the condition is satisfied. The difference is that a `for` loop will _iterate_, or loop over, something automatically. In other words, a `for` loop is a `while` loop but with some conveniences built in.\n",
    "\n",
    "Let's work through three examples of a `for` loop. Before we do, let's introduce something called a list. We will discuss lists at length later in this unit. For now, just know that a list is a collection of things. Some sample lists are `[1,3,5,7,9]` and `['Indian food', 'Thai food', 'Bar food']`. "
   ]
  },
  {
   "cell_type": "markdown",
   "metadata": {},
   "source": [
    "##### Syntax of a `for` loop"
   ]
  },
  {
   "cell_type": "markdown",
   "metadata": {},
   "source": [
    "In programming, syntax means the rules that the programming language follows. In Python, the syntax of a `for` loop is:\n",
    "```python\n",
    "for variable in something_iterable:\n",
    "    statement 1\n",
    "    statement 2\n",
    "    ...\n",
    "```\n",
    "\n",
    "When you write a `for` loop, it will _always_ look like the above. If you deviate from the above, you will get an error. You must first type the word `for` and then a variable name. We will tell you about valid variable names in the next section. For now, just use letters or words with no spaces. _The variable name must be followed the word `in`._ After the word `in`, you must provide something that can be iterated, like a list or a range object. _The iterable thing must be followed by a colon._ The lines that follow the colon constitute the body of the for loop. _These lines must be indented._ The indentation tells Python which statements are part of the while loop. You can indent by using the `TAB` key on your keyboard."
   ]
  },
  {
   "cell_type": "markdown",
   "metadata": {},
   "source": [
    "##### Example 1: Printing everything in a list"
   ]
  },
  {
   "cell_type": "code",
   "execution_count": 4,
   "metadata": {},
   "outputs": [
    {
     "name": "stdout",
     "output_type": "stream",
     "text": [
      "1\n",
      "2\n",
      "3\n",
      "7\n"
     ]
    }
   ],
   "source": [
    "myList = [1,2,3,7]\n",
    "\n",
    "for x in myList:\n",
    "    print(x)"
   ]
  },
  {
   "cell_type": "markdown",
   "metadata": {},
   "source": [
    "The code above creates a list called `myList`. This list has four values, 1, 2, 3, and 7. The `for` loop _iterates_ over the list. It does so by _automatically_ creating a new variable that I named `x`. It sets `x` to the first thing in the list, which in this case is 1. It then executes the body of the loop, which prints x. It then sets `x` to the next thing on the list, 2, and executes the body of the loop. This continues until it has iterated over every value in the list."
   ]
  },
  {
   "cell_type": "markdown",
   "metadata": {},
   "source": [
    "You _could_ replicate the above code using a `while` loop, but it requires more work. To demonstrate this, we will replicate the previous `for` loop using a `while` loop in the code cell below. This code may be unclear to you because we have not yet taught you all of the concepts we are using."
   ]
  },
  {
   "cell_type": "code",
   "execution_count": 5,
   "metadata": {},
   "outputs": [
    {
     "name": "stdout",
     "output_type": "stream",
     "text": [
      "1\n",
      "2\n",
      "3\n",
      "7\n"
     ]
    }
   ],
   "source": [
    "myList = [1,2,3,7]\n",
    "# The following line of code creates a variable\n",
    "# that stores the length of myList\n",
    "length_of_mylist = len(myList)\n",
    "\n",
    "i = 0\n",
    "while (i < length_of_mylist):\n",
    "    print(myList[i])\n",
    "    i = i + 1"
   ]
  },
  {
   "cell_type": "markdown",
   "metadata": {},
   "source": [
    "Just like the `for` loop, the above code cell prints every element of the list. However, we had to create more machinery to iterate over the list. We had to keep track of the list length by using a variable called `list_of_mylength`. We also had to keep track of our current position in the list by using a variable `i`. Finally, we had to add 1 to `i` every time we executed the body of the loop. What a pain in the you-know-what!\n",
    "\n",
    "The point here is that a `for` loop takes care of a lot of this behind the scenes. This makes your job easier and decreases the likelihood that you make a mistake in your code."
   ]
  },
  {
   "cell_type": "markdown",
   "metadata": {},
   "source": [
    "##### Example 2: Adding everything in a list"
   ]
  },
  {
   "cell_type": "code",
   "execution_count": 6,
   "metadata": {},
   "outputs": [
    {
     "name": "stdout",
     "output_type": "stream",
     "text": [
      "The sum of the numbers in [1, 2, 3, 7] is 13.\n"
     ]
    }
   ],
   "source": [
    "myList = [1,2,3,7]\n",
    "mySum = 0\n",
    "\n",
    "for x in myList:\n",
    "    mySum = mySum + x\n",
    "    \n",
    "print(f'The sum of the numbers in {myList} is {mySum}.')"
   ]
  },
  {
   "cell_type": "markdown",
   "metadata": {},
   "source": [
    "This code is similar to the code in example 1. In addition, it creates a new variable called `mySum` and initializes it to zero. During each iteration of the loop, it adds an element of the list to `mySum`. After the loop terminates, the code prints the value of `mySum`."
   ]
  },
  {
   "cell_type": "markdown",
   "metadata": {},
   "source": [
    "##### Example 3: Range objects"
   ]
  },
  {
   "cell_type": "code",
   "execution_count": 7,
   "metadata": {},
   "outputs": [
    {
     "name": "stdout",
     "output_type": "stream",
     "text": [
      "0\n",
      "1\n",
      "2\n",
      "3\n",
      "4\n",
      "5\n",
      "6\n"
     ]
    }
   ],
   "source": [
    "for x in range(7):\n",
    "    print(x)"
   ]
  },
  {
   "cell_type": "markdown",
   "metadata": {},
   "source": [
    "Here, we used a built-in Python function called `range`. The `range` function returns a sequence. In the above example, it returned the sequence `0, 1, 2, 3, 4, 5, 6`. The `for` loop iterated over this sequence and printed every value in the sequence. The `range` function is useful for when you want to do something a certain number of times.\n",
    "\n",
    "In Python, and in many programming languages, sequences begin at 0 and end at $n-1$. Notice that in the code above, `range(7)` returns $0, 1, 2, 3, 4, 5, 6$. This is by design, but is not natural for people new to programming. If you're curious why this is, feel free to ask us outside of class, or check out the optional paragraph in the Unit 1-9 notebook, section 9.1.2.2 _Retrieving a Single List Element_.\n",
    "\n",
    "If you want to start at 1, you can use something like `range(1,5)`. This will return $1, 2, 3, 4$."
   ]
  },
  {
   "cell_type": "markdown",
   "metadata": {},
   "source": [
    "##### Some common errors when using `for` loops"
   ]
  },
  {
   "cell_type": "markdown",
   "metadata": {},
   "source": [
    "###### You use bad arguments in the `range` function and get an empty sequence"
   ]
  },
  {
   "cell_type": "markdown",
   "metadata": {},
   "source": [
    "Remember that `range(n)` will give the sequence $0, 1, \\ldots, n-1$. It begins at 0 and ends at one less than the argument $n$. Also, remember that $range(k, n)$ will give the sequence $k, k+1, \\ldots, n-1$. If you forget this behavior of the `range` function, you will be surprised at your result.\n",
    "\n",
    "Another common error is that the ending value of range is less than or equal to the starting value. For example:\n",
    "```python\n",
    "for x in range(5,5):\n",
    "    print(x)\n",
    "```\n",
    "That code will not print anything because it wants to start at 5 and end at 4. That's not possible, so the loop never executes.\n",
    "\n",
    "Similarly, imagine the following:\n",
    "```python\n",
    "k = 7\n",
    "# Some code...\n",
    "n = 4\n",
    "\n",
    "for x in range(k, n):\n",
    "    print(x)\n",
    "```\n",
    "\n",
    "When you write a lot of code, you sometimes forget what you did earlier in your code. You end up with `range(7,4)`. It can't go from 7 to 3, so it never executes."
   ]
  },
  {
   "cell_type": "markdown",
   "metadata": {},
   "source": [
    "##### SUMMARY OF FOR LOOPS"
   ]
  },
  {
   "cell_type": "markdown",
   "metadata": {},
   "source": [
    "* A for loop iterates over something. For each value of something, it executes some statements.\n",
    "* The syntax of a `for` loop is shown below. The colon, the word `in`, and the indentation are mandatory.\n",
    "* `variable` can be any valid variable name. We will discuss variables later in this unit.\n",
    "```python\n",
    "for variable in something_terable:\n",
    "    statement 1\n",
    "    statement 2\n",
    "    ...\n",
    "```"
   ]
  },
  {
   "cell_type": "markdown",
   "metadata": {},
   "source": [
    "### `if-else` statements"
   ]
  },
  {
   "cell_type": "markdown",
   "metadata": {},
   "source": [
    "When many people think of programming, they think of `if` statements. `if` statements are the heart of logic. Instructions given to another person, or to a computer, often depend on a condition. For example, say you are writing a grocery shopping list to give to someone else. You want raspberries, but only if they look delicious and are not too expensive. You could write the raspberry portion of your shopping list as:\n",
    "```\n",
    "if (raspberries look good) and (raspberry price < $4.00):\n",
    "    buy raspberries\n",
    "else:\n",
    "    don't buy raspberries\n",
    "```\n",
    "\n",
    "Notice that we have two conditions. The raspberries must be attractive _and_ they must be cheap. We join these two conditions using the word `and`. We could also use the word `or`, but that would change the logic. Joining the conditions with an `or`, as we do below, would instruct your personal shopper to buy raspberries if they are good-looking or if they are cheap. With an `or`, you would only forgo raspberries if they are bad-looking and expensive.\n",
    "```\n",
    "if (raspberries look good) or (raspberry price < $4.00):\n",
    "    buy raspberries\n",
    "else:\n",
    "    don't buy raspberries\n",
    "```\n",
    "\n",
    "We can make this even more complicated. Say that blueberries are your second choice, but you only want good-looking blueberries that aren't too expensive. And say that your third choice is apples, and you don't care whether the apples look good or are pricey. You could modify your shopping list as follows:\n",
    "```\n",
    "if (raspberries look good) and (raspberry price < $4.00):\n",
    "    buy raspberries\n",
    "else:\n",
    "    if (blueberries look good) and (blueberry price < $4.00):\n",
    "        buy blueberries\n",
    "    else:\n",
    "        buy apples\n",
    "```\n",
    "\n",
    "See how we can represent instructions? Also notice that the second `if` statement is _nested_ inside the first one. The second `if` statement only matters if we're not going to buy raspberries."
   ]
  },
  {
   "cell_type": "markdown",
   "metadata": {},
   "source": [
    "Guess what? You just learned how to use `if` statements in Python! The syntax is similar to that for a `while` loop. You begin with the word `if` and follow it with a condition and then a colon. If the condition is true, the statements following the `if` are executed.\n",
    "\n",
    "An alternative to nesting `if` statements is to use the `elif` and `else` clauses (`elif` means \"else if\"). A generic `if` statement looks like this:\n",
    "\n",
    "```python\n",
    "if condition_A:\n",
    "    A statements\n",
    "elif condition_B:\n",
    "    B statements\n",
    "elif condition_C:\n",
    "    C statements\n",
    "else:\n",
    "    else_statements\n",
    "```\n",
    "\n",
    "When Python sees something like this, it does the following. It checks condition_A. If that is true, it executes the A statements _and then stops_. It will not check any of the other conditions. However, if condition_A is false, it immediately checks condition_B. If that is true, it executes the B statements and then stops. If none of the conditions are true, Python will execute the else_statements and then stop. Think of the else as a residual.\n",
    "\n",
    "Finally, note that the `elif` and `else` clauses are optional."
   ]
  },
  {
   "cell_type": "markdown",
   "metadata": {},
   "source": [
    "#### `if` Statement Example 1, `if` by itself."
   ]
  },
  {
   "cell_type": "code",
   "execution_count": 8,
   "metadata": {},
   "outputs": [
    {
     "name": "stdout",
     "output_type": "stream",
     "text": [
      "Team is good.\n"
     ]
    }
   ],
   "source": [
    "win_percentage = 0.75\n",
    "\n",
    "if (win_percentage > 0.5):\n",
    "    print('Team is good.')"
   ]
  },
  {
   "cell_type": "markdown",
   "metadata": {},
   "source": [
    "This example tells us whether a team is any good, given its record. However, if the team's win percentage is less than 50%, the code will not print anything. Let's fix that in the next example."
   ]
  },
  {
   "cell_type": "markdown",
   "metadata": {},
   "source": [
    "#### `if` Statement: Example 2, if-else"
   ]
  },
  {
   "cell_type": "code",
   "execution_count": 9,
   "metadata": {},
   "outputs": [
    {
     "name": "stdout",
     "output_type": "stream",
     "text": [
      "Team sucks.\n"
     ]
    }
   ],
   "source": [
    "win_percentage = 0.25\n",
    "\n",
    "if (win_percentage > 0.5):\n",
    "    print('Team is good.')\n",
    "else:\n",
    "    print('Team sucks.')"
   ]
  },
  {
   "cell_type": "markdown",
   "metadata": {},
   "source": [
    "#### `if` Statement: Example 3, if-elif-else"
   ]
  },
  {
   "cell_type": "markdown",
   "metadata": {},
   "source": [
    "In this example, let's classify a person based on their age."
   ]
  },
  {
   "cell_type": "code",
   "execution_count": 10,
   "metadata": {},
   "outputs": [
    {
     "name": "stdout",
     "output_type": "stream",
     "text": [
      "middle aged\n"
     ]
    }
   ],
   "source": [
    "age = 43\n",
    "\n",
    "if (age < 13):\n",
    "    print('child')\n",
    "elif (age < 20):\n",
    "    print('teenager')\n",
    "elif (age < 30):\n",
    "    print('young adult')\n",
    "elif (age < 50):\n",
    "    print('middle aged')\n",
    "else:\n",
    "    print('old')"
   ]
  },
  {
   "cell_type": "markdown",
   "metadata": {},
   "source": [
    "Let's ensure that you understand how the code above works. \n",
    "1. First, the `input` function asks for your age. You type in something and Python converts it to a number using the `int` function. It stores the result in the variable `age`.\n",
    "2. The program then checks whether `age` is less than 13. If yes, it prints 'child' _and stops_. None of the remaining code is executed.\n",
    "3. If age is not less than 13, it checks whether the age is less than 20. If yes, it prints 'teenager' and stops. Thus, 'teenager' is printed for all ages between 13 and 19.\n",
    "4. This process continues. If age is 50 or higher, the code prints 'old' and stops."
   ]
  },
  {
   "cell_type": "markdown",
   "metadata": {},
   "source": [
    "Notice that the above code creates buckets, or ranges, for ages. For example, a teenager is someone whose age is between 13 and 19, even though the condition for teenager is `(age < 20)`. Why? Because if the age is less than 13, the program will print 'child' and stop. It will only test `(age < 20)` if it has already found that age is not less than 13."
   ]
  },
  {
   "cell_type": "markdown",
   "metadata": {},
   "source": [
    "#### `if` Statement: Example 4, nested if statements"
   ]
  },
  {
   "cell_type": "markdown",
   "metadata": {},
   "source": [
    "As we saw earlier with the grocery list example, it is possible to have an `if` statement inside another `if` statement. For example, we could modify the code above to distinguish between young children and older children."
   ]
  },
  {
   "cell_type": "code",
   "execution_count": 11,
   "metadata": {},
   "outputs": [
    {
     "name": "stdout",
     "output_type": "stream",
     "text": [
      "Pre-teen:\n",
      "older child\n"
     ]
    }
   ],
   "source": [
    "age = 11\n",
    "\n",
    "if (age < 13):\n",
    "    print('Pre-teen:')\n",
    "    if (age < 4):\n",
    "        print('baby')\n",
    "    else:\n",
    "        print('older child')\n",
    "elif (age < 20):\n",
    "    print('teenager')\n",
    "else:\n",
    "    print('adult')"
   ]
  },
  {
   "cell_type": "markdown",
   "metadata": {},
   "source": [
    "In the above, if the age is less than 13, the program prints 'Pre-teen'. The program then checks whether the person is really young. If yes, they are labelled a baby. If no, they are labelled an older child.\n",
    "\n",
    "You may be wondering when to use nested `if` statements and when to use an `elif`. Good question! Generally speaking, use `elif` when you have a set of conditions that do not overlap. If you have a condition that requires further testing, then it makes sense to use a nested `if`. \n",
    "\n",
    "It is often possible to implement the same logic in multiple ways. When in doubt, do it in the simplest, clearest way."
   ]
  },
  {
   "cell_type": "markdown",
   "metadata": {},
   "source": [
    "#### Some common errors"
   ]
  },
  {
   "cell_type": "markdown",
   "metadata": {},
   "source": [
    "Many of the common errors for `while` loops also occur with `if` statements. These are:\n",
    "* The condition does not evaluate to true or false (or it does, but not  in a way that you expected).\n",
    "* You forget a colon.\n",
    "* You forget to indent the body of the loop.\n",
    "\n",
    "See the documentation above for `while` loops for a description of these errors."
   ]
  },
  {
   "cell_type": "markdown",
   "metadata": {},
   "source": [
    "#### Another Common Error: Your logic does not make sense"
   ]
  },
  {
   "cell_type": "markdown",
   "metadata": {},
   "source": [
    "Another common issue with `if` statements is that your logic does not make sense. For example, consider this code:\n",
    "```python\n",
    "age = 10\n",
    "\n",
    "if (age < 10):\n",
    "    print('child')\n",
    "elif (age >= 18):\n",
    "    print('adult')\n",
    "```\n",
    "The problem with this code is that it does nothing for some valid ages. If age is between 10 and 17, the code will print nothing. This is probably not what you want.\n",
    "\n",
    "Here's another example:\n",
    "```python\n",
    "age = 9\n",
    "\n",
    "if (age < 18):\n",
    "    print('minor')\n",
    "    if (age >= 18):\n",
    "        print('adult')\n",
    "```\n",
    "This code will _never_ print the word 'adult'. It simply cannot. The statement `if (age >= 18)` is only executed if age is less than 18. Thus, it can never be true.\n",
    "\n",
    "Our recommendation is that you think of all possible outcomes _before_ you write your `if` statement. Use that to design your `if` statement. Finally, after you have written your code, test it!"
   ]
  },
  {
   "cell_type": "markdown",
   "metadata": {},
   "source": [
    "#### SUMMARY OF IF STATEMENTS"
   ]
  },
  {
   "cell_type": "markdown",
   "metadata": {},
   "source": [
    "An `if` statement tests a condition and executes some statements if the condition is true. If the condition is not true, optional `elif` and `else` statements can be used to refine the tests.\n",
    "\n",
    "The syntax of an `if` statement is:\n",
    "```python\n",
    "if condition_A:\n",
    "    A statements\n",
    "elif condition_B:\n",
    "    B statements\n",
    "elif condition_C:\n",
    "    C statements\n",
    "else:\n",
    "    else_statements\n",
    "```"
   ]
  },
  {
   "cell_type": "markdown",
   "metadata": {},
   "source": [
    "## Summary of Control Flow"
   ]
  },
  {
   "cell_type": "markdown",
   "metadata": {},
   "source": [
    "Control flow is a way of expressing ideas and logic through computer code. It is analogous to a recipe in cooking. Through control flow, we can write out a sequence of steps that we want the computer to take. Those steps can vary based on certain conditions that we specify.\n",
    "\n",
    "In this module, you learned about some basic control flows: `while` loops, `for` loops, and `if` statements. The ideas learned in this module are the basis of much of data analytics. You will use these ideas again and again, even if you work in Excel or Tableau."
   ]
  }
 ],
 "metadata": {
  "kernelspec": {
   "display_name": "Python 3 (ipykernel)",
   "language": "python",
   "name": "python3"
  },
  "language_info": {
   "codemirror_mode": {
    "name": "ipython",
    "version": 3
   },
   "file_extension": ".py",
   "mimetype": "text/x-python",
   "name": "python",
   "nbconvert_exporter": "python",
   "pygments_lexer": "ipython3",
   "version": "3.11.9"
  }
 },
 "nbformat": 4,
 "nbformat_minor": 4
}