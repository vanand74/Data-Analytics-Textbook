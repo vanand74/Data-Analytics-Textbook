{
 "cells": [
  {
   "cell_type": "markdown",
   "metadata": {},
   "source": [
    "# Working with Strings"
   ]
  },
  {
   "cell_type": "markdown",
   "metadata": {},
   "source": [
    "## Learning Objectives"
   ]
  },
  {
   "cell_type": "markdown",
   "metadata": {},
   "source": [
    "<div style=\"border: 1px solid black; padding: 10px; background-color: #EDEDED;\">\n",
    "    <ul>\n",
    "        <li>Explain the similiarities between strings and lists in Python.</li>\n",
    "        <li>Write code to retrieve a substring using slicing.</li>\n",
    "        <li>Write code to join (concatenate) and repeat strings.</li>\n",
    "        <li>Use the <i>len</i> function to retrieve the length of a string.</li>\n",
    "        <li>Use the <i>count</i>, <i>startswith</i>, <i>endswith</i>, <i>find</i>, <i>replace</i>, <i>lower</i>, <i>upper</i>, <i>strip</i>, <i>lstrip</i>, <i>rstrip</i>, and <i>split</i> string methods.</li>\n",
    "    </ul>\n",
    "</div>"
   ]
  },
  {
   "cell_type": "markdown",
   "metadata": {},
   "source": [
    "## Overview of Working with Strings"
   ]
  },
  {
   "cell_type": "markdown",
   "metadata": {},
   "source": [
    "You're probably wondering why we are revisiting strings at the end of this unit. The reason is that, in many ways, Python strings behave like lists. You can slice them, join them using the + operator, duplicate them using the * operator -- just like lists! We waited until after we had taught you about lists so that you could easily apply cool list features to strings.\n",
    "\n",
    "We want you to become proficient with strings. Text data are very common in data analytics tasks and you will often find yourself cleaning textual data. The more comfortable you are working with strings, the easier your life will be."
   ]
  },
  {
   "cell_type": "markdown",
   "metadata": {},
   "source": [
    "## Strings as Lists of Characters"
   ]
  },
  {
   "cell_type": "markdown",
   "metadata": {},
   "source": [
    "Coneptually, a string is just a list of characters. To see this, consider the following code and its output:"
   ]
  },
  {
   "cell_type": "code",
   "execution_count": 1,
   "metadata": {},
   "outputs": [
    {
     "name": "stdout",
     "output_type": "stream",
     "text": [
      "['B', 'e', 'e', 'r', ' ', 'i', 's', ' ', 'b', 'r', 'e', 'a', 'd', ' ', 'i', 'n', ' ', 'a', ' ', 'g', 'l', 'a', 's', 's', '.']\n"
     ]
    }
   ],
   "source": [
    "s = 'Beer is bread in a glass.'\n",
    "print(list(s))"
   ]
  },
  {
   "cell_type": "markdown",
   "metadata": {},
   "source": [
    "In the above, we used Python's built-in `list` function to split an ordinary string into a list of single-character strings. Note that _you don't have to do this every time you work with a string_. Python automatically does this \"under the hood\" whenever you slice or manipulate a string. "
   ]
  },
  {
   "cell_type": "markdown",
   "metadata": {},
   "source": [
    "In the rest of this section, we will show you more parallels between lists and strings."
   ]
  },
  {
   "cell_type": "markdown",
   "metadata": {},
   "source": [
    "## Extracting Pieces of Strings"
   ]
  },
  {
   "cell_type": "markdown",
   "metadata": {},
   "source": [
    "### Extracting a single character from a string"
   ]
  },
  {
   "cell_type": "markdown",
   "metadata": {},
   "source": [
    "To extract a single character from a string, use square brackets \\[ \\]. Inside square brackets, put a number indicating the index of the character you want. The index 0 corresponds to the first character, 1 to the second character, and so on. If the string has length $n$, then the index $n-1$ corresponds to the last character of the string. You can also use negative indexes: -1 is the index of the last character, -2 is the index of the second-to-last character. And so on.\n",
    "\n",
    "Here is an example:"
   ]
  },
  {
   "cell_type": "code",
   "execution_count": 2,
   "metadata": {},
   "outputs": [
    {
     "name": "stdout",
     "output_type": "stream",
     "text": [
      "s[0]: H\n",
      "s[1]: E\n",
      "s[2]: L\n",
      "s[3]: L\n",
      "s[4]: O\n",
      "\n",
      "s[-1]: O\n",
      "s[-2]: L\n",
      "s[-3]: L\n",
      "s[-4]: E\n",
      "s[-5]: H\n"
     ]
    }
   ],
   "source": [
    "s = 'HELLO'\n",
    "for i in range(len(s)):\n",
    "    print(f's[{i}]: {s[i]}')\n",
    "\n",
    "print()\n",
    "\n",
    "for i in range(-1, -len(s)-1, -1):\n",
    "    print(f's[{i}]: {s[i]}')"
   ]
  },
  {
   "cell_type": "markdown",
   "metadata": {},
   "source": [
    "Notice that, in this case, strings behave exactly like lists."
   ]
  },
  {
   "cell_type": "markdown",
   "metadata": {},
   "source": [
    "It is also possible to extract a character from a string without using a variable. For example:"
   ]
  },
  {
   "cell_type": "code",
   "execution_count": 3,
   "metadata": {},
   "outputs": [
    {
     "data": {
      "text/plain": [
       "'H'"
      ]
     },
     "execution_count": 3,
     "metadata": {},
     "output_type": "execute_result"
    }
   ],
   "source": [
    "'HELLO'[0]"
   ]
  },
  {
   "cell_type": "markdown",
   "metadata": {},
   "source": [
    "### Slicing strings"
   ]
  },
  {
   "cell_type": "markdown",
   "metadata": {},
   "source": [
    "In Excel, you can extract a piece of a string using the SUBSTR function. In Python, you can use slicing. We find that slicing is very easy and intuitive, and hope you will agree.\n",
    "\n",
    "Here are some examples."
   ]
  },
  {
   "cell_type": "code",
   "execution_count": 4,
   "metadata": {},
   "outputs": [],
   "source": [
    "s = 'ACCY 570 is awesome!'"
   ]
  },
  {
   "cell_type": "markdown",
   "metadata": {},
   "source": [
    "Notice that, when you slice a string, the return value is also a string. Lists behave identically! When you slice a list, the return value is a list."
   ]
  },
  {
   "cell_type": "code",
   "execution_count": 5,
   "metadata": {},
   "outputs": [
    {
     "data": {
      "text/plain": [
       "'570'"
      ]
     },
     "execution_count": 5,
     "metadata": {},
     "output_type": "execute_result"
    }
   ],
   "source": [
    "# Extract the substring '570'\n",
    "s[5:8]"
   ]
  },
  {
   "cell_type": "code",
   "execution_count": 6,
   "metadata": {},
   "outputs": [
    {
     "data": {
      "text/plain": [
       "'e!'"
      ]
     },
     "execution_count": 6,
     "metadata": {},
     "output_type": "execute_result"
    }
   ],
   "source": [
    "# The last two characters of the string\n",
    "s[-2:]"
   ]
  },
  {
   "cell_type": "markdown",
   "metadata": {},
   "source": [
    "## String Operations"
   ]
  },
  {
   "cell_type": "markdown",
   "metadata": {},
   "source": [
    "### Joining Strings"
   ]
  },
  {
   "cell_type": "markdown",
   "metadata": {},
   "source": [
    "Use the + operator to join (concatenate) two strings. Note that this works the same with lists."
   ]
  },
  {
   "cell_type": "code",
   "execution_count": 7,
   "metadata": {},
   "outputs": [
    {
     "data": {
      "text/plain": [
       "'Moo cow'"
      ]
     },
     "execution_count": 7,
     "metadata": {},
     "output_type": "execute_result"
    }
   ],
   "source": [
    "s1 = 'Moo'\n",
    "s2 = 'cow'\n",
    "joinedString = s1 + ' ' + s2\n",
    "\n",
    "joinedString"
   ]
  },
  {
   "cell_type": "markdown",
   "metadata": {},
   "source": [
    "### Repeating Strings"
   ]
  },
  {
   "cell_type": "markdown",
   "metadata": {},
   "source": [
    "Use the * operator to repeat a string. Note that this works the same with lists."
   ]
  },
  {
   "cell_type": "code",
   "execution_count": 8,
   "metadata": {},
   "outputs": [
    {
     "data": {
      "text/plain": [
       "'MeowMeowMeowMeowMeowMeowMeowMeowMeowMeow'"
      ]
     },
     "execution_count": 8,
     "metadata": {},
     "output_type": "execute_result"
    }
   ],
   "source": [
    "catNoise = 'Meow'\n",
    "\n",
    "catNoise * 10"
   ]
  },
  {
   "cell_type": "markdown",
   "metadata": {},
   "source": [
    "That's hard to read. Let's add a space between the cat noises!"
   ]
  },
  {
   "cell_type": "code",
   "execution_count": 9,
   "metadata": {},
   "outputs": [
    {
     "data": {
      "text/plain": [
       "'Meow Meow Meow Meow Meow Meow Meow Meow Meow Meow '"
      ]
     },
     "execution_count": 9,
     "metadata": {},
     "output_type": "execute_result"
    }
   ],
   "source": [
    "(catNoise + ' ') * 10"
   ]
  },
  {
   "cell_type": "markdown",
   "metadata": {},
   "source": [
    "### Checking whether one string contains another string"
   ]
  },
  {
   "cell_type": "markdown",
   "metadata": {},
   "source": [
    "You can use the `in` operator to check whether one string contains a substring. The expression `substr in s` checkes whether the string `substr` can be found anywhere in the string `s`. If it is found, the result will be `True`. If not, the result will be `False`.\n",
    "\n",
    "Here are two examples:"
   ]
  },
  {
   "cell_type": "code",
   "execution_count": 10,
   "metadata": {},
   "outputs": [
    {
     "data": {
      "text/plain": [
       "False"
      ]
     },
     "execution_count": 10,
     "metadata": {},
     "output_type": "execute_result"
    }
   ],
   "source": [
    "# Check whether the string contains 'accy'\n",
    "# It will be false because the string contains 'ACCY', not 'accy'\n",
    "s = 'ACCY 570 is awesome!'\n",
    "'accy' in s"
   ]
  },
  {
   "cell_type": "code",
   "execution_count": 11,
   "metadata": {},
   "outputs": [
    {
     "data": {
      "text/plain": [
       "True"
      ]
     },
     "execution_count": 11,
     "metadata": {},
     "output_type": "execute_result"
    }
   ],
   "source": [
    "# Check whether the string contains ' 57'\n",
    "# It will be True because the string contains ' 57'\n",
    "s = 'ACCY 570 is awesome!'\n",
    "' 57' in s"
   ]
  },
  {
   "cell_type": "markdown",
   "metadata": {},
   "source": [
    "## Some Useful String Functions and Methods"
   ]
  },
  {
   "cell_type": "markdown",
   "metadata": {},
   "source": [
    "Python has _many_ useful functions for working with strings. We will only show you a few here. We will revisit some of these functions again when we learn the Pandas module later in the course."
   ]
  },
  {
   "cell_type": "markdown",
   "metadata": {},
   "source": [
    "### Getting the length of a string"
   ]
  },
  {
   "cell_type": "markdown",
   "metadata": {},
   "source": [
    "Use the `len` function to get the length of a string. Just like with lists."
   ]
  },
  {
   "cell_type": "code",
   "execution_count": 12,
   "metadata": {},
   "outputs": [
    {
     "data": {
      "text/plain": [
       "8"
      ]
     },
     "execution_count": 12,
     "metadata": {},
     "output_type": "execute_result"
    }
   ],
   "source": [
    "s = '12345678'\n",
    "len(s)"
   ]
  },
  {
   "cell_type": "markdown",
   "metadata": {},
   "source": [
    "### Other String Methods"
   ]
  },
  {
   "cell_type": "markdown",
   "metadata": {},
   "source": [
    "The following functions are technically \"methods\". In Python, strings are \"objects\". In programming, an object is a thing that stores values (called properties), and that has certain functions that belong to it (called methods). \n",
    "\n",
    "Method calls have a different syntax than function calls. To see this, think about the `len` function. You call that by writing the function name and then putting arguments in parentheses (e.g. `len(myvariable)`). You call a method by typing the object, then a dot, then the method name, then arguments in parentheses (e.g. `mystring.method()`).\n",
    "\n",
    "We realize this is complicated, and we have done our best to spare you such complications. For now, all you need to know is that:  \n",
    "1. Methods are functions.\n",
    "2. Method are called differently than ordinary functions.\n",
    "\n",
    "In the rest of this section, you will see more examples of methods and how they are called."
   ]
  },
  {
   "cell_type": "markdown",
   "metadata": {},
   "source": [
    "#### lower and upper"
   ]
  },
  {
   "cell_type": "markdown",
   "metadata": {},
   "source": [
    "`lower` and `upper` convert a string to all lower case or all upper case, respectively."
   ]
  },
  {
   "cell_type": "code",
   "execution_count": 13,
   "metadata": {},
   "outputs": [
    {
     "name": "stdout",
     "output_type": "stream",
     "text": [
      "s is 'Hello y'all'\n",
      "s in all lower case is 'hello y'all'\n",
      "s in all upper case is 'HELLO Y'ALL'\n"
     ]
    }
   ],
   "source": [
    "s = \"Hello y'all\"\n",
    "upper_s = s.upper()\n",
    "lower_s = s.lower()\n",
    "\n",
    "print(f\"s is '{s}'\")\n",
    "print(f\"s in all lower case is '{lower_s}'\")\n",
    "print(f\"s in all upper case is '{upper_s}'\")"
   ]
  },
  {
   "cell_type": "markdown",
   "metadata": {},
   "source": [
    "#### strip, lstrip, and rstrip"
   ]
  },
  {
   "cell_type": "markdown",
   "metadata": {},
   "source": [
    "We know what you may be thinking and shame on you. Let's remain focused. :)\n",
    "\n",
    "Blank spaces are pesky and we often want to remove them from the beginning and end of strings. This is a common problem when cleaning text data. Luckily, the `strip` method does that for you. `strip` _removes all \"white space\" characters from the beginning and end of a string_. White space includes space, tab, and newline characters."
   ]
  },
  {
   "cell_type": "code",
   "execution_count": 14,
   "metadata": {},
   "outputs": [
    {
     "data": {
      "text/plain": [
       "'Dirty string with unnecessary spaces at beginning and end.'"
      ]
     },
     "execution_count": 14,
     "metadata": {},
     "output_type": "execute_result"
    }
   ],
   "source": [
    "s = '  Dirty string with unnecessary spaces at beginning and end.  '\n",
    "s.strip()"
   ]
  },
  {
   "cell_type": "markdown",
   "metadata": {},
   "source": [
    "Notice that `strip` removed the spaces from the beginning _and_ the end of the string.\n",
    "\n",
    "`lstrip` stands for left strip and it removes white space from the beginning (left) of the string. `rstrip` does the same on the right."
   ]
  },
  {
   "cell_type": "code",
   "execution_count": 15,
   "metadata": {},
   "outputs": [
    {
     "data": {
      "text/plain": [
       "'Dirty string with unnecessary spaces at beginning and end.  '"
      ]
     },
     "execution_count": 15,
     "metadata": {},
     "output_type": "execute_result"
    }
   ],
   "source": [
    "# Notice this does not remove the white space at the end.\n",
    "s.lstrip()"
   ]
  },
  {
   "cell_type": "code",
   "execution_count": 16,
   "metadata": {},
   "outputs": [
    {
     "data": {
      "text/plain": [
       "'  Dirty string with unnecessary spaces at beginning and end.'"
      ]
     },
     "execution_count": 16,
     "metadata": {},
     "output_type": "execute_result"
    }
   ],
   "source": [
    "# Notice this does not remove the white space at the beginning.\n",
    "s.rstrip()"
   ]
  },
  {
   "cell_type": "markdown",
   "metadata": {},
   "source": [
    "By default, these methods remove white space, but you can also tell these methods what you want to strip!"
   ]
  },
  {
   "cell_type": "code",
   "execution_count": 17,
   "metadata": {},
   "outputs": [
    {
     "data": {
      "text/plain": [
       "'Hello'"
      ]
     },
     "execution_count": 17,
     "metadata": {},
     "output_type": "execute_result"
    }
   ],
   "source": [
    "s = 'Hello.'\n",
    "# Get rid of period at the end\n",
    "s.rstrip('.')"
   ]
  },
  {
   "cell_type": "markdown",
   "metadata": {},
   "source": [
    "#### startswith and endswith"
   ]
  },
  {
   "cell_type": "markdown",
   "metadata": {},
   "source": [
    "The `startswith` and `endswith` methods tells you whether your string starts or ends with a given substring. These are like the `in` operator, but they only test the beginning and and of your string."
   ]
  },
  {
   "cell_type": "code",
   "execution_count": 18,
   "metadata": {},
   "outputs": [],
   "source": [
    "s = '111 33'"
   ]
  },
  {
   "cell_type": "code",
   "execution_count": 19,
   "metadata": {},
   "outputs": [
    {
     "data": {
      "text/plain": [
       "True"
      ]
     },
     "execution_count": 19,
     "metadata": {},
     "output_type": "execute_result"
    }
   ],
   "source": [
    "s.startswith('111')"
   ]
  },
  {
   "cell_type": "code",
   "execution_count": 20,
   "metadata": {},
   "outputs": [
    {
     "data": {
      "text/plain": [
       "False"
      ]
     },
     "execution_count": 20,
     "metadata": {},
     "output_type": "execute_result"
    }
   ],
   "source": [
    "s.endswith('x')"
   ]
  },
  {
   "cell_type": "markdown",
   "metadata": {},
   "source": [
    "#### replace"
   ]
  },
  {
   "cell_type": "markdown",
   "metadata": {},
   "source": [
    "This works just like find, but allows you to replace a substring with a different substring. By default, it replaces all occurrences of your substring."
   ]
  },
  {
   "cell_type": "code",
   "execution_count": 21,
   "metadata": {},
   "outputs": [
    {
     "data": {
      "text/plain": [
       "'ACCY 575 is great.'"
      ]
     },
     "execution_count": 21,
     "metadata": {},
     "output_type": "execute_result"
    }
   ],
   "source": [
    "s = 'ACCY 570 is great.'\n",
    "\n",
    "s.replace('570', '575')"
   ]
  },
  {
   "cell_type": "markdown",
   "metadata": {},
   "source": [
    "#### split"
   ]
  },
  {
   "cell_type": "markdown",
   "metadata": {},
   "source": [
    "This may be one of the most useful functions ever invented. It splits a string and returns a list of substrings. By default, it splits using spaces but you can tell Python how you want it to split the string (the fancy word for the split character is _delimiter_). "
   ]
  },
  {
   "cell_type": "code",
   "execution_count": 22,
   "metadata": {},
   "outputs": [],
   "source": [
    "s = 'Harare is the capital of Zimbabwe.'"
   ]
  },
  {
   "cell_type": "code",
   "execution_count": 23,
   "metadata": {},
   "outputs": [
    {
     "data": {
      "text/plain": [
       "['Harare', 'is', 'the', 'capital', 'of', 'Zimbabwe.']"
      ]
     },
     "execution_count": 23,
     "metadata": {},
     "output_type": "execute_result"
    }
   ],
   "source": [
    "s.split()"
   ]
  },
  {
   "cell_type": "markdown",
   "metadata": {},
   "source": [
    "Isn't that cool? It not only splits based on spaces, but it removes the spaces. You are left with a list of words!\n",
    "\n",
    "What if you want to get rid of that period at the end?"
   ]
  },
  {
   "cell_type": "code",
   "execution_count": 24,
   "metadata": {},
   "outputs": [
    {
     "data": {
      "text/plain": [
       "['Harare', 'is', 'the', 'capital', 'of', 'Zimbabwe']"
      ]
     },
     "execution_count": 24,
     "metadata": {},
     "output_type": "execute_result"
    }
   ],
   "source": [
    "s.rstrip('.').split()"
   ]
  },
  {
   "cell_type": "markdown",
   "metadata": {},
   "source": [
    "Now let's split into sentences."
   ]
  },
  {
   "cell_type": "code",
   "execution_count": 25,
   "metadata": {},
   "outputs": [
    {
     "data": {
      "text/plain": [
       "['Harare is the capital of Zimbabwe',\n",
       " ' Ottawa is the capital of Canada',\n",
       " ' Andorra la Vella is the capital of Andorra',\n",
       " '']"
      ]
     },
     "execution_count": 25,
     "metadata": {},
     "output_type": "execute_result"
    }
   ],
   "source": [
    "s = 'Harare is the capital of Zimbabwe. Ottawa is the capital of Canada. Andorra la Vella is the capital of Andorra.'\n",
    "s.split('.')"
   ]
  },
  {
   "cell_type": "markdown",
   "metadata": {},
   "source": [
    "#### Count a Substring"
   ]
  },
  {
   "cell_type": "markdown",
   "metadata": {},
   "source": [
    "The `count` method tells you how many times a substring occurs in a string."
   ]
  },
  {
   "cell_type": "code",
   "execution_count": 26,
   "metadata": {},
   "outputs": [
    {
     "data": {
      "text/plain": [
       "3"
      ]
     },
     "execution_count": 26,
     "metadata": {},
     "output_type": "execute_result"
    }
   ],
   "source": [
    "s = 'pig dog pig pig cat'\n",
    "s.count('pig')"
   ]
  },
  {
   "cell_type": "markdown",
   "metadata": {},
   "source": [
    "#### find"
   ]
  },
  {
   "cell_type": "markdown",
   "metadata": {},
   "source": [
    "This is super useful. You can search for text within your string. If it exists, Python returns the index of the first occurrence. If it does not exist, Python returns -1."
   ]
  },
  {
   "cell_type": "code",
   "execution_count": 27,
   "metadata": {},
   "outputs": [],
   "source": [
    "s = 'hello everybody! How is everybody doing?'"
   ]
  },
  {
   "cell_type": "code",
   "execution_count": 28,
   "metadata": {},
   "outputs": [
    {
     "data": {
      "text/plain": [
       "6"
      ]
     },
     "execution_count": 28,
     "metadata": {},
     "output_type": "execute_result"
    }
   ],
   "source": [
    "# This returns 6 because that is the index of the first character of the first occurrence of 'every'\n",
    "s.find('every')"
   ]
  },
  {
   "cell_type": "code",
   "execution_count": 29,
   "metadata": {},
   "outputs": [
    {
     "data": {
      "text/plain": [
       "-1"
      ]
     },
     "execution_count": 29,
     "metadata": {},
     "output_type": "execute_result"
    }
   ],
   "source": [
    "# This returns -1 because 'dog' is not a substring of s\n",
    "s.find('dog')"
   ]
  },
  {
   "cell_type": "markdown",
   "metadata": {},
   "source": [
    "#### Want more string functions? See here"
   ]
  },
  {
   "cell_type": "markdown",
   "metadata": {},
   "source": [
    "As we said previously, there are _many_ string methods and we only showed you a few. If you want to see more, visit [this website](https://www.tutorialspoint.com/python/python_strings.htm) and scroll down to \"Built-In String Methods\", or visit the [official Python documentation](https://docs.python.org/3.7/library/stdtypes.html?highlight=lstrip#string-methods), which has everything, and look for the heading \"String Methods\"."
   ]
  }
 ],
 "metadata": {
  "kernelspec": {
   "display_name": "Python 3 (ipykernel)",
   "language": "python",
   "name": "python3"
  },
  "language_info": {
   "codemirror_mode": {
    "name": "ipython",
    "version": 3
   },
   "file_extension": ".py",
   "mimetype": "text/x-python",
   "name": "python",
   "nbconvert_exporter": "python",
   "pygments_lexer": "ipython3",
   "version": "3.11.9"
  }
 },
 "nbformat": 4,
 "nbformat_minor": 4
}