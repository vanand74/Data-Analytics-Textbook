{
 "cells": [
  {
   "cell_type": "markdown",
   "metadata": {},
   "source": [
    "# The Print Function"
   ]
  },
  {
   "cell_type": "markdown",
   "metadata": {},
   "source": [
    "## Learning Objectives"
   ]
  },
  {
   "cell_type": "markdown",
   "metadata": {},
   "source": [
    "<div style=\"border: 1px solid black; padding: 10px; background-color: #EDEDED;\">\n",
    "    <ul>\n",
    "        <li>Write a print statement that prints a value or a single variable.</li>\n",
    "        <li>Write a print statement that prints multiple values or variables.</li>\n",
    "        <li>Use an f-string to print a string, substituting variables or expressions inside the string.</li>\n",
    "    </ul>\n",
    "</div>"
   ]
  },
  {
   "cell_type": "markdown",
   "metadata": {},
   "source": [
    "## Overview of the Print Function"
   ]
  },
  {
   "cell_type": "markdown",
   "metadata": {},
   "source": [
    "Python has a built-in `print` function. When working with data analytics, you will typically use `print` for testing and debugging; as you perform an analysis, you may wish to print the value of a variable or expression. In this section, we will teach you the basics of printing. Please be aware that the `print` function has many features and we will only show you a few of them. Therefore, do not be surprised if you look up something on the internet and discover a new feature of `print`!"
   ]
  },
  {
   "cell_type": "markdown",
   "metadata": {},
   "source": [
    "## Printing a Single Value or a Variable"
   ]
  },
  {
   "cell_type": "markdown",
   "metadata": {},
   "source": [
    "To print a value, simply pass the value as an argument to `print`:"
   ]
  },
  {
   "cell_type": "code",
   "execution_count": 1,
   "metadata": {},
   "outputs": [
    {
     "name": "stdout",
     "output_type": "stream",
     "text": [
      "-7\n"
     ]
    }
   ],
   "source": [
    "print(-7)"
   ]
  },
  {
   "cell_type": "markdown",
   "metadata": {},
   "source": [
    "To print the value of a variable, pass the variable as an argument to `print`:"
   ]
  },
  {
   "cell_type": "code",
   "execution_count": 2,
   "metadata": {},
   "outputs": [
    {
     "name": "stdout",
     "output_type": "stream",
     "text": [
      "3.14\n"
     ]
    }
   ],
   "source": [
    "pi = 3.14\n",
    "print(pi)"
   ]
  },
  {
   "cell_type": "markdown",
   "metadata": {},
   "source": [
    "When you pass an argument to print whose type is not string, print uses the `str()` function to convert your argument to string before printing it."
   ]
  },
  {
   "cell_type": "markdown",
   "metadata": {},
   "source": [
    "## Printing Multiple Values"
   ]
  },
  {
   "cell_type": "markdown",
   "metadata": {},
   "source": [
    "You can pass more than one argument to print. For example:"
   ]
  },
  {
   "cell_type": "code",
   "execution_count": 3,
   "metadata": {
    "scrolled": true
   },
   "outputs": [
    {
     "name": "stdout",
     "output_type": "stream",
     "text": [
      "5 -3 sheep\n"
     ]
    }
   ],
   "source": [
    "print(5, -3, 'sheep')"
   ]
  },
  {
   "cell_type": "markdown",
   "metadata": {},
   "source": [
    "## Printing More Complicated Expressions"
   ]
  },
  {
   "cell_type": "markdown",
   "metadata": {},
   "source": [
    "Say you want to print something a little more complicated. For example, say you know someone's name and age and want to print a sentence with that information. There are many crude ways of doing this and we will not show you those at this time. Instead, we will show you the most elegant way, which is _f-strings_. Let's illustrate with an example:"
   ]
  },
  {
   "cell_type": "code",
   "execution_count": 4,
   "metadata": {},
   "outputs": [
    {
     "name": "stdout",
     "output_type": "stream",
     "text": [
      "Hello Jack. My records show that you are 23 years old.\n"
     ]
    }
   ],
   "source": [
    "name = 'Jack'\n",
    "age = 23\n",
    "\n",
    "print(f'Hello {name}. My records show that you are {23} years old.')"
   ]
  },
  {
   "cell_type": "markdown",
   "metadata": {},
   "source": [
    "When Python sees the letter **f** before a string, it treats the string differently. Inside the string, it looks for expressions inside curly braces. It evaluates those expressions and replaces them with their values.\n",
    "\n",
    "The expressions inside f-strings do not need to be variables. They can be more complicated. Here's another example:"
   ]
  },
  {
   "cell_type": "code",
   "execution_count": 5,
   "metadata": {},
   "outputs": [
    {
     "name": "stdout",
     "output_type": "stream",
     "text": [
      "Hello JACK. In 17 years, you will be 40!\n"
     ]
    }
   ],
   "source": [
    "name = 'Jack'\n",
    "age = 23\n",
    "\n",
    "print(f'Hello {name.upper()}. In {40 - age} years, you will be 40!')"
   ]
  },
  {
   "cell_type": "markdown",
   "metadata": {},
   "source": [
    "In the preceding example, the first expression inside the f-string was `name.upper()`. The `upper` function, which we will show you later, converts a string to upper case. The second expression `40 - age` evaluated to 17."
   ]
  },
  {
   "cell_type": "markdown",
   "metadata": {},
   "source": [
    "### Summary of f-strings"
   ]
  },
  {
   "cell_type": "markdown",
   "metadata": {},
   "source": [
    "When Python sees the letter f before a string, it evaluates anything inside curly braces as an expression and replaces the expression with its value in the string.\n",
    "\n",
    "f-strings are super useful and we strongly recommend their use. For a more thorough guide to f-strings, see [here](https://realpython.com/python-f-strings/). That article also shows you the \"old school\" ways of string formatting in Python. If you look up code on the internet, chances are you will see the old-school ways of string formatting so keep the article as a reference!"
   ]
  },
  {
   "cell_type": "markdown",
   "metadata": {},
   "source": [
    "## Printing Formatted Numbers (_OPTIONAL_)"
   ]
  },
  {
   "cell_type": "markdown",
   "metadata": {},
   "source": [
    "You may find the material in this section useful when debugging, but it is optional. "
   ]
  },
  {
   "cell_type": "markdown",
   "metadata": {},
   "source": [
    "We're all accountants here. That means that when we print numbers, we most likely want either zero or two decimal places, and we want comma separators for large numbers! In this section, we will show you some basic number formatting."
   ]
  },
  {
   "cell_type": "markdown",
   "metadata": {},
   "source": [
    "### Specifying the Number of Decimal Places"
   ]
  },
  {
   "cell_type": "code",
   "execution_count": 6,
   "metadata": {},
   "outputs": [
    {
     "name": "stdout",
     "output_type": "stream",
     "text": [
      "The unit price is $7.0\n"
     ]
    }
   ],
   "source": [
    "unit_price = 7.00\n",
    "print(f'The unit price is ${unit_price}')"
   ]
  },
  {
   "cell_type": "markdown",
   "metadata": {},
   "source": [
    "The output from the previous example looks weird to us accountants. To print a number to a specified number of decimal places, add a colon (:) followed by a period (.), the number of decimal places, and the letter f. See code snippet below:"
   ]
  },
  {
   "cell_type": "code",
   "execution_count": 7,
   "metadata": {},
   "outputs": [
    {
     "name": "stdout",
     "output_type": "stream",
     "text": [
      "The unit price is $7.00\n"
     ]
    }
   ],
   "source": [
    "unit_price = 7.00\n",
    "print(f'The unit price is ${unit_price:.2f}')"
   ]
  },
  {
   "cell_type": "markdown",
   "metadata": {},
   "source": [
    "The colon following the expression tells Python that the expression has ended and now you are telling it about formatting. The f tells Python that the expression should be converted to a float. The .2 tells Python that you want two decimal places.\n",
    "\n",
    "If the floating point number has more decimal places, it will be rounded to the number of decimal places you specified. Here's a demonstration:"
   ]
  },
  {
   "cell_type": "code",
   "execution_count": 8,
   "metadata": {},
   "outputs": [
    {
     "name": "stdout",
     "output_type": "stream",
     "text": [
      "The unit price is $14.50\n"
     ]
    }
   ],
   "source": [
    "unit_price = 14.499999\n",
    "print(f'The unit price is ${unit_price:.2f}')"
   ]
  },
  {
   "cell_type": "markdown",
   "metadata": {},
   "source": [
    "### Adding Commas"
   ]
  },
  {
   "cell_type": "markdown",
   "metadata": {},
   "source": [
    "To format a number with commas, simply add a comma after the colon. Here are a few examples:"
   ]
  },
  {
   "cell_type": "code",
   "execution_count": 9,
   "metadata": {},
   "outputs": [
    {
     "name": "stdout",
     "output_type": "stream",
     "text": [
      "Revenue 1,000,000\n",
      "COGS 630,000\n",
      "Gross margin 370,000\n"
     ]
    }
   ],
   "source": [
    "revenue = 1000000\n",
    "COGS = 0.63 * revenue\n",
    "GrossMargin = revenue - COGS\n",
    "\n",
    "print(f'Revenue {revenue:,}')\n",
    "print(f'COGS {COGS:,.0f}')\n",
    "print(f'Gross margin {GrossMargin:,.0f}')"
   ]
  },
  {
   "cell_type": "markdown",
   "metadata": {},
   "source": [
    "In the above example, there was no need to specify the number of decimal places for revenue because it was an integer. We specified 0 decimal places for COGS and gross margin."
   ]
  },
  {
   "cell_type": "markdown",
   "metadata": {},
   "source": [
    "### Padding Numbers with Spaces"
   ]
  },
  {
   "cell_type": "markdown",
   "metadata": {},
   "source": [
    "Sometimes you may wish to add space to your printing so that your output is easier to read. To do so, you can enter a number before the decimal or comma in the format string. That number is the minimum width (in number of characters) of the value that will be printed. This will be easier to understand with an example:"
   ]
  },
  {
   "cell_type": "code",
   "execution_count": 10,
   "metadata": {},
   "outputs": [
    {
     "name": "stdout",
     "output_type": "stream",
     "text": [
      "2010 revenue: $   900,000\n",
      "2011 revenue: $ 1,350,000\n",
      "2012 revenue: $ 2,025,000\n",
      "2013 revenue: $ 3,037,500\n",
      "2014 revenue: $ 4,556,250\n",
      "2015 revenue: $ 6,834,375\n",
      "2016 revenue: $10,251,562\n"
     ]
    }
   ],
   "source": [
    "revenue = 900000.0\n",
    "for year in range(2010,2017):\n",
    "    print(f'{year} revenue: ${revenue:10,.0f}')\n",
    "    revenue = revenue * 1.50"
   ]
  },
  {
   "cell_type": "markdown",
   "metadata": {},
   "source": [
    "In the above example, 2010 revenue was \\$900,000 and grew at an annual rate of 50%. \n",
    "\n",
    "The format string, '10,.0f' told Python to always print the revenue number using a minimum width of 10 characters. The 2016 revenue of 10,251,562 is 10 characters wide, but the revenue in previous years is not; therefore 2010 - 2015 revenues were \"padded\" by placing spaces to the left of the number so the width is exactly 10 characters. Since all years' revenues are printed to the same width, the output is prettier."
   ]
  }
 ],
 "metadata": {
  "kernelspec": {
   "display_name": "Python 3 (ipykernel)",
   "language": "python",
   "name": "python3"
  },
  "language_info": {
   "codemirror_mode": {
    "name": "ipython",
    "version": 3
   },
   "file_extension": ".py",
   "mimetype": "text/x-python",
   "name": "python",
   "nbconvert_exporter": "python",
   "pygments_lexer": "ipython3",
   "version": "3.11.9"
  }
 },
 "nbformat": 4,
 "nbformat_minor": 4
}