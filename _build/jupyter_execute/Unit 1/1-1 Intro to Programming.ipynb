{
 "cells": [
  {
   "cell_type": "markdown",
   "metadata": {},
   "source": [
    "# Introduction to Programming"
   ]
  },
  {
   "cell_type": "markdown",
   "metadata": {},
   "source": [
    "Before you can work with data in Python, you need to know some basics of the Python language as well as some basic programming concepts. These concepts will underlie everything you do when you work with data. Thus, they will help you even when you work in Excel, Tableau, or whatever."
   ]
  },
  {
   "cell_type": "markdown",
   "metadata": {},
   "source": [
    "## What is Programming?"
   ]
  },
  {
   "cell_type": "markdown",
   "metadata": {},
   "source": [
    "Computers are dumb. They can only do what they are instructed to do. Thus, we humans use programming languages to tell computers what to do. \n",
    "\n",
    "A computer program is simply a set of instructions for a computer. When you write a computer program, your code is translated into instructions that the computer can understand. Programs are written in a programming language. There are many programming languages out there and each is a different way of telling a computer what to do. Over the years, programmers have created different languages, each with its advantages and disadvantages, and as a result these languages tend to evolve for different use cases. For example, PHP and JavaScript are frequently used to create websites, while C++ is often used to create games. Python was originally developed as an easy-to-use, general purpose language and has since evolved into the premiere language for data science and data analysis.\n",
    "\n",
    "A computer program is similar to a cooking recipe. A recipe is a set of steps that, when followed, leads to a desired outcome (yummy food). For example, here's a simple recipe for making whipped cream (courtesy of [this website](https://www.foodnetwork.com/recipes/alton-brown/whipped-cream-recipe-1957526)):\n",
    "\n",
    "1. Obtain a metal mixing bowl, a metal whisk, 1 cup of heavy whipping cream, and 2 tablespoons of sugar.\n",
    "\n",
    "2. Place a metal mixing bowl and metal whisk into the freezer for 10 minutes.\n",
    "\n",
    "3. Remove bowl and whisk from freezer and place on kitchen countertop.\n",
    "\n",
    "4. Add 2 tablespoons of sugar to the bowl.\n",
    "\n",
    "5. Add 1 cup of heavy whipping cream to the bowl.\n",
    "\n",
    "6. Do {  \n",
    "&nbsp;&nbsp;&nbsp;&nbsp;&nbsp;&nbsp;&nbsp;&nbsp;&nbsp;&nbsp;Whisk cream and sugar mixture.  \n",
    "&nbsp;&nbsp;&nbsp;&nbsp;&nbsp;&nbsp;} Until (stiff peaks are visible)"
   ]
  },
  {
   "cell_type": "markdown",
   "metadata": {},
   "source": [
    "If you can understand the above recipe, you can write a computer program. Steps 1 - 5 are imperative statements: they tell the cook to take a specific action. Step 6 is more interesting. It's a \"loop\". It tells the cook to repeat an action until a condition is met. Once the condition is met, the cook will terminate the action. Such loops are common in programming. You will learn more more about loops in the next section on control flow."
   ]
  }
 ],
 "metadata": {
  "kernelspec": {
   "display_name": "Python 3 (ipykernel)",
   "language": "python",
   "name": "python3"
  },
  "language_info": {
   "codemirror_mode": {
    "name": "ipython",
    "version": 3
   },
   "file_extension": ".py",
   "mimetype": "text/x-python",
   "name": "python",
   "nbconvert_exporter": "python",
   "pygments_lexer": "ipython3",
   "version": "3.11.9"
  }
 },
 "nbformat": 4,
 "nbformat_minor": 4
}