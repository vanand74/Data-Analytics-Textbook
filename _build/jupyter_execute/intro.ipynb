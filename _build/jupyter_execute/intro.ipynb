{
 "cells": [
  {
   "cell_type": "markdown",
   "metadata": {},
   "source": [
    "# Introduction and Welcome"
   ]
  },
  {
   "cell_type": "markdown",
   "metadata": {},
   "source": [
    "Welcome to ACCY 570, _Data Analytics Foundations for Accountancy_!\n",
    "\n",
    "In this course, you will learn the principles of data analytics and apply them to accounting tasks. You can learn these principles in any data-oriented software package such as Excel, Tableau, Alteryx, or Power BI. You will likely use such software at your first job, and we will expose you to Excel and Tableau in ACCY 570. However, these tools are _not_ the best way to _learn_ the principles of data analytics because it is too easy to use these tools without understanding what you are doing. That leads to flawed analyses and poor work. Therefore, a better approach is needed to learn data analytics.\n",
    "\n",
    "Many practicing data analysts and data scientists use a \"real\" programming language like Python, R, or SQL. In fact, if you do a Google search for \"_popular language for data science_\", you will see that Python and R typically come out on top. Why are these languages so popular among data scientists? Because in a \"real\" programming language:\n",
    "\n",
    "* You must write code that is a sequence of steps. That means:\n",
    "    - Your work will be reproducible. \n",
    "    - It is possible to _audit_ your work.\n",
    "* Your code and your data are separated. That means:\n",
    "    - You are less likely to accidently change your data.\n",
    "    - If your data changes, you can just run your code again without having to copy and paste new data into your Excel file.\n",
    "* It is easier and faster to work with larger data sets.\n",
    "\n",
    "Don't misunderstand. While I love Excel and use it regularly, it is not the best tool for _learning_ data analytics. If you learn how to work with data in a real programming language, you will be able to easily translate your skills to Excel. Those skills will allow you to work faster and better in Excel.\n",
    "\n",
    "I have chosen to use Python as the primary teaching tool in ACCY 570. I will begin the course by teaching you some Python and some programming skills. Don't worry! I am not trying to make you a programmer or a data scientist. My goal is to teach you some analytics concepts and skills that you will use as a practicing accountant. Python is simply a tool for learning those concepts and skills.\n",
    "\n",
    "As an aside, you will have lots of \"street cred\" if you say you know Python when you interview for jobs. Big 4 partners are always impressed when I tell them that my students know Python. Python is currently one of the most popular programming languages in the world. It is also the most popular language for data science. Make sure to add Python to your resume!"
   ]
  }
 ],
 "metadata": {
  "kernelspec": {
   "display_name": "Python 3 (ipykernel)",
   "language": "python",
   "name": "python3"
  },
  "language_info": {
   "codemirror_mode": {
    "name": "ipython",
    "version": 3
   },
   "file_extension": ".py",
   "mimetype": "text/x-python",
   "name": "python",
   "nbconvert_exporter": "python",
   "pygments_lexer": "ipython3",
   "version": "3.11.9"
  }
 },
 "nbformat": 4,
 "nbformat_minor": 4
}