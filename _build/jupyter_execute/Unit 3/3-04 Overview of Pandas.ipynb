{
 "cells": [
  {
   "cell_type": "markdown",
   "metadata": {},
   "source": [
    "# Overview of Pandas"
   ]
  },
  {
   "cell_type": "markdown",
   "metadata": {},
   "source": [
    "## Learning Objectives"
   ]
  },
  {
   "cell_type": "markdown",
   "metadata": {},
   "source": [
    "<div style=\"border: 1px solid black; padding: 10px; background-color: #EDEDED;\">\n",
    "    <ul>\n",
    "        <li>Describe the Pandas library and its main features.</li>\n",
    "    </ul>\n",
    "</div>"
   ]
  },
  {
   "cell_type": "markdown",
   "metadata": {},
   "source": [
    "## Overview of Pandas"
   ]
  },
  {
   "cell_type": "markdown",
   "metadata": {},
   "source": [
    "It's finally time to get our hands dirty with some data! In the remainder of this unit, we will learn how to load, view, and manipulate data. These tasks are prerequisites for any type of data analysis.\n",
    "\n",
    "In this unit, and the rest of this course, we will use Python's Pandas library. Pandas is one of the best and most commonly used packages for working with data. Pandas is an acronym that stands for \"panel data\". The term [panel data](https://en.wikipedia.org/wiki/Panel_data) comes from economics and refers to datasets that contain observations over multiple time periods for the same entity. Pandas was originally developed by someone working with financial data and has since grown in size and scope to be an excellent, general-purpose library for manipulating data.\n",
    "\n",
    "Pandas will be your \"go to\" library when working with data in Python. Typically, you will load your data into Pandas, clean it, manipulate it, and aggregate it, all in Pandas. You may use other libraries for plotting or statistical analysis, but the bulk of your work will be done in Pandas. "
   ]
  },
  {
   "cell_type": "markdown",
   "metadata": {},
   "source": [
    "## Why Use Pandas?"
   ]
  },
  {
   "cell_type": "markdown",
   "metadata": {},
   "source": [
    "Before we dive into the details, let's talk about the reasons to use Pandas (or any other serious data manipulation library). The big reason to choose Pandas over Excel or Tableau Prep is that _Pandas makes it easy to reproduce your work_. With Pandas, you must write declarative code statements. You're telling the computer exactly what you want it to do with your data. When you are done, you can view those steps. In other words, you can _audit your work_. That is not possible with Excel. In the past, after our students have completed big Excel projects, we ask them what steps they took. They usually don't remember. If they had to reproduce their work, it would take them hours. This is problematic because they cannot determine whether they did their work correctly. Pandas, by nature, is easily auditable. \n",
    "\n",
    "Another advantage over Excel is _speed_. When you have to work with hundreds of thousands, or millions, of rows, Excel will become very slow. Pandas will be much faster."
   ]
  },
  {
   "cell_type": "markdown",
   "metadata": {},
   "source": [
    "## The Main Objects in Pandas"
   ]
  },
  {
   "cell_type": "markdown",
   "metadata": {},
   "source": [
    "The Pandas library contains two main objects (remember that term?), the DataFrame and the Series. Let's briefly discuss these objects."
   ]
  },
  {
   "cell_type": "markdown",
   "metadata": {},
   "source": [
    "### The DataFrame Object"
   ]
  },
  {
   "cell_type": "markdown",
   "metadata": {},
   "source": [
    "A DataFrame is a table of data. It contains cells that are organized into rows and columns. Each cell contains a single data value. The image below contains a snapshot of a DataFrame. We saved it as a picture so you cannot interact with it."
   ]
  },
  {
   "cell_type": "markdown",
   "metadata": {},
   "source": [
    "![alt text](imgs/dataframe_image.png \"Snapshot of sample DataFrame\")"
   ]
  },
  {
   "cell_type": "markdown",
   "metadata": {},
   "source": [
    "A DataFrame is analogous to an Excel worksheet, but with a few key differences. Where an Excel worksheet can have multiple blocks of data, charts, pivot tables, etc., _a DataFrame must contain a contiguous block of data_.\n",
    "\n",
    "In the rest of this unit, we will show you how to:\n",
    "* Load data from Excel files and CSV files into a DataFrame.\n",
    "* View DataFrames, and pieces of DataFrames, in a Jupyter notebook.\n",
    "* Select and modify specific values from a DataFrame.\n",
    "* Select and modify specific rows from a DataFrame.\n",
    "* Select and modify specific columns from a DataFrame.\n",
    "* Create new columns that are transformations of existing columns.\n",
    "* Summarize data in DataFrames.\n",
    "* Plot data in DataFrames.\n",
    "\n",
    "In subsequent units, we will show you how to do analyses (e.g. pivot tables) using data in DataFrames. Time permitting, we will show you how to merge data from multiple DataFrames."
   ]
  },
  {
   "cell_type": "markdown",
   "metadata": {},
   "source": [
    "### The Series Object"
   ]
  },
  {
   "cell_type": "markdown",
   "metadata": {},
   "source": [
    "The Series object represents a column or a row of data. You can think of it as a vector or a list if that helps. You can also think of a DataFrame as a collection of columns, each of which are Series objects.\n",
    "\n",
    "As you work with Pandas, you will discover that accomplishing most of the tasks described above (e.g. selecting rows from a DataFrame) requires you to work with Series. If that doesn't make sense at this time, don't worry. We'll elaborate later.\n",
    "\n",
    "Following is a snapshot of a Series object. Specifically, it's a snapshot of the first column of the DataFrame shown above."
   ]
  },
  {
   "cell_type": "markdown",
   "metadata": {},
   "source": [
    "![alt text](imgs/series_image.png \"Snapshot of sample Series\")"
   ]
  },
  {
   "cell_type": "markdown",
   "metadata": {},
   "source": [
    "## Learning Pandas on Your Own"
   ]
  },
  {
   "cell_type": "markdown",
   "metadata": {},
   "source": [
    "Pandas is a very powerful, but very complex library. It has myriad features and we will only teach you a small subset of those features. While we will show you most of what you need to know to complete the assignments for ACCY 570, it is likely you will need to learn new features when using Pandas on your own. Even in ACCY 570, it might not be obvious how to perform a task in Pandas. When you find yourself in that situation, you will likely start searching on the web.\n",
    "\n",
    "We recommend you consult the following resources, _in this order_, before you start doing Google searches.\n",
    "* [10 minutes to pandas](https://pandas.pydata.org/docs/user_guide/10min.html). This is part of the official Pandas documentation. I have no idea why its authors think it will take 10 minutes. Prepare to spend at least 30! However, this guide does a good job of walking you through the basics of Pandas.\n",
    "* [Pandas Cookbook](https://pandas.pydata.org/pandas-docs/stable/user_guide/cookbook.html). This is part of the official Pandas documentation and shows you the \"right way\" to accomplish common tasks in Pandas.\n",
    "* [Python Pandas Tutorial](https://www.tutorialspoint.com/python_pandas/index.htm). The web site TutorialsPoint is a great resource for Pandas and for programming in general. Their Pandas tutorial is well-organized and easy to follow.\n",
    "* [Pandas course @ DataCamp](https://www.datacamp.com/courses/pandas-foundations). The website DataCamp has great classes on data science. Their _pandas Foundations_ course is interactive and very well done. However, you have to pay (about $\\$30$ per month) and the course will take about 4 hours.\n",
    "* [Pandas Getting started tutorials](https://pandas.pydata.org/docs/getting_started/intro_tutorials/index.html)\n",
    "* [Official Pandas documentation](https://pandas.pydata.org/docs/user_guide/index.html).\n",
    "    - The good news is that the documentation is comprehensive.\n",
    "    - The bad news is that the documentation isn't always easy to understand, and isn't easy to search.\n",
    "* Do a Google search for a specific Pandas function, e.g. the first result in a Google search for \"pandas dataframe sample\" will lead you to the correct page at the Pandas documentation.\n",
    "* Do a general Google search. Chances are you will be taken to a page at the website Stack Overflow. Some of the advice there is excellent. Some isn't very good. \n",
    "    - Check the date of the post. The Pandas library has been updated many times in recent years and sometimes old code no longer works."
   ]
  }
 ],
 "metadata": {
  "kernelspec": {
   "display_name": "Python 3 (ipykernel)",
   "language": "python",
   "name": "python3"
  },
  "language_info": {
   "codemirror_mode": {
    "name": "ipython",
    "version": 3
   },
   "file_extension": ".py",
   "mimetype": "text/x-python",
   "name": "python",
   "nbconvert_exporter": "python",
   "pygments_lexer": "ipython3",
   "version": "3.11.9"
  }
 },
 "nbformat": 4,
 "nbformat_minor": 4
}