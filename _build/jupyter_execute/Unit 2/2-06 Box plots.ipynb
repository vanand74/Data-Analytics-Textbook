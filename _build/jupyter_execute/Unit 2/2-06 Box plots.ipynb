{
 "cells": [
  {
   "cell_type": "markdown",
   "id": "fe9c9a9d-7688-4b0a-92ce-3d74ed929d73",
   "metadata": {},
   "source": [
    "# Box Plots"
   ]
  },
  {
   "cell_type": "markdown",
   "id": "09b499ba-8f1c-4f6f-8b80-6144f63bc820",
   "metadata": {},
   "source": [
    "## Box Plot (Sometimes Called a Box and Whisker Plot >^..^<)"
   ]
  },
  {
   "cell_type": "markdown",
   "id": "c15bf5d0-613f-40e2-a3ea-789e479a4070",
   "metadata": {},
   "source": [
    "### What is a Box Plot?"
   ]
  },
  {
   "cell_type": "markdown",
   "id": "d00f042c-1b0b-4f3f-88d2-9eba8dac2423",
   "metadata": {},
   "source": [
    "A box plot shows the ranges of the data. Before we can show you a box plot, we need to define the word \"quartile\". A quartile is one quarter (one fourth) of the data. There are special names for the numbers that separate quartiles: \n",
    "* The number $Q_1$ is the boundary between the first and second quartiles. $Q_1$ is the 25th percentile of the data. All data points less than $Q_1$ are in the first quartile. \n",
    "* The number $Q_2$ is called the median. Half of the data is less than the median and the other half is greater than the media. Data values between $Q_1$ and $Q_2$ are in the second quartile. \n",
    "* The number $Q_3$ is the boundary between the third and fourth quartiles. Data values between $Q_2$ (the median) and $Q_3$ are in the third quartile. \n",
    "* Data values greater than $Q_3$ are in the fourth quartile. \n",
    "\n",
    "We summarize these definitions in the following table:\n",
    "\n",
    "| Quartile | Range |\n",
    "| ----- | ----- |\n",
    "| First quartile | Data values less than the 25th percentile $Q_1$ value |\n",
    "| Second quartile | Data values between the 25th and 50th percentile values (between $Q_1$ and $Q_2$) |\n",
    "| Third quartile | Data values between the 50th and 75th percentile values (between $Q_2$ and $Q_3$) |\n",
    "| Fourth quartile | Data values greater than the 75th percentile $Q_3$ value |\n",
    "\n",
    "\n",
    "A box plot displays the second and third quartiles with adjacent rectangles that form a \"box\". The boundary between the second and third quartiles (i.e. the median value, $Q_2$) is shown as a line between these two rectangles. The edges of the box are the 25th and 75th percentiles of the data ($Q_1$ and $Q_3$). Finally, there are two lines that jut out of the sides of the box, like whiskers; one line stretches from the minimum value of the data to the 25th percentile, and the other line stretches from the maximum value of the data to the 75th percentile. You can see an example of a single box plot in Illustration 1.\n",
    "\n",
    "#### Illustration 1 Single Box Plot Example\n",
    "![](imgs/Box1_new3.png)\n",
    "\n",
    "Illustration 1 presents the box plot for the daily high temperatures from 2009-2019 in Champaign, IL. The lower whisker extends from the lowest temperature recorded in the 10 year period of -4&#176;F to the 25th percentile of 46&#176;F. This means that one quarter of the daily temperatures were between -4&#176;F to 46&#176;F. The lower end of the box ($Q_1$, sometimes called the lower hinge) is the 25th percentile, and the upper end of the box ($Q_3$, sometimes called the upper hinge) is the 75th percentile. Half of the data fall in the box of a box plot, which means half of the daily temperatures were between 46&#176;F and 82&#176;F. There is also a line running through the center of the box that represents the median of the data ($Q_2$). This means the median high recorded in the past 10 years was 66&#176;F. Finally, the upper whisker extends from the 75th percentile to the maximum recorded temperature for the 10 year period. This means that one quarter of the daily temperatures were between 82&#176;F and 101&#176;F.<sup>4</sup>\n",
    "\n",
    "Box plots can also have multiple boxes if you also have a categorical variable in addition to a continuous or discrete variable. For example, let's say you are given a list of Accounts Payable transactions for a company that has 5 reporting units. The continuous variable is the transaction value and the categorical variable is the reporting unit (A, B, C, D or E). To examine the individual reporting units, you can create a box for each category or reporting unit as seen in Illustration 2.\n",
    "\n",
    "#### Illustration 2 Multiple Box Plot Example\n",
    "![](imgs/Box2.png)\n",
    "\n",
    "Illustration 2 presents multiple box plots. Each separate box plot represents a different category or reporting unit. For each reporting unit the respective box and whiskers displays the min, max, median, 25th percentile and 75th percentile. Also, you will note that box plots can be displayed as horizontal as in Illustration 1 or vertical as in this illustration. Another characteristic box plots may or may not have are dots to represent each observation or data point. This illustration displays the dots for each observation, while Illustration 1 does not display the dots. "
   ]
  },
  {
   "cell_type": "markdown",
   "id": "01ceb0a1-52c8-473d-a01b-e21fd7d8cee7",
   "metadata": {},
   "source": [
    "### When to Use a Box Plot"
   ]
  },
  {
   "cell_type": "markdown",
   "id": "05108b08-8c5d-4b06-9a50-d295a577a926",
   "metadata": {},
   "source": [
    "A box plot is useful for understanding the distribution of your data. Specifically, a box plot will show you several important features of your data: the median, min, max, 25th percentile and 75th percentile. A box plot displays where most of your data falls, which is useful when looking for outliers. You can identify an outlier if at the end of a whisker there is a gap with no dots and then a few dots at the end of the whisker. Sometimes outliers fall on both sides of the distribution, and other times the outliers only fall on one side of the distribution. Box plots can also tell you if your distribution is skewed in one direction. For example if the box is closer to one end of a whisker than another. \n",
    "\n",
    "Box plots and histograms are complements. The histogram shows you the \"shape\" of your data, i.e. the ranges in which the data fall. A box plot also shows you the distribution of your data, but partially summarizes the data. When examining your data, it is useful to use both types of graphs. However, when presenting your data, especially to non-technical audiences, you should consider which of these two graph types will best communicate your findings. \n",
    "\n",
    "Box plots can also be used for comparisons. Specifically, you can use box plots to compare the distribution of data across categories. For example, if we again turn to Illustration 2, you can see that Units A, B, C and E have somewhat similar distributions, while Unit D appears to have some transactions that are much higher than the other reporting units. From an auditor's perspective, if these reporting units are supposed to be fairly similar, then an auditor might choose to investigate the outlying transactions in Reporting Unit D. "
   ]
  },
  {
   "cell_type": "markdown",
   "id": "87025b0a-3c7d-436e-9179-927acd5a1f53",
   "metadata": {},
   "source": [
    "## Box Plots in Bokeh"
   ]
  },
  {
   "cell_type": "markdown",
   "id": "601ad915-7eea-4394-b9da-b2c076626e86",
   "metadata": {},
   "source": [
    "### Review of Box Plots"
   ]
  },
  {
   "cell_type": "markdown",
   "id": "6a05e72d-ebfb-4743-80d0-733ef86a0946",
   "metadata": {},
   "source": [
    "Like histograms, box plots provide information about the distribution of your data. However, unlike histograms, box plots provide greater summarization of the data. \n",
    "\n",
    "Box plots (also called box-and-whisker plots) show you the range of your data values through the whiskers. The \"box\" shows you the range of the first, second, and third quartiles of your data. In this section, we will show you how to compute all of that summary information and then render it in a box-and-whisker plot."
   ]
  },
  {
   "cell_type": "markdown",
   "id": "b5620d2d-2eae-480d-9ac7-a801191e666b",
   "metadata": {},
   "source": [
    "### How to Create a Box Plot"
   ]
  },
  {
   "cell_type": "markdown",
   "id": "f415fa54-c121-4af7-a796-a42c608ebb02",
   "metadata": {},
   "source": [
    "#### Pseudo-Code for Creating a Box Plot"
   ]
  },
  {
   "cell_type": "markdown",
   "id": "74d7f843-d882-4dbd-b88e-700c184dc2ae",
   "metadata": {},
   "source": [
    "It's time for you to learn how to create a box plot. Let's begin with the pseudo-code. Say you have a list of data values stored in the variable `mydata`. Starting with that list, here are the steps for creating a box plot:\n",
    "1. Sort the data in ascending order.\n",
    "2. Compute the maximum and minimum values.\n",
    "3. Compute the first, second, and third quartile values ($Q_1$, $Q_2$ (median), and $Q_3$, respectively). As a reminder, $Q_1$ is the 25th percentile, $Q_2$ is the 50th percentile, and $Q_3$ is the 75th percentile.\n",
    "    - To compute the $k^{th}$ percentile, multiply $k$ percent by the number of values in `mydata`. Call this result _p_\n",
    "    - If _p_ is not a whole number, round _p_ up to the nearest whole number. Element _p_ of your list is the $k^{th}$ percentile value.\n",
    "    - If _p_ is a whole number, the $k^{th}$ percentile value is the average of elements _p_ and _p+1_. \n",
    "4. Create the box plot.\n",
    "    - Draw a rectangle from the 25th to the 50th percentile values ($Q_1$ and $Q_2$). \n",
    "    - Draw another rectangle from the 50th to the 75th percentile values ($Q_2$ and $Q_3$).\n",
    "    - Draw a whisker from the minimum value to the $Q_1$ value.\n",
    "    - Draw a whisker from the $Q_3$ value to the maximum value."
   ]
  },
  {
   "cell_type": "markdown",
   "id": "5b74b2f6-18d3-46ac-94f5-4e284aab323d",
   "metadata": {},
   "source": [
    "#### Sample Box Plot: Champaign Temperature Data"
   ]
  },
  {
   "cell_type": "markdown",
   "id": "3ffaf719-d99a-45fa-8cab-5d1f2659c536",
   "metadata": {},
   "source": [
    "In this example, we will examine the daily average temperature in Champaign, IL since 2009. Let's begin by loading the data from an Excel file. \n",
    "\n",
    "Run the following code cell. It uses Pandas, so don't worry if the code is unclear to you. When it's done, the temperature data will be stored in a list called `mydata`."
   ]
  },
  {
   "cell_type": "code",
   "execution_count": 1,
   "id": "ba3ebad0-cd0b-46a6-84c9-cb647fa6f220",
   "metadata": {},
   "outputs": [],
   "source": [
    "import pandas as pd\n",
    "import numpy as np\n",
    "\n",
    "df = pd.read_excel('data/WeatherChampaign2009-2019.xlsx')\n",
    "mydata = df.Average.tolist()"
   ]
  },
  {
   "cell_type": "markdown",
   "id": "56d91e9e-db24-4944-ad6d-bda7ea9e5c0c",
   "metadata": {},
   "source": [
    "##### Compute the minimum and maximum values in the data"
   ]
  },
  {
   "cell_type": "markdown",
   "id": "66bb3c06-d820-4e25-ad90-5ef3d4650168",
   "metadata": {},
   "source": [
    "We'll need these to draw the whiskers of the box plot. Run the code cell below."
   ]
  },
  {
   "cell_type": "code",
   "execution_count": 2,
   "id": "8a6d32d2-3de1-4ee5-9365-ad66f620587c",
   "metadata": {},
   "outputs": [],
   "source": [
    "datamax = max(mydata)\n",
    "datamin = min(mydata)"
   ]
  },
  {
   "cell_type": "markdown",
   "id": "e09e11c0-1320-4415-a3e6-aea545e94b4a",
   "metadata": {},
   "source": [
    "##### Compute Q1, Q2, and Q3"
   ]
  },
  {
   "cell_type": "markdown",
   "id": "a6fb6e16-8870-42c0-ad9b-68a0911f07c3",
   "metadata": {},
   "source": [
    "Steps 1-3 of the pseudo-code above provide detailed steps for computing the quantile values $Q_1$, $Q_2$, and $Q_3$. While it is fairly easy to write code to implement those steps, we recommend you use a built-in function instead. The library _NumPy_ provides such a function called _quantile_ and it works nicely. The signature for this function is:\n",
    "\n",
    "```python\n",
    "np.quantile(a, q)\n",
    "```\n",
    "\n",
    "where `a` is a list of data and `q` is a float representing the percentile you want. The number `q` should be between 0.0 and 1.0; for example, 0.25 represents the 25th percentile.\n",
    "\n",
    "In the cell below, we compute the values $Q_1$, $Q_2$, and $Q_3$ using the `quantile` function. Note that you do not have to sort your data before running this function."
   ]
  },
  {
   "cell_type": "code",
   "execution_count": 3,
   "id": "08ece845-db97-4e6e-a2ec-016fbe08e05d",
   "metadata": {},
   "outputs": [
    {
     "name": "stdout",
     "output_type": "stream",
     "text": [
      "Q1: 38.0\n",
      "Q2: 55.0\n",
      "Q3: 71.0\n"
     ]
    }
   ],
   "source": [
    "Q1 = np.quantile(mydata, 0.25)\n",
    "Q2 = np.quantile(mydata, 0.50)\n",
    "Q3 = np.quantile(mydata, 0.75)\n",
    "\n",
    "print(f'Q1: {Q1}\\nQ2: {Q2}\\nQ3: {Q3}')"
   ]
  },
  {
   "cell_type": "markdown",
   "id": "3cfd91a0-e97c-49c9-901e-fbef32a3fba6",
   "metadata": {},
   "source": [
    "##### Draw the Box Plot"
   ]
  },
  {
   "cell_type": "markdown",
   "id": "35b353c5-3c6f-47bd-b48f-8dc48efb8718",
   "metadata": {},
   "source": [
    "In Bokeh, we have to be very explicit. We're going to tell Bokeh to draw a rectangle from $Q_1$ to $Q_2$, the median. We will then tell it to draw another rectange from $Q_2$ to $Q_3$. We will then tell it to draw a line (a whisker) from the minimum value to $Q_1$, and another whisker from $Q_3$ to the maximum value."
   ]
  },
  {
   "cell_type": "code",
   "execution_count": 4,
   "id": "8c1e239b-1dde-4366-a3f9-e198839b6bc0",
   "metadata": {},
   "outputs": [
    {
     "data": {
      "text/html": [
       "    <style>\n",
       "        .bk-notebook-logo {\n",
       "            display: block;\n",
       "            width: 20px;\n",
       "            height: 20px;\n",
       "            background-image: url(data:image/png;base64,iVBORw0KGgoAAAANSUhEUgAAABQAAAAUCAYAAACNiR0NAAAABHNCSVQICAgIfAhkiAAAAAlwSFlzAAALEgAACxIB0t1+/AAAABx0RVh0U29mdHdhcmUAQWRvYmUgRmlyZXdvcmtzIENTNui8sowAAAOkSURBVDiNjZRtaJVlGMd/1/08zzln5zjP1LWcU9N0NkN8m2CYjpgQYQXqSs0I84OLIC0hkEKoPtiH3gmKoiJDU7QpLgoLjLIQCpEsNJ1vqUOdO7ppbuec5+V+rj4ctwzd8IIbbi6u+8f1539dt3A78eXC7QizUF7gyV1fD1Yqg4JWz84yffhm0qkFqBogB9rM8tZdtwVsPUhWhGcFJngGeWrPzHm5oaMmkfEg1usvLFyc8jLRqDOMru7AyC8saQr7GG7f5fvDeH7Ej8CM66nIF+8yngt6HWaKh7k49Soy9nXurCi1o3qUbS3zWfrYeQDTB/Qj6kX6Ybhw4B+bOYoLKCC9H3Nu/leUTZ1JdRWkkn2ldcCamzrcf47KKXdAJllSlxAOkRgyHsGC/zRday5Qld9DyoM4/q/rUoy/CXh3jzOu3bHUVZeU+DEn8FInkPBFlu3+nW3Nw0mk6vCDiWg8CeJaxEwuHS3+z5RgY+YBR6V1Z1nxSOfoaPa4LASWxxdNp+VWTk7+4vzaou8v8PN+xo+KY2xsw6une2frhw05CTYOmQvsEhjhWjn0bmXPjpE1+kplmmkP3suftwTubK9Vq22qKmrBhpY4jvd5afdRA3wGjFAgcnTK2s4hY0/GPNIb0nErGMCRxWOOX64Z8RAC4oCXdklmEvcL8o0BfkNK4lUg9HTl+oPlQxdNo3Mg4Nv175e/1LDGzZen30MEjRUtmXSfiTVu1kK8W4txyV6BMKlbgk3lMwYCiusNy9fVfvvwMxv8Ynl6vxoByANLTWplvuj/nF9m2+PDtt1eiHPBr1oIfhCChQMBw6Aw0UulqTKZdfVvfG7VcfIqLG9bcldL/+pdWTLxLUy8Qq38heUIjh4XlzZxzQm19lLFlr8vdQ97rjZVOLf8nclzckbcD4wxXMidpX30sFd37Fv/GtwwhzhxGVAprjbg0gCAEeIgwCZyTV2Z1REEW8O4py0wsjeloKoMr6iCY6dP92H6Vw/oTyICIthibxjm/DfN9lVz8IqtqKYLUXfoKVMVQVVJOElGjrnnUt9T9wbgp8AyYKaGlqingHZU/uG2NTZSVqwHQTWkx9hxjkpWDaCg6Ckj5qebgBVbT3V3NNXMSiWSDdGV3hrtzla7J+duwPOToIg42ChPQOQjspnSlp1V+Gjdged7+8UN5CRAV7a5EdFNwCjEaBR27b3W890TE7g24NAP/mMDXRWrGoFPQI9ls/MWO2dWFAar/xcOIImbbpA3zgAAAABJRU5ErkJggg==);\n",
       "        }\n",
       "    </style>\n",
       "    <div>\n",
       "        <a href=\"https://bokeh.org\" target=\"_blank\" class=\"bk-notebook-logo\"></a>\n",
       "        <span id=\"a5424870-7b9f-4151-b68c-4a201861d66e\">Loading BokehJS ...</span>\n",
       "    </div>\n"
      ]
     },
     "metadata": {},
     "output_type": "display_data"
    },
    {
     "data": {
      "application/javascript": [
       "'use strict';\n",
       "(function(root) {\n",
       "  function now() {\n",
       "    return new Date();\n",
       "  }\n",
       "\n",
       "  const force = true;\n",
       "\n",
       "  if (typeof root._bokeh_onload_callbacks === \"undefined\" || force === true) {\n",
       "    root._bokeh_onload_callbacks = [];\n",
       "    root._bokeh_is_loading = undefined;\n",
       "  }\n",
       "\n",
       "const JS_MIME_TYPE = 'application/javascript';\n",
       "  const HTML_MIME_TYPE = 'text/html';\n",
       "  const EXEC_MIME_TYPE = 'application/vnd.bokehjs_exec.v0+json';\n",
       "  const CLASS_NAME = 'output_bokeh rendered_html';\n",
       "\n",
       "  /**\n",
       "   * Render data to the DOM node\n",
       "   */\n",
       "  function render(props, node) {\n",
       "    const script = document.createElement(\"script\");\n",
       "    node.appendChild(script);\n",
       "  }\n",
       "\n",
       "  /**\n",
       "   * Handle when an output is cleared or removed\n",
       "   */\n",
       "  function handleClearOutput(event, handle) {\n",
       "    function drop(id) {\n",
       "      const view = Bokeh.index.get_by_id(id)\n",
       "      if (view != null) {\n",
       "        view.model.document.clear()\n",
       "        Bokeh.index.delete(view)\n",
       "      }\n",
       "    }\n",
       "\n",
       "    const cell = handle.cell;\n",
       "\n",
       "    const id = cell.output_area._bokeh_element_id;\n",
       "    const server_id = cell.output_area._bokeh_server_id;\n",
       "\n",
       "    // Clean up Bokeh references\n",
       "    if (id != null) {\n",
       "      drop(id)\n",
       "    }\n",
       "\n",
       "    if (server_id !== undefined) {\n",
       "      // Clean up Bokeh references\n",
       "      const cmd_clean = \"from bokeh.io.state import curstate; print(curstate().uuid_to_server['\" + server_id + \"'].get_sessions()[0].document.roots[0]._id)\";\n",
       "      cell.notebook.kernel.execute(cmd_clean, {\n",
       "        iopub: {\n",
       "          output: function(msg) {\n",
       "            const id = msg.content.text.trim()\n",
       "            drop(id)\n",
       "          }\n",
       "        }\n",
       "      });\n",
       "      // Destroy server and session\n",
       "      const cmd_destroy = \"import bokeh.io.notebook as ion; ion.destroy_server('\" + server_id + \"')\";\n",
       "      cell.notebook.kernel.execute(cmd_destroy);\n",
       "    }\n",
       "  }\n",
       "\n",
       "  /**\n",
       "   * Handle when a new output is added\n",
       "   */\n",
       "  function handleAddOutput(event, handle) {\n",
       "    const output_area = handle.output_area;\n",
       "    const output = handle.output;\n",
       "\n",
       "    // limit handleAddOutput to display_data with EXEC_MIME_TYPE content only\n",
       "    if ((output.output_type != \"display_data\") || (!Object.prototype.hasOwnProperty.call(output.data, EXEC_MIME_TYPE))) {\n",
       "      return\n",
       "    }\n",
       "\n",
       "    const toinsert = output_area.element.find(\".\" + CLASS_NAME.split(' ')[0]);\n",
       "\n",
       "    if (output.metadata[EXEC_MIME_TYPE][\"id\"] !== undefined) {\n",
       "      toinsert[toinsert.length - 1].firstChild.textContent = output.data[JS_MIME_TYPE];\n",
       "      // store reference to embed id on output_area\n",
       "      output_area._bokeh_element_id = output.metadata[EXEC_MIME_TYPE][\"id\"];\n",
       "    }\n",
       "    if (output.metadata[EXEC_MIME_TYPE][\"server_id\"] !== undefined) {\n",
       "      const bk_div = document.createElement(\"div\");\n",
       "      bk_div.innerHTML = output.data[HTML_MIME_TYPE];\n",
       "      const script_attrs = bk_div.children[0].attributes;\n",
       "      for (let i = 0; i < script_attrs.length; i++) {\n",
       "        toinsert[toinsert.length - 1].firstChild.setAttribute(script_attrs[i].name, script_attrs[i].value);\n",
       "        toinsert[toinsert.length - 1].firstChild.textContent = bk_div.children[0].textContent\n",
       "      }\n",
       "      // store reference to server id on output_area\n",
       "      output_area._bokeh_server_id = output.metadata[EXEC_MIME_TYPE][\"server_id\"];\n",
       "    }\n",
       "  }\n",
       "\n",
       "  function register_renderer(events, OutputArea) {\n",
       "\n",
       "    function append_mime(data, metadata, element) {\n",
       "      // create a DOM node to render to\n",
       "      const toinsert = this.create_output_subarea(\n",
       "        metadata,\n",
       "        CLASS_NAME,\n",
       "        EXEC_MIME_TYPE\n",
       "      );\n",
       "      this.keyboard_manager.register_events(toinsert);\n",
       "      // Render to node\n",
       "      const props = {data: data, metadata: metadata[EXEC_MIME_TYPE]};\n",
       "      render(props, toinsert[toinsert.length - 1]);\n",
       "      element.append(toinsert);\n",
       "      return toinsert\n",
       "    }\n",
       "\n",
       "    /* Handle when an output is cleared or removed */\n",
       "    events.on('clear_output.CodeCell', handleClearOutput);\n",
       "    events.on('delete.Cell', handleClearOutput);\n",
       "\n",
       "    /* Handle when a new output is added */\n",
       "    events.on('output_added.OutputArea', handleAddOutput);\n",
       "\n",
       "    /**\n",
       "     * Register the mime type and append_mime function with output_area\n",
       "     */\n",
       "    OutputArea.prototype.register_mime_type(EXEC_MIME_TYPE, append_mime, {\n",
       "      /* Is output safe? */\n",
       "      safe: true,\n",
       "      /* Index of renderer in `output_area.display_order` */\n",
       "      index: 0\n",
       "    });\n",
       "  }\n",
       "\n",
       "  // register the mime type if in Jupyter Notebook environment and previously unregistered\n",
       "  if (root.Jupyter !== undefined) {\n",
       "    const events = require('base/js/events');\n",
       "    const OutputArea = require('notebook/js/outputarea').OutputArea;\n",
       "\n",
       "    if (OutputArea.prototype.mime_types().indexOf(EXEC_MIME_TYPE) == -1) {\n",
       "      register_renderer(events, OutputArea);\n",
       "    }\n",
       "  }\n",
       "  if (typeof (root._bokeh_timeout) === \"undefined\" || force === true) {\n",
       "    root._bokeh_timeout = Date.now() + 5000;\n",
       "    root._bokeh_failed_load = false;\n",
       "  }\n",
       "\n",
       "  const NB_LOAD_WARNING = {'data': {'text/html':\n",
       "     \"<div style='background-color: #fdd'>\\n\"+\n",
       "     \"<p>\\n\"+\n",
       "     \"BokehJS does not appear to have successfully loaded. If loading BokehJS from CDN, this \\n\"+\n",
       "     \"may be due to a slow or bad network connection. Possible fixes:\\n\"+\n",
       "     \"</p>\\n\"+\n",
       "     \"<ul>\\n\"+\n",
       "     \"<li>re-rerun `output_notebook()` to attempt to load from CDN again, or</li>\\n\"+\n",
       "     \"<li>use INLINE resources instead, as so:</li>\\n\"+\n",
       "     \"</ul>\\n\"+\n",
       "     \"<code>\\n\"+\n",
       "     \"from bokeh.resources import INLINE\\n\"+\n",
       "     \"output_notebook(resources=INLINE)\\n\"+\n",
       "     \"</code>\\n\"+\n",
       "     \"</div>\"}};\n",
       "\n",
       "  function display_loaded(error = null) {\n",
       "    const el = document.getElementById(\"a5424870-7b9f-4151-b68c-4a201861d66e\");\n",
       "    if (el != null) {\n",
       "      const html = (() => {\n",
       "        if (typeof root.Bokeh === \"undefined\") {\n",
       "          if (error == null) {\n",
       "            return \"BokehJS is loading ...\";\n",
       "          } else {\n",
       "            return \"BokehJS failed to load.\";\n",
       "          }\n",
       "        } else {\n",
       "          const prefix = `BokehJS ${root.Bokeh.version}`;\n",
       "          if (error == null) {\n",
       "            return `${prefix} successfully loaded.`;\n",
       "          } else {\n",
       "            return `${prefix} <b>encountered errors</b> while loading and may not function as expected.`;\n",
       "          }\n",
       "        }\n",
       "      })();\n",
       "      el.innerHTML = html;\n",
       "\n",
       "      if (error != null) {\n",
       "        const wrapper = document.createElement(\"div\");\n",
       "        wrapper.style.overflow = \"auto\";\n",
       "        wrapper.style.height = \"5em\";\n",
       "        wrapper.style.resize = \"vertical\";\n",
       "        const content = document.createElement(\"div\");\n",
       "        content.style.fontFamily = \"monospace\";\n",
       "        content.style.whiteSpace = \"pre-wrap\";\n",
       "        content.style.backgroundColor = \"rgb(255, 221, 221)\";\n",
       "        content.textContent = error.stack ?? error.toString();\n",
       "        wrapper.append(content);\n",
       "        el.append(wrapper);\n",
       "      }\n",
       "    } else if (Date.now() < root._bokeh_timeout) {\n",
       "      setTimeout(() => display_loaded(error), 100);\n",
       "    }\n",
       "  }\n",
       "\n",
       "  function run_callbacks() {\n",
       "    try {\n",
       "      root._bokeh_onload_callbacks.forEach(function(callback) {\n",
       "        if (callback != null)\n",
       "          callback();\n",
       "      });\n",
       "    } finally {\n",
       "      delete root._bokeh_onload_callbacks\n",
       "    }\n",
       "    console.debug(\"Bokeh: all callbacks have finished\");\n",
       "  }\n",
       "\n",
       "  function load_libs(css_urls, js_urls, callback) {\n",
       "    if (css_urls == null) css_urls = [];\n",
       "    if (js_urls == null) js_urls = [];\n",
       "\n",
       "    root._bokeh_onload_callbacks.push(callback);\n",
       "    if (root._bokeh_is_loading > 0) {\n",
       "      console.debug(\"Bokeh: BokehJS is being loaded, scheduling callback at\", now());\n",
       "      return null;\n",
       "    }\n",
       "    if (js_urls == null || js_urls.length === 0) {\n",
       "      run_callbacks();\n",
       "      return null;\n",
       "    }\n",
       "    console.debug(\"Bokeh: BokehJS not loaded, scheduling load and callback at\", now());\n",
       "    root._bokeh_is_loading = css_urls.length + js_urls.length;\n",
       "\n",
       "    function on_load() {\n",
       "      root._bokeh_is_loading--;\n",
       "      if (root._bokeh_is_loading === 0) {\n",
       "        console.debug(\"Bokeh: all BokehJS libraries/stylesheets loaded\");\n",
       "        run_callbacks()\n",
       "      }\n",
       "    }\n",
       "\n",
       "    function on_error(url) {\n",
       "      console.error(\"failed to load \" + url);\n",
       "    }\n",
       "\n",
       "    for (let i = 0; i < css_urls.length; i++) {\n",
       "      const url = css_urls[i];\n",
       "      const element = document.createElement(\"link\");\n",
       "      element.onload = on_load;\n",
       "      element.onerror = on_error.bind(null, url);\n",
       "      element.rel = \"stylesheet\";\n",
       "      element.type = \"text/css\";\n",
       "      element.href = url;\n",
       "      console.debug(\"Bokeh: injecting link tag for BokehJS stylesheet: \", url);\n",
       "      document.body.appendChild(element);\n",
       "    }\n",
       "\n",
       "    for (let i = 0; i < js_urls.length; i++) {\n",
       "      const url = js_urls[i];\n",
       "      const element = document.createElement('script');\n",
       "      element.onload = on_load;\n",
       "      element.onerror = on_error.bind(null, url);\n",
       "      element.async = false;\n",
       "      element.src = url;\n",
       "      console.debug(\"Bokeh: injecting script tag for BokehJS library: \", url);\n",
       "      document.head.appendChild(element);\n",
       "    }\n",
       "  };\n",
       "\n",
       "  function inject_raw_css(css) {\n",
       "    const element = document.createElement(\"style\");\n",
       "    element.appendChild(document.createTextNode(css));\n",
       "    document.body.appendChild(element);\n",
       "  }\n",
       "\n",
       "  const js_urls = [\"https://cdn.bokeh.org/bokeh/release/bokeh-3.4.2.min.js\", \"https://cdn.bokeh.org/bokeh/release/bokeh-gl-3.4.2.min.js\", \"https://cdn.bokeh.org/bokeh/release/bokeh-widgets-3.4.2.min.js\", \"https://cdn.bokeh.org/bokeh/release/bokeh-tables-3.4.2.min.js\", \"https://cdn.bokeh.org/bokeh/release/bokeh-mathjax-3.4.2.min.js\"];\n",
       "  const css_urls = [];\n",
       "\n",
       "  const inline_js = [    function(Bokeh) {\n",
       "      Bokeh.set_log_level(\"info\");\n",
       "    },\n",
       "function(Bokeh) {\n",
       "    }\n",
       "  ];\n",
       "\n",
       "  function run_inline_js() {\n",
       "    if (root.Bokeh !== undefined || force === true) {\n",
       "      try {\n",
       "            for (let i = 0; i < inline_js.length; i++) {\n",
       "      inline_js[i].call(root, root.Bokeh);\n",
       "    }\n",
       "\n",
       "      } catch (error) {display_loaded(error);throw error;\n",
       "      }if (force === true) {\n",
       "        display_loaded();\n",
       "      }} else if (Date.now() < root._bokeh_timeout) {\n",
       "      setTimeout(run_inline_js, 100);\n",
       "    } else if (!root._bokeh_failed_load) {\n",
       "      console.log(\"Bokeh: BokehJS failed to load within specified timeout.\");\n",
       "      root._bokeh_failed_load = true;\n",
       "    } else if (force !== true) {\n",
       "      const cell = $(document.getElementById(\"a5424870-7b9f-4151-b68c-4a201861d66e\")).parents('.cell').data().cell;\n",
       "      cell.output_area.append_execute_result(NB_LOAD_WARNING)\n",
       "    }\n",
       "  }\n",
       "\n",
       "  if (root._bokeh_is_loading === 0) {\n",
       "    console.debug(\"Bokeh: BokehJS loaded, going straight to plotting\");\n",
       "    run_inline_js();\n",
       "  } else {\n",
       "    load_libs(css_urls, js_urls, function() {\n",
       "      console.debug(\"Bokeh: BokehJS plotting callback run at\", now());\n",
       "      run_inline_js();\n",
       "    });\n",
       "  }\n",
       "}(window));"
      ],
      "application/vnd.bokehjs_load.v0+json": "'use strict';\n(function(root) {\n  function now() {\n    return new Date();\n  }\n\n  const force = true;\n\n  if (typeof root._bokeh_onload_callbacks === \"undefined\" || force === true) {\n    root._bokeh_onload_callbacks = [];\n    root._bokeh_is_loading = undefined;\n  }\n\n\n  if (typeof (root._bokeh_timeout) === \"undefined\" || force === true) {\n    root._bokeh_timeout = Date.now() + 5000;\n    root._bokeh_failed_load = false;\n  }\n\n  const NB_LOAD_WARNING = {'data': {'text/html':\n     \"<div style='background-color: #fdd'>\\n\"+\n     \"<p>\\n\"+\n     \"BokehJS does not appear to have successfully loaded. If loading BokehJS from CDN, this \\n\"+\n     \"may be due to a slow or bad network connection. Possible fixes:\\n\"+\n     \"</p>\\n\"+\n     \"<ul>\\n\"+\n     \"<li>re-rerun `output_notebook()` to attempt to load from CDN again, or</li>\\n\"+\n     \"<li>use INLINE resources instead, as so:</li>\\n\"+\n     \"</ul>\\n\"+\n     \"<code>\\n\"+\n     \"from bokeh.resources import INLINE\\n\"+\n     \"output_notebook(resources=INLINE)\\n\"+\n     \"</code>\\n\"+\n     \"</div>\"}};\n\n  function display_loaded(error = null) {\n    const el = document.getElementById(\"a5424870-7b9f-4151-b68c-4a201861d66e\");\n    if (el != null) {\n      const html = (() => {\n        if (typeof root.Bokeh === \"undefined\") {\n          if (error == null) {\n            return \"BokehJS is loading ...\";\n          } else {\n            return \"BokehJS failed to load.\";\n          }\n        } else {\n          const prefix = `BokehJS ${root.Bokeh.version}`;\n          if (error == null) {\n            return `${prefix} successfully loaded.`;\n          } else {\n            return `${prefix} <b>encountered errors</b> while loading and may not function as expected.`;\n          }\n        }\n      })();\n      el.innerHTML = html;\n\n      if (error != null) {\n        const wrapper = document.createElement(\"div\");\n        wrapper.style.overflow = \"auto\";\n        wrapper.style.height = \"5em\";\n        wrapper.style.resize = \"vertical\";\n        const content = document.createElement(\"div\");\n        content.style.fontFamily = \"monospace\";\n        content.style.whiteSpace = \"pre-wrap\";\n        content.style.backgroundColor = \"rgb(255, 221, 221)\";\n        content.textContent = error.stack ?? error.toString();\n        wrapper.append(content);\n        el.append(wrapper);\n      }\n    } else if (Date.now() < root._bokeh_timeout) {\n      setTimeout(() => display_loaded(error), 100);\n    }\n  }\n\n  function run_callbacks() {\n    try {\n      root._bokeh_onload_callbacks.forEach(function(callback) {\n        if (callback != null)\n          callback();\n      });\n    } finally {\n      delete root._bokeh_onload_callbacks\n    }\n    console.debug(\"Bokeh: all callbacks have finished\");\n  }\n\n  function load_libs(css_urls, js_urls, callback) {\n    if (css_urls == null) css_urls = [];\n    if (js_urls == null) js_urls = [];\n\n    root._bokeh_onload_callbacks.push(callback);\n    if (root._bokeh_is_loading > 0) {\n      console.debug(\"Bokeh: BokehJS is being loaded, scheduling callback at\", now());\n      return null;\n    }\n    if (js_urls == null || js_urls.length === 0) {\n      run_callbacks();\n      return null;\n    }\n    console.debug(\"Bokeh: BokehJS not loaded, scheduling load and callback at\", now());\n    root._bokeh_is_loading = css_urls.length + js_urls.length;\n\n    function on_load() {\n      root._bokeh_is_loading--;\n      if (root._bokeh_is_loading === 0) {\n        console.debug(\"Bokeh: all BokehJS libraries/stylesheets loaded\");\n        run_callbacks()\n      }\n    }\n\n    function on_error(url) {\n      console.error(\"failed to load \" + url);\n    }\n\n    for (let i = 0; i < css_urls.length; i++) {\n      const url = css_urls[i];\n      const element = document.createElement(\"link\");\n      element.onload = on_load;\n      element.onerror = on_error.bind(null, url);\n      element.rel = \"stylesheet\";\n      element.type = \"text/css\";\n      element.href = url;\n      console.debug(\"Bokeh: injecting link tag for BokehJS stylesheet: \", url);\n      document.body.appendChild(element);\n    }\n\n    for (let i = 0; i < js_urls.length; i++) {\n      const url = js_urls[i];\n      const element = document.createElement('script');\n      element.onload = on_load;\n      element.onerror = on_error.bind(null, url);\n      element.async = false;\n      element.src = url;\n      console.debug(\"Bokeh: injecting script tag for BokehJS library: \", url);\n      document.head.appendChild(element);\n    }\n  };\n\n  function inject_raw_css(css) {\n    const element = document.createElement(\"style\");\n    element.appendChild(document.createTextNode(css));\n    document.body.appendChild(element);\n  }\n\n  const js_urls = [\"https://cdn.bokeh.org/bokeh/release/bokeh-3.4.2.min.js\", \"https://cdn.bokeh.org/bokeh/release/bokeh-gl-3.4.2.min.js\", \"https://cdn.bokeh.org/bokeh/release/bokeh-widgets-3.4.2.min.js\", \"https://cdn.bokeh.org/bokeh/release/bokeh-tables-3.4.2.min.js\", \"https://cdn.bokeh.org/bokeh/release/bokeh-mathjax-3.4.2.min.js\"];\n  const css_urls = [];\n\n  const inline_js = [    function(Bokeh) {\n      Bokeh.set_log_level(\"info\");\n    },\nfunction(Bokeh) {\n    }\n  ];\n\n  function run_inline_js() {\n    if (root.Bokeh !== undefined || force === true) {\n      try {\n            for (let i = 0; i < inline_js.length; i++) {\n      inline_js[i].call(root, root.Bokeh);\n    }\n\n      } catch (error) {display_loaded(error);throw error;\n      }if (force === true) {\n        display_loaded();\n      }} else if (Date.now() < root._bokeh_timeout) {\n      setTimeout(run_inline_js, 100);\n    } else if (!root._bokeh_failed_load) {\n      console.log(\"Bokeh: BokehJS failed to load within specified timeout.\");\n      root._bokeh_failed_load = true;\n    } else if (force !== true) {\n      const cell = $(document.getElementById(\"a5424870-7b9f-4151-b68c-4a201861d66e\")).parents('.cell').data().cell;\n      cell.output_area.append_execute_result(NB_LOAD_WARNING)\n    }\n  }\n\n  if (root._bokeh_is_loading === 0) {\n    console.debug(\"Bokeh: BokehJS loaded, going straight to plotting\");\n    run_inline_js();\n  } else {\n    load_libs(css_urls, js_urls, function() {\n      console.debug(\"Bokeh: BokehJS plotting callback run at\", now());\n      run_inline_js();\n    });\n  }\n}(window));"
     },
     "metadata": {},
     "output_type": "display_data"
    }
   ],
   "source": [
    "from bokeh.plotting import figure, show\n",
    "from bokeh.io import output_notebook\n",
    "output_notebook()"
   ]
  },
  {
   "cell_type": "code",
   "execution_count": 5,
   "id": "345aa672-a2a0-4f11-8697-4d1fb723816b",
   "metadata": {},
   "outputs": [
    {
     "data": {
      "text/html": [
       "\n",
       "  <div id=\"cb22b465-a9b2-4641-bf82-b9c4101a69b9\" data-root-id=\"p1001\" style=\"display: contents;\"></div>\n"
      ]
     },
     "metadata": {},
     "output_type": "display_data"
    },
    {
     "data": {
      "application/javascript": [
       "(function(root) {\n",
       "  function embed_document(root) {\n",
       "  const docs_json = {\"867c90d5-aed1-4e2f-aacd-9234f8d59bba\":{\"version\":\"3.4.2\",\"title\":\"Bokeh Application\",\"roots\":[{\"type\":\"object\",\"name\":\"Figure\",\"id\":\"p1001\",\"attributes\":{\"width\":400,\"height\":400,\"x_range\":{\"type\":\"object\",\"name\":\"Range1d\",\"id\":\"p1011\",\"attributes\":{\"start\":-1}},\"y_range\":{\"type\":\"object\",\"name\":\"DataRange1d\",\"id\":\"p1003\"},\"x_scale\":{\"type\":\"object\",\"name\":\"LinearScale\",\"id\":\"p1012\"},\"y_scale\":{\"type\":\"object\",\"name\":\"LinearScale\",\"id\":\"p1013\"},\"title\":{\"type\":\"object\",\"name\":\"Title\",\"id\":\"p1004\",\"attributes\":{\"text\":\"Champaign daily average temperature, 2009 - 2019\"}},\"renderers\":[{\"type\":\"object\",\"name\":\"GlyphRenderer\",\"id\":\"p1041\",\"attributes\":{\"data_source\":{\"type\":\"object\",\"name\":\"ColumnDataSource\",\"id\":\"p1035\",\"attributes\":{\"selected\":{\"type\":\"object\",\"name\":\"Selection\",\"id\":\"p1036\",\"attributes\":{\"indices\":[],\"line_indices\":[]}},\"selection_policy\":{\"type\":\"object\",\"name\":\"UnionRenderers\",\"id\":\"p1037\"},\"data\":{\"type\":\"map\"}}},\"view\":{\"type\":\"object\",\"name\":\"CDSView\",\"id\":\"p1042\",\"attributes\":{\"filter\":{\"type\":\"object\",\"name\":\"AllIndices\",\"id\":\"p1043\"}}},\"glyph\":{\"type\":\"object\",\"name\":\"VBar\",\"id\":\"p1038\",\"attributes\":{\"x\":{\"type\":\"value\",\"value\":0},\"width\":{\"type\":\"value\",\"value\":0.55},\"bottom\":{\"type\":\"value\",\"value\":71.0},\"top\":{\"type\":\"value\",\"value\":55.0},\"fill_color\":{\"type\":\"value\",\"value\":\"#E08E79\"}}},\"nonselection_glyph\":{\"type\":\"object\",\"name\":\"VBar\",\"id\":\"p1039\",\"attributes\":{\"x\":{\"type\":\"value\",\"value\":0},\"width\":{\"type\":\"value\",\"value\":0.55},\"bottom\":{\"type\":\"value\",\"value\":71.0},\"top\":{\"type\":\"value\",\"value\":55.0},\"line_alpha\":{\"type\":\"value\",\"value\":0.1},\"fill_color\":{\"type\":\"value\",\"value\":\"#E08E79\"},\"fill_alpha\":{\"type\":\"value\",\"value\":0.1},\"hatch_alpha\":{\"type\":\"value\",\"value\":0.1}}},\"muted_glyph\":{\"type\":\"object\",\"name\":\"VBar\",\"id\":\"p1040\",\"attributes\":{\"x\":{\"type\":\"value\",\"value\":0},\"width\":{\"type\":\"value\",\"value\":0.55},\"bottom\":{\"type\":\"value\",\"value\":71.0},\"top\":{\"type\":\"value\",\"value\":55.0},\"line_alpha\":{\"type\":\"value\",\"value\":0.2},\"fill_color\":{\"type\":\"value\",\"value\":\"#E08E79\"},\"fill_alpha\":{\"type\":\"value\",\"value\":0.2},\"hatch_alpha\":{\"type\":\"value\",\"value\":0.2}}}}},{\"type\":\"object\",\"name\":\"GlyphRenderer\",\"id\":\"p1050\",\"attributes\":{\"data_source\":{\"type\":\"object\",\"name\":\"ColumnDataSource\",\"id\":\"p1044\",\"attributes\":{\"selected\":{\"type\":\"object\",\"name\":\"Selection\",\"id\":\"p1045\",\"attributes\":{\"indices\":[],\"line_indices\":[]}},\"selection_policy\":{\"type\":\"object\",\"name\":\"UnionRenderers\",\"id\":\"p1046\"},\"data\":{\"type\":\"map\"}}},\"view\":{\"type\":\"object\",\"name\":\"CDSView\",\"id\":\"p1051\",\"attributes\":{\"filter\":{\"type\":\"object\",\"name\":\"AllIndices\",\"id\":\"p1052\"}}},\"glyph\":{\"type\":\"object\",\"name\":\"VBar\",\"id\":\"p1047\",\"attributes\":{\"x\":{\"type\":\"value\",\"value\":0},\"width\":{\"type\":\"value\",\"value\":0.55},\"bottom\":{\"type\":\"value\",\"value\":55.0},\"top\":{\"type\":\"value\",\"value\":38.0},\"fill_color\":{\"type\":\"value\",\"value\":\"#3B8686\"}}},\"nonselection_glyph\":{\"type\":\"object\",\"name\":\"VBar\",\"id\":\"p1048\",\"attributes\":{\"x\":{\"type\":\"value\",\"value\":0},\"width\":{\"type\":\"value\",\"value\":0.55},\"bottom\":{\"type\":\"value\",\"value\":55.0},\"top\":{\"type\":\"value\",\"value\":38.0},\"line_alpha\":{\"type\":\"value\",\"value\":0.1},\"fill_color\":{\"type\":\"value\",\"value\":\"#3B8686\"},\"fill_alpha\":{\"type\":\"value\",\"value\":0.1},\"hatch_alpha\":{\"type\":\"value\",\"value\":0.1}}},\"muted_glyph\":{\"type\":\"object\",\"name\":\"VBar\",\"id\":\"p1049\",\"attributes\":{\"x\":{\"type\":\"value\",\"value\":0},\"width\":{\"type\":\"value\",\"value\":0.55},\"bottom\":{\"type\":\"value\",\"value\":55.0},\"top\":{\"type\":\"value\",\"value\":38.0},\"line_alpha\":{\"type\":\"value\",\"value\":0.2},\"fill_color\":{\"type\":\"value\",\"value\":\"#3B8686\"},\"fill_alpha\":{\"type\":\"value\",\"value\":0.2},\"hatch_alpha\":{\"type\":\"value\",\"value\":0.2}}}}},{\"type\":\"object\",\"name\":\"GlyphRenderer\",\"id\":\"p1059\",\"attributes\":{\"data_source\":{\"type\":\"object\",\"name\":\"ColumnDataSource\",\"id\":\"p1053\",\"attributes\":{\"selected\":{\"type\":\"object\",\"name\":\"Selection\",\"id\":\"p1054\",\"attributes\":{\"indices\":[],\"line_indices\":[]}},\"selection_policy\":{\"type\":\"object\",\"name\":\"UnionRenderers\",\"id\":\"p1055\"},\"data\":{\"type\":\"map\"}}},\"view\":{\"type\":\"object\",\"name\":\"CDSView\",\"id\":\"p1060\",\"attributes\":{\"filter\":{\"type\":\"object\",\"name\":\"AllIndices\",\"id\":\"p1061\"}}},\"glyph\":{\"type\":\"object\",\"name\":\"Segment\",\"id\":\"p1056\",\"attributes\":{\"x0\":{\"type\":\"value\",\"value\":0},\"y0\":{\"type\":\"value\",\"value\":88},\"x1\":{\"type\":\"value\",\"value\":0},\"y1\":{\"type\":\"value\",\"value\":71.0},\"line_width\":{\"type\":\"value\",\"value\":2}}},\"nonselection_glyph\":{\"type\":\"object\",\"name\":\"Segment\",\"id\":\"p1057\",\"attributes\":{\"x0\":{\"type\":\"value\",\"value\":0},\"y0\":{\"type\":\"value\",\"value\":88},\"x1\":{\"type\":\"value\",\"value\":0},\"y1\":{\"type\":\"value\",\"value\":71.0},\"line_alpha\":{\"type\":\"value\",\"value\":0.1},\"line_width\":{\"type\":\"value\",\"value\":2}}},\"muted_glyph\":{\"type\":\"object\",\"name\":\"Segment\",\"id\":\"p1058\",\"attributes\":{\"x0\":{\"type\":\"value\",\"value\":0},\"y0\":{\"type\":\"value\",\"value\":88},\"x1\":{\"type\":\"value\",\"value\":0},\"y1\":{\"type\":\"value\",\"value\":71.0},\"line_alpha\":{\"type\":\"value\",\"value\":0.2},\"line_width\":{\"type\":\"value\",\"value\":2}}}}},{\"type\":\"object\",\"name\":\"GlyphRenderer\",\"id\":\"p1068\",\"attributes\":{\"data_source\":{\"type\":\"object\",\"name\":\"ColumnDataSource\",\"id\":\"p1062\",\"attributes\":{\"selected\":{\"type\":\"object\",\"name\":\"Selection\",\"id\":\"p1063\",\"attributes\":{\"indices\":[],\"line_indices\":[]}},\"selection_policy\":{\"type\":\"object\",\"name\":\"UnionRenderers\",\"id\":\"p1064\"},\"data\":{\"type\":\"map\"}}},\"view\":{\"type\":\"object\",\"name\":\"CDSView\",\"id\":\"p1069\",\"attributes\":{\"filter\":{\"type\":\"object\",\"name\":\"AllIndices\",\"id\":\"p1070\"}}},\"glyph\":{\"type\":\"object\",\"name\":\"Segment\",\"id\":\"p1065\",\"attributes\":{\"x0\":{\"type\":\"value\",\"value\":0},\"y0\":{\"type\":\"value\",\"value\":-9},\"x1\":{\"type\":\"value\",\"value\":0},\"y1\":{\"type\":\"value\",\"value\":38.0},\"line_width\":{\"type\":\"value\",\"value\":2}}},\"nonselection_glyph\":{\"type\":\"object\",\"name\":\"Segment\",\"id\":\"p1066\",\"attributes\":{\"x0\":{\"type\":\"value\",\"value\":0},\"y0\":{\"type\":\"value\",\"value\":-9},\"x1\":{\"type\":\"value\",\"value\":0},\"y1\":{\"type\":\"value\",\"value\":38.0},\"line_alpha\":{\"type\":\"value\",\"value\":0.1},\"line_width\":{\"type\":\"value\",\"value\":2}}},\"muted_glyph\":{\"type\":\"object\",\"name\":\"Segment\",\"id\":\"p1067\",\"attributes\":{\"x0\":{\"type\":\"value\",\"value\":0},\"y0\":{\"type\":\"value\",\"value\":-9},\"x1\":{\"type\":\"value\",\"value\":0},\"y1\":{\"type\":\"value\",\"value\":38.0},\"line_alpha\":{\"type\":\"value\",\"value\":0.2},\"line_width\":{\"type\":\"value\",\"value\":2}}}}},{\"type\":\"object\",\"name\":\"GlyphRenderer\",\"id\":\"p1077\",\"attributes\":{\"data_source\":{\"type\":\"object\",\"name\":\"ColumnDataSource\",\"id\":\"p1071\",\"attributes\":{\"selected\":{\"type\":\"object\",\"name\":\"Selection\",\"id\":\"p1072\",\"attributes\":{\"indices\":[],\"line_indices\":[]}},\"selection_policy\":{\"type\":\"object\",\"name\":\"UnionRenderers\",\"id\":\"p1073\"},\"data\":{\"type\":\"map\"}}},\"view\":{\"type\":\"object\",\"name\":\"CDSView\",\"id\":\"p1078\",\"attributes\":{\"filter\":{\"type\":\"object\",\"name\":\"AllIndices\",\"id\":\"p1079\"}}},\"glyph\":{\"type\":\"object\",\"name\":\"Segment\",\"id\":\"p1074\",\"attributes\":{\"x0\":{\"type\":\"value\",\"value\":-0.075},\"y0\":{\"type\":\"value\",\"value\":-9},\"x1\":{\"type\":\"value\",\"value\":0.075},\"y1\":{\"type\":\"value\",\"value\":-9},\"line_width\":{\"type\":\"value\",\"value\":2}}},\"nonselection_glyph\":{\"type\":\"object\",\"name\":\"Segment\",\"id\":\"p1075\",\"attributes\":{\"x0\":{\"type\":\"value\",\"value\":-0.075},\"y0\":{\"type\":\"value\",\"value\":-9},\"x1\":{\"type\":\"value\",\"value\":0.075},\"y1\":{\"type\":\"value\",\"value\":-9},\"line_alpha\":{\"type\":\"value\",\"value\":0.1},\"line_width\":{\"type\":\"value\",\"value\":2}}},\"muted_glyph\":{\"type\":\"object\",\"name\":\"Segment\",\"id\":\"p1076\",\"attributes\":{\"x0\":{\"type\":\"value\",\"value\":-0.075},\"y0\":{\"type\":\"value\",\"value\":-9},\"x1\":{\"type\":\"value\",\"value\":0.075},\"y1\":{\"type\":\"value\",\"value\":-9},\"line_alpha\":{\"type\":\"value\",\"value\":0.2},\"line_width\":{\"type\":\"value\",\"value\":2}}}}},{\"type\":\"object\",\"name\":\"GlyphRenderer\",\"id\":\"p1086\",\"attributes\":{\"data_source\":{\"type\":\"object\",\"name\":\"ColumnDataSource\",\"id\":\"p1080\",\"attributes\":{\"selected\":{\"type\":\"object\",\"name\":\"Selection\",\"id\":\"p1081\",\"attributes\":{\"indices\":[],\"line_indices\":[]}},\"selection_policy\":{\"type\":\"object\",\"name\":\"UnionRenderers\",\"id\":\"p1082\"},\"data\":{\"type\":\"map\"}}},\"view\":{\"type\":\"object\",\"name\":\"CDSView\",\"id\":\"p1087\",\"attributes\":{\"filter\":{\"type\":\"object\",\"name\":\"AllIndices\",\"id\":\"p1088\"}}},\"glyph\":{\"type\":\"object\",\"name\":\"Segment\",\"id\":\"p1083\",\"attributes\":{\"x0\":{\"type\":\"value\",\"value\":-0.075},\"y0\":{\"type\":\"value\",\"value\":88},\"x1\":{\"type\":\"value\",\"value\":0.075},\"y1\":{\"type\":\"value\",\"value\":88},\"line_width\":{\"type\":\"value\",\"value\":2}}},\"nonselection_glyph\":{\"type\":\"object\",\"name\":\"Segment\",\"id\":\"p1084\",\"attributes\":{\"x0\":{\"type\":\"value\",\"value\":-0.075},\"y0\":{\"type\":\"value\",\"value\":88},\"x1\":{\"type\":\"value\",\"value\":0.075},\"y1\":{\"type\":\"value\",\"value\":88},\"line_alpha\":{\"type\":\"value\",\"value\":0.1},\"line_width\":{\"type\":\"value\",\"value\":2}}},\"muted_glyph\":{\"type\":\"object\",\"name\":\"Segment\",\"id\":\"p1085\",\"attributes\":{\"x0\":{\"type\":\"value\",\"value\":-0.075},\"y0\":{\"type\":\"value\",\"value\":88},\"x1\":{\"type\":\"value\",\"value\":0.075},\"y1\":{\"type\":\"value\",\"value\":88},\"line_alpha\":{\"type\":\"value\",\"value\":0.2},\"line_width\":{\"type\":\"value\",\"value\":2}}}}}],\"toolbar\":{\"type\":\"object\",\"name\":\"Toolbar\",\"id\":\"p1010\",\"attributes\":{\"tools\":[{\"type\":\"object\",\"name\":\"PanTool\",\"id\":\"p1024\"},{\"type\":\"object\",\"name\":\"WheelZoomTool\",\"id\":\"p1025\",\"attributes\":{\"renderers\":\"auto\"}},{\"type\":\"object\",\"name\":\"BoxZoomTool\",\"id\":\"p1026\",\"attributes\":{\"overlay\":{\"type\":\"object\",\"name\":\"BoxAnnotation\",\"id\":\"p1027\",\"attributes\":{\"syncable\":false,\"level\":\"overlay\",\"visible\":false,\"left\":{\"type\":\"number\",\"value\":\"nan\"},\"right\":{\"type\":\"number\",\"value\":\"nan\"},\"top\":{\"type\":\"number\",\"value\":\"nan\"},\"bottom\":{\"type\":\"number\",\"value\":\"nan\"},\"left_units\":\"canvas\",\"right_units\":\"canvas\",\"top_units\":\"canvas\",\"bottom_units\":\"canvas\",\"line_color\":\"black\",\"line_alpha\":1.0,\"line_width\":2,\"line_dash\":[4,4],\"fill_color\":\"lightgrey\",\"fill_alpha\":0.5}}}},{\"type\":\"object\",\"name\":\"SaveTool\",\"id\":\"p1032\"},{\"type\":\"object\",\"name\":\"ResetTool\",\"id\":\"p1033\"},{\"type\":\"object\",\"name\":\"HelpTool\",\"id\":\"p1034\"}]}},\"left\":[{\"type\":\"object\",\"name\":\"LinearAxis\",\"id\":\"p1019\",\"attributes\":{\"ticker\":{\"type\":\"object\",\"name\":\"BasicTicker\",\"id\":\"p1020\",\"attributes\":{\"mantissas\":[1,2,5]}},\"formatter\":{\"type\":\"object\",\"name\":\"BasicTickFormatter\",\"id\":\"p1021\"},\"major_label_policy\":{\"type\":\"object\",\"name\":\"AllLabels\",\"id\":\"p1022\"}}}],\"below\":[{\"type\":\"object\",\"name\":\"LinearAxis\",\"id\":\"p1014\",\"attributes\":{\"visible\":false,\"ticker\":{\"type\":\"object\",\"name\":\"BasicTicker\",\"id\":\"p1015\",\"attributes\":{\"mantissas\":[1,2,5]}},\"formatter\":{\"type\":\"object\",\"name\":\"BasicTickFormatter\",\"id\":\"p1016\"},\"major_label_policy\":{\"type\":\"object\",\"name\":\"AllLabels\",\"id\":\"p1017\"}}}],\"center\":[{\"type\":\"object\",\"name\":\"Grid\",\"id\":\"p1018\",\"attributes\":{\"axis\":{\"id\":\"p1014\"}}},{\"type\":\"object\",\"name\":\"Grid\",\"id\":\"p1023\",\"attributes\":{\"dimension\":1,\"axis\":{\"id\":\"p1019\"}}}]}}]}};\n",
       "  const render_items = [{\"docid\":\"867c90d5-aed1-4e2f-aacd-9234f8d59bba\",\"roots\":{\"p1001\":\"cb22b465-a9b2-4641-bf82-b9c4101a69b9\"},\"root_ids\":[\"p1001\"]}];\n",
       "  void root.Bokeh.embed.embed_items_notebook(docs_json, render_items);\n",
       "  }\n",
       "  if (root.Bokeh !== undefined) {\n",
       "    embed_document(root);\n",
       "  } else {\n",
       "    let attempts = 0;\n",
       "    const timer = setInterval(function(root) {\n",
       "      if (root.Bokeh !== undefined) {\n",
       "        clearInterval(timer);\n",
       "        embed_document(root);\n",
       "      } else {\n",
       "        attempts++;\n",
       "        if (attempts > 100) {\n",
       "          clearInterval(timer);\n",
       "          console.log(\"Bokeh: ERROR: Unable to run BokehJS code because BokehJS library is missing\");\n",
       "        }\n",
       "      }\n",
       "    }, 10, root)\n",
       "  }\n",
       "})(window);"
      ],
      "application/vnd.bokehjs_exec.v0+json": ""
     },
     "metadata": {
      "application/vnd.bokehjs_exec.v0+json": {
       "id": "p1001"
      }
     },
     "output_type": "display_data"
    }
   ],
   "source": [
    "p = figure(title='Champaign daily average temperature, 2009 - 2019',\n",
    "           width = 400, height = 400,\n",
    "           x_range=(-1,1))\n",
    "\n",
    "# Hide the x-axis since it has no meaning here.\n",
    "p.xaxis.visible = False\n",
    "\n",
    "# These lines of code draw the rectangles. vbar means vertical bar.\n",
    "p.vbar(x=0, width=0.55, top=Q2, bottom=Q3, fill_color=\"#E08E79\", line_color=\"black\")\n",
    "p.vbar(x=0, width=0.55, top=Q1, bottom=Q2, fill_color=\"#3B8686\", line_color=\"black\")\n",
    "\n",
    "# These lines of code draw the whiskers. The segment glyph draws a line\n",
    "# from (x0,y0) to (x1,y1).\n",
    "p.segment(x0=0, y0=datamax, x1=0, y1=Q3, line_color=\"black\", line_width=2)\n",
    "p.segment(x0=0, y0=datamin, x1=0, y1=Q1, line_color=\"black\", line_width=2)\n",
    "\n",
    "# These lines of code draw the ending lines on the whiskers. The segment\n",
    "# glyph draws a line from (x0,y0) to (x1,y1).\n",
    "p.segment(x0=-0.075, y0=datamin, x1=0.075, y1=datamin, line_color=\"black\", line_width=2)\n",
    "p.segment(x0=-0.075, y0=datamax, x1=0.075, y1=datamax, line_color=\"black\", line_width=2)\n",
    "\n",
    "show(p)"
   ]
  },
  {
   "cell_type": "markdown",
   "id": "b31b8278-7257-41fe-893c-ffcb8970d9d8",
   "metadata": {},
   "source": [
    "What do we learn from this box plot? The median temperature in Champaign over 10 years was around 55 F. Fifty percent of the time, the temperature was in the range 38 - 71 F (this is the \"interquartile range\", a fancy word for the range $Q_1$ to $Q_3$. We also learn that, even though the interquartile range is narrow, there were some extreme temperatures. You can see this from the long whiskers, especially the bottom whisker. It gets cold around here!"
   ]
  },
  {
   "cell_type": "markdown",
   "id": "d05b3c59-3646-41e1-beaa-64720acae294",
   "metadata": {},
   "source": [
    "Finally, note that we have to tell Bokeh exactly what to draw. We had to explicitly tell it to draw rectangles and lines. Many other plotting packages, even Python plotting packages, do this for you. However, we want you to see exactly what happens and what must be calculated to draw such a graph."
   ]
  },
  {
   "cell_type": "markdown",
   "id": "1388db26-6f0c-4238-ad14-dc76b4cebb10",
   "metadata": {},
   "source": [
    "## Creating a Box Plot in Tableau"
   ]
  },
  {
   "cell_type": "markdown",
   "id": "3146a3f5-992d-477c-aba4-a46a84f742c4",
   "metadata": {},
   "source": [
    "Watch this video to learn about box plots in Tableau:\n",
    "\n",
    "https://mediaspace.illinois.edu/media/t/1_sadaz26q"
   ]
  },
  {
   "cell_type": "markdown",
   "id": "52ded744-6f52-4e01-8ebe-700ce2f3bf1e",
   "metadata": {
    "tags": []
   },
   "source": [
    "### References\n",
    "\n",
    "<sup>4</sup> https://www.wunderground.com/history/"
   ]
  }
 ],
 "metadata": {
  "kernelspec": {
   "display_name": "Python 3 (ipykernel)",
   "language": "python",
   "name": "python3"
  },
  "language_info": {
   "codemirror_mode": {
    "name": "ipython",
    "version": 3
   },
   "file_extension": ".py",
   "mimetype": "text/x-python",
   "name": "python",
   "nbconvert_exporter": "python",
   "pygments_lexer": "ipython3",
   "version": "3.11.9"
  }
 },
 "nbformat": 4,
 "nbformat_minor": 5
}