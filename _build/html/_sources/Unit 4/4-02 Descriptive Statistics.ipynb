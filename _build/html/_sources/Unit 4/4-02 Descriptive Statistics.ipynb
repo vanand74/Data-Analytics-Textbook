{
 "cells": [
  {
   "cell_type": "markdown",
   "metadata": {},
   "source": [
    "# Descriptive Statistics"
   ]
  },
  {
   "cell_type": "markdown",
   "metadata": {},
   "source": [
    "## Learning Objectives"
   ]
  },
  {
   "cell_type": "markdown",
   "metadata": {},
   "source": [
    "<div style=\"border: 1px solid black; padding: 10px; background-color: #EDEDED;\">\n",
    "    <ul>\n",
    "        <li>Define the term descriptive statistics and explain why they are useful.</li>\n",
    "        <li>Mean:\n",
    "            <ul>\n",
    "                <li>Define the mean of a variable and be able to compute it by hand.</li>\n",
    "                <li>Interpret the mean as a measure of centrality of a variable's distribution</li>\n",
    "            </ul>\n",
    "        </li>\n",
    "        <li>Median:\n",
    "            <ul>\n",
    "                <li>Define the median of a variable and be able to compute it by hand.</li>\n",
    "                <li>Interpret the mean as a measure of centrality of a variable's distribution</li>\n",
    "                <li>Explain when a median may be more appropriate than a mean.</li>\n",
    "            </ul>\n",
    "        </li>\n",
    "        <li>Standard deviation:\n",
    "            <ul>\n",
    "                <li>Define the standard deviation of a variable.</li>\n",
    "                <li>Interpret the standard deviation as a measure of the spread in a variable's distribution.</li>\n",
    "            </ul>\n",
    "        </li>\n",
    "        <li>Correlation:\n",
    "            <ul>\n",
    "                <li>Define, in qualitative terms, the correlation between two variables.</li>\n",
    "                <li>Explain the difference between positive and negative correlation.</li>\n",
    "                <li>State the range of possible correlation values.</li>\n",
    "                <li>Interpret a correlation matrix.</li>\n",
    "            </ul>\n",
    "        </li>\n",
    "    </ul>\n",
    "</div>"
   ]
  },
  {
   "cell_type": "markdown",
   "metadata": {},
   "source": [
    "## Overview of Descriptive Statistics"
   ]
  },
  {
   "cell_type": "markdown",
   "metadata": {},
   "source": [
    "In previous units, we showed you how to _prepare_ your data for analysis. You loaded, cleaned, filtered, and manipulated data. Now it's time to start analyzing it. \n",
    "\n",
    "The first step in data analysis is usually plotting (graphical exploration). Plots are incredibly useful because they communicate considerable information about the data. However, you often want to _summarize_ what you see in the plots. You might want some summary measures that you can use in a computation. Or you might want to provide some numbers that tell you something about your plot. This is where descriptive statistics come in.\n",
    "\n",
    "Descriptive statistics are _statistics_. That is, they are computed from your data and the measures have statistical properties. But more importantly, they _describe_ your data.\n",
    "\n",
    "In this chapter, we will learn about four commonly-used descriptive statistics, mean, median, standard deviation, and correlation. You have likely seen these before in statistics classes. In this class, we will focus on the uses and interpretation of the measures. As you will see, Pandas computes these measures very quickly and that will allow us to focus on interpretation."
   ]
  },
  {
   "cell_type": "markdown",
   "metadata": {},
   "source": [
    "## Imports and Loading the Data"
   ]
  },
  {
   "cell_type": "code",
   "execution_count": 1,
   "metadata": {},
   "outputs": [],
   "source": [
    "import numpy as np\n",
    "import pandas as pd"
   ]
  },
  {
   "cell_type": "markdown",
   "metadata": {},
   "source": [
    "We will work with two datasets in this chapter. \n",
    "* Salary data for employees of the City of Chicago ([link](https://data.cityofchicago.org/Administration-Finance/Current-Employee-Names-Salaries-and-Position-Title/xzkq-xp2w)).\n",
    "* Selected income statement data from Compustat."
   ]
  },
  {
   "cell_type": "markdown",
   "metadata": {},
   "source": [
    "### City of Chicago Salary Data"
   ]
  },
  {
   "cell_type": "markdown",
   "metadata": {},
   "source": [
    "The cell below loads salary data for employees of the City of Chicago. Each row represents one employee in the previous fiscal year. Here is a list of the columns and their meanings:\n",
    "\n",
    "| Column | Meaning |\n",
    "|:---:|---|\n",
    "| Name | Name of employee |\n",
    "| Job Titles | Title of employee at the time when the data was updated. |\n",
    "| Department | Department where employee worked. |\n",
    "| Full or Part-Time | Whether the employee was employed full- (F) or part-time (P). |\n",
    "| Salary or Hourly | Defines whether an employee is paid on an hourly basis or salary basis.  |\n",
    "| Typical Hours | Typical amount of work for hourly employees. This data does not apply to salary employees |\n",
    "| Annual Salary | Annual salary rates. Only applies for employees whose pay frequency is \"Salary\". |"
   ]
  },
  {
   "cell_type": "code",
   "execution_count": 2,
   "metadata": {},
   "outputs": [
    {
     "data": {
      "text/html": [
       "<div>\n",
       "<style scoped>\n",
       "    .dataframe tbody tr th:only-of-type {\n",
       "        vertical-align: middle;\n",
       "    }\n",
       "\n",
       "    .dataframe tbody tr th {\n",
       "        vertical-align: top;\n",
       "    }\n",
       "\n",
       "    .dataframe thead th {\n",
       "        text-align: right;\n",
       "    }\n",
       "</style>\n",
       "<table border=\"1\" class=\"dataframe\">\n",
       "  <thead>\n",
       "    <tr style=\"text-align: right;\">\n",
       "      <th></th>\n",
       "      <th>Name</th>\n",
       "      <th>Job Titles</th>\n",
       "      <th>Department</th>\n",
       "      <th>Full or Part-Time</th>\n",
       "      <th>Salary or Hourly</th>\n",
       "      <th>Typical Hours</th>\n",
       "      <th>Annual Salary</th>\n",
       "      <th>Hourly Rate</th>\n",
       "    </tr>\n",
       "  </thead>\n",
       "  <tbody>\n",
       "    <tr>\n",
       "      <th>0</th>\n",
       "      <td>AARON,  JEFFERY M</td>\n",
       "      <td>SERGEANT</td>\n",
       "      <td>POLICE</td>\n",
       "      <td>F</td>\n",
       "      <td>Salary</td>\n",
       "      <td>NaN</td>\n",
       "      <td>101442.0</td>\n",
       "      <td>NaN</td>\n",
       "    </tr>\n",
       "    <tr>\n",
       "      <th>1</th>\n",
       "      <td>AARON,  KARINA</td>\n",
       "      <td>POLICE OFFICER (ASSIGNED AS DETECTIVE)</td>\n",
       "      <td>POLICE</td>\n",
       "      <td>F</td>\n",
       "      <td>Salary</td>\n",
       "      <td>NaN</td>\n",
       "      <td>94122.0</td>\n",
       "      <td>NaN</td>\n",
       "    </tr>\n",
       "    <tr>\n",
       "      <th>2</th>\n",
       "      <td>AARON,  KIMBERLEI R</td>\n",
       "      <td>CHIEF CONTRACT EXPEDITER</td>\n",
       "      <td>GENERAL SERVICES</td>\n",
       "      <td>F</td>\n",
       "      <td>Salary</td>\n",
       "      <td>NaN</td>\n",
       "      <td>111024.0</td>\n",
       "      <td>NaN</td>\n",
       "    </tr>\n",
       "    <tr>\n",
       "      <th>3</th>\n",
       "      <td>ABAD JR,  VICENTE M</td>\n",
       "      <td>CIVIL ENGINEER IV</td>\n",
       "      <td>WATER MGMNT</td>\n",
       "      <td>F</td>\n",
       "      <td>Salary</td>\n",
       "      <td>NaN</td>\n",
       "      <td>114780.0</td>\n",
       "      <td>NaN</td>\n",
       "    </tr>\n",
       "    <tr>\n",
       "      <th>4</th>\n",
       "      <td>ABARCA,  EMMANUEL</td>\n",
       "      <td>CONCRETE LABORER</td>\n",
       "      <td>TRANSPORTN</td>\n",
       "      <td>F</td>\n",
       "      <td>Hourly</td>\n",
       "      <td>40.0</td>\n",
       "      <td>NaN</td>\n",
       "      <td>43.72</td>\n",
       "    </tr>\n",
       "  </tbody>\n",
       "</table>\n",
       "</div>"
      ],
      "text/plain": [
       "                  Name                              Job Titles  \\\n",
       "0    AARON,  JEFFERY M                                SERGEANT   \n",
       "1       AARON,  KARINA  POLICE OFFICER (ASSIGNED AS DETECTIVE)   \n",
       "2  AARON,  KIMBERLEI R                CHIEF CONTRACT EXPEDITER   \n",
       "3  ABAD JR,  VICENTE M                       CIVIL ENGINEER IV   \n",
       "4    ABARCA,  EMMANUEL                        CONCRETE LABORER   \n",
       "\n",
       "         Department Full or Part-Time Salary or Hourly  Typical Hours  \\\n",
       "0            POLICE                 F           Salary            NaN   \n",
       "1            POLICE                 F           Salary            NaN   \n",
       "2  GENERAL SERVICES                 F           Salary            NaN   \n",
       "3       WATER MGMNT                 F           Salary            NaN   \n",
       "4        TRANSPORTN                 F           Hourly           40.0   \n",
       "\n",
       "   Annual Salary  Hourly Rate  \n",
       "0       101442.0          NaN  \n",
       "1        94122.0          NaN  \n",
       "2       111024.0          NaN  \n",
       "3       114780.0          NaN  \n",
       "4            NaN        43.72  "
      ]
     },
     "execution_count": 2,
     "metadata": {},
     "output_type": "execute_result"
    }
   ],
   "source": [
    "dfSalary = pd.read_excel('data/Chicago_Payroll_Data.xlsx', sheet_name='Data')\n",
    "dfSalary.head()"
   ]
  },
  {
   "cell_type": "markdown",
   "metadata": {},
   "source": [
    "### Compustat Data"
   ]
  },
  {
   "cell_type": "markdown",
   "metadata": {},
   "source": [
    "The cell below loads some data from the Compustat database. Compustat contains all 10-K data for U.S. companies. We filtered the data so it only includes data for selected companies in fiscal year 2018. We saved the filtered data to an Excel file. There is one row per company. Here is a list of the columns and their meanings:\n",
    "\n",
    "| Column | Meaning |\n",
    "|:---:|---|\n",
    "| GVKEY | Unique Compustat identifier |\n",
    "| TIC | Stock ticker symbol |\n",
    "| FYEAR | Fiscal year |\n",
    "| SALE | Annual revenue for this company. In millions. |\n",
    "| IB | Income before extraordinary items. In millions. |\n",
    "| ACC | Accruals, computed as IB - OANCF. In millions. |\n",
    "| OANCF | Cash flows from operations. In millions. |"
   ]
  },
  {
   "cell_type": "code",
   "execution_count": 3,
   "metadata": {},
   "outputs": [
    {
     "data": {
      "text/html": [
       "<div>\n",
       "<style scoped>\n",
       "    .dataframe tbody tr th:only-of-type {\n",
       "        vertical-align: middle;\n",
       "    }\n",
       "\n",
       "    .dataframe tbody tr th {\n",
       "        vertical-align: top;\n",
       "    }\n",
       "\n",
       "    .dataframe thead th {\n",
       "        text-align: right;\n",
       "    }\n",
       "</style>\n",
       "<table border=\"1\" class=\"dataframe\">\n",
       "  <thead>\n",
       "    <tr style=\"text-align: right;\">\n",
       "      <th></th>\n",
       "      <th>GVKEY</th>\n",
       "      <th>TIC</th>\n",
       "      <th>FYEAR</th>\n",
       "      <th>SALE</th>\n",
       "      <th>IB</th>\n",
       "      <th>ACC</th>\n",
       "      <th>OANCF</th>\n",
       "    </tr>\n",
       "  </thead>\n",
       "  <tbody>\n",
       "    <tr>\n",
       "      <th>0</th>\n",
       "      <td>12825</td>\n",
       "      <td>JJSF</td>\n",
       "      <td>2018</td>\n",
       "      <td>1138.265</td>\n",
       "      <td>103.596</td>\n",
       "      <td>-19.771</td>\n",
       "      <td>123.367</td>\n",
       "    </tr>\n",
       "    <tr>\n",
       "      <th>1</th>\n",
       "      <td>12096</td>\n",
       "      <td>DGSE</td>\n",
       "      <td>2018</td>\n",
       "      <td>54.056</td>\n",
       "      <td>0.658</td>\n",
       "      <td>0.283</td>\n",
       "      <td>0.375</td>\n",
       "    </tr>\n",
       "    <tr>\n",
       "      <th>2</th>\n",
       "      <td>12945</td>\n",
       "      <td>PLXS</td>\n",
       "      <td>2018</td>\n",
       "      <td>2873.508</td>\n",
       "      <td>13.040</td>\n",
       "      <td>-53.791</td>\n",
       "      <td>66.831</td>\n",
       "    </tr>\n",
       "    <tr>\n",
       "      <th>3</th>\n",
       "      <td>16456</td>\n",
       "      <td>HNGR</td>\n",
       "      <td>2018</td>\n",
       "      <td>1048.760</td>\n",
       "      <td>-0.858</td>\n",
       "      <td>-79.385</td>\n",
       "      <td>78.527</td>\n",
       "    </tr>\n",
       "    <tr>\n",
       "      <th>4</th>\n",
       "      <td>12141</td>\n",
       "      <td>MSFT</td>\n",
       "      <td>2018</td>\n",
       "      <td>110360.000</td>\n",
       "      <td>16571.000</td>\n",
       "      <td>-27313.000</td>\n",
       "      <td>43884.000</td>\n",
       "    </tr>\n",
       "  </tbody>\n",
       "</table>\n",
       "</div>"
      ],
      "text/plain": [
       "   GVKEY   TIC  FYEAR        SALE         IB        ACC      OANCF\n",
       "0  12825  JJSF   2018    1138.265    103.596    -19.771    123.367\n",
       "1  12096  DGSE   2018      54.056      0.658      0.283      0.375\n",
       "2  12945  PLXS   2018    2873.508     13.040    -53.791     66.831\n",
       "3  16456  HNGR   2018    1048.760     -0.858    -79.385     78.527\n",
       "4  12141  MSFT   2018  110360.000  16571.000 -27313.000  43884.000"
      ]
     },
     "execution_count": 3,
     "metadata": {},
     "output_type": "execute_result"
    }
   ],
   "source": [
    "dfCompustat = pd.read_excel('data/Compustat.xlsx')\n",
    "dfCompustat.head()"
   ]
  },
  {
   "cell_type": "markdown",
   "metadata": {},
   "source": [
    "## Mean"
   ]
  },
  {
   "cell_type": "markdown",
   "metadata": {},
   "source": [
    "You have likely see the term _mean_, or _average_, many times before. It's a seemingly simple concept. You take a bunch of numbers, add them, and divide by the number of numbers. But what does it mean (no pun intended)?\n",
    "\n",
    "Let's first plot our salary data and then revisit the question. Run the code cell below:"
   ]
  },
  {
   "cell_type": "code",
   "execution_count": 4,
   "metadata": {},
   "outputs": [
    {
     "data": {
      "text/html": [
       "    <style>\n",
       "        .bk-notebook-logo {\n",
       "            display: block;\n",
       "            width: 20px;\n",
       "            height: 20px;\n",
       "            background-image: url(data:image/png;base64,iVBORw0KGgoAAAANSUhEUgAAABQAAAAUCAYAAACNiR0NAAAABHNCSVQICAgIfAhkiAAAAAlwSFlzAAALEgAACxIB0t1+/AAAABx0RVh0U29mdHdhcmUAQWRvYmUgRmlyZXdvcmtzIENTNui8sowAAAOkSURBVDiNjZRtaJVlGMd/1/08zzln5zjP1LWcU9N0NkN8m2CYjpgQYQXqSs0I84OLIC0hkEKoPtiH3gmKoiJDU7QpLgoLjLIQCpEsNJ1vqUOdO7ppbuec5+V+rj4ctwzd8IIbbi6u+8f1539dt3A78eXC7QizUF7gyV1fD1Yqg4JWz84yffhm0qkFqBogB9rM8tZdtwVsPUhWhGcFJngGeWrPzHm5oaMmkfEg1usvLFyc8jLRqDOMru7AyC8saQr7GG7f5fvDeH7Ej8CM66nIF+8yngt6HWaKh7k49Soy9nXurCi1o3qUbS3zWfrYeQDTB/Qj6kX6Ybhw4B+bOYoLKCC9H3Nu/leUTZ1JdRWkkn2ldcCamzrcf47KKXdAJllSlxAOkRgyHsGC/zRday5Qld9DyoM4/q/rUoy/CXh3jzOu3bHUVZeU+DEn8FInkPBFlu3+nW3Nw0mk6vCDiWg8CeJaxEwuHS3+z5RgY+YBR6V1Z1nxSOfoaPa4LASWxxdNp+VWTk7+4vzaou8v8PN+xo+KY2xsw6une2frhw05CTYOmQvsEhjhWjn0bmXPjpE1+kplmmkP3suftwTubK9Vq22qKmrBhpY4jvd5afdRA3wGjFAgcnTK2s4hY0/GPNIb0nErGMCRxWOOX64Z8RAC4oCXdklmEvcL8o0BfkNK4lUg9HTl+oPlQxdNo3Mg4Nv175e/1LDGzZen30MEjRUtmXSfiTVu1kK8W4txyV6BMKlbgk3lMwYCiusNy9fVfvvwMxv8Ynl6vxoByANLTWplvuj/nF9m2+PDtt1eiHPBr1oIfhCChQMBw6Aw0UulqTKZdfVvfG7VcfIqLG9bcldL/+pdWTLxLUy8Qq38heUIjh4XlzZxzQm19lLFlr8vdQ97rjZVOLf8nclzckbcD4wxXMidpX30sFd37Fv/GtwwhzhxGVAprjbg0gCAEeIgwCZyTV2Z1REEW8O4py0wsjeloKoMr6iCY6dP92H6Vw/oTyICIthibxjm/DfN9lVz8IqtqKYLUXfoKVMVQVVJOElGjrnnUt9T9wbgp8AyYKaGlqingHZU/uG2NTZSVqwHQTWkx9hxjkpWDaCg6Ckj5qebgBVbT3V3NNXMSiWSDdGV3hrtzla7J+duwPOToIg42ChPQOQjspnSlp1V+Gjdged7+8UN5CRAV7a5EdFNwCjEaBR27b3W890TE7g24NAP/mMDXRWrGoFPQI9ls/MWO2dWFAar/xcOIImbbpA3zgAAAABJRU5ErkJggg==);\n",
       "        }\n",
       "    </style>\n",
       "    <div>\n",
       "        <a href=\"https://bokeh.org\" target=\"_blank\" class=\"bk-notebook-logo\"></a>\n",
       "        <span id=\"bf19295a-cc2f-4c44-b5be-c22c8caad224\">Loading BokehJS ...</span>\n",
       "    </div>\n"
      ]
     },
     "metadata": {},
     "output_type": "display_data"
    },
    {
     "data": {
      "application/javascript": [
       "'use strict';\n",
       "(function(root) {\n",
       "  function now() {\n",
       "    return new Date();\n",
       "  }\n",
       "\n",
       "  const force = true;\n",
       "\n",
       "  if (typeof root._bokeh_onload_callbacks === \"undefined\" || force === true) {\n",
       "    root._bokeh_onload_callbacks = [];\n",
       "    root._bokeh_is_loading = undefined;\n",
       "  }\n",
       "\n",
       "const JS_MIME_TYPE = 'application/javascript';\n",
       "  const HTML_MIME_TYPE = 'text/html';\n",
       "  const EXEC_MIME_TYPE = 'application/vnd.bokehjs_exec.v0+json';\n",
       "  const CLASS_NAME = 'output_bokeh rendered_html';\n",
       "\n",
       "  /**\n",
       "   * Render data to the DOM node\n",
       "   */\n",
       "  function render(props, node) {\n",
       "    const script = document.createElement(\"script\");\n",
       "    node.appendChild(script);\n",
       "  }\n",
       "\n",
       "  /**\n",
       "   * Handle when an output is cleared or removed\n",
       "   */\n",
       "  function handleClearOutput(event, handle) {\n",
       "    function drop(id) {\n",
       "      const view = Bokeh.index.get_by_id(id)\n",
       "      if (view != null) {\n",
       "        view.model.document.clear()\n",
       "        Bokeh.index.delete(view)\n",
       "      }\n",
       "    }\n",
       "\n",
       "    const cell = handle.cell;\n",
       "\n",
       "    const id = cell.output_area._bokeh_element_id;\n",
       "    const server_id = cell.output_area._bokeh_server_id;\n",
       "\n",
       "    // Clean up Bokeh references\n",
       "    if (id != null) {\n",
       "      drop(id)\n",
       "    }\n",
       "\n",
       "    if (server_id !== undefined) {\n",
       "      // Clean up Bokeh references\n",
       "      const cmd_clean = \"from bokeh.io.state import curstate; print(curstate().uuid_to_server['\" + server_id + \"'].get_sessions()[0].document.roots[0]._id)\";\n",
       "      cell.notebook.kernel.execute(cmd_clean, {\n",
       "        iopub: {\n",
       "          output: function(msg) {\n",
       "            const id = msg.content.text.trim()\n",
       "            drop(id)\n",
       "          }\n",
       "        }\n",
       "      });\n",
       "      // Destroy server and session\n",
       "      const cmd_destroy = \"import bokeh.io.notebook as ion; ion.destroy_server('\" + server_id + \"')\";\n",
       "      cell.notebook.kernel.execute(cmd_destroy);\n",
       "    }\n",
       "  }\n",
       "\n",
       "  /**\n",
       "   * Handle when a new output is added\n",
       "   */\n",
       "  function handleAddOutput(event, handle) {\n",
       "    const output_area = handle.output_area;\n",
       "    const output = handle.output;\n",
       "\n",
       "    // limit handleAddOutput to display_data with EXEC_MIME_TYPE content only\n",
       "    if ((output.output_type != \"display_data\") || (!Object.prototype.hasOwnProperty.call(output.data, EXEC_MIME_TYPE))) {\n",
       "      return\n",
       "    }\n",
       "\n",
       "    const toinsert = output_area.element.find(\".\" + CLASS_NAME.split(' ')[0]);\n",
       "\n",
       "    if (output.metadata[EXEC_MIME_TYPE][\"id\"] !== undefined) {\n",
       "      toinsert[toinsert.length - 1].firstChild.textContent = output.data[JS_MIME_TYPE];\n",
       "      // store reference to embed id on output_area\n",
       "      output_area._bokeh_element_id = output.metadata[EXEC_MIME_TYPE][\"id\"];\n",
       "    }\n",
       "    if (output.metadata[EXEC_MIME_TYPE][\"server_id\"] !== undefined) {\n",
       "      const bk_div = document.createElement(\"div\");\n",
       "      bk_div.innerHTML = output.data[HTML_MIME_TYPE];\n",
       "      const script_attrs = bk_div.children[0].attributes;\n",
       "      for (let i = 0; i < script_attrs.length; i++) {\n",
       "        toinsert[toinsert.length - 1].firstChild.setAttribute(script_attrs[i].name, script_attrs[i].value);\n",
       "        toinsert[toinsert.length - 1].firstChild.textContent = bk_div.children[0].textContent\n",
       "      }\n",
       "      // store reference to server id on output_area\n",
       "      output_area._bokeh_server_id = output.metadata[EXEC_MIME_TYPE][\"server_id\"];\n",
       "    }\n",
       "  }\n",
       "\n",
       "  function register_renderer(events, OutputArea) {\n",
       "\n",
       "    function append_mime(data, metadata, element) {\n",
       "      // create a DOM node to render to\n",
       "      const toinsert = this.create_output_subarea(\n",
       "        metadata,\n",
       "        CLASS_NAME,\n",
       "        EXEC_MIME_TYPE\n",
       "      );\n",
       "      this.keyboard_manager.register_events(toinsert);\n",
       "      // Render to node\n",
       "      const props = {data: data, metadata: metadata[EXEC_MIME_TYPE]};\n",
       "      render(props, toinsert[toinsert.length - 1]);\n",
       "      element.append(toinsert);\n",
       "      return toinsert\n",
       "    }\n",
       "\n",
       "    /* Handle when an output is cleared or removed */\n",
       "    events.on('clear_output.CodeCell', handleClearOutput);\n",
       "    events.on('delete.Cell', handleClearOutput);\n",
       "\n",
       "    /* Handle when a new output is added */\n",
       "    events.on('output_added.OutputArea', handleAddOutput);\n",
       "\n",
       "    /**\n",
       "     * Register the mime type and append_mime function with output_area\n",
       "     */\n",
       "    OutputArea.prototype.register_mime_type(EXEC_MIME_TYPE, append_mime, {\n",
       "      /* Is output safe? */\n",
       "      safe: true,\n",
       "      /* Index of renderer in `output_area.display_order` */\n",
       "      index: 0\n",
       "    });\n",
       "  }\n",
       "\n",
       "  // register the mime type if in Jupyter Notebook environment and previously unregistered\n",
       "  if (root.Jupyter !== undefined) {\n",
       "    const events = require('base/js/events');\n",
       "    const OutputArea = require('notebook/js/outputarea').OutputArea;\n",
       "\n",
       "    if (OutputArea.prototype.mime_types().indexOf(EXEC_MIME_TYPE) == -1) {\n",
       "      register_renderer(events, OutputArea);\n",
       "    }\n",
       "  }\n",
       "  if (typeof (root._bokeh_timeout) === \"undefined\" || force === true) {\n",
       "    root._bokeh_timeout = Date.now() + 5000;\n",
       "    root._bokeh_failed_load = false;\n",
       "  }\n",
       "\n",
       "  const NB_LOAD_WARNING = {'data': {'text/html':\n",
       "     \"<div style='background-color: #fdd'>\\n\"+\n",
       "     \"<p>\\n\"+\n",
       "     \"BokehJS does not appear to have successfully loaded. If loading BokehJS from CDN, this \\n\"+\n",
       "     \"may be due to a slow or bad network connection. Possible fixes:\\n\"+\n",
       "     \"</p>\\n\"+\n",
       "     \"<ul>\\n\"+\n",
       "     \"<li>re-rerun `output_notebook()` to attempt to load from CDN again, or</li>\\n\"+\n",
       "     \"<li>use INLINE resources instead, as so:</li>\\n\"+\n",
       "     \"</ul>\\n\"+\n",
       "     \"<code>\\n\"+\n",
       "     \"from bokeh.resources import INLINE\\n\"+\n",
       "     \"output_notebook(resources=INLINE)\\n\"+\n",
       "     \"</code>\\n\"+\n",
       "     \"</div>\"}};\n",
       "\n",
       "  function display_loaded(error = null) {\n",
       "    const el = document.getElementById(\"bf19295a-cc2f-4c44-b5be-c22c8caad224\");\n",
       "    if (el != null) {\n",
       "      const html = (() => {\n",
       "        if (typeof root.Bokeh === \"undefined\") {\n",
       "          if (error == null) {\n",
       "            return \"BokehJS is loading ...\";\n",
       "          } else {\n",
       "            return \"BokehJS failed to load.\";\n",
       "          }\n",
       "        } else {\n",
       "          const prefix = `BokehJS ${root.Bokeh.version}`;\n",
       "          if (error == null) {\n",
       "            return `${prefix} successfully loaded.`;\n",
       "          } else {\n",
       "            return `${prefix} <b>encountered errors</b> while loading and may not function as expected.`;\n",
       "          }\n",
       "        }\n",
       "      })();\n",
       "      el.innerHTML = html;\n",
       "\n",
       "      if (error != null) {\n",
       "        const wrapper = document.createElement(\"div\");\n",
       "        wrapper.style.overflow = \"auto\";\n",
       "        wrapper.style.height = \"5em\";\n",
       "        wrapper.style.resize = \"vertical\";\n",
       "        const content = document.createElement(\"div\");\n",
       "        content.style.fontFamily = \"monospace\";\n",
       "        content.style.whiteSpace = \"pre-wrap\";\n",
       "        content.style.backgroundColor = \"rgb(255, 221, 221)\";\n",
       "        content.textContent = error.stack ?? error.toString();\n",
       "        wrapper.append(content);\n",
       "        el.append(wrapper);\n",
       "      }\n",
       "    } else if (Date.now() < root._bokeh_timeout) {\n",
       "      setTimeout(() => display_loaded(error), 100);\n",
       "    }\n",
       "  }\n",
       "\n",
       "  function run_callbacks() {\n",
       "    try {\n",
       "      root._bokeh_onload_callbacks.forEach(function(callback) {\n",
       "        if (callback != null)\n",
       "          callback();\n",
       "      });\n",
       "    } finally {\n",
       "      delete root._bokeh_onload_callbacks\n",
       "    }\n",
       "    console.debug(\"Bokeh: all callbacks have finished\");\n",
       "  }\n",
       "\n",
       "  function load_libs(css_urls, js_urls, callback) {\n",
       "    if (css_urls == null) css_urls = [];\n",
       "    if (js_urls == null) js_urls = [];\n",
       "\n",
       "    root._bokeh_onload_callbacks.push(callback);\n",
       "    if (root._bokeh_is_loading > 0) {\n",
       "      console.debug(\"Bokeh: BokehJS is being loaded, scheduling callback at\", now());\n",
       "      return null;\n",
       "    }\n",
       "    if (js_urls == null || js_urls.length === 0) {\n",
       "      run_callbacks();\n",
       "      return null;\n",
       "    }\n",
       "    console.debug(\"Bokeh: BokehJS not loaded, scheduling load and callback at\", now());\n",
       "    root._bokeh_is_loading = css_urls.length + js_urls.length;\n",
       "\n",
       "    function on_load() {\n",
       "      root._bokeh_is_loading--;\n",
       "      if (root._bokeh_is_loading === 0) {\n",
       "        console.debug(\"Bokeh: all BokehJS libraries/stylesheets loaded\");\n",
       "        run_callbacks()\n",
       "      }\n",
       "    }\n",
       "\n",
       "    function on_error(url) {\n",
       "      console.error(\"failed to load \" + url);\n",
       "    }\n",
       "\n",
       "    for (let i = 0; i < css_urls.length; i++) {\n",
       "      const url = css_urls[i];\n",
       "      const element = document.createElement(\"link\");\n",
       "      element.onload = on_load;\n",
       "      element.onerror = on_error.bind(null, url);\n",
       "      element.rel = \"stylesheet\";\n",
       "      element.type = \"text/css\";\n",
       "      element.href = url;\n",
       "      console.debug(\"Bokeh: injecting link tag for BokehJS stylesheet: \", url);\n",
       "      document.body.appendChild(element);\n",
       "    }\n",
       "\n",
       "    for (let i = 0; i < js_urls.length; i++) {\n",
       "      const url = js_urls[i];\n",
       "      const element = document.createElement('script');\n",
       "      element.onload = on_load;\n",
       "      element.onerror = on_error.bind(null, url);\n",
       "      element.async = false;\n",
       "      element.src = url;\n",
       "      console.debug(\"Bokeh: injecting script tag for BokehJS library: \", url);\n",
       "      document.head.appendChild(element);\n",
       "    }\n",
       "  };\n",
       "\n",
       "  function inject_raw_css(css) {\n",
       "    const element = document.createElement(\"style\");\n",
       "    element.appendChild(document.createTextNode(css));\n",
       "    document.body.appendChild(element);\n",
       "  }\n",
       "\n",
       "  const js_urls = [\"https://cdn.bokeh.org/bokeh/release/bokeh-3.4.2.min.js\", \"https://cdn.bokeh.org/bokeh/release/bokeh-gl-3.4.2.min.js\", \"https://cdn.bokeh.org/bokeh/release/bokeh-widgets-3.4.2.min.js\", \"https://cdn.bokeh.org/bokeh/release/bokeh-tables-3.4.2.min.js\", \"https://cdn.bokeh.org/bokeh/release/bokeh-mathjax-3.4.2.min.js\"];\n",
       "  const css_urls = [];\n",
       "\n",
       "  const inline_js = [    function(Bokeh) {\n",
       "      Bokeh.set_log_level(\"info\");\n",
       "    },\n",
       "function(Bokeh) {\n",
       "    }\n",
       "  ];\n",
       "\n",
       "  function run_inline_js() {\n",
       "    if (root.Bokeh !== undefined || force === true) {\n",
       "      try {\n",
       "            for (let i = 0; i < inline_js.length; i++) {\n",
       "      inline_js[i].call(root, root.Bokeh);\n",
       "    }\n",
       "\n",
       "      } catch (error) {display_loaded(error);throw error;\n",
       "      }if (force === true) {\n",
       "        display_loaded();\n",
       "      }} else if (Date.now() < root._bokeh_timeout) {\n",
       "      setTimeout(run_inline_js, 100);\n",
       "    } else if (!root._bokeh_failed_load) {\n",
       "      console.log(\"Bokeh: BokehJS failed to load within specified timeout.\");\n",
       "      root._bokeh_failed_load = true;\n",
       "    } else if (force !== true) {\n",
       "      const cell = $(document.getElementById(\"bf19295a-cc2f-4c44-b5be-c22c8caad224\")).parents('.cell').data().cell;\n",
       "      cell.output_area.append_execute_result(NB_LOAD_WARNING)\n",
       "    }\n",
       "  }\n",
       "\n",
       "  if (root._bokeh_is_loading === 0) {\n",
       "    console.debug(\"Bokeh: BokehJS loaded, going straight to plotting\");\n",
       "    run_inline_js();\n",
       "  } else {\n",
       "    load_libs(css_urls, js_urls, function() {\n",
       "      console.debug(\"Bokeh: BokehJS plotting callback run at\", now());\n",
       "      run_inline_js();\n",
       "    });\n",
       "  }\n",
       "}(window));"
      ],
      "application/vnd.bokehjs_load.v0+json": "'use strict';\n(function(root) {\n  function now() {\n    return new Date();\n  }\n\n  const force = true;\n\n  if (typeof root._bokeh_onload_callbacks === \"undefined\" || force === true) {\n    root._bokeh_onload_callbacks = [];\n    root._bokeh_is_loading = undefined;\n  }\n\n\n  if (typeof (root._bokeh_timeout) === \"undefined\" || force === true) {\n    root._bokeh_timeout = Date.now() + 5000;\n    root._bokeh_failed_load = false;\n  }\n\n  const NB_LOAD_WARNING = {'data': {'text/html':\n     \"<div style='background-color: #fdd'>\\n\"+\n     \"<p>\\n\"+\n     \"BokehJS does not appear to have successfully loaded. If loading BokehJS from CDN, this \\n\"+\n     \"may be due to a slow or bad network connection. Possible fixes:\\n\"+\n     \"</p>\\n\"+\n     \"<ul>\\n\"+\n     \"<li>re-rerun `output_notebook()` to attempt to load from CDN again, or</li>\\n\"+\n     \"<li>use INLINE resources instead, as so:</li>\\n\"+\n     \"</ul>\\n\"+\n     \"<code>\\n\"+\n     \"from bokeh.resources import INLINE\\n\"+\n     \"output_notebook(resources=INLINE)\\n\"+\n     \"</code>\\n\"+\n     \"</div>\"}};\n\n  function display_loaded(error = null) {\n    const el = document.getElementById(\"bf19295a-cc2f-4c44-b5be-c22c8caad224\");\n    if (el != null) {\n      const html = (() => {\n        if (typeof root.Bokeh === \"undefined\") {\n          if (error == null) {\n            return \"BokehJS is loading ...\";\n          } else {\n            return \"BokehJS failed to load.\";\n          }\n        } else {\n          const prefix = `BokehJS ${root.Bokeh.version}`;\n          if (error == null) {\n            return `${prefix} successfully loaded.`;\n          } else {\n            return `${prefix} <b>encountered errors</b> while loading and may not function as expected.`;\n          }\n        }\n      })();\n      el.innerHTML = html;\n\n      if (error != null) {\n        const wrapper = document.createElement(\"div\");\n        wrapper.style.overflow = \"auto\";\n        wrapper.style.height = \"5em\";\n        wrapper.style.resize = \"vertical\";\n        const content = document.createElement(\"div\");\n        content.style.fontFamily = \"monospace\";\n        content.style.whiteSpace = \"pre-wrap\";\n        content.style.backgroundColor = \"rgb(255, 221, 221)\";\n        content.textContent = error.stack ?? error.toString();\n        wrapper.append(content);\n        el.append(wrapper);\n      }\n    } else if (Date.now() < root._bokeh_timeout) {\n      setTimeout(() => display_loaded(error), 100);\n    }\n  }\n\n  function run_callbacks() {\n    try {\n      root._bokeh_onload_callbacks.forEach(function(callback) {\n        if (callback != null)\n          callback();\n      });\n    } finally {\n      delete root._bokeh_onload_callbacks\n    }\n    console.debug(\"Bokeh: all callbacks have finished\");\n  }\n\n  function load_libs(css_urls, js_urls, callback) {\n    if (css_urls == null) css_urls = [];\n    if (js_urls == null) js_urls = [];\n\n    root._bokeh_onload_callbacks.push(callback);\n    if (root._bokeh_is_loading > 0) {\n      console.debug(\"Bokeh: BokehJS is being loaded, scheduling callback at\", now());\n      return null;\n    }\n    if (js_urls == null || js_urls.length === 0) {\n      run_callbacks();\n      return null;\n    }\n    console.debug(\"Bokeh: BokehJS not loaded, scheduling load and callback at\", now());\n    root._bokeh_is_loading = css_urls.length + js_urls.length;\n\n    function on_load() {\n      root._bokeh_is_loading--;\n      if (root._bokeh_is_loading === 0) {\n        console.debug(\"Bokeh: all BokehJS libraries/stylesheets loaded\");\n        run_callbacks()\n      }\n    }\n\n    function on_error(url) {\n      console.error(\"failed to load \" + url);\n    }\n\n    for (let i = 0; i < css_urls.length; i++) {\n      const url = css_urls[i];\n      const element = document.createElement(\"link\");\n      element.onload = on_load;\n      element.onerror = on_error.bind(null, url);\n      element.rel = \"stylesheet\";\n      element.type = \"text/css\";\n      element.href = url;\n      console.debug(\"Bokeh: injecting link tag for BokehJS stylesheet: \", url);\n      document.body.appendChild(element);\n    }\n\n    for (let i = 0; i < js_urls.length; i++) {\n      const url = js_urls[i];\n      const element = document.createElement('script');\n      element.onload = on_load;\n      element.onerror = on_error.bind(null, url);\n      element.async = false;\n      element.src = url;\n      console.debug(\"Bokeh: injecting script tag for BokehJS library: \", url);\n      document.head.appendChild(element);\n    }\n  };\n\n  function inject_raw_css(css) {\n    const element = document.createElement(\"style\");\n    element.appendChild(document.createTextNode(css));\n    document.body.appendChild(element);\n  }\n\n  const js_urls = [\"https://cdn.bokeh.org/bokeh/release/bokeh-3.4.2.min.js\", \"https://cdn.bokeh.org/bokeh/release/bokeh-gl-3.4.2.min.js\", \"https://cdn.bokeh.org/bokeh/release/bokeh-widgets-3.4.2.min.js\", \"https://cdn.bokeh.org/bokeh/release/bokeh-tables-3.4.2.min.js\", \"https://cdn.bokeh.org/bokeh/release/bokeh-mathjax-3.4.2.min.js\"];\n  const css_urls = [];\n\n  const inline_js = [    function(Bokeh) {\n      Bokeh.set_log_level(\"info\");\n    },\nfunction(Bokeh) {\n    }\n  ];\n\n  function run_inline_js() {\n    if (root.Bokeh !== undefined || force === true) {\n      try {\n            for (let i = 0; i < inline_js.length; i++) {\n      inline_js[i].call(root, root.Bokeh);\n    }\n\n      } catch (error) {display_loaded(error);throw error;\n      }if (force === true) {\n        display_loaded();\n      }} else if (Date.now() < root._bokeh_timeout) {\n      setTimeout(run_inline_js, 100);\n    } else if (!root._bokeh_failed_load) {\n      console.log(\"Bokeh: BokehJS failed to load within specified timeout.\");\n      root._bokeh_failed_load = true;\n    } else if (force !== true) {\n      const cell = $(document.getElementById(\"bf19295a-cc2f-4c44-b5be-c22c8caad224\")).parents('.cell').data().cell;\n      cell.output_area.append_execute_result(NB_LOAD_WARNING)\n    }\n  }\n\n  if (root._bokeh_is_loading === 0) {\n    console.debug(\"Bokeh: BokehJS loaded, going straight to plotting\");\n    run_inline_js();\n  } else {\n    load_libs(css_urls, js_urls, function() {\n      console.debug(\"Bokeh: BokehJS plotting callback run at\", now());\n      run_inline_js();\n    });\n  }\n}(window));"
     },
     "metadata": {},
     "output_type": "display_data"
    }
   ],
   "source": [
    "from bokeh.plotting import figure, show\n",
    "from bokeh.io import output_notebook\n",
    "from bokeh.models import NumeralTickFormatter, Span\n",
    "output_notebook()"
   ]
  },
  {
   "cell_type": "code",
   "execution_count": 5,
   "metadata": {},
   "outputs": [
    {
     "data": {
      "text/html": [
       "\n",
       "  <div id=\"d906877c-414a-41c7-8a83-f4a30fc46929\" data-root-id=\"p1001\" style=\"display: contents;\"></div>\n"
      ]
     },
     "metadata": {},
     "output_type": "display_data"
    },
    {
     "data": {
      "application/javascript": [
       "(function(root) {\n",
       "  function embed_document(root) {\n",
       "  const docs_json = {\"28c331dd-11c7-46e7-adb2-29c3203d7cc5\":{\"version\":\"3.4.2\",\"title\":\"Bokeh Application\",\"roots\":[{\"type\":\"object\",\"name\":\"Figure\",\"id\":\"p1001\",\"attributes\":{\"width\":500,\"height\":400,\"x_range\":{\"type\":\"object\",\"name\":\"DataRange1d\",\"id\":\"p1002\"},\"y_range\":{\"type\":\"object\",\"name\":\"DataRange1d\",\"id\":\"p1003\"},\"x_scale\":{\"type\":\"object\",\"name\":\"LinearScale\",\"id\":\"p1011\"},\"y_scale\":{\"type\":\"object\",\"name\":\"LinearScale\",\"id\":\"p1012\"},\"title\":{\"type\":\"object\",\"name\":\"Title\",\"id\":\"p1004\",\"attributes\":{\"text\":\"Histogram of City of Chicago Employee Salaries\"}},\"renderers\":[{\"type\":\"object\",\"name\":\"GlyphRenderer\",\"id\":\"p1041\",\"attributes\":{\"data_source\":{\"type\":\"object\",\"name\":\"ColumnDataSource\",\"id\":\"p1035\",\"attributes\":{\"selected\":{\"type\":\"object\",\"name\":\"Selection\",\"id\":\"p1036\",\"attributes\":{\"indices\":[],\"line_indices\":[]}},\"selection_policy\":{\"type\":\"object\",\"name\":\"UnionRenderers\",\"id\":\"p1037\"},\"data\":{\"type\":\"map\",\"entries\":[[\"top\",{\"type\":\"ndarray\",\"array\":{\"type\":\"bytes\",\"data\":\"AwAAAAEAAAAIAAAAOAAAAFEAAADbAAAAYQQAAHkDAAA+AgAATAUAAPIHAADpBwAA1QwAAOUOAAC0DwAAIgkAALYEAAAvAwAAcQIAAOgBAADAAAAAoAAAACsAAAByAAAAEAAAAFkAAAAWAAAAFAAAAAQAAAAOAAAAAQAAAAIAAAABAAAAAAAAAAEAAAAAAAAAAAAAAAAAAAAAAAAAAAAAAAAAAAABAAAAAAAAAAEAAAA=\"},\"shape\":[44],\"dtype\":\"int32\",\"order\":\"little\"}],[\"left\",{\"type\":\"ndarray\",\"array\":{\"type\":\"bytes\",\"data\":\"AAAAAABowEBddNFFlz3MQF100UWXCdRAjC666GL02UC66KKLLt/fQHTRRRf95OJAjC666GLa5UCjiy66yM/oQLrooosuxetA0UUXXZS67kB00UUX/dfwQAAAAACwUvJAjC666GLN80AXXXTRFUj1QKOLLrrIwvZALrroons9+EC66KKLLrj5QEYXXXThMvtA0UUXXZSt/EBddNFFRyj+QOiiiy76ov9Auuiii9aOAEEAAAAAMEwBQUYXXXSJCQJBjC666OLGAkHRRRddPIQDQRdddNGVQQRBXXTRRe/+BEGjiy66SLwFQemiiy6ieQZBLrroovs2B0F00UUXVfQHQbrooouusQhBAAAAAAhvCUFGF110YSwKQYsuuui66QpB0UUXXRSnC0EXXXTRbWQMQV100UXHIQ1Bo4suuiDfDUHooosuepwOQS666KLTWQ9Buuiii5YLEEFddNFFQ2oQQQ==\"},\"shape\":[44],\"dtype\":\"float64\",\"order\":\"little\"}],[\"right\",{\"type\":\"ndarray\",\"array\":{\"type\":\"bytes\",\"data\":\"XXTRRZc9zEBddNFFlwnUQIwuuuhi9NlAuuiiiy7f30B00UUX/eTiQIwuuuhi2uVAo4suusjP6EC66KKLLsXrQNFFF12Uuu5AdNFFF/3X8EAAAAAAsFLyQIwuuuhizfNAF1100RVI9UCjiy66yML2QC666KJ7PfhAuuiiiy64+UBGF1104TL7QNFFF12UrfxAXXTRRUco/kDooosu+qL/QLrooovWjgBBAAAAADBMAUFGF110iQkCQYwuuujixgJB0UUXXTyEA0EXXXTRlUEEQV100UXv/gRBo4suuki8BUHpoosuonkGQS666KL7NgdBdNFFF1X0B0G66KKLrrEIQQAAAAAIbwlBRhdddGEsCkGLLrrouukKQdFFF10UpwtBF1100W1kDEFddNFFxyENQaOLLrog3w1B6KKLLnqcDkEuuuii01kPQbrooouWCxBBXXTRRUNqEEEAAAAA8MgQQQ==\"},\"shape\":[44],\"dtype\":\"float64\",\"order\":\"little\"}]]}}},\"view\":{\"type\":\"object\",\"name\":\"CDSView\",\"id\":\"p1042\",\"attributes\":{\"filter\":{\"type\":\"object\",\"name\":\"AllIndices\",\"id\":\"p1043\"}}},\"glyph\":{\"type\":\"object\",\"name\":\"Quad\",\"id\":\"p1038\",\"attributes\":{\"left\":{\"type\":\"field\",\"field\":\"left\"},\"right\":{\"type\":\"field\",\"field\":\"right\"},\"bottom\":{\"type\":\"value\",\"value\":0},\"top\":{\"type\":\"field\",\"field\":\"top\"},\"line_color\":{\"type\":\"value\",\"value\":\"white\"},\"line_alpha\":{\"type\":\"value\",\"value\":0.5},\"fill_color\":{\"type\":\"value\",\"value\":\"navy\"},\"fill_alpha\":{\"type\":\"value\",\"value\":0.5},\"hatch_alpha\":{\"type\":\"value\",\"value\":0.5}}},\"nonselection_glyph\":{\"type\":\"object\",\"name\":\"Quad\",\"id\":\"p1039\",\"attributes\":{\"left\":{\"type\":\"field\",\"field\":\"left\"},\"right\":{\"type\":\"field\",\"field\":\"right\"},\"bottom\":{\"type\":\"value\",\"value\":0},\"top\":{\"type\":\"field\",\"field\":\"top\"},\"line_color\":{\"type\":\"value\",\"value\":\"white\"},\"line_alpha\":{\"type\":\"value\",\"value\":0.1},\"fill_color\":{\"type\":\"value\",\"value\":\"navy\"},\"fill_alpha\":{\"type\":\"value\",\"value\":0.1},\"hatch_alpha\":{\"type\":\"value\",\"value\":0.1}}},\"muted_glyph\":{\"type\":\"object\",\"name\":\"Quad\",\"id\":\"p1040\",\"attributes\":{\"left\":{\"type\":\"field\",\"field\":\"left\"},\"right\":{\"type\":\"field\",\"field\":\"right\"},\"bottom\":{\"type\":\"value\",\"value\":0},\"top\":{\"type\":\"field\",\"field\":\"top\"},\"line_color\":{\"type\":\"value\",\"value\":\"white\"},\"line_alpha\":{\"type\":\"value\",\"value\":0.2},\"fill_color\":{\"type\":\"value\",\"value\":\"navy\"},\"fill_alpha\":{\"type\":\"value\",\"value\":0.2},\"hatch_alpha\":{\"type\":\"value\",\"value\":0.2}}}}}],\"toolbar\":{\"type\":\"object\",\"name\":\"Toolbar\",\"id\":\"p1010\",\"attributes\":{\"tools\":[{\"type\":\"object\",\"name\":\"PanTool\",\"id\":\"p1023\"},{\"type\":\"object\",\"name\":\"WheelZoomTool\",\"id\":\"p1024\",\"attributes\":{\"renderers\":\"auto\"}},{\"type\":\"object\",\"name\":\"BoxZoomTool\",\"id\":\"p1025\",\"attributes\":{\"overlay\":{\"type\":\"object\",\"name\":\"BoxAnnotation\",\"id\":\"p1026\",\"attributes\":{\"syncable\":false,\"level\":\"overlay\",\"visible\":false,\"left\":{\"type\":\"number\",\"value\":\"nan\"},\"right\":{\"type\":\"number\",\"value\":\"nan\"},\"top\":{\"type\":\"number\",\"value\":\"nan\"},\"bottom\":{\"type\":\"number\",\"value\":\"nan\"},\"left_units\":\"canvas\",\"right_units\":\"canvas\",\"top_units\":\"canvas\",\"bottom_units\":\"canvas\",\"line_color\":\"black\",\"line_alpha\":1.0,\"line_width\":2,\"line_dash\":[4,4],\"fill_color\":\"lightgrey\",\"fill_alpha\":0.5}}}},{\"type\":\"object\",\"name\":\"SaveTool\",\"id\":\"p1031\"},{\"type\":\"object\",\"name\":\"ResetTool\",\"id\":\"p1032\"},{\"type\":\"object\",\"name\":\"HelpTool\",\"id\":\"p1033\"}]}},\"left\":[{\"type\":\"object\",\"name\":\"LinearAxis\",\"id\":\"p1018\",\"attributes\":{\"ticker\":{\"type\":\"object\",\"name\":\"BasicTicker\",\"id\":\"p1019\",\"attributes\":{\"mantissas\":[1,2,5]}},\"formatter\":{\"type\":\"object\",\"name\":\"BasicTickFormatter\",\"id\":\"p1020\"},\"axis_label\":\"Count\",\"major_label_policy\":{\"type\":\"object\",\"name\":\"AllLabels\",\"id\":\"p1021\"}}}],\"below\":[{\"type\":\"object\",\"name\":\"LinearAxis\",\"id\":\"p1013\",\"attributes\":{\"ticker\":{\"type\":\"object\",\"name\":\"BasicTicker\",\"id\":\"p1014\",\"attributes\":{\"mantissas\":[1,2,5]}},\"formatter\":{\"type\":\"object\",\"name\":\"NumeralTickFormatter\",\"id\":\"p1034\",\"attributes\":{\"format\":\"$0,0\"}},\"axis_label\":\"Salary ($)\",\"major_label_policy\":{\"type\":\"object\",\"name\":\"AllLabels\",\"id\":\"p1016\"}}}],\"center\":[{\"type\":\"object\",\"name\":\"Grid\",\"id\":\"p1017\",\"attributes\":{\"axis\":{\"id\":\"p1013\"}}},{\"type\":\"object\",\"name\":\"Grid\",\"id\":\"p1022\",\"attributes\":{\"dimension\":1,\"axis\":{\"id\":\"p1018\"}}}]}}]}};\n",
       "  const render_items = [{\"docid\":\"28c331dd-11c7-46e7-adb2-29c3203d7cc5\",\"roots\":{\"p1001\":\"d906877c-414a-41c7-8a83-f4a30fc46929\"},\"root_ids\":[\"p1001\"]}];\n",
       "  void root.Bokeh.embed.embed_items_notebook(docs_json, render_items);\n",
       "  }\n",
       "  if (root.Bokeh !== undefined) {\n",
       "    embed_document(root);\n",
       "  } else {\n",
       "    let attempts = 0;\n",
       "    const timer = setInterval(function(root) {\n",
       "      if (root.Bokeh !== undefined) {\n",
       "        clearInterval(timer);\n",
       "        embed_document(root);\n",
       "      } else {\n",
       "        attempts++;\n",
       "        if (attempts > 100) {\n",
       "          clearInterval(timer);\n",
       "          console.log(\"Bokeh: ERROR: Unable to run BokehJS code because BokehJS library is missing\");\n",
       "        }\n",
       "      }\n",
       "    }, 10, root)\n",
       "  }\n",
       "})(window);"
      ],
      "application/vnd.bokehjs_exec.v0+json": ""
     },
     "metadata": {
      "application/vnd.bokehjs_exec.v0+json": {
       "id": "p1001"
      }
     },
     "output_type": "display_data"
    }
   ],
   "source": [
    "# Notice we drop the missing values. In this dataset, hourly employees\n",
    "# have missing values in the Annual Salary column\n",
    "hist, edges = np.histogram(dfSalary['Annual Salary'].dropna(), bins=44)\n",
    "\n",
    "p = figure(width=500, height=400,\n",
    "           x_axis_label='Salary ($)', y_axis_label='Count',\n",
    "           title='Histogram of City of Chicago Employee Salaries')\n",
    "p.xaxis[0].formatter = NumeralTickFormatter(format=\"$0,0\")\n",
    "p.quad(bottom=0, top=hist,\n",
    "       left=edges[:-1], right=edges[1:],\n",
    "       fill_color='navy', line_color='white', alpha=0.5)\n",
    "show(p)"
   ]
  },
  {
   "cell_type": "markdown",
   "metadata": {},
   "source": [
    "Looking at the graph above, we see a \"spread\" in the salaries. Unsurprisingly, people are paid different amounts. There are many people with similar, and even identical, salaries, but not everybody is paid the same.\n",
    "\n",
    "A city executive, or the mayor, or a city council member, might wonder if there is a number that is representative of the distribution shown above. Specifically, if we took everybody's salary, pooled it, and then divided it up evenly among the employees, how much would each person get? That number is called the _mean_ or _average_ of the distribution. The mean is a measure of \"centrality\". It represents the center of the distribution. A middle number, if you will.\n",
    "\n",
    "What would you do with such a number? You might wonder how people's salaries are changing over time. If you compare the 2019 mean to the 2018 mean to the 2017 mean, you can get a sense for whether the employees' pay is rising over time. Alternatively, you could compare the average salary of Chicago employees to that of New York employees and Los Angeles employees. That's very difficult to do with the entire distribution, but is a meaningful comparison when you use the average."
   ]
  },
  {
   "cell_type": "markdown",
   "metadata": {},
   "source": [
    "### Computing the Mean Mathematically"
   ]
  },
  {
   "cell_type": "markdown",
   "metadata": {},
   "source": [
    "To compute the mean of a set of $n$ numbers, you add them up and divide by $n$. More formally, say you have numbers $x_1, x_2, \\ldots, x_n$. The mean, or average, which is written using the greek letter mu, is defined as:\n",
    "\n",
    "$$\\mu = \\frac{\\sum_{i=1}^n x_i}{n}$$"
   ]
  },
  {
   "cell_type": "markdown",
   "metadata": {},
   "source": [
    "### Computing the Mean Using Pandas"
   ]
  },
  {
   "cell_type": "markdown",
   "metadata": {},
   "source": [
    "In Pandas, it's super easy to compute the mean of a Series (remember that each DataFrame column is a Series). Just use the `mean` method:"
   ]
  },
  {
   "cell_type": "code",
   "execution_count": 6,
   "metadata": {},
   "outputs": [
    {
     "data": {
      "text/plain": [
       "87845.37224432483"
      ]
     },
     "execution_count": 6,
     "metadata": {},
     "output_type": "execute_result"
    }
   ],
   "source": [
    "dfSalary['Annual Salary'].mean()"
   ]
  },
  {
   "cell_type": "markdown",
   "metadata": {},
   "source": [
    "Finally, let's plot the mean on our histogram so we can see where it lies on the distribution. In the graph below, the mean is displayed as a dashed, red line."
   ]
  },
  {
   "cell_type": "code",
   "execution_count": 7,
   "metadata": {},
   "outputs": [
    {
     "data": {
      "text/html": [
       "\n",
       "  <div id=\"c98861f8-1097-4f3e-aa88-556b3a55c27a\" data-root-id=\"p1047\" style=\"display: contents;\"></div>\n"
      ]
     },
     "metadata": {},
     "output_type": "display_data"
    },
    {
     "data": {
      "application/javascript": [
       "(function(root) {\n",
       "  function embed_document(root) {\n",
       "  const docs_json = {\"3c77da8e-82c8-49da-9701-2eff67cfda51\":{\"version\":\"3.4.2\",\"title\":\"Bokeh Application\",\"roots\":[{\"type\":\"object\",\"name\":\"Figure\",\"id\":\"p1047\",\"attributes\":{\"width\":500,\"height\":400,\"x_range\":{\"type\":\"object\",\"name\":\"DataRange1d\",\"id\":\"p1048\"},\"y_range\":{\"type\":\"object\",\"name\":\"DataRange1d\",\"id\":\"p1049\"},\"x_scale\":{\"type\":\"object\",\"name\":\"LinearScale\",\"id\":\"p1057\"},\"y_scale\":{\"type\":\"object\",\"name\":\"LinearScale\",\"id\":\"p1058\"},\"title\":{\"type\":\"object\",\"name\":\"Title\",\"id\":\"p1050\",\"attributes\":{\"text\":\"Histogram of City of Chicago Employee Salaries\"}},\"renderers\":[{\"type\":\"object\",\"name\":\"GlyphRenderer\",\"id\":\"p1087\",\"attributes\":{\"data_source\":{\"type\":\"object\",\"name\":\"ColumnDataSource\",\"id\":\"p1081\",\"attributes\":{\"selected\":{\"type\":\"object\",\"name\":\"Selection\",\"id\":\"p1082\",\"attributes\":{\"indices\":[],\"line_indices\":[]}},\"selection_policy\":{\"type\":\"object\",\"name\":\"UnionRenderers\",\"id\":\"p1083\"},\"data\":{\"type\":\"map\",\"entries\":[[\"top\",{\"type\":\"ndarray\",\"array\":{\"type\":\"bytes\",\"data\":\"AwAAAAEAAAAIAAAAOAAAAFEAAADbAAAAYQQAAHkDAAA+AgAATAUAAPIHAADpBwAA1QwAAOUOAAC0DwAAIgkAALYEAAAvAwAAcQIAAOgBAADAAAAAoAAAACsAAAByAAAAEAAAAFkAAAAWAAAAFAAAAAQAAAAOAAAAAQAAAAIAAAABAAAAAAAAAAEAAAAAAAAAAAAAAAAAAAAAAAAAAAAAAAAAAAABAAAAAAAAAAEAAAA=\"},\"shape\":[44],\"dtype\":\"int32\",\"order\":\"little\"}],[\"left\",{\"type\":\"ndarray\",\"array\":{\"type\":\"bytes\",\"data\":\"AAAAAABowEBddNFFlz3MQF100UWXCdRAjC666GL02UC66KKLLt/fQHTRRRf95OJAjC666GLa5UCjiy66yM/oQLrooosuxetA0UUXXZS67kB00UUX/dfwQAAAAACwUvJAjC666GLN80AXXXTRFUj1QKOLLrrIwvZALrroons9+EC66KKLLrj5QEYXXXThMvtA0UUXXZSt/EBddNFFRyj+QOiiiy76ov9Auuiii9aOAEEAAAAAMEwBQUYXXXSJCQJBjC666OLGAkHRRRddPIQDQRdddNGVQQRBXXTRRe/+BEGjiy66SLwFQemiiy6ieQZBLrroovs2B0F00UUXVfQHQbrooouusQhBAAAAAAhvCUFGF110YSwKQYsuuui66QpB0UUXXRSnC0EXXXTRbWQMQV100UXHIQ1Bo4suuiDfDUHooosuepwOQS666KLTWQ9Buuiii5YLEEFddNFFQ2oQQQ==\"},\"shape\":[44],\"dtype\":\"float64\",\"order\":\"little\"}],[\"right\",{\"type\":\"ndarray\",\"array\":{\"type\":\"bytes\",\"data\":\"XXTRRZc9zEBddNFFlwnUQIwuuuhi9NlAuuiiiy7f30B00UUX/eTiQIwuuuhi2uVAo4suusjP6EC66KKLLsXrQNFFF12Uuu5AdNFFF/3X8EAAAAAAsFLyQIwuuuhizfNAF1100RVI9UCjiy66yML2QC666KJ7PfhAuuiiiy64+UBGF1104TL7QNFFF12UrfxAXXTRRUco/kDooosu+qL/QLrooovWjgBBAAAAADBMAUFGF110iQkCQYwuuujixgJB0UUXXTyEA0EXXXTRlUEEQV100UXv/gRBo4suuki8BUHpoosuonkGQS666KL7NgdBdNFFF1X0B0G66KKLrrEIQQAAAAAIbwlBRhdddGEsCkGLLrrouukKQdFFF10UpwtBF1100W1kDEFddNFFxyENQaOLLrog3w1B6KKLLnqcDkEuuuii01kPQbrooouWCxBBXXTRRUNqEEEAAAAA8MgQQQ==\"},\"shape\":[44],\"dtype\":\"float64\",\"order\":\"little\"}]]}}},\"view\":{\"type\":\"object\",\"name\":\"CDSView\",\"id\":\"p1088\",\"attributes\":{\"filter\":{\"type\":\"object\",\"name\":\"AllIndices\",\"id\":\"p1089\"}}},\"glyph\":{\"type\":\"object\",\"name\":\"Quad\",\"id\":\"p1084\",\"attributes\":{\"left\":{\"type\":\"field\",\"field\":\"left\"},\"right\":{\"type\":\"field\",\"field\":\"right\"},\"bottom\":{\"type\":\"value\",\"value\":0},\"top\":{\"type\":\"field\",\"field\":\"top\"},\"line_color\":{\"type\":\"value\",\"value\":\"white\"},\"line_alpha\":{\"type\":\"value\",\"value\":0.5},\"fill_color\":{\"type\":\"value\",\"value\":\"navy\"},\"fill_alpha\":{\"type\":\"value\",\"value\":0.5},\"hatch_alpha\":{\"type\":\"value\",\"value\":0.5}}},\"nonselection_glyph\":{\"type\":\"object\",\"name\":\"Quad\",\"id\":\"p1085\",\"attributes\":{\"left\":{\"type\":\"field\",\"field\":\"left\"},\"right\":{\"type\":\"field\",\"field\":\"right\"},\"bottom\":{\"type\":\"value\",\"value\":0},\"top\":{\"type\":\"field\",\"field\":\"top\"},\"line_color\":{\"type\":\"value\",\"value\":\"white\"},\"line_alpha\":{\"type\":\"value\",\"value\":0.1},\"fill_color\":{\"type\":\"value\",\"value\":\"navy\"},\"fill_alpha\":{\"type\":\"value\",\"value\":0.1},\"hatch_alpha\":{\"type\":\"value\",\"value\":0.1}}},\"muted_glyph\":{\"type\":\"object\",\"name\":\"Quad\",\"id\":\"p1086\",\"attributes\":{\"left\":{\"type\":\"field\",\"field\":\"left\"},\"right\":{\"type\":\"field\",\"field\":\"right\"},\"bottom\":{\"type\":\"value\",\"value\":0},\"top\":{\"type\":\"field\",\"field\":\"top\"},\"line_color\":{\"type\":\"value\",\"value\":\"white\"},\"line_alpha\":{\"type\":\"value\",\"value\":0.2},\"fill_color\":{\"type\":\"value\",\"value\":\"navy\"},\"fill_alpha\":{\"type\":\"value\",\"value\":0.2},\"hatch_alpha\":{\"type\":\"value\",\"value\":0.2}}}}}],\"toolbar\":{\"type\":\"object\",\"name\":\"Toolbar\",\"id\":\"p1056\",\"attributes\":{\"tools\":[{\"type\":\"object\",\"name\":\"PanTool\",\"id\":\"p1069\"},{\"type\":\"object\",\"name\":\"WheelZoomTool\",\"id\":\"p1070\",\"attributes\":{\"renderers\":\"auto\"}},{\"type\":\"object\",\"name\":\"BoxZoomTool\",\"id\":\"p1071\",\"attributes\":{\"overlay\":{\"type\":\"object\",\"name\":\"BoxAnnotation\",\"id\":\"p1072\",\"attributes\":{\"syncable\":false,\"level\":\"overlay\",\"visible\":false,\"left\":{\"type\":\"number\",\"value\":\"nan\"},\"right\":{\"type\":\"number\",\"value\":\"nan\"},\"top\":{\"type\":\"number\",\"value\":\"nan\"},\"bottom\":{\"type\":\"number\",\"value\":\"nan\"},\"left_units\":\"canvas\",\"right_units\":\"canvas\",\"top_units\":\"canvas\",\"bottom_units\":\"canvas\",\"line_color\":\"black\",\"line_alpha\":1.0,\"line_width\":2,\"line_dash\":[4,4],\"fill_color\":\"lightgrey\",\"fill_alpha\":0.5}}}},{\"type\":\"object\",\"name\":\"SaveTool\",\"id\":\"p1077\"},{\"type\":\"object\",\"name\":\"ResetTool\",\"id\":\"p1078\"},{\"type\":\"object\",\"name\":\"HelpTool\",\"id\":\"p1079\"}]}},\"left\":[{\"type\":\"object\",\"name\":\"LinearAxis\",\"id\":\"p1064\",\"attributes\":{\"ticker\":{\"type\":\"object\",\"name\":\"BasicTicker\",\"id\":\"p1065\",\"attributes\":{\"mantissas\":[1,2,5]}},\"formatter\":{\"type\":\"object\",\"name\":\"BasicTickFormatter\",\"id\":\"p1066\"},\"axis_label\":\"Count\",\"major_label_policy\":{\"type\":\"object\",\"name\":\"AllLabels\",\"id\":\"p1067\"}}}],\"below\":[{\"type\":\"object\",\"name\":\"LinearAxis\",\"id\":\"p1059\",\"attributes\":{\"ticker\":{\"type\":\"object\",\"name\":\"BasicTicker\",\"id\":\"p1060\",\"attributes\":{\"mantissas\":[1,2,5]}},\"formatter\":{\"type\":\"object\",\"name\":\"NumeralTickFormatter\",\"id\":\"p1080\",\"attributes\":{\"format\":\"$0,0\"}},\"axis_label\":\"Salary ($)\",\"major_label_policy\":{\"type\":\"object\",\"name\":\"AllLabels\",\"id\":\"p1062\"}}}],\"center\":[{\"type\":\"object\",\"name\":\"Grid\",\"id\":\"p1063\",\"attributes\":{\"axis\":{\"id\":\"p1059\"}}},{\"type\":\"object\",\"name\":\"Grid\",\"id\":\"p1068\",\"attributes\":{\"dimension\":1,\"axis\":{\"id\":\"p1064\"}}},{\"type\":\"object\",\"name\":\"Span\",\"id\":\"p1090\",\"attributes\":{\"location\":87845.37224432483,\"dimension\":\"height\",\"line_color\":\"red\",\"line_width\":2,\"line_dash\":[6]}}]}}]}};\n",
       "  const render_items = [{\"docid\":\"3c77da8e-82c8-49da-9701-2eff67cfda51\",\"roots\":{\"p1047\":\"c98861f8-1097-4f3e-aa88-556b3a55c27a\"},\"root_ids\":[\"p1047\"]}];\n",
       "  void root.Bokeh.embed.embed_items_notebook(docs_json, render_items);\n",
       "  }\n",
       "  if (root.Bokeh !== undefined) {\n",
       "    embed_document(root);\n",
       "  } else {\n",
       "    let attempts = 0;\n",
       "    const timer = setInterval(function(root) {\n",
       "      if (root.Bokeh !== undefined) {\n",
       "        clearInterval(timer);\n",
       "        embed_document(root);\n",
       "      } else {\n",
       "        attempts++;\n",
       "        if (attempts > 100) {\n",
       "          clearInterval(timer);\n",
       "          console.log(\"Bokeh: ERROR: Unable to run BokehJS code because BokehJS library is missing\");\n",
       "        }\n",
       "      }\n",
       "    }, 10, root)\n",
       "  }\n",
       "})(window);"
      ],
      "application/vnd.bokehjs_exec.v0+json": ""
     },
     "metadata": {
      "application/vnd.bokehjs_exec.v0+json": {
       "id": "p1047"
      }
     },
     "output_type": "display_data"
    }
   ],
   "source": [
    "# Notice we drop the missing values. In this dataset, hourly employees\n",
    "# have missing values in the Annual Salary column\n",
    "hist, edges = np.histogram(dfSalary['Annual Salary'].dropna(), bins=44)\n",
    "\n",
    "p = figure(width=500, height=400,\n",
    "           x_axis_label='Salary ($)', y_axis_label='Count',\n",
    "           title='Histogram of City of Chicago Employee Salaries')\n",
    "p.xaxis[0].formatter = NumeralTickFormatter(format=\"$0,0\")\n",
    "p.quad(bottom=0, top=hist,\n",
    "       left=edges[:-1], right=edges[1:],\n",
    "       fill_color='navy', line_color='white', alpha=0.5)\n",
    "\n",
    "meanSalaryLine = Span(location = dfSalary['Annual Salary'].mean(), \n",
    "                      dimension='height',\n",
    "                      line_color='red', line_dash='dashed', line_width=2)\n",
    "p.add_layout(meanSalaryLine)\n",
    "\n",
    "show(p)"
   ]
  },
  {
   "cell_type": "markdown",
   "metadata": {},
   "source": [
    "## Median"
   ]
  },
  {
   "cell_type": "markdown",
   "metadata": {},
   "source": [
    "The mean is probably the most commonly-reported descriptive statistic. However, sometimes using the mean can be problematic. If the distribution of your data is not \"symmetric\", or if you have a lot of outliers, the mean can be misleading.\n",
    "\n",
    "To see this, let's work with our income data from Compustat. Remember that the IB column contains income before extraordinary items for all U.S. companies in 2018. Let's plot the histogram of that column. We'll also plot the mean.\n",
    "\n",
    "Because the data has such a large spread, we'll filter the data so it only contains incomes less than \\\\$5 billion and greater than negative \\\\$1 billion."
   ]
  },
  {
   "cell_type": "code",
   "execution_count": 8,
   "metadata": {},
   "outputs": [
    {
     "data": {
      "text/html": [
       "\n",
       "  <div id=\"b9bac424-fc26-4d11-9111-38c220545b34\" data-root-id=\"p1094\" style=\"display: contents;\"></div>\n"
      ]
     },
     "metadata": {},
     "output_type": "display_data"
    },
    {
     "data": {
      "application/javascript": [
       "(function(root) {\n",
       "  function embed_document(root) {\n",
       "  const docs_json = {\"9d647785-1fb5-43e4-b920-e264fd073e27\":{\"version\":\"3.4.2\",\"title\":\"Bokeh Application\",\"roots\":[{\"type\":\"object\",\"name\":\"Figure\",\"id\":\"p1094\",\"attributes\":{\"width\":500,\"height\":400,\"x_range\":{\"type\":\"object\",\"name\":\"DataRange1d\",\"id\":\"p1095\"},\"y_range\":{\"type\":\"object\",\"name\":\"DataRange1d\",\"id\":\"p1096\"},\"x_scale\":{\"type\":\"object\",\"name\":\"LinearScale\",\"id\":\"p1104\"},\"y_scale\":{\"type\":\"object\",\"name\":\"LinearScale\",\"id\":\"p1105\"},\"title\":{\"type\":\"object\",\"name\":\"Title\",\"id\":\"p1097\",\"attributes\":{\"text\":\"Histogram of IB\"}},\"renderers\":[{\"type\":\"object\",\"name\":\"GlyphRenderer\",\"id\":\"p1134\",\"attributes\":{\"data_source\":{\"type\":\"object\",\"name\":\"ColumnDataSource\",\"id\":\"p1128\",\"attributes\":{\"selected\":{\"type\":\"object\",\"name\":\"Selection\",\"id\":\"p1129\",\"attributes\":{\"indices\":[],\"line_indices\":[]}},\"selection_policy\":{\"type\":\"object\",\"name\":\"UnionRenderers\",\"id\":\"p1130\"},\"data\":{\"type\":\"map\",\"entries\":[[\"top\",{\"type\":\"ndarray\",\"array\":{\"type\":\"bytes\",\"data\":\"AQAAAAEAAAADAAAAAwAAAAMAAAAEAAAAAgAAAA0AAAARAAAAHQAAAE8AAADoAAAAdAQAAFYBAACpAAAAZwAAAEgAAAA7AAAALgAAACAAAAAbAAAAEwAAABQAAAAMAAAADAAAABIAAAAKAAAACwAAAAUAAAAHAAAACQAAAAMAAAAHAAAACwAAAAEAAAAEAAAABgAAAAUAAAABAAAABQAAAAQAAAACAAAABQAAAAQAAAACAAAABgAAAAMAAAAEAAAAAAAAAAQAAAABAAAAAAAAAAIAAAADAAAAAgAAAAMAAAAAAAAAAgAAAAAAAAABAAAAAgAAAAAAAAABAAAAAwAAAAIAAAAAAAAAAQAAAAEAAAABAAAAAgAAAAAAAAAAAAAAAAAAAAEAAAABAAAA\"},\"shape\":[75],\"dtype\":\"int32\",\"order\":\"little\"}],[\"left\",{\"type\":\"ndarray\",\"array\":{\"type\":\"bytes\",\"data\":\"fT81XrqAjsDl5cPGzwuMwE2MUi/llonAtjLhl/ohh8Ae2W8AEK2EwIZ//mglOILA3Esao3WGf8CsmDd0oJx6wHzlVEXLsnXATDJyFvbIcMA4/h7PQb5nwLAvs+Iu1VvA8MVQTrRbQMCQ08Qo9fJGQIg27U/PIF9ApAG8BRJkaUACtMAx3ptxQDJno2CzhXZAYhqGj4hve0DJZjTfriyAQGHApXaZoYJA+RkXDoQWhUCRc4ilbouHQCnN+TxZAIpAvyZr1EN1jEBXgNxrLuqOQPjspoGMr5BAxJlfzQHqkUCQRhgZdySTQFzz0GTsXpRAKKCJsGGZlUD0TEL81tOWQMD5+kdMDphAjKazk8FImUBYU2zfNoOaQCQAJSusvZtA8KzddiH4nEC8WZbCljKeQIgGTw4MbZ9AqtkDrcBToEAQMOBS+/CgQHaGvPg1jqFA3NyYnnArokBCM3VEq8iiQKiJUerlZaNADuAtkCADpEB0Ngo2W6CkQNqM5tuVPaVAP+PCgdDapUClOZ8nC3imQAuQe81FFadAceZXc4Cyp0DXPDQZu0+oQD2TEL/17KhAo+nsZDCKqUAJQMkKayeqQG+WpbClxKpA1eyBVuBhq0A7Q178Gv+rQKGZOqJVnKxAB/AWSJA5rUBtRvPtytatQNOcz5MFdK5AOfOrOUARr0CfSYjfeq6vQAJQssLaJbBANXugFXh0sEBopo5oFcOwQJvRfLuyEbFAzvxqDlBgsUABKFlh7a6xQDRTR7SK/bFAZ341ByhMskCaqSNaxZqyQM3UEa1i6bJA\"},\"shape\":[75],\"dtype\":\"float64\",\"order\":\"little\"}],[\"right\",{\"type\":\"ndarray\",\"array\":{\"type\":\"bytes\",\"data\":\"5eXDxs8LjMBNjFIv5ZaJwLYy4Zf6IYfAHtlvABCthMCGf/5oJTiCwNxLGqN1hn/ArJg3dKCcesB85VRFy7J1wEwychb2yHDAOP4ez0G+Z8CwL7PiLtVbwPDFUE60W0DAkNPEKPXyRkCINu1PzyBfQKQBvAUSZGlAArTAMd6bcUAyZ6Ngs4V2QGIaho+Ib3tAyWY0364sgEBhwKV2maGCQPkZFw6EFoVAkXOIpW6Lh0Apzfk8WQCKQL8ma9RDdYxAV4Dcay7qjkD47KaBjK+QQMSZX80B6pFAkEYYGXckk0Bc89Bk7F6UQCigibBhmZVA9ExC/NbTlkDA+fpHTA6YQIyms5PBSJlAWFNs3zaDmkAkACUrrL2bQPCs3XYh+JxAvFmWwpYynkCIBk8ODG2fQKrZA63AU6BAEDDgUvvwoEB2hrz4NY6hQNzcmJ5wK6JAQjN1RKvIokCoiVHq5WWjQA7gLZAgA6RAdDYKNlugpEDajObblT2lQD/jwoHQ2qVApTmfJwt4pkALkHvNRRWnQHHmV3OAsqdA1zw0GbtPqEA9kxC/9eyoQKPp7GQwiqlACUDJCmsnqkBvlqWwpcSqQNXsgVbgYatAO0Ne/Br/q0ChmTqiVZysQAfwFkiQOa1AbUbz7crWrUDTnM+TBXSuQDnzqzlAEa9An0mI33qur0ACULLC2iWwQDV7oBV4dLBAaKaOaBXDsECb0Xy7shGxQM78ag5QYLFAAShZYe2usUA0U0e0iv2xQGd+NQcoTLJAmqkjWsWaskDN1BGtYumyQAAAAAAAOLNA\"},\"shape\":[75],\"dtype\":\"float64\",\"order\":\"little\"}]]}}},\"view\":{\"type\":\"object\",\"name\":\"CDSView\",\"id\":\"p1135\",\"attributes\":{\"filter\":{\"type\":\"object\",\"name\":\"AllIndices\",\"id\":\"p1136\"}}},\"glyph\":{\"type\":\"object\",\"name\":\"Quad\",\"id\":\"p1131\",\"attributes\":{\"left\":{\"type\":\"field\",\"field\":\"left\"},\"right\":{\"type\":\"field\",\"field\":\"right\"},\"bottom\":{\"type\":\"value\",\"value\":0},\"top\":{\"type\":\"field\",\"field\":\"top\"},\"line_color\":{\"type\":\"value\",\"value\":\"white\"},\"line_alpha\":{\"type\":\"value\",\"value\":0.5},\"fill_color\":{\"type\":\"value\",\"value\":\"navy\"},\"fill_alpha\":{\"type\":\"value\",\"value\":0.5},\"hatch_alpha\":{\"type\":\"value\",\"value\":0.5}}},\"nonselection_glyph\":{\"type\":\"object\",\"name\":\"Quad\",\"id\":\"p1132\",\"attributes\":{\"left\":{\"type\":\"field\",\"field\":\"left\"},\"right\":{\"type\":\"field\",\"field\":\"right\"},\"bottom\":{\"type\":\"value\",\"value\":0},\"top\":{\"type\":\"field\",\"field\":\"top\"},\"line_color\":{\"type\":\"value\",\"value\":\"white\"},\"line_alpha\":{\"type\":\"value\",\"value\":0.1},\"fill_color\":{\"type\":\"value\",\"value\":\"navy\"},\"fill_alpha\":{\"type\":\"value\",\"value\":0.1},\"hatch_alpha\":{\"type\":\"value\",\"value\":0.1}}},\"muted_glyph\":{\"type\":\"object\",\"name\":\"Quad\",\"id\":\"p1133\",\"attributes\":{\"left\":{\"type\":\"field\",\"field\":\"left\"},\"right\":{\"type\":\"field\",\"field\":\"right\"},\"bottom\":{\"type\":\"value\",\"value\":0},\"top\":{\"type\":\"field\",\"field\":\"top\"},\"line_color\":{\"type\":\"value\",\"value\":\"white\"},\"line_alpha\":{\"type\":\"value\",\"value\":0.2},\"fill_color\":{\"type\":\"value\",\"value\":\"navy\"},\"fill_alpha\":{\"type\":\"value\",\"value\":0.2},\"hatch_alpha\":{\"type\":\"value\",\"value\":0.2}}}}}],\"toolbar\":{\"type\":\"object\",\"name\":\"Toolbar\",\"id\":\"p1103\",\"attributes\":{\"tools\":[{\"type\":\"object\",\"name\":\"PanTool\",\"id\":\"p1116\"},{\"type\":\"object\",\"name\":\"WheelZoomTool\",\"id\":\"p1117\",\"attributes\":{\"renderers\":\"auto\"}},{\"type\":\"object\",\"name\":\"BoxZoomTool\",\"id\":\"p1118\",\"attributes\":{\"overlay\":{\"type\":\"object\",\"name\":\"BoxAnnotation\",\"id\":\"p1119\",\"attributes\":{\"syncable\":false,\"level\":\"overlay\",\"visible\":false,\"left\":{\"type\":\"number\",\"value\":\"nan\"},\"right\":{\"type\":\"number\",\"value\":\"nan\"},\"top\":{\"type\":\"number\",\"value\":\"nan\"},\"bottom\":{\"type\":\"number\",\"value\":\"nan\"},\"left_units\":\"canvas\",\"right_units\":\"canvas\",\"top_units\":\"canvas\",\"bottom_units\":\"canvas\",\"line_color\":\"black\",\"line_alpha\":1.0,\"line_width\":2,\"line_dash\":[4,4],\"fill_color\":\"lightgrey\",\"fill_alpha\":0.5}}}},{\"type\":\"object\",\"name\":\"SaveTool\",\"id\":\"p1124\"},{\"type\":\"object\",\"name\":\"ResetTool\",\"id\":\"p1125\"},{\"type\":\"object\",\"name\":\"HelpTool\",\"id\":\"p1126\"}]}},\"left\":[{\"type\":\"object\",\"name\":\"LinearAxis\",\"id\":\"p1111\",\"attributes\":{\"ticker\":{\"type\":\"object\",\"name\":\"BasicTicker\",\"id\":\"p1112\",\"attributes\":{\"mantissas\":[1,2,5]}},\"formatter\":{\"type\":\"object\",\"name\":\"BasicTickFormatter\",\"id\":\"p1113\"},\"axis_label\":\"Count\",\"major_label_policy\":{\"type\":\"object\",\"name\":\"AllLabels\",\"id\":\"p1114\"}}}],\"below\":[{\"type\":\"object\",\"name\":\"LinearAxis\",\"id\":\"p1106\",\"attributes\":{\"ticker\":{\"type\":\"object\",\"name\":\"BasicTicker\",\"id\":\"p1107\",\"attributes\":{\"mantissas\":[1,2,5]}},\"formatter\":{\"type\":\"object\",\"name\":\"NumeralTickFormatter\",\"id\":\"p1127\",\"attributes\":{\"format\":\"$0,0\"}},\"axis_label\":\"Income before extraordinary items ($ mil.)\",\"major_label_policy\":{\"type\":\"object\",\"name\":\"AllLabels\",\"id\":\"p1109\"}}}],\"center\":[{\"type\":\"object\",\"name\":\"Grid\",\"id\":\"p1110\",\"attributes\":{\"axis\":{\"id\":\"p1106\"}}},{\"type\":\"object\",\"name\":\"Grid\",\"id\":\"p1115\",\"attributes\":{\"dimension\":1,\"axis\":{\"id\":\"p1111\"}}},{\"type\":\"object\",\"name\":\"Span\",\"id\":\"p1137\",\"attributes\":{\"location\":203.05486953184956,\"dimension\":\"height\",\"line_color\":\"red\",\"line_width\":2,\"line_dash\":[6]}}]}}]}};\n",
       "  const render_items = [{\"docid\":\"9d647785-1fb5-43e4-b920-e264fd073e27\",\"roots\":{\"p1094\":\"b9bac424-fc26-4d11-9111-38c220545b34\"},\"root_ids\":[\"p1094\"]}];\n",
       "  void root.Bokeh.embed.embed_items_notebook(docs_json, render_items);\n",
       "  }\n",
       "  if (root.Bokeh !== undefined) {\n",
       "    embed_document(root);\n",
       "  } else {\n",
       "    let attempts = 0;\n",
       "    const timer = setInterval(function(root) {\n",
       "      if (root.Bokeh !== undefined) {\n",
       "        clearInterval(timer);\n",
       "        embed_document(root);\n",
       "      } else {\n",
       "        attempts++;\n",
       "        if (attempts > 100) {\n",
       "          clearInterval(timer);\n",
       "          console.log(\"Bokeh: ERROR: Unable to run BokehJS code because BokehJS library is missing\");\n",
       "        }\n",
       "      }\n",
       "    }, 10, root)\n",
       "  }\n",
       "})(window);"
      ],
      "application/vnd.bokehjs_exec.v0+json": ""
     },
     "metadata": {
      "application/vnd.bokehjs_exec.v0+json": {
       "id": "p1094"
      }
     },
     "output_type": "display_data"
    }
   ],
   "source": [
    "ib = dfCompustat[(dfCompustat['IB'] < 5000) & (dfCompustat['IB'] > -1000)]['IB']\n",
    "\n",
    "# Notice we drop the missing values. In this dataset, hourly employees\n",
    "# have missing values in the Annual Salary column\n",
    "hist, edges = np.histogram(ib, bins=75)\n",
    "\n",
    "p = figure(width=500, height=400,\n",
    "           x_axis_label='Income before extraordinary items ($ mil.)', y_axis_label='Count',\n",
    "           title='Histogram of IB')\n",
    "p.xaxis[0].formatter = NumeralTickFormatter(format=\"$0,0\")\n",
    "p.quad(bottom=0, top=hist,\n",
    "       left=edges[:-1], right=edges[1:],\n",
    "       fill_color='navy', line_color='white', alpha=0.5)\n",
    "\n",
    "meanIBLine = Span(location = ib.mean(), \n",
    "                  dimension='height',\n",
    "                  line_color='red', line_dash='dashed', line_width=2)\n",
    "p.add_layout(meanIBLine)\n",
    "\n",
    "show(p)"
   ]
  },
  {
   "cell_type": "markdown",
   "metadata": {},
   "source": [
    "Look at the histogram above. Does the mean line appear to be in the center of the distribution? Not really. Because the distribution has a long \"tail\" to the right, the mean line is farther to the right than we would like. If we report the mean of this data, it might be misleading to some. The mean might be considered artificially high since a majority of companies earn less than this amount.\n",
    "\n",
    "In situations like this, where the distribution has a long tail, people often report the median. The median is literally the middle number. To compute the median, you take all the numbers, sort them, and then choose the middle number (we're omitting a few details, but that's the basic idea). \n",
    "\n",
    "The median statistic is not susceptible to outliers. Importantly, 50% of observations are less than the median, and 50% are greater than the median. It truly is the middle of the data."
   ]
  },
  {
   "cell_type": "markdown",
   "metadata": {},
   "source": [
    "### Computing the Median Using Pandas"
   ]
  },
  {
   "cell_type": "markdown",
   "metadata": {},
   "source": [
    "To compute the median of a Series in Pandas, simply use the `median` method."
   ]
  },
  {
   "cell_type": "code",
   "execution_count": 9,
   "metadata": {},
   "outputs": [
    {
     "data": {
      "text/plain": [
       "21.896"
      ]
     },
     "execution_count": 9,
     "metadata": {},
     "output_type": "execute_result"
    }
   ],
   "source": [
    "ib.median()"
   ]
  },
  {
   "cell_type": "markdown",
   "metadata": {},
   "source": [
    "Let's compare the median to the mean for this data:"
   ]
  },
  {
   "cell_type": "code",
   "execution_count": 10,
   "metadata": {},
   "outputs": [
    {
     "data": {
      "text/plain": [
       "203.05486953184956"
      ]
     },
     "execution_count": 10,
     "metadata": {},
     "output_type": "execute_result"
    }
   ],
   "source": [
    "ib.mean()"
   ]
  },
  {
   "cell_type": "markdown",
   "metadata": {},
   "source": [
    "Wow, look at that! The mean is _ten times greater_ than the median for this data!"
   ]
  },
  {
   "cell_type": "markdown",
   "metadata": {},
   "source": [
    "Let's plot the median on the same graph as the mean to illustrate the difference. Run the code cell below. The mean is the red dashed line, and the median is the black dashed line."
   ]
  },
  {
   "cell_type": "code",
   "execution_count": 11,
   "metadata": {},
   "outputs": [
    {
     "data": {
      "text/html": [
       "\n",
       "  <div id=\"f91f5a64-78ec-4fe5-aaec-df9ad3f63e4d\" data-root-id=\"p1141\" style=\"display: contents;\"></div>\n"
      ]
     },
     "metadata": {},
     "output_type": "display_data"
    },
    {
     "data": {
      "application/javascript": [
       "(function(root) {\n",
       "  function embed_document(root) {\n",
       "  const docs_json = {\"8b3b024b-629c-4dc5-b873-882d6e633c72\":{\"version\":\"3.4.2\",\"title\":\"Bokeh Application\",\"roots\":[{\"type\":\"object\",\"name\":\"Figure\",\"id\":\"p1141\",\"attributes\":{\"width\":500,\"height\":400,\"x_range\":{\"type\":\"object\",\"name\":\"DataRange1d\",\"id\":\"p1142\"},\"y_range\":{\"type\":\"object\",\"name\":\"DataRange1d\",\"id\":\"p1143\"},\"x_scale\":{\"type\":\"object\",\"name\":\"LinearScale\",\"id\":\"p1151\"},\"y_scale\":{\"type\":\"object\",\"name\":\"LinearScale\",\"id\":\"p1152\"},\"title\":{\"type\":\"object\",\"name\":\"Title\",\"id\":\"p1144\",\"attributes\":{\"text\":\"Histogram of IB\"}},\"renderers\":[{\"type\":\"object\",\"name\":\"GlyphRenderer\",\"id\":\"p1181\",\"attributes\":{\"data_source\":{\"type\":\"object\",\"name\":\"ColumnDataSource\",\"id\":\"p1175\",\"attributes\":{\"selected\":{\"type\":\"object\",\"name\":\"Selection\",\"id\":\"p1176\",\"attributes\":{\"indices\":[],\"line_indices\":[]}},\"selection_policy\":{\"type\":\"object\",\"name\":\"UnionRenderers\",\"id\":\"p1177\"},\"data\":{\"type\":\"map\",\"entries\":[[\"top\",{\"type\":\"ndarray\",\"array\":{\"type\":\"bytes\",\"data\":\"AQAAAAEAAAADAAAAAwAAAAMAAAAEAAAAAgAAAA0AAAARAAAAHQAAAE8AAADoAAAAdAQAAFYBAACpAAAAZwAAAEgAAAA7AAAALgAAACAAAAAbAAAAEwAAABQAAAAMAAAADAAAABIAAAAKAAAACwAAAAUAAAAHAAAACQAAAAMAAAAHAAAACwAAAAEAAAAEAAAABgAAAAUAAAABAAAABQAAAAQAAAACAAAABQAAAAQAAAACAAAABgAAAAMAAAAEAAAAAAAAAAQAAAABAAAAAAAAAAIAAAADAAAAAgAAAAMAAAAAAAAAAgAAAAAAAAABAAAAAgAAAAAAAAABAAAAAwAAAAIAAAAAAAAAAQAAAAEAAAABAAAAAgAAAAAAAAAAAAAAAAAAAAEAAAABAAAA\"},\"shape\":[75],\"dtype\":\"int32\",\"order\":\"little\"}],[\"left\",{\"type\":\"ndarray\",\"array\":{\"type\":\"bytes\",\"data\":\"fT81XrqAjsDl5cPGzwuMwE2MUi/llonAtjLhl/ohh8Ae2W8AEK2EwIZ//mglOILA3Esao3WGf8CsmDd0oJx6wHzlVEXLsnXATDJyFvbIcMA4/h7PQb5nwLAvs+Iu1VvA8MVQTrRbQMCQ08Qo9fJGQIg27U/PIF9ApAG8BRJkaUACtMAx3ptxQDJno2CzhXZAYhqGj4hve0DJZjTfriyAQGHApXaZoYJA+RkXDoQWhUCRc4ilbouHQCnN+TxZAIpAvyZr1EN1jEBXgNxrLuqOQPjspoGMr5BAxJlfzQHqkUCQRhgZdySTQFzz0GTsXpRAKKCJsGGZlUD0TEL81tOWQMD5+kdMDphAjKazk8FImUBYU2zfNoOaQCQAJSusvZtA8KzddiH4nEC8WZbCljKeQIgGTw4MbZ9AqtkDrcBToEAQMOBS+/CgQHaGvPg1jqFA3NyYnnArokBCM3VEq8iiQKiJUerlZaNADuAtkCADpEB0Ngo2W6CkQNqM5tuVPaVAP+PCgdDapUClOZ8nC3imQAuQe81FFadAceZXc4Cyp0DXPDQZu0+oQD2TEL/17KhAo+nsZDCKqUAJQMkKayeqQG+WpbClxKpA1eyBVuBhq0A7Q178Gv+rQKGZOqJVnKxAB/AWSJA5rUBtRvPtytatQNOcz5MFdK5AOfOrOUARr0CfSYjfeq6vQAJQssLaJbBANXugFXh0sEBopo5oFcOwQJvRfLuyEbFAzvxqDlBgsUABKFlh7a6xQDRTR7SK/bFAZ341ByhMskCaqSNaxZqyQM3UEa1i6bJA\"},\"shape\":[75],\"dtype\":\"float64\",\"order\":\"little\"}],[\"right\",{\"type\":\"ndarray\",\"array\":{\"type\":\"bytes\",\"data\":\"5eXDxs8LjMBNjFIv5ZaJwLYy4Zf6IYfAHtlvABCthMCGf/5oJTiCwNxLGqN1hn/ArJg3dKCcesB85VRFy7J1wEwychb2yHDAOP4ez0G+Z8CwL7PiLtVbwPDFUE60W0DAkNPEKPXyRkCINu1PzyBfQKQBvAUSZGlAArTAMd6bcUAyZ6Ngs4V2QGIaho+Ib3tAyWY0364sgEBhwKV2maGCQPkZFw6EFoVAkXOIpW6Lh0Apzfk8WQCKQL8ma9RDdYxAV4Dcay7qjkD47KaBjK+QQMSZX80B6pFAkEYYGXckk0Bc89Bk7F6UQCigibBhmZVA9ExC/NbTlkDA+fpHTA6YQIyms5PBSJlAWFNs3zaDmkAkACUrrL2bQPCs3XYh+JxAvFmWwpYynkCIBk8ODG2fQKrZA63AU6BAEDDgUvvwoEB2hrz4NY6hQNzcmJ5wK6JAQjN1RKvIokCoiVHq5WWjQA7gLZAgA6RAdDYKNlugpEDajObblT2lQD/jwoHQ2qVApTmfJwt4pkALkHvNRRWnQHHmV3OAsqdA1zw0GbtPqEA9kxC/9eyoQKPp7GQwiqlACUDJCmsnqkBvlqWwpcSqQNXsgVbgYatAO0Ne/Br/q0ChmTqiVZysQAfwFkiQOa1AbUbz7crWrUDTnM+TBXSuQDnzqzlAEa9An0mI33qur0ACULLC2iWwQDV7oBV4dLBAaKaOaBXDsECb0Xy7shGxQM78ag5QYLFAAShZYe2usUA0U0e0iv2xQGd+NQcoTLJAmqkjWsWaskDN1BGtYumyQAAAAAAAOLNA\"},\"shape\":[75],\"dtype\":\"float64\",\"order\":\"little\"}]]}}},\"view\":{\"type\":\"object\",\"name\":\"CDSView\",\"id\":\"p1182\",\"attributes\":{\"filter\":{\"type\":\"object\",\"name\":\"AllIndices\",\"id\":\"p1183\"}}},\"glyph\":{\"type\":\"object\",\"name\":\"Quad\",\"id\":\"p1178\",\"attributes\":{\"left\":{\"type\":\"field\",\"field\":\"left\"},\"right\":{\"type\":\"field\",\"field\":\"right\"},\"bottom\":{\"type\":\"value\",\"value\":0},\"top\":{\"type\":\"field\",\"field\":\"top\"},\"line_color\":{\"type\":\"value\",\"value\":\"white\"},\"line_alpha\":{\"type\":\"value\",\"value\":0.5},\"fill_color\":{\"type\":\"value\",\"value\":\"navy\"},\"fill_alpha\":{\"type\":\"value\",\"value\":0.5},\"hatch_alpha\":{\"type\":\"value\",\"value\":0.5}}},\"nonselection_glyph\":{\"type\":\"object\",\"name\":\"Quad\",\"id\":\"p1179\",\"attributes\":{\"left\":{\"type\":\"field\",\"field\":\"left\"},\"right\":{\"type\":\"field\",\"field\":\"right\"},\"bottom\":{\"type\":\"value\",\"value\":0},\"top\":{\"type\":\"field\",\"field\":\"top\"},\"line_color\":{\"type\":\"value\",\"value\":\"white\"},\"line_alpha\":{\"type\":\"value\",\"value\":0.1},\"fill_color\":{\"type\":\"value\",\"value\":\"navy\"},\"fill_alpha\":{\"type\":\"value\",\"value\":0.1},\"hatch_alpha\":{\"type\":\"value\",\"value\":0.1}}},\"muted_glyph\":{\"type\":\"object\",\"name\":\"Quad\",\"id\":\"p1180\",\"attributes\":{\"left\":{\"type\":\"field\",\"field\":\"left\"},\"right\":{\"type\":\"field\",\"field\":\"right\"},\"bottom\":{\"type\":\"value\",\"value\":0},\"top\":{\"type\":\"field\",\"field\":\"top\"},\"line_color\":{\"type\":\"value\",\"value\":\"white\"},\"line_alpha\":{\"type\":\"value\",\"value\":0.2},\"fill_color\":{\"type\":\"value\",\"value\":\"navy\"},\"fill_alpha\":{\"type\":\"value\",\"value\":0.2},\"hatch_alpha\":{\"type\":\"value\",\"value\":0.2}}}}}],\"toolbar\":{\"type\":\"object\",\"name\":\"Toolbar\",\"id\":\"p1150\",\"attributes\":{\"tools\":[{\"type\":\"object\",\"name\":\"PanTool\",\"id\":\"p1163\"},{\"type\":\"object\",\"name\":\"WheelZoomTool\",\"id\":\"p1164\",\"attributes\":{\"renderers\":\"auto\"}},{\"type\":\"object\",\"name\":\"BoxZoomTool\",\"id\":\"p1165\",\"attributes\":{\"overlay\":{\"type\":\"object\",\"name\":\"BoxAnnotation\",\"id\":\"p1166\",\"attributes\":{\"syncable\":false,\"level\":\"overlay\",\"visible\":false,\"left\":{\"type\":\"number\",\"value\":\"nan\"},\"right\":{\"type\":\"number\",\"value\":\"nan\"},\"top\":{\"type\":\"number\",\"value\":\"nan\"},\"bottom\":{\"type\":\"number\",\"value\":\"nan\"},\"left_units\":\"canvas\",\"right_units\":\"canvas\",\"top_units\":\"canvas\",\"bottom_units\":\"canvas\",\"line_color\":\"black\",\"line_alpha\":1.0,\"line_width\":2,\"line_dash\":[4,4],\"fill_color\":\"lightgrey\",\"fill_alpha\":0.5}}}},{\"type\":\"object\",\"name\":\"SaveTool\",\"id\":\"p1171\"},{\"type\":\"object\",\"name\":\"ResetTool\",\"id\":\"p1172\"},{\"type\":\"object\",\"name\":\"HelpTool\",\"id\":\"p1173\"}]}},\"left\":[{\"type\":\"object\",\"name\":\"LinearAxis\",\"id\":\"p1158\",\"attributes\":{\"ticker\":{\"type\":\"object\",\"name\":\"BasicTicker\",\"id\":\"p1159\",\"attributes\":{\"mantissas\":[1,2,5]}},\"formatter\":{\"type\":\"object\",\"name\":\"BasicTickFormatter\",\"id\":\"p1160\"},\"axis_label\":\"Count\",\"major_label_policy\":{\"type\":\"object\",\"name\":\"AllLabels\",\"id\":\"p1161\"}}}],\"below\":[{\"type\":\"object\",\"name\":\"LinearAxis\",\"id\":\"p1153\",\"attributes\":{\"ticker\":{\"type\":\"object\",\"name\":\"BasicTicker\",\"id\":\"p1154\",\"attributes\":{\"mantissas\":[1,2,5]}},\"formatter\":{\"type\":\"object\",\"name\":\"NumeralTickFormatter\",\"id\":\"p1174\",\"attributes\":{\"format\":\"$0,0\"}},\"axis_label\":\"Income before extraordinary items ($ mil.)\",\"major_label_policy\":{\"type\":\"object\",\"name\":\"AllLabels\",\"id\":\"p1156\"}}}],\"center\":[{\"type\":\"object\",\"name\":\"Grid\",\"id\":\"p1157\",\"attributes\":{\"axis\":{\"id\":\"p1153\"}}},{\"type\":\"object\",\"name\":\"Grid\",\"id\":\"p1162\",\"attributes\":{\"dimension\":1,\"axis\":{\"id\":\"p1158\"}}},{\"type\":\"object\",\"name\":\"Span\",\"id\":\"p1184\",\"attributes\":{\"location\":203.05486953184956,\"dimension\":\"height\",\"line_color\":\"red\",\"line_width\":2,\"line_dash\":[6]}},{\"type\":\"object\",\"name\":\"Span\",\"id\":\"p1185\",\"attributes\":{\"location\":21.896,\"dimension\":\"height\",\"line_width\":2,\"line_dash\":[6]}}]}}]}};\n",
       "  const render_items = [{\"docid\":\"8b3b024b-629c-4dc5-b873-882d6e633c72\",\"roots\":{\"p1141\":\"f91f5a64-78ec-4fe5-aaec-df9ad3f63e4d\"},\"root_ids\":[\"p1141\"]}];\n",
       "  void root.Bokeh.embed.embed_items_notebook(docs_json, render_items);\n",
       "  }\n",
       "  if (root.Bokeh !== undefined) {\n",
       "    embed_document(root);\n",
       "  } else {\n",
       "    let attempts = 0;\n",
       "    const timer = setInterval(function(root) {\n",
       "      if (root.Bokeh !== undefined) {\n",
       "        clearInterval(timer);\n",
       "        embed_document(root);\n",
       "      } else {\n",
       "        attempts++;\n",
       "        if (attempts > 100) {\n",
       "          clearInterval(timer);\n",
       "          console.log(\"Bokeh: ERROR: Unable to run BokehJS code because BokehJS library is missing\");\n",
       "        }\n",
       "      }\n",
       "    }, 10, root)\n",
       "  }\n",
       "})(window);"
      ],
      "application/vnd.bokehjs_exec.v0+json": ""
     },
     "metadata": {
      "application/vnd.bokehjs_exec.v0+json": {
       "id": "p1141"
      }
     },
     "output_type": "display_data"
    }
   ],
   "source": [
    "ib = dfCompustat[(dfCompustat['IB'] < 5000) & (dfCompustat['IB'] > -1000)]['IB']\n",
    "\n",
    "# Notice we drop the missing values. In this dataset, hourly employees\n",
    "# have missing values in the Annual Salary column\n",
    "hist, edges = np.histogram(ib, bins=75)\n",
    "\n",
    "p = figure(width=500, height=400,\n",
    "           x_axis_label='Income before extraordinary items ($ mil.)', y_axis_label='Count',\n",
    "           title='Histogram of IB')\n",
    "p.xaxis[0].formatter = NumeralTickFormatter(format=\"$0,0\")\n",
    "p.quad(bottom=0, top=hist,\n",
    "       left=edges[:-1], right=edges[1:],\n",
    "       fill_color='navy', line_color='white', alpha=0.5)\n",
    "\n",
    "meanIBLine = Span(location = ib.mean(), \n",
    "                  dimension='height',\n",
    "                  line_color='red', line_dash='dashed', line_width=2)\n",
    "p.add_layout(meanIBLine)\n",
    "\n",
    "medianIBLine = Span(location = ib.median(), \n",
    "                    dimension='height',\n",
    "                    line_color='black', line_dash='dashed', line_width=2)\n",
    "p.add_layout(medianIBLine)\n",
    "\n",
    "show(p)"
   ]
  },
  {
   "cell_type": "markdown",
   "metadata": {},
   "source": [
    "Look at that graph! The median is much closer to what we would think of as the center of the distribution."
   ]
  },
  {
   "cell_type": "markdown",
   "metadata": {},
   "source": [
    "## Standard Deviation"
   ]
  },
  {
   "cell_type": "markdown",
   "metadata": {},
   "source": [
    "When you look at a histogram, you probably notice that the data is spread out. It is often useful to quantify that spread.\n",
    "\n",
    "Statisticians have developed the variance as a measure of spread in the data. Zero variance means that every number is the same. The greater the variance, the greater the spread in the data. Variance is great, but has one drawback. The units of variance are not easy to work with. For example, if we compute the variance of the City of Chicago salary data, the variance would be measured in dollars squared. That's annoying. To make it easier to work with, many people take the square root of the variance; this is called the standard deviation."
   ]
  },
  {
   "cell_type": "markdown",
   "metadata": {},
   "source": [
    "### Computing the Standard Deviation Mathematically"
   ]
  },
  {
   "cell_type": "markdown",
   "metadata": {},
   "source": [
    "To compute the standard deviation of numbers $x_1, \\ldots, x_n$, use the following formula:\n",
    "\n",
    "$$ \\sigma = \\sqrt{\\frac{1}{n} \\sum_{i=1}^n (x_i - \\mu)^2} $$"
   ]
  },
  {
   "cell_type": "markdown",
   "metadata": {},
   "source": [
    "In other words, take the difference between each observation and the mean and square that difference. Sum up this squared difference across all observations, divide by $n$, and take the square root."
   ]
  },
  {
   "cell_type": "markdown",
   "metadata": {},
   "source": [
    "### Computing the Standard Deviation Using Pandas"
   ]
  },
  {
   "cell_type": "markdown",
   "metadata": {},
   "source": [
    "Once again, Pandas makes this easy:"
   ]
  },
  {
   "cell_type": "code",
   "execution_count": 12,
   "metadata": {},
   "outputs": [
    {
     "data": {
      "text/plain": [
       "20827.714107106418"
      ]
     },
     "execution_count": 12,
     "metadata": {},
     "output_type": "execute_result"
    }
   ],
   "source": [
    "dfSalary['Annual Salary'].std()"
   ]
  },
  {
   "cell_type": "markdown",
   "metadata": {},
   "source": [
    "Let's quickly interpret this number. The standard deviation of the annual salaries is about \\\\$21,000. We don't learn too much from the number itself, but we can check the standard deviation over time, or compare to other cities. For example, NYC employees might make more on average, but have a much greater spread in their salaries. That would tell us that there are many NYC employees earning a lot, but also more NYC employees earning less."
   ]
  },
  {
   "cell_type": "markdown",
   "metadata": {},
   "source": [
    "## Correlation"
   ]
  },
  {
   "cell_type": "markdown",
   "metadata": {},
   "source": [
    "Correlation is a measure of how variables move together. Consider the Compustat data. We would expect that income and cash flow are _positively_ correlated. As a company's income rises, we would expect its cash flows to rise (if that's not the case, then I'd be worried about accounting fraud!). Similarly, we would expect accruals and cash flows to be _negatively_ correlated. When a company has a big cash flow, it's more likely it will have a big accrual. Another interpretation is that accruals predict cash flows. If a company has large accruals today, we should expect the cash to arrive in the future.\n",
    "\n",
    "The correlation between two variables lies between -1.0 and +1.0. A correlation of +1.0 means that two variables move perfectly together. As one variable increases, the other increases by a fixed amount. A correlation of -1.0 also means that two variables move perfectly together. As one variable increases, the other _decreases_ by a fixed amount. In practice, you will only see perfect correlations when one variable is a linear function of another. \n",
    "\n",
    "A correlation near 0.0 means that there's no linear relationship between two variables. You cannot predict the movement in one variable from the other."
   ]
  },
  {
   "cell_type": "markdown",
   "metadata": {},
   "source": [
    "Pandas makes it very easy to compute correlations for columns in a DataFrame. Let's perform the computation and then interpret the results."
   ]
  },
  {
   "cell_type": "code",
   "execution_count": 13,
   "metadata": {},
   "outputs": [
    {
     "data": {
      "text/html": [
       "<div>\n",
       "<style scoped>\n",
       "    .dataframe tbody tr th:only-of-type {\n",
       "        vertical-align: middle;\n",
       "    }\n",
       "\n",
       "    .dataframe tbody tr th {\n",
       "        vertical-align: top;\n",
       "    }\n",
       "\n",
       "    .dataframe thead th {\n",
       "        text-align: right;\n",
       "    }\n",
       "</style>\n",
       "<table border=\"1\" class=\"dataframe\">\n",
       "  <thead>\n",
       "    <tr style=\"text-align: right;\">\n",
       "      <th></th>\n",
       "      <th>SALE</th>\n",
       "      <th>IB</th>\n",
       "      <th>ACC</th>\n",
       "      <th>OANCF</th>\n",
       "    </tr>\n",
       "  </thead>\n",
       "  <tbody>\n",
       "    <tr>\n",
       "      <th>SALE</th>\n",
       "      <td>1.000000</td>\n",
       "      <td>0.681791</td>\n",
       "      <td>-0.658824</td>\n",
       "      <td>0.793711</td>\n",
       "    </tr>\n",
       "    <tr>\n",
       "      <th>IB</th>\n",
       "      <td>0.681791</td>\n",
       "      <td>1.000000</td>\n",
       "      <td>-0.431227</td>\n",
       "      <td>0.876442</td>\n",
       "    </tr>\n",
       "    <tr>\n",
       "      <th>ACC</th>\n",
       "      <td>-0.658824</td>\n",
       "      <td>-0.431227</td>\n",
       "      <td>1.000000</td>\n",
       "      <td>-0.812050</td>\n",
       "    </tr>\n",
       "    <tr>\n",
       "      <th>OANCF</th>\n",
       "      <td>0.793711</td>\n",
       "      <td>0.876442</td>\n",
       "      <td>-0.812050</td>\n",
       "      <td>1.000000</td>\n",
       "    </tr>\n",
       "  </tbody>\n",
       "</table>\n",
       "</div>"
      ],
      "text/plain": [
       "           SALE        IB       ACC     OANCF\n",
       "SALE   1.000000  0.681791 -0.658824  0.793711\n",
       "IB     0.681791  1.000000 -0.431227  0.876442\n",
       "ACC   -0.658824 -0.431227  1.000000 -0.812050\n",
       "OANCF  0.793711  0.876442 -0.812050  1.000000"
      ]
     },
     "execution_count": 13,
     "metadata": {},
     "output_type": "execute_result"
    }
   ],
   "source": [
    "dfCompustat[['SALE','IB','ACC','OANCF']].corr()"
   ]
  },
  {
   "cell_type": "markdown",
   "metadata": {},
   "source": [
    "First, look at the table above (tables like these are called a _correlation matrix_; each number in the table is the correlation between two variables). You will see that the diagonal terms are 1.000000. That will _always_ be the case because, by definition, a variable is perfectly correlated with itself. Also notice that the table is symmetric. The correlation between _IB_ and _SALE_ (second row, first column) must exactly equal the correlation between _SALE_ and _IB_ (first row, second column).\n",
    "\n",
    "Now let's look at the correlation. Revenue (SALE) and income (IB) are positively correlated (0.68). That is unsurprising. As revenue increases, we would expect income to increase. Similarly, income (IB) and operating cash flows (OANCF) are highly correlated (0.876). Again, this is unsurprising.\n",
    "\n",
    "Notice that accruals (ACC) are negatively correlated with the other variables. Accruals are computed as IB minus OANCF. It is therefore unsurprising that accruals are negatively correlated with cash flows. It is somewhat less intuitive that accruals are negatively correlated with income. "
   ]
  }
 ],
 "metadata": {
  "kernelspec": {
   "display_name": "Python 3 (ipykernel)",
   "language": "python",
   "name": "python3"
  },
  "language_info": {
   "codemirror_mode": {
    "name": "ipython",
    "version": 3
   },
   "file_extension": ".py",
   "mimetype": "text/x-python",
   "name": "python",
   "nbconvert_exporter": "python",
   "pygments_lexer": "ipython3",
   "version": "3.11.9"
  }
 },
 "nbformat": 4,
 "nbformat_minor": 4
}
