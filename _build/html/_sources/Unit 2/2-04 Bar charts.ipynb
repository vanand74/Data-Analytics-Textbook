{
 "cells": [
  {
   "cell_type": "markdown",
   "id": "fe9c9a9d-7688-4b0a-92ce-3d74ed929d73",
   "metadata": {},
   "source": [
    "# Bar Charts"
   ]
  },
  {
   "cell_type": "markdown",
   "id": "5a85b902-a4a8-4516-a886-dfc9d5c21243",
   "metadata": {},
   "source": [
    "## What is a Bar Chart?"
   ]
  },
  {
   "cell_type": "markdown",
   "id": "46ab9728-f6cc-4af9-ab2a-6cf29dd33647",
   "metadata": {},
   "source": [
    "A bar chart presents categorical data using bars (horizontal or vertical rectangles). Categorical data means that the data are separated into categories or groups. Below are a few examples of categorical data:\n",
    "\n",
    "<ul>\n",
    "    <li>Favorite types of food: Italian, Mexican, Thai, Chinese, Japanese, Korean, Indian, American, etc. </li>\n",
    "    <li>True or False</li>\n",
    "    <li>Income Statement Line Items: Revenue, Cost of Goods Sold, SG&amp;A Expenses, Income Tax Expense, Other Income or Gains, Other Expenses or Losses</li>\n",
    "</ul>\n",
    "\n",
    "A bar chart uses bars for each category. The categories are listed on one axis (either the X or the Y axis), and the frequency or value is listed on the other axis. See examples of bar charts below:\n",
    "\n",
    "### Illustration 1: Horizontal Bar Chart\n",
    "     \n",
    "![](imgs/Bar1.png)  \n",
    "\n",
    "Illustration 1 presents the largest companies in the world. In this graph, company size is measured by the number of employees. Thus, the categories are the company names and the value being measured is number of employees.<sup>1</sup>\n",
    "\n",
    "### Illustration 2: Vertical Multiple Bar Chart (A.K.A. Clustered or Stacked Bar Chart)\n",
    "![](imgs/Bar2.png) \n",
    "\n",
    "Illustration 2 also presents the largest companies in the world. However this visualization uses a different measure to determine size. In this bar chart the measure or variable used to determine the largest companies is revenue. Additionally, this bar chart differs from Illustration 1 because there are two bars for each company. The second bar displays the dollar value of all the company's assets. Bar charts can have sub categories (e.g., revenue and assets) presented as clustered bars within each larger category (e.g., each company).<sup>2</sup>"
   ]
  },
  {
   "cell_type": "markdown",
   "id": "dd91d36f-1134-4d7b-b066-2a710f0faccc",
   "metadata": {},
   "source": [
    "## When to Use a Bar Chart"
   ]
  },
  {
   "cell_type": "markdown",
   "id": "78dd0720-c484-4b9d-8626-fdd8a326a4cc",
   "metadata": {},
   "source": [
    "Bar charts are useful when ranking items as you can easily visualize the level of a variable based on the height of the bar. You can also order the bars from largest to smallest, as we see with Number of Employees in Illustration 1 and Revenue in Illustration 2. Bar charts can also be used for comparison across categories or within categories. "
   ]
  },
  {
   "cell_type": "markdown",
   "id": "5947f6f6-ac50-4930-a261-33522f42409f",
   "metadata": {},
   "source": [
    "## Creating a Bar Chart in Tableau"
   ]
  },
  {
   "cell_type": "markdown",
   "id": "002ed41f-57ee-4239-9ca8-6709e449fd67",
   "metadata": {},
   "source": [
    "Watch this video to learn how to create a bar chart in Tableau:\n",
    "\n",
    "https://mediaspace.illinois.edu/media/t/1_mgf0gypy"
   ]
  },
  {
   "cell_type": "markdown",
   "id": "e22ef31f-f700-4c44-aee4-8d2fc2efc109",
   "metadata": {},
   "source": [
    "### References\n",
    "\n",
    "<sup>1</sup> \"Largest Private and Semi-private employers\" https://en.wikipedia.org/wiki/List_of_largest_employers Accessed on July 21, 2019.\n",
    "\n",
    "<sup>2</sup> https://fortune.com/fortune500/"
   ]
  }
 ],
 "metadata": {
  "kernelspec": {
   "display_name": "Python 3 (ipykernel)",
   "language": "python",
   "name": "python3"
  },
  "language_info": {
   "codemirror_mode": {
    "name": "ipython",
    "version": 3
   },
   "file_extension": ".py",
   "mimetype": "text/x-python",
   "name": "python",
   "nbconvert_exporter": "python",
   "pygments_lexer": "ipython3",
   "version": "3.11.9"
  }
 },
 "nbformat": 4,
 "nbformat_minor": 5
}
