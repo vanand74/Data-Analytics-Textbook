{
 "cells": [
  {
   "cell_type": "markdown",
   "id": "fe9c9a9d-7688-4b0a-92ce-3d74ed929d73",
   "metadata": {},
   "source": [
    "# Pie Charts (yum!)"
   ]
  },
  {
   "cell_type": "markdown",
   "id": "bfdbc3c6",
   "metadata": {},
   "source": [
    "**Before Baking**  \n",
    "![Unbaked pies](imgs/RealPies1.JPG)\n",
    "\n",
    "**After Pies are Covered in Crumble**  \n",
    "![Baked pies](imgs/RealPie2.JPG)"
   ]
  },
  {
   "cell_type": "markdown",
   "id": "012f128f-1c0c-4a45-891e-87e753b78f70",
   "metadata": {},
   "source": [
    "## What is a Pie Chart?"
   ]
  },
  {
   "cell_type": "markdown",
   "id": "b491b47a-1c9b-4606-84a3-9de2c64b8cb6",
   "metadata": {},
   "source": [
    "Pie charts are the best visualization because they are delicious! Ok, so we don't mean acutal pies.. Pie charts use categorical data and display how much of your data fall into each category. Pie charts are a circle divided into slices, just like an actual pie. We saw a pie chart at the beginning of this unit in the notebook titled *Unit 2-01 Intro to Visualizations*. The circle (or Pie) represents all of the data. Each slice represents a different category. The size of each slice is based on what proportion of the data falls into the respective category. See below for another example of a pie chart.\n",
    "\n",
    "### Illustration 1: Pie Chart of Revenue from Customers\n",
    "![](imgs/Pie2.png)\n",
    "\n",
    "Illustration 1 presents a pie chart for a company's revenue split up by customer. The pie chart is an easy way to quicly understand the portion that each customer makes up of total revenue. From the pie chart you can see which customers are the largest revenue generators and which are the smallest. This pie chart is different from the one at the beginning of the unit as it does not include percentages. Pie charts can also include numerical data to aid in the effectiveness of the visualization."
   ]
  },
  {
   "cell_type": "markdown",
   "id": "a40a1490-47b5-4725-adea-a0cc9ccd4246",
   "metadata": {},
   "source": [
    "### When to Use a Pie Chart"
   ]
  },
  {
   "cell_type": "markdown",
   "id": "cd414d2a-9e3c-477f-aca4-e3079528dde3",
   "metadata": {},
   "source": [
    "Pie charts are used to display the composition of your data. Specifically, a pie chart is useful when you would like to know about the proportions of your data and how the data fall into different categories. "
   ]
  },
  {
   "cell_type": "markdown",
   "id": "59afcbce-0933-4ef1-b963-34a5e825855e",
   "metadata": {},
   "source": [
    "## Creating a Pie Chart in Tableau"
   ]
  },
  {
   "cell_type": "markdown",
   "id": "7eac5e79-201a-4e15-914a-650ed8dfab69",
   "metadata": {},
   "source": [
    "Watch this video to learn about pie charts in Tableau:\n",
    "\n",
    "https://mediaspace.illinois.edu/media/t/1_frqfv974"
   ]
  }
 ],
 "metadata": {
  "kernelspec": {
   "display_name": "Python 3 (ipykernel)",
   "language": "python",
   "name": "python3"
  },
  "language_info": {
   "codemirror_mode": {
    "name": "ipython",
    "version": 3
   },
   "file_extension": ".py",
   "mimetype": "text/x-python",
   "name": "python",
   "nbconvert_exporter": "python",
   "pygments_lexer": "ipython3",
   "version": "3.9.7"
  }
 },
 "nbformat": 4,
 "nbformat_minor": 5
}
