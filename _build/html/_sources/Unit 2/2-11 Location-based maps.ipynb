{
 "cells": [
  {
   "cell_type": "markdown",
   "id": "fe9c9a9d-7688-4b0a-92ce-3d74ed929d73",
   "metadata": {},
   "source": [
    "# Location-based Maps"
   ]
  },
  {
   "cell_type": "markdown",
   "id": "d0d1dc8e-fb0b-4aad-88dc-73f60549f2d2",
   "metadata": {},
   "source": [
    "## What is a Location Based Map?"
   ]
  },
  {
   "cell_type": "markdown",
   "id": "451a73cf-9966-4a51-8d57-b73d1358cf13",
   "metadata": {},
   "source": [
    "Location based maps are a specific type of heat map (see above for a description of heat maps). One of your measures must be a location variable (e.g., cities, counties, states, countries, etc.) and the other variable must be ordered. The larger the value is for a particular location the darker the location is on the map. See Illustration 1 for an example of a Location Based Map.\n",
    "\n",
    "### Illustration 1: Location Based Map of State Income Tax Rates in the lower 48 states\n",
    "![](imgs/LocationBasedMap.png)\n",
    "\n",
    "Illustration 1 displays the income tax rates by state. Most states have a range of taxes based on the level of income you earn, so the percent in this visualization is the midpoint of the range. This heat map displays the use of different colors instead of shades of the same color. The red is the highest tax rate (including places like California, Oregon and Minnesota) while the green is the lowest tax rate (including places with no income tax like Washington, Texas and Florida to name a few).<sup>11</sup>"
   ]
  },
  {
   "cell_type": "markdown",
   "id": "a4f13b27-1d26-4cbf-81ac-4b219cf45d1a",
   "metadata": {},
   "source": [
    "### When to Use a Location Based Map"
   ]
  },
  {
   "cell_type": "markdown",
   "id": "50fcd113-bad2-4749-b501-bad2af8eeb21",
   "metadata": {},
   "source": [
    "Just as with Heat Maps above, Location Based Maps are used for comparisons. Specifically, location based maps are useful when you are interested in comparing a variable by location."
   ]
  },
  {
   "cell_type": "markdown",
   "id": "e29ff20c-d4c5-4ce1-8b33-a2d1308e5942",
   "metadata": {},
   "source": [
    "## Creating a Location Based Map in Tableau"
   ]
  },
  {
   "cell_type": "markdown",
   "id": "64898a9f-0c7b-4c0c-a7a4-dd06051fa46f",
   "metadata": {},
   "source": [
    "Watch this video to learn about location-based maps in Tableau:\n",
    "\n",
    "https://mediaspace.illinois.edu/media/t/1_0b4ig790"
   ]
  }
 ],
 "metadata": {
  "kernelspec": {
   "display_name": "Python 3 (ipykernel)",
   "language": "python",
   "name": "python3"
  },
  "language_info": {
   "codemirror_mode": {
    "name": "ipython",
    "version": 3
   },
   "file_extension": ".py",
   "mimetype": "text/x-python",
   "name": "python",
   "nbconvert_exporter": "python",
   "pygments_lexer": "ipython3",
   "version": "3.9.7"
  }
 },
 "nbformat": 4,
 "nbformat_minor": 5
}
