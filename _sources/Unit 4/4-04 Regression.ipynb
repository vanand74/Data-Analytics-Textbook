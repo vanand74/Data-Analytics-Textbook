{
 "cells": [
  {
   "cell_type": "markdown",
   "metadata": {},
   "source": [
    "# Regression"
   ]
  },
  {
   "cell_type": "markdown",
   "metadata": {},
   "source": [
    "## Learning Objectives"
   ]
  },
  {
   "cell_type": "markdown",
   "metadata": {},
   "source": [
    "<div style=\"border: 1px solid black; padding: 10px; background-color: #EDEDED;\">\n",
    "    <ul>\n",
    "        <li>Understand that a regression can be used to test the strength of a relationship between variables.</li>\n",
    "        <li>Understand that the relationship between variables is called a hypothesis, and should be stated before running a regression.</li>\n",
    "        <li>Write a regression equation for a hypothesis.</li>\n",
    "        <li>Understand that a regression fits a line to the data.</li>\n",
    "        <li>Explain what a regression provides beyond a simple correlation.</li>\n",
    "        <li>Interpret the intercept and coefficients of a regression model</li>\n",
    "        <li>Explain the concept of relevant range, and determine whether a point lies inside the relevant range.</li>\n",
    "        <li>Perform a linear regression in Python using the statsmodels package.</li>\n",
    "        <li>Interpret coefficients, p-values, and R-squared.</li>\n",
    "        <li>Evaluate the value of an entire regression based on its coefficients, p-values, and R-sqaured.</li>\n",
    "        <li>Perform and evaluate a multiple regression.</li>\n",
    "        <li>Define categorical and indicator variables.</li>\n",
    "        <li>Explain how n categories can be converted into n-1 indicator variables.</li>\n",
    "        <li>Run a regression using categorical variables and interpret the output.</li>\n",
    "    </ul>\n",
    "</div>"
   ]
  },
  {
   "cell_type": "markdown",
   "metadata": {},
   "source": [
    "## Introduction and Overview"
   ]
  },
  {
   "cell_type": "markdown",
   "metadata": {},
   "source": [
    "This chapter is about linear regression. We assume you learned about regression in a previous course and are familiar with the mathematical basics. We will build on your foundation in this chapter and focus on when to apply regression and how to interpret the output. The interpretation of regression output is paramount; as you read this chapter, we want you to think about _what you can learn from a regression_. \n",
    "\n",
    "A regression is a test of the strength of the relationship between variables. Therefore, you should apply regression when you _think_ there may be a relationship between variables in your data (this thought process is called a _hypothesis_). For example, in a moment we will introduce a dataset with data on cars. Say that we think that heavier cars achieve worse fuel economy than lighter cars. We can test this hypothesis using a regression; the regression will tell us the likelihood that our hypothesis is true. Now you may think that the hypothesis is obvious (i.e. that it lacks tension). This is not necessarily so. It may be that for some subsets of cars, lighter cars get worse fuel economy. For example, say the dataset contains sports cars, which are often light, and family sedans, which tend to be heavier. With such a dataset, we may find that our hypothesis is false.\n",
    "\n",
    "Regression works by fitting the \"best\" line to the data. The best line is the one that minimizes the sum of squared errors in the data. This statement probably makes sense to you given your prior coursework. If it does not, then ignore it for now as we will focus on application and interpretation. Just know that the regression is trying to fit a line to the data."
   ]
  },
  {
   "cell_type": "markdown",
   "metadata": {},
   "source": [
    "## Dataset for this Chapter"
   ]
  },
  {
   "cell_type": "markdown",
   "metadata": {},
   "source": [
    "The dataset for this chapter contains information on about 400 cars from the 1970's and 1980's. This dataset is very popular and is often used when teaching simple statistical concepts. The dataset is maintained at the University of California Irvine Machine Learning Repository (click [here](https://archive.ics.uci.edu/ml/datasets/Auto%2BMPG)).\n",
    "\n",
    "The cells below load the data file _auto.csv_, which accompanies this notebook. "
   ]
  },
  {
   "cell_type": "code",
   "execution_count": 1,
   "metadata": {},
   "outputs": [],
   "source": [
    "import numpy as np\n",
    "import pandas as pd"
   ]
  },
  {
   "cell_type": "code",
   "execution_count": 2,
   "metadata": {},
   "outputs": [
    {
     "data": {
      "text/html": [
       "<div>\n",
       "<style scoped>\n",
       "    .dataframe tbody tr th:only-of-type {\n",
       "        vertical-align: middle;\n",
       "    }\n",
       "\n",
       "    .dataframe tbody tr th {\n",
       "        vertical-align: top;\n",
       "    }\n",
       "\n",
       "    .dataframe thead th {\n",
       "        text-align: right;\n",
       "    }\n",
       "</style>\n",
       "<table border=\"1\" class=\"dataframe\">\n",
       "  <thead>\n",
       "    <tr style=\"text-align: right;\">\n",
       "      <th></th>\n",
       "      <th>mpg</th>\n",
       "      <th>cylinders</th>\n",
       "      <th>displacement</th>\n",
       "      <th>horsepower</th>\n",
       "      <th>weight</th>\n",
       "      <th>acceleration</th>\n",
       "      <th>model year</th>\n",
       "      <th>origin</th>\n",
       "      <th>car name</th>\n",
       "    </tr>\n",
       "  </thead>\n",
       "  <tbody>\n",
       "    <tr>\n",
       "      <th>0</th>\n",
       "      <td>18.0</td>\n",
       "      <td>8</td>\n",
       "      <td>307.0</td>\n",
       "      <td>130.0</td>\n",
       "      <td>3504</td>\n",
       "      <td>12.0</td>\n",
       "      <td>70</td>\n",
       "      <td>American</td>\n",
       "      <td>chevrolet chevelle malibu</td>\n",
       "    </tr>\n",
       "    <tr>\n",
       "      <th>1</th>\n",
       "      <td>15.0</td>\n",
       "      <td>8</td>\n",
       "      <td>350.0</td>\n",
       "      <td>165.0</td>\n",
       "      <td>3693</td>\n",
       "      <td>11.5</td>\n",
       "      <td>70</td>\n",
       "      <td>American</td>\n",
       "      <td>buick skylark 320</td>\n",
       "    </tr>\n",
       "    <tr>\n",
       "      <th>2</th>\n",
       "      <td>18.0</td>\n",
       "      <td>8</td>\n",
       "      <td>318.0</td>\n",
       "      <td>150.0</td>\n",
       "      <td>3436</td>\n",
       "      <td>11.0</td>\n",
       "      <td>70</td>\n",
       "      <td>American</td>\n",
       "      <td>plymouth satellite</td>\n",
       "    </tr>\n",
       "    <tr>\n",
       "      <th>3</th>\n",
       "      <td>16.0</td>\n",
       "      <td>8</td>\n",
       "      <td>304.0</td>\n",
       "      <td>150.0</td>\n",
       "      <td>3433</td>\n",
       "      <td>12.0</td>\n",
       "      <td>70</td>\n",
       "      <td>American</td>\n",
       "      <td>amc rebel sst</td>\n",
       "    </tr>\n",
       "    <tr>\n",
       "      <th>4</th>\n",
       "      <td>17.0</td>\n",
       "      <td>8</td>\n",
       "      <td>302.0</td>\n",
       "      <td>140.0</td>\n",
       "      <td>3449</td>\n",
       "      <td>10.5</td>\n",
       "      <td>70</td>\n",
       "      <td>American</td>\n",
       "      <td>ford torino</td>\n",
       "    </tr>\n",
       "  </tbody>\n",
       "</table>\n",
       "</div>"
      ],
      "text/plain": [
       "    mpg  cylinders  displacement  horsepower  weight  acceleration  \\\n",
       "0  18.0          8         307.0       130.0    3504          12.0   \n",
       "1  15.0          8         350.0       165.0    3693          11.5   \n",
       "2  18.0          8         318.0       150.0    3436          11.0   \n",
       "3  16.0          8         304.0       150.0    3433          12.0   \n",
       "4  17.0          8         302.0       140.0    3449          10.5   \n",
       "\n",
       "   model year    origin                   car name  \n",
       "0          70  American  chevrolet chevelle malibu  \n",
       "1          70  American          buick skylark 320  \n",
       "2          70  American         plymouth satellite  \n",
       "3          70  American              amc rebel sst  \n",
       "4          70  American                ford torino  "
      ]
     },
     "execution_count": 2,
     "metadata": {},
     "output_type": "execute_result"
    }
   ],
   "source": [
    "dfAuto = pd.read_csv('data/auto.csv')\n",
    "dfAuto.head()"
   ]
  },
  {
   "cell_type": "markdown",
   "metadata": {},
   "source": [
    "Following is a description of each of the columns:\n",
    "\n",
    "| Variable | Description |\n",
    "|:---|:---|\n",
    "| mpg | Miles per gallon (a measure of fuel economy) |\n",
    "| cylinders | The number of cylinders in the engine |\n",
    "| displacement | Engine size, in cubic inches |\n",
    "| horsepower | Engine horsepower |\n",
    "| weight | Vehicle weight, in pounds |\n",
    "| acceleration | Time to accelerate from 0 to 60 mph, in seconds |\n",
    "| year | Model year |\n",
    "| origin | Origin of car: American, European, or Japanese |\n",
    "| name | Vehicle name |"
   ]
  },
  {
   "cell_type": "markdown",
   "metadata": {},
   "source": [
    "## A Simple, One-Variable Regression"
   ]
  },
  {
   "cell_type": "markdown",
   "metadata": {},
   "source": [
    "Let's begin with the hypothesis that heavier cars get worse fuel economy. This hypothesis suggests a relationship between two variables in the dataset. It suggests that when `weight` increases, `mpg` should decrease. \n",
    "\n",
    "We can perform a test of this relationship using a simple correlation. For example:"
   ]
  },
  {
   "cell_type": "code",
   "execution_count": 3,
   "metadata": {},
   "outputs": [
    {
     "data": {
      "text/html": [
       "<div>\n",
       "<style scoped>\n",
       "    .dataframe tbody tr th:only-of-type {\n",
       "        vertical-align: middle;\n",
       "    }\n",
       "\n",
       "    .dataframe tbody tr th {\n",
       "        vertical-align: top;\n",
       "    }\n",
       "\n",
       "    .dataframe thead th {\n",
       "        text-align: right;\n",
       "    }\n",
       "</style>\n",
       "<table border=\"1\" class=\"dataframe\">\n",
       "  <thead>\n",
       "    <tr style=\"text-align: right;\">\n",
       "      <th></th>\n",
       "      <th>mpg</th>\n",
       "      <th>weight</th>\n",
       "    </tr>\n",
       "  </thead>\n",
       "  <tbody>\n",
       "    <tr>\n",
       "      <th>mpg</th>\n",
       "      <td>1.000000</td>\n",
       "      <td>-0.831741</td>\n",
       "    </tr>\n",
       "    <tr>\n",
       "      <th>weight</th>\n",
       "      <td>-0.831741</td>\n",
       "      <td>1.000000</td>\n",
       "    </tr>\n",
       "  </tbody>\n",
       "</table>\n",
       "</div>"
      ],
      "text/plain": [
       "             mpg    weight\n",
       "mpg     1.000000 -0.831741\n",
       "weight -0.831741  1.000000"
      ]
     },
     "execution_count": 3,
     "metadata": {},
     "output_type": "execute_result"
    }
   ],
   "source": [
    "dfAuto[['mpg', 'weight']].corr()"
   ]
  },
  {
   "cell_type": "markdown",
   "metadata": {},
   "source": [
    "Miles per gallon and weight have a correlation of -0.83. That's very strong. It tells us that, on average, as weight increases, miles per gallon _decreases_, and vice versa. \n",
    "\n",
    "Are we done? Do we need regression? What can regression tell us that correlation cannot? Correlation tells us whether the variables move together. However, say we want to build a prediction model. We want to be able to predict mpg given an estimated weight for a new car. Correlation cannot do that. And say we want to add more explanatory variables to our model; for example, we hypothesize that fuel economy is a function of weight and horsepower. Correlation definitely cannot do that. So let's move on to regression.\n",
    "\n",
    "Our hypothesis is that as weight increases, fuel economy will decrease. Our hypothesis implies that _weight_ is the _independent variable_ and that _mpg_ is the _dependent variable_. In other words, _weight_ affects _mpg_ and not the other way around. This makes sense. Car designers have control over weight, and as weight increases, more energy is needed to accelerate a car and to overcome rolling resistance in the tires. A greater energy need implies greater fuel consumption.\n",
    "\n",
    "If we regress _mpg_, the dependent variable, on _weight_, the independent variable, the regression will attempt to fit the following line:\n",
    "\n",
    "$$mpg = \\alpha + \\beta \\cdot weight$$\n",
    "\n",
    "The regression will use the data to find the \"best\" values of $\\alpha$ and $\\beta$, the ones that create a line that best fits the data. Once we know those values, we can use the equation to predict  fuel economy for a hypothetical car. The regression equation is our _model_ of the process of fuel economy.\n",
    "\n",
    "Regressing _mpg_ on _weight_ yields the following equation (we will show you how to perform the regression momentarily):\n",
    "\n",
    "$$mpg = 46.3174 - 0.0077 \\cdot weight$$\n",
    "\n",
    "Let's interpret this equation. We will begin by interpreting the value of the _coefficient_, $\\beta$. The regression estimated that $\\beta$ equals -0.0077. That tells us that, on average, an increase in weight of 1 pound implies a _reduction_ in fuel economy of 0.0077 mpg. Why a reduction? Because the coefficient $\\beta$ is negative. To see this, assume a car has a weight of 3,000 pounds. If we plug 3,000 into our equation, we obtain a predicted fuel economy of $46.3174 - 0.0077 \\cdot 3000 = 23.2174$. If we increase the weight to 3,001 pounds, the predicted fuel economy is $46.3174 - 0.0077 \\cdot 3001 = 23.2097$. The difference is $23.2097 - 23.2174 = -0.0077$, the value of the coefficient.\n",
    "\n",
    "First, let's ask if this matters? Is the coefficient economically meaningful? I say it is. It implies that a 100 pound reduction in weight improves fuel economy by 0.77 mpg, which is almost 1 mpg. Auto engineers and executives can then estimate the cost to reduce weight by 100 pounds, and estimate the extra amount customers would be willing to pay for 0.77 mpg.\n",
    "\n",
    "What about the $\\alpha$ term, 46.3174? What does that tell us? That term is called the _intercept_. It is like a fixed cost. You can think of it as the maximum theoretical fuel economy. If a car had zero weight, in theory its fuel economy would be 46.3174. However, _we caution you against this interpretation in this case_. There are no vehicles with weights close to zero. In fact, the lightest car in the dataset is about 1,600 pounds. In general, you should be wary of using a regression to make predictions outside its _relevant range_. Let's elaborate on this concept with two graphs. See the graphs below and, for now, don't worry about the code behind them."
   ]
  },
  {
   "cell_type": "code",
   "execution_count": 4,
   "metadata": {},
   "outputs": [
    {
     "data": {
      "text/html": [
       "    <style>\n",
       "        .bk-notebook-logo {\n",
       "            display: block;\n",
       "            width: 20px;\n",
       "            height: 20px;\n",
       "            background-image: url(data:image/png;base64,iVBORw0KGgoAAAANSUhEUgAAABQAAAAUCAYAAACNiR0NAAAABHNCSVQICAgIfAhkiAAAAAlwSFlzAAALEgAACxIB0t1+/AAAABx0RVh0U29mdHdhcmUAQWRvYmUgRmlyZXdvcmtzIENTNui8sowAAAOkSURBVDiNjZRtaJVlGMd/1/08zzln5zjP1LWcU9N0NkN8m2CYjpgQYQXqSs0I84OLIC0hkEKoPtiH3gmKoiJDU7QpLgoLjLIQCpEsNJ1vqUOdO7ppbuec5+V+rj4ctwzd8IIbbi6u+8f1539dt3A78eXC7QizUF7gyV1fD1Yqg4JWz84yffhm0qkFqBogB9rM8tZdtwVsPUhWhGcFJngGeWrPzHm5oaMmkfEg1usvLFyc8jLRqDOMru7AyC8saQr7GG7f5fvDeH7Ej8CM66nIF+8yngt6HWaKh7k49Soy9nXurCi1o3qUbS3zWfrYeQDTB/Qj6kX6Ybhw4B+bOYoLKCC9H3Nu/leUTZ1JdRWkkn2ldcCamzrcf47KKXdAJllSlxAOkRgyHsGC/zRday5Qld9DyoM4/q/rUoy/CXh3jzOu3bHUVZeU+DEn8FInkPBFlu3+nW3Nw0mk6vCDiWg8CeJaxEwuHS3+z5RgY+YBR6V1Z1nxSOfoaPa4LASWxxdNp+VWTk7+4vzaou8v8PN+xo+KY2xsw6une2frhw05CTYOmQvsEhjhWjn0bmXPjpE1+kplmmkP3suftwTubK9Vq22qKmrBhpY4jvd5afdRA3wGjFAgcnTK2s4hY0/GPNIb0nErGMCRxWOOX64Z8RAC4oCXdklmEvcL8o0BfkNK4lUg9HTl+oPlQxdNo3Mg4Nv175e/1LDGzZen30MEjRUtmXSfiTVu1kK8W4txyV6BMKlbgk3lMwYCiusNy9fVfvvwMxv8Ynl6vxoByANLTWplvuj/nF9m2+PDtt1eiHPBr1oIfhCChQMBw6Aw0UulqTKZdfVvfG7VcfIqLG9bcldL/+pdWTLxLUy8Qq38heUIjh4XlzZxzQm19lLFlr8vdQ97rjZVOLf8nclzckbcD4wxXMidpX30sFd37Fv/GtwwhzhxGVAprjbg0gCAEeIgwCZyTV2Z1REEW8O4py0wsjeloKoMr6iCY6dP92H6Vw/oTyICIthibxjm/DfN9lVz8IqtqKYLUXfoKVMVQVVJOElGjrnnUt9T9wbgp8AyYKaGlqingHZU/uG2NTZSVqwHQTWkx9hxjkpWDaCg6Ckj5qebgBVbT3V3NNXMSiWSDdGV3hrtzla7J+duwPOToIg42ChPQOQjspnSlp1V+Gjdged7+8UN5CRAV7a5EdFNwCjEaBR27b3W890TE7g24NAP/mMDXRWrGoFPQI9ls/MWO2dWFAar/xcOIImbbpA3zgAAAABJRU5ErkJggg==);\n",
       "        }\n",
       "    </style>\n",
       "    <div>\n",
       "        <a href=\"https://bokeh.org\" target=\"_blank\" class=\"bk-notebook-logo\"></a>\n",
       "        <span id=\"d25f4938-3478-4b2f-b453-6d9b7e9d97c5\">Loading BokehJS ...</span>\n",
       "    </div>\n"
      ]
     },
     "metadata": {},
     "output_type": "display_data"
    },
    {
     "data": {
      "application/javascript": [
       "'use strict';\n",
       "(function(root) {\n",
       "  function now() {\n",
       "    return new Date();\n",
       "  }\n",
       "\n",
       "  const force = true;\n",
       "\n",
       "  if (typeof root._bokeh_onload_callbacks === \"undefined\" || force === true) {\n",
       "    root._bokeh_onload_callbacks = [];\n",
       "    root._bokeh_is_loading = undefined;\n",
       "  }\n",
       "\n",
       "const JS_MIME_TYPE = 'application/javascript';\n",
       "  const HTML_MIME_TYPE = 'text/html';\n",
       "  const EXEC_MIME_TYPE = 'application/vnd.bokehjs_exec.v0+json';\n",
       "  const CLASS_NAME = 'output_bokeh rendered_html';\n",
       "\n",
       "  /**\n",
       "   * Render data to the DOM node\n",
       "   */\n",
       "  function render(props, node) {\n",
       "    const script = document.createElement(\"script\");\n",
       "    node.appendChild(script);\n",
       "  }\n",
       "\n",
       "  /**\n",
       "   * Handle when an output is cleared or removed\n",
       "   */\n",
       "  function handleClearOutput(event, handle) {\n",
       "    function drop(id) {\n",
       "      const view = Bokeh.index.get_by_id(id)\n",
       "      if (view != null) {\n",
       "        view.model.document.clear()\n",
       "        Bokeh.index.delete(view)\n",
       "      }\n",
       "    }\n",
       "\n",
       "    const cell = handle.cell;\n",
       "\n",
       "    const id = cell.output_area._bokeh_element_id;\n",
       "    const server_id = cell.output_area._bokeh_server_id;\n",
       "\n",
       "    // Clean up Bokeh references\n",
       "    if (id != null) {\n",
       "      drop(id)\n",
       "    }\n",
       "\n",
       "    if (server_id !== undefined) {\n",
       "      // Clean up Bokeh references\n",
       "      const cmd_clean = \"from bokeh.io.state import curstate; print(curstate().uuid_to_server['\" + server_id + \"'].get_sessions()[0].document.roots[0]._id)\";\n",
       "      cell.notebook.kernel.execute(cmd_clean, {\n",
       "        iopub: {\n",
       "          output: function(msg) {\n",
       "            const id = msg.content.text.trim()\n",
       "            drop(id)\n",
       "          }\n",
       "        }\n",
       "      });\n",
       "      // Destroy server and session\n",
       "      const cmd_destroy = \"import bokeh.io.notebook as ion; ion.destroy_server('\" + server_id + \"')\";\n",
       "      cell.notebook.kernel.execute(cmd_destroy);\n",
       "    }\n",
       "  }\n",
       "\n",
       "  /**\n",
       "   * Handle when a new output is added\n",
       "   */\n",
       "  function handleAddOutput(event, handle) {\n",
       "    const output_area = handle.output_area;\n",
       "    const output = handle.output;\n",
       "\n",
       "    // limit handleAddOutput to display_data with EXEC_MIME_TYPE content only\n",
       "    if ((output.output_type != \"display_data\") || (!Object.prototype.hasOwnProperty.call(output.data, EXEC_MIME_TYPE))) {\n",
       "      return\n",
       "    }\n",
       "\n",
       "    const toinsert = output_area.element.find(\".\" + CLASS_NAME.split(' ')[0]);\n",
       "\n",
       "    if (output.metadata[EXEC_MIME_TYPE][\"id\"] !== undefined) {\n",
       "      toinsert[toinsert.length - 1].firstChild.textContent = output.data[JS_MIME_TYPE];\n",
       "      // store reference to embed id on output_area\n",
       "      output_area._bokeh_element_id = output.metadata[EXEC_MIME_TYPE][\"id\"];\n",
       "    }\n",
       "    if (output.metadata[EXEC_MIME_TYPE][\"server_id\"] !== undefined) {\n",
       "      const bk_div = document.createElement(\"div\");\n",
       "      bk_div.innerHTML = output.data[HTML_MIME_TYPE];\n",
       "      const script_attrs = bk_div.children[0].attributes;\n",
       "      for (let i = 0; i < script_attrs.length; i++) {\n",
       "        toinsert[toinsert.length - 1].firstChild.setAttribute(script_attrs[i].name, script_attrs[i].value);\n",
       "        toinsert[toinsert.length - 1].firstChild.textContent = bk_div.children[0].textContent\n",
       "      }\n",
       "      // store reference to server id on output_area\n",
       "      output_area._bokeh_server_id = output.metadata[EXEC_MIME_TYPE][\"server_id\"];\n",
       "    }\n",
       "  }\n",
       "\n",
       "  function register_renderer(events, OutputArea) {\n",
       "\n",
       "    function append_mime(data, metadata, element) {\n",
       "      // create a DOM node to render to\n",
       "      const toinsert = this.create_output_subarea(\n",
       "        metadata,\n",
       "        CLASS_NAME,\n",
       "        EXEC_MIME_TYPE\n",
       "      );\n",
       "      this.keyboard_manager.register_events(toinsert);\n",
       "      // Render to node\n",
       "      const props = {data: data, metadata: metadata[EXEC_MIME_TYPE]};\n",
       "      render(props, toinsert[toinsert.length - 1]);\n",
       "      element.append(toinsert);\n",
       "      return toinsert\n",
       "    }\n",
       "\n",
       "    /* Handle when an output is cleared or removed */\n",
       "    events.on('clear_output.CodeCell', handleClearOutput);\n",
       "    events.on('delete.Cell', handleClearOutput);\n",
       "\n",
       "    /* Handle when a new output is added */\n",
       "    events.on('output_added.OutputArea', handleAddOutput);\n",
       "\n",
       "    /**\n",
       "     * Register the mime type and append_mime function with output_area\n",
       "     */\n",
       "    OutputArea.prototype.register_mime_type(EXEC_MIME_TYPE, append_mime, {\n",
       "      /* Is output safe? */\n",
       "      safe: true,\n",
       "      /* Index of renderer in `output_area.display_order` */\n",
       "      index: 0\n",
       "    });\n",
       "  }\n",
       "\n",
       "  // register the mime type if in Jupyter Notebook environment and previously unregistered\n",
       "  if (root.Jupyter !== undefined) {\n",
       "    const events = require('base/js/events');\n",
       "    const OutputArea = require('notebook/js/outputarea').OutputArea;\n",
       "\n",
       "    if (OutputArea.prototype.mime_types().indexOf(EXEC_MIME_TYPE) == -1) {\n",
       "      register_renderer(events, OutputArea);\n",
       "    }\n",
       "  }\n",
       "  if (typeof (root._bokeh_timeout) === \"undefined\" || force === true) {\n",
       "    root._bokeh_timeout = Date.now() + 5000;\n",
       "    root._bokeh_failed_load = false;\n",
       "  }\n",
       "\n",
       "  const NB_LOAD_WARNING = {'data': {'text/html':\n",
       "     \"<div style='background-color: #fdd'>\\n\"+\n",
       "     \"<p>\\n\"+\n",
       "     \"BokehJS does not appear to have successfully loaded. If loading BokehJS from CDN, this \\n\"+\n",
       "     \"may be due to a slow or bad network connection. Possible fixes:\\n\"+\n",
       "     \"</p>\\n\"+\n",
       "     \"<ul>\\n\"+\n",
       "     \"<li>re-rerun `output_notebook()` to attempt to load from CDN again, or</li>\\n\"+\n",
       "     \"<li>use INLINE resources instead, as so:</li>\\n\"+\n",
       "     \"</ul>\\n\"+\n",
       "     \"<code>\\n\"+\n",
       "     \"from bokeh.resources import INLINE\\n\"+\n",
       "     \"output_notebook(resources=INLINE)\\n\"+\n",
       "     \"</code>\\n\"+\n",
       "     \"</div>\"}};\n",
       "\n",
       "  function display_loaded(error = null) {\n",
       "    const el = document.getElementById(\"d25f4938-3478-4b2f-b453-6d9b7e9d97c5\");\n",
       "    if (el != null) {\n",
       "      const html = (() => {\n",
       "        if (typeof root.Bokeh === \"undefined\") {\n",
       "          if (error == null) {\n",
       "            return \"BokehJS is loading ...\";\n",
       "          } else {\n",
       "            return \"BokehJS failed to load.\";\n",
       "          }\n",
       "        } else {\n",
       "          const prefix = `BokehJS ${root.Bokeh.version}`;\n",
       "          if (error == null) {\n",
       "            return `${prefix} successfully loaded.`;\n",
       "          } else {\n",
       "            return `${prefix} <b>encountered errors</b> while loading and may not function as expected.`;\n",
       "          }\n",
       "        }\n",
       "      })();\n",
       "      el.innerHTML = html;\n",
       "\n",
       "      if (error != null) {\n",
       "        const wrapper = document.createElement(\"div\");\n",
       "        wrapper.style.overflow = \"auto\";\n",
       "        wrapper.style.height = \"5em\";\n",
       "        wrapper.style.resize = \"vertical\";\n",
       "        const content = document.createElement(\"div\");\n",
       "        content.style.fontFamily = \"monospace\";\n",
       "        content.style.whiteSpace = \"pre-wrap\";\n",
       "        content.style.backgroundColor = \"rgb(255, 221, 221)\";\n",
       "        content.textContent = error.stack ?? error.toString();\n",
       "        wrapper.append(content);\n",
       "        el.append(wrapper);\n",
       "      }\n",
       "    } else if (Date.now() < root._bokeh_timeout) {\n",
       "      setTimeout(() => display_loaded(error), 100);\n",
       "    }\n",
       "  }\n",
       "\n",
       "  function run_callbacks() {\n",
       "    try {\n",
       "      root._bokeh_onload_callbacks.forEach(function(callback) {\n",
       "        if (callback != null)\n",
       "          callback();\n",
       "      });\n",
       "    } finally {\n",
       "      delete root._bokeh_onload_callbacks\n",
       "    }\n",
       "    console.debug(\"Bokeh: all callbacks have finished\");\n",
       "  }\n",
       "\n",
       "  function load_libs(css_urls, js_urls, callback) {\n",
       "    if (css_urls == null) css_urls = [];\n",
       "    if (js_urls == null) js_urls = [];\n",
       "\n",
       "    root._bokeh_onload_callbacks.push(callback);\n",
       "    if (root._bokeh_is_loading > 0) {\n",
       "      console.debug(\"Bokeh: BokehJS is being loaded, scheduling callback at\", now());\n",
       "      return null;\n",
       "    }\n",
       "    if (js_urls == null || js_urls.length === 0) {\n",
       "      run_callbacks();\n",
       "      return null;\n",
       "    }\n",
       "    console.debug(\"Bokeh: BokehJS not loaded, scheduling load and callback at\", now());\n",
       "    root._bokeh_is_loading = css_urls.length + js_urls.length;\n",
       "\n",
       "    function on_load() {\n",
       "      root._bokeh_is_loading--;\n",
       "      if (root._bokeh_is_loading === 0) {\n",
       "        console.debug(\"Bokeh: all BokehJS libraries/stylesheets loaded\");\n",
       "        run_callbacks()\n",
       "      }\n",
       "    }\n",
       "\n",
       "    function on_error(url) {\n",
       "      console.error(\"failed to load \" + url);\n",
       "    }\n",
       "\n",
       "    for (let i = 0; i < css_urls.length; i++) {\n",
       "      const url = css_urls[i];\n",
       "      const element = document.createElement(\"link\");\n",
       "      element.onload = on_load;\n",
       "      element.onerror = on_error.bind(null, url);\n",
       "      element.rel = \"stylesheet\";\n",
       "      element.type = \"text/css\";\n",
       "      element.href = url;\n",
       "      console.debug(\"Bokeh: injecting link tag for BokehJS stylesheet: \", url);\n",
       "      document.body.appendChild(element);\n",
       "    }\n",
       "\n",
       "    for (let i = 0; i < js_urls.length; i++) {\n",
       "      const url = js_urls[i];\n",
       "      const element = document.createElement('script');\n",
       "      element.onload = on_load;\n",
       "      element.onerror = on_error.bind(null, url);\n",
       "      element.async = false;\n",
       "      element.src = url;\n",
       "      console.debug(\"Bokeh: injecting script tag for BokehJS library: \", url);\n",
       "      document.head.appendChild(element);\n",
       "    }\n",
       "  };\n",
       "\n",
       "  function inject_raw_css(css) {\n",
       "    const element = document.createElement(\"style\");\n",
       "    element.appendChild(document.createTextNode(css));\n",
       "    document.body.appendChild(element);\n",
       "  }\n",
       "\n",
       "  const js_urls = [\"https://cdn.bokeh.org/bokeh/release/bokeh-3.4.2.min.js\", \"https://cdn.bokeh.org/bokeh/release/bokeh-gl-3.4.2.min.js\", \"https://cdn.bokeh.org/bokeh/release/bokeh-widgets-3.4.2.min.js\", \"https://cdn.bokeh.org/bokeh/release/bokeh-tables-3.4.2.min.js\", \"https://cdn.bokeh.org/bokeh/release/bokeh-mathjax-3.4.2.min.js\"];\n",
       "  const css_urls = [];\n",
       "\n",
       "  const inline_js = [    function(Bokeh) {\n",
       "      Bokeh.set_log_level(\"info\");\n",
       "    },\n",
       "function(Bokeh) {\n",
       "    }\n",
       "  ];\n",
       "\n",
       "  function run_inline_js() {\n",
       "    if (root.Bokeh !== undefined || force === true) {\n",
       "      try {\n",
       "            for (let i = 0; i < inline_js.length; i++) {\n",
       "      inline_js[i].call(root, root.Bokeh);\n",
       "    }\n",
       "\n",
       "      } catch (error) {display_loaded(error);throw error;\n",
       "      }if (force === true) {\n",
       "        display_loaded();\n",
       "      }} else if (Date.now() < root._bokeh_timeout) {\n",
       "      setTimeout(run_inline_js, 100);\n",
       "    } else if (!root._bokeh_failed_load) {\n",
       "      console.log(\"Bokeh: BokehJS failed to load within specified timeout.\");\n",
       "      root._bokeh_failed_load = true;\n",
       "    } else if (force !== true) {\n",
       "      const cell = $(document.getElementById(\"d25f4938-3478-4b2f-b453-6d9b7e9d97c5\")).parents('.cell').data().cell;\n",
       "      cell.output_area.append_execute_result(NB_LOAD_WARNING)\n",
       "    }\n",
       "  }\n",
       "\n",
       "  if (root._bokeh_is_loading === 0) {\n",
       "    console.debug(\"Bokeh: BokehJS loaded, going straight to plotting\");\n",
       "    run_inline_js();\n",
       "  } else {\n",
       "    load_libs(css_urls, js_urls, function() {\n",
       "      console.debug(\"Bokeh: BokehJS plotting callback run at\", now());\n",
       "      run_inline_js();\n",
       "    });\n",
       "  }\n",
       "}(window));"
      ],
      "application/vnd.bokehjs_load.v0+json": "'use strict';\n(function(root) {\n  function now() {\n    return new Date();\n  }\n\n  const force = true;\n\n  if (typeof root._bokeh_onload_callbacks === \"undefined\" || force === true) {\n    root._bokeh_onload_callbacks = [];\n    root._bokeh_is_loading = undefined;\n  }\n\n\n  if (typeof (root._bokeh_timeout) === \"undefined\" || force === true) {\n    root._bokeh_timeout = Date.now() + 5000;\n    root._bokeh_failed_load = false;\n  }\n\n  const NB_LOAD_WARNING = {'data': {'text/html':\n     \"<div style='background-color: #fdd'>\\n\"+\n     \"<p>\\n\"+\n     \"BokehJS does not appear to have successfully loaded. If loading BokehJS from CDN, this \\n\"+\n     \"may be due to a slow or bad network connection. Possible fixes:\\n\"+\n     \"</p>\\n\"+\n     \"<ul>\\n\"+\n     \"<li>re-rerun `output_notebook()` to attempt to load from CDN again, or</li>\\n\"+\n     \"<li>use INLINE resources instead, as so:</li>\\n\"+\n     \"</ul>\\n\"+\n     \"<code>\\n\"+\n     \"from bokeh.resources import INLINE\\n\"+\n     \"output_notebook(resources=INLINE)\\n\"+\n     \"</code>\\n\"+\n     \"</div>\"}};\n\n  function display_loaded(error = null) {\n    const el = document.getElementById(\"d25f4938-3478-4b2f-b453-6d9b7e9d97c5\");\n    if (el != null) {\n      const html = (() => {\n        if (typeof root.Bokeh === \"undefined\") {\n          if (error == null) {\n            return \"BokehJS is loading ...\";\n          } else {\n            return \"BokehJS failed to load.\";\n          }\n        } else {\n          const prefix = `BokehJS ${root.Bokeh.version}`;\n          if (error == null) {\n            return `${prefix} successfully loaded.`;\n          } else {\n            return `${prefix} <b>encountered errors</b> while loading and may not function as expected.`;\n          }\n        }\n      })();\n      el.innerHTML = html;\n\n      if (error != null) {\n        const wrapper = document.createElement(\"div\");\n        wrapper.style.overflow = \"auto\";\n        wrapper.style.height = \"5em\";\n        wrapper.style.resize = \"vertical\";\n        const content = document.createElement(\"div\");\n        content.style.fontFamily = \"monospace\";\n        content.style.whiteSpace = \"pre-wrap\";\n        content.style.backgroundColor = \"rgb(255, 221, 221)\";\n        content.textContent = error.stack ?? error.toString();\n        wrapper.append(content);\n        el.append(wrapper);\n      }\n    } else if (Date.now() < root._bokeh_timeout) {\n      setTimeout(() => display_loaded(error), 100);\n    }\n  }\n\n  function run_callbacks() {\n    try {\n      root._bokeh_onload_callbacks.forEach(function(callback) {\n        if (callback != null)\n          callback();\n      });\n    } finally {\n      delete root._bokeh_onload_callbacks\n    }\n    console.debug(\"Bokeh: all callbacks have finished\");\n  }\n\n  function load_libs(css_urls, js_urls, callback) {\n    if (css_urls == null) css_urls = [];\n    if (js_urls == null) js_urls = [];\n\n    root._bokeh_onload_callbacks.push(callback);\n    if (root._bokeh_is_loading > 0) {\n      console.debug(\"Bokeh: BokehJS is being loaded, scheduling callback at\", now());\n      return null;\n    }\n    if (js_urls == null || js_urls.length === 0) {\n      run_callbacks();\n      return null;\n    }\n    console.debug(\"Bokeh: BokehJS not loaded, scheduling load and callback at\", now());\n    root._bokeh_is_loading = css_urls.length + js_urls.length;\n\n    function on_load() {\n      root._bokeh_is_loading--;\n      if (root._bokeh_is_loading === 0) {\n        console.debug(\"Bokeh: all BokehJS libraries/stylesheets loaded\");\n        run_callbacks()\n      }\n    }\n\n    function on_error(url) {\n      console.error(\"failed to load \" + url);\n    }\n\n    for (let i = 0; i < css_urls.length; i++) {\n      const url = css_urls[i];\n      const element = document.createElement(\"link\");\n      element.onload = on_load;\n      element.onerror = on_error.bind(null, url);\n      element.rel = \"stylesheet\";\n      element.type = \"text/css\";\n      element.href = url;\n      console.debug(\"Bokeh: injecting link tag for BokehJS stylesheet: \", url);\n      document.body.appendChild(element);\n    }\n\n    for (let i = 0; i < js_urls.length; i++) {\n      const url = js_urls[i];\n      const element = document.createElement('script');\n      element.onload = on_load;\n      element.onerror = on_error.bind(null, url);\n      element.async = false;\n      element.src = url;\n      console.debug(\"Bokeh: injecting script tag for BokehJS library: \", url);\n      document.head.appendChild(element);\n    }\n  };\n\n  function inject_raw_css(css) {\n    const element = document.createElement(\"style\");\n    element.appendChild(document.createTextNode(css));\n    document.body.appendChild(element);\n  }\n\n  const js_urls = [\"https://cdn.bokeh.org/bokeh/release/bokeh-3.4.2.min.js\", \"https://cdn.bokeh.org/bokeh/release/bokeh-gl-3.4.2.min.js\", \"https://cdn.bokeh.org/bokeh/release/bokeh-widgets-3.4.2.min.js\", \"https://cdn.bokeh.org/bokeh/release/bokeh-tables-3.4.2.min.js\", \"https://cdn.bokeh.org/bokeh/release/bokeh-mathjax-3.4.2.min.js\"];\n  const css_urls = [];\n\n  const inline_js = [    function(Bokeh) {\n      Bokeh.set_log_level(\"info\");\n    },\nfunction(Bokeh) {\n    }\n  ];\n\n  function run_inline_js() {\n    if (root.Bokeh !== undefined || force === true) {\n      try {\n            for (let i = 0; i < inline_js.length; i++) {\n      inline_js[i].call(root, root.Bokeh);\n    }\n\n      } catch (error) {display_loaded(error);throw error;\n      }if (force === true) {\n        display_loaded();\n      }} else if (Date.now() < root._bokeh_timeout) {\n      setTimeout(run_inline_js, 100);\n    } else if (!root._bokeh_failed_load) {\n      console.log(\"Bokeh: BokehJS failed to load within specified timeout.\");\n      root._bokeh_failed_load = true;\n    } else if (force !== true) {\n      const cell = $(document.getElementById(\"d25f4938-3478-4b2f-b453-6d9b7e9d97c5\")).parents('.cell').data().cell;\n      cell.output_area.append_execute_result(NB_LOAD_WARNING)\n    }\n  }\n\n  if (root._bokeh_is_loading === 0) {\n    console.debug(\"Bokeh: BokehJS loaded, going straight to plotting\");\n    run_inline_js();\n  } else {\n    load_libs(css_urls, js_urls, function() {\n      console.debug(\"Bokeh: BokehJS plotting callback run at\", now());\n      run_inline_js();\n    });\n  }\n}(window));"
     },
     "metadata": {},
     "output_type": "display_data"
    }
   ],
   "source": [
    "from bokeh.plotting import figure, show\n",
    "from bokeh.io import output_notebook\n",
    "from bokeh.models import Slope, BoxAnnotation\n",
    "from bokeh.layouts import row\n",
    "output_notebook()"
   ]
  },
  {
   "cell_type": "code",
   "execution_count": 6,
   "metadata": {
    "scrolled": true
   },
   "outputs": [
    {
     "data": {
      "text/html": [
       "\n",
       "  <div id=\"a30c7ca4-81d1-4d68-9870-684374951fe8\" data-root-id=\"p1190\" style=\"display: contents;\"></div>\n"
      ]
     },
     "metadata": {},
     "output_type": "display_data"
    },
    {
     "data": {
      "application/javascript": [
       "(function(root) {\n",
       "  function embed_document(root) {\n",
       "  const docs_json = {\"525c1ddd-5427-4850-9201-8ae6a4059006\":{\"version\":\"3.4.2\",\"title\":\"Bokeh Application\",\"roots\":[{\"type\":\"object\",\"name\":\"Row\",\"id\":\"p1190\",\"attributes\":{\"children\":[{\"type\":\"object\",\"name\":\"Figure\",\"id\":\"p1098\",\"attributes\":{\"width\":450,\"height\":350,\"x_range\":{\"type\":\"object\",\"name\":\"DataRange1d\",\"id\":\"p1099\"},\"y_range\":{\"type\":\"object\",\"name\":\"DataRange1d\",\"id\":\"p1100\"},\"x_scale\":{\"type\":\"object\",\"name\":\"LinearScale\",\"id\":\"p1108\"},\"y_scale\":{\"type\":\"object\",\"name\":\"LinearScale\",\"id\":\"p1109\"},\"title\":{\"type\":\"object\",\"name\":\"Title\",\"id\":\"p1101\",\"attributes\":{\"text\":\"MPG vs. Weight\"}},\"renderers\":[{\"type\":\"object\",\"name\":\"GlyphRenderer\",\"id\":\"p1137\",\"attributes\":{\"data_source\":{\"type\":\"object\",\"name\":\"ColumnDataSource\",\"id\":\"p1131\",\"attributes\":{\"selected\":{\"type\":\"object\",\"name\":\"Selection\",\"id\":\"p1132\",\"attributes\":{\"indices\":[],\"line_indices\":[]}},\"selection_policy\":{\"type\":\"object\",\"name\":\"UnionRenderers\",\"id\":\"p1133\"},\"data\":{\"type\":\"map\",\"entries\":[[\"x\",{\"type\":\"ndarray\",\"array\":{\"type\":\"bytes\",\"data\":\"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\"},\"shape\":[398],\"dtype\":\"int32\",\"order\":\"little\"}],[\"y\",{\"type\":\"ndarray\",\"array\":{\"type\":\"bytes\",\"data\":\"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\"},\"shape\":[398],\"dtype\":\"float64\",\"order\":\"little\"}]]}}},\"view\":{\"type\":\"object\",\"name\":\"CDSView\",\"id\":\"p1138\",\"attributes\":{\"filter\":{\"type\":\"object\",\"name\":\"AllIndices\",\"id\":\"p1139\"}}},\"glyph\":{\"type\":\"object\",\"name\":\"Scatter\",\"id\":\"p1134\",\"attributes\":{\"x\":{\"type\":\"field\",\"field\":\"x\"},\"y\":{\"type\":\"field\",\"field\":\"y\"},\"line_color\":{\"type\":\"value\",\"value\":\"#1f77b4\"},\"fill_color\":{\"type\":\"value\",\"value\":\"#1f77b4\"}}},\"nonselection_glyph\":{\"type\":\"object\",\"name\":\"Scatter\",\"id\":\"p1135\",\"attributes\":{\"x\":{\"type\":\"field\",\"field\":\"x\"},\"y\":{\"type\":\"field\",\"field\":\"y\"},\"line_color\":{\"type\":\"value\",\"value\":\"#1f77b4\"},\"line_alpha\":{\"type\":\"value\",\"value\":0.1},\"fill_color\":{\"type\":\"value\",\"value\":\"#1f77b4\"},\"fill_alpha\":{\"type\":\"value\",\"value\":0.1},\"hatch_alpha\":{\"type\":\"value\",\"value\":0.1}}},\"muted_glyph\":{\"type\":\"object\",\"name\":\"Scatter\",\"id\":\"p1136\",\"attributes\":{\"x\":{\"type\":\"field\",\"field\":\"x\"},\"y\":{\"type\":\"field\",\"field\":\"y\"},\"line_color\":{\"type\":\"value\",\"value\":\"#1f77b4\"},\"line_alpha\":{\"type\":\"value\",\"value\":0.2},\"fill_color\":{\"type\":\"value\",\"value\":\"#1f77b4\"},\"fill_alpha\":{\"type\":\"value\",\"value\":0.2},\"hatch_alpha\":{\"type\":\"value\",\"value\":0.2}}}}}],\"toolbar\":{\"type\":\"object\",\"name\":\"Toolbar\",\"id\":\"p1107\",\"attributes\":{\"tools\":[{\"type\":\"object\",\"name\":\"PanTool\",\"id\":\"p1120\"},{\"type\":\"object\",\"name\":\"WheelZoomTool\",\"id\":\"p1121\",\"attributes\":{\"renderers\":\"auto\"}},{\"type\":\"object\",\"name\":\"BoxZoomTool\",\"id\":\"p1122\",\"attributes\":{\"overlay\":{\"type\":\"object\",\"name\":\"BoxAnnotation\",\"id\":\"p1123\",\"attributes\":{\"syncable\":false,\"level\":\"overlay\",\"visible\":false,\"left\":{\"type\":\"number\",\"value\":\"nan\"},\"right\":{\"type\":\"number\",\"value\":\"nan\"},\"top\":{\"type\":\"number\",\"value\":\"nan\"},\"bottom\":{\"type\":\"number\",\"value\":\"nan\"},\"left_units\":\"canvas\",\"right_units\":\"canvas\",\"top_units\":\"canvas\",\"bottom_units\":\"canvas\",\"line_color\":\"black\",\"line_alpha\":1.0,\"line_width\":2,\"line_dash\":[4,4],\"fill_color\":\"lightgrey\",\"fill_alpha\":0.5}}}},{\"type\":\"object\",\"name\":\"SaveTool\",\"id\":\"p1128\"},{\"type\":\"object\",\"name\":\"ResetTool\",\"id\":\"p1129\"},{\"type\":\"object\",\"name\":\"HelpTool\",\"id\":\"p1130\"}]}},\"left\":[{\"type\":\"object\",\"name\":\"LinearAxis\",\"id\":\"p1115\",\"attributes\":{\"ticker\":{\"type\":\"object\",\"name\":\"BasicTicker\",\"id\":\"p1116\",\"attributes\":{\"mantissas\":[1,2,5]}},\"formatter\":{\"type\":\"object\",\"name\":\"BasicTickFormatter\",\"id\":\"p1117\"},\"axis_label\":\"Miles per Gallon\",\"major_label_policy\":{\"type\":\"object\",\"name\":\"AllLabels\",\"id\":\"p1118\"}}}],\"below\":[{\"type\":\"object\",\"name\":\"LinearAxis\",\"id\":\"p1110\",\"attributes\":{\"ticker\":{\"type\":\"object\",\"name\":\"BasicTicker\",\"id\":\"p1111\",\"attributes\":{\"mantissas\":[1,2,5]}},\"formatter\":{\"type\":\"object\",\"name\":\"BasicTickFormatter\",\"id\":\"p1112\"},\"axis_label\":\"Weight (pounds)\",\"major_label_policy\":{\"type\":\"object\",\"name\":\"AllLabels\",\"id\":\"p1113\"}}}],\"center\":[{\"type\":\"object\",\"name\":\"Grid\",\"id\":\"p1114\",\"attributes\":{\"axis\":{\"id\":\"p1110\"}}},{\"type\":\"object\",\"name\":\"Grid\",\"id\":\"p1119\",\"attributes\":{\"dimension\":1,\"axis\":{\"id\":\"p1115\"}}},{\"type\":\"object\",\"name\":\"Slope\",\"id\":\"p1140\",\"attributes\":{\"gradient\":-0.0076766100639264695,\"y_intercept\":46.31736442026562,\"line_color\":\"firebrick\",\"line_width\":2.5,\"line_dash\":[6]}}]}},{\"type\":\"object\",\"name\":\"Figure\",\"id\":\"p1141\",\"attributes\":{\"width\":450,\"height\":350,\"x_range\":{\"type\":\"object\",\"name\":\"Range1d\",\"id\":\"p1151\",\"attributes\":{\"end\":5500}},\"y_range\":{\"type\":\"object\",\"name\":\"DataRange1d\",\"id\":\"p1143\"},\"x_scale\":{\"type\":\"object\",\"name\":\"LinearScale\",\"id\":\"p1152\"},\"y_scale\":{\"type\":\"object\",\"name\":\"LinearScale\",\"id\":\"p1153\"},\"title\":{\"type\":\"object\",\"name\":\"Title\",\"id\":\"p1144\",\"attributes\":{\"text\":\"MPG vs. Weight\"}},\"renderers\":[{\"type\":\"object\",\"name\":\"GlyphRenderer\",\"id\":\"p1181\",\"attributes\":{\"data_source\":{\"type\":\"object\",\"name\":\"ColumnDataSource\",\"id\":\"p1175\",\"attributes\":{\"selected\":{\"type\":\"object\",\"name\":\"Selection\",\"id\":\"p1176\",\"attributes\":{\"indices\":[],\"line_indices\":[]}},\"selection_policy\":{\"type\":\"object\",\"name\":\"UnionRenderers\",\"id\":\"p1177\"},\"data\":{\"type\":\"map\",\"entries\":[[\"x\",{\"type\":\"ndarray\",\"array\":{\"type\":\"bytes\",\"data\":\"sA0AAG0OAABsDQAAaQ0AAHkNAAD1EAAAAhEAANgQAABJEQAACg8AAOsNAAAZDgAAsQ4AAA4MAABECQAAEQsAANYKAAAbCgAAUggAACsHAABwCgAAfgkAAEcJAAC6CAAAWAoAAAcSAAAYEQAAHhEAAHwSAABSCAAA2AgAALQIAAD+BwAASgoAAG8NAAABDQAA5gwAANgMAABxEAAAcBEAADoQAAAAEAAAWxMAAIoSAAAUFAAAkgsAAGgJAADSDAAAQwwAAKwIAABLCAAAGggAABEIAADtBgAATQYAACoHAACjBwAA5ggAAE4IAADOCAAAaAkAALIIAACyEAAAIREAACcQAAAhEAAAWA4AABkSAACWEQAAaBEAAEYRAAAaCQAANA8AAAIQAADGEAAA7Q8AAHULAADPCQAAowsAAI0IAABbCQAA8AgAAMoJAAB0CAAANAgAAAQQAABYDgAAlA8AAMoPAADBDgAAWBMAAHARAAALEQAAjRAAAH8SAABXEwAA7Q4AADEMAADODAAAgQsAAM0LAABYCwAAngcAAIUTAAAqEwAALhIAAJMRAADlCgAA5wgAAGEJAABLCQAATAgAAAYJAACoCQAA2QgAAPIPAAC2EAAASwcAAG4IAAAWCgAANAsAAEcNAABkCgAA9woAAFAOAAAeDAAAOwsAAFULAAAIDQAAngcAAJMJAAAsBwAA7gkAAMUOAAAwDgAAHQ4AAC0QAABbEgAAaREAAB4SAAChEAAAqwgAAKsHAAD8CAAAcQYAANMHAABNCAAAPAgAAMYIAAC5CQAAVwkAANAHAADADAAAgw0AAGgNAABWDAAAPBIAAFgRAACSEQAAMRIAAEMPAAA5DwAAkg4AAMkOAADfCwAAlQwAAGEMAAB7CAAATwoAAGILAAAgCgAAjgoAAK8IAADxCQAAqAsAAJEHAACLDAAAhgoAAI0LAACBCwAAbwoAAAMHAACgCQAArAgAAAwKAADPCAAAmggAAHcQAABeEAAAeg8AAHcQAAChDAAAGQ0AAMQLAAANDAAA8wcAAHQIAACRBwAAAwcAAEMOAAD2DQAAPQ4AAHkMAAAhBwAAxgcAAGsIAAAFCgAATgwAAGQPAADGDAAAcgsAAOwOAAAcEQAA1w8AAB4PAACrDgAA/QcAAGsIAAAhBwAA/AgAAJkHAAAoDwAA3A8AACwQAADHEAAAwA0AAGENAAAuDgAAxQ0AAHwQAABFEAAA5RAAAO8QAACUBwAAtAoAANkIAADDCgAAAwgAABsIAADBBwAAjggAAP8KAAAoCgAAoAoAAMEHAAAIBwAAwQcAABYIAAAIBwAAJQ0AAJcOAADyDQAAzw0AAFMMAACVCwAAoAoAAGYNAACKDAAANA0AAP4LAAAkDgAAUg0AAGENAAB1DQAAhQwAAPAPAABrCAAAAAoAAPwIAAC2CAAA0wkAALkKAAAnCwAAZQkAAA4LAABEDAAA6woAAFINAADGBwAAVwgAAK0MAACuCwAASgsAAMEMAAAgDQAAAA8AAI0OAABzDwAA9g4AAAgRAADWDwAAFQ4AAGQPAACFBwAAtwcAAHsHAABuCgAAyg0AADwPAAB2DAAAXA0AAJgIAABmCAAA5AcAAFIIAABuCgAAIwoAAIwKAAD8CQAAYAgAALAHAABICAAA4wcAAHYKAAA2CwAAuwsAADUNAACMCAAAlwoAAO4JAACCCQAA2QgAAD4IAADwCgAAPggAACUIAAAfCQAAhgsAALIMAAA6BwAAKwcAAGEIAAA1BwAAXgsAAHQJAADECQAAWQsAAPIIAAC6CQAASwoAADwKAAClCgAAUQkAANsGAABTBwAA4AYAABEIAAC3BwAAAggAAMEHAACnCAAA/QcAAEwJAACOCAAAEAkAAKIIAAAuCQAANwoAAEsKAACeDAAAWAwAAFQLAAByCwAAVw0AAI0OAAD0CwAAiQ0AAC0KAABQCgAAWwkAAA8KAADdCQAArwoAADELAADbCwAAvAcAAOkHAACyBwAATQgAAE0IAABwCAAAnQgAAMUIAACtBwAArQcAAMsHAACBCwAAxwsAABkKAAATCwAAaQoAAEIJAACGCwAA5goAAFIIAAD3CAAAQQoAAKAKAAA=\"},\"shape\":[398],\"dtype\":\"int32\",\"order\":\"little\"}],[\"y\",{\"type\":\"ndarray\",\"array\":{\"type\":\"bytes\",\"data\":\"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\"},\"shape\":[398],\"dtype\":\"float64\",\"order\":\"little\"}]]}}},\"view\":{\"type\":\"object\",\"name\":\"CDSView\",\"id\":\"p1182\",\"attributes\":{\"filter\":{\"type\":\"object\",\"name\":\"AllIndices\",\"id\":\"p1183\"}}},\"glyph\":{\"type\":\"object\",\"name\":\"Scatter\",\"id\":\"p1178\",\"attributes\":{\"x\":{\"type\":\"field\",\"field\":\"x\"},\"y\":{\"type\":\"field\",\"field\":\"y\"},\"line_color\":{\"type\":\"value\",\"value\":\"#1f77b4\"},\"fill_color\":{\"type\":\"value\",\"value\":\"#1f77b4\"}}},\"nonselection_glyph\":{\"type\":\"object\",\"name\":\"Scatter\",\"id\":\"p1179\",\"attributes\":{\"x\":{\"type\":\"field\",\"field\":\"x\"},\"y\":{\"type\":\"field\",\"field\":\"y\"},\"line_color\":{\"type\":\"value\",\"value\":\"#1f77b4\"},\"line_alpha\":{\"type\":\"value\",\"value\":0.1},\"fill_color\":{\"type\":\"value\",\"value\":\"#1f77b4\"},\"fill_alpha\":{\"type\":\"value\",\"value\":0.1},\"hatch_alpha\":{\"type\":\"value\",\"value\":0.1}}},\"muted_glyph\":{\"type\":\"object\",\"name\":\"Scatter\",\"id\":\"p1180\",\"attributes\":{\"x\":{\"type\":\"field\",\"field\":\"x\"},\"y\":{\"type\":\"field\",\"field\":\"y\"},\"line_color\":{\"type\":\"value\",\"value\":\"#1f77b4\"},\"line_alpha\":{\"type\":\"value\",\"value\":0.2},\"fill_color\":{\"type\":\"value\",\"value\":\"#1f77b4\"},\"fill_alpha\":{\"type\":\"value\",\"value\":0.2},\"hatch_alpha\":{\"type\":\"value\",\"value\":0.2}}}}}],\"toolbar\":{\"type\":\"object\",\"name\":\"Toolbar\",\"id\":\"p1150\",\"attributes\":{\"tools\":[{\"type\":\"object\",\"name\":\"PanTool\",\"id\":\"p1164\"},{\"type\":\"object\",\"name\":\"WheelZoomTool\",\"id\":\"p1165\",\"attributes\":{\"renderers\":\"auto\"}},{\"type\":\"object\",\"name\":\"BoxZoomTool\",\"id\":\"p1166\",\"attributes\":{\"overlay\":{\"type\":\"object\",\"name\":\"BoxAnnotation\",\"id\":\"p1167\",\"attributes\":{\"syncable\":false,\"level\":\"overlay\",\"visible\":false,\"left\":{\"type\":\"number\",\"value\":\"nan\"},\"right\":{\"type\":\"number\",\"value\":\"nan\"},\"top\":{\"type\":\"number\",\"value\":\"nan\"},\"bottom\":{\"type\":\"number\",\"value\":\"nan\"},\"left_units\":\"canvas\",\"right_units\":\"canvas\",\"top_units\":\"canvas\",\"bottom_units\":\"canvas\",\"line_color\":\"black\",\"line_alpha\":1.0,\"line_width\":2,\"line_dash\":[4,4],\"fill_color\":\"lightgrey\",\"fill_alpha\":0.5}}}},{\"type\":\"object\",\"name\":\"SaveTool\",\"id\":\"p1172\"},{\"type\":\"object\",\"name\":\"ResetTool\",\"id\":\"p1173\"},{\"type\":\"object\",\"name\":\"HelpTool\",\"id\":\"p1174\"}]}},\"left\":[{\"type\":\"object\",\"name\":\"LinearAxis\",\"id\":\"p1159\",\"attributes\":{\"ticker\":{\"type\":\"object\",\"name\":\"BasicTicker\",\"id\":\"p1160\",\"attributes\":{\"mantissas\":[1,2,5]}},\"formatter\":{\"type\":\"object\",\"name\":\"BasicTickFormatter\",\"id\":\"p1161\"},\"axis_label\":\"Miles per Gallon\",\"major_label_policy\":{\"type\":\"object\",\"name\":\"AllLabels\",\"id\":\"p1162\"}}}],\"below\":[{\"type\":\"object\",\"name\":\"LinearAxis\",\"id\":\"p1154\",\"attributes\":{\"ticker\":{\"type\":\"object\",\"name\":\"BasicTicker\",\"id\":\"p1155\",\"attributes\":{\"mantissas\":[1,2,5]}},\"formatter\":{\"type\":\"object\",\"name\":\"BasicTickFormatter\",\"id\":\"p1156\"},\"axis_label\":\"Weight (pounds)\",\"major_label_policy\":{\"type\":\"object\",\"name\":\"AllLabels\",\"id\":\"p1157\"}}}],\"center\":[{\"type\":\"object\",\"name\":\"Grid\",\"id\":\"p1158\",\"attributes\":{\"axis\":{\"id\":\"p1154\"}}},{\"type\":\"object\",\"name\":\"Grid\",\"id\":\"p1163\",\"attributes\":{\"dimension\":1,\"axis\":{\"id\":\"p1159\"}}},{\"type\":\"object\",\"name\":\"Slope\",\"id\":\"p1184\",\"attributes\":{\"gradient\":-0.0076766100639264695,\"y_intercept\":46.31736442026562,\"line_color\":\"firebrick\",\"line_width\":2.5,\"line_dash\":[6]}},{\"type\":\"object\",\"name\":\"BoxAnnotation\",\"id\":\"p1185\",\"attributes\":{\"left\":1570,\"right\":5200,\"top\":{\"type\":\"object\",\"name\":\"Node\",\"id\":\"p1188\",\"attributes\":{\"target\":\"frame\",\"symbol\":\"top\"}},\"bottom\":{\"type\":\"object\",\"name\":\"Node\",\"id\":\"p1189\",\"attributes\":{\"target\":\"frame\",\"symbol\":\"bottom\"}},\"fill_color\":\"red\",\"fill_alpha\":0.1}}]}}]}}]}};\n",
       "  const render_items = [{\"docid\":\"525c1ddd-5427-4850-9201-8ae6a4059006\",\"roots\":{\"p1190\":\"a30c7ca4-81d1-4d68-9870-684374951fe8\"},\"root_ids\":[\"p1190\"]}];\n",
       "  void root.Bokeh.embed.embed_items_notebook(docs_json, render_items);\n",
       "  }\n",
       "  if (root.Bokeh !== undefined) {\n",
       "    embed_document(root);\n",
       "  } else {\n",
       "    let attempts = 0;\n",
       "    const timer = setInterval(function(root) {\n",
       "      if (root.Bokeh !== undefined) {\n",
       "        clearInterval(timer);\n",
       "        embed_document(root);\n",
       "      } else {\n",
       "        attempts++;\n",
       "        if (attempts > 100) {\n",
       "          clearInterval(timer);\n",
       "          console.log(\"Bokeh: ERROR: Unable to run BokehJS code because BokehJS library is missing\");\n",
       "        }\n",
       "      }\n",
       "    }, 10, root)\n",
       "  }\n",
       "})(window);"
      ],
      "application/vnd.bokehjs_exec.v0+json": ""
     },
     "metadata": {
      "application/vnd.bokehjs_exec.v0+json": {
       "id": "p1190"
      }
     },
     "output_type": "display_data"
    }
   ],
   "source": [
    "import statsmodels.api as sm\n",
    "import statsmodels.formula.api as smf\n",
    "\n",
    "# Create left graph\n",
    "pLeft = figure(width=450, height=350, \n",
    "               title=f'MPG vs. Weight',\n",
    "               y_axis_label = \"Miles per Gallon\", x_axis_label=\"Weight (pounds)\")\n",
    "pLeft.scatter(x=dfAuto['weight'], y=dfAuto['mpg'])\n",
    "\n",
    "results = smf.ols(f'mpg ~ weight', data=dfAuto).fit()\n",
    "slope = Slope(y_intercept=results.params['Intercept'], gradient=results.params['weight'], \n",
    "              line_color='firebrick', line_dash='dashed', line_width=2.5)\n",
    "pLeft.add_layout(slope)\n",
    "\n",
    "# Create right graph\n",
    "pRight = figure(width=450, height=350, \n",
    "                title=f'MPG vs. Weight',\n",
    "                y_axis_label = \"Miles per Gallon\", x_axis_label=\"Weight (pounds)\", x_range=(0,5500))\n",
    "pRight.scatter(x=dfAuto['weight'], y=dfAuto['mpg'])\n",
    "results = smf.ols(f'mpg ~ weight', data=dfAuto).fit()\n",
    "slope = Slope(y_intercept=results.params['Intercept'], gradient=results.params['weight'], \n",
    "              line_color='firebrick', line_dash='dashed', line_width=2.5)\n",
    "pRight.add_layout(slope)\n",
    "box = BoxAnnotation(left=1570, right=5200, fill_alpha=0.1, fill_color='red')\n",
    "pRight.add_layout(box)\n",
    "\n",
    "# Show the graphs, side by side\n",
    "show(row(pLeft, pRight))"
   ]
  },
  {
   "cell_type": "markdown",
   "metadata": {},
   "source": [
    "The left graph shows a scatter plot of mpg versus weight. Notice a downward trend in the points that corroborates the correlation of -0.83 that we observed earlier. The dashed red line is a trend line, or regression line, that is superimposed on the data. This line confirms the negative relationship. The term $\\alpha$, whose value the regression determined to be 46.3174, is the y-intercept of the regression line. It shows the hypothetical mpg of a car with zero weight. \n",
    "\n",
    "The left graph shows a scatter plot with an x-axis that ranges from the smallest to the largest weight in the dataset. When we force the x-axis to start at 0 (right graph), we see that the points are clustered in a range (highlighted by the pink shading). This range is called the relevant range. Notice that there are no cars with weight less than about 1,600 pounds, and no car with weight greater than about 5,200 pounds. It is usually unwise to use a regression model to forecast outside the relevant range. The reason is that the underlying process that generates the data might change drastically outside the relevant range. For example, imagine someone made a super-light car that weighed 500 pounds. The technology would be different and therefore predicting its fuel economy with our model derived from traditional cars might not apply."
   ]
  },
  {
   "cell_type": "markdown",
   "metadata": {},
   "source": [
    "### Regression in Python"
   ]
  },
  {
   "cell_type": "markdown",
   "metadata": {},
   "source": [
    "In this course, you will do regression in Python. While there are many software packages that can do regression (e.g. Excel, R, SAS, Stata, SPSS), we will use Python for continuity with the rest of the course. \n",
    "\n",
    "There are many Python packages that can perform regression. We recommend _statsmodels_ because it has an easy syntax for specifying your regression. To use this package for linear regression, two import statements are needed:\n",
    "```python\n",
    "import statsmodels.api as sm\n",
    "import statsmodels.formula.api as smf\n",
    "```\n",
    "Once those have been imported, you can run a regression with one line of code. The following code runs the regression of _mpg_ on _weight_.\n",
    "```python\n",
    "results = smf.ols('mpg ~ weight', data=dfAuto).fit()\n",
    "```\n",
    "Let's examine this code before we run it. The `ols` method creates a regression object (note: ols stands for \"ordinary least squares\", which is the fancy term for a simple regression). The arguments to ols are:\n",
    "* `'mpg ~ weight'`. This tells the `ols` function to use the values in the _mpg_ column as the dependent variable, and the values in the _weight_ column as the independent variable.\n",
    "* `data=dfAuto`. This tells the `ols` function to use the DataFrame `dfAuto` as the source data.\n",
    "Notice the `fit` method. This tells the regression object to actually run the regression and fit a line. Finally, notice that the `fit` method returns the results. We saved those in a variable called `result`. You can use any variable name you want.\n",
    "\n",
    "To print the results, run the command:\n",
    "```python\n",
    "print(results.summary())\n",
    "```\n",
    "\n",
    "Run the cell below to run the regression of _mpg_ on _weight_."
   ]
  },
  {
   "cell_type": "code",
   "execution_count": 7,
   "metadata": {},
   "outputs": [
    {
     "name": "stdout",
     "output_type": "stream",
     "text": [
      "                            OLS Regression Results                            \n",
      "==============================================================================\n",
      "Dep. Variable:                    mpg   R-squared:                       0.692\n",
      "Model:                            OLS   Adj. R-squared:                  0.691\n",
      "Method:                 Least Squares   F-statistic:                     888.9\n",
      "Date:                Thu, 22 Aug 2024   Prob (F-statistic):          2.97e-103\n",
      "Time:                        15:36:51   Log-Likelihood:                -1148.4\n",
      "No. Observations:                 398   AIC:                             2301.\n",
      "Df Residuals:                     396   BIC:                             2309.\n",
      "Df Model:                           1                                         \n",
      "Covariance Type:            nonrobust                                         \n",
      "==============================================================================\n",
      "                 coef    std err          t      P>|t|      [0.025      0.975]\n",
      "------------------------------------------------------------------------------\n",
      "Intercept     46.3174      0.795     58.243      0.000      44.754      47.881\n",
      "weight        -0.0077      0.000    -29.814      0.000      -0.008      -0.007\n",
      "==============================================================================\n",
      "Omnibus:                       40.423   Durbin-Watson:                   0.797\n",
      "Prob(Omnibus):                  0.000   Jarque-Bera (JB):               56.695\n",
      "Skew:                           0.713   Prob(JB):                     4.89e-13\n",
      "Kurtosis:                       4.176   Cond. No.                     1.13e+04\n",
      "==============================================================================\n",
      "\n",
      "Notes:\n",
      "[1] Standard Errors assume that the covariance matrix of the errors is correctly specified.\n",
      "[2] The condition number is large, 1.13e+04. This might indicate that there are\n",
      "strong multicollinearity or other numerical problems.\n"
     ]
    }
   ],
   "source": [
    "import statsmodels.api as sm\n",
    "import statsmodels.formula.api as smf\n",
    "\n",
    "results = smf.ols('mpg ~ weight', data=dfAuto).fit()\n",
    "print(results.summary())"
   ]
  },
  {
   "cell_type": "markdown",
   "metadata": {},
   "source": [
    "Let's examine the regression output. In this course, we will focus on three aspects of the regression output:\n",
    "* Coefficients\n",
    "* p-values\n",
    "* R-squared"
   ]
  },
  {
   "cell_type": "markdown",
   "metadata": {},
   "source": [
    "#### Interpreting the Coefficients"
   ]
  },
  {
   "cell_type": "markdown",
   "metadata": {},
   "source": [
    "The intercept is the hypothesized intercept of the regression line with the y-axis (in a one-variable regression). The intercept is the predicted value of the dependent variable _when all independent variables are zero_. A common use for the intercept is when estimating cost functions. One tries to predict a cost using one or more cost drivers. For example, how does UPS fuel cost vary with miles driven by delivery trucks? In such a regression, the intercept would be the estimate of the fixed fuel cost.\n",
    "\n",
    "The coefficient is an estimate of the change in the dependent variable that will occur when the independent variable changes by one unit. In the cost example, the coefficient is the estimate of the variable cost per unit, i.e. the additional fuel cost that would result from one additional mile driven.\n",
    "\n",
    "The sign on the intercepts and coefficients are as important as their magnitudes. A negative sign, as seen in the coefficient on our mpg vs. weight regression, tells you that the dependent variable _decreases_ as the independent variable increases."
   ]
  },
  {
   "cell_type": "markdown",
   "metadata": {},
   "source": [
    "#### Interpreting the p-values"
   ]
  },
  {
   "cell_type": "markdown",
   "metadata": {},
   "source": [
    "In order to understand p-values, you need to know what it means when a coefficient equals zero. If a coefficient is zero, that means that the independent variable does not affect the dependent variable. In our mpg vs. weight regression, a coefficient of zero on the weight variable would mean that mpg does not change as weight changes.\n",
    "\n",
    "A p-value is a test of whether the coefficient is zero. A very crude way of stating it is that \"_the p-value is the probability that the coefficient is actually zero_\". That statement implies that a high p-value indicates an unimportant independent variable, and a low p-value indicates that the independent variable is \"significant\". \n",
    "\n",
    "Many researchers use a 10% cutoff for p-values. If a p-value is less than 10%, they say the variable is significant. In our regression above, both p-values are 0.000; that means that the intercept and coefficient are not likely equal to zero, and are therefore significant. Note that regression output usually rounds p-values, so the actual values are something like 0.0000002. "
   ]
  },
  {
   "cell_type": "markdown",
   "metadata": {},
   "source": [
    "#### Interpreting R-squared"
   ]
  },
  {
   "cell_type": "markdown",
   "metadata": {},
   "source": [
    "In our auto dataset, there are 400 cars, each with a different mpg. The R-squared tells us the fraction of the variation in mpg _that can be explained by the independent variables_. In this case, the R-squared is 0.692 so 69.2% of the variation in _mpg_ can be explained by _weight_. We suggest you not throw out a regression just because it has low R-squared. Low R-squared usually means that there are other variables that are missing from the regression.\n",
    "\n",
    "Note that, since R-squared is a fraction, its value must lie between 0 and 1, i.e. $R^2 \\in [0,1]$."
   ]
  },
  {
   "cell_type": "markdown",
   "metadata": {},
   "source": [
    "#### Interpreting the Entire Regression"
   ]
  },
  {
   "cell_type": "markdown",
   "metadata": {},
   "source": [
    "Many students use R-squared as the primary measure of the \"goodness\" of a regression. We caution you against that practice. Begin by looking at the p-values. Those tell you which coefficients are significant. If a variable is significant, that means that it explains something about the dependent variable. If you have one or more significant independent variables, you have learned something. The next step is to look at the coefficient signs and magnitudes. The signs tell you the direction of the effect of the independent variables. The magnitudes tell you the impact of the independent variables. If I'm trying to predict a cost and I find a significant cost driver, but its magnitude is very, very low, then perhaps that cost driver is not economically meaningful. The final criterion should be R-squared. \n",
    "\n",
    "We also caution you that the process we just outlined is not set in stone. If your goal is to find independent variables that are associated with the dependent variable (e.g. searching for cost drivers), then the process above is a good one. For example, in finance, sometimes a regression with an R-squared of 0.01 can be valuable! If a variable is found that is correlated with stock prices, that variable can be used to earn a return (it might take lots of trading though). It doesn't matter if the R-squared is low. That said, if your goal is to explain most of the variation in the dependent variable, and possibly use the regression for forecasting and prediction, then R-squared is more important. For example, in machine learning, the goal is forecasting accuracy. In that case, the R-squared would be paramount."
   ]
  },
  {
   "cell_type": "markdown",
   "metadata": {},
   "source": [
    "#### Other Numbers in the Regression"
   ]
  },
  {
   "cell_type": "markdown",
   "metadata": {},
   "source": [
    "There are numerous other metrics in the regression output above. Many of them can be useful for you. We are not going to explain them at this time, and refer you to a statistics textbook."
   ]
  },
  {
   "cell_type": "markdown",
   "metadata": {},
   "source": [
    "## Multiple Regression"
   ]
  },
  {
   "cell_type": "markdown",
   "metadata": {},
   "source": [
    "Multiple regression simply means more than one independent variable in the regression. Let's extend our regression of mpg on weight to accommodate another independent variable, horsepower. As before, we hypothesize that weight negatively affects fuel economy. We now also hypothesize that horsepower negatively affects fuel economy. We can write our regression equation as:\n",
    "\n",
    "$$mpg = \\alpha + \\beta_1 \\cdot weight + \\beta_2 \\cdot horsepower$$\n",
    "\n",
    "Notice that the horsepower term is additive. That means that we believe that weight and horsepower are independent, and one can vary independently of the other. In reality, weight and horsepower are positively correlated (because at some point, to generate more power you need a bigger engine or additional equipment like a turbocharger). However, the correlation is not perfect. It is possible to increase horsepower while holding weight constant, or even decreasing weight. For example, different materials and technologies can be used for the engine block, crankshaft, and valves. In sum, for illustrative purposes, we will assume that weight and horsepower are independent."
   ]
  },
  {
   "cell_type": "markdown",
   "metadata": {},
   "source": [
    "To run the regression above, we use code that is almost identical to what we had above. The only change will be to the formula in the `ols` function. We will change that to:\n",
    "```python\n",
    "'mpg ~ weight + horsepower`\n",
    "```\n",
    "This formula tells the `ols` method to regress mpg on weight _and_ horsepower. Let's run this regression and interpret the output."
   ]
  },
  {
   "cell_type": "code",
   "execution_count": 8,
   "metadata": {},
   "outputs": [
    {
     "name": "stdout",
     "output_type": "stream",
     "text": [
      "                            OLS Regression Results                            \n",
      "==============================================================================\n",
      "Dep. Variable:                    mpg   R-squared:                       0.706\n",
      "Model:                            OLS   Adj. R-squared:                  0.705\n",
      "Method:                 Least Squares   F-statistic:                     467.9\n",
      "Date:                Thu, 22 Aug 2024   Prob (F-statistic):          3.06e-104\n",
      "Time:                        15:36:59   Log-Likelihood:                -1121.0\n",
      "No. Observations:                 392   AIC:                             2248.\n",
      "Df Residuals:                     389   BIC:                             2260.\n",
      "Df Model:                           2                                         \n",
      "Covariance Type:            nonrobust                                         \n",
      "==============================================================================\n",
      "                 coef    std err          t      P>|t|      [0.025      0.975]\n",
      "------------------------------------------------------------------------------\n",
      "Intercept     45.6402      0.793     57.540      0.000      44.081      47.200\n",
      "weight        -0.0058      0.001    -11.535      0.000      -0.007      -0.005\n",
      "horsepower    -0.0473      0.011     -4.267      0.000      -0.069      -0.026\n",
      "==============================================================================\n",
      "Omnibus:                       35.336   Durbin-Watson:                   0.858\n",
      "Prob(Omnibus):                  0.000   Jarque-Bera (JB):               45.973\n",
      "Skew:                           0.683   Prob(JB):                     1.04e-10\n",
      "Kurtosis:                       3.974   Cond. No.                     1.15e+04\n",
      "==============================================================================\n",
      "\n",
      "Notes:\n",
      "[1] Standard Errors assume that the covariance matrix of the errors is correctly specified.\n",
      "[2] The condition number is large, 1.15e+04. This might indicate that there are\n",
      "strong multicollinearity or other numerical problems.\n"
     ]
    }
   ],
   "source": [
    "results = smf.ols('mpg ~ weight + horsepower', data=dfAuto).fit()\n",
    "print(results.summary())"
   ]
  },
  {
   "cell_type": "markdown",
   "metadata": {},
   "source": [
    "We interpret this regression as follows:\n",
    "* The intercept did not change much from our previous regression. That's a good sign, as it suggests that our estimate is not sensitive to the independent variables used. Since the intercept is outside the relevant range, it does not have physical meaning here.\n",
    "* The coefficient on weight is -0.0058 and is highly significant (the p-value is well below our 10% cutoff). Our new estimate of the effect of weight is that a 1 pound increase in weight decreases mpg by 0.0058, _assuming horsepower does not change_. The emphasized text is important. Each coefficient must be evaluated assuming the other variables remain the same.\n",
    "* The coefficient on horsepower is -0.0473. As we hypothesized, the sign is negative. This coefficient is also highly significant (p = 0.000), so as we predicted, increasing power decreases fuel economy. We estimate that an increase in 1 horsepower decreases fuel economy by 0.0473 mpg, _assuming weight does not change_. The emphasized text is important. Each coefficient must be evaluated assuming the other variables remain the same.\n",
    "* The R-squared is 0.706. We can explain 70% of the variation in a car's fuel economy with just its weight and horsepower. "
   ]
  },
  {
   "cell_type": "markdown",
   "metadata": {},
   "source": [
    "## Categorical and Indicator Variables"
   ]
  },
  {
   "cell_type": "markdown",
   "metadata": {},
   "source": [
    "Say that we want to know the effect of the country/continent of origin on fuel economy. Does an American car have higher fuel economy than a Japanese car with identical specifications? Does a Japanese car have higher fuel economy than a European car with identical specifications? This is called a \"fixed effect\", and is entirely plausible, especially since price is not one of our independent variables. For example, if European cars command higher prices, they are able to use better technology and get higher fuel economy for the same weight and horsepower.\n",
    "\n",
    "The variable _origin_ tells us the country/continent of origin of each car. Let's examine that variable more closely:"
   ]
  },
  {
   "cell_type": "code",
   "execution_count": 9,
   "metadata": {},
   "outputs": [
    {
     "data": {
      "text/plain": [
       "array(['American', 'Japanese', 'European'], dtype=object)"
      ]
     },
     "execution_count": 9,
     "metadata": {},
     "output_type": "execute_result"
    }
   ],
   "source": [
    "dfAuto['origin'].unique()"
   ]
  },
  {
   "cell_type": "markdown",
   "metadata": {},
   "source": [
    "Wait a minute! The values in the _origin_ column are the _strings_ 'American', 'Japanese', and 'European'. _How do we use a string variable in a regression_??!!\n",
    "\n",
    "A string variable, or any variable that takes on discrete values is called a _categorical_ variable since the values represent categories. In order to use the categories in the regression, we need to convert them to numbers. We could use the numbers 0, 1, and 2, to represent 'American', 'Japanese', and 'European'. But it turns out that is a really bad idea. If we use that coding scheme, the regression will try to figure out a fixed difference between each category. Worse, that particular coding scheme forces the regression to assume that either American > Japanese > European or American < Japanese < European. That's not what we want. We want each category to be independent.\n",
    "\n",
    "The standard way to handle this situation is to convert the categorical variable into multiple _indicator variables_. An indicator variable (sometimes called a \"dummy\" variable) is a variable that can only assume the values 0 and 1. If there are $n$ categories, we will create $n-1$ indicator variables. One of the categories will serve as the base category, and there will be one indicator variable for each of the other categories. For example, say we choose American as the base category. We would create a European indicator variable and a Japanese indicator variable. To see this, consider the following table that contains 6 randomly selected rows from `dfAuto`:\n",
    "\n",
    "| index | mpg | weight | origin | European | Japanese |\n",
    "|:---:|---|---|:---:|:---:|:---:|\n",
    "| 56 | 26.0 | 1955 | 'American' | 0 | 0 |\n",
    "| 222 | 17.0 | 4060 | 'American' | 0 | 0 |\n",
    "| 275 | 17.0 | 3140 | 'European' | 1 | 0 |\n",
    "| 326 | 43.4 | 2335 | 'European' | 1 | 0 |\n",
    "| 108 | 20.0 | 2279 | 'Japanese' | 0 | 1 |\n",
    "| 319 | 31.3 | 2542 | 'Japanese' | 0 | 1 |"
   ]
  },
  {
   "cell_type": "markdown",
   "metadata": {},
   "source": [
    "Look at the indicator variable columns. For the American cars, both indicator variables are zero. For the European cars, only the European indicator variable is 1. And for the Japanese cars, only the Japanese indicator variable is 1. This is how a set of $n$ categories is coded. We create $n-1$ indicator variables. A value of 1 in one of the indicator variables indicates that the row (observation) belongs to that category. A value of 0 in all of the indicator variables indicates that the row belongs to the baseline category. Note that we can choose _any_ category to be the base category."
   ]
  },
  {
   "cell_type": "markdown",
   "metadata": {},
   "source": [
    "Say we want to regress _mpg_ on _weight_ and _origin_. With our new indicator variables, the regression equation will be:\n",
    "\n",
    "$$mpg = \\alpha +\\beta_1 \\cdot weight + \\beta_2 \\cdot European + \\beta_3 \\cdot Japanese$$\n",
    "\n",
    "Remember that the European and Japanese variables can only be 0 or 1. For American cars, both indicator variables will be zero so the coefficients $\\beta_2$ and $\\beta_3$ do not matter; those terms will drop out of the equation for the American cars and the equation will be:\n",
    "\n",
    "$$mpg = \\alpha +\\beta_1 \\cdot weight + \\beta_2 \\cdot 0 + \\beta_3 \\cdot 0$$\n",
    "Simplifying:\n",
    "$$mpg = \\alpha +\\beta_1 \\cdot weight$$\n",
    "\n",
    "For a European car, the European dummy will be 1 and the Japanese dummy will be 0. That means that, for European cars, the equation will be: \n",
    "\n",
    "$$mpg = \\alpha +\\beta_1 \\cdot weight + \\beta_2 \\cdot 1 + \\beta_3 \\cdot 0$$\n",
    "Simplifying:\n",
    "$$mpg = (\\alpha + \\beta_2) +\\beta_1 \\cdot weight$$\n",
    "\n",
    "This equation tells us that for European cars, the intercept will be $\\alpha + \\beta_2$. What that means is that, relative to an American car with identical weight, the fuel economy of a European car will differ by $\\beta_2$. If $\\beta_2$ is positive, that means that European cars get better fuel economy than American cars, all else equal. If $\\beta_2$ is negative, that means that European cars get worse fuel economy than American cars, all else equal.\n",
    "\n",
    "For a Japanese car, the Japanese dummy will be 1 and the European dummy will be 0. That means that, for Japanese cars, the equation will be: \n",
    "\n",
    "$$mpg = \\alpha +\\beta_1 \\cdot weight + \\beta_2 \\cdot 0 + \\beta_3 \\cdot 1$$\n",
    "Simplifying:\n",
    "$$mpg = (\\alpha + \\beta_3) +\\beta_1 \\cdot weight$$\n",
    "\n",
    "This equation tells us that for Japanese cars, the intercept will be $\\alpha + \\beta_3$. What that means is that, relative to an American car with identical weight, the fuel economy of a Japanese car will differ by $\\beta_3$. If $\\beta_3$ is positive, that means that Japanese cars get better fuel economy than American cars, all else equal. If $\\beta_3$ is negative, that means that Japanese cars get worse fuel economy than American cars, all else equal.\n",
    "\n",
    "What if we want to know the difference between European and Japanese cars? Simply look at the difference between $\\beta_2$ and $\\beta_3$!"
   ]
  },
  {
   "cell_type": "markdown",
   "metadata": {},
   "source": [
    "### Running a Regression with Categorical Variables"
   ]
  },
  {
   "cell_type": "markdown",
   "metadata": {},
   "source": [
    "We have some good news. When running a regression with the `statsmodels` package, you do not have to create indicator variables. Simply tell the `ols` function which variables are categorical and _it will create the indicator variables for you_! Pretty cool, huh? Excel won't do that. ;-)\n",
    "\n",
    "Compared to the multiple regression code above, the only difference is that categorical variables need to be placed inside a `'C()'`. To see this, consider the code below and pay particular attention to the string formula:"
   ]
  },
  {
   "cell_type": "code",
   "execution_count": 10,
   "metadata": {},
   "outputs": [
    {
     "name": "stdout",
     "output_type": "stream",
     "text": [
      "                            OLS Regression Results                            \n",
      "==============================================================================\n",
      "Dep. Variable:                    mpg   R-squared:                       0.702\n",
      "Model:                            OLS   Adj. R-squared:                  0.699\n",
      "Method:                 Least Squares   F-statistic:                     308.6\n",
      "Date:                Thu, 22 Aug 2024   Prob (F-statistic):          4.86e-103\n",
      "Time:                        15:37:13   Log-Likelihood:                -1142.0\n",
      "No. Observations:                 398   AIC:                             2292.\n",
      "Df Residuals:                     394   BIC:                             2308.\n",
      "Df Model:                           3                                         \n",
      "Covariance Type:            nonrobust                                         \n",
      "=========================================================================================\n",
      "                            coef    std err          t      P>|t|      [0.025      0.975]\n",
      "-----------------------------------------------------------------------------------------\n",
      "Intercept                43.6959      1.104     39.567      0.000      41.525      45.867\n",
      "C(origin)[T.European]     1.2155      0.652      1.863      0.063      -0.067       2.498\n",
      "C(origin)[T.Japanese]     2.3554      0.662      3.558      0.000       1.054       3.657\n",
      "weight                   -0.0070      0.000    -22.059      0.000      -0.008      -0.006\n",
      "==============================================================================\n",
      "Omnibus:                       37.803   Durbin-Watson:                   0.813\n",
      "Prob(Omnibus):                  0.000   Jarque-Bera (JB):               54.615\n",
      "Skew:                           0.662   Prob(JB):                     1.38e-12\n",
      "Kurtosis:                       4.242   Cond. No.                     1.82e+04\n",
      "==============================================================================\n",
      "\n",
      "Notes:\n",
      "[1] Standard Errors assume that the covariance matrix of the errors is correctly specified.\n",
      "[2] The condition number is large, 1.82e+04. This might indicate that there are\n",
      "strong multicollinearity or other numerical problems.\n"
     ]
    }
   ],
   "source": [
    "results = smf.ols('mpg ~ weight + C(origin)', data=dfAuto).fit()\n",
    "print(results.summary())"
   ]
  },
  {
   "cell_type": "markdown",
   "metadata": {},
   "source": [
    "Notice that the regression output has two lines for origin:\n",
    "```\n",
    "C(origin)[T.European]     1.2155      0.652      1.863      0.063      -0.067       2.498\n",
    "C(origin)[T.Japanese]     2.3554      0.662      3.558      0.000       1.054       3.657\n",
    "```\n",
    "It appears that the regression treated the American category as the baseline. The first line of output shows the coefficient on the European indicator variable. That coefficient is 1.2155, indicating that a European car gets 1.2155 more mpg than an American car with identical weight. The second line of output shows the coefficient on the Japanese indicator variable. That coefficient is 2.3554, indicating that a Japanese car gets 2.3554 more mpg than an American car with identical weight. Both coefficients are significant (meaning it's unlikely their true value is zero). We also learn that a Japanese car gets 2.3554 - 1.2155 = 1.1399 more mpg than a European car with identical weight."
   ]
  },
  {
   "cell_type": "markdown",
   "metadata": {},
   "source": [
    "## Forecasting"
   ]
  },
  {
   "cell_type": "markdown",
   "metadata": {},
   "source": [
    "Once you have a regression equation, you can use it to forecast. For example, take one of our regression models from above:\n",
    "\n",
    "$$mpg = 45.6402 - 0.0058 \\cdot weight - 0.0473 \\cdot horsepower$$\n",
    "\n",
    "Say we want to use this model to forecast. We might do this if we are an engineer or executive designing a new car. We expect that our new car will weigh 3000 pounds and make 150 horsepower. We simply plug our estimates into our model:\n",
    "\n",
    "$$mpg = 45.6402 - 0.0058 \\cdot 3000 - 0.0473 \\cdot 150$$\n",
    "\n",
    "This model yields a prediction of 21.145 mpg."
   ]
  }
 ],
 "metadata": {
  "kernelspec": {
   "display_name": "Python 3 (ipykernel)",
   "language": "python",
   "name": "python3"
  },
  "language_info": {
   "codemirror_mode": {
    "name": "ipython",
    "version": 3
   },
   "file_extension": ".py",
   "mimetype": "text/x-python",
   "name": "python",
   "nbconvert_exporter": "python",
   "pygments_lexer": "ipython3",
   "version": "3.11.9"
  }
 },
 "nbformat": 4,
 "nbformat_minor": 4
}
