{
 "cells": [
  {
   "cell_type": "markdown",
   "metadata": {},
   "source": [
    "# Data Types"
   ]
  },
  {
   "cell_type": "markdown",
   "metadata": {},
   "source": [
    "## Learning Objectives"
   ]
  },
  {
   "cell_type": "markdown",
   "metadata": {},
   "source": [
    "<div style=\"border: 1px solid black; padding: 10px; background-color: #EDEDED;\">\n",
    "    <ul>\n",
    "        <li>List the four basic data types in Python (<i>int</i>, <i>float</i>, <i>str</i>, and <i>bool</i>).</li>\n",
    "        <li>Give an example value for each data type. For <i>bool</i>, list all possible values.</li>\n",
    "        <li>For each data type, write a line of Python code that creates a variable that stores a value with the data type.</li>\n",
    "        <li>Create an empty string.</li>\n",
    "        <li>Determine the type of a value or variable.</li>\n",
    "        <li>Convert a variable from one data type to another. If the conversion is not possible, state why.</li>\n",
    "    </ul>\n",
    "</div>"
   ]
  },
  {
   "cell_type": "markdown",
   "metadata": {},
   "source": [
    "## Overview of Data Types"
   ]
  },
  {
   "cell_type": "markdown",
   "metadata": {},
   "source": [
    "Variables are containers for data. Each piece of data is classified by the computer as having a _data type_. This is true for programming languages, such as Python. It is also true in Excel! Every cell in an Excel worksheet has a value, and this value has a data type.\n",
    "\n",
    "Python has many data types. For now, let's learn about a few of Python's basic data types. Later, you will see how these basic data types are grouped together to form more complex data structures. \n",
    "\n",
    "Some basic data types in Python are:  \n",
    "\n",
    "| Data Type | Description |\n",
    "|:--------- |:----------- |\n",
    "| `int` | `int` stands for _integer_. These are whole numbers and they can be positive or negative. |\n",
    "| `float` | `float` stands for \"floating point number\". These are numbers that can contain a fractional amount, such as 3.14. |\n",
    "| `str` | `str` stands for \"string\". These are textual values. |\n",
    "| `bool` | `bool` stands for boolean. These can have a value of either `True` or `False`. They are named after the mathematician George Boole. |\n",
    "\n",
    "There are many other data types in Python, but let's focus on these simple data types for now. We will discuss other data types later in this course."
   ]
  },
  {
   "cell_type": "markdown",
   "metadata": {},
   "source": [
    "## Integers (`int` data type)"
   ]
  },
  {
   "cell_type": "markdown",
   "metadata": {},
   "source": [
    "An integer is a positive or negative whole number. To create an integer value, simply enter a whole number into a cell or assign it to a variable."
   ]
  },
  {
   "cell_type": "code",
   "execution_count": 1,
   "metadata": {},
   "outputs": [
    {
     "data": {
      "text/plain": [
       "7"
      ]
     },
     "execution_count": 1,
     "metadata": {},
     "output_type": "execute_result"
    }
   ],
   "source": [
    "# Remember that anything after a '#' symbol is a comment.\n",
    "# This cell creates an integer value, 7, and then does nothing with it.\n",
    "7"
   ]
  },
  {
   "cell_type": "code",
   "execution_count": 2,
   "metadata": {},
   "outputs": [],
   "source": [
    "# This cell assigns the integer value 7 to a variable k\n",
    "k = 7"
   ]
  },
  {
   "cell_type": "markdown",
   "metadata": {},
   "source": [
    "If you open the variable inspector, you will see that `k` was added to your environment, that it's holding an `int`, and its value is 7."
   ]
  },
  {
   "cell_type": "markdown",
   "metadata": {},
   "source": [
    "### Common error made by accountants: entering commas and dollar signs!!!"
   ]
  },
  {
   "cell_type": "markdown",
   "metadata": {},
   "source": [
    "Let's face it. We're accounting nerds. And when we work with large numbers, we like to use commas, right? Have you ever seen a financial statement that showed something like this:\n",
    "\n",
    "Revenue (in millions): 13962\n",
    "\n",
    "We hope not because that is poorly formatted. No, as good accountants, we would write:\n",
    "\n",
    "Revenue (in millions): \\$13,962\n",
    "\n",
    "*Do __not__ use dollar signs and commas to create numbers in Python!* It will result in errors."
   ]
  },
  {
   "cell_type": "code",
   "execution_count": 3,
   "metadata": {},
   "outputs": [
    {
     "name": "stdout",
     "output_type": "stream",
     "text": [
      "(13, 962)\n"
     ]
    }
   ],
   "source": [
    "# Example of an error created by using commas\n",
    "revenue = 13,962\n",
    "print(revenue)"
   ]
  },
  {
   "cell_type": "markdown",
   "metadata": {},
   "source": [
    "When you run the above cell, you will not see an error. The problem is much more insidious. You just created a \"tuple\", or collection of data. Python created a variable, `revenue`, that is a collection of two numbers, 13 and 962! That's probably not what you wanted."
   ]
  },
  {
   "cell_type": "code",
   "execution_count": 4,
   "metadata": {},
   "outputs": [
    {
     "ename": "SyntaxError",
     "evalue": "invalid syntax (3005348970.py, line 2)",
     "output_type": "error",
     "traceback": [
      "\u001b[1;36m  Cell \u001b[1;32mIn[4], line 2\u001b[1;36m\u001b[0m\n\u001b[1;33m    revenue = $13962\u001b[0m\n\u001b[1;37m              ^\u001b[0m\n\u001b[1;31mSyntaxError\u001b[0m\u001b[1;31m:\u001b[0m invalid syntax\n"
     ]
    }
   ],
   "source": [
    "# Example of an error created by using a dollar sign\n",
    "revenue = $13962"
   ]
  },
  {
   "cell_type": "markdown",
   "metadata": {},
   "source": [
    "### Common error made by accountants: entering parentheses for negative numbers!!!"
   ]
  },
  {
   "cell_type": "markdown",
   "metadata": {},
   "source": [
    "Accountants write negative numbers using parentheses. _Do **not** use parentheses to enter negative numbers when programming!_ Simply enter a negative sign before the number. As you will see later, parentheses are used to group operations."
   ]
  },
  {
   "cell_type": "code",
   "execution_count": 5,
   "metadata": {},
   "outputs": [
    {
     "name": "stdout",
     "output_type": "stream",
     "text": [
      "109.27\n"
     ]
    }
   ],
   "source": [
    "# This will NOT create a negative number.\n",
    "profit = (109.27)\n",
    "print(profit)"
   ]
  },
  {
   "cell_type": "code",
   "execution_count": 6,
   "metadata": {},
   "outputs": [
    {
     "name": "stdout",
     "output_type": "stream",
     "text": [
      "I lost $(109.27)!\n"
     ]
    }
   ],
   "source": [
    "# Enter negative numbers this way:\n",
    "profit = -109.27\n",
    "\n",
    "# You can still print out numbers as accountants would.\n",
    "# This code uses Python's built-in absolute value function.\n",
    "# Don't worry if you do not understand this print statement. We will\n",
    "# cover it later.\n",
    "if (profit < 0):\n",
    "    print(f'I lost $({abs(profit)})!')"
   ]
  },
  {
   "cell_type": "markdown",
   "metadata": {},
   "source": [
    "## Floating Point Numbers (`float` data type)"
   ]
  },
  {
   "cell_type": "markdown",
   "metadata": {},
   "source": [
    "A float is a number that can contain a fractional amount, such as 5.7. To create a float, enter a number with a decimal. The following code creates three variables, each holding a floating point number."
   ]
  },
  {
   "cell_type": "code",
   "execution_count": 7,
   "metadata": {},
   "outputs": [],
   "source": [
    "myFloat1 = -5.7\n",
    "myFloat2 = 5.0\n",
    "myFloat3 = 5."
   ]
  },
  {
   "cell_type": "markdown",
   "metadata": {},
   "source": [
    "If you run the code above and open the variable inspector, you will see that `myFloat1`, `myFloat2`, and `myFloat3` were added to your environment. All three are holding a `float`, and their values are -5.7, 5.0, and 5.0, respectively.\n",
    "\n",
    "Notice that we can force Python to treat 5 as a floating point number by adding a decimal or a .0 after the 5. Without the trailing decimal point, Python would store that 5 as an integer."
   ]
  },
  {
   "cell_type": "markdown",
   "metadata": {},
   "source": [
    "### Common error made by accountants: entering commas, dollar signs, and parentheses!!!"
   ]
  },
  {
   "cell_type": "markdown",
   "metadata": {},
   "source": [
    "See above. We repeat: *Do __not__ use commas, dollar signs, and parentheses to create numbers in Python!*"
   ]
  },
  {
   "cell_type": "markdown",
   "metadata": {},
   "source": [
    "## Strings (`str` data type)"
   ]
  },
  {
   "cell_type": "markdown",
   "metadata": {},
   "source": [
    "In Python, textual data is stored as a string (`str`). To create a new string, enter text inside quotes. You can use single quotes (') or double quotes (\"). For example:"
   ]
  },
  {
   "cell_type": "code",
   "execution_count": 8,
   "metadata": {},
   "outputs": [],
   "source": [
    "s1 = 'Welcome to ACCY 570!'\n",
    "s2 = \"157\""
   ]
  },
  {
   "cell_type": "markdown",
   "metadata": {},
   "source": [
    "You're probably wondering why you can use either single- or double-quotes. The reason is so that you can include quotes in your string!! For example, consider the following:"
   ]
  },
  {
   "cell_type": "code",
   "execution_count": 9,
   "metadata": {
    "scrolled": true
   },
   "outputs": [
    {
     "name": "stdout",
     "output_type": "stream",
     "text": [
      "Professor Mendoza said, \"Burger King is my favorite restaurant.\"\n"
     ]
    }
   ],
   "source": [
    "myString = 'Professor Mendoza said, \"Burger King is my favorite restaurant.\"'\n",
    "print(myString)"
   ]
  },
  {
   "cell_type": "markdown",
   "metadata": {},
   "source": [
    "By using single-quotes to enclose the string value, we are able to include double-quotes in the string. We could instead use double-quotes to delineate the string and include single quotes inside the string. For example:"
   ]
  },
  {
   "cell_type": "code",
   "execution_count": 10,
   "metadata": {},
   "outputs": [
    {
     "name": "stdout",
     "output_type": "stream",
     "text": [
      "Professor Herbold said, 'Burger King is good, but Wendy's is better.'\n"
     ]
    }
   ],
   "source": [
    "myString = \"Professor Herbold said, 'Burger King is good, but Wendy's is better.'\"\n",
    "print(myString)"
   ]
  },
  {
   "cell_type": "markdown",
   "metadata": {},
   "source": [
    "When Python sees a single quote, it looks for the next single quote. Everything in between the two single quotes is treated as a string. The same rule applies for double quotes.\n",
    "\n",
    "Is it possible to include a single quote inside a single-quoted string? Is it possible to include a double quote inside a double-quoted string? Yes. You can do that with the backslash character ( \\\\ ). When Python sees a backslash character, it treats the next character as a literal, meaning it does not assign a special meaning to it. Here are some examples:"
   ]
  },
  {
   "cell_type": "code",
   "execution_count": 11,
   "metadata": {},
   "outputs": [
    {
     "name": "stdout",
     "output_type": "stream",
     "text": [
      "Professor Mendoza likes McDonald's.\n",
      "Professor Herbold said, \"I also like McDonald's, especially the Big Mac\".\n"
     ]
    }
   ],
   "source": [
    "myString = 'Professor Mendoza likes McDonald\\'s.'\n",
    "print(myString)\n",
    "\n",
    "myString = \"Professor Herbold said, \\\"I also like McDonald's, especially the Big Mac\\\".\"\n",
    "print(myString)"
   ]
  },
  {
   "cell_type": "markdown",
   "metadata": {},
   "source": [
    "### Empty strings"
   ]
  },
  {
   "cell_type": "markdown",
   "metadata": {},
   "source": [
    "Python allows you to represent an \"empty string\". This is a string with zero characters. It is written as ''. Later, when you work with real data sets that contain text data, you will often see the empty string. It represents a missing or blank value.\n",
    "\n",
    "Example:\n",
    "```python\n",
    "myEmptyString = ''\n",
    "```"
   ]
  },
  {
   "cell_type": "markdown",
   "metadata": {},
   "source": [
    "## Booleans (`bool` data type)"
   ]
  },
  {
   "cell_type": "markdown",
   "metadata": {},
   "source": [
    "Boolean values are very simple and very important. A Boolean (`bool`) can only assume the values `True` or `False`. You can either type those in, or you can run some code that results in a Boolean. Here are two examples:"
   ]
  },
  {
   "cell_type": "code",
   "execution_count": 12,
   "metadata": {},
   "outputs": [],
   "source": [
    "myVar = True\n",
    "myVar2 = False"
   ]
  },
  {
   "cell_type": "markdown",
   "metadata": {},
   "source": [
    "The above code is really simple. It assigns the value `True` to `myVar` and the value `False` to `myVar2`. If you look in variable inspector, you will see that both of these variables have type `bool`."
   ]
  },
  {
   "cell_type": "code",
   "execution_count": 13,
   "metadata": {},
   "outputs": [
    {
     "name": "stdout",
     "output_type": "stream",
     "text": [
      "Is 5 greater than 3? True\n",
      "Is 9 less than 2? False\n"
     ]
    }
   ],
   "source": [
    "Is5GreaterThan3 = 5 > 3\n",
    "print(f'Is 5 greater than 3? {Is5GreaterThan3}')\n",
    "\n",
    "Is9LessThan2 = 9 < 2\n",
    "print(f'Is 9 less than 2? {Is9LessThan2}')"
   ]
  },
  {
   "cell_type": "markdown",
   "metadata": {},
   "source": [
    "The above code is more subtle. When Python sees the expression `5 > 3`, it evaluates that expression. Since 5 is greater than 3, the expression evaluates to `True`. Python therefore assigns the value `True` to the variable `Is5GreaterThan3`. Similar reasoning applies to the second example."
   ]
  },
  {
   "cell_type": "markdown",
   "metadata": {},
   "source": [
    "### Why Booleans are so important"
   ]
  },
  {
   "cell_type": "markdown",
   "metadata": {},
   "source": [
    "Boolean values are important because they are used in every conditional expression in Python! Whenever you write an `if` statement or `while` loop, you are using a Boolean value. For example, if you write:\n",
    "```python\n",
    "if (x > 3):\n",
    "    print('Something')\n",
    "else:\n",
    "    print('Something else')\n",
    "```\n",
    "Python checks whether x is greater than 3. If yes, then the value `True` is substituted for `x > 3`. If no, then the value `False` is substituted. In other words, _it converts the expression `(x > 3)` into a Boolean value_. In summary, _every_ condition given to an if or to a while is converted into a Boolean."
   ]
  },
  {
   "cell_type": "markdown",
   "metadata": {},
   "source": [
    "## Checking the type of a variable, value, or expression"
   ]
  },
  {
   "cell_type": "markdown",
   "metadata": {},
   "source": [
    "If you want to check the type of a variable, value, or expression, you can use the built-in function `type()`. This is best illustrated with examples."
   ]
  },
  {
   "cell_type": "code",
   "execution_count": 14,
   "metadata": {},
   "outputs": [
    {
     "data": {
      "text/plain": [
       "int"
      ]
     },
     "execution_count": 14,
     "metadata": {},
     "output_type": "execute_result"
    }
   ],
   "source": [
    "type(7)"
   ]
  },
  {
   "cell_type": "code",
   "execution_count": 15,
   "metadata": {},
   "outputs": [
    {
     "data": {
      "text/plain": [
       "float"
      ]
     },
     "execution_count": 15,
     "metadata": {},
     "output_type": "execute_result"
    }
   ],
   "source": [
    "type(7.2)"
   ]
  },
  {
   "cell_type": "code",
   "execution_count": 16,
   "metadata": {},
   "outputs": [
    {
     "data": {
      "text/plain": [
       "str"
      ]
     },
     "execution_count": 16,
     "metadata": {},
     "output_type": "execute_result"
    }
   ],
   "source": [
    "type('0.625')"
   ]
  },
  {
   "cell_type": "code",
   "execution_count": 17,
   "metadata": {},
   "outputs": [
    {
     "data": {
      "text/plain": [
       "bool"
      ]
     },
     "execution_count": 17,
     "metadata": {},
     "output_type": "execute_result"
    }
   ],
   "source": [
    "type(False)"
   ]
  },
  {
   "cell_type": "code",
   "execution_count": 18,
   "metadata": {},
   "outputs": [
    {
     "data": {
      "text/plain": [
       "str"
      ]
     },
     "execution_count": 18,
     "metadata": {},
     "output_type": "execute_result"
    }
   ],
   "source": [
    "y = 'Hello there.'\n",
    "type(y)"
   ]
  },
  {
   "cell_type": "code",
   "execution_count": 19,
   "metadata": {},
   "outputs": [
    {
     "data": {
      "text/plain": [
       "bool"
      ]
     },
     "execution_count": 19,
     "metadata": {},
     "output_type": "execute_result"
    }
   ],
   "source": [
    "x = 3.1415\n",
    "type(x > 2)"
   ]
  },
  {
   "cell_type": "markdown",
   "metadata": {},
   "source": [
    "## Converting between types"
   ]
  },
  {
   "cell_type": "markdown",
   "metadata": {},
   "source": [
    "It is sometimes possible to convert a value of one type to a value of another type. Python provides built-in functions for this, and they follow certain rules. The functions are:  \n",
    "\n",
    "| Function | Notes |\n",
    "|:--------:|:----- |\n",
    "|`int()` | Attempts to convert its argument to an integer. If its argument is a float, it will _truncate_ the fractional portion. |\n",
    "|`float()` | Attempts to convert its argument to a floating point number. |\n",
    "|`str()` | Attempts to convert its argument to a string. |\n",
    "|`bool()` | Attempts to convert its argument to a Boolean value. |\n",
    "\n",
    "Notice that the word 'attempts' is used in the table above. Often, Python is able to figure out what you want, but sometimes it cannot. The following examples will show you valid and invalid conversions. They will also show you some common errors."
   ]
  },
  {
   "cell_type": "markdown",
   "metadata": {},
   "source": [
    "### Converting to an integer"
   ]
  },
  {
   "cell_type": "code",
   "execution_count": 20,
   "metadata": {},
   "outputs": [
    {
     "data": {
      "text/plain": [
       "3"
      ]
     },
     "execution_count": 20,
     "metadata": {},
     "output_type": "execute_result"
    }
   ],
   "source": [
    "# Convert from float to int. The fractional portion will be discarded.\n",
    "int(3.7)"
   ]
  },
  {
   "cell_type": "code",
   "execution_count": 21,
   "metadata": {},
   "outputs": [
    {
     "data": {
      "text/plain": [
       "-928"
      ]
     },
     "execution_count": 21,
     "metadata": {},
     "output_type": "execute_result"
    }
   ],
   "source": [
    "# Convert from str to int. This works if the string contains an integer.\n",
    "int('-928')"
   ]
  },
  {
   "cell_type": "code",
   "execution_count": 22,
   "metadata": {},
   "outputs": [
    {
     "ename": "ValueError",
     "evalue": "invalid literal for int() with base 10: '928 pigs'",
     "output_type": "error",
     "traceback": [
      "\u001b[1;31m---------------------------------------------------------------------------\u001b[0m",
      "\u001b[1;31mValueError\u001b[0m                                Traceback (most recent call last)",
      "Cell \u001b[1;32mIn[22], line 2\u001b[0m\n\u001b[0;32m      1\u001b[0m \u001b[38;5;66;03m# Convert from str to int. This fails if the string contains anything other than an integer.\u001b[39;00m\n\u001b[1;32m----> 2\u001b[0m \u001b[38;5;28;43mint\u001b[39;49m\u001b[43m(\u001b[49m\u001b[38;5;124;43m'\u001b[39;49m\u001b[38;5;124;43m928 pigs\u001b[39;49m\u001b[38;5;124;43m'\u001b[39;49m\u001b[43m)\u001b[49m\n",
      "\u001b[1;31mValueError\u001b[0m: invalid literal for int() with base 10: '928 pigs'"
     ]
    }
   ],
   "source": [
    "# Convert from str to int. This fails if the string contains anything other than an integer.\n",
    "int('928 pigs')"
   ]
  },
  {
   "cell_type": "code",
   "execution_count": 23,
   "metadata": {},
   "outputs": [
    {
     "ename": "ValueError",
     "evalue": "invalid literal for int() with base 10: '928.3'",
     "output_type": "error",
     "traceback": [
      "\u001b[1;31m---------------------------------------------------------------------------\u001b[0m",
      "\u001b[1;31mValueError\u001b[0m                                Traceback (most recent call last)",
      "Cell \u001b[1;32mIn[23], line 2\u001b[0m\n\u001b[0;32m      1\u001b[0m \u001b[38;5;66;03m# Convert from str to int. This fails if the string contains anything other than an integer.\u001b[39;00m\n\u001b[1;32m----> 2\u001b[0m \u001b[38;5;28;43mint\u001b[39;49m\u001b[43m(\u001b[49m\u001b[38;5;124;43m'\u001b[39;49m\u001b[38;5;124;43m928.3\u001b[39;49m\u001b[38;5;124;43m'\u001b[39;49m\u001b[43m)\u001b[49m\n",
      "\u001b[1;31mValueError\u001b[0m: invalid literal for int() with base 10: '928.3'"
     ]
    }
   ],
   "source": [
    "# Convert from str to int. This fails if the string contains anything other than an integer.\n",
    "int('928.3')"
   ]
  },
  {
   "cell_type": "code",
   "execution_count": 24,
   "metadata": {},
   "outputs": [
    {
     "data": {
      "text/plain": [
       "1"
      ]
     },
     "execution_count": 24,
     "metadata": {},
     "output_type": "execute_result"
    }
   ],
   "source": [
    "# Convert from bool to int. This will always work. True --> 1 and False --> 0\n",
    "int(True)"
   ]
  },
  {
   "cell_type": "code",
   "execution_count": 25,
   "metadata": {},
   "outputs": [
    {
     "data": {
      "text/plain": [
       "0"
      ]
     },
     "execution_count": 25,
     "metadata": {},
     "output_type": "execute_result"
    }
   ],
   "source": [
    "# Convert from bool to int. This will always work. True --> 1 and False --> 0\n",
    "int(False)"
   ]
  },
  {
   "cell_type": "markdown",
   "metadata": {},
   "source": [
    "### Converting to a float"
   ]
  },
  {
   "cell_type": "markdown",
   "metadata": {},
   "source": [
    "Converting to float are similar to converting to integers, you just use to `float()` function"
   ]
  },
  {
   "cell_type": "markdown",
   "metadata": {},
   "source": [
    "### Converting to a string"
   ]
  },
  {
   "cell_type": "markdown",
   "metadata": {},
   "source": [
    "This will always work with ints, floats, and bools. Later, when we learn about more complex types, the behavior of the `str()` function will be more complicated."
   ]
  },
  {
   "cell_type": "code",
   "execution_count": 26,
   "metadata": {},
   "outputs": [
    {
     "data": {
      "text/plain": [
       "'17'"
      ]
     },
     "execution_count": 26,
     "metadata": {},
     "output_type": "execute_result"
    }
   ],
   "source": [
    "# Convert from int to str\n",
    "str(17)"
   ]
  },
  {
   "cell_type": "code",
   "execution_count": 27,
   "metadata": {},
   "outputs": [
    {
     "data": {
      "text/plain": [
       "'17.8'"
      ]
     },
     "execution_count": 27,
     "metadata": {},
     "output_type": "execute_result"
    }
   ],
   "source": [
    "# Convert from float to str\n",
    "str(17.8)"
   ]
  },
  {
   "cell_type": "code",
   "execution_count": 28,
   "metadata": {},
   "outputs": [
    {
     "data": {
      "text/plain": [
       "'False'"
      ]
     },
     "execution_count": 28,
     "metadata": {},
     "output_type": "execute_result"
    }
   ],
   "source": [
    "# Convert from bool to str\n",
    "str(False)"
   ]
  },
  {
   "cell_type": "markdown",
   "metadata": {},
   "source": [
    "### Converting to a Boolean"
   ]
  },
  {
   "cell_type": "markdown",
   "metadata": {},
   "source": [
    "The general rule is that a numeric value of 0 (or 0.0) is converted to `False`. Any other numeric value is converted to `True`."
   ]
  },
  {
   "cell_type": "code",
   "execution_count": 29,
   "metadata": {},
   "outputs": [
    {
     "data": {
      "text/plain": [
       "True"
      ]
     },
     "execution_count": 29,
     "metadata": {},
     "output_type": "execute_result"
    }
   ],
   "source": [
    "bool(-2.718)"
   ]
  },
  {
   "cell_type": "code",
   "execution_count": 30,
   "metadata": {
    "scrolled": true
   },
   "outputs": [
    {
     "data": {
      "text/plain": [
       "False"
      ]
     },
     "execution_count": 30,
     "metadata": {},
     "output_type": "execute_result"
    }
   ],
   "source": [
    "bool(0)"
   ]
  },
  {
   "cell_type": "markdown",
   "metadata": {},
   "source": [
    "The rule is that an empty string is converted to `False`, and _any other string is converted to `True`._"
   ]
  },
  {
   "cell_type": "code",
   "execution_count": 31,
   "metadata": {},
   "outputs": [
    {
     "data": {
      "text/plain": [
       "False"
      ]
     },
     "execution_count": 31,
     "metadata": {},
     "output_type": "execute_result"
    }
   ],
   "source": [
    "bool('')"
   ]
  },
  {
   "cell_type": "code",
   "execution_count": 32,
   "metadata": {},
   "outputs": [
    {
     "data": {
      "text/plain": [
       "True"
      ]
     },
     "execution_count": 32,
     "metadata": {},
     "output_type": "execute_result"
    }
   ],
   "source": [
    "bool('False')"
   ]
  },
  {
   "cell_type": "code",
   "execution_count": 33,
   "metadata": {},
   "outputs": [
    {
     "data": {
      "text/plain": [
       "True"
      ]
     },
     "execution_count": 33,
     "metadata": {},
     "output_type": "execute_result"
    }
   ],
   "source": [
    "bool('The cow is white.')"
   ]
  }
 ],
 "metadata": {
  "kernelspec": {
   "display_name": "Python 3 (ipykernel)",
   "language": "python",
   "name": "python3"
  },
  "language_info": {
   "codemirror_mode": {
    "name": "ipython",
    "version": 3
   },
   "file_extension": ".py",
   "mimetype": "text/x-python",
   "name": "python",
   "nbconvert_exporter": "python",
   "pygments_lexer": "ipython3",
   "version": "3.11.9"
  }
 },
 "nbformat": 4,
 "nbformat_minor": 4
}
