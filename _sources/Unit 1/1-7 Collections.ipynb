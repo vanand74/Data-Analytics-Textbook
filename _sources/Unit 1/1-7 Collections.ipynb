{
 "cells": [
  {
   "cell_type": "markdown",
   "metadata": {},
   "source": [
    "# Collections: Lists, Dictionaries, and Tuples"
   ]
  },
  {
   "cell_type": "markdown",
   "metadata": {},
   "source": [
    "## Learning Objectives"
   ]
  },
  {
   "cell_type": "markdown",
   "metadata": {},
   "source": [
    "<div style=\"border: 1px solid black; padding: 10px; background-color: #EDEDED;\">\n",
    "    <b>Lists</b>\n",
    "    <ul>\n",
    "        <li>Create a list, which may be empty or nonempty.</li>\n",
    "        <li>Given a list on paper, identify the index of every element.</li>\n",
    "        <li>Write code that retrieves a single element from a list.</li>\n",
    "        <li>Write code that retrieves a single element from the end of a list.</li>\n",
    "        <li>Write code that retrieves multiple consecutive elements from a list (slicing).</li>\n",
    "        <li>Write code that retrieves multiple evenly-spaced elements from a list.</li>\n",
    "        <li>Modify the value of a list element.</li>\n",
    "        <li>Write code that joins two lists using the + operator.</li>\n",
    "        <li>Write code that duplicates a list using the * operator.</li>\n",
    "        <li>Explain the concept of shallow and deep copies of a list, and predict the output of code that relies on these concepts.</li>\n",
    "        <li>Make a deep copy of a list using list's copy method.</li>\n",
    "        <li>Compute the length of a list using the <i>len</i> function.</li>\n",
    "        <li>Write code to append, insert, or remove list elements.</li>\n",
    "        <li>Use list's reverse method to reverse a list.</li>\n",
    "    </ul>\n",
    "    <b>Dictionaries</b>\n",
    "    <ul>\n",
    "        <li>Explain the difference between a list and a dictionary, and explain when dictionaries are more appropriate than lists.</li>\n",
    "        <li>Write code to create a dictionary.</li>\n",
    "        <li>Write code to retrieve a value from a dictionary, given its key.</li>\n",
    "        <li>Write code to add a key-value pair to a dictionary.</li>\n",
    "        <li>Identify code that will fail because it attempts to create a duplicate key in a dictionary.</li>\n",
    "        <li>Write code that modifies the value stored for a given dictionary key.</li>\n",
    "    </ul>\n",
    "    <b>Tuples</b>\n",
    "    <ul>\n",
    "        <li>Explain the difference between a tuple and a list.</li>\n",
    "        <li>Write simple code to create a tuple.</li>\n",
    "    </ul>\n",
    "</div>"
   ]
  },
  {
   "cell_type": "markdown",
   "metadata": {},
   "source": [
    "## Overview of Collections"
   ]
  },
  {
   "cell_type": "markdown",
   "metadata": {},
   "source": [
    "Earlier in this unit we introduced variables and data types. So far, we have only showed you how to store single values in variables. When working with data analytics, you will typically work with multiple pieces of data. In this section, we will teach you about how to work with multiple pieces of data.\n",
    "\n",
    "Python provides many ways of storing collections of data. In this section, we will introduce you to three data structures for storing data collections: lists, dictionaries, and tuples. In this course, you will use lists and dictionaries very often so time you invest in learning them now will result in time savings and lower frustration later. Later in the course, we will introduce you to another data structure for storing collections of data, the Pandas data frame. Many of the ideas you learn now will apply to data frames. Also, much of the syntax for lists and dictionaries will apply to Pandas data frames, so again, _we urge you to become proficient with lists and dictionaries!_"
   ]
  },
  {
   "cell_type": "markdown",
   "metadata": {},
   "source": [
    "## Lists"
   ]
  },
  {
   "cell_type": "markdown",
   "metadata": {},
   "source": [
    "In programming, a list is a collection of objects. Typically, you will create a list when you want to store a set of related data items. Once you create the list, you can retrieve list elements, modify them, or delete them. It is usually more efficient to work with a list than to create a separate variable for each piece of data.\n",
    "\n",
    "Assume you want to store the names of the employees in your organization. You could do something like this:\n",
    "```python\n",
    "employee0 = 'Kim Mendoza'\n",
    "employee1 = 'Vic Anand'\n",
    "employee2 = 'Josh Herbold'\n",
    "```\n",
    "You could do something like that, but we wouldn't recommend it! It's inefficient, it would be extremely difficult to deal with situations where the number of employees changes, and you might need to create hundreds or thousands of variables every time you want to work with your data. Lists make this process much more efficient."
   ]
  },
  {
   "cell_type": "markdown",
   "metadata": {},
   "source": [
    "### Creating a List"
   ]
  },
  {
   "cell_type": "markdown",
   "metadata": {},
   "source": [
    "Create a list by enclosing your data inside square brackets. Separate each data item with a comma. You may add spaces between commas if you like.\n",
    "\n",
    "Let's recreate our previous example using a list:"
   ]
  },
  {
   "cell_type": "code",
   "execution_count": 1,
   "metadata": {},
   "outputs": [],
   "source": [
    "employees = ['Kim Mendoza', 'Vic Anand', 'Josh Herbold']"
   ]
  },
  {
   "cell_type": "markdown",
   "metadata": {},
   "source": [
    "This code created a new variable called `employees`. The type of this variable is _list_."
   ]
  },
  {
   "cell_type": "code",
   "execution_count": 2,
   "metadata": {},
   "outputs": [
    {
     "data": {
      "text/plain": [
       "list"
      ]
     },
     "execution_count": 2,
     "metadata": {},
     "output_type": "execute_result"
    }
   ],
   "source": [
    "type(employees)"
   ]
  },
  {
   "cell_type": "markdown",
   "metadata": {},
   "source": [
    "The list contains three items, all of which are text strings. You can print a list using the `print` function, just like you print any other variable."
   ]
  },
  {
   "cell_type": "code",
   "execution_count": 3,
   "metadata": {},
   "outputs": [
    {
     "name": "stdout",
     "output_type": "stream",
     "text": [
      "['Kim Mendoza', 'Vic Anand', 'Josh Herbold']\n"
     ]
    }
   ],
   "source": [
    "print(employees)"
   ]
  },
  {
   "cell_type": "markdown",
   "metadata": {},
   "source": [
    "In Python, lists can hold elements of different types. For example, say I want to store multiple pieces of information about one employee. I could do that in one list. For example, say I want to store an employee's name, employee ID, birthday, and home address. I could type something like the following:\n",
    "```python\n",
    "employee_info = ['Kim Mendoza', 4573837, '1/1/1998', '616 E. Green St., Champaign, IL 61820']\n",
    "```\n",
    "This is useful as it allows me to store all information about a person in one location, but has many disadvantages. I have to remember the index of each piece of information. I have to assume that data is always entered in the same order; if it isn't, errors are introduced into my work. And so on. Fortunately, there are better ways to store such data and we will show you one of those ways, dictionaries, later in this document."
   ]
  },
  {
   "cell_type": "markdown",
   "metadata": {},
   "source": [
    "It is also possible to store lists inside lists (_nested lists_). To do that, simply create a list inside a list. For example, I could store a matrix as follows:\n",
    "```python\n",
    "identity_matrix_3 = [[1,0,0], [0,1,0], [0,0,1]]\n",
    "```\n",
    "You can think of a matrix as a list of rows. Each row is stored as a list, so the matrix is stored as a list of lists."
   ]
  },
  {
   "cell_type": "markdown",
   "metadata": {},
   "source": [
    "### Retrieving List Elements"
   ]
  },
  {
   "cell_type": "markdown",
   "metadata": {},
   "source": [
    "#### How List Elements are Numbered"
   ]
  },
  {
   "cell_type": "markdown",
   "metadata": {},
   "source": [
    "In Python, each list element is assigned an index. **List indexes begin at 0 and end at n-1, where n is the number of elements in the list.** Remember that! It is a common source of bugs and errors for students new to programming.\n",
    "\n",
    "Consider the code above where we created a list of employees:\n",
    "```python\n",
    "employees = ['Kim Mendoza', 'Vic Anand', 'Josh Herbold']\n",
    "```\n",
    "Here's a table showing you each list element and its index:  \n",
    "\n",
    "| Index | 0 | 1 | 2 |\n",
    "|:---:|:---:|:---:|:---:|\n",
    "| **List Element** | 'Kim Mendoza' | 'Vic Anand' | 'Josh Herbold'|\n",
    "\n",
    "Note that the index of the first element is 0 and, since the list has 3 elements, the index of the last element is 2."
   ]
  },
  {
   "cell_type": "markdown",
   "metadata": {},
   "source": [
    "#### Retrieving a Single List Element"
   ]
  },
  {
   "cell_type": "markdown",
   "metadata": {},
   "source": [
    "To access a single element of a list, type the name of the list and then enter the list index in square brackets. Here are some examples:"
   ]
  },
  {
   "cell_type": "code",
   "execution_count": 4,
   "metadata": {},
   "outputs": [],
   "source": [
    "employees = ['Kim Mendoza', 'Vic Anand', 'Josh Herbold']"
   ]
  },
  {
   "cell_type": "code",
   "execution_count": 5,
   "metadata": {},
   "outputs": [
    {
     "data": {
      "text/plain": [
       "'Kim Mendoza'"
      ]
     },
     "execution_count": 5,
     "metadata": {},
     "output_type": "execute_result"
    }
   ],
   "source": [
    "employees[0]"
   ]
  },
  {
   "cell_type": "code",
   "execution_count": 6,
   "metadata": {},
   "outputs": [
    {
     "data": {
      "text/plain": [
       "'Vic Anand'"
      ]
     },
     "execution_count": 6,
     "metadata": {},
     "output_type": "execute_result"
    }
   ],
   "source": [
    "employees[1]"
   ]
  },
  {
   "cell_type": "code",
   "execution_count": 7,
   "metadata": {},
   "outputs": [
    {
     "data": {
      "text/plain": [
       "'Josh Herbold'"
      ]
     },
     "execution_count": 7,
     "metadata": {},
     "output_type": "execute_result"
    }
   ],
   "source": [
    "employees[2]"
   ]
  },
  {
   "cell_type": "markdown",
   "metadata": {},
   "source": [
    "Let's repeat the matrix example from earlier. We'll recreate the matrix and show you how to print it. In the process, we will use what we just learned about retrieving list elements."
   ]
  },
  {
   "cell_type": "code",
   "execution_count": 8,
   "metadata": {},
   "outputs": [
    {
     "name": "stdout",
     "output_type": "stream",
     "text": [
      "1 0 0 \n",
      "0 1 0 \n",
      "0 0 1 \n"
     ]
    }
   ],
   "source": [
    "identity_matrix_3 = [[1,0,0], [0,1,0], [0,0,1]]\n",
    "\n",
    "# Print the matrix\n",
    "for i in range(3):\n",
    "    for j in range(3):\n",
    "        print(f'{identity_matrix_3[i][j]} ', end='')\n",
    "    print()"
   ]
  },
  {
   "cell_type": "markdown",
   "metadata": {},
   "source": [
    "We want to ensure you understand one thing before we lay this example to rest. Let's look at the expression `identity_matrix_3[i][j]`. Let's assume the current value of `i` is 1 and the current value of `j` is 0. When Python sees that expression, it resolves it as follows:\n",
    "```python\n",
    "identity_matrix_3[i][j]\n",
    "\n",
    "# Substitute the values of i and j into the expression\n",
    "identity_matrix_3[1][0] \n",
    "\n",
    "# Python resolves identity_matrix_3[1]. This gives the second element of\n",
    "# identity_matrix_3, which is [0,1,0]\n",
    "[0,1,0][0] \n",
    "\n",
    "# Python resolves [0,1,0][0]. This gives the first element of the list\n",
    "# [0,1,0], which is zero.\n",
    "0\n",
    "```\n",
    "\n",
    "Please ensure you understand these steps. If anything is unclear, ask one of the teaching staff!"
   ]
  },
  {
   "cell_type": "markdown",
   "metadata": {},
   "source": [
    "#### Common error: Index out of range"
   ]
  },
  {
   "cell_type": "markdown",
   "metadata": {},
   "source": [
    "Remember we said that list indices range from 0 to n-1, where n is the number of elements in the list? A common error is to forget that and enter an index that is too large. Many people think, \"_My list has 3 elements and I want the third element, so I'll type the following..._\""
   ]
  },
  {
   "cell_type": "code",
   "execution_count": 9,
   "metadata": {},
   "outputs": [
    {
     "ename": "IndexError",
     "evalue": "list index out of range",
     "output_type": "error",
     "traceback": [
      "\u001b[1;31m---------------------------------------------------------------------------\u001b[0m",
      "\u001b[1;31mIndexError\u001b[0m                                Traceback (most recent call last)",
      "Cell \u001b[1;32mIn[9], line 1\u001b[0m\n\u001b[1;32m----> 1\u001b[0m \u001b[43memployees\u001b[49m\u001b[43m[\u001b[49m\u001b[38;5;241;43m3\u001b[39;49m\u001b[43m]\u001b[49m\n",
      "\u001b[1;31mIndexError\u001b[0m: list index out of range"
     ]
    }
   ],
   "source": [
    "employees[3]"
   ]
  },
  {
   "cell_type": "markdown",
   "metadata": {},
   "source": [
    "Notice that Python tells you that \"list index out of range\"."
   ]
  },
  {
   "cell_type": "markdown",
   "metadata": {},
   "source": [
    "#### (optional) Why do indexes begin at zero?"
   ]
  },
  {
   "cell_type": "markdown",
   "metadata": {},
   "source": [
    "If you like nerdy stuff and you're wondering why list indices begin at 0, read the following. If you don't care, skip this paragraph. :) In early programming languages, like C, programmers had to manage the computer's memory. To write C code, you had to think like a computer. The name of a list is the memory address (called a \"pointer\") of the first element. The index is an \"offset\". It tells C to start at the memory address of the first element and move forward. Thus, in C, `employees[2]` tells the computer to locate the memory address of the first element of employees and go forward by 2 elements. That gives the memory address of the third element. If you want the first element, `employees[0]` tells the computer to locate the memory address of the first element and go forward by 0 elements.\n",
    "\n",
    "Modern languages like Python use what are called \"zero-based\" indexes to be consistent with older languages. Old programmers like us faculty are used to this, but it sometimes takes students awhile to get used to this."
   ]
  },
  {
   "cell_type": "markdown",
   "metadata": {},
   "source": [
    "#### Retrieving a Single List Element From the End of the List"
   ]
  },
  {
   "cell_type": "markdown",
   "metadata": {},
   "source": [
    "Python makes it easy to retrieve elements from the end of a list. The list index `-1` refers to the last element of the list. `-2` is the second-to-last element, and so on. Here is an example:"
   ]
  },
  {
   "cell_type": "code",
   "execution_count": 10,
   "metadata": {},
   "outputs": [
    {
     "name": "stdout",
     "output_type": "stream",
     "text": [
      "The last element of the list is: Fourth\n",
      "The second-to-last element is: 3\n"
     ]
    }
   ],
   "source": [
    "myList = ['First', 'Second', 3, 'Fourth']\n",
    "\n",
    "print(f'The last element of the list is: {myList[-1]}')\n",
    "print(f'The second-to-last element is: {myList[-2]}')"
   ]
  },
  {
   "cell_type": "markdown",
   "metadata": {},
   "source": [
    "### Retrieving Multiple List Elements (Slicing)"
   ]
  },
  {
   "cell_type": "markdown",
   "metadata": {},
   "source": [
    "Sometimes, you may wish to retrieve more than one element of a list. Python makes it very easy to do so. The process of retrieving multiple list elements is called _slicing_ a list (because it's like taking a slice). In our opinion, list slicing is one of the coolest and most useful features of Python."
   ]
  },
  {
   "cell_type": "markdown",
   "metadata": {},
   "source": [
    "#### Retrieving Multiple Adjacent List Elements"
   ]
  },
  {
   "cell_type": "markdown",
   "metadata": {},
   "source": [
    "Python allows you to retrieve more than one element from a list. You can think of this as retrieving a subset of your list. When you ask Python for multiple elements, it will return them as a list.\n",
    "\n",
    "Let's begin with an example:"
   ]
  },
  {
   "cell_type": "code",
   "execution_count": 11,
   "metadata": {},
   "outputs": [
    {
     "data": {
      "text/plain": [
       "[0, 1, 2, 3]"
      ]
     },
     "execution_count": 11,
     "metadata": {},
     "output_type": "execute_result"
    }
   ],
   "source": [
    "mylist = [0,1,2,3,4,5,6,7,8,9]\n",
    "\n",
    "mylist[0:4]"
   ]
  },
  {
   "cell_type": "markdown",
   "metadata": {},
   "source": [
    "We retrieved the first four elements of the list by typing `0:4` in square brackets after the list's name. Python interprets this as follows: \n",
    "\n",
    "> Start at element with index 0 and retrieve all elements with indexes 0, 1, 2, and 3. In other words, 4 is the \"exclusive upper bound\". Python will get all elements with indices from 0 up to, _but not including_ 4.\n",
    "\n",
    "In general, a slice has the form `a:b`. If `b` is less than or equal to `a`, Python will return an empty list since there are no indexes in the range. Here's an example:"
   ]
  },
  {
   "cell_type": "code",
   "execution_count": 12,
   "metadata": {},
   "outputs": [
    {
     "data": {
      "text/plain": [
       "[]"
      ]
     },
     "execution_count": 12,
     "metadata": {},
     "output_type": "execute_result"
    }
   ],
   "source": [
    "mylist = [0,1,2,3,4,5,6,7,8,9]\n",
    "\n",
    "mylist[5:4]"
   ]
  },
  {
   "cell_type": "markdown",
   "metadata": {},
   "source": [
    "In the above example, we told Python to start at element 5 and retrieve all elements up to element 3. Since 3 < 5, Python returns an empty list."
   ]
  },
  {
   "cell_type": "markdown",
   "metadata": {},
   "source": [
    "There are some shortcuts you might find useful:\n",
    "\n",
    "This says, \"start at element with index 5 and retrieve all the remaining elements in the list.\""
   ]
  },
  {
   "cell_type": "code",
   "execution_count": 13,
   "metadata": {},
   "outputs": [
    {
     "data": {
      "text/plain": [
       "[5, 6, 7, 8, 9]"
      ]
     },
     "execution_count": 13,
     "metadata": {},
     "output_type": "execute_result"
    }
   ],
   "source": [
    "mylist = [0,1,2,3,4,5,6,7,8,9]\n",
    "mylist[5:]"
   ]
  },
  {
   "cell_type": "markdown",
   "metadata": {},
   "source": [
    "This says, \"start at the beginning of the list and retrieve all elements through element with index 6.\""
   ]
  },
  {
   "cell_type": "code",
   "execution_count": 14,
   "metadata": {},
   "outputs": [
    {
     "data": {
      "text/plain": [
       "[0, 1, 2, 3, 4, 5, 6]"
      ]
     },
     "execution_count": 14,
     "metadata": {},
     "output_type": "execute_result"
    }
   ],
   "source": [
    "mylist = [0,1,2,3,4,5,6,7,8,9]\n",
    "mylist[:7]"
   ]
  },
  {
   "cell_type": "markdown",
   "metadata": {},
   "source": [
    "#### Retrieving Multiple List Elements Spaced Evenly"
   ]
  },
  {
   "cell_type": "markdown",
   "metadata": {},
   "source": [
    "When slicing, you can give Python a third parameter which specifies a \"step\" to use. By default, Python uses a step size of 1. However, say you want every other element. You could use a step of 2. Here's how you would do that.\n",
    "```python\n",
    "mylist = [0,1,2,3,4,5,6,7,8,9]\n",
    "mylist[0:10:2]\n",
    "```\n",
    "This would return: `[0,2,4,6,8]`. When Python sees `0:10:2`, it starts at element 0, adds 2 to the index and retrieves element 2. Then it adds 2 to the index and retrieves element 4. This continues as long as the index is less than 10. \n",
    "\n",
    "Say we wanted the first and sixth elements. We could type:\n",
    "```python\n",
    "mylist = [0,1,2,3,4,5,6,7,8,9]\n",
    "mylist[0::5]\n",
    "```\n",
    "This would return `[0,5]`. Python starts with the first element (index 0), adds 5 to get the element with index 5. It then adds 5 again; the resulting index is 10, which is not a valid index, so Python stops. Notice that we omitted the second parameter to tell Python to go to the end of the list. We could also have used `::5` as a slice to get the same thing."
   ]
  },
  {
   "cell_type": "markdown",
   "metadata": {},
   "source": [
    "### Modifying List Elements"
   ]
  },
  {
   "cell_type": "markdown",
   "metadata": {},
   "source": [
    "To modify a single element of a list, simply treat it as you would any other variable. Here's an example:"
   ]
  },
  {
   "cell_type": "code",
   "execution_count": 15,
   "metadata": {},
   "outputs": [
    {
     "data": {
      "text/plain": [
       "['a', 'sheep', 'c']"
      ]
     },
     "execution_count": 15,
     "metadata": {},
     "output_type": "execute_result"
    }
   ],
   "source": [
    "myList = ['a', 'b', 'c']\n",
    "myList[1] = 'sheep'\n",
    "myList"
   ]
  },
  {
   "cell_type": "markdown",
   "metadata": {},
   "source": [
    "To modify multiple elements at the same time, you need to tell Python which list slice you want to modify and give Python a list."
   ]
  },
  {
   "cell_type": "code",
   "execution_count": 16,
   "metadata": {},
   "outputs": [
    {
     "data": {
      "text/plain": [
       "['a', 'hello', 'c', 'world', 'e']"
      ]
     },
     "execution_count": 16,
     "metadata": {},
     "output_type": "execute_result"
    }
   ],
   "source": [
    "myList = ['a', 'b', 'c', 'd', 'e']\n",
    "myList[1:4:2] = ['hello', 'world']\n",
    "myList"
   ]
  },
  {
   "cell_type": "markdown",
   "metadata": {},
   "source": [
    "### Other List Operations"
   ]
  },
  {
   "cell_type": "markdown",
   "metadata": {},
   "source": [
    "Python provides _many_ useful functions for working with lists. In this section, we will show you a few that you are likely to use in this course. Keep in mind that there are many more."
   ]
  },
  {
   "cell_type": "markdown",
   "metadata": {},
   "source": [
    "#### Joining Two Lists (Concatenating)"
   ]
  },
  {
   "cell_type": "markdown",
   "metadata": {},
   "source": [
    "The word 'concatenate' is a fancy word for join. We are teaching you this word since there is an Excel function CONCAT that you may find useful. There is also a Pandas function with the same name.\n",
    "\n",
    "To join two lists together, use the + operator. It's that simple."
   ]
  },
  {
   "cell_type": "code",
   "execution_count": 17,
   "metadata": {},
   "outputs": [
    {
     "data": {
      "text/plain": [
       "['a', 'b', 'c', 1, 2, 3]"
      ]
     },
     "execution_count": 17,
     "metadata": {},
     "output_type": "execute_result"
    }
   ],
   "source": [
    "list1 = ['a', 'b', 'c']\n",
    "list2 = [1, 2, 3]\n",
    "\n",
    "list1 + list2"
   ]
  },
  {
   "cell_type": "markdown",
   "metadata": {},
   "source": [
    "#### Duplicating a List"
   ]
  },
  {
   "cell_type": "markdown",
   "metadata": {},
   "source": [
    "The multiplication operator makes copies of a list and concatenates them into a new list. Check this out:"
   ]
  },
  {
   "cell_type": "code",
   "execution_count": 18,
   "metadata": {},
   "outputs": [
    {
     "data": {
      "text/plain": [
       "['yo', 'dude', 'yo', 'dude', 'yo', 'dude', 'yo', 'dude', 'yo', 'dude']"
      ]
     },
     "execution_count": 18,
     "metadata": {},
     "output_type": "execute_result"
    }
   ],
   "source": [
    "mylist = ['yo', 'dude']\n",
    "mylist * 5"
   ]
  },
  {
   "cell_type": "markdown",
   "metadata": {},
   "source": [
    "#### Making a Copy of a List"
   ]
  },
  {
   "cell_type": "markdown",
   "metadata": {},
   "source": [
    "You can make a copy of a list using the `copy` function. Here's an example of why you might want to do this."
   ]
  },
  {
   "cell_type": "code",
   "execution_count": 19,
   "metadata": {},
   "outputs": [
    {
     "name": "stdout",
     "output_type": "stream",
     "text": [
      "list1 is ['cat', 2, 3]\n",
      "list2 is ['cat', 2, 3]\n"
     ]
    }
   ],
   "source": [
    "list1 = [1,2,3]\n",
    "list2 = list1\n",
    "\n",
    "list2[0] = 'cat'\n",
    "print(f'list1 is {list1}')\n",
    "print(f'list2 is {list2}')"
   ]
  },
  {
   "cell_type": "markdown",
   "metadata": {},
   "source": [
    "Confused yet? :) The statement `list2 = list1` did _not_ make a true copy of the original list. Instead, the variable `list2` \"points\" to the same list as the variable `list1`. Thus, when we modified `list2`, we also modified `list1`.\n",
    "\n",
    "If we want to make a \"deep\" copy of `list1` and store it as `list2`, we can use the list copy function as follows:"
   ]
  },
  {
   "cell_type": "code",
   "execution_count": 20,
   "metadata": {},
   "outputs": [
    {
     "name": "stdout",
     "output_type": "stream",
     "text": [
      "list1 is [1, 2, 3]\n",
      "list2 is ['cat', 2, 3]\n"
     ]
    }
   ],
   "source": [
    "list1 = [1,2,3]\n",
    "# Notice the change here. list1.copy() makes a deep copy of list1 and stores it as list2\n",
    "list2 = list1.copy()\n",
    "\n",
    "list2[0] = 'cat'\n",
    "print(f'list1 is {list1}')\n",
    "print(f'list2 is {list2}')"
   ]
  },
  {
   "cell_type": "markdown",
   "metadata": {},
   "source": [
    "Notice that we called `copy` function differently than other functions. Based on what we have taught you so far, you probably would have expected a line of code that looks like this:\n",
    "```python\n",
    "list2 = copy(list1)\n",
    "```\n",
    "\n",
    "Instead, we typed:\n",
    "```python\n",
    "list2 = list1.copy()\n",
    "```\n",
    "\n",
    "Why? Well, a list is an \"object\" in Python. In programming, objects are things that contain variables (called fields) and functions (called methods) inside them. In this case, `copy` is a method of the list object. Object methods are called differently than ordinary functions. \n",
    "\n",
    "We will teach you more about objects later in the course. For now, just remember that there are two ways to call a function."
   ]
  },
  {
   "cell_type": "markdown",
   "metadata": {},
   "source": [
    "#### Getting the length of a List"
   ]
  },
  {
   "cell_type": "markdown",
   "metadata": {},
   "source": [
    "Use the `len` function."
   ]
  },
  {
   "cell_type": "code",
   "execution_count": 21,
   "metadata": {},
   "outputs": [
    {
     "data": {
      "text/plain": [
       "3"
      ]
     },
     "execution_count": 21,
     "metadata": {},
     "output_type": "execute_result"
    }
   ],
   "source": [
    "mylist = [1,2,3]\n",
    "len(mylist)"
   ]
  },
  {
   "cell_type": "markdown",
   "metadata": {},
   "source": [
    "#### Checking whether a list contains an element"
   ]
  },
  {
   "cell_type": "markdown",
   "metadata": {},
   "source": [
    "The `in` and `not in` operators can be used to check whether a list contains or does not contain an element."
   ]
  },
  {
   "cell_type": "code",
   "execution_count": 22,
   "metadata": {},
   "outputs": [
    {
     "name": "stdout",
     "output_type": "stream",
     "text": [
      "Does mylist contain the number 2? True\n"
     ]
    }
   ],
   "source": [
    "mylist = [1,2,3]\n",
    "print(f'Does mylist contain the number 2? {2 in mylist}')"
   ]
  },
  {
   "cell_type": "markdown",
   "metadata": {},
   "source": [
    "#### Appending, Inserting, and Removing List Elements"
   ]
  },
  {
   "cell_type": "markdown",
   "metadata": {},
   "source": [
    "Append is a fancy word for \"add something to the end\". You will see this word a lot in programming and data analytics.\n",
    "\n",
    "To append a single element to a list, use the `append` method of a list object."
   ]
  },
  {
   "cell_type": "code",
   "execution_count": 23,
   "metadata": {},
   "outputs": [
    {
     "data": {
      "text/plain": [
       "[1, 2, 3, -99]"
      ]
     },
     "execution_count": 23,
     "metadata": {},
     "output_type": "execute_result"
    }
   ],
   "source": [
    "mylist = [1,2,3]\n",
    "mylist.append(-99)\n",
    "\n",
    "mylist"
   ]
  },
  {
   "cell_type": "markdown",
   "metadata": {},
   "source": [
    "You can also insert an element at a specific location in a list by using the `insert` function of a list object. Specifically, `l.insert(i, x)` inserts x at index i of list l.\n",
    "\n",
    "The following code inserts the word 'chicken' at index 3 of the list. It shifts the other list elements to the right."
   ]
  },
  {
   "cell_type": "code",
   "execution_count": 24,
   "metadata": {},
   "outputs": [
    {
     "data": {
      "text/plain": [
       "[0, 1, 2, 'chicken', 3, 4]"
      ]
     },
     "execution_count": 24,
     "metadata": {},
     "output_type": "execute_result"
    }
   ],
   "source": [
    "mylist = [0,1,2,3,4]\n",
    "mylist.insert(3, 'chicken')\n",
    "\n",
    "mylist"
   ]
  },
  {
   "cell_type": "markdown",
   "metadata": {},
   "source": [
    "Finally, you can remove an element from a list by using the `remove` function. Specifically, `remove(x)` removes the first instance of `x` from the list."
   ]
  },
  {
   "cell_type": "code",
   "execution_count": 25,
   "metadata": {},
   "outputs": [
    {
     "data": {
      "text/plain": [
       "['cat', 'dog', 'sheep', 'duck']"
      ]
     },
     "execution_count": 25,
     "metadata": {},
     "output_type": "execute_result"
    }
   ],
   "source": [
    "mylist = ['cat', 'dog', 'pig', 'sheep', 'duck']\n",
    "mylist.remove('pig')\n",
    "\n",
    "mylist"
   ]
  },
  {
   "cell_type": "markdown",
   "metadata": {},
   "source": [
    "#### Reversing a List"
   ]
  },
  {
   "cell_type": "markdown",
   "metadata": {},
   "source": [
    "Reverse a list by calling the `reverse` method of a list object."
   ]
  },
  {
   "cell_type": "code",
   "execution_count": 26,
   "metadata": {},
   "outputs": [
    {
     "data": {
      "text/plain": [
       "[5, 4, 3, 2, 1]"
      ]
     },
     "execution_count": 26,
     "metadata": {},
     "output_type": "execute_result"
    }
   ],
   "source": [
    "mylist = [1,2,3,4,5]\n",
    "mylist.reverse()\n",
    "\n",
    "mylist"
   ]
  },
  {
   "cell_type": "markdown",
   "metadata": {},
   "source": [
    "## Dictionaries"
   ]
  },
  {
   "cell_type": "markdown",
   "metadata": {},
   "source": [
    "### What is a Dictionary and Why Use One?"
   ]
  },
  {
   "cell_type": "markdown",
   "metadata": {},
   "source": [
    "When you think of a dictionary, you probably think of a big book of words and their meanings. \n",
    "\n",
    "Computer scientists have generalized the idea of a dictionary. A computer scientist will see a dictionary as a list of _key-value_ pairs. So if you have a book with words and their meanings (what we normally think of as a dictionary), the computer scientist would say that the words are the keys and the meanings are the values.\n",
    "\n",
    "In Python and other programming languages, dictionaries are very useful data structures since they allow you to assign data items (values) to keys of your choice. This makes it easier to store and retrieve your data.\n",
    "\n",
    "Let's say I want to store the following income statement in Python.  \n",
    "\n",
    "| Item | Amount |\n",
    "|:---  | ---:|\n",
    "| Revenue | 100 |\n",
    "| COGS | 52 |\n",
    "| Gross margin | 48 |\n",
    "| SG&A | 40 |\n",
    "| Net Income | 8 |\n",
    "\n",
    "I could do so using a list:\n",
    "```python\n",
    "[100, 52, 48, 40, 8]\n",
    "```\n",
    "But this is not recommended for many reasons. First, to retrieve a data item, you need to know its index in the list. Second, someone accidentally could insert or remove an item into this list, which would screw up the ordering and meanings of the values. Third, it is difficult to enforce relationships in the data (e.g. gross margin equals revenue minus COGS).\n",
    "\n",
    "A better way is to use a dictionary!"
   ]
  },
  {
   "cell_type": "markdown",
   "metadata": {},
   "source": [
    "### Creating a Dictionary"
   ]
  },
  {
   "cell_type": "markdown",
   "metadata": {},
   "source": [
    "To create a dictionary, use curly braces \\{ \\}. Within the curly braces, enter a key, followed by a colon, followed by the value. Separate each key-value pair with a comma.\n",
    "\n",
    "Following is a sample dictionary for our income statement above. "
   ]
  },
  {
   "cell_type": "code",
   "execution_count": 27,
   "metadata": {},
   "outputs": [],
   "source": [
    "income_stmt = {'Revenue': 100, 'COGS': 52, 'Gross margin': 48, 'SG&A': 40, 'Net Income': 8}"
   ]
  },
  {
   "cell_type": "markdown",
   "metadata": {},
   "source": [
    "You can put the items on separate lines to increase readability."
   ]
  },
  {
   "cell_type": "code",
   "execution_count": 28,
   "metadata": {},
   "outputs": [],
   "source": [
    "income_stmt = {'Revenue': 100, \n",
    "               'COGS': 52, \n",
    "               'Gross margin': 48, \n",
    "               'SG&A': 40, \n",
    "               'Net Income': 8}"
   ]
  },
  {
   "cell_type": "markdown",
   "metadata": {},
   "source": [
    "#### Note on Dictionary Keys"
   ]
  },
  {
   "cell_type": "markdown",
   "metadata": {},
   "source": [
    "* Keys _must be_ unique. That means you cannot repeat a key.\n",
    "* Keys can be numbers, strings, or tuples (we'll teach you about tuples in the next section)"
   ]
  },
  {
   "cell_type": "markdown",
   "metadata": {},
   "source": [
    "### Retrieving Data from a Dictionary"
   ]
  },
  {
   "cell_type": "markdown",
   "metadata": {},
   "source": [
    "To retrieve a value from a dictionary, you will use a syntax similar to that for lists. However, instead of using a numerical index, you will use the key!\n",
    "\n",
    "Continuing with the income statement example from above:"
   ]
  },
  {
   "cell_type": "code",
   "execution_count": 29,
   "metadata": {},
   "outputs": [
    {
     "data": {
      "text/plain": [
       "100"
      ]
     },
     "execution_count": 29,
     "metadata": {},
     "output_type": "execute_result"
    }
   ],
   "source": [
    "income_stmt['Revenue']"
   ]
  },
  {
   "cell_type": "markdown",
   "metadata": {},
   "source": [
    "#### Common Errors"
   ]
  },
  {
   "cell_type": "markdown",
   "metadata": {},
   "source": [
    "* You attempt to use a key that is not in the dictionary. You will get a KeyError.\n",
    "* If you use strings as keys, they are case-sensitive. A common error is to get the spelling or capitalization wrong and get a KeyError."
   ]
  },
  {
   "cell_type": "markdown",
   "metadata": {},
   "source": [
    "### Adding a Key-Value Pair to a Dictionary"
   ]
  },
  {
   "cell_type": "markdown",
   "metadata": {},
   "source": [
    "Python makes this really easy. Simply assign the value to the new key and Python will add the key and value to the dictionary.\n",
    "\n",
    "Let's add a fiscal year to our income statement dictionary:"
   ]
  },
  {
   "cell_type": "code",
   "execution_count": 30,
   "metadata": {},
   "outputs": [
    {
     "name": "stdout",
     "output_type": "stream",
     "text": [
      "{'Revenue': 100, 'COGS': 52, 'Gross margin': 48, 'SG&A': 40, 'Net Income': 8, 'Fiscal Year': 2018}\n"
     ]
    }
   ],
   "source": [
    "income_stmt['Fiscal Year'] = 2018\n",
    "\n",
    "print(income_stmt)"
   ]
  },
  {
   "cell_type": "markdown",
   "metadata": {},
   "source": [
    "### Modifying a Value in the Dictionary"
   ]
  },
  {
   "cell_type": "markdown",
   "metadata": {},
   "source": [
    "Simply set the new value using your key. Let's modify the fiscal year that we just added."
   ]
  },
  {
   "cell_type": "code",
   "execution_count": 31,
   "metadata": {},
   "outputs": [
    {
     "name": "stdout",
     "output_type": "stream",
     "text": [
      "{'Revenue': 100, 'COGS': 52, 'Gross margin': 48, 'SG&A': 40, 'Net Income': 8, 'Fiscal Year': 1998}\n"
     ]
    }
   ],
   "source": [
    "income_stmt['Fiscal Year'] = 1998\n",
    "\n",
    "print(income_stmt)"
   ]
  },
  {
   "cell_type": "markdown",
   "metadata": {},
   "source": [
    "#### Common Error"
   ]
  },
  {
   "cell_type": "markdown",
   "metadata": {},
   "source": [
    "Say you want to modify a value in your dictionary. If you misspell or mistype its key, Python will think you want to add a new key. It will add that misspelled key and its value to the dictionary."
   ]
  },
  {
   "cell_type": "markdown",
   "metadata": {},
   "source": [
    "### Other Dictionary Operations"
   ]
  },
  {
   "cell_type": "markdown",
   "metadata": {},
   "source": [
    "Python provides support for many built-in dictionary operations. You can get the length of the dictionary (number of key-value pairs); delete dictionary keys (and their values); clear all keys and values; copy the dictionary; retrieve only the keys; retrieve only the values; etc. \n",
    "\n",
    "We will not show you all of these here. If you are interested, check out [this webpage](https://www.tutorialspoint.com/python/python_dictionary.htm)."
   ]
  },
  {
   "cell_type": "markdown",
   "metadata": {},
   "source": [
    "## Tuples"
   ]
  },
  {
   "cell_type": "markdown",
   "metadata": {},
   "source": [
    "A tuple is like a list, but it cannot be changed after it is created. The syntax for tuples is nearly identical to that for lists. The main difference is that tuples use parentheses `( )` whereas lists use square brackets `[ ]`\n",
    "\n",
    "We want to make you aware of tuples because many Python functions require tuples as arguments. One plotting function allows you to specify the size of the figure you want to create; the argument, `figsize` must be a tuple containing the width and height. Some functions will return tuples. For example, the Pandas DataFrame is a table of data. Pandas will tell you the \"shape\" of a DataFrame: its shape method returns a tuple containing the number of rows and the number of columns. \n",
    "\n",
    "Again, we do not expect you to learn the details of tuples. We just want you to be aware of their existence.\n",
    "\n",
    "One quick example with tuples:"
   ]
  },
  {
   "cell_type": "code",
   "execution_count": 32,
   "metadata": {},
   "outputs": [
    {
     "name": "stdout",
     "output_type": "stream",
     "text": [
      "My figure will have a width of 500 and height of 300.\n"
     ]
    }
   ],
   "source": [
    "my_fig_size = (500, 300)\n",
    "\n",
    "print(f'My figure will have a width of {my_fig_size[0]} and height of {my_fig_size[1]}.')"
   ]
  }
 ],
 "metadata": {
  "kernelspec": {
   "display_name": "Python 3 (ipykernel)",
   "language": "python",
   "name": "python3"
  },
  "language_info": {
   "codemirror_mode": {
    "name": "ipython",
    "version": 3
   },
   "file_extension": ".py",
   "mimetype": "text/x-python",
   "name": "python",
   "nbconvert_exporter": "python",
   "pygments_lexer": "ipython3",
   "version": "3.11.9"
  }
 },
 "nbformat": 4,
 "nbformat_minor": 4
}
