{
 "cells": [
  {
   "cell_type": "markdown",
   "metadata": {},
   "source": [
    "# Functions"
   ]
  },
  {
   "cell_type": "markdown",
   "metadata": {},
   "source": [
    "## Learning Objectives"
   ]
  },
  {
   "cell_type": "markdown",
   "metadata": {},
   "source": [
    "<div style=\"border: 1px solid black; padding: 10px; background-color: #EDEDED;\">\n",
    "    <b>Overview of Functions</b>\n",
    "    <ul>\n",
    "        <li>Define a function (in programming) and explain why functions are useful.</li>\n",
    "        <li>Explain why a function can be thought of as a black box, and define the terms <i>argument</i> and <i>return value</i>.</li>\n",
    "    </ul>\n",
    "    <b>Writing Functions</b>\n",
    "    <ul>\n",
    "        <li>Given some input and output specifications, write a simple function that takes an arbitrary number of arguments.</li>\n",
    "        <li>Identify valid and invalid function names.</li>\n",
    "    </ul>\n",
    "    <b>Variable Scope and Functions</b>\n",
    "    <ul>\n",
    "        <li>Explain the concept of masking when it comes to variables inside functions.</li>\n",
    "        <li>Given sample code, identify the values of variables at different points in the code execution.</li>\n",
    "    </ul>\n",
    "    <b>Using Predefined Functions</b>\n",
    "    <ul>\n",
    "        <li>Write <i>import</i> statements, with and without aliases.</li>\n",
    "        <li>Write <i>from</i> statements to import specific functions from a module.</li>\n",
    "    </ul>\n",
    "    <b></b>\n",
    "    <ul>\n",
    "        <li>Define the terms <i>positional argument</i> and <i>keyword argument</i>.</li>\n",
    "        <li>Call an imported function using positional arguments.</li>\n",
    "        <li>Call an imported function using keyword arguments.</li>\n",
    "    </ul>\n",
    "    <b>Reading Function Documentation</b>\n",
    "    <ul>\n",
    "        <li>Read and interpret simple function signatures from the Python documentation.</li>\n",
    "        <li>Retrieve the help for a function inside a Jupyter notebook.</li>\n",
    "    </ul>\n",
    "</div>"
   ]
  },
  {
   "cell_type": "markdown",
   "metadata": {},
   "source": [
    "## Overview of Functions"
   ]
  },
  {
   "cell_type": "markdown",
   "metadata": {},
   "source": [
    "Functions are reusable blocks of code. \n",
    "\n",
    "Let's think about that statement for a minute. Why might you want a reusable block of code? Well, when doing data analytics, you will typically use your computer to perform the same task more than once. Your life will be much easier if you do not have to rewrite the same code again and again.\n",
    "\n",
    "Imagine auditing a list of a million transactions. One of your aims will be to find transactions that meet certain criteria. In the old days, this was done by hand and therefore auditors developed sampling procedures. Nowadays, computers can analyze all transactions very quickly and flag suspicious ones. How will you tell a computer to find transactions that meet your criteria? You will call a function! Without a function, you would have to write a `for` loop to iterate over all the transactions. Within each iteration, you would check your criteria and, if they are met, copy the transaction to a list of suspicious transactions. That's a lot of code to write and you are likely to make errors. A better way is to use pre-built functions for searching that have been thoroughly tested. Later in the course, we will show you the _Pandas_ library which has built-in functions for this purpose.\n",
    "\n",
    "Functions are one of the most important concepts in programming. In this section, you will learn how functions work and write your own simple functions. You will also learn to read function \"signatures\" so that you will better understand the documentation for pre-built functions. "
   ]
  },
  {
   "cell_type": "markdown",
   "metadata": {},
   "source": [
    "## Functions as Black Boxes"
   ]
  },
  {
   "cell_type": "markdown",
   "metadata": {},
   "source": [
    "![Function as a black box](imgs/Function_as_black_box.png \"Function as a black box\")"
   ]
  },
  {
   "cell_type": "markdown",
   "metadata": {},
   "source": [
    "A \"black box\" is a system that takes inputs, does something with them, and provides some output. You can think of mathematical functions and programming functions in this way. The inputs are called _arguments_ and the output is called the _return value_.\n",
    "\n",
    "When you use a function that someone else has written, you are treating it as a black box. You often will not know what is inside the black box and how it works. You will simply know what arguments to give your function and what output to expect. The documentation for a given function will usually describe the arguments, the return value, and the relationship between the return value and the arguments. The documentation will describe implementation details only when necessary.\n",
    "\n",
    "To understand why you often do not need to know what's inside the black box, let's consider a built-in Python function called `max`. If we go to the [official Python documentation for this function](https://docs.python.org/3/library/functions.html?highlight=max#max), we learn that the function takes two (or more) arguments and returns the largest of them. It does not tell us _how_ it calculates this.\n",
    "\n",
    "There are multiple ways to compute the maximum of two numbers, x and y. One is to use an `if` statement to check which number is larger.\n",
    "```python\n",
    "if x > y:\n",
    "    return x\n",
    "else:\n",
    "    return y\n",
    "```\n",
    "\n",
    "Another way to compute the maximum is to use the formula $\\frac{x + y + |x - y|}{2}$.\n",
    "```python\n",
    "return (x + y + abs(x-y)) / 2\n",
    "```\n",
    "\n",
    "There may be other ways to compute the maximum of two numbers. The point is that you do not need to care how this function works. As long as you are confident that the function does what it claims to do, you don't need to worry about its implementation details. You can treat the function as a black box."
   ]
  },
  {
   "cell_type": "markdown",
   "metadata": {},
   "source": [
    "## Writing your own functions"
   ]
  },
  {
   "cell_type": "markdown",
   "metadata": {},
   "source": [
    "In this section, we will show you how to write your own functions. This will help you understand how functions work and how to use functions that other people wrote."
   ]
  },
  {
   "cell_type": "markdown",
   "metadata": {},
   "source": [
    "### A Simple Function"
   ]
  },
  {
   "cell_type": "markdown",
   "metadata": {},
   "source": [
    "Let's write a very simple function that returns the average of two numbers.  \n",
    "```python\n",
    "def MyAverage(x, y):\n",
    "    return (x + y) / 2\n",
    "```\n",
    "\n",
    "The above code defines a function named `MyAverage`. A function definition begins with the keyword `def`, which stands for _define_. Following the `def` keyword is a name for the function. Following the function name is an _argument list_, and this list must be in parentheses and separated by commas. Our `MyAverage` function takes two arguments, `x` and `y`. These arguments will be variables, but they will only live inside our function. The first line of the definition ends with a colon. The next lines are the body of the function and _they must be indented_. Python uses the indentation to determine when the function ends. Python will execute the body of the function, line by line, until it reaches a `return` statement. It will evaluate whatever is given to the return statement and \"return\" it to whatever line of code called the function.\n",
    "\n",
    "Let's work through an example before explaining the subtleties.\n",
    "```python\n",
    "revenue_2017 = 100\n",
    "revenue_2018 = 200\n",
    "avgRevenue = MyAverage(revenue_2017, revenue_2018)\n",
    "\n",
    "print(f'The average revenue over the last two years was {avgRevenue}')\n",
    "```\n",
    "\n",
    "The above code snippet does the following. It creates two variables, `revenue_2017` and `revenue_2018` and assigns them values. It then creates a new variable called `avgRevenue`. However, when Python sees the line to create avgRevenue, it does not immediately know the value of right-hand-side of the equation. It has to _call_ the function `MyAverage`. When it does, it passes as arguments the variables `revenue_2017` and `revenue_2018`. When the function is called, Python executes the code that follows the line `def MyAverage(x, y)`. Before it runs `MyAverage`, it assigns the value of `revenue_2017` to `x` and `revenue_2018` to `y`. It does this because `MyAverage` is expecting two arguments, `x` and `y`. We gave it two arguments. It therefore assigned the first argument to `x` and the second to `y`. Python then evaluates the statement `return (x + y) / 2`. It first does the arithmetic and computes the value 150. It then returns this to the calling statement, `avgRevenue = MyAverage(revenue_2017, revenue_2018)`, and the value 150 is assigned to `avgRevenue`. The final statement prints \"The average revenue over the last two years was 150.0\". "
   ]
  },
  {
   "cell_type": "markdown",
   "metadata": {},
   "source": [
    "### Syntax for Defining Functions"
   ]
  },
  {
   "cell_type": "markdown",
   "metadata": {},
   "source": [
    "To define a function, use the following syntax:\n",
    "```python\n",
    "def FunctionName(arg1, arg2, ...):\n",
    "    do_stuff_here\n",
    "    return return_value\n",
    "```\n",
    "\n",
    "Notes:\n",
    "* You may define a function with zero arguments.\n",
    "* When you call a function with zero arguments, you must use empty parentheses.\n",
    "* A function does not have to return anything. If your function returns nothing, you may use a return statement with no return value, or you may omit the return statement altogether.\n",
    "\n",
    "Here's an example of a function that takes no arguments and returns nothing.\n",
    "```python\n",
    "def MakeAnimalNoises():\n",
    "    print('Cluck')\n",
    "    print('Moo')\n",
    "    print('Woof')\n",
    "```\n",
    "\n",
    "Notice I omitted the `return` statement. To call this function, you would type `MakeAnimalNoises()`."
   ]
  },
  {
   "cell_type": "markdown",
   "metadata": {},
   "source": [
    "### Rules for Naming Functions"
   ]
  },
  {
   "cell_type": "markdown",
   "metadata": {},
   "source": [
    "The rules for naming functions are the same as the rules for naming variables. Do you remember the rules? :) If not, here's a refresher. The rules are:\n",
    "* Function names can contain:\n",
    "    - Uppercase letters (A-Z)\n",
    "    - Lowercase letters (a-z)\n",
    "    - Digits (0-9)\n",
    "    - The underscore character ( \\_ ). Note: this is different than the hyphen, or dash (-).\n",
    "* Function names _cannot_ contain spaces.\n",
    "* A function name cannot begin with a digit."
   ]
  },
  {
   "cell_type": "markdown",
   "metadata": {},
   "source": [
    "### Arguments are Local Variables"
   ]
  },
  {
   "cell_type": "markdown",
   "metadata": {},
   "source": [
    "Earlier in these notes, we talked about environments and state. When you call a function, Python creates a new environment. The new environment inherits everything from its calling environment and creates some new variables on top of that. This concept, and the associated rules, can quickly become confusing so let's work through some simple examples to learn about this."
   ]
  },
  {
   "cell_type": "code",
   "execution_count": 1,
   "metadata": {},
   "outputs": [
    {
     "name": "stdout",
     "output_type": "stream",
     "text": [
      "x is 15\n"
     ]
    }
   ],
   "source": [
    "x = 15\n",
    "\n",
    "def SampleFunction():\n",
    "    print(f'x is {x}')\n",
    "    \n",
    "SampleFunction()"
   ]
  },
  {
   "cell_type": "markdown",
   "metadata": {},
   "source": [
    "The above code did the following:\n",
    "1. Created a variable called `x` and set its value to 15.\n",
    "2. Created a function `SampleFunction` that takes no arguments and prints `x`.\n",
    "3. Called `SampleFunction`.\n",
    "\n",
    "Notice that `SampleFunction` can see `x`. That's because the environment for `SampleFunction` inherits its calling environment. However, within `SampleFunction`, x is considered a \"global variable\". It's global because it was created outside the function. Variables created inside the function are called \"local variables\"."
   ]
  },
  {
   "cell_type": "markdown",
   "metadata": {},
   "source": [
    "What happens if we try to change `x` inside the function?"
   ]
  },
  {
   "cell_type": "code",
   "execution_count": 2,
   "metadata": {},
   "outputs": [
    {
     "name": "stdout",
     "output_type": "stream",
     "text": [
      "Inside SampleFunction2, x is 0\n",
      "Outside SampleFunction2, x is 15\n"
     ]
    }
   ],
   "source": [
    "x = 15\n",
    "\n",
    "def SampleFunction2():\n",
    "    x = 0\n",
    "    print(f'Inside SampleFunction2, x is {x}')\n",
    "    \n",
    "SampleFunction2()\n",
    "print(f'Outside SampleFunction2, x is {x}')"
   ]
  },
  {
   "cell_type": "markdown",
   "metadata": {},
   "source": [
    "Confused? When we called `SampleFunction2`, Python created a new environment that inherited `x` and its value, 15. However, Python does not want you to accidentally change a global variable inside a function; that might screw up other parts of your program that rely on the global variable. To prevent this, when we set `x` to 0 inside `SampleFunction2`, Python created a new _local_ variable called `x` that masked the global variable with the same name. When the function finished, its environment was destroyed and local variable `x` was destroyed.\n",
    "\n",
    "The exact same thing happens if a function argument has the same name as a variable in the calling environment. The argument will create a local variable that masks the global variable in the calling environment. When the function terminates, its local variable will be destroyed. See the following example:"
   ]
  },
  {
   "cell_type": "code",
   "execution_count": 3,
   "metadata": {},
   "outputs": [
    {
     "name": "stdout",
     "output_type": "stream",
     "text": [
      "Inside SampleFunction3, x is 0 and y is 1\n",
      "Outside SampleFunction3, x is 3 and y is -4\n"
     ]
    }
   ],
   "source": [
    "x = 3\n",
    "y = -4\n",
    "\n",
    "def SampleFunction3(x, y):\n",
    "    print(f'Inside SampleFunction3, x is {x} and y is {y}')\n",
    "    \n",
    "SampleFunction3(0, 1)\n",
    "print(f'Outside SampleFunction3, x is {x} and y is {y}')"
   ]
  },
  {
   "cell_type": "markdown",
   "metadata": {},
   "source": [
    "In the above code, `x` and `y` are created and initialized to 3 and -4, respectively. The function `SampleFunction3` is defined and then called with arguments 0 and 1. When the function is called, a new environment is created. Local variables `x` and `y` are created and assigned values 0 and 1, respectively, because those were the arguments given in the function call. When the function terminates, the local variables are destroyed."
   ]
  },
  {
   "cell_type": "markdown",
   "metadata": {},
   "source": [
    "### SUMMARY OF USER-DEFINED FUNCTIONS"
   ]
  },
  {
   "cell_type": "markdown",
   "metadata": {},
   "source": [
    "A function is a reusable block of code. Its inputs are called arguments and its output is called a return value.\n",
    "\n",
    "To define a function, use the following syntax:\n",
    "```python\n",
    "def FunctionName(arg1, arg2, ...):\n",
    "    do_stuff_here\n",
    "    return return_value\n",
    "```\n",
    "\n",
    "Finally, note that a function does not require arguments and that it does not have to return anything."
   ]
  },
  {
   "cell_type": "markdown",
   "metadata": {},
   "source": [
    "## Using Functions that Other People Wrote"
   ]
  },
  {
   "cell_type": "markdown",
   "metadata": {},
   "source": [
    "When doing data analytics, you will mostly work with functions that other people wrote. In this section, we will show you how to work with such functions. We will show you:\n",
    "* How functions are organized into _modules_.\n",
    "* How to use a function from a module.\n",
    "* How to call a function using:\n",
    "    - Positional arguments\n",
    "    - Keyword arguments\n",
    "    - Optional arguments\n",
    "* How to read documentation for a function."
   ]
  },
  {
   "cell_type": "markdown",
   "metadata": {},
   "source": [
    "### Modules and Import Statements"
   ]
  },
  {
   "cell_type": "markdown",
   "metadata": {},
   "source": [
    "Since Python is so popular, people have written thousands of Python functions that you can download and use in your work. Without organizing those functions, many problems would result. For example, say I want to write a function to filter some data. A natural name for my function is `filter`. But chances are that somebody else has already written a function named `filter`. How do I tell Python that I want to use my `filter` function and not another one? Also, what if I write a set of related functions and I want to store them in the same place? The solution to these problems is to package related functions into a _module_ (sometimes called a _package_ or a _library_). A _module_ is simply a group of functions, variables, and classes (we will define these later in the course) that reside in the same file. \n",
    "\n",
    "When you open Python, it loads some \"built-in\" functions into your environment. You can find these [here](https://docs.python.org/3/library/functions.html). Python also provides a \"standard library\" that contains many modules with useful functions. If you want to use one of those modules, you have to tell Python by using an `import` statement. Say we want to use Python's math library. We would type:\n",
    "```python\n",
    "import math\n",
    "```\n",
    "That statement tells Python to load all of the math functions from its [math module](https://docs.python.org/3.7/library/math.html) into your environment. After you execute this `import` statement, you can use any of the functions. Here's some sample code that computes the factorial of a number."
   ]
  },
  {
   "cell_type": "code",
   "execution_count": 4,
   "metadata": {},
   "outputs": [
    {
     "name": "stdout",
     "output_type": "stream",
     "text": [
      "5! = 120\n"
     ]
    }
   ],
   "source": [
    "import math\n",
    "\n",
    "x = 5\n",
    "fact_x = math.factorial(x)\n",
    "\n",
    "print(f'{x}! = {fact_x}')"
   ]
  },
  {
   "cell_type": "markdown",
   "metadata": {},
   "source": [
    "Let's examine this code, line-by-line. The first line tells Python to import its math module. All that does is to add the names of everything from the math module to your current environment. [This documentation page](https://docs.python.org/3.7/library/math.html) lists everything that's in the math module.\n",
    "\n",
    "The second line, `x = 5` creates a variable `x` and initializes it to 5. The third line calls the function `math.factorial` and computes the factorial of `x`. _Note that the function's name is math.factorial, **not** factorial_. The fourth line prints some output.\n",
    "\n",
    "You might be wondering why Python requires you to type `math.` to use something from the math module. That's because it does not want to hide a function that you may have written with the same name. Also, you may have imported another library with a function named factorial, and Python needs a way to distinguish between the two functions.\n",
    "\n",
    "If you think it's a pain in the ass to have to type `math.` before every function, you have two options:\n",
    "1. Import the functions you want from a module directly into your environment.\n",
    "2. Define an alias for the module."
   ]
  },
  {
   "cell_type": "markdown",
   "metadata": {},
   "source": [
    "#### Option 1: Import the functions directly"
   ]
  },
  {
   "cell_type": "markdown",
   "metadata": {},
   "source": [
    "If you do not want to type `math.` before every function name, you can use something like the following:\n",
    "```python\n",
    "from math import factorial, log, sin\n",
    "```\n",
    "That code imports specific functions from the math library, and _you will not have to prefix your functions with \"math.\"_. If you want to import _everything_ from the math library this way, you can type:\n",
    "```python\n",
    "from math import *\n",
    "```\n",
    "We do not recommend importing everything from a module because it is very likely you will hide some other function in your environment."
   ]
  },
  {
   "cell_type": "markdown",
   "metadata": {},
   "source": [
    "#### Option 2: Define an alias for the module"
   ]
  },
  {
   "cell_type": "markdown",
   "metadata": {},
   "source": [
    "Say you want to use a library with a long name, like the `statistics` module from the standard library. Say that you want to use the full names of the statistics functions, like `statistics.median`, but do not want to have to type out `statistics.` before every function call. Python allows you to create an \"alias\" for the library name. Here's how:"
   ]
  },
  {
   "cell_type": "code",
   "execution_count": 5,
   "metadata": {},
   "outputs": [
    {
     "name": "stdout",
     "output_type": "stream",
     "text": [
      "The median of my data is 5\n"
     ]
    }
   ],
   "source": [
    "import statistics as st\n",
    "\n",
    "mydata = [1,3,5,7,9]\n",
    "my_median = st.median(mydata)\n",
    "\n",
    "print(f'The median of my data is {my_median}')"
   ]
  },
  {
   "cell_type": "markdown",
   "metadata": {},
   "source": [
    "In the above code, we tell Python that we want to use \"st\" as a shortcut for the statistics module. We can choose any valid variable name for our alias."
   ]
  },
  {
   "cell_type": "markdown",
   "metadata": {},
   "source": [
    "## Calling Functions"
   ]
  },
  {
   "cell_type": "markdown",
   "metadata": {},
   "source": [
    "In the previous section, we showed you how to call simple functions. Soon, you will work with more complicated functions for data analysis. In order to call those functions, you need to learn a little more about passing arguments to functions in Python. We will teach you those details in this subsection.\n",
    "\n",
    "In the remainder of this section, we will work with a function, `square`, from the popular plotting library Bokeh. We will  (probably) teach you more about this library later in the course so do not worry if some of the details are confusing at this point. In the following examples, simply focus on the arguments to the function `square`.\n",
    "\n",
    "Let's begin by creating a simple scatter plot. Do that by executing the code cell below."
   ]
  },
  {
   "cell_type": "code",
   "execution_count": 6,
   "metadata": {},
   "outputs": [
    {
     "data": {
      "text/html": [
       "    <style>\n",
       "        .bk-notebook-logo {\n",
       "            display: block;\n",
       "            width: 20px;\n",
       "            height: 20px;\n",
       "            background-image: url(data:image/png;base64,iVBORw0KGgoAAAANSUhEUgAAABQAAAAUCAYAAACNiR0NAAAABHNCSVQICAgIfAhkiAAAAAlwSFlzAAALEgAACxIB0t1+/AAAABx0RVh0U29mdHdhcmUAQWRvYmUgRmlyZXdvcmtzIENTNui8sowAAAOkSURBVDiNjZRtaJVlGMd/1/08zzln5zjP1LWcU9N0NkN8m2CYjpgQYQXqSs0I84OLIC0hkEKoPtiH3gmKoiJDU7QpLgoLjLIQCpEsNJ1vqUOdO7ppbuec5+V+rj4ctwzd8IIbbi6u+8f1539dt3A78eXC7QizUF7gyV1fD1Yqg4JWz84yffhm0qkFqBogB9rM8tZdtwVsPUhWhGcFJngGeWrPzHm5oaMmkfEg1usvLFyc8jLRqDOMru7AyC8saQr7GG7f5fvDeH7Ej8CM66nIF+8yngt6HWaKh7k49Soy9nXurCi1o3qUbS3zWfrYeQDTB/Qj6kX6Ybhw4B+bOYoLKCC9H3Nu/leUTZ1JdRWkkn2ldcCamzrcf47KKXdAJllSlxAOkRgyHsGC/zRday5Qld9DyoM4/q/rUoy/CXh3jzOu3bHUVZeU+DEn8FInkPBFlu3+nW3Nw0mk6vCDiWg8CeJaxEwuHS3+z5RgY+YBR6V1Z1nxSOfoaPa4LASWxxdNp+VWTk7+4vzaou8v8PN+xo+KY2xsw6une2frhw05CTYOmQvsEhjhWjn0bmXPjpE1+kplmmkP3suftwTubK9Vq22qKmrBhpY4jvd5afdRA3wGjFAgcnTK2s4hY0/GPNIb0nErGMCRxWOOX64Z8RAC4oCXdklmEvcL8o0BfkNK4lUg9HTl+oPlQxdNo3Mg4Nv175e/1LDGzZen30MEjRUtmXSfiTVu1kK8W4txyV6BMKlbgk3lMwYCiusNy9fVfvvwMxv8Ynl6vxoByANLTWplvuj/nF9m2+PDtt1eiHPBr1oIfhCChQMBw6Aw0UulqTKZdfVvfG7VcfIqLG9bcldL/+pdWTLxLUy8Qq38heUIjh4XlzZxzQm19lLFlr8vdQ97rjZVOLf8nclzckbcD4wxXMidpX30sFd37Fv/GtwwhzhxGVAprjbg0gCAEeIgwCZyTV2Z1REEW8O4py0wsjeloKoMr6iCY6dP92H6Vw/oTyICIthibxjm/DfN9lVz8IqtqKYLUXfoKVMVQVVJOElGjrnnUt9T9wbgp8AyYKaGlqingHZU/uG2NTZSVqwHQTWkx9hxjkpWDaCg6Ckj5qebgBVbT3V3NNXMSiWSDdGV3hrtzla7J+duwPOToIg42ChPQOQjspnSlp1V+Gjdged7+8UN5CRAV7a5EdFNwCjEaBR27b3W890TE7g24NAP/mMDXRWrGoFPQI9ls/MWO2dWFAar/xcOIImbbpA3zgAAAABJRU5ErkJggg==);\n",
       "        }\n",
       "    </style>\n",
       "    <div>\n",
       "        <a href=\"https://bokeh.org\" target=\"_blank\" class=\"bk-notebook-logo\"></a>\n",
       "        <span id=\"af7faec8-0133-4a0e-bfde-fd99afb758a7\">Loading BokehJS ...</span>\n",
       "    </div>\n"
      ]
     },
     "metadata": {},
     "output_type": "display_data"
    },
    {
     "data": {
      "application/javascript": "'use strict';\n(function(root) {\n  function now() {\n    return new Date();\n  }\n\n  const force = true;\n\n  if (typeof root._bokeh_onload_callbacks === \"undefined\" || force === true) {\n    root._bokeh_onload_callbacks = [];\n    root._bokeh_is_loading = undefined;\n  }\n\nconst JS_MIME_TYPE = 'application/javascript';\n  const HTML_MIME_TYPE = 'text/html';\n  const EXEC_MIME_TYPE = 'application/vnd.bokehjs_exec.v0+json';\n  const CLASS_NAME = 'output_bokeh rendered_html';\n\n  /**\n   * Render data to the DOM node\n   */\n  function render(props, node) {\n    const script = document.createElement(\"script\");\n    node.appendChild(script);\n  }\n\n  /**\n   * Handle when an output is cleared or removed\n   */\n  function handleClearOutput(event, handle) {\n    function drop(id) {\n      const view = Bokeh.index.get_by_id(id)\n      if (view != null) {\n        view.model.document.clear()\n        Bokeh.index.delete(view)\n      }\n    }\n\n    const cell = handle.cell;\n\n    const id = cell.output_area._bokeh_element_id;\n    const server_id = cell.output_area._bokeh_server_id;\n\n    // Clean up Bokeh references\n    if (id != null) {\n      drop(id)\n    }\n\n    if (server_id !== undefined) {\n      // Clean up Bokeh references\n      const cmd_clean = \"from bokeh.io.state import curstate; print(curstate().uuid_to_server['\" + server_id + \"'].get_sessions()[0].document.roots[0]._id)\";\n      cell.notebook.kernel.execute(cmd_clean, {\n        iopub: {\n          output: function(msg) {\n            const id = msg.content.text.trim()\n            drop(id)\n          }\n        }\n      });\n      // Destroy server and session\n      const cmd_destroy = \"import bokeh.io.notebook as ion; ion.destroy_server('\" + server_id + \"')\";\n      cell.notebook.kernel.execute(cmd_destroy);\n    }\n  }\n\n  /**\n   * Handle when a new output is added\n   */\n  function handleAddOutput(event, handle) {\n    const output_area = handle.output_area;\n    const output = handle.output;\n\n    // limit handleAddOutput to display_data with EXEC_MIME_TYPE content only\n    if ((output.output_type != \"display_data\") || (!Object.prototype.hasOwnProperty.call(output.data, EXEC_MIME_TYPE))) {\n      return\n    }\n\n    const toinsert = output_area.element.find(\".\" + CLASS_NAME.split(' ')[0]);\n\n    if (output.metadata[EXEC_MIME_TYPE][\"id\"] !== undefined) {\n      toinsert[toinsert.length - 1].firstChild.textContent = output.data[JS_MIME_TYPE];\n      // store reference to embed id on output_area\n      output_area._bokeh_element_id = output.metadata[EXEC_MIME_TYPE][\"id\"];\n    }\n    if (output.metadata[EXEC_MIME_TYPE][\"server_id\"] !== undefined) {\n      const bk_div = document.createElement(\"div\");\n      bk_div.innerHTML = output.data[HTML_MIME_TYPE];\n      const script_attrs = bk_div.children[0].attributes;\n      for (let i = 0; i < script_attrs.length; i++) {\n        toinsert[toinsert.length - 1].firstChild.setAttribute(script_attrs[i].name, script_attrs[i].value);\n        toinsert[toinsert.length - 1].firstChild.textContent = bk_div.children[0].textContent\n      }\n      // store reference to server id on output_area\n      output_area._bokeh_server_id = output.metadata[EXEC_MIME_TYPE][\"server_id\"];\n    }\n  }\n\n  function register_renderer(events, OutputArea) {\n\n    function append_mime(data, metadata, element) {\n      // create a DOM node to render to\n      const toinsert = this.create_output_subarea(\n        metadata,\n        CLASS_NAME,\n        EXEC_MIME_TYPE\n      );\n      this.keyboard_manager.register_events(toinsert);\n      // Render to node\n      const props = {data: data, metadata: metadata[EXEC_MIME_TYPE]};\n      render(props, toinsert[toinsert.length - 1]);\n      element.append(toinsert);\n      return toinsert\n    }\n\n    /* Handle when an output is cleared or removed */\n    events.on('clear_output.CodeCell', handleClearOutput);\n    events.on('delete.Cell', handleClearOutput);\n\n    /* Handle when a new output is added */\n    events.on('output_added.OutputArea', handleAddOutput);\n\n    /**\n     * Register the mime type and append_mime function with output_area\n     */\n    OutputArea.prototype.register_mime_type(EXEC_MIME_TYPE, append_mime, {\n      /* Is output safe? */\n      safe: true,\n      /* Index of renderer in `output_area.display_order` */\n      index: 0\n    });\n  }\n\n  // register the mime type if in Jupyter Notebook environment and previously unregistered\n  if (root.Jupyter !== undefined) {\n    const events = require('base/js/events');\n    const OutputArea = require('notebook/js/outputarea').OutputArea;\n\n    if (OutputArea.prototype.mime_types().indexOf(EXEC_MIME_TYPE) == -1) {\n      register_renderer(events, OutputArea);\n    }\n  }\n  if (typeof (root._bokeh_timeout) === \"undefined\" || force === true) {\n    root._bokeh_timeout = Date.now() + 5000;\n    root._bokeh_failed_load = false;\n  }\n\n  const NB_LOAD_WARNING = {'data': {'text/html':\n     \"<div style='background-color: #fdd'>\\n\"+\n     \"<p>\\n\"+\n     \"BokehJS does not appear to have successfully loaded. If loading BokehJS from CDN, this \\n\"+\n     \"may be due to a slow or bad network connection. Possible fixes:\\n\"+\n     \"</p>\\n\"+\n     \"<ul>\\n\"+\n     \"<li>re-rerun `output_notebook()` to attempt to load from CDN again, or</li>\\n\"+\n     \"<li>use INLINE resources instead, as so:</li>\\n\"+\n     \"</ul>\\n\"+\n     \"<code>\\n\"+\n     \"from bokeh.resources import INLINE\\n\"+\n     \"output_notebook(resources=INLINE)\\n\"+\n     \"</code>\\n\"+\n     \"</div>\"}};\n\n  function display_loaded(error = null) {\n    const el = document.getElementById(\"af7faec8-0133-4a0e-bfde-fd99afb758a7\");\n    if (el != null) {\n      const html = (() => {\n        if (typeof root.Bokeh === \"undefined\") {\n          if (error == null) {\n            return \"BokehJS is loading ...\";\n          } else {\n            return \"BokehJS failed to load.\";\n          }\n        } else {\n          const prefix = `BokehJS ${root.Bokeh.version}`;\n          if (error == null) {\n            return `${prefix} successfully loaded.`;\n          } else {\n            return `${prefix} <b>encountered errors</b> while loading and may not function as expected.`;\n          }\n        }\n      })();\n      el.innerHTML = html;\n\n      if (error != null) {\n        const wrapper = document.createElement(\"div\");\n        wrapper.style.overflow = \"auto\";\n        wrapper.style.height = \"5em\";\n        wrapper.style.resize = \"vertical\";\n        const content = document.createElement(\"div\");\n        content.style.fontFamily = \"monospace\";\n        content.style.whiteSpace = \"pre-wrap\";\n        content.style.backgroundColor = \"rgb(255, 221, 221)\";\n        content.textContent = error.stack ?? error.toString();\n        wrapper.append(content);\n        el.append(wrapper);\n      }\n    } else if (Date.now() < root._bokeh_timeout) {\n      setTimeout(() => display_loaded(error), 100);\n    }\n  }\n\n  function run_callbacks() {\n    try {\n      root._bokeh_onload_callbacks.forEach(function(callback) {\n        if (callback != null)\n          callback();\n      });\n    } finally {\n      delete root._bokeh_onload_callbacks\n    }\n    console.debug(\"Bokeh: all callbacks have finished\");\n  }\n\n  function load_libs(css_urls, js_urls, callback) {\n    if (css_urls == null) css_urls = [];\n    if (js_urls == null) js_urls = [];\n\n    root._bokeh_onload_callbacks.push(callback);\n    if (root._bokeh_is_loading > 0) {\n      console.debug(\"Bokeh: BokehJS is being loaded, scheduling callback at\", now());\n      return null;\n    }\n    if (js_urls == null || js_urls.length === 0) {\n      run_callbacks();\n      return null;\n    }\n    console.debug(\"Bokeh: BokehJS not loaded, scheduling load and callback at\", now());\n    root._bokeh_is_loading = css_urls.length + js_urls.length;\n\n    function on_load() {\n      root._bokeh_is_loading--;\n      if (root._bokeh_is_loading === 0) {\n        console.debug(\"Bokeh: all BokehJS libraries/stylesheets loaded\");\n        run_callbacks()\n      }\n    }\n\n    function on_error(url) {\n      console.error(\"failed to load \" + url);\n    }\n\n    for (let i = 0; i < css_urls.length; i++) {\n      const url = css_urls[i];\n      const element = document.createElement(\"link\");\n      element.onload = on_load;\n      element.onerror = on_error.bind(null, url);\n      element.rel = \"stylesheet\";\n      element.type = \"text/css\";\n      element.href = url;\n      console.debug(\"Bokeh: injecting link tag for BokehJS stylesheet: \", url);\n      document.body.appendChild(element);\n    }\n\n    for (let i = 0; i < js_urls.length; i++) {\n      const url = js_urls[i];\n      const element = document.createElement('script');\n      element.onload = on_load;\n      element.onerror = on_error.bind(null, url);\n      element.async = false;\n      element.src = url;\n      console.debug(\"Bokeh: injecting script tag for BokehJS library: \", url);\n      document.head.appendChild(element);\n    }\n  };\n\n  function inject_raw_css(css) {\n    const element = document.createElement(\"style\");\n    element.appendChild(document.createTextNode(css));\n    document.body.appendChild(element);\n  }\n\n  const js_urls = [\"https://cdn.bokeh.org/bokeh/release/bokeh-3.4.2.min.js\", \"https://cdn.bokeh.org/bokeh/release/bokeh-gl-3.4.2.min.js\", \"https://cdn.bokeh.org/bokeh/release/bokeh-widgets-3.4.2.min.js\", \"https://cdn.bokeh.org/bokeh/release/bokeh-tables-3.4.2.min.js\", \"https://cdn.bokeh.org/bokeh/release/bokeh-mathjax-3.4.2.min.js\"];\n  const css_urls = [];\n\n  const inline_js = [    function(Bokeh) {\n      Bokeh.set_log_level(\"info\");\n    },\nfunction(Bokeh) {\n    }\n  ];\n\n  function run_inline_js() {\n    if (root.Bokeh !== undefined || force === true) {\n      try {\n            for (let i = 0; i < inline_js.length; i++) {\n      inline_js[i].call(root, root.Bokeh);\n    }\n\n      } catch (error) {display_loaded(error);throw error;\n      }if (force === true) {\n        display_loaded();\n      }} else if (Date.now() < root._bokeh_timeout) {\n      setTimeout(run_inline_js, 100);\n    } else if (!root._bokeh_failed_load) {\n      console.log(\"Bokeh: BokehJS failed to load within specified timeout.\");\n      root._bokeh_failed_load = true;\n    } else if (force !== true) {\n      const cell = $(document.getElementById(\"af7faec8-0133-4a0e-bfde-fd99afb758a7\")).parents('.cell').data().cell;\n      cell.output_area.append_execute_result(NB_LOAD_WARNING)\n    }\n  }\n\n  if (root._bokeh_is_loading === 0) {\n    console.debug(\"Bokeh: BokehJS loaded, going straight to plotting\");\n    run_inline_js();\n  } else {\n    load_libs(css_urls, js_urls, function() {\n      console.debug(\"Bokeh: BokehJS plotting callback run at\", now());\n      run_inline_js();\n    });\n  }\n}(window));",
      "application/vnd.bokehjs_load.v0+json": ""
     },
     "metadata": {},
     "output_type": "display_data"
    },
    {
     "data": {
      "text/html": [
       "\n",
       "  <div id=\"b0931d25-5aa7-4da5-91c6-d76b201ec607\" data-root-id=\"p1001\" style=\"display: contents;\"></div>\n"
      ]
     },
     "metadata": {},
     "output_type": "display_data"
    },
    {
     "data": {
      "application/javascript": "(function(root) {\n  function embed_document(root) {\n  const docs_json = {\"25451989-c65b-40f9-9660-98ef8cf64c12\":{\"version\":\"3.4.2\",\"title\":\"Bokeh Application\",\"roots\":[{\"type\":\"object\",\"name\":\"Figure\",\"id\":\"p1001\",\"attributes\":{\"width\":300,\"height\":300,\"x_range\":{\"type\":\"object\",\"name\":\"DataRange1d\",\"id\":\"p1002\"},\"y_range\":{\"type\":\"object\",\"name\":\"DataRange1d\",\"id\":\"p1003\"},\"x_scale\":{\"type\":\"object\",\"name\":\"LinearScale\",\"id\":\"p1011\"},\"y_scale\":{\"type\":\"object\",\"name\":\"LinearScale\",\"id\":\"p1012\"},\"title\":{\"type\":\"object\",\"name\":\"Title\",\"id\":\"p1004\",\"attributes\":{\"text\":\"Simple Plot Example\"}},\"renderers\":[{\"type\":\"object\",\"name\":\"GlyphRenderer\",\"id\":\"p1040\",\"attributes\":{\"data_source\":{\"type\":\"object\",\"name\":\"ColumnDataSource\",\"id\":\"p1034\",\"attributes\":{\"selected\":{\"type\":\"object\",\"name\":\"Selection\",\"id\":\"p1035\",\"attributes\":{\"indices\":[],\"line_indices\":[]}},\"selection_policy\":{\"type\":\"object\",\"name\":\"UnionRenderers\",\"id\":\"p1036\"},\"data\":{\"type\":\"map\",\"entries\":[[\"x\",[-4,-3,-2,-1,0,1,2,3,4]],[\"y\",[16,9,4,1,0,1,4,9,16]]]}}},\"view\":{\"type\":\"object\",\"name\":\"CDSView\",\"id\":\"p1041\",\"attributes\":{\"filter\":{\"type\":\"object\",\"name\":\"AllIndices\",\"id\":\"p1042\"}}},\"glyph\":{\"type\":\"object\",\"name\":\"Scatter\",\"id\":\"p1037\",\"attributes\":{\"x\":{\"type\":\"field\",\"field\":\"x\"},\"y\":{\"type\":\"field\",\"field\":\"y\"},\"size\":{\"type\":\"value\",\"value\":7},\"line_color\":{\"type\":\"value\",\"value\":\"#1f77b4\"},\"fill_color\":{\"type\":\"value\",\"value\":\"#1f77b4\"},\"marker\":{\"type\":\"value\",\"value\":\"square\"}}},\"nonselection_glyph\":{\"type\":\"object\",\"name\":\"Scatter\",\"id\":\"p1038\",\"attributes\":{\"x\":{\"type\":\"field\",\"field\":\"x\"},\"y\":{\"type\":\"field\",\"field\":\"y\"},\"size\":{\"type\":\"value\",\"value\":7},\"line_color\":{\"type\":\"value\",\"value\":\"#1f77b4\"},\"line_alpha\":{\"type\":\"value\",\"value\":0.1},\"fill_color\":{\"type\":\"value\",\"value\":\"#1f77b4\"},\"fill_alpha\":{\"type\":\"value\",\"value\":0.1},\"hatch_alpha\":{\"type\":\"value\",\"value\":0.1},\"marker\":{\"type\":\"value\",\"value\":\"square\"}}},\"muted_glyph\":{\"type\":\"object\",\"name\":\"Scatter\",\"id\":\"p1039\",\"attributes\":{\"x\":{\"type\":\"field\",\"field\":\"x\"},\"y\":{\"type\":\"field\",\"field\":\"y\"},\"size\":{\"type\":\"value\",\"value\":7},\"line_color\":{\"type\":\"value\",\"value\":\"#1f77b4\"},\"line_alpha\":{\"type\":\"value\",\"value\":0.2},\"fill_color\":{\"type\":\"value\",\"value\":\"#1f77b4\"},\"fill_alpha\":{\"type\":\"value\",\"value\":0.2},\"hatch_alpha\":{\"type\":\"value\",\"value\":0.2},\"marker\":{\"type\":\"value\",\"value\":\"square\"}}}}}],\"toolbar\":{\"type\":\"object\",\"name\":\"Toolbar\",\"id\":\"p1010\",\"attributes\":{\"tools\":[{\"type\":\"object\",\"name\":\"PanTool\",\"id\":\"p1023\"},{\"type\":\"object\",\"name\":\"WheelZoomTool\",\"id\":\"p1024\",\"attributes\":{\"renderers\":\"auto\"}},{\"type\":\"object\",\"name\":\"BoxZoomTool\",\"id\":\"p1025\",\"attributes\":{\"overlay\":{\"type\":\"object\",\"name\":\"BoxAnnotation\",\"id\":\"p1026\",\"attributes\":{\"syncable\":false,\"level\":\"overlay\",\"visible\":false,\"left\":{\"type\":\"number\",\"value\":\"nan\"},\"right\":{\"type\":\"number\",\"value\":\"nan\"},\"top\":{\"type\":\"number\",\"value\":\"nan\"},\"bottom\":{\"type\":\"number\",\"value\":\"nan\"},\"left_units\":\"canvas\",\"right_units\":\"canvas\",\"top_units\":\"canvas\",\"bottom_units\":\"canvas\",\"line_color\":\"black\",\"line_alpha\":1.0,\"line_width\":2,\"line_dash\":[4,4],\"fill_color\":\"lightgrey\",\"fill_alpha\":0.5}}}},{\"type\":\"object\",\"name\":\"SaveTool\",\"id\":\"p1031\"},{\"type\":\"object\",\"name\":\"ResetTool\",\"id\":\"p1032\"},{\"type\":\"object\",\"name\":\"HelpTool\",\"id\":\"p1033\"}]}},\"left\":[{\"type\":\"object\",\"name\":\"LinearAxis\",\"id\":\"p1018\",\"attributes\":{\"ticker\":{\"type\":\"object\",\"name\":\"BasicTicker\",\"id\":\"p1019\",\"attributes\":{\"mantissas\":[1,2,5]}},\"formatter\":{\"type\":\"object\",\"name\":\"BasicTickFormatter\",\"id\":\"p1020\"},\"axis_label\":\"y\",\"major_label_policy\":{\"type\":\"object\",\"name\":\"AllLabels\",\"id\":\"p1021\"}}}],\"below\":[{\"type\":\"object\",\"name\":\"LinearAxis\",\"id\":\"p1013\",\"attributes\":{\"ticker\":{\"type\":\"object\",\"name\":\"BasicTicker\",\"id\":\"p1014\",\"attributes\":{\"mantissas\":[1,2,5]}},\"formatter\":{\"type\":\"object\",\"name\":\"BasicTickFormatter\",\"id\":\"p1015\"},\"axis_label\":\"x\",\"major_label_policy\":{\"type\":\"object\",\"name\":\"AllLabels\",\"id\":\"p1016\"}}}],\"center\":[{\"type\":\"object\",\"name\":\"Grid\",\"id\":\"p1017\",\"attributes\":{\"axis\":{\"id\":\"p1013\"}}},{\"type\":\"object\",\"name\":\"Grid\",\"id\":\"p1022\",\"attributes\":{\"dimension\":1,\"axis\":{\"id\":\"p1018\"}}}]}}]}};\n  const render_items = [{\"docid\":\"25451989-c65b-40f9-9660-98ef8cf64c12\",\"roots\":{\"p1001\":\"b0931d25-5aa7-4da5-91c6-d76b201ec607\"},\"root_ids\":[\"p1001\"]}];\n  void root.Bokeh.embed.embed_items_notebook(docs_json, render_items);\n  }\n  if (root.Bokeh !== undefined) {\n    embed_document(root);\n  } else {\n    let attempts = 0;\n    const timer = setInterval(function(root) {\n      if (root.Bokeh !== undefined) {\n        clearInterval(timer);\n        embed_document(root);\n      } else {\n        attempts++;\n        if (attempts > 100) {\n          clearInterval(timer);\n          console.log(\"Bokeh: ERROR: Unable to run BokehJS code because BokehJS library is missing\");\n        }\n      }\n    }, 10, root)\n  }\n})(window);",
      "application/vnd.bokehjs_exec.v0+json": ""
     },
     "metadata": {
      "application/vnd.bokehjs_exec.v0+json": {
       "id": "p1001"
      }
     },
     "output_type": "display_data"
    }
   ],
   "source": [
    "from bokeh.io import output_notebook\n",
    "from bokeh.plotting import figure, show\n",
    "output_notebook()\n",
    "\n",
    "p = figure(title=\"Simple Plot Example\", x_axis_label='x', y_axis_label='y', width=300, height=300)\n",
    "\n",
    "x_coords = [-4,-3,-2,-1,0,1,2,3,4]\n",
    "y_coords = [16,9,4,1,0,1,4,9,16]\n",
    "\n",
    "p.scatter(x_coords, y_coords, 7, marker='square')\n",
    "\n",
    "show(p)"
   ]
  },
  {
   "cell_type": "markdown",
   "metadata": {},
   "source": [
    "Let's focus on one line of code from the code cell above:\n",
    "```python\n",
    "p.square(x_coords, y_coords, 7)\n",
    "```\n",
    "We passed three arguments to that function. The first argument was a list of x-coordinates, the second argument was a list of y-coordinates, and the third argument was a number indicating the size of the squares. When we called that function, Bokeh plotted a square at each (x,y) coordinate and set the square's size to 7."
   ]
  },
  {
   "cell_type": "markdown",
   "metadata": {},
   "source": [
    "### Positional Arguments\n",
    "\n",
    "If you do not tell it otherwise, `square` assumes that the first argument is the x-coordinates, the second argument is the y-coordinates, and the third argument is a marker size. When we call functions in this manner, we rely on _positional arguments_. The position of the argument in the function call has meaning. You can only know the correct order of arguments if you look up the documentation for the function. We will show you more about documentation soon. For now, look at this \"function signature\" from the Bokeh documentation:\n",
    "\n",
    "> **Signature**: square(x, y, size=4, angle=0.0, \\*\\*kwargs)   \n",
    "> **Args**:  \n",
    "> x : The x-axis coordinates for the center of the markers.  \n",
    "> y : The y-axis coordinates for the center of the markers.  \n",
    "> size : The size values for the markers in screen space units.\n",
    "\n",
    "This \"signature\" tells us that the first argument is the x-coordinates, the second is the y-coordinates, the third is the size, and so on. It tells us more, but let's ignore that for a moment.\n",
    "\n",
    "If you want, you can use positional arguments almost every time you call a function, but we do not recommend it. You will see that some functions accept dozens of arguments, many of them optional, making it difficult to remember which argument is which. Therefore, we recommend you use a feature of Python called keyword arguments_. This feature allows you to tell the function which arguments you are giving it by passing in their names. Let's do that by running the above code again. This time, notice that the call to `square` is different."
   ]
  },
  {
   "cell_type": "code",
   "execution_count": 7,
   "metadata": {},
   "outputs": [
    {
     "data": {
      "text/html": [
       "\n",
       "  <div id=\"afb8e2a5-b58f-4468-9817-29f59366ad24\" data-root-id=\"p1001\" style=\"display: contents;\"></div>\n"
      ]
     },
     "metadata": {},
     "output_type": "display_data"
    },
    {
     "data": {
      "application/javascript": "(function(root) {\n  function embed_document(root) {\n  const docs_json = {\"b5c14cc2-e0e5-4a75-b6f6-b39ec2d8cced\":{\"version\":\"3.4.2\",\"title\":\"Bokeh Application\",\"roots\":[{\"type\":\"object\",\"name\":\"Figure\",\"id\":\"p1001\",\"attributes\":{\"width\":300,\"height\":300,\"x_range\":{\"type\":\"object\",\"name\":\"DataRange1d\",\"id\":\"p1002\"},\"y_range\":{\"type\":\"object\",\"name\":\"DataRange1d\",\"id\":\"p1003\"},\"x_scale\":{\"type\":\"object\",\"name\":\"LinearScale\",\"id\":\"p1011\"},\"y_scale\":{\"type\":\"object\",\"name\":\"LinearScale\",\"id\":\"p1012\"},\"title\":{\"type\":\"object\",\"name\":\"Title\",\"id\":\"p1004\",\"attributes\":{\"text\":\"Simple Plot Example\"}},\"renderers\":[{\"type\":\"object\",\"name\":\"GlyphRenderer\",\"id\":\"p1040\",\"attributes\":{\"data_source\":{\"type\":\"object\",\"name\":\"ColumnDataSource\",\"id\":\"p1034\",\"attributes\":{\"selected\":{\"type\":\"object\",\"name\":\"Selection\",\"id\":\"p1035\",\"attributes\":{\"indices\":[],\"line_indices\":[]}},\"selection_policy\":{\"type\":\"object\",\"name\":\"UnionRenderers\",\"id\":\"p1036\"},\"data\":{\"type\":\"map\",\"entries\":[[\"x\",[-4,-3,-2,-1,0,1,2,3,4]],[\"y\",[16,9,4,1,0,1,4,9,16]]]}}},\"view\":{\"type\":\"object\",\"name\":\"CDSView\",\"id\":\"p1041\",\"attributes\":{\"filter\":{\"type\":\"object\",\"name\":\"AllIndices\",\"id\":\"p1042\"}}},\"glyph\":{\"type\":\"object\",\"name\":\"Scatter\",\"id\":\"p1037\",\"attributes\":{\"x\":{\"type\":\"field\",\"field\":\"x\"},\"y\":{\"type\":\"field\",\"field\":\"y\"},\"size\":{\"type\":\"value\",\"value\":7},\"line_color\":{\"type\":\"value\",\"value\":\"#1f77b4\"},\"fill_color\":{\"type\":\"value\",\"value\":\"#1f77b4\"},\"marker\":{\"type\":\"value\",\"value\":\"square\"}}},\"nonselection_glyph\":{\"type\":\"object\",\"name\":\"Scatter\",\"id\":\"p1038\",\"attributes\":{\"x\":{\"type\":\"field\",\"field\":\"x\"},\"y\":{\"type\":\"field\",\"field\":\"y\"},\"size\":{\"type\":\"value\",\"value\":7},\"line_color\":{\"type\":\"value\",\"value\":\"#1f77b4\"},\"line_alpha\":{\"type\":\"value\",\"value\":0.1},\"fill_color\":{\"type\":\"value\",\"value\":\"#1f77b4\"},\"fill_alpha\":{\"type\":\"value\",\"value\":0.1},\"hatch_alpha\":{\"type\":\"value\",\"value\":0.1},\"marker\":{\"type\":\"value\",\"value\":\"square\"}}},\"muted_glyph\":{\"type\":\"object\",\"name\":\"Scatter\",\"id\":\"p1039\",\"attributes\":{\"x\":{\"type\":\"field\",\"field\":\"x\"},\"y\":{\"type\":\"field\",\"field\":\"y\"},\"size\":{\"type\":\"value\",\"value\":7},\"line_color\":{\"type\":\"value\",\"value\":\"#1f77b4\"},\"line_alpha\":{\"type\":\"value\",\"value\":0.2},\"fill_color\":{\"type\":\"value\",\"value\":\"#1f77b4\"},\"fill_alpha\":{\"type\":\"value\",\"value\":0.2},\"hatch_alpha\":{\"type\":\"value\",\"value\":0.2},\"marker\":{\"type\":\"value\",\"value\":\"square\"}}}}},{\"type\":\"object\",\"name\":\"GlyphRenderer\",\"id\":\"p1049\",\"attributes\":{\"data_source\":{\"type\":\"object\",\"name\":\"ColumnDataSource\",\"id\":\"p1043\",\"attributes\":{\"selected\":{\"type\":\"object\",\"name\":\"Selection\",\"id\":\"p1044\",\"attributes\":{\"indices\":[],\"line_indices\":[]}},\"selection_policy\":{\"type\":\"object\",\"name\":\"UnionRenderers\",\"id\":\"p1045\"},\"data\":{\"type\":\"map\",\"entries\":[[\"x\",[-4,-3,-2,-1,0,1,2,3,4]],[\"y\",[16,9,4,1,0,1,4,9,16]]]}}},\"view\":{\"type\":\"object\",\"name\":\"CDSView\",\"id\":\"p1050\",\"attributes\":{\"filter\":{\"type\":\"object\",\"name\":\"AllIndices\",\"id\":\"p1051\"}}},\"glyph\":{\"type\":\"object\",\"name\":\"Scatter\",\"id\":\"p1046\",\"attributes\":{\"x\":{\"type\":\"field\",\"field\":\"x\"},\"y\":{\"type\":\"field\",\"field\":\"y\"},\"size\":{\"type\":\"value\",\"value\":6},\"line_color\":{\"type\":\"value\",\"value\":\"#1f77b4\"},\"fill_color\":{\"type\":\"value\",\"value\":\"#1f77b4\"},\"marker\":{\"type\":\"value\",\"value\":\"square\"}}},\"nonselection_glyph\":{\"type\":\"object\",\"name\":\"Scatter\",\"id\":\"p1047\",\"attributes\":{\"x\":{\"type\":\"field\",\"field\":\"x\"},\"y\":{\"type\":\"field\",\"field\":\"y\"},\"size\":{\"type\":\"value\",\"value\":6},\"line_color\":{\"type\":\"value\",\"value\":\"#1f77b4\"},\"line_alpha\":{\"type\":\"value\",\"value\":0.1},\"fill_color\":{\"type\":\"value\",\"value\":\"#1f77b4\"},\"fill_alpha\":{\"type\":\"value\",\"value\":0.1},\"hatch_alpha\":{\"type\":\"value\",\"value\":0.1},\"marker\":{\"type\":\"value\",\"value\":\"square\"}}},\"muted_glyph\":{\"type\":\"object\",\"name\":\"Scatter\",\"id\":\"p1048\",\"attributes\":{\"x\":{\"type\":\"field\",\"field\":\"x\"},\"y\":{\"type\":\"field\",\"field\":\"y\"},\"size\":{\"type\":\"value\",\"value\":6},\"line_color\":{\"type\":\"value\",\"value\":\"#1f77b4\"},\"line_alpha\":{\"type\":\"value\",\"value\":0.2},\"fill_color\":{\"type\":\"value\",\"value\":\"#1f77b4\"},\"fill_alpha\":{\"type\":\"value\",\"value\":0.2},\"hatch_alpha\":{\"type\":\"value\",\"value\":0.2},\"marker\":{\"type\":\"value\",\"value\":\"square\"}}}}}],\"toolbar\":{\"type\":\"object\",\"name\":\"Toolbar\",\"id\":\"p1010\",\"attributes\":{\"tools\":[{\"type\":\"object\",\"name\":\"PanTool\",\"id\":\"p1023\"},{\"type\":\"object\",\"name\":\"WheelZoomTool\",\"id\":\"p1024\",\"attributes\":{\"renderers\":\"auto\"}},{\"type\":\"object\",\"name\":\"BoxZoomTool\",\"id\":\"p1025\",\"attributes\":{\"overlay\":{\"type\":\"object\",\"name\":\"BoxAnnotation\",\"id\":\"p1026\",\"attributes\":{\"syncable\":false,\"level\":\"overlay\",\"visible\":false,\"left\":{\"type\":\"number\",\"value\":\"nan\"},\"right\":{\"type\":\"number\",\"value\":\"nan\"},\"top\":{\"type\":\"number\",\"value\":\"nan\"},\"bottom\":{\"type\":\"number\",\"value\":\"nan\"},\"left_units\":\"canvas\",\"right_units\":\"canvas\",\"top_units\":\"canvas\",\"bottom_units\":\"canvas\",\"line_color\":\"black\",\"line_alpha\":1.0,\"line_width\":2,\"line_dash\":[4,4],\"fill_color\":\"lightgrey\",\"fill_alpha\":0.5}}}},{\"type\":\"object\",\"name\":\"SaveTool\",\"id\":\"p1031\"},{\"type\":\"object\",\"name\":\"ResetTool\",\"id\":\"p1032\"},{\"type\":\"object\",\"name\":\"HelpTool\",\"id\":\"p1033\"}]}},\"left\":[{\"type\":\"object\",\"name\":\"LinearAxis\",\"id\":\"p1018\",\"attributes\":{\"ticker\":{\"type\":\"object\",\"name\":\"BasicTicker\",\"id\":\"p1019\",\"attributes\":{\"mantissas\":[1,2,5]}},\"formatter\":{\"type\":\"object\",\"name\":\"BasicTickFormatter\",\"id\":\"p1020\"},\"axis_label\":\"y\",\"major_label_policy\":{\"type\":\"object\",\"name\":\"AllLabels\",\"id\":\"p1021\"}}}],\"below\":[{\"type\":\"object\",\"name\":\"LinearAxis\",\"id\":\"p1013\",\"attributes\":{\"ticker\":{\"type\":\"object\",\"name\":\"BasicTicker\",\"id\":\"p1014\",\"attributes\":{\"mantissas\":[1,2,5]}},\"formatter\":{\"type\":\"object\",\"name\":\"BasicTickFormatter\",\"id\":\"p1015\"},\"axis_label\":\"x\",\"major_label_policy\":{\"type\":\"object\",\"name\":\"AllLabels\",\"id\":\"p1016\"}}}],\"center\":[{\"type\":\"object\",\"name\":\"Grid\",\"id\":\"p1017\",\"attributes\":{\"axis\":{\"id\":\"p1013\"}}},{\"type\":\"object\",\"name\":\"Grid\",\"id\":\"p1022\",\"attributes\":{\"dimension\":1,\"axis\":{\"id\":\"p1018\"}}}]}}]}};\n  const render_items = [{\"docid\":\"b5c14cc2-e0e5-4a75-b6f6-b39ec2d8cced\",\"roots\":{\"p1001\":\"afb8e2a5-b58f-4468-9817-29f59366ad24\"},\"root_ids\":[\"p1001\"]}];\n  void root.Bokeh.embed.embed_items_notebook(docs_json, render_items);\n  }\n  if (root.Bokeh !== undefined) {\n    embed_document(root);\n  } else {\n    let attempts = 0;\n    const timer = setInterval(function(root) {\n      if (root.Bokeh !== undefined) {\n        clearInterval(timer);\n        embed_document(root);\n      } else {\n        attempts++;\n        if (attempts > 100) {\n          clearInterval(timer);\n          console.log(\"Bokeh: ERROR: Unable to run BokehJS code because BokehJS library is missing\");\n        }\n      }\n    }, 10, root)\n  }\n})(window);",
      "application/vnd.bokehjs_exec.v0+json": ""
     },
     "metadata": {
      "application/vnd.bokehjs_exec.v0+json": {
       "id": "p1001"
      }
     },
     "output_type": "display_data"
    }
   ],
   "source": [
    "p.scatter(x=x_coords, y=y_coords, size=6, marker='square')\n",
    "\n",
    "show(p)"
   ]
  },
  {
   "cell_type": "markdown",
   "metadata": {},
   "source": [
    "### Keyword Arguments\n",
    "\n",
    "Let's examine the new call to `square`:\n",
    "```python\n",
    "p.square(x=x_coords, y=y_coords, size=6)\n",
    "```\n",
    "This time, we explicitly told Python that the value of the `x` argument is x_coords, the value of `y` is y_coords, and the value of `size` is 6. A function called this way relies on _keyword arguments_; we tell Python the names of the arguments we want to pass.\n",
    "\n",
    "Keyword arguments have some advantages:\n",
    "* Your code is more readable. You can clearly see what the arguments are.\n",
    "* You do not have to pass the arguments in order! You could have typed `p.square(size=6, y=y_coords, x=x_coords)` and you would have gotten the same result!\n",
    "* You are less likely to make an error by putting the arguments in the wrong order.\n",
    "\n",
    "To drive this point home, let's revisit a line of code from a previous cell:\n",
    "```python\n",
    "p = figure(title=\"Simple Line Example\", x_axis_label='x', y_axis_label='y', width=300, height=300)\n",
    "```\n",
    "This line of code relied on keyword arguments. Notice how easy it is to read! You can understand what the arguments mean without referring to the documentation. Also, it is common to write code and then revisit it months (or years) later. If you use named arguments, it will be much easier to remember how your code works."
   ]
  },
  {
   "cell_type": "markdown",
   "metadata": {},
   "source": [
    "### Optional Arguments and Default Values"
   ]
  },
  {
   "cell_type": "markdown",
   "metadata": {},
   "source": [
    "The last thing you need to know about calling functions is that many functions have _optional arguments_. You do not have to specify values for these arguments. If you omit these optional arguments, default values are used.\n",
    "\n",
    "Let's take a look at the documentation for the `square` function from above. For brevity, we only show you a portion of the documentation. In the next section, we will teach you more about reading function documentation.\n",
    "\n",
    "<font color=\"indianred\"><b>Signature</b></font>: p.square(x, y, size=4, angle=0.0, \\*\\*kwargs)\n",
    "\n",
    "Notice the function signature says `size=4, angle=0.0`. When you see that, it means that the size argument is optional and if you do not specify it, it will automatically receive the value 4. The same logic applies to the angle argument."
   ]
  },
  {
   "cell_type": "markdown",
   "metadata": {},
   "source": [
    "## Reading function documentation"
   ]
  },
  {
   "cell_type": "markdown",
   "metadata": {},
   "source": [
    "### Determining which functions to look up"
   ]
  },
  {
   "cell_type": "markdown",
   "metadata": {},
   "source": [
    "Many former students of ACCY 570 and ACCY 575 went through the following steps every time they wanted to perform an analytics task in Python::\n",
    "\n",
    "1. Wonder whether there are functions that do what you want.\n",
    "2. Do Google searches.\n",
    "3. Read web pages, often at [StackOverflow](https://stackoverflow.com/), a site where people ask and answer questions about coding.\n",
    "4. Copy and paste code into your notebook.\n",
    "5. Get weird results or errors.\n",
    "6. Say bad words.\n",
    "\n",
    "We advocate a different approach that will be less frustrating in the long run. The first thing you should do is to _plan_ your code. You should make an outline of the steps that you want Python (or Excel or whatever) to take. That should be step one. Once you have developed an outline, then you can determine whether there are already functions to do what you want. And guess what? We're here to make your life easier so we will often tell you which functions to use. You can then look up the official documentation for those functions. If, after you read the documentation, you are still confused, then either ask the teaching staff for help, or do a specific Google search for the function you want to use.\n",
    "\n",
    "In the remainder of this section, we will teach you about the official Python documentation. Later in the course, we will show you the documentation for other analytics-related modules, like Pandas."
   ]
  },
  {
   "cell_type": "markdown",
   "metadata": {},
   "source": [
    "### Official Python Documentation"
   ]
  },
  {
   "cell_type": "markdown",
   "metadata": {},
   "source": [
    "#### Overview"
   ]
  },
  {
   "cell_type": "markdown",
   "metadata": {},
   "source": [
    "The official documentation for the Python programming language, and its standard libraries, is located at [https://docs.python.org/3/](https://docs.python.org/3/). _Please make sure you are reading the documentation for Python version 3.7!!_\n",
    "\n",
    "Before we discuss the specifics of this documentation, we want to warn you that the official documentation, well, sucks. It's absolutely awful. It is written _by_ professional programmers _for_ other professional programmers. Very few, if any, examples are provided. In our opinion, this is one of the major shortcomings of working with Python. The good news is that, with what you have already learned in this unit, it will be easier to understand the documentation. Also, _please ask us for help_.\n",
    "\n",
    "Go to the official documentation website, [https://docs.python.org/3/](https://docs.python.org/3/). If possible, arrange your windows so you can see that webpage while reading this notebook. The heading should be **Python 3.7.4rc1 documentation**. It's okay if it's slightly different, as long as it's Python 3.7. There is only one section that you need at this time, [Library reference](https://docs.python.org/3/library/index.html). If you wish, you can use the [Tutorial section](https://docs.python.org/3/tutorial/index.html) to learn more about specific topics covered in this notebook. Also, the [Language reference](https://docs.python.org/3/reference/index.html), sections 7 and 8, provides the official rules for things like `if` and `while` statements, but you probably will not find it very readable."
   ]
  },
  {
   "cell_type": "markdown",
   "metadata": {},
   "source": [
    "#### Library Reference"
   ]
  },
  {
   "cell_type": "markdown",
   "metadata": {},
   "source": [
    "Go to the official [Library Reference](https://docs.python.org/3/library/index.html). This page provides a bulleted outline. Let's examine the sections that may be useful to you."
   ]
  },
  {
   "cell_type": "markdown",
   "metadata": {},
   "source": [
    "##### Built-in Functions  "
   ]
  },
  {
   "cell_type": "markdown",
   "metadata": {},
   "source": [
    "Click on the link [Built-in Functions](https://docs.python.org/3/library/functions.html). Here, you will see a list of all functions that are available to you in Python without the need for an `import` statement. Let's examine a few in detail. Click on [abs](https://docs.python.org/3/library/functions.html#abs). When you do, you will see something that looks like this:\n",
    "\n",
    "> **abs**(x)  \n",
    "> Return the absolute value of a number. The argument may be an integer or a floating point number. If the argument is a complex number, its magnitude is returned.\n",
    "\n",
    "From this, we learn that `abs` is a function that takes one argument, x, and returns the absolute value of x. We learn that x must be an int or a float (ignore the complex number stuff).\n",
    "\n",
    "Let's look at one more built-in function, [max](https://docs.python.org/3/library/functions.html#max). Its documentation says:\n",
    "\n",
    "> **max**(iterable, \\*\\[, _key_, _default_\\]))  \n",
    "> **max**(arg1, arg2, \\*args\\[, key\\])  \n",
    "> Return the largest item in an iterable or the largest of two or more arguments...\n",
    "\n",
    "The documentation for `max` provides two function signatures. The first function signature is for \"iterables\", which are things like lists. You will learn about lists later in this unit. The second function signature is for individual arguments. The documentation begins by saying that `max` returns \"the largest item in an iterable or the largest of two or more arguments.\" So if we pass `max` a list, it will return the largest item in the list. If we pass `max` some numbers, it will return the largest of those numbers. Simple enough, right?\n",
    "\n",
    "The documentation then says:  \n",
    "> If one positional argument is provided, it should be an iterable. The largest item in the iterable is returned.  \n",
    "\n",
    "So that stuff on positional arguments comes in handy! If one positional argument is provided, it should be an iterable (like a list). What that tells you is that `max([1,2,3,4])` is meaningful, but `max(5)` is not. Why? Because the author of the function could not imagine why you would want to compute the maximum of a single number. It's not meaningful. \n",
    "\n",
    "The signatures also tell you that `max` allows optional arguments. These are enclosed in square brackets \\[ \\]. Let's ignore those for now.\n",
    "\n",
    "Finally, notice that the second function signature, **max**(arg1, arg2, \\*args\\[, key\\]), tells us that you can pass one or more optional arguments to `max`. So `max(1,2,-7,9)` is valid.\n",
    "\n",
    "**Takeaways:** We do not want you to become experts on the `max` function. :) What we want to show you is that the documentation can be helpful if you know what you are looking for. Typically, you want to know what the function does. Usually the documentation tells you that right away. Here, you are told that max \"returns the largest item in an iterable or the largest of two or more arguments.\" You want to know which arguments are valid. You want to know if you can pass optional arguments. Once you have learned that, stop reading and do not worry about the other details!"
   ]
  },
  {
   "cell_type": "markdown",
   "metadata": {},
   "source": [
    "##### Other useful pages"
   ]
  },
  {
   "cell_type": "markdown",
   "metadata": {},
   "source": [
    "On the [library reference page](https://docs.python.org/3/library/constants.html), there are some other useful libraries (e.g. math, random, statistics). There is documentation on the built-in string functions (we will teach you about those later in this unit). There are libraries for working with files on your hard drive, zipping files, working with dates and times, and so on. \n",
    "\n",
    "We do not recommend that you invest in these at this time. For now, focus on the functions we teach you. You can always explore these in the future if your work demands it."
   ]
  },
  {
   "cell_type": "markdown",
   "metadata": {},
   "source": [
    "#### Getting help inside a Jupyter notebook"
   ]
  },
  {
   "cell_type": "markdown",
   "metadata": {},
   "source": [
    "You can get help on a function within your Jupyter notebook! In a code cell, just type a question mark followed by the function and press CTRL+ENTER. Here's an example:"
   ]
  },
  {
   "cell_type": "markdown",
   "metadata": {},
   "source": [
    "<pre><div style=\"background-color: #f5f5f5\">&nbsp;&nbsp;&nbsp;? <font color=\"#1f820b\">abs</font></div></pre>"
   ]
  },
  {
   "cell_type": "markdown",
   "metadata": {},
   "source": [
    "<pre><font color=\"firebrick\"><b>Signature:</b></font>  abs(x, /)\n",
    "<font color=\"firebrick\"><b>Docstring:</b></font> Return the absolute value of the argument.\n",
    "<font color=\"firebrick\"><b>Type:</b></font>      builtin_function_or_method</pre>"
   ]
  },
  {
   "cell_type": "markdown",
   "metadata": {},
   "source": [
    "#### Summary"
   ]
  },
  {
   "cell_type": "markdown",
   "metadata": {},
   "source": [
    "* When you need help on a _built-in_ Python function or library, go to https://docs.python.org/3/. Go to the Library Reference section and find what you need.\n",
    "* We will teach you about other useful documentation later in the course.\n",
    "* Before you write any code, make an outline or plan for your code.\n",
    "* For now, do _not_ begin with Google searches when you need help.\n",
    "* The most useful things in a function's documentation are:\n",
    "    - Function signature\n",
    "    - Description of the function - what it does\n",
    "    - Return value and its type\n",
    "    - Description of required arguments\n",
    "    - Description of optional arguments\n",
    "* You can get help within your Jupyter notebook, e.g. `?print`"
   ]
  }
 ],
 "metadata": {
  "kernelspec": {
   "display_name": "Python 3 (ipykernel)",
   "language": "python",
   "name": "python3"
  },
  "language_info": {
   "codemirror_mode": {
    "name": "ipython",
    "version": 3
   },
   "file_extension": ".py",
   "mimetype": "text/x-python",
   "name": "python",
   "nbconvert_exporter": "python",
   "pygments_lexer": "ipython3",
   "version": "3.11.9"
  }
 },
 "nbformat": 4,
 "nbformat_minor": 4
}
