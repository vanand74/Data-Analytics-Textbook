{
 "cells": [
  {
   "cell_type": "markdown",
   "id": "fe9c9a9d-7688-4b0a-92ce-3d74ed929d73",
   "metadata": {},
   "source": [
    "# Heat Maps"
   ]
  },
  {
   "cell_type": "markdown",
   "id": "f83e03d2-a82a-43b8-8c1e-118a88fbe2e3",
   "metadata": {},
   "source": [
    "## What is a Heat Map?"
   ]
  },
  {
   "cell_type": "markdown",
   "id": "3a1fd343-4243-42f7-b0d8-da660afb0f7f",
   "metadata": {},
   "source": [
    "There are many different types of heat maps. A heat map in its most basic form is a matrix that is shaded or colored. A matrix is a grid created using two variables: one variable makes the rows and the other variable makes the columns. The shading or coloring is determined by the value of the cell in the matrix. Smaller numbers are one end of the shading scale while larger numbers are the other end of the shading scale. Shading may be darker or lighter versions of the same color or may span several colors. See illustration 1 for an example of a basic heat map, also called a highlight table.\n",
    "\n",
    "### Illustration 1: Highlight Table (Simple Heat Map) for Traffic Collisions in Los Angeles\n",
    "![](imgs/HeatMapHighlightMatrix.png)\n",
    "\n",
    "Illustration 1 presents a highlight table, which is a version of a heat map. This illustration documents the number of traffic collisions in Los Angeles at a particular day and time. The darker rectangles represent more traffic collisions. Unsurprisingly, there are more collisions Monday through Friday during Rush Hour.<sup>8</sup>"
   ]
  },
  {
   "cell_type": "markdown",
   "id": "180b26bd-99df-4806-9f58-2bb20756f0bd",
   "metadata": {},
   "source": [
    "Another type of heat map uses the size of a square or shape in a matrix to demonstrate values. This type of heat map is similar to the highlight table except instead of shading you use size. See Illustration 2 for an example of this type of heat map.\n",
    "\n",
    "### Illustration 2 Another Heat Map Example\n",
    "![](imgs/HeatMap2.png)\n",
    "\n",
    "Illustration 2 presents a heat map of the number of financial statement filings by month and industry. The larger boxes represent larger numbers and the smaller boxes represent smaller numbers. The heat map shows that for most industries, companies year ends fall in December (12), however there are some medium sized boxes at March (3), June (6) and September (9), meaning some companies choose different year end dates than the standard December 31 year end.<sup>9</sup> Sometimes people combine the highlight table and size heat map if there are multiple variables of interest, this results in different sized boxes that are also different colors. This type of heat map, however, is not as easy to digest. "
   ]
  },
  {
   "cell_type": "markdown",
   "id": "7b5ebaef-b56a-4054-b136-30b2c7df02b1",
   "metadata": {},
   "source": [
    "Other forms of heat maps do not use a matrix but instead use actual maps (discussed in location based maps later) or other visual backgrounds. See Illustration 3 for an example of a heat map that uses a visual background. \n",
    "\n",
    "### Illustration 3 Heat Map of Eye Tracking Software for Google Searches\n",
    "![](imgs/HeatMap3.jpg)\n",
    "\n",
    "Illustration 3 presents a heat map that plots eye tracking software. Specifically the visualization shows where most people look after searching on Google. The red areas are the most common areas and the blue and white areas are less common. This heat map is an example of using a visual as the background instead of a matrix.<sup>10</sup>"
   ]
  },
  {
   "cell_type": "markdown",
   "id": "8accbcdf-8e51-4fd8-9f18-650771f0387a",
   "metadata": {},
   "source": [
    "### When to Use a Heat Map"
   ]
  },
  {
   "cell_type": "markdown",
   "id": "b5de7429-ee9f-4cfe-a15f-c57dfc0136f2",
   "metadata": {},
   "source": [
    "A heat map is used for comparisons when you have more than one variable. Heat maps use two variables as the plot (like an x and y axis) and one variable as the values (e.g., the darkness of the shading or size of the square in the above examples). Heat maps make it easier to compare various points in the plot. "
   ]
  },
  {
   "cell_type": "markdown",
   "id": "9b9f1403-0ced-40ae-b0b4-13950ebca9d6",
   "metadata": {},
   "source": [
    "## Creating a Heat Map in Tableau"
   ]
  },
  {
   "cell_type": "markdown",
   "id": "6c245284-b006-4083-ac98-d5f8c3e40d2b",
   "metadata": {},
   "source": [
    "Watch this video to learn about heat maps in Tableau:\n",
    "\n",
    "https://mediaspace.illinois.edu/media/t/1_p03z8s47"
   ]
  },
  {
   "cell_type": "markdown",
   "id": "376172e0-4e9e-49d7-aeb6-5b3bda9776dc",
   "metadata": {},
   "source": [
    "### References\n",
    "\n",
    "<sup>8</sup> https://www.kaggle.com/cityofLA/los-angeles-traffic-collision-data\n",
    "\n",
    "<sup>9</sup> Compustat\n",
    "\n",
    "<sup>10</sup> https://www.traveltripper.com/blog/eye-tracking-in-2017-for-google-hotel-searches-why-the-old-rules-dont-apply/"
   ]
  }
 ],
 "metadata": {
  "kernelspec": {
   "display_name": "Python 3 (ipykernel)",
   "language": "python",
   "name": "python3"
  },
  "language_info": {
   "codemirror_mode": {
    "name": "ipython",
    "version": 3
   },
   "file_extension": ".py",
   "mimetype": "text/x-python",
   "name": "python",
   "nbconvert_exporter": "python",
   "pygments_lexer": "ipython3",
   "version": "3.9.7"
  }
 },
 "nbformat": 4,
 "nbformat_minor": 5
}
