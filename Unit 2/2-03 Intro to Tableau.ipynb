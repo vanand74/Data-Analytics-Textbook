{
 "cells": [
  {
   "cell_type": "markdown",
   "id": "275b41cb-f152-4696-9052-c20928f78634",
   "metadata": {},
   "source": [
    "# Creating Visualizations with Tableau"
   ]
  },
  {
   "cell_type": "markdown",
   "id": "f73fb633-e901-40c0-8319-c842d0621289",
   "metadata": {},
   "source": [
    "Tableau is commercial (i.e., you must pay for it) software that helps you to easily create professional looking visualizations. Although Tableau allows you to create visualizations with the click of a button, this ease of use comes with a huge drawback. _It is so easy to click and drag variables, that if you do not understand exactly what you want your end product to be, it is easy to end up with a visualization that is not very useful or even worse completely wrong!_\n",
    "\n",
    "This drawback is why the unit is structured to teach you how to create the detailed parts of each visualization in Python before jumping into a software designed for visualization. With the knowledge you gained from creating visualizations from scratch, you will now be a much more powerful user of Tableau, which will be incredibly useful in the workplace. \n",
    "\n",
    "When you are ready to create a visualization, you should first make a guess about how the visualization will appear. In other words, you should have an expectation before you create a graph. After you create the graph, it should not surprise you. If it does, then you should check whether you created the graph correctly. If you just create a visualization without thinking first, your resulting graph is likely to be wrong.\n",
    "\n",
    "This section will cover how to create each of the eight visualization types discussed earlier in the unit. The next section introduces you to some basic aspects of Tableau, so if you are familiar with Tableau, you can skip ahead to the following section."
   ]
  },
  {
   "cell_type": "markdown",
   "id": "b81fe51a-b82d-4cbb-b5bb-62a073f46917",
   "metadata": {},
   "source": [
    "## Tableau Basics"
   ]
  },
  {
   "cell_type": "markdown",
   "id": "44bf692f-a19a-4257-a32e-82c127d85b15",
   "metadata": {},
   "source": [
    "### Initial Screen"
   ]
  },
  {
   "cell_type": "markdown",
   "id": "eeca190f-895d-4420-b671-c6d0565d5cdb",
   "metadata": {},
   "source": [
    "Once you have downloaded Tableau (instructions are on Canvas), and opened up the application, you should see the following screen. Note that if you have worked in Tableau previously, you may see prior projects under the \"Open\" header."
   ]
  },
  {
   "cell_type": "markdown",
   "id": "6d2df9c1-d4a2-475f-8853-cdbf9f53facd",
   "metadata": {},
   "source": [
    "![](imgs/FirstScreen.png)"
   ]
  },
  {
   "cell_type": "markdown",
   "id": "03a8d13f-7106-49ca-be54-81069bf96a33",
   "metadata": {},
   "source": [
    "### Importing Data"
   ]
  },
  {
   "cell_type": "markdown",
   "id": "3631304c-9fc2-4e05-9805-0a3d7de59b9d",
   "metadata": {},
   "source": [
    "Tableau is software that allows you to work with data and create visualizations. Therefore, in order to begin using Tableau, you will need to connect Tableau to a file with data. On the top left hand side of the initial screen you can see the word \"Connect\". \n",
    "\n",
    "Below the word \"Connect\" there are several file types that Tableau can use. Based on the data file you are using, you can click the appropriate file type under the \"Connect\" header. Once you select the file type, you can navigate to the file and select the exact data file you wish to use. \n",
    "\n",
    "Tableau will import the file you selected. The next screen you will see is the Data Source tab (see screenshot below). At the bottom left of this screen you can see the tab title \"Data Source\". This screen allows you to check whether your data imported correctly. The name of your file will be listed under \"Connections\" at the top left, and the data will be displayed on the lower half of the screen. You can see how many variables were imported (in the example below there are three variables: Company, Revenue(in millions), and Profit). You can also scroll through the rows to spot check that the data imported correctly. \n",
    "\n",
    "After you have visually checked your data, you can move to a Tableau worksheet by selecting the \"Sheet 1\" tab at the bottom left."
   ]
  },
  {
   "cell_type": "markdown",
   "id": "a7364b86-f82b-480d-bba3-4492211a1985",
   "metadata": {},
   "source": [
    "![](imgs/DataSource.png)"
   ]
  },
  {
   "cell_type": "markdown",
   "id": "867ff8fe-0ba1-43d5-9619-c2f1e2d08bb2",
   "metadata": {},
   "source": [
    "### Tableau Worksheets"
   ]
  },
  {
   "cell_type": "markdown",
   "id": "2964599c-0b1a-45d3-acd1-b5742d013c0f",
   "metadata": {},
   "source": [
    "Tableau worksheets are where visualizations are created. In this class, when creating visualizations, we will spend most of our time in Tableau worksheets. A blank worksheet looks like the below screenshot. Let's talk about the various characteristics you will see in the worksheet. \n",
    "\n",
    "The actual visualization is presented in the white rectangle where you see the title \"Sheet 1\". Everything else around that rectangle is used to create the visualization. "
   ]
  },
  {
   "cell_type": "markdown",
   "id": "624a0d1e-98e7-4666-aff6-1dda7cc2d014",
   "metadata": {},
   "source": [
    "![](imgs/BlankWorksheet.png)"
   ]
  },
  {
   "cell_type": "markdown",
   "id": "d2d978aa-acee-4956-bf97-4580f1c96cf0",
   "metadata": {},
   "source": [
    "### Data Characteristics"
   ]
  },
  {
   "cell_type": "markdown",
   "id": "cd32f895-872c-41bc-9e7a-567578b66dc1",
   "metadata": {},
   "source": [
    "Let's talk about the data tab on the left hand side of the worksheet, outlined in red on the left below:\n",
    "\n",
    "![](imgs/DataTab.png)"
   ]
  },
  {
   "cell_type": "markdown",
   "id": "d16e948d-b1f4-4287-a770-40cb7e95f696",
   "metadata": {},
   "source": [
    "#### Dimensions vs. Measures"
   ]
  },
  {
   "cell_type": "markdown",
   "id": "6e7f16c1-5c8b-4061-9750-885324de51ac",
   "metadata": {},
   "source": [
    "Tableau takes your variables and categorizes them as either dimensions or measures. \n",
    "\n",
    "Dimensions are qualitative values. Dimensions can be used to split up your data into things like categories. Examples of dimensions are customers, item numbers, identification numbers, countries, and names.\n",
    "\n",
    "Measures are quantitiative values. Measures have numeric data and each number represents its value. Measures can be aggregated. That is, you can obtain the sum of a measure. \n",
    "\n",
    "Tableau sometimes confuses measures and dimensions. For example, item numbers or identification numbers will sometimes be imported as measures, even though they are dimensions. Tableau does this because it sees numerical data and interprets this as quantitative values that can be summed, but with item numbers the numerical values cannot be aggregated. \n",
    "\n",
    "You can convert between dimensions and measures by right clicking on the variable and choosing \"convert to dimension\" or \"convert to measure\" whichever you intend to convert the variable to. You can also click on a variable and drag it from one category to the other. \n",
    "\n",
    "Depending on which version of Tableau you have downloaded on your computer, your data tab might look slightly different. Older versions of Tableau separate dimensions and measures more clearly. In the image above dimensions and measures are separated by a grey line. In the image, Dimensions are above the grey line (Company and Measure Names), and Measures are below the grey line (Profit, Revenue (in millions), Sheet1 (Count), Measure Values). If you convert a dimension to a measure or a measure to a dimension the item will move to the other side of the grey line. "
   ]
  },
  {
   "cell_type": "markdown",
   "id": "3de14bbc-7b23-43e2-9623-bf57c2e90cc8",
   "metadata": {},
   "source": [
    "#### Green vs. Blue Items"
   ]
  },
  {
   "cell_type": "markdown",
   "id": "5c6c10ab-d44f-427e-aa14-e1d8ac3a585e",
   "metadata": {},
   "source": [
    "Though it is hard to see in the screenshot above, each variable is either green or blue. The color indicates whether the variable is discrete or continuous. Blue indicates a discrete field and green indicates a continuous field. Tableau treats continuous and discrete fields differently. For example, when you use a discrete field as a row or a column, each unique data item in the field is listed as the columns or rows, so you see the name of each data item. When you use a continuous field as a row or a column, an axis is displayed from the lowest amounts to the highest amounts in your data. \n",
    "\n",
    "Most of the time Tableau correctly assigns your variables as either discrete or continuous; however if your data is not doing what you intend it to do, this would be something to check for. Similar to above, one common example of when Tableau mixes up the discrete and continuous variables is when it is dealing with numerical ID numbers like SKUs, item numbers, or any numerical representation of an individual person/item. Because numerical ID numbers seem like they can be aggregated and added together, Tableau assigns this as continuous. However, item number 27184 is not greater than item number 302, and you cannot aggregate the item numbers to be anything meaningful. Therefore these are actually discrete variables. \n",
    "\n",
    "You can convert between discrete and continuous variables by right clicking on the variable and choosing \"convert to discrete\" or \"convert to continuous\" whichever you intend to convert the variable to. "
   ]
  },
  {
   "cell_type": "markdown",
   "id": "c8ce1bcb-3958-4271-8ea1-503c06cf2c2b",
   "metadata": {},
   "source": [
    "### Making Visualizations"
   ]
  },
  {
   "cell_type": "markdown",
   "id": "e23669c3-09e4-4446-9e8b-54015607301c",
   "metadata": {},
   "source": [
    "The exact steps for making a visualization depend on how your data is organized. The first step is to make sure your variables are correctly imported into Tableau (use the Data Source tab), and the second step is to have an idea in mind for what you want the visualization to look like. Tableau is useful software, but it can create visualizations that look different than you intend; therefore, having a visualization in mind ahead of time is important for ensuring you obtain the appropriate visualization. Once you're ready to create the visualization you use Sheets to design your visualization.\n",
    "\n",
    "To assign a variable to a row or column you can drag the variable from the data section on the left to the columns or rows section on the top of the sheet (see videos in the other unit 2 course notes for demonstrations). Selecting the visualization you want can be done in a number of ways. Using the Show Me tab at the top right will quickly create various types of visualizations. Sometimes this is not available, so you need to create the visualization using the Marks box next to the data section.\n",
    "\n",
    "In the Marks box, you can use drop downs to select between bar, pie, line, etc. The other boxes for color, size, label, etc. are used to modify and customize your visualization. \n",
    "\n",
    "Videos creating the eight visualizations we discussed in the earlier unit are provided in the other notebooks in this unit."
   ]
  }
 ],
 "metadata": {
  "kernelspec": {
   "display_name": "Python 3 (ipykernel)",
   "language": "python",
   "name": "python3"
  },
  "language_info": {
   "codemirror_mode": {
    "name": "ipython",
    "version": 3
   },
   "file_extension": ".py",
   "mimetype": "text/x-python",
   "name": "python",
   "nbconvert_exporter": "python",
   "pygments_lexer": "ipython3",
   "version": "3.9.7"
  }
 },
 "nbformat": 4,
 "nbformat_minor": 5
}
