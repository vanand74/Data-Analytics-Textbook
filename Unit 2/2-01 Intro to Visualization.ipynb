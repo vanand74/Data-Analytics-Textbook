{
 "cells": [
  {
   "cell_type": "markdown",
   "id": "f56b6940-49c4-4eaf-950f-16320f3ef677",
   "metadata": {},
   "source": [
    "# Introduction to Visualizations"
   ]
  },
  {
   "cell_type": "markdown",
   "id": "6730a2b4-04dc-472f-9f7e-d3b0dd48c55d",
   "metadata": {},
   "source": [
    "## Overview"
   ]
  },
  {
   "cell_type": "markdown",
   "id": "b7e38ff7-6ae8-4fa4-b993-1459f64c4932",
   "metadata": {},
   "source": [
    "Now that you understand some basic Python coding, we can show you the real power of data analytics. The goal of data analytics is to extract meaningful information from large amounts of data. One way to present the insights found in data analytics is through visualization. Visualization is just a fancy word for representing your data in a visual format through graphs, charts, pictures, etc. While analyzing data is important, the goal of data analytics is to answer questions and provide information to another party. Visualizations help convey the important information in an easily digestible format. \n",
    "\n",
    "Let's say you have an investment account and you invest in a variety of different types of stocks. You would like to understand the composition of your investment portfolio. To do this, you can present the allocation of your investment portfolio in a variety of ways. Below we present the same information twice. Which presentation of the data more easily allows you to understand the composition of your portfolio?"
   ]
  },
  {
   "cell_type": "markdown",
   "id": "63fcda91-f718-4d74-b08d-1fbb1811139c",
   "metadata": {},
   "source": [
    "### Illustration 1: Presentation of Data in a Table\n",
    "\n",
    "![](imgs/InvestAllocTable.png)         \n",
    "\n",
    "### Illustration 2: Presentation of Data in a Pie Chart\n",
    "\n",
    "![](imgs/InvestAllocPieChart.png)         "
   ]
  },
  {
   "cell_type": "markdown",
   "id": "e2e75285-fd1e-4be6-a480-d2d0246f17a4",
   "metadata": {},
   "source": [
    "Although both the table and the pie chart present the same information, the pie chart allows the reader to quickly grasp the composition of your investment portfolio. This example illustrates the purpose of this unit: to demonstrate the power of visualization and show you how to create appropriate visualizations for your business problem. By the end of this unit you should be able to choose the most appropriate visualization for the question you are trying to answer with your data. \n",
    "\n",
    "The rest of this unit introduces you to common visualizations, provides you with guidance about when to choose which visualization, and walks you through creating these visualizations in Python using a package called Bokeh. At the end of the unit we will switch gears and create visualizations using Tableau, a software package that specializes in visualizations."
   ]
  },
  {
   "cell_type": "markdown",
   "id": "b19f7abf-0522-4ca1-8b88-bb545980b34b",
   "metadata": {},
   "source": [
    "## Types of Visualizations"
   ]
  },
  {
   "cell_type": "markdown",
   "id": "d49d7457-ca6d-4af1-a793-e8abf6a1c6a0",
   "metadata": {},
   "source": [
    "There are MANY types of visualization and we could spend weeks talking about all of the possible visualizations you can create. However, in this class we will focus on the following eight visualizations:\n",
    "\n",
    "<ol>\n",
    "    <li>Bar Chart</li>\n",
    "    <li>Histogram</li>\n",
    "    <li>Box Plot</li>\n",
    "    <li>Scatter Plot</li>\n",
    "    <li>Line Chart</li>\n",
    "    <li>Pie Chart</li>\n",
    "    <li>Heat Map</li>\n",
    "    <li>Location Based Map</li>\n",
    "</ol>\n",
    "   \n",
    "This is not to say that other visualizations are not important or useful. We just believe that for most of the questions you will see in the real world, and for all of the questions you will face in this class, you will generally use one of the above eight visualizations. "
   ]
  },
  {
   "cell_type": "markdown",
   "id": "ca37679d-c3c5-4350-8f16-d24039d40f97",
   "metadata": {},
   "source": [
    "## Choosing the Best Visualization for Your Question"
   ]
  },
  {
   "cell_type": "markdown",
   "id": "fc0b4c37-7509-47ed-b0a3-bc013ae903d8",
   "metadata": {},
   "source": [
    "Choosing the best visualization is completely dependent on the question you are trying to answer and the variables you have to answer that question. There are two kinds of questions you should ask. The first and most important question you should answer is \"_what is the purpose of my visualization?_\" The first set of questions presented here will help you pick a visualization based on this important question. After you have gone through these questions you will probably have narrowed down the possible visualizations. Other important questions relate to the data you have available. Some visualizations require certain types of data. Therefore the second set of questions relates to the data available and what visualizations are possible with your data constraints. "
   ]
  },
  {
   "cell_type": "markdown",
   "id": "0cd113a9-ca25-48a9-9f51-791d13de510b",
   "metadata": {},
   "source": [
    "### Questions to help you answer \"What is the purpose of my visualization?\" and to help you pick a visualization"
   ]
  },
  {
   "cell_type": "markdown",
   "id": "42a00e8e-44a9-423e-a524-888872720f65",
   "metadata": {},
   "source": [
    "This list of questions is not exhaustive when trying to pinpoint the best visualization, but it should help you start to critically think about the purpose of your visualization and what visualizations might fit best with this purpose.\n",
    "\n",
    "<ol>\n",
    "    <li>Do I want to understand the composition of the data?</li>\n",
    "    <ul>\n",
    "        <li>If yes, how many variables are you trying to understand?</li>\n",
    "        <ul>\n",
    "            <li>One Variable - Pie Charts are useful in understanding how the data is split up for a single variable (e.g., of your total expenses, what proportion fall into COGS, what proportion fall into SG&A, etc.)</li>\n",
    "            <li>Two Variables - Heat Maps are useful in understanding how your data is split up across two variables (e.g., of all your expenses, what proportion fall into COGS for Unit A of the company, what proportion fall into COGS for Unit B of the company, what proportion fall into SG&A for unit A of the company, what proportion fall into SG&A for Unit B of the company, etc.)</li>\n",
    "        </ul>\n",
    "    </ul><br>\n",
    "    <li>Do I want to understand the distribution or shape of my data?</li>\n",
    "    <ul>\n",
    "        <li>If yes, what characteristics about the distribution am I interested in?</li>\n",
    "        <ul>\n",
    "            <li>Am I interested in outliers? If yes, Box Plots may be useful in identifying outliers for a single variable, and Scatter Plots can help when you have two variables.</li>\n",
    "            <li>Am I interested in whether the data is symmetrical or skewed? If yes, Histograms or Box Plots may help with this.</li>\n",
    "            <li>Am I interested in whether my data follow a certain distribution pattern (e.g., normal distribution, uniform distribution)? If yes, Histograms will help with this.</li>\n",
    "            <li>Do I want to know the min, max, median, 25th percentile, 75 percentile, or understanding the quartiles of the data? If yes, Box Plots may help with this.\n",
    "            <li>Do I want to know if the data is concentrated around a particular number? If it is a single number, both Box Plots and Histograms are useful, however if it is multiple numbers, then a Histogram will be most useful. Scatter Plots can help with this a little bit if you have more than one variable.</li>\n",
    "        </ul>\n",
    "    </ul><br>\n",
    "    <li>Am I trying to make comparisons across variables?</li>\n",
    "    <ul>\n",
    "        <li>If yes, what kind of comparison am I making?</li>\n",
    "        <ul>\n",
    "            <li>Comparing across locations? Location Based Map is useful.</li>\n",
    "            <li>Comparing size? Bar Charts if there is one variable, Heat Maps and Bar Charts if there are multiple variables.</li>\n",
    "            <li>Comparing proportions? Pie Charts are most useful.</li>\n",
    "            <li>Comparing distribution characteristics? Multiple Box Plots help with this, and sometimes multiple Histograms.</li>\n",
    "            <li>Comparing changes in variables across an interval like time? Line Charts are useful for this question.\n",
    "        </ul>\n",
    "    </ul><br>\n",
    "    <li>Am I trying to understand a relationship or correlation between two variables? In other words am I interested in how the change in one variable impacts the change in another variable?</li>\n",
    "    <ul>\n",
    "        <li>If yes, then a scatter plot is the most useful.</li>\n",
    "    </ul><br>\n",
    "    <li>Do I want to understand how a variable changes over time?</li>\n",
    "    <ul>\n",
    "        <li>If yes, Line Charts are most useful for this question.</li>\n",
    "    </ul>\n",
    "</ol>"
   ]
  },
  {
   "cell_type": "markdown",
   "id": "6b95d5b2-edab-4eec-82b0-b4898d6c4b12",
   "metadata": {},
   "source": [
    "### Questions to understand the constraints of your data in picking a visualization"
   ]
  },
  {
   "cell_type": "markdown",
   "id": "ba243568-521d-4743-aaa0-3a6946dc31ed",
   "metadata": {},
   "source": [
    "<ol>\n",
    "    <li> Is my data continuous/discrete or categorical?</li>\n",
    "    <ul>\n",
    "        <li>Visualizations that use Continuous Data (or Discrete Data):</li>\n",
    "        <ul>\n",
    "            <li>Histogram</li>\n",
    "            <li>Box Plot</li>\n",
    "            <li>Line Chart</li>\n",
    "            <li>Scatter Plot</li>\n",
    "            <li>Heat Map</li>\n",
    "            <li>Location Based Map</li>\n",
    "        </ul>\n",
    "        <li>Visualizations that use Categorical Data:</li>\n",
    "        <ul>\n",
    "            <li>Bar Chart</li>\n",
    "            <li>Pie Chart</li>\n",
    "            <li>Heat Map</li>\n",
    "            <li>Location Based Map</li>\n",
    "            <li>Box Plots if you have more than one box and whiskers</li>\n",
    "            <li>Line Chart if you have more than one line</li>\n",
    "        </ul>\n",
    "    </ul><br>\n",
    "    <li>How many variables do I want to examine?</li>\n",
    "    <ul>\n",
    "        <li>Visualizations that can be used to examine one variable:</li>\n",
    "        <ul>\n",
    "            <li>Pie Chart</li>\n",
    "            <li>Box Plot</li>\n",
    "            <li>Histogram</li>\n",
    "        </ul>\n",
    "        <li>Visualizations that can be used to examine more than one variable:</li>\n",
    "        <ul>    \n",
    "            <li>Bar Chart</li>\n",
    "            <li>Scatter Plot</li>\n",
    "            <li>Box Plots</li>\n",
    "            <li>Heat Map</li>\n",
    "            <li>Location Based Map</li>\n",
    "            <li>Line Graph</li>\n",
    "        </ul>\n",
    "    </ul><br>\n",
    "    <li>Is one of your variables of interest time? Line Charts are probably most useful.</li><br>\n",
    "    <li>Is one of your variables of interest location? Location Based Maps can be used.</li>\n",
    "</ol>"
   ]
  },
  {
   "cell_type": "markdown",
   "id": "da4ff05c-4b3a-4967-ac29-8bb31a89bf5a",
   "metadata": {},
   "source": [
    "## Conclusion"
   ]
  },
  {
   "cell_type": "markdown",
   "id": "84001dec-c55d-4a80-a01e-cba0259121af",
   "metadata": {},
   "source": [
    "After you learn how to make visualizations you can impress all of your friends, see...\n",
    "\n",
    "![](imgs/himymViz.jpg)"
   ]
  }
 ],
 "metadata": {
  "kernelspec": {
   "display_name": "Python 3 (ipykernel)",
   "language": "python",
   "name": "python3"
  },
  "language_info": {
   "codemirror_mode": {
    "name": "ipython",
    "version": 3
   },
   "file_extension": ".py",
   "mimetype": "text/x-python",
   "name": "python",
   "nbconvert_exporter": "python",
   "pygments_lexer": "ipython3",
   "version": "3.11.9"
  }
 },
 "nbformat": 4,
 "nbformat_minor": 5
}
