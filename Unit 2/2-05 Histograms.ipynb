{
 "cells": [
  {
   "cell_type": "markdown",
   "id": "fe9c9a9d-7688-4b0a-92ce-3d74ed929d73",
   "metadata": {},
   "source": [
    "# Histograms"
   ]
  },
  {
   "cell_type": "markdown",
   "id": "c8bc6fda-95a4-40ca-a99c-45a17d7eb828",
   "metadata": {},
   "source": [
    "## What is a Histogram?"
   ]
  },
  {
   "cell_type": "markdown",
   "id": "abcab7ce-00fe-41d4-a8b9-b28c136c103c",
   "metadata": {},
   "source": [
    "Histograms and bar charts may appear similar but are actually quite different. These two graph types show  different information and are used to answer different questions. Bar charts show differences across categories, typically for a small number of categories. For example, above we showed you a bar chart with the revenues of 10 different companies and one bar per company. What if you wanted a graph that shows the revenue of _every_ publicly traded company in the U.S.? You could make a graph with thousands of bars but that would be very difficult to draw and even more difficult to view. To eliminate this problem, a histogram groups the data into \"bins\". In each bin, the histogram counts the number of companies whose revenue is in the bin. Thus, instead of the categories used in a bar chart, a histogram places the numerical data into bins based on whether each number falls within a particular range.\n",
    "\n",
    "Bins can be any size, and choosing the right bin size can take some trial and error. For example, we might have a bin for companies with revenues of \\$0 - \\$5 million, another bin for \\$5 to \\$10 million, and so on.  Alternatively, each bin could have a width of \\$10 million, so the bins would be \\$0 - \\$10 million, another bin for \\$10 to \\$20 million, and so on. Typically, the bins have equal widths. After the bin size is chosen, the data are then placed into the bins and the histogram counts the number of times a data point falls into the bin. \n",
    "\n",
    "Histograms can handle discrete and continuous data. Discrete data is data that can take on a fixed number of values (e.g. integers or counts), such as:\n",
    "+ `[1, 13, 15, 17, 1, 2, 1, 13, 10, 2, 11, 6, 19, 12, 5, 6, 1, 18, 12, 3, 4, 15, 1, 10, 10, 16, 15, 2, 13, 3, 11, 6, 11, 8, 12, 9, 15, 2, 4, 16, 5, 9, 9, 12, 13, 7, 4, 17, 4, 18, 6, 17, 2, 7, 8, 8, 15, 11, 6, 3, 2]` \n",
    "\n",
    "Continouous data is numerical data that can be any value (i.e., these values include decimals). Here's an example:\n",
    "+ `[1.572, 2, 10.516, 11.6, 3.156, 15.702, 3.02, 6.231, 19.3, 8.34, 14.37, 11.157, 9, 4.702, 10.352, 6.32, 14.98, 7.89, 3.25, 16.93, 17.231, 4.2, 4.73, 13, 12.1, 4.11, 2.864, 5, 14, 8, 7.421, 18.2, 7.314, 10.51, 11.1, 6.4, 4.89, 9.1, 13.26, 10.572, 3.6, 6.31, 5.36]`\n",
    "\n",
    "\n",
    "\n",
    "Let's see an example of a histogram using the discrete data from above with a bin size of 2. A histogram uses bars to display how many of these numbers fall in each bin. The first bar of the histogram would show how many of these numbers fall in the first bin [0-2) (i.e., are 0 or 1), the second bar of the histogram would show how many of these numbers fall in the second bin [2-4) (i.e., are 2 or 3), the third bar would show how many of these numbers fall into the third bin [4-6) (i.e., are 4 or 5), and so on. See the histogram for the discrete data in Illustration 1. \n",
    "\n",
    "### Illustration 1: Example Histogram (in Bokeh)\n",
    "     \n",
    "![](imgs/Hist1_new.png)  \n",
    "Illustration 1 presents the histogram of the discrete data listed above using 10 bins (bin size of 2). This histogram was created using the Python package Bokeh. Each bar represents the number of times a data point from the discrete data falls into the respective bin. For example, there are five instances of the numbers 0 or 1 and nine instances of the numbers 2 or 3.\n",
    "\n",
    "To see this, we sorted the data in the list:  \n",
    "+ `[1, 1, 1, 1, 1, 2, 2, 2, 2, 2, 2, 3, 3, 3, 4, 4, 4, 4, 5, 5, 6, 6, 6, 6, 6, 7, 7, 8, 8, 8, 9, 9, 9, 10, 10, 10, 11, 11, 11, 11, 12, 12, 12, 12, 13, 13, 13, 13, 15, 15, 15, 15, 15, 16, 16, 17, 17, 17, 18, 18, 19]`\n",
    "\n",
    "In sum, histograms look very similar to bar charts, but each bar in a histogram represents a bin (number range) instead of a category and the height of the bar is a count of the number of data points that fall into the bin range.\n",
    "\n",
    "### Illustration 2: Example Histogram (in Tableau)\n",
    "![](imgs/HistTableau.png)\n",
    "\n",
    "Illustration 2 presents a histogram of the 75th percentile SAT Math scores for each university in the United States. This histogram was created using the visualization software Tableau. You will note that most schools 75th percentile SAT math scores fall bewteen 530 and 640. As the scores get lower or higher there are fewer schools represented, which makes sense as fewer schools are likely to accept very low scores and fewer schools are likely to have the majority of their admitted students with extremely high scores.<sup>3</sup> "
   ]
  },
  {
   "cell_type": "markdown",
   "id": "6c12075d-4ef2-49c6-9566-396de4d4819a",
   "metadata": {},
   "source": [
    "### When to Use a Histogram"
   ]
  },
  {
   "cell_type": "markdown",
   "id": "a8e307df-2668-4b14-bb8b-ece44e11a92d",
   "metadata": {},
   "source": [
    "Histograms are useful when trying to understand the composition or distribution of your data. For example, you may want to know around which numbers your data are concentrated. In a histogram you might see one hump, which tells you most of your data falls around one area, or you might see multiple humps in the histogram, which tells you that your data is concentrated around several numbers. Histograms also provide information on whether your data is centered or skewed in one direction. "
   ]
  },
  {
   "cell_type": "markdown",
   "id": "69a3b6fb-9b18-4019-859d-01179d58e752",
   "metadata": {},
   "source": [
    "## Histograms in Bokeh"
   ]
  },
  {
   "cell_type": "markdown",
   "id": "1a92b2c9-5112-4f88-9d0b-202c00f334b7",
   "metadata": {},
   "source": [
    "### Review of Histograms"
   ]
  },
  {
   "cell_type": "markdown",
   "id": "5d7cc17f-3920-4693-a1f1-aa2206e31735",
   "metadata": {},
   "source": [
    "Remember that a histogram shows the distribution of a single variable. It takes all data values for that variable and groups them into bins. The histogram then shows one bar per bin. The x-location of the bar is the range of the bin, and the height of the bar is the number of data values that fall into that bin.\n",
    "\n",
    "As an example, consider the following histogram. It shows the income before extraordinary items of all publicly traded companies in 2018.\n",
    "\n",
    "![alt text](imgs/IB2018.png)"
   ]
  },
  {
   "cell_type": "markdown",
   "id": "b901469c-a58d-49fe-9a88-4ce39cd002af",
   "metadata": {},
   "source": [
    "Let's look at the histogram and its shape. We can learn a lot from the shape. In the histogram above, we see that the most common values of income are near zero! And in 2018, more companies had slightly negative income than slightly positive income. We also see a long \"tail\" on the right. That means that a very small number of companies reported very high incomes.\n",
    "\n",
    "Each bar of the histogram represents one bin. In this case, each bin spans \\$40 million dollars. You can tell that by looking at the width of each bar relative to the x-axis. For example, let's look at the bar that is just to the right of 0. The width of that bar is 40, indicating that the bin spans the values \\$0 to \\$40 million. The height of that bar is approximately 1,400. That means that approximately 1,400 companies had income between \\$0 and \\$40 million. Now take a look at the bar just to the right of 1,000. Its height is approximately 20. That means that only 20 companies had an income between \\$1,000 and \\$1,040. "
   ]
  },
  {
   "cell_type": "markdown",
   "id": "9725b386-bc33-466f-8988-cab529e7d7be",
   "metadata": {},
   "source": [
    "### How to Create a Histogram"
   ]
  },
  {
   "cell_type": "markdown",
   "id": "e1453ae5-8d92-4726-a08a-d351e3bab3a3",
   "metadata": {},
   "source": [
    "#### Pseudo-Code for Creating a Histogram"
   ]
  },
  {
   "cell_type": "markdown",
   "id": "d35fb4fc-9be5-4587-ad8e-fa727cdfe48b",
   "metadata": {},
   "source": [
    "It's time for you to learn how to create a histogram. Let's begin with the pseudo-code. Say you have a list of data values stored in the variable `mydata`. Starting with that list, here are the steps for creating a histogram:\n",
    "1. Decide how many bins you want. Store this value in the variable _numbins_.\n",
    "    - Sometimes, there is an obvious choice for the number of bins.\n",
    "    - More often, you need to experiment with the number of bins.\n",
    "2. Create the variable _binwidth_ to store the width of each bin.\n",
    "    - For continuous data, first compute the minimum and maximum value in _mydata_. Store these in the variables _minval_ and _maxval_. Then compute bin width as ((_maxval_ - _minval_) / _numbins_).\n",
    "    - For discrete data, the choice of _binwidth_ is a style choice.\n",
    "3. Create a new list called _edges_. It will have (numbins + 1) elements. This list contains the \"edges\" of each bin.\n",
    "    - The first element will be _minval_. \n",
    "    - The next element will be (_minval_ + _binwidth_). \n",
    "    - The next element will be (_minval_ + 2*_binwidth_). \n",
    "    - ...\n",
    "    - The last element will be _maxval_.\n",
    "4. Create a new list called _counts_. Its length should be _numbins_ and initially all elements should be zero.\n",
    "5. For each value _x_ in _mydata_;\n",
    "    - Determine the bin to which _x_ belongs.\n",
    "    - Add 1 to the value in _counts_ corresponding to this bin.\n",
    "6. Create a plot in Bokeh. \n",
    "     - Draw one bar per bin.\n",
    "     - The x-location of the bar spans two edges.\n",
    "     - The height of the bar is the number of observations in the corresponding bin."
   ]
  },
  {
   "cell_type": "markdown",
   "id": "615bb8b3-a366-4951-ba03-4ee53260c5f7",
   "metadata": {},
   "source": [
    "#### Sample Histogram: Dice Rolls"
   ]
  },
  {
   "cell_type": "markdown",
   "id": "55031322-d326-4574-bcea-9d004ac5e535",
   "metadata": {},
   "source": [
    "In this example, we are going to simulate the act of rolling a single 6-sided die. Just to be clear, when we say a 6-sided die, we mean something like this:\n",
    "\n",
    "![6-sided die](imgs/Dice.jpg)"
   ]
  },
  {
   "cell_type": "markdown",
   "id": "c18a6cf5-6169-4cb3-90d3-04ac570a9e7a",
   "metadata": {},
   "source": [
    "##### Generating our data"
   ]
  },
  {
   "cell_type": "markdown",
   "id": "8a7fe1ea-ef52-4cad-a4ed-710f525d87e4",
   "metadata": {},
   "source": [
    "First, let's generate some data. The possible outcomes of a single die roll are 1, 2, 3, 4, 5, and 6. We can simulate this with a random number generator.\n",
    "\n",
    "Run the following code. It will create a list called `mydata` that contains the outcomes of 20 rolls of a single die."
   ]
  },
  {
   "cell_type": "code",
   "execution_count": 1,
   "id": "cbe2bcbe-024f-47a5-bd92-78a6c0b4624a",
   "metadata": {},
   "outputs": [
    {
     "data": {
      "text/plain": [
       "[3, 1, 2, 4, 1, 1, 1, 6, 6, 4, 3, 4, 2, 2, 3, 6, 1, 5, 5, 6]"
      ]
     },
     "execution_count": 1,
     "metadata": {},
     "output_type": "execute_result"
    }
   ],
   "source": [
    "import numpy as np\n",
    "np.random.seed(3)\n",
    "\n",
    "NUM_ROLLS = 20\n",
    "\n",
    "mydata = np.random.randint(1, 7, NUM_ROLLS).tolist()\n",
    "mydata"
   ]
  },
  {
   "cell_type": "markdown",
   "id": "032e7446-46fd-4b77-ace5-127fe840f5eb",
   "metadata": {},
   "source": [
    "##### Choose number of bins"
   ]
  },
  {
   "cell_type": "markdown",
   "id": "d3ceb6cf-f8c9-473a-9040-954f4c07ade4",
   "metadata": {},
   "source": [
    "Since there are six possible outcomes, it makes sense to have exactly six bins. Therefore, run the following code cell."
   ]
  },
  {
   "cell_type": "code",
   "execution_count": 2,
   "id": "07458521-877b-4160-8cd3-343586a281b7",
   "metadata": {},
   "outputs": [],
   "source": [
    "numbins = 6"
   ]
  },
  {
   "cell_type": "markdown",
   "id": "91777f25-b972-4b26-9b31-4bc8a0db73fb",
   "metadata": {},
   "source": [
    "##### Choose bin width"
   ]
  },
  {
   "cell_type": "markdown",
   "id": "09bd7c03-aad5-44a8-b0c3-802c6230b08a",
   "metadata": {},
   "source": [
    "We have discrete data. The outcomes are 1 - 6, so let's set the bin width to 1. Run the following code cell."
   ]
  },
  {
   "cell_type": "code",
   "execution_count": 3,
   "id": "95fac71b-06ba-4346-b531-4ecb0dec3464",
   "metadata": {},
   "outputs": [],
   "source": [
    "binwidth = 1"
   ]
  },
  {
   "cell_type": "markdown",
   "id": "913b06a6-0aa4-4dfb-af0b-b333323707c8",
   "metadata": {},
   "source": [
    "##### Compute edges"
   ]
  },
  {
   "cell_type": "markdown",
   "id": "fa0c9859-5e35-44d7-aada-1e6d0d12f16f",
   "metadata": {},
   "source": [
    "The edges are the boundaries between bins. Since we have discrete data, let's center the bins on each outcome. That means that the bin for an outcome of 1 will span the range \\[0.5,1.5\\]. The bin for the outcome of 2 will span the range \\[1.5,2.5\\]. And so on. \n",
    "\n",
    "Run the following code cell."
   ]
  },
  {
   "cell_type": "code",
   "execution_count": 4,
   "id": "977bc8f1-070d-49ba-8fbc-00251ef260c5",
   "metadata": {},
   "outputs": [],
   "source": [
    "edges = [0.5, 1.5, 2.5, 3.5, 4.5, 5.5, 6.5]"
   ]
  },
  {
   "cell_type": "markdown",
   "id": "c55317e4-5dea-4476-b490-325bfc7e3e9a",
   "metadata": {},
   "source": [
    "Notice that we have 7 edges. If you have _n_ bins, you will always need _n+1_ edges."
   ]
  },
  {
   "cell_type": "markdown",
   "id": "2ccf967e-e50f-4fa7-b8ad-6df4bc01d810",
   "metadata": {},
   "source": [
    "##### Create a list `counts` to store the count in each bin"
   ]
  },
  {
   "cell_type": "code",
   "execution_count": 5,
   "id": "bb08e7e6-49ed-492f-af2b-fe79d97f7768",
   "metadata": {},
   "outputs": [
    {
     "data": {
      "text/plain": [
       "[0, 0, 0, 0, 0, 0]"
      ]
     },
     "execution_count": 5,
     "metadata": {},
     "output_type": "execute_result"
    }
   ],
   "source": [
    "counts = [0] * numbins\n",
    "counts"
   ]
  },
  {
   "cell_type": "markdown",
   "id": "209ac6a2-1da6-4687-8d56-6bbaa287d2fe",
   "metadata": {},
   "source": [
    "In the list `counts`, the first element corresponds to the number of 1's in the data. The second element corresponds to the number of 2's in the data. And so on."
   ]
  },
  {
   "cell_type": "markdown",
   "id": "1831ea36-6d98-4bae-95a9-7e9dba88cf6e",
   "metadata": {},
   "source": [
    "##### Count the number of outcomes in each bin"
   ]
  },
  {
   "cell_type": "markdown",
   "id": "ee25c779-8589-4563-9ee8-d1fb91e287ed",
   "metadata": {},
   "source": [
    "We need to iterate over the list `mydata`. Every time we see a 1, we need to update the count of the number of 1's. Every time we see a 2, we need to update the number of 2's. Etc.\n",
    "\n",
    "Run the following code, which updates the list `counts` based on the values in `mydata`."
   ]
  },
  {
   "cell_type": "code",
   "execution_count": 6,
   "id": "09b75a2d-0fb7-4810-bded-7bd8aa927c80",
   "metadata": {},
   "outputs": [
    {
     "data": {
      "text/plain": [
       "[5, 3, 3, 3, 2, 4]"
      ]
     },
     "execution_count": 6,
     "metadata": {},
     "output_type": "execute_result"
    }
   ],
   "source": [
    "for x in mydata:\n",
    "    counts[x-1] = counts[x-1] + 1\n",
    "    \n",
    "counts"
   ]
  },
  {
   "cell_type": "markdown",
   "id": "8e4fbdf0-a4cd-486a-9ba8-26d8823d4d78",
   "metadata": {},
   "source": [
    "The list `counts` now tells us that there are five 1's in the data, three 2's, three 3's, and so on."
   ]
  },
  {
   "cell_type": "markdown",
   "id": "8d915c7f-5986-40c5-8be8-d0f87c03e5be",
   "metadata": {},
   "source": [
    "##### Create the histogram using Bokeh"
   ]
  },
  {
   "cell_type": "markdown",
   "id": "2f100325-a5e5-4d4d-9047-4d26d528bcc5",
   "metadata": {},
   "source": [
    "Run the following code cell to create a histogram in Bokeh and then we'll discuss it."
   ]
  },
  {
   "cell_type": "code",
   "execution_count": 8,
   "id": "cc2239b0",
   "metadata": {},
   "outputs": [
    {
     "data": {
      "text/html": [
       "    <style>\n",
       "        .bk-notebook-logo {\n",
       "            display: block;\n",
       "            width: 20px;\n",
       "            height: 20px;\n",
       "            background-image: url(data:image/png;base64,iVBORw0KGgoAAAANSUhEUgAAABQAAAAUCAYAAACNiR0NAAAABHNCSVQICAgIfAhkiAAAAAlwSFlzAAALEgAACxIB0t1+/AAAABx0RVh0U29mdHdhcmUAQWRvYmUgRmlyZXdvcmtzIENTNui8sowAAAOkSURBVDiNjZRtaJVlGMd/1/08zzln5zjP1LWcU9N0NkN8m2CYjpgQYQXqSs0I84OLIC0hkEKoPtiH3gmKoiJDU7QpLgoLjLIQCpEsNJ1vqUOdO7ppbuec5+V+rj4ctwzd8IIbbi6u+8f1539dt3A78eXC7QizUF7gyV1fD1Yqg4JWz84yffhm0qkFqBogB9rM8tZdtwVsPUhWhGcFJngGeWrPzHm5oaMmkfEg1usvLFyc8jLRqDOMru7AyC8saQr7GG7f5fvDeH7Ej8CM66nIF+8yngt6HWaKh7k49Soy9nXurCi1o3qUbS3zWfrYeQDTB/Qj6kX6Ybhw4B+bOYoLKCC9H3Nu/leUTZ1JdRWkkn2ldcCamzrcf47KKXdAJllSlxAOkRgyHsGC/zRday5Qld9DyoM4/q/rUoy/CXh3jzOu3bHUVZeU+DEn8FInkPBFlu3+nW3Nw0mk6vCDiWg8CeJaxEwuHS3+z5RgY+YBR6V1Z1nxSOfoaPa4LASWxxdNp+VWTk7+4vzaou8v8PN+xo+KY2xsw6une2frhw05CTYOmQvsEhjhWjn0bmXPjpE1+kplmmkP3suftwTubK9Vq22qKmrBhpY4jvd5afdRA3wGjFAgcnTK2s4hY0/GPNIb0nErGMCRxWOOX64Z8RAC4oCXdklmEvcL8o0BfkNK4lUg9HTl+oPlQxdNo3Mg4Nv175e/1LDGzZen30MEjRUtmXSfiTVu1kK8W4txyV6BMKlbgk3lMwYCiusNy9fVfvvwMxv8Ynl6vxoByANLTWplvuj/nF9m2+PDtt1eiHPBr1oIfhCChQMBw6Aw0UulqTKZdfVvfG7VcfIqLG9bcldL/+pdWTLxLUy8Qq38heUIjh4XlzZxzQm19lLFlr8vdQ97rjZVOLf8nclzckbcD4wxXMidpX30sFd37Fv/GtwwhzhxGVAprjbg0gCAEeIgwCZyTV2Z1REEW8O4py0wsjeloKoMr6iCY6dP92H6Vw/oTyICIthibxjm/DfN9lVz8IqtqKYLUXfoKVMVQVVJOElGjrnnUt9T9wbgp8AyYKaGlqingHZU/uG2NTZSVqwHQTWkx9hxjkpWDaCg6Ckj5qebgBVbT3V3NNXMSiWSDdGV3hrtzla7J+duwPOToIg42ChPQOQjspnSlp1V+Gjdged7+8UN5CRAV7a5EdFNwCjEaBR27b3W890TE7g24NAP/mMDXRWrGoFPQI9ls/MWO2dWFAar/xcOIImbbpA3zgAAAABJRU5ErkJggg==);\n",
       "        }\n",
       "    </style>\n",
       "    <div>\n",
       "        <a href=\"https://bokeh.org\" target=\"_blank\" class=\"bk-notebook-logo\"></a>\n",
       "        <span id=\"be1b5e38-af05-424d-87a4-44ed46f69177\">Loading BokehJS ...</span>\n",
       "    </div>\n"
      ]
     },
     "metadata": {},
     "output_type": "display_data"
    },
    {
     "data": {
      "application/javascript": "'use strict';\n(function(root) {\n  function now() {\n    return new Date();\n  }\n\n  const force = true;\n\n  if (typeof root._bokeh_onload_callbacks === \"undefined\" || force === true) {\n    root._bokeh_onload_callbacks = [];\n    root._bokeh_is_loading = undefined;\n  }\n\nconst JS_MIME_TYPE = 'application/javascript';\n  const HTML_MIME_TYPE = 'text/html';\n  const EXEC_MIME_TYPE = 'application/vnd.bokehjs_exec.v0+json';\n  const CLASS_NAME = 'output_bokeh rendered_html';\n\n  /**\n   * Render data to the DOM node\n   */\n  function render(props, node) {\n    const script = document.createElement(\"script\");\n    node.appendChild(script);\n  }\n\n  /**\n   * Handle when an output is cleared or removed\n   */\n  function handleClearOutput(event, handle) {\n    function drop(id) {\n      const view = Bokeh.index.get_by_id(id)\n      if (view != null) {\n        view.model.document.clear()\n        Bokeh.index.delete(view)\n      }\n    }\n\n    const cell = handle.cell;\n\n    const id = cell.output_area._bokeh_element_id;\n    const server_id = cell.output_area._bokeh_server_id;\n\n    // Clean up Bokeh references\n    if (id != null) {\n      drop(id)\n    }\n\n    if (server_id !== undefined) {\n      // Clean up Bokeh references\n      const cmd_clean = \"from bokeh.io.state import curstate; print(curstate().uuid_to_server['\" + server_id + \"'].get_sessions()[0].document.roots[0]._id)\";\n      cell.notebook.kernel.execute(cmd_clean, {\n        iopub: {\n          output: function(msg) {\n            const id = msg.content.text.trim()\n            drop(id)\n          }\n        }\n      });\n      // Destroy server and session\n      const cmd_destroy = \"import bokeh.io.notebook as ion; ion.destroy_server('\" + server_id + \"')\";\n      cell.notebook.kernel.execute(cmd_destroy);\n    }\n  }\n\n  /**\n   * Handle when a new output is added\n   */\n  function handleAddOutput(event, handle) {\n    const output_area = handle.output_area;\n    const output = handle.output;\n\n    // limit handleAddOutput to display_data with EXEC_MIME_TYPE content only\n    if ((output.output_type != \"display_data\") || (!Object.prototype.hasOwnProperty.call(output.data, EXEC_MIME_TYPE))) {\n      return\n    }\n\n    const toinsert = output_area.element.find(\".\" + CLASS_NAME.split(' ')[0]);\n\n    if (output.metadata[EXEC_MIME_TYPE][\"id\"] !== undefined) {\n      toinsert[toinsert.length - 1].firstChild.textContent = output.data[JS_MIME_TYPE];\n      // store reference to embed id on output_area\n      output_area._bokeh_element_id = output.metadata[EXEC_MIME_TYPE][\"id\"];\n    }\n    if (output.metadata[EXEC_MIME_TYPE][\"server_id\"] !== undefined) {\n      const bk_div = document.createElement(\"div\");\n      bk_div.innerHTML = output.data[HTML_MIME_TYPE];\n      const script_attrs = bk_div.children[0].attributes;\n      for (let i = 0; i < script_attrs.length; i++) {\n        toinsert[toinsert.length - 1].firstChild.setAttribute(script_attrs[i].name, script_attrs[i].value);\n        toinsert[toinsert.length - 1].firstChild.textContent = bk_div.children[0].textContent\n      }\n      // store reference to server id on output_area\n      output_area._bokeh_server_id = output.metadata[EXEC_MIME_TYPE][\"server_id\"];\n    }\n  }\n\n  function register_renderer(events, OutputArea) {\n\n    function append_mime(data, metadata, element) {\n      // create a DOM node to render to\n      const toinsert = this.create_output_subarea(\n        metadata,\n        CLASS_NAME,\n        EXEC_MIME_TYPE\n      );\n      this.keyboard_manager.register_events(toinsert);\n      // Render to node\n      const props = {data: data, metadata: metadata[EXEC_MIME_TYPE]};\n      render(props, toinsert[toinsert.length - 1]);\n      element.append(toinsert);\n      return toinsert\n    }\n\n    /* Handle when an output is cleared or removed */\n    events.on('clear_output.CodeCell', handleClearOutput);\n    events.on('delete.Cell', handleClearOutput);\n\n    /* Handle when a new output is added */\n    events.on('output_added.OutputArea', handleAddOutput);\n\n    /**\n     * Register the mime type and append_mime function with output_area\n     */\n    OutputArea.prototype.register_mime_type(EXEC_MIME_TYPE, append_mime, {\n      /* Is output safe? */\n      safe: true,\n      /* Index of renderer in `output_area.display_order` */\n      index: 0\n    });\n  }\n\n  // register the mime type if in Jupyter Notebook environment and previously unregistered\n  if (root.Jupyter !== undefined) {\n    const events = require('base/js/events');\n    const OutputArea = require('notebook/js/outputarea').OutputArea;\n\n    if (OutputArea.prototype.mime_types().indexOf(EXEC_MIME_TYPE) == -1) {\n      register_renderer(events, OutputArea);\n    }\n  }\n  if (typeof (root._bokeh_timeout) === \"undefined\" || force === true) {\n    root._bokeh_timeout = Date.now() + 5000;\n    root._bokeh_failed_load = false;\n  }\n\n  const NB_LOAD_WARNING = {'data': {'text/html':\n     \"<div style='background-color: #fdd'>\\n\"+\n     \"<p>\\n\"+\n     \"BokehJS does not appear to have successfully loaded. If loading BokehJS from CDN, this \\n\"+\n     \"may be due to a slow or bad network connection. Possible fixes:\\n\"+\n     \"</p>\\n\"+\n     \"<ul>\\n\"+\n     \"<li>re-rerun `output_notebook()` to attempt to load from CDN again, or</li>\\n\"+\n     \"<li>use INLINE resources instead, as so:</li>\\n\"+\n     \"</ul>\\n\"+\n     \"<code>\\n\"+\n     \"from bokeh.resources import INLINE\\n\"+\n     \"output_notebook(resources=INLINE)\\n\"+\n     \"</code>\\n\"+\n     \"</div>\"}};\n\n  function display_loaded(error = null) {\n    const el = document.getElementById(\"be1b5e38-af05-424d-87a4-44ed46f69177\");\n    if (el != null) {\n      const html = (() => {\n        if (typeof root.Bokeh === \"undefined\") {\n          if (error == null) {\n            return \"BokehJS is loading ...\";\n          } else {\n            return \"BokehJS failed to load.\";\n          }\n        } else {\n          const prefix = `BokehJS ${root.Bokeh.version}`;\n          if (error == null) {\n            return `${prefix} successfully loaded.`;\n          } else {\n            return `${prefix} <b>encountered errors</b> while loading and may not function as expected.`;\n          }\n        }\n      })();\n      el.innerHTML = html;\n\n      if (error != null) {\n        const wrapper = document.createElement(\"div\");\n        wrapper.style.overflow = \"auto\";\n        wrapper.style.height = \"5em\";\n        wrapper.style.resize = \"vertical\";\n        const content = document.createElement(\"div\");\n        content.style.fontFamily = \"monospace\";\n        content.style.whiteSpace = \"pre-wrap\";\n        content.style.backgroundColor = \"rgb(255, 221, 221)\";\n        content.textContent = error.stack ?? error.toString();\n        wrapper.append(content);\n        el.append(wrapper);\n      }\n    } else if (Date.now() < root._bokeh_timeout) {\n      setTimeout(() => display_loaded(error), 100);\n    }\n  }\n\n  function run_callbacks() {\n    try {\n      root._bokeh_onload_callbacks.forEach(function(callback) {\n        if (callback != null)\n          callback();\n      });\n    } finally {\n      delete root._bokeh_onload_callbacks\n    }\n    console.debug(\"Bokeh: all callbacks have finished\");\n  }\n\n  function load_libs(css_urls, js_urls, callback) {\n    if (css_urls == null) css_urls = [];\n    if (js_urls == null) js_urls = [];\n\n    root._bokeh_onload_callbacks.push(callback);\n    if (root._bokeh_is_loading > 0) {\n      console.debug(\"Bokeh: BokehJS is being loaded, scheduling callback at\", now());\n      return null;\n    }\n    if (js_urls == null || js_urls.length === 0) {\n      run_callbacks();\n      return null;\n    }\n    console.debug(\"Bokeh: BokehJS not loaded, scheduling load and callback at\", now());\n    root._bokeh_is_loading = css_urls.length + js_urls.length;\n\n    function on_load() {\n      root._bokeh_is_loading--;\n      if (root._bokeh_is_loading === 0) {\n        console.debug(\"Bokeh: all BokehJS libraries/stylesheets loaded\");\n        run_callbacks()\n      }\n    }\n\n    function on_error(url) {\n      console.error(\"failed to load \" + url);\n    }\n\n    for (let i = 0; i < css_urls.length; i++) {\n      const url = css_urls[i];\n      const element = document.createElement(\"link\");\n      element.onload = on_load;\n      element.onerror = on_error.bind(null, url);\n      element.rel = \"stylesheet\";\n      element.type = \"text/css\";\n      element.href = url;\n      console.debug(\"Bokeh: injecting link tag for BokehJS stylesheet: \", url);\n      document.body.appendChild(element);\n    }\n\n    for (let i = 0; i < js_urls.length; i++) {\n      const url = js_urls[i];\n      const element = document.createElement('script');\n      element.onload = on_load;\n      element.onerror = on_error.bind(null, url);\n      element.async = false;\n      element.src = url;\n      console.debug(\"Bokeh: injecting script tag for BokehJS library: \", url);\n      document.head.appendChild(element);\n    }\n  };\n\n  function inject_raw_css(css) {\n    const element = document.createElement(\"style\");\n    element.appendChild(document.createTextNode(css));\n    document.body.appendChild(element);\n  }\n\n  const js_urls = [\"https://cdn.bokeh.org/bokeh/release/bokeh-3.4.2.min.js\", \"https://cdn.bokeh.org/bokeh/release/bokeh-gl-3.4.2.min.js\", \"https://cdn.bokeh.org/bokeh/release/bokeh-widgets-3.4.2.min.js\", \"https://cdn.bokeh.org/bokeh/release/bokeh-tables-3.4.2.min.js\", \"https://cdn.bokeh.org/bokeh/release/bokeh-mathjax-3.4.2.min.js\"];\n  const css_urls = [];\n\n  const inline_js = [    function(Bokeh) {\n      Bokeh.set_log_level(\"info\");\n    },\nfunction(Bokeh) {\n    }\n  ];\n\n  function run_inline_js() {\n    if (root.Bokeh !== undefined || force === true) {\n      try {\n            for (let i = 0; i < inline_js.length; i++) {\n      inline_js[i].call(root, root.Bokeh);\n    }\n\n      } catch (error) {display_loaded(error);throw error;\n      }if (force === true) {\n        display_loaded();\n      }} else if (Date.now() < root._bokeh_timeout) {\n      setTimeout(run_inline_js, 100);\n    } else if (!root._bokeh_failed_load) {\n      console.log(\"Bokeh: BokehJS failed to load within specified timeout.\");\n      root._bokeh_failed_load = true;\n    } else if (force !== true) {\n      const cell = $(document.getElementById(\"be1b5e38-af05-424d-87a4-44ed46f69177\")).parents('.cell').data().cell;\n      cell.output_area.append_execute_result(NB_LOAD_WARNING)\n    }\n  }\n\n  if (root._bokeh_is_loading === 0) {\n    console.debug(\"Bokeh: BokehJS loaded, going straight to plotting\");\n    run_inline_js();\n  } else {\n    load_libs(css_urls, js_urls, function() {\n      console.debug(\"Bokeh: BokehJS plotting callback run at\", now());\n      run_inline_js();\n    });\n  }\n}(window));",
      "application/vnd.bokehjs_load.v0+json": ""
     },
     "metadata": {},
     "output_type": "display_data"
    }
   ],
   "source": [
    "from bokeh.plotting import figure, show\n",
    "from bokeh.io import output_notebook\n",
    "output_notebook()"
   ]
  },
  {
   "cell_type": "code",
   "execution_count": 9,
   "id": "b5689380-0103-4172-bb52-bdfbe0da63c9",
   "metadata": {},
   "outputs": [
    {
     "data": {
      "text/html": [
       "\n",
       "  <div id=\"c98fde9d-40a3-4144-a9b5-14acc994e124\" data-root-id=\"p1043\" style=\"display: contents;\"></div>\n"
      ]
     },
     "metadata": {},
     "output_type": "display_data"
    },
    {
     "data": {
      "application/javascript": "(function(root) {\n  function embed_document(root) {\n  const docs_json = {\"d1c1dd72-ba8d-494c-ab23-dc873a1acbdc\":{\"version\":\"3.4.2\",\"title\":\"Bokeh Application\",\"roots\":[{\"type\":\"object\",\"name\":\"Figure\",\"id\":\"p1043\",\"attributes\":{\"width\":400,\"height\":400,\"x_range\":{\"type\":\"object\",\"name\":\"DataRange1d\",\"id\":\"p1044\"},\"y_range\":{\"type\":\"object\",\"name\":\"DataRange1d\",\"id\":\"p1045\"},\"x_scale\":{\"type\":\"object\",\"name\":\"LinearScale\",\"id\":\"p1053\"},\"y_scale\":{\"type\":\"object\",\"name\":\"LinearScale\",\"id\":\"p1054\"},\"title\":{\"type\":\"object\",\"name\":\"Title\",\"id\":\"p1046\",\"attributes\":{\"text\":\"Distribution of simulated dice rolls\"}},\"renderers\":[{\"type\":\"object\",\"name\":\"GlyphRenderer\",\"id\":\"p1082\",\"attributes\":{\"data_source\":{\"type\":\"object\",\"name\":\"ColumnDataSource\",\"id\":\"p1076\",\"attributes\":{\"selected\":{\"type\":\"object\",\"name\":\"Selection\",\"id\":\"p1077\",\"attributes\":{\"indices\":[],\"line_indices\":[]}},\"selection_policy\":{\"type\":\"object\",\"name\":\"UnionRenderers\",\"id\":\"p1078\"},\"data\":{\"type\":\"map\",\"entries\":[[\"top\",[5,3,3,3,2,4]],[\"left\",[0.5,1.5,2.5,3.5,4.5,5.5]],[\"right\",[1.5,2.5,3.5,4.5,5.5,6.5]]]}}},\"view\":{\"type\":\"object\",\"name\":\"CDSView\",\"id\":\"p1083\",\"attributes\":{\"filter\":{\"type\":\"object\",\"name\":\"AllIndices\",\"id\":\"p1084\"}}},\"glyph\":{\"type\":\"object\",\"name\":\"Quad\",\"id\":\"p1079\",\"attributes\":{\"left\":{\"type\":\"field\",\"field\":\"left\"},\"right\":{\"type\":\"field\",\"field\":\"right\"},\"bottom\":{\"type\":\"value\",\"value\":0},\"top\":{\"type\":\"field\",\"field\":\"top\"},\"line_color\":{\"type\":\"value\",\"value\":\"white\"},\"line_alpha\":{\"type\":\"value\",\"value\":0.6},\"fill_color\":{\"type\":\"value\",\"value\":\"navy\"},\"fill_alpha\":{\"type\":\"value\",\"value\":0.6},\"hatch_alpha\":{\"type\":\"value\",\"value\":0.6}}},\"nonselection_glyph\":{\"type\":\"object\",\"name\":\"Quad\",\"id\":\"p1080\",\"attributes\":{\"left\":{\"type\":\"field\",\"field\":\"left\"},\"right\":{\"type\":\"field\",\"field\":\"right\"},\"bottom\":{\"type\":\"value\",\"value\":0},\"top\":{\"type\":\"field\",\"field\":\"top\"},\"line_color\":{\"type\":\"value\",\"value\":\"white\"},\"line_alpha\":{\"type\":\"value\",\"value\":0.1},\"fill_color\":{\"type\":\"value\",\"value\":\"navy\"},\"fill_alpha\":{\"type\":\"value\",\"value\":0.1},\"hatch_alpha\":{\"type\":\"value\",\"value\":0.1}}},\"muted_glyph\":{\"type\":\"object\",\"name\":\"Quad\",\"id\":\"p1081\",\"attributes\":{\"left\":{\"type\":\"field\",\"field\":\"left\"},\"right\":{\"type\":\"field\",\"field\":\"right\"},\"bottom\":{\"type\":\"value\",\"value\":0},\"top\":{\"type\":\"field\",\"field\":\"top\"},\"line_color\":{\"type\":\"value\",\"value\":\"white\"},\"line_alpha\":{\"type\":\"value\",\"value\":0.2},\"fill_color\":{\"type\":\"value\",\"value\":\"navy\"},\"fill_alpha\":{\"type\":\"value\",\"value\":0.2},\"hatch_alpha\":{\"type\":\"value\",\"value\":0.2}}}}}],\"toolbar\":{\"type\":\"object\",\"name\":\"Toolbar\",\"id\":\"p1052\",\"attributes\":{\"tools\":[{\"type\":\"object\",\"name\":\"PanTool\",\"id\":\"p1065\"},{\"type\":\"object\",\"name\":\"WheelZoomTool\",\"id\":\"p1066\",\"attributes\":{\"renderers\":\"auto\"}},{\"type\":\"object\",\"name\":\"BoxZoomTool\",\"id\":\"p1067\",\"attributes\":{\"overlay\":{\"type\":\"object\",\"name\":\"BoxAnnotation\",\"id\":\"p1068\",\"attributes\":{\"syncable\":false,\"level\":\"overlay\",\"visible\":false,\"left\":{\"type\":\"number\",\"value\":\"nan\"},\"right\":{\"type\":\"number\",\"value\":\"nan\"},\"top\":{\"type\":\"number\",\"value\":\"nan\"},\"bottom\":{\"type\":\"number\",\"value\":\"nan\"},\"left_units\":\"canvas\",\"right_units\":\"canvas\",\"top_units\":\"canvas\",\"bottom_units\":\"canvas\",\"line_color\":\"black\",\"line_alpha\":1.0,\"line_width\":2,\"line_dash\":[4,4],\"fill_color\":\"lightgrey\",\"fill_alpha\":0.5}}}},{\"type\":\"object\",\"name\":\"SaveTool\",\"id\":\"p1073\"},{\"type\":\"object\",\"name\":\"ResetTool\",\"id\":\"p1074\"},{\"type\":\"object\",\"name\":\"HelpTool\",\"id\":\"p1075\"}]}},\"left\":[{\"type\":\"object\",\"name\":\"LinearAxis\",\"id\":\"p1060\",\"attributes\":{\"ticker\":{\"type\":\"object\",\"name\":\"BasicTicker\",\"id\":\"p1061\",\"attributes\":{\"mantissas\":[1,2,5]}},\"formatter\":{\"type\":\"object\",\"name\":\"BasicTickFormatter\",\"id\":\"p1062\"},\"axis_label\":\"Count\",\"major_label_policy\":{\"type\":\"object\",\"name\":\"AllLabels\",\"id\":\"p1063\"}}}],\"below\":[{\"type\":\"object\",\"name\":\"LinearAxis\",\"id\":\"p1055\",\"attributes\":{\"ticker\":{\"type\":\"object\",\"name\":\"BasicTicker\",\"id\":\"p1056\",\"attributes\":{\"mantissas\":[1,2,5]}},\"formatter\":{\"type\":\"object\",\"name\":\"BasicTickFormatter\",\"id\":\"p1057\"},\"axis_label\":\"Outcome\",\"major_label_policy\":{\"type\":\"object\",\"name\":\"AllLabels\",\"id\":\"p1058\"}}}],\"center\":[{\"type\":\"object\",\"name\":\"Grid\",\"id\":\"p1059\",\"attributes\":{\"axis\":{\"id\":\"p1055\"}}},{\"type\":\"object\",\"name\":\"Grid\",\"id\":\"p1064\",\"attributes\":{\"dimension\":1,\"axis\":{\"id\":\"p1060\"}}}]}}]}};\n  const render_items = [{\"docid\":\"d1c1dd72-ba8d-494c-ab23-dc873a1acbdc\",\"roots\":{\"p1043\":\"c98fde9d-40a3-4144-a9b5-14acc994e124\"},\"root_ids\":[\"p1043\"]}];\n  void root.Bokeh.embed.embed_items_notebook(docs_json, render_items);\n  }\n  if (root.Bokeh !== undefined) {\n    embed_document(root);\n  } else {\n    let attempts = 0;\n    const timer = setInterval(function(root) {\n      if (root.Bokeh !== undefined) {\n        clearInterval(timer);\n        embed_document(root);\n      } else {\n        attempts++;\n        if (attempts > 100) {\n          clearInterval(timer);\n          console.log(\"Bokeh: ERROR: Unable to run BokehJS code because BokehJS library is missing\");\n        }\n      }\n    }, 10, root)\n  }\n})(window);",
      "application/vnd.bokehjs_exec.v0+json": ""
     },
     "metadata": {
      "application/vnd.bokehjs_exec.v0+json": {
       "id": "p1043"
      }
     },
     "output_type": "display_data"
    }
   ],
   "source": [
    "p = figure(title='Distribution of simulated dice rolls',\n",
    "           x_axis_label='Outcome',\n",
    "           y_axis_label='Count',\n",
    "           width = 400,\n",
    "           height = 400)\n",
    "\n",
    "p.quad(top=counts, \n",
    "       bottom=0, \n",
    "       left=edges[:-1], \n",
    "       right=edges[1:],\n",
    "       fill_color=\"navy\", \n",
    "       line_color=\"white\", \n",
    "       alpha=0.6)\n",
    "\n",
    "show(p)"
   ]
  },
  {
   "cell_type": "markdown",
   "id": "1ec8e390-d17e-4dba-8b2f-a829e656a07b",
   "metadata": {},
   "source": [
    "First, let's take a look at our histogram. It shows us that we rolled 1 five times. We rolled 2 three times. We rolled 6 four times. Etc.\n",
    "\n",
    "Did you expect that? Shouldn't each roll be equally likely? It turns out that, when you repeat an experiment a small number of times, it is common to find something like this. However, if you repeat the experiment many times, the true probabilities will be revealed. If you could run the experiment an infinite number of times, you would find that each die roll appears the same number of times.\n",
    "\n",
    "Okay, now let's talk about the code. The only line of code that should appear new to you is:\n",
    "```python\n",
    "p.quad(top=counts, \n",
    "       bottom=0, \n",
    "       left=edges[:-1], \n",
    "       right=edges[1:],\n",
    "       fill_color=\"navy\", \n",
    "       line_color=\"white\", \n",
    "       alpha=0.6)\n",
    "```\n",
    "\n",
    "In Bokeh, the \"quad\" method draws a quadrilateral (specifically, a rectangle). Notice the arguments. We tell Bokeh the top, bottom, left, and right of the rectangle. The top is the count. The bottom is always 0. And for the left and right, we use the edges. This is why there is always 1 more edge than bins. To draw 1 rectangle, we need 2 edges. To draw 2 rectangles, we need 3 edges. And to draw _n_ rectangles, we need _n+1_ edges."
   ]
  },
  {
   "cell_type": "markdown",
   "id": "e92b936b-8b4a-4372-972d-f8026143e777",
   "metadata": {},
   "source": [
    "##### Putting all the code together"
   ]
  },
  {
   "cell_type": "markdown",
   "id": "1e0bccf8-dcf1-408e-92cf-0f6bffa0d566",
   "metadata": {},
   "source": [
    "In this section, I copied and pasted all of the code from above into one cell. That will allow you to see everything in one place. I also changed the number of rolls from 20 to 1,000,000.\n",
    "\n",
    "For fun, feel free to experiment with the number of rolls. See what happens as you increase the number of rolls. Choose a large number, like 1,000,000."
   ]
  },
  {
   "cell_type": "code",
   "execution_count": 11,
   "id": "fb0519e0-557f-412a-a68c-a2cd579bc884",
   "metadata": {},
   "outputs": [
    {
     "data": {
      "text/html": [
       "\n",
       "  <div id=\"e2a4618b-c70f-47c7-991b-0af99438dc35\" data-root-id=\"p1085\" style=\"display: contents;\"></div>\n"
      ]
     },
     "metadata": {},
     "output_type": "display_data"
    },
    {
     "data": {
      "application/javascript": "(function(root) {\n  function embed_document(root) {\n  const docs_json = {\"c54cfd2c-5434-48cc-a5ed-c1722c174c06\":{\"version\":\"3.4.2\",\"title\":\"Bokeh Application\",\"roots\":[{\"type\":\"object\",\"name\":\"Figure\",\"id\":\"p1085\",\"attributes\":{\"width\":400,\"height\":400,\"x_range\":{\"type\":\"object\",\"name\":\"DataRange1d\",\"id\":\"p1086\"},\"y_range\":{\"type\":\"object\",\"name\":\"DataRange1d\",\"id\":\"p1087\"},\"x_scale\":{\"type\":\"object\",\"name\":\"LinearScale\",\"id\":\"p1095\"},\"y_scale\":{\"type\":\"object\",\"name\":\"LinearScale\",\"id\":\"p1096\"},\"title\":{\"type\":\"object\",\"name\":\"Title\",\"id\":\"p1088\",\"attributes\":{\"text\":\"Distribution of simulated dice rolls\"}},\"renderers\":[{\"type\":\"object\",\"name\":\"GlyphRenderer\",\"id\":\"p1124\",\"attributes\":{\"data_source\":{\"type\":\"object\",\"name\":\"ColumnDataSource\",\"id\":\"p1118\",\"attributes\":{\"selected\":{\"type\":\"object\",\"name\":\"Selection\",\"id\":\"p1119\",\"attributes\":{\"indices\":[],\"line_indices\":[]}},\"selection_policy\":{\"type\":\"object\",\"name\":\"UnionRenderers\",\"id\":\"p1120\"},\"data\":{\"type\":\"map\",\"entries\":[[\"top\",[166564,166871,166253,167094,166977,166241]],[\"left\",[0.5,1.5,2.5,3.5,4.5,5.5]],[\"right\",[1.5,2.5,3.5,4.5,5.5,6.5]]]}}},\"view\":{\"type\":\"object\",\"name\":\"CDSView\",\"id\":\"p1125\",\"attributes\":{\"filter\":{\"type\":\"object\",\"name\":\"AllIndices\",\"id\":\"p1126\"}}},\"glyph\":{\"type\":\"object\",\"name\":\"Quad\",\"id\":\"p1121\",\"attributes\":{\"left\":{\"type\":\"field\",\"field\":\"left\"},\"right\":{\"type\":\"field\",\"field\":\"right\"},\"bottom\":{\"type\":\"value\",\"value\":0},\"top\":{\"type\":\"field\",\"field\":\"top\"},\"line_color\":{\"type\":\"value\",\"value\":\"white\"},\"line_alpha\":{\"type\":\"value\",\"value\":0.6},\"fill_color\":{\"type\":\"value\",\"value\":\"navy\"},\"fill_alpha\":{\"type\":\"value\",\"value\":0.6},\"hatch_alpha\":{\"type\":\"value\",\"value\":0.6}}},\"nonselection_glyph\":{\"type\":\"object\",\"name\":\"Quad\",\"id\":\"p1122\",\"attributes\":{\"left\":{\"type\":\"field\",\"field\":\"left\"},\"right\":{\"type\":\"field\",\"field\":\"right\"},\"bottom\":{\"type\":\"value\",\"value\":0},\"top\":{\"type\":\"field\",\"field\":\"top\"},\"line_color\":{\"type\":\"value\",\"value\":\"white\"},\"line_alpha\":{\"type\":\"value\",\"value\":0.1},\"fill_color\":{\"type\":\"value\",\"value\":\"navy\"},\"fill_alpha\":{\"type\":\"value\",\"value\":0.1},\"hatch_alpha\":{\"type\":\"value\",\"value\":0.1}}},\"muted_glyph\":{\"type\":\"object\",\"name\":\"Quad\",\"id\":\"p1123\",\"attributes\":{\"left\":{\"type\":\"field\",\"field\":\"left\"},\"right\":{\"type\":\"field\",\"field\":\"right\"},\"bottom\":{\"type\":\"value\",\"value\":0},\"top\":{\"type\":\"field\",\"field\":\"top\"},\"line_color\":{\"type\":\"value\",\"value\":\"white\"},\"line_alpha\":{\"type\":\"value\",\"value\":0.2},\"fill_color\":{\"type\":\"value\",\"value\":\"navy\"},\"fill_alpha\":{\"type\":\"value\",\"value\":0.2},\"hatch_alpha\":{\"type\":\"value\",\"value\":0.2}}}}}],\"toolbar\":{\"type\":\"object\",\"name\":\"Toolbar\",\"id\":\"p1094\",\"attributes\":{\"tools\":[{\"type\":\"object\",\"name\":\"PanTool\",\"id\":\"p1107\"},{\"type\":\"object\",\"name\":\"WheelZoomTool\",\"id\":\"p1108\",\"attributes\":{\"renderers\":\"auto\"}},{\"type\":\"object\",\"name\":\"BoxZoomTool\",\"id\":\"p1109\",\"attributes\":{\"overlay\":{\"type\":\"object\",\"name\":\"BoxAnnotation\",\"id\":\"p1110\",\"attributes\":{\"syncable\":false,\"level\":\"overlay\",\"visible\":false,\"left\":{\"type\":\"number\",\"value\":\"nan\"},\"right\":{\"type\":\"number\",\"value\":\"nan\"},\"top\":{\"type\":\"number\",\"value\":\"nan\"},\"bottom\":{\"type\":\"number\",\"value\":\"nan\"},\"left_units\":\"canvas\",\"right_units\":\"canvas\",\"top_units\":\"canvas\",\"bottom_units\":\"canvas\",\"line_color\":\"black\",\"line_alpha\":1.0,\"line_width\":2,\"line_dash\":[4,4],\"fill_color\":\"lightgrey\",\"fill_alpha\":0.5}}}},{\"type\":\"object\",\"name\":\"SaveTool\",\"id\":\"p1115\"},{\"type\":\"object\",\"name\":\"ResetTool\",\"id\":\"p1116\"},{\"type\":\"object\",\"name\":\"HelpTool\",\"id\":\"p1117\"}]}},\"left\":[{\"type\":\"object\",\"name\":\"LinearAxis\",\"id\":\"p1102\",\"attributes\":{\"ticker\":{\"type\":\"object\",\"name\":\"BasicTicker\",\"id\":\"p1103\",\"attributes\":{\"mantissas\":[1,2,5]}},\"formatter\":{\"type\":\"object\",\"name\":\"BasicTickFormatter\",\"id\":\"p1104\"},\"axis_label\":\"Count\",\"major_label_policy\":{\"type\":\"object\",\"name\":\"AllLabels\",\"id\":\"p1105\"}}}],\"below\":[{\"type\":\"object\",\"name\":\"LinearAxis\",\"id\":\"p1097\",\"attributes\":{\"ticker\":{\"type\":\"object\",\"name\":\"BasicTicker\",\"id\":\"p1098\",\"attributes\":{\"mantissas\":[1,2,5]}},\"formatter\":{\"type\":\"object\",\"name\":\"BasicTickFormatter\",\"id\":\"p1099\"},\"axis_label\":\"Outcome\",\"major_label_policy\":{\"type\":\"object\",\"name\":\"AllLabels\",\"id\":\"p1100\"}}}],\"center\":[{\"type\":\"object\",\"name\":\"Grid\",\"id\":\"p1101\",\"attributes\":{\"axis\":{\"id\":\"p1097\"}}},{\"type\":\"object\",\"name\":\"Grid\",\"id\":\"p1106\",\"attributes\":{\"dimension\":1,\"axis\":{\"id\":\"p1102\"}}}]}}]}};\n  const render_items = [{\"docid\":\"c54cfd2c-5434-48cc-a5ed-c1722c174c06\",\"roots\":{\"p1085\":\"e2a4618b-c70f-47c7-991b-0af99438dc35\"},\"root_ids\":[\"p1085\"]}];\n  void root.Bokeh.embed.embed_items_notebook(docs_json, render_items);\n  }\n  if (root.Bokeh !== undefined) {\n    embed_document(root);\n  } else {\n    let attempts = 0;\n    const timer = setInterval(function(root) {\n      if (root.Bokeh !== undefined) {\n        clearInterval(timer);\n        embed_document(root);\n      } else {\n        attempts++;\n        if (attempts > 100) {\n          clearInterval(timer);\n          console.log(\"Bokeh: ERROR: Unable to run BokehJS code because BokehJS library is missing\");\n        }\n      }\n    }, 10, root)\n  }\n})(window);",
      "application/vnd.bokehjs_exec.v0+json": ""
     },
     "metadata": {
      "application/vnd.bokehjs_exec.v0+json": {
       "id": "p1085"
      }
     },
     "output_type": "display_data"
    }
   ],
   "source": [
    "# This line of code ensures that we always get the same random result.\n",
    "# This makes the experiment \"repeatable\". Comment this line out if you\n",
    "# want a different result\n",
    "np.random.seed(3)\n",
    "\n",
    "# The number of simulated die rolls\n",
    "NUM_ROLLS = 1000000\n",
    "\n",
    "# Run the experiment! Simulate NUM_ROLLS rolls of the die.\n",
    "mydata = np.random.randint(1, 7, NUM_ROLLS).tolist()\n",
    "\n",
    "# The number of bins for our histogram.\n",
    "numbins = 6\n",
    "\n",
    "# The width of each bin in our histogram.\n",
    "binwidth = 1\n",
    "\n",
    "# The bin edges.\n",
    "edges = [(i - 0.5) for i in range(1,8)]\n",
    "\n",
    "# Create a list to store the counts of our die rolls\n",
    "counts = [0] * numbins\n",
    "\n",
    "# Iterate over the data and count the number of 1's, 2's, etc.\n",
    "for x in mydata:\n",
    "    counts[x-1] = counts[x-1] + 1\n",
    "\n",
    "# Create a figure in Bokeh\n",
    "p = figure(title='Distribution of simulated dice rolls',\n",
    "           x_axis_label='Outcome', y_axis_label='Count',\n",
    "           width = 400, height = 400)\n",
    "\n",
    "# Draw one rectangle for each bin\n",
    "p.quad(top=counts, bottom=0, \n",
    "       left=edges[:-1], right=edges[1:],\n",
    "       fill_color=\"navy\", line_color=\"white\", alpha=0.6)\n",
    "\n",
    "show(p)"
   ]
  },
  {
   "cell_type": "markdown",
   "id": "82d93fd7-c8f4-4f33-a359-9fe93f818b1b",
   "metadata": {},
   "source": [
    "### An easier way to bin your data"
   ]
  },
  {
   "cell_type": "markdown",
   "id": "1218e4ab-344a-4f6f-998a-c8f3a55f1d34",
   "metadata": {},
   "source": [
    "As with everything in programming, there's usually a built-in function to accomplish your task. It turns out that there's a really good histogram function in the library _NumPy_. It doesn't generate a plot, but it computes the edges and counts the data for you. Why didn't we tell you that above? Because we wanted you to understand what's going on. And because it's fun to torture you. ;-)\n",
    "\n",
    "Let's run the numpy histogram function on our data in mydata and see what it returns. First, run the cell below. It's a copy of the code from above that generates 20 die rolls."
   ]
  },
  {
   "cell_type": "code",
   "execution_count": 12,
   "id": "86fe083a-64a0-4df8-ba66-0a673563057e",
   "metadata": {},
   "outputs": [
    {
     "data": {
      "text/plain": [
       "[3, 1, 2, 4, 1, 1, 1, 6, 6, 4, 3, 4, 2, 2, 3, 6, 1, 5, 5, 6]"
      ]
     },
     "execution_count": 12,
     "metadata": {},
     "output_type": "execute_result"
    }
   ],
   "source": [
    "import numpy as np\n",
    "np.random.seed(3)\n",
    "\n",
    "NUM_ROLLS = 20\n",
    "\n",
    "mydata = np.random.randint(1, 7, NUM_ROLLS).tolist()\n",
    "mydata"
   ]
  },
  {
   "cell_type": "markdown",
   "id": "d0b48551-60e0-4398-ac16-8f2b795c68d1",
   "metadata": {},
   "source": [
    "Now, try out the following function and see what you think:"
   ]
  },
  {
   "cell_type": "code",
   "execution_count": 13,
   "id": "18b848a3-2821-4030-8497-473a0e611bbb",
   "metadata": {},
   "outputs": [
    {
     "data": {
      "text/plain": [
       "(array([5, 3, 3, 3, 2, 4], dtype=int64),\n",
       " array([0.5, 1.5, 2.5, 3.5, 4.5, 5.5, 6.5]))"
      ]
     },
     "execution_count": 13,
     "metadata": {},
     "output_type": "execute_result"
    }
   ],
   "source": [
    "hist = np.histogram(mydata, bins=[0.5, 1.5, 2.5, 3.5, 4.5, 5.5, 6.5])\n",
    "hist"
   ]
  },
  {
   "cell_type": "markdown",
   "id": "2c9a570a-7140-4fb0-b998-5ebc0a44f9dc",
   "metadata": {},
   "source": [
    "We gave the function `numpy.histogram` our data. We also gave it a list of edges. It return a _tuple_ containing two lists. The first list contains the counts. The second list contains the edges.\n",
    "\n",
    "Why did it give us back the edges if we passed it the edges as an argument? Because `numpy.histogram` can also take as an argument the number of bins you want. It will then compute the edges for you. For example, try the following code:"
   ]
  },
  {
   "cell_type": "code",
   "execution_count": 14,
   "id": "9d72253f-35ae-4aab-9eb8-a35305c887c5",
   "metadata": {},
   "outputs": [
    {
     "data": {
      "text/plain": [
       "(array([5, 3, 3, 3, 2, 4], dtype=int64),\n",
       " array([1.        , 1.83333333, 2.66666667, 3.5       , 4.33333333,\n",
       "        5.16666667, 6.        ]))"
      ]
     },
     "execution_count": 14,
     "metadata": {},
     "output_type": "execute_result"
    }
   ],
   "source": [
    "hist = np.histogram(mydata, bins=6)\n",
    "hist"
   ]
  },
  {
   "cell_type": "markdown",
   "id": "fcde8157-ff4c-48a0-9909-0db9d144e0a2",
   "metadata": {},
   "source": [
    "In the above code, we told `numpy.histogram` that we want 6 bins. It then computed those and returned them to us. Let's plot the resulting histogram."
   ]
  },
  {
   "cell_type": "code",
   "execution_count": 15,
   "id": "e7e42a42-5fa6-4a58-8f71-b8e0ebeda504",
   "metadata": {},
   "outputs": [
    {
     "data": {
      "text/html": [
       "\n",
       "  <div id=\"b4103f52-d1ab-4acd-9b55-2beddadd0828\" data-root-id=\"p1127\" style=\"display: contents;\"></div>\n"
      ]
     },
     "metadata": {},
     "output_type": "display_data"
    },
    {
     "data": {
      "application/javascript": "(function(root) {\n  function embed_document(root) {\n  const docs_json = {\"e2658732-293b-44ff-9171-3b4d78e2e399\":{\"version\":\"3.4.2\",\"title\":\"Bokeh Application\",\"roots\":[{\"type\":\"object\",\"name\":\"Figure\",\"id\":\"p1127\",\"attributes\":{\"width\":400,\"height\":400,\"x_range\":{\"type\":\"object\",\"name\":\"DataRange1d\",\"id\":\"p1128\"},\"y_range\":{\"type\":\"object\",\"name\":\"DataRange1d\",\"id\":\"p1129\"},\"x_scale\":{\"type\":\"object\",\"name\":\"LinearScale\",\"id\":\"p1137\"},\"y_scale\":{\"type\":\"object\",\"name\":\"LinearScale\",\"id\":\"p1138\"},\"title\":{\"type\":\"object\",\"name\":\"Title\",\"id\":\"p1130\",\"attributes\":{\"text\":\"Distribution of simulated dice rolls\"}},\"renderers\":[{\"type\":\"object\",\"name\":\"GlyphRenderer\",\"id\":\"p1166\",\"attributes\":{\"data_source\":{\"type\":\"object\",\"name\":\"ColumnDataSource\",\"id\":\"p1160\",\"attributes\":{\"selected\":{\"type\":\"object\",\"name\":\"Selection\",\"id\":\"p1161\",\"attributes\":{\"indices\":[],\"line_indices\":[]}},\"selection_policy\":{\"type\":\"object\",\"name\":\"UnionRenderers\",\"id\":\"p1162\"},\"data\":{\"type\":\"map\",\"entries\":[[\"top\",{\"type\":\"ndarray\",\"array\":{\"type\":\"bytes\",\"data\":\"BQAAAAMAAAADAAAAAwAAAAIAAAAEAAAA\"},\"shape\":[6],\"dtype\":\"int32\",\"order\":\"little\"}],[\"left\",{\"type\":\"ndarray\",\"array\":{\"type\":\"bytes\",\"data\":\"AAAAAAAA8D9WVVVVVVX9P1ZVVVVVVQVAAAAAAAAADEBWVVVVVVURQKuqqqqqqhRA\"},\"shape\":[6],\"dtype\":\"float64\",\"order\":\"little\"}],[\"right\",{\"type\":\"ndarray\",\"array\":{\"type\":\"bytes\",\"data\":\"VlVVVVVV/T9WVVVVVVUFQAAAAAAAAAxAVlVVVVVVEUCrqqqqqqoUQAAAAAAAABhA\"},\"shape\":[6],\"dtype\":\"float64\",\"order\":\"little\"}]]}}},\"view\":{\"type\":\"object\",\"name\":\"CDSView\",\"id\":\"p1167\",\"attributes\":{\"filter\":{\"type\":\"object\",\"name\":\"AllIndices\",\"id\":\"p1168\"}}},\"glyph\":{\"type\":\"object\",\"name\":\"Quad\",\"id\":\"p1163\",\"attributes\":{\"left\":{\"type\":\"field\",\"field\":\"left\"},\"right\":{\"type\":\"field\",\"field\":\"right\"},\"bottom\":{\"type\":\"value\",\"value\":0},\"top\":{\"type\":\"field\",\"field\":\"top\"},\"line_color\":{\"type\":\"value\",\"value\":\"white\"},\"line_alpha\":{\"type\":\"value\",\"value\":0.6},\"fill_color\":{\"type\":\"value\",\"value\":\"navy\"},\"fill_alpha\":{\"type\":\"value\",\"value\":0.6},\"hatch_alpha\":{\"type\":\"value\",\"value\":0.6}}},\"nonselection_glyph\":{\"type\":\"object\",\"name\":\"Quad\",\"id\":\"p1164\",\"attributes\":{\"left\":{\"type\":\"field\",\"field\":\"left\"},\"right\":{\"type\":\"field\",\"field\":\"right\"},\"bottom\":{\"type\":\"value\",\"value\":0},\"top\":{\"type\":\"field\",\"field\":\"top\"},\"line_color\":{\"type\":\"value\",\"value\":\"white\"},\"line_alpha\":{\"type\":\"value\",\"value\":0.1},\"fill_color\":{\"type\":\"value\",\"value\":\"navy\"},\"fill_alpha\":{\"type\":\"value\",\"value\":0.1},\"hatch_alpha\":{\"type\":\"value\",\"value\":0.1}}},\"muted_glyph\":{\"type\":\"object\",\"name\":\"Quad\",\"id\":\"p1165\",\"attributes\":{\"left\":{\"type\":\"field\",\"field\":\"left\"},\"right\":{\"type\":\"field\",\"field\":\"right\"},\"bottom\":{\"type\":\"value\",\"value\":0},\"top\":{\"type\":\"field\",\"field\":\"top\"},\"line_color\":{\"type\":\"value\",\"value\":\"white\"},\"line_alpha\":{\"type\":\"value\",\"value\":0.2},\"fill_color\":{\"type\":\"value\",\"value\":\"navy\"},\"fill_alpha\":{\"type\":\"value\",\"value\":0.2},\"hatch_alpha\":{\"type\":\"value\",\"value\":0.2}}}}}],\"toolbar\":{\"type\":\"object\",\"name\":\"Toolbar\",\"id\":\"p1136\",\"attributes\":{\"tools\":[{\"type\":\"object\",\"name\":\"PanTool\",\"id\":\"p1149\"},{\"type\":\"object\",\"name\":\"WheelZoomTool\",\"id\":\"p1150\",\"attributes\":{\"renderers\":\"auto\"}},{\"type\":\"object\",\"name\":\"BoxZoomTool\",\"id\":\"p1151\",\"attributes\":{\"overlay\":{\"type\":\"object\",\"name\":\"BoxAnnotation\",\"id\":\"p1152\",\"attributes\":{\"syncable\":false,\"level\":\"overlay\",\"visible\":false,\"left\":{\"type\":\"number\",\"value\":\"nan\"},\"right\":{\"type\":\"number\",\"value\":\"nan\"},\"top\":{\"type\":\"number\",\"value\":\"nan\"},\"bottom\":{\"type\":\"number\",\"value\":\"nan\"},\"left_units\":\"canvas\",\"right_units\":\"canvas\",\"top_units\":\"canvas\",\"bottom_units\":\"canvas\",\"line_color\":\"black\",\"line_alpha\":1.0,\"line_width\":2,\"line_dash\":[4,4],\"fill_color\":\"lightgrey\",\"fill_alpha\":0.5}}}},{\"type\":\"object\",\"name\":\"SaveTool\",\"id\":\"p1157\"},{\"type\":\"object\",\"name\":\"ResetTool\",\"id\":\"p1158\"},{\"type\":\"object\",\"name\":\"HelpTool\",\"id\":\"p1159\"}]}},\"left\":[{\"type\":\"object\",\"name\":\"LinearAxis\",\"id\":\"p1144\",\"attributes\":{\"ticker\":{\"type\":\"object\",\"name\":\"BasicTicker\",\"id\":\"p1145\",\"attributes\":{\"mantissas\":[1,2,5]}},\"formatter\":{\"type\":\"object\",\"name\":\"BasicTickFormatter\",\"id\":\"p1146\"},\"axis_label\":\"Count\",\"major_label_policy\":{\"type\":\"object\",\"name\":\"AllLabels\",\"id\":\"p1147\"}}}],\"below\":[{\"type\":\"object\",\"name\":\"LinearAxis\",\"id\":\"p1139\",\"attributes\":{\"ticker\":{\"type\":\"object\",\"name\":\"BasicTicker\",\"id\":\"p1140\",\"attributes\":{\"mantissas\":[1,2,5]}},\"formatter\":{\"type\":\"object\",\"name\":\"BasicTickFormatter\",\"id\":\"p1141\"},\"axis_label\":\"Outcome\",\"major_label_policy\":{\"type\":\"object\",\"name\":\"AllLabels\",\"id\":\"p1142\"}}}],\"center\":[{\"type\":\"object\",\"name\":\"Grid\",\"id\":\"p1143\",\"attributes\":{\"axis\":{\"id\":\"p1139\"}}},{\"type\":\"object\",\"name\":\"Grid\",\"id\":\"p1148\",\"attributes\":{\"dimension\":1,\"axis\":{\"id\":\"p1144\"}}}]}}]}};\n  const render_items = [{\"docid\":\"e2658732-293b-44ff-9171-3b4d78e2e399\",\"roots\":{\"p1127\":\"b4103f52-d1ab-4acd-9b55-2beddadd0828\"},\"root_ids\":[\"p1127\"]}];\n  void root.Bokeh.embed.embed_items_notebook(docs_json, render_items);\n  }\n  if (root.Bokeh !== undefined) {\n    embed_document(root);\n  } else {\n    let attempts = 0;\n    const timer = setInterval(function(root) {\n      if (root.Bokeh !== undefined) {\n        clearInterval(timer);\n        embed_document(root);\n      } else {\n        attempts++;\n        if (attempts > 100) {\n          clearInterval(timer);\n          console.log(\"Bokeh: ERROR: Unable to run BokehJS code because BokehJS library is missing\");\n        }\n      }\n    }, 10, root)\n  }\n})(window);",
      "application/vnd.bokehjs_exec.v0+json": ""
     },
     "metadata": {
      "application/vnd.bokehjs_exec.v0+json": {
       "id": "p1127"
      }
     },
     "output_type": "display_data"
    }
   ],
   "source": [
    "counts = hist[0]\n",
    "edges = hist[1]\n",
    "\n",
    "# Create a figure in Bokeh\n",
    "p = figure(title='Distribution of simulated dice rolls',\n",
    "           x_axis_label='Outcome', y_axis_label='Count',\n",
    "           width = 400, height = 400)\n",
    "\n",
    "# Draw one rectangle for each bin\n",
    "p.quad(top=counts, bottom=0, \n",
    "       left=edges[:-1], right=edges[1:],\n",
    "       fill_color=\"navy\", line_color=\"white\", alpha=0.6)\n",
    "\n",
    "show(p)"
   ]
  },
  {
   "cell_type": "markdown",
   "id": "b57ed9e0-8c13-47db-9bcf-bfa9d2952c80",
   "metadata": {},
   "source": [
    "In the above graph, it's not easy to figure out which bar corresponds to which die roll. That's why I originally created the list of edges myself."
   ]
  },
  {
   "cell_type": "markdown",
   "id": "562a1473-21a1-42ad-bd51-f7cef697d072",
   "metadata": {},
   "source": [
    "**SUMMARY:** The function `numpy.histogram` can compute bins, edges, and counts for you."
   ]
  },
  {
   "cell_type": "markdown",
   "id": "85c2730f-79a0-4353-8d17-e94f801bef4b",
   "metadata": {},
   "source": [
    "## Creating a Histogram in Tableau"
   ]
  },
  {
   "cell_type": "markdown",
   "id": "b595d083-3a46-45fd-adf6-bfa4d8bf676a",
   "metadata": {},
   "source": [
    "Watch this video to learn about histograms in Tableau:\n",
    "\n",
    "https://mediaspace.illinois.edu/media/t/1_oqlcky4c"
   ]
  },
  {
   "cell_type": "markdown",
   "id": "b115ad4f-0c69-4cdd-9790-c8c4be24f866",
   "metadata": {},
   "source": [
    "### References\n",
    "\n",
    "<sup>3</sup> https://www.kaggle.com/samsonqian/college-admissions"
   ]
  }
 ],
 "metadata": {
  "kernelspec": {
   "display_name": "Python 3 (ipykernel)",
   "language": "python",
   "name": "python3"
  },
  "language_info": {
   "codemirror_mode": {
    "name": "ipython",
    "version": 3
   },
   "file_extension": ".py",
   "mimetype": "text/x-python",
   "name": "python",
   "nbconvert_exporter": "python",
   "pygments_lexer": "ipython3",
   "version": "3.11.9"
  }
 },
 "nbformat": 4,
 "nbformat_minor": 5
}
